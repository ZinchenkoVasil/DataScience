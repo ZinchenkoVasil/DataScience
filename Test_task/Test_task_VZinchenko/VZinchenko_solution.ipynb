{
 "cells": [
  {
   "cell_type": "code",
   "execution_count": 1,
   "metadata": {},
   "outputs": [
    {
     "name": "stderr",
     "output_type": "stream",
     "text": [
      "C:\\ProgramData\\Anaconda3\\lib\\site-packages\\dask\\dataframe\\utils.py:13: FutureWarning: pandas.util.testing is deprecated. Use the functions in the public API at pandas.testing instead.\n",
      "  import pandas.util.testing as tm\n"
     ]
    }
   ],
   "source": [
    "import pandas as pd\n",
    "import numpy as np\n",
    "import pickle\n",
    "import random\n",
    "\n",
    "from sklearn.preprocessing import StandardScaler, MinMaxScaler\n",
    "from sklearn.model_selection import train_test_split, ShuffleSplit, cross_val_score, learning_curve\n",
    "from sklearn.model_selection import KFold, GridSearchCV, RandomizedSearchCV\n",
    "from sklearn.metrics import classification_report, precision_score, recall_score\n",
    "from sklearn.metrics import f1_score as f1 \n",
    "\n",
    "from sklearn.linear_model import LogisticRegression\n",
    "import xgboost as xgb, lightgbm as lgbm, catboost as catb\n",
    "from sklearn.ensemble import RandomForestClassifier as RF\n",
    "from sklearn.model_selection import train_test_split\n",
    "from sklearn.metrics import roc_auc_score\n",
    "from bayes_opt import BayesianOptimization\n",
    "\n",
    "import seaborn as sns\n",
    "from matplotlib import pyplot as plt\n",
    "%matplotlib inline"
   ]
  },
  {
   "cell_type": "code",
   "execution_count": 2,
   "metadata": {},
   "outputs": [],
   "source": [
    "def get_input(data_path: str) -> pd.DataFrame:\n",
    "    \"\"\"\n",
    "    Считывание данных и вывод основной информации о наборе данных.\n",
    "\n",
    "    Parameters\n",
    "    ----------\n",
    "    data_path: str\n",
    "        Название файла.\n",
    "\n",
    "    Returns\n",
    "    -------\n",
    "    data: pandas.core.frame.DataFrame\n",
    "        Загруженный набор данных в pandas.DataFrame\n",
    "\n",
    "    \"\"\"\n",
    "    base_path = \"Data\"\n",
    "    data = pd.read_csv(f\"{base_path}/{data_path}\")\n",
    "    data.columns = [col.lower() for col in data.columns]\n",
    "    print(f\"{data_path}: shape = {data.shape[0]} rows, {data.shape[1]} cols\")\n",
    "\n",
    "    return data\n",
    "\n",
    "def balance_df_by_target(df, target_name):\n",
    "\n",
    "    target_counts = df[target_name].value_counts()\n",
    "\n",
    "    major_class_name = target_counts.argmax()\n",
    "    minor_class_name = target_counts.argmin()\n",
    "#считаем минимально приемлемым уровень дисбаллансе\n",
    "    min_disbalance_level = 1\n",
    "    disbalance_coeff = int(target_counts[major_class_name] / target_counts[minor_class_name]) - 1\n",
    "    disbalance_coeff = round(disbalance_coeff / min_disbalance_level) \n",
    "    for i in range(disbalance_coeff):\n",
    "        sample = df[df[target_name] == minor_class_name].sample(target_counts[minor_class_name])\n",
    "        df = df.append(sample, ignore_index=True)\n",
    "\n",
    "    return df.sample(frac=1) \n",
    "\n",
    "def get_classification_report(y_train_true, y_train_pred, y_test_true, y_test_pred):\n",
    "    print('TRAIN\\n\\n' + classification_report(y_train_true, y_train_pred))\n",
    "    print('TEST\\n\\n' + classification_report(y_test_true, y_test_pred))\n",
    "    print('CONFUSION MATRIX\\n')\n",
    "    print(pd.crosstab(y_test_true, y_test_pred))\n",
    "    \n",
    "def calculate_permutation_importance(estimator, \n",
    "                                     metric: callable,\n",
    "                                     x_valid: pd.DataFrame,\n",
    "                                     y_valid: pd.Series) -> pd.Series:\n",
    "    \"\"\"\n",
    "    Расчет пермутированной важности признаков.\n",
    "    \"\"\"\n",
    "    scores = {}\n",
    "    y_pred = estimator.predict(x_valid)\n",
    "    base_score = metric(y_valid, y_pred)\n",
    "\n",
    "    for feature in x_valid.columns:\n",
    "        x_valid_copy = x_valid.copy()\n",
    "        x_valid_copy[feature] = np.random.permutation(x_valid_copy[feature])\n",
    "\n",
    "        y_pred = estimator.predict(x_valid_copy)\n",
    "        score = metric(y_valid, y_pred)\n",
    "        scores[feature] = base_score - score\n",
    "\n",
    "    scores = pd.Series(scores)\n",
    "    scores = scores.sort_values(ascending=False)\n",
    "\n",
    "    return scores    "
   ]
  },
  {
   "cell_type": "code",
   "execution_count": 3,
   "metadata": {},
   "outputs": [
    {
     "name": "stdout",
     "output_type": "stream",
     "text": [
      "X_valid.csv: shape = 6665154 rows, 11 cols\n"
     ]
    }
   ],
   "source": [
    "X_train = get_input(\"X_train.csv\")\n",
    "X_valid = get_input(\"X_valid.csv\")\n"
   ]
  },
  {
   "cell_type": "code",
   "execution_count": null,
   "metadata": {},
   "outputs": [],
   "source": [
    "y_train = get_input(\"y_train.csv\")"
   ]
  },
  {
   "cell_type": "code",
   "execution_count": null,
   "metadata": {},
   "outputs": [],
   "source": [
    "X_train = X_train.merge(y_train, on=\"id\")\n",
    "#data = data.reset_index(drop=True)\n",
    "X_train.head(n=2)"
   ]
  },
  {
   "cell_type": "markdown",
   "metadata": {},
   "source": [
    "Анализ набора данных"
   ]
  },
  {
   "cell_type": "code",
   "execution_count": null,
   "metadata": {},
   "outputs": [],
   "source": [
    "len(X_train[X_train['target'] == 1])"
   ]
  },
  {
   "cell_type": "code",
   "execution_count": null,
   "metadata": {},
   "outputs": [],
   "source": [
    "len(X_train)"
   ]
  },
  {
   "cell_type": "code",
   "execution_count": null,
   "metadata": {},
   "outputs": [],
   "source": [
    "X_train['dbm_request_time'].min() "
   ]
  },
  {
   "cell_type": "code",
   "execution_count": null,
   "metadata": {},
   "outputs": [],
   "source": [
    "X_train['dbm_request_time'].max() "
   ]
  },
  {
   "cell_type": "code",
   "execution_count": null,
   "metadata": {},
   "outputs": [],
   "source": [
    "X_valid['dbm_request_time'].min()"
   ]
  },
  {
   "cell_type": "code",
   "execution_count": null,
   "metadata": {},
   "outputs": [],
   "source": [
    "X_valid['dbm_request_time'].max()"
   ]
  },
  {
   "cell_type": "code",
   "execution_count": null,
   "metadata": {},
   "outputs": [],
   "source": [
    "#формируем новый сокращенный df для экономии памяти\n",
    "#часть данных с target=0 можно смело сократить\n",
    "#на наборе данных выбираем только четные минуты (половина) и четные секунды и target = 0 (набор несбалансирован)\n",
    "#но инфу о минутах и секундах не сохраняем в модели чтобы не могла переобучиться\n",
    "X_train['dbm_request_time'] = pd.to_datetime(X_train['dbm_request_time'],format=\"%Y-%m-%d %H:%M:%S\")\n",
    "X_train = X_train[(X_train['dbm_request_time'].dt.minute % 2 == 0) & (X_train['dbm_request_time'].dt.second % 2 == 0) & (X_train['target'] == 0) | (X_train['target'] != 0)]"
   ]
  },
  {
   "cell_type": "code",
   "execution_count": 17,
   "metadata": {},
   "outputs": [],
   "source": [
    "X_train.to_csv(\"./Data/X_train2.csv\")"
   ]
  },
  {
   "cell_type": "code",
   "execution_count": 4,
   "metadata": {},
   "outputs": [
    {
     "name": "stdout",
     "output_type": "stream",
     "text": [
      "X_train2.csv: shape = 2526966 rows, 13 cols\n"
     ]
    }
   ],
   "source": [
    "X_train = get_input(\"X_train2.csv\")"
   ]
  },
  {
   "cell_type": "code",
   "execution_count": 6,
   "metadata": {},
   "outputs": [
    {
     "data": {
      "text/plain": [
       "Index(['unnamed: 0', 'id', 'country_code', 'city_id', 'dbm_request_time',\n",
       "       'dbm_creative_id', 'dbm_language', 'dbm_operating_system_id',\n",
       "       'dbm_browser_platform_id', 'dbm_device_type', 'dbm_mobile_model_id',\n",
       "       'domen', 'target'],\n",
       "      dtype='object')"
      ]
     },
     "execution_count": 6,
     "metadata": {},
     "output_type": "execute_result"
    }
   ],
   "source": [
    "X_train.columns"
   ]
  },
  {
   "cell_type": "code",
   "execution_count": 7,
   "metadata": {},
   "outputs": [
    {
     "data": {
      "text/html": [
       "<div>\n",
       "<style scoped>\n",
       "    .dataframe tbody tr th:only-of-type {\n",
       "        vertical-align: middle;\n",
       "    }\n",
       "\n",
       "    .dataframe tbody tr th {\n",
       "        vertical-align: top;\n",
       "    }\n",
       "\n",
       "    .dataframe thead th {\n",
       "        text-align: right;\n",
       "    }\n",
       "</style>\n",
       "<table border=\"1\" class=\"dataframe\">\n",
       "  <thead>\n",
       "    <tr style=\"text-align: right;\">\n",
       "      <th></th>\n",
       "      <th>unnamed: 0</th>\n",
       "      <th>id</th>\n",
       "      <th>country_code</th>\n",
       "      <th>city_id</th>\n",
       "      <th>dbm_request_time</th>\n",
       "      <th>dbm_creative_id</th>\n",
       "      <th>dbm_language</th>\n",
       "      <th>dbm_operating_system_id</th>\n",
       "      <th>dbm_browser_platform_id</th>\n",
       "      <th>dbm_device_type</th>\n",
       "      <th>dbm_mobile_model_id</th>\n",
       "      <th>domen</th>\n",
       "      <th>target</th>\n",
       "      <th>valid</th>\n",
       "    </tr>\n",
       "  </thead>\n",
       "  <tbody>\n",
       "    <tr>\n",
       "      <th>0</th>\n",
       "      <td>10.0</td>\n",
       "      <td>10760896</td>\n",
       "      <td>RU</td>\n",
       "      <td>29399.0</td>\n",
       "      <td>2019-12-28 10:58:48</td>\n",
       "      <td>215162880.0</td>\n",
       "      <td>RU</td>\n",
       "      <td>1181.0</td>\n",
       "      <td>3.0</td>\n",
       "      <td>2.0</td>\n",
       "      <td>6458.0</td>\n",
       "      <td>other</td>\n",
       "      <td>0</td>\n",
       "      <td>0</td>\n",
       "    </tr>\n",
       "    <tr>\n",
       "      <th>1</th>\n",
       "      <td>15.0</td>\n",
       "      <td>12313208</td>\n",
       "      <td>RU</td>\n",
       "      <td>29381.0</td>\n",
       "      <td>2019-12-29 09:02:48</td>\n",
       "      <td>215162880.0</td>\n",
       "      <td>RU</td>\n",
       "      <td>1175.0</td>\n",
       "      <td>3.0</td>\n",
       "      <td>2.0</td>\n",
       "      <td>6997.0</td>\n",
       "      <td>other</td>\n",
       "      <td>0</td>\n",
       "      <td>0</td>\n",
       "    </tr>\n",
       "  </tbody>\n",
       "</table>\n",
       "</div>"
      ],
      "text/plain": [
       "   unnamed: 0        id country_code  city_id     dbm_request_time  \\\n",
       "0        10.0  10760896           RU  29399.0  2019-12-28 10:58:48   \n",
       "1        15.0  12313208           RU  29381.0  2019-12-29 09:02:48   \n",
       "\n",
       "   dbm_creative_id dbm_language  dbm_operating_system_id  \\\n",
       "0      215162880.0           RU                   1181.0   \n",
       "1      215162880.0           RU                   1175.0   \n",
       "\n",
       "   dbm_browser_platform_id  dbm_device_type dbm_mobile_model_id  domen  \\\n",
       "0                      3.0              2.0              6458.0  other   \n",
       "1                      3.0              2.0              6997.0  other   \n",
       "\n",
       "   target  valid  \n",
       "0       0      0  \n",
       "1       0      0  "
      ]
     },
     "execution_count": 7,
     "metadata": {},
     "output_type": "execute_result"
    }
   ],
   "source": [
    "#добавим искусственное поле, чтобы потом разделить трэйн и валид\n",
    "X_train['valid'] = 0\n",
    "X_valid['valid'] = 1\n",
    "X_valid['target'] = -1\n",
    "df = pd.concat([X_train, X_valid], axis=0)\n",
    "df = df.reset_index(drop=True)\n",
    "df.head(n=2)"
   ]
  },
  {
   "cell_type": "code",
   "execution_count": 8,
   "metadata": {},
   "outputs": [
    {
     "data": {
      "text/plain": [
       "950"
      ]
     },
     "execution_count": 8,
     "metadata": {},
     "output_type": "execute_result"
    }
   ],
   "source": [
    "len(df['city_id'].unique())"
   ]
  },
  {
   "cell_type": "code",
   "execution_count": 9,
   "metadata": {},
   "outputs": [
    {
     "data": {
      "text/plain": [
       "29378.0"
      ]
     },
     "execution_count": 9,
     "metadata": {},
     "output_type": "execute_result"
    }
   ],
   "source": [
    "df['city_id'].median()"
   ]
  },
  {
   "cell_type": "code",
   "execution_count": 10,
   "metadata": {},
   "outputs": [
    {
     "data": {
      "text/plain": [
       "7"
      ]
     },
     "execution_count": 10,
     "metadata": {},
     "output_type": "execute_result"
    }
   ],
   "source": [
    "len(df['dbm_creative_id'].unique())"
   ]
  },
  {
   "cell_type": "code",
   "execution_count": 11,
   "metadata": {},
   "outputs": [
    {
     "data": {
      "text/plain": [
       "2"
      ]
     },
     "execution_count": 11,
     "metadata": {},
     "output_type": "execute_result"
    }
   ],
   "source": [
    "len(df['dbm_device_type'].unique())"
   ]
  },
  {
   "cell_type": "code",
   "execution_count": 12,
   "metadata": {},
   "outputs": [
    {
     "data": {
      "text/plain": [
       "unnamed: 0                 6665154\n",
       "id                               0\n",
       "country_code                     0\n",
       "city_id                    1091459\n",
       "dbm_request_time                 0\n",
       "dbm_creative_id                  0\n",
       "dbm_language                     0\n",
       "dbm_operating_system_id          0\n",
       "dbm_browser_platform_id          0\n",
       "dbm_device_type                  0\n",
       "dbm_mobile_model_id              0\n",
       "domen                            0\n",
       "target                           0\n",
       "valid                            0\n",
       "dtype: int64"
      ]
     },
     "execution_count": 12,
     "metadata": {},
     "output_type": "execute_result"
    }
   ],
   "source": [
    "#посмотрим пропуски\n",
    "df.isnull().sum()"
   ]
  },
  {
   "cell_type": "markdown",
   "metadata": {},
   "source": [
    "Обработка сырых данных. "
   ]
  },
  {
   "cell_type": "code",
   "execution_count": 13,
   "metadata": {},
   "outputs": [],
   "source": [
    "#обработка времени\n",
    "df['dbm_request_time'] = pd.to_datetime(X_train['dbm_request_time'],format=\"%Y-%m-%d %H:%M:%S\")\n",
    "##сделать новые переменные: месяц, число, час захода в сеть\n",
    "df['month'] = df['dbm_request_time'].dt.month\n",
    "df['day'] = df['dbm_request_time'].dt.day\n",
    "df['time'] = df['dbm_request_time'].dt.hour\n",
    "df['day_of_week'] = df['dbm_request_time'].dt.weekday"
   ]
  },
  {
   "cell_type": "code",
   "execution_count": 14,
   "metadata": {},
   "outputs": [],
   "source": [
    "#заполнение пропущенных значений\n",
    "df.loc[df['city_id'].isnull(), 'city_id'] = df['city_id'].median()"
   ]
  },
  {
   "cell_type": "code",
   "execution_count": 15,
   "metadata": {},
   "outputs": [
    {
     "data": {
      "text/plain": [
       "unnamed: 0                 6665154\n",
       "id                               0\n",
       "country_code                     0\n",
       "city_id                          0\n",
       "dbm_request_time           6665154\n",
       "dbm_creative_id                  0\n",
       "dbm_language                     0\n",
       "dbm_operating_system_id          0\n",
       "dbm_browser_platform_id          0\n",
       "dbm_device_type                  0\n",
       "dbm_mobile_model_id              0\n",
       "domen                            0\n",
       "target                           0\n",
       "valid                            0\n",
       "month                      6665154\n",
       "day                        6665154\n",
       "time                       6665154\n",
       "day_of_week                6665154\n",
       "dtype: int64"
      ]
     },
     "execution_count": 15,
     "metadata": {},
     "output_type": "execute_result"
    }
   ],
   "source": [
    "df.isnull().sum()"
   ]
  },
  {
   "cell_type": "code",
   "execution_count": 16,
   "metadata": {},
   "outputs": [
    {
     "data": {
      "text/html": [
       "<div>\n",
       "<style scoped>\n",
       "    .dataframe tbody tr th:only-of-type {\n",
       "        vertical-align: middle;\n",
       "    }\n",
       "\n",
       "    .dataframe tbody tr th {\n",
       "        vertical-align: top;\n",
       "    }\n",
       "\n",
       "    .dataframe thead th {\n",
       "        text-align: right;\n",
       "    }\n",
       "</style>\n",
       "<table border=\"1\" class=\"dataframe\">\n",
       "  <thead>\n",
       "    <tr style=\"text-align: right;\">\n",
       "      <th></th>\n",
       "      <th>country_code</th>\n",
       "      <th>dbm_language</th>\n",
       "      <th>dbm_mobile_model_id</th>\n",
       "      <th>domen</th>\n",
       "    </tr>\n",
       "  </thead>\n",
       "  <tbody>\n",
       "    <tr>\n",
       "      <th>count</th>\n",
       "      <td>9192120</td>\n",
       "      <td>9192120</td>\n",
       "      <td>9192120</td>\n",
       "      <td>9192120</td>\n",
       "    </tr>\n",
       "    <tr>\n",
       "      <th>unique</th>\n",
       "      <td>2</td>\n",
       "      <td>2</td>\n",
       "      <td>100</td>\n",
       "      <td>100</td>\n",
       "    </tr>\n",
       "    <tr>\n",
       "      <th>top</th>\n",
       "      <td>RU</td>\n",
       "      <td>RU</td>\n",
       "      <td>7812.0</td>\n",
       "      <td>other</td>\n",
       "    </tr>\n",
       "    <tr>\n",
       "      <th>freq</th>\n",
       "      <td>9170561</td>\n",
       "      <td>8510185</td>\n",
       "      <td>1735290</td>\n",
       "      <td>3698888</td>\n",
       "    </tr>\n",
       "  </tbody>\n",
       "</table>\n",
       "</div>"
      ],
      "text/plain": [
       "       country_code dbm_language dbm_mobile_model_id    domen\n",
       "count       9192120      9192120             9192120  9192120\n",
       "unique            2            2                 100      100\n",
       "top              RU           RU              7812.0    other\n",
       "freq        9170561      8510185             1735290  3698888"
      ]
     },
     "execution_count": 16,
     "metadata": {},
     "output_type": "execute_result"
    }
   ],
   "source": [
    "df.describe(include=[np.object])"
   ]
  },
  {
   "cell_type": "code",
   "execution_count": 17,
   "metadata": {},
   "outputs": [
    {
     "data": {
      "text/html": [
       "<div>\n",
       "<style scoped>\n",
       "    .dataframe tbody tr th:only-of-type {\n",
       "        vertical-align: middle;\n",
       "    }\n",
       "\n",
       "    .dataframe tbody tr th {\n",
       "        vertical-align: top;\n",
       "    }\n",
       "\n",
       "    .dataframe thead th {\n",
       "        text-align: right;\n",
       "    }\n",
       "</style>\n",
       "<table border=\"1\" class=\"dataframe\">\n",
       "  <thead>\n",
       "    <tr style=\"text-align: right;\">\n",
       "      <th></th>\n",
       "      <th>210330400.0</th>\n",
       "      <th>215161760.0</th>\n",
       "      <th>215162380.0</th>\n",
       "      <th>215162880.0</th>\n",
       "      <th>215163700.0</th>\n",
       "      <th>215163790.0</th>\n",
       "      <th>215164000.0</th>\n",
       "    </tr>\n",
       "  </thead>\n",
       "  <tbody>\n",
       "    <tr>\n",
       "      <th>0</th>\n",
       "      <td>0</td>\n",
       "      <td>0</td>\n",
       "      <td>0</td>\n",
       "      <td>1</td>\n",
       "      <td>0</td>\n",
       "      <td>0</td>\n",
       "      <td>0</td>\n",
       "    </tr>\n",
       "    <tr>\n",
       "      <th>1</th>\n",
       "      <td>0</td>\n",
       "      <td>0</td>\n",
       "      <td>0</td>\n",
       "      <td>1</td>\n",
       "      <td>0</td>\n",
       "      <td>0</td>\n",
       "      <td>0</td>\n",
       "    </tr>\n",
       "    <tr>\n",
       "      <th>2</th>\n",
       "      <td>0</td>\n",
       "      <td>0</td>\n",
       "      <td>0</td>\n",
       "      <td>0</td>\n",
       "      <td>0</td>\n",
       "      <td>1</td>\n",
       "      <td>0</td>\n",
       "    </tr>\n",
       "    <tr>\n",
       "      <th>3</th>\n",
       "      <td>0</td>\n",
       "      <td>0</td>\n",
       "      <td>0</td>\n",
       "      <td>1</td>\n",
       "      <td>0</td>\n",
       "      <td>0</td>\n",
       "      <td>0</td>\n",
       "    </tr>\n",
       "    <tr>\n",
       "      <th>4</th>\n",
       "      <td>0</td>\n",
       "      <td>0</td>\n",
       "      <td>0</td>\n",
       "      <td>0</td>\n",
       "      <td>0</td>\n",
       "      <td>1</td>\n",
       "      <td>0</td>\n",
       "    </tr>\n",
       "    <tr>\n",
       "      <th>...</th>\n",
       "      <td>...</td>\n",
       "      <td>...</td>\n",
       "      <td>...</td>\n",
       "      <td>...</td>\n",
       "      <td>...</td>\n",
       "      <td>...</td>\n",
       "      <td>...</td>\n",
       "    </tr>\n",
       "    <tr>\n",
       "      <th>9192115</th>\n",
       "      <td>0</td>\n",
       "      <td>0</td>\n",
       "      <td>0</td>\n",
       "      <td>1</td>\n",
       "      <td>0</td>\n",
       "      <td>0</td>\n",
       "      <td>0</td>\n",
       "    </tr>\n",
       "    <tr>\n",
       "      <th>9192116</th>\n",
       "      <td>0</td>\n",
       "      <td>0</td>\n",
       "      <td>0</td>\n",
       "      <td>1</td>\n",
       "      <td>0</td>\n",
       "      <td>0</td>\n",
       "      <td>0</td>\n",
       "    </tr>\n",
       "    <tr>\n",
       "      <th>9192117</th>\n",
       "      <td>0</td>\n",
       "      <td>0</td>\n",
       "      <td>0</td>\n",
       "      <td>0</td>\n",
       "      <td>0</td>\n",
       "      <td>1</td>\n",
       "      <td>0</td>\n",
       "    </tr>\n",
       "    <tr>\n",
       "      <th>9192118</th>\n",
       "      <td>0</td>\n",
       "      <td>0</td>\n",
       "      <td>0</td>\n",
       "      <td>1</td>\n",
       "      <td>0</td>\n",
       "      <td>0</td>\n",
       "      <td>0</td>\n",
       "    </tr>\n",
       "    <tr>\n",
       "      <th>9192119</th>\n",
       "      <td>0</td>\n",
       "      <td>0</td>\n",
       "      <td>0</td>\n",
       "      <td>1</td>\n",
       "      <td>0</td>\n",
       "      <td>0</td>\n",
       "      <td>0</td>\n",
       "    </tr>\n",
       "  </tbody>\n",
       "</table>\n",
       "<p>9192120 rows × 7 columns</p>\n",
       "</div>"
      ],
      "text/plain": [
       "         210330400.0  215161760.0  215162380.0  215162880.0  215163700.0  \\\n",
       "0                  0            0            0            1            0   \n",
       "1                  0            0            0            1            0   \n",
       "2                  0            0            0            0            0   \n",
       "3                  0            0            0            1            0   \n",
       "4                  0            0            0            0            0   \n",
       "...              ...          ...          ...          ...          ...   \n",
       "9192115            0            0            0            1            0   \n",
       "9192116            0            0            0            1            0   \n",
       "9192117            0            0            0            0            0   \n",
       "9192118            0            0            0            1            0   \n",
       "9192119            0            0            0            1            0   \n",
       "\n",
       "         215163790.0  215164000.0  \n",
       "0                  0            0  \n",
       "1                  0            0  \n",
       "2                  1            0  \n",
       "3                  0            0  \n",
       "4                  1            0  \n",
       "...              ...          ...  \n",
       "9192115            0            0  \n",
       "9192116            0            0  \n",
       "9192117            1            0  \n",
       "9192118            0            0  \n",
       "9192119            0            0  \n",
       "\n",
       "[9192120 rows x 7 columns]"
      ]
     },
     "execution_count": 17,
     "metadata": {},
     "output_type": "execute_result"
    }
   ],
   "source": [
    "#фича инжиниринг\n",
    "#сделать dummy-переменные (почти все кроме city_id)\n",
    "#сделать новые переменные: месяц, число, час захода в сеть\n",
    "\n",
    "#обработка категориальных переменных\n",
    "#делаем dummy-переменную вместо категориальной\n",
    "pd.get_dummies(df['dbm_creative_id'])"
   ]
  },
  {
   "cell_type": "code",
   "execution_count": 18,
   "metadata": {},
   "outputs": [],
   "source": [
    "df[['210330400','215161760','215162380','215162880','215163700','215163790','215164000']] = pd.get_dummies(df['dbm_creative_id'])"
   ]
  },
  {
   "cell_type": "code",
   "execution_count": 19,
   "metadata": {},
   "outputs": [],
   "source": [
    "#удаляем старое поле\n",
    "df = df.drop('dbm_creative_id', axis=1)"
   ]
  },
  {
   "cell_type": "code",
   "execution_count": 20,
   "metadata": {},
   "outputs": [],
   "source": [
    "df[['0.0','1.0','3.0','6.0','1038.0']] = pd.get_dummies(df['dbm_browser_platform_id'])"
   ]
  },
  {
   "cell_type": "code",
   "execution_count": 21,
   "metadata": {},
   "outputs": [],
   "source": [
    "df = df.drop('dbm_browser_platform_id', axis=1)"
   ]
  },
  {
   "cell_type": "code",
   "execution_count": 22,
   "metadata": {},
   "outputs": [],
   "source": [
    "df[['dbm_device_type_1.0','dbm_device_type_3.0']] = pd.get_dummies(df['dbm_device_type'])"
   ]
  },
  {
   "cell_type": "code",
   "execution_count": 23,
   "metadata": {},
   "outputs": [],
   "source": [
    "df = df.drop('dbm_device_type', axis=1)"
   ]
  },
  {
   "cell_type": "code",
   "execution_count": 24,
   "metadata": {},
   "outputs": [],
   "source": [
    "df = df.drop('country_code', axis=1)"
   ]
  },
  {
   "cell_type": "code",
   "execution_count": 25,
   "metadata": {},
   "outputs": [],
   "source": [
    "df[['dbm_language_Other','dbm_language_RU']] = pd.get_dummies(df['dbm_language'])"
   ]
  },
  {
   "cell_type": "code",
   "execution_count": 26,
   "metadata": {},
   "outputs": [],
   "source": [
    "df = df.drop('dbm_language', axis=1)"
   ]
  },
  {
   "cell_type": "code",
   "execution_count": 27,
   "metadata": {},
   "outputs": [],
   "source": [
    "df = df.drop('dbm_operating_system_id', axis=1)"
   ]
  },
  {
   "cell_type": "code",
   "execution_count": 28,
   "metadata": {},
   "outputs": [
    {
     "data": {
      "text/plain": [
       "news.sportbox.ru    0.006189\n",
       "euroki.org          0.007502\n",
       "drive2.ru           0.008943\n",
       "versiya.info        0.010910\n",
       "yaplakal.com        0.011389\n",
       "adme.ru             0.014535\n",
       "cosmo.ru            0.016466\n",
       "accuweather.com     0.025197\n",
       "mbapp_url           0.311326\n",
       "other               0.402398\n",
       "Name: domen, dtype: float64"
      ]
     },
     "execution_count": 28,
     "metadata": {},
     "output_type": "execute_result"
    }
   ],
   "source": [
    "#вместо категориального поля домен и город вставляем частотность домена, города\n",
    "freq_encoder = df[\"domen\"].value_counts(normalize=True)\n",
    "df[\"domen_freq_enc\"] = df[\"domen\"].map(freq_encoder)\n",
    "top10_domens_df = freq_encoder.sort_values().tail(10)\n",
    "top10_domens_df"
   ]
  },
  {
   "cell_type": "code",
   "execution_count": 29,
   "metadata": {},
   "outputs": [
    {
     "data": {
      "text/plain": [
       "cosmo.ru           0.004950\n",
       "rustih.ru          0.005121\n",
       "drive2.ru          0.005263\n",
       "mixnews.lv         0.006031\n",
       "ixbt.com           0.007624\n",
       "versiya.info       0.009644\n",
       "adme.ru            0.015363\n",
       "accuweather.com    0.023073\n",
       "other              0.276785\n",
       "mbapp_url          0.528450\n",
       "Name: domen, dtype: float64"
      ]
     },
     "execution_count": 29,
     "metadata": {},
     "output_type": "execute_result"
    }
   ],
   "source": [
    "#вставляем частотность кликабельности домена\n",
    "freq_target1 = df[df['target'] == 1][\"domen\"].value_counts(normalize=True)\n",
    "df[\"rating\"] = df[\"domen\"].map(freq_target1)\n",
    "top10_domens_df2 = freq_target1.sort_values().tail(10)\n",
    "#10 самых кликабельных доменов\n",
    "top10_domens_df2"
   ]
  },
  {
   "cell_type": "code",
   "execution_count": 30,
   "metadata": {},
   "outputs": [
    {
     "data": {
      "text/plain": [
       "expert.ru           0.005439\n",
       "ixbt.com            0.005653\n",
       "popmech.ru          0.006238\n",
       "mbapp_url           0.006491\n",
       "24smi.org           0.007427\n",
       "video-facts.com     0.007548\n",
       "genius.com          0.007622\n",
       "amalgama-lab.com    0.009041\n",
       "ask.fm                   NaN\n",
       "exler.ru                 NaN\n",
       "Name: domen, dtype: float64"
      ]
     },
     "execution_count": 30,
     "metadata": {},
     "output_type": "execute_result"
    }
   ],
   "source": [
    "prob = df[df['target'] == 1][\"domen\"].fillna(0).value_counts() / df[\"domen\"].value_counts()\n",
    "df[\"prob\"] = df[\"domen\"].map(prob)\n",
    "top10_domens_df3 = prob.sort_values().tail(10)\n",
    "#10 доменов c самой большой вероятностью клика если встретятся\n",
    "top10_domens_df3"
   ]
  },
  {
   "cell_type": "code",
   "execution_count": 31,
   "metadata": {},
   "outputs": [
    {
     "data": {
      "text/plain": [
       "['cosmo.ru',\n",
       " 'rustih.ru',\n",
       " 'drive2.ru',\n",
       " 'mixnews.lv',\n",
       " 'ixbt.com',\n",
       " 'versiya.info',\n",
       " 'adme.ru',\n",
       " 'accuweather.com',\n",
       " 'other',\n",
       " 'mbapp_url']"
      ]
     },
     "execution_count": 31,
     "metadata": {},
     "output_type": "execute_result"
    }
   ],
   "source": [
    "#подсчитываем top_10 самых популярных доменов (не забудь, что для валидационного набора это делать не надо, использовать готовый)\n",
    "top10_domens = list(top10_domens_df2.index)\n",
    "min_freq = top10_domens_df.min()\n",
    "top10_domens"
   ]
  },
  {
   "cell_type": "code",
   "execution_count": 32,
   "metadata": {},
   "outputs": [],
   "source": [
    "#добавление новых dummy-полей\n",
    "df[top10_domens] = pd.get_dummies(df['domen'])[top10_domens]"
   ]
  },
  {
   "cell_type": "code",
   "execution_count": 33,
   "metadata": {},
   "outputs": [],
   "source": [
    "df = df.drop('domen', axis=1)"
   ]
  },
  {
   "cell_type": "code",
   "execution_count": 34,
   "metadata": {},
   "outputs": [],
   "source": [
    "#частотность для города\n",
    "freq_encoder = df[\"city_id\"].value_counts(normalize=True)\n",
    "df[\"city_freq_enc\"] = df[\"city_id\"].map(freq_encoder)"
   ]
  },
  {
   "cell_type": "code",
   "execution_count": 35,
   "metadata": {},
   "outputs": [],
   "source": [
    "df = df.drop('city_id', axis=1)\n",
    "df = df.drop('dbm_mobile_model_id', axis=1)"
   ]
  },
  {
   "cell_type": "code",
   "execution_count": 36,
   "metadata": {},
   "outputs": [],
   "source": [
    "df = df.drop(['id','dbm_request_time'], axis=1)"
   ]
  },
  {
   "cell_type": "code",
   "execution_count": 37,
   "metadata": {},
   "outputs": [],
   "source": [
    "df = df.fillna(0)"
   ]
  },
  {
   "cell_type": "code",
   "execution_count": 38,
   "metadata": {},
   "outputs": [
    {
     "data": {
      "text/plain": [
       "Index(['unnamed: 0', 'target', 'valid', 'month', 'day', 'time', 'day_of_week',\n",
       "       '210330400', '215161760', '215162380', '215162880', '215163700',\n",
       "       '215163790', '215164000', '0.0', '1.0', '3.0', '6.0', '1038.0',\n",
       "       'dbm_device_type_1.0', 'dbm_device_type_3.0', 'dbm_language_Other',\n",
       "       'dbm_language_RU', 'domen_freq_enc', 'rating', 'prob', 'cosmo.ru',\n",
       "       'rustih.ru', 'drive2.ru', 'mixnews.lv', 'ixbt.com', 'versiya.info',\n",
       "       'adme.ru', 'accuweather.com', 'other', 'mbapp_url', 'city_freq_enc'],\n",
       "      dtype='object')"
      ]
     },
     "execution_count": 38,
     "metadata": {},
     "output_type": "execute_result"
    }
   ],
   "source": [
    "#обработанный набор данных\n",
    "df.columns"
   ]
  },
  {
   "cell_type": "code",
   "execution_count": 39,
   "metadata": {},
   "outputs": [],
   "source": [
    "X_train = df[df['valid'] == 0] "
   ]
  },
  {
   "cell_type": "code",
   "execution_count": 40,
   "metadata": {},
   "outputs": [],
   "source": [
    "X_valid = df[df['valid'] == 1] "
   ]
  },
  {
   "cell_type": "code",
   "execution_count": 41,
   "metadata": {},
   "outputs": [],
   "source": [
    "X_train = X_train.drop('valid', axis=1)\n",
    "X_valid = X_valid.drop('valid', axis=1)\n",
    "X_valid = X_valid.drop('target', axis=1)"
   ]
  },
  {
   "cell_type": "code",
   "execution_count": 42,
   "metadata": {},
   "outputs": [
    {
     "data": {
      "text/plain": [
       "36"
      ]
     },
     "execution_count": 42,
     "metadata": {},
     "output_type": "execute_result"
    }
   ],
   "source": [
    "len(X_train.columns)"
   ]
  },
  {
   "cell_type": "code",
   "execution_count": 43,
   "metadata": {},
   "outputs": [
    {
     "data": {
      "text/plain": [
       "Index(['unnamed: 0', 'month', 'day', 'time', 'day_of_week', '210330400',\n",
       "       '215161760', '215162380', '215162880', '215163700', '215163790',\n",
       "       '215164000', '0.0', '1.0', '3.0', '6.0', '1038.0',\n",
       "       'dbm_device_type_1.0', 'dbm_device_type_3.0', 'dbm_language_Other',\n",
       "       'dbm_language_RU', 'domen_freq_enc', 'rating', 'prob', 'cosmo.ru',\n",
       "       'rustih.ru', 'drive2.ru', 'mixnews.lv', 'ixbt.com', 'versiya.info',\n",
       "       'adme.ru', 'accuweather.com', 'other', 'mbapp_url', 'city_freq_enc'],\n",
       "      dtype='object')"
      ]
     },
     "execution_count": 43,
     "metadata": {},
     "output_type": "execute_result"
    }
   ],
   "source": [
    "X_valid.columns"
   ]
  },
  {
   "cell_type": "code",
   "execution_count": 44,
   "metadata": {},
   "outputs": [
    {
     "data": {
      "text/plain": [
       "35150"
      ]
     },
     "execution_count": 44,
     "metadata": {},
     "output_type": "execute_result"
    }
   ],
   "source": [
    "len(X_train[X_train['target'] == 1])"
   ]
  },
  {
   "cell_type": "code",
   "execution_count": 45,
   "metadata": {},
   "outputs": [
    {
     "data": {
      "text/plain": [
       "2526966"
      ]
     },
     "execution_count": 45,
     "metadata": {},
     "output_type": "execute_result"
    }
   ],
   "source": [
    "len(X_train)"
   ]
  },
  {
   "cell_type": "code",
   "execution_count": 46,
   "metadata": {},
   "outputs": [],
   "source": [
    "X_train = X_train.fillna(0)\n",
    "X_valid = X_valid.fillna(0)"
   ]
  },
  {
   "cell_type": "code",
   "execution_count": 47,
   "metadata": {},
   "outputs": [
    {
     "data": {
      "text/plain": [
       "0    2491816\n",
       "1    2460500\n",
       "Name: target, dtype: int64"
      ]
     },
     "execution_count": 47,
     "metadata": {},
     "output_type": "execute_result"
    }
   ],
   "source": [
    "#набор не сбалансирован! \n",
    "#балансировка\n",
    "TARGET_NAME = 'target'\n",
    "df_balanced = balance_df_by_target(X_train, TARGET_NAME)\n",
    "    \n",
    "df_balanced[TARGET_NAME].value_counts()"
   ]
  },
  {
   "cell_type": "code",
   "execution_count": 48,
   "metadata": {},
   "outputs": [],
   "source": [
    "#сокращаем набор данных и выбираем лучшую модель на сокращенном наборе данных для экономии времени на тренировку модели."
   ]
  },
  {
   "cell_type": "code",
   "execution_count": 49,
   "metadata": {},
   "outputs": [],
   "source": [
    "df = df_balanced[df_balanced['day'] > 25]"
   ]
  },
  {
   "cell_type": "code",
   "execution_count": 50,
   "metadata": {},
   "outputs": [],
   "source": [
    "X = df.drop('target', axis=1)\n",
    "y = df[TARGET_NAME]\n",
    "\n",
    "X_train, X_test, y_train, y_test = train_test_split(X, y, shuffle=False, test_size=0.25, random_state=211)"
   ]
  },
  {
   "cell_type": "markdown",
   "metadata": {},
   "source": [
    "Построение и оценка базовых моделей"
   ]
  },
  {
   "cell_type": "markdown",
   "metadata": {},
   "source": [
    "Логистическая регрессия"
   ]
  },
  {
   "cell_type": "code",
   "execution_count": 51,
   "metadata": {},
   "outputs": [
    {
     "name": "stderr",
     "output_type": "stream",
     "text": [
      "C:\\ProgramData\\Anaconda3\\lib\\site-packages\\sklearn\\linear_model\\logistic.py:433: FutureWarning: Default solver will be changed to 'lbfgs' in 0.22. Specify a solver to silence this warning.\n",
      "  FutureWarning)\n",
      "C:\\ProgramData\\Anaconda3\\lib\\site-packages\\sklearn\\metrics\\classification.py:1143: UndefinedMetricWarning: Precision and F-score are ill-defined and being set to 0.0 in labels with no predicted samples.\n",
      "  'precision', 'predicted', average, warn_for)\n",
      "C:\\ProgramData\\Anaconda3\\lib\\site-packages\\sklearn\\metrics\\classification.py:1143: UndefinedMetricWarning: Precision and F-score are ill-defined and being set to 0.0 in labels with no predicted samples.\n",
      "  'precision', 'predicted', average, warn_for)\n",
      "C:\\ProgramData\\Anaconda3\\lib\\site-packages\\sklearn\\metrics\\classification.py:1143: UndefinedMetricWarning: Precision and F-score are ill-defined and being set to 0.0 in labels with no predicted samples.\n",
      "  'precision', 'predicted', average, warn_for)\n"
     ]
    },
    {
     "name": "stdout",
     "output_type": "stream",
     "text": [
      "TRAIN\n",
      "\n",
      "              precision    recall  f1-score   support\n",
      "\n",
      "           0       0.53      1.00      0.69    946954\n",
      "           1       0.00      0.00      0.00    832346\n",
      "\n",
      "   micro avg       0.53      0.53      0.53   1779300\n",
      "   macro avg       0.27      0.50      0.35   1779300\n",
      "weighted avg       0.28      0.53      0.37   1779300\n",
      "\n"
     ]
    },
    {
     "name": "stderr",
     "output_type": "stream",
     "text": [
      "C:\\ProgramData\\Anaconda3\\lib\\site-packages\\sklearn\\metrics\\classification.py:1143: UndefinedMetricWarning: Precision and F-score are ill-defined and being set to 0.0 in labels with no predicted samples.\n",
      "  'precision', 'predicted', average, warn_for)\n",
      "C:\\ProgramData\\Anaconda3\\lib\\site-packages\\sklearn\\metrics\\classification.py:1143: UndefinedMetricWarning: Precision and F-score are ill-defined and being set to 0.0 in labels with no predicted samples.\n",
      "  'precision', 'predicted', average, warn_for)\n",
      "C:\\ProgramData\\Anaconda3\\lib\\site-packages\\sklearn\\metrics\\classification.py:1143: UndefinedMetricWarning: Precision and F-score are ill-defined and being set to 0.0 in labels with no predicted samples.\n",
      "  'precision', 'predicted', average, warn_for)\n"
     ]
    },
    {
     "name": "stdout",
     "output_type": "stream",
     "text": [
      "TEST\n",
      "\n",
      "              precision    recall  f1-score   support\n",
      "\n",
      "           0       0.53      1.00      0.70    316512\n",
      "           1       0.00      0.00      0.00    276589\n",
      "\n",
      "   micro avg       0.53      0.53      0.53    593101\n",
      "   macro avg       0.27      0.50      0.35    593101\n",
      "weighted avg       0.28      0.53      0.37    593101\n",
      "\n",
      "CONFUSION MATRIX\n",
      "\n",
      "col_0        0\n",
      "target        \n",
      "0       316512\n",
      "1       276589\n"
     ]
    }
   ],
   "source": [
    "model_lr = LogisticRegression()\n",
    "model_lr.fit(X_train, y_train)\n",
    "\n",
    "y_train_pred = model_lr.predict(X_train)\n",
    "y_test_pred = model_lr.predict(X_test)\n",
    "\n",
    "get_classification_report(y_train, y_train_pred, y_test, y_test_pred)"
   ]
  },
  {
   "cell_type": "code",
   "execution_count": 52,
   "metadata": {},
   "outputs": [],
   "source": [
    "pred_test_proba = model_lr.predict_proba(X_test)"
   ]
  },
  {
   "cell_type": "code",
   "execution_count": 53,
   "metadata": {},
   "outputs": [
    {
     "data": {
      "text/plain": [
       "0.5003841235699342"
      ]
     },
     "execution_count": 53,
     "metadata": {},
     "output_type": "execute_result"
    }
   ],
   "source": [
    "oof_preds = roc_auc_score(y_test, pred_test_proba[:,1])\n",
    "oof_preds"
   ]
  },
  {
   "cell_type": "markdown",
   "metadata": {},
   "source": [
    "попробуем случайный лес (RandomForest)."
   ]
  },
  {
   "cell_type": "code",
   "execution_count": 54,
   "metadata": {},
   "outputs": [],
   "source": [
    "clf = RF(max_depth=10,n_estimators=100,max_features=4,random_state=100)"
   ]
  },
  {
   "cell_type": "code",
   "execution_count": 55,
   "metadata": {},
   "outputs": [
    {
     "data": {
      "text/plain": [
       "RandomForestClassifier(bootstrap=True, class_weight=None, criterion='gini',\n",
       "            max_depth=10, max_features=4, max_leaf_nodes=None,\n",
       "            min_impurity_decrease=0.0, min_impurity_split=None,\n",
       "            min_samples_leaf=1, min_samples_split=2,\n",
       "            min_weight_fraction_leaf=0.0, n_estimators=100, n_jobs=None,\n",
       "            oob_score=False, random_state=100, verbose=0, warm_start=False)"
      ]
     },
     "execution_count": 55,
     "metadata": {},
     "output_type": "execute_result"
    }
   ],
   "source": [
    "clf.fit(X_train,y_train)"
   ]
  },
  {
   "cell_type": "code",
   "execution_count": 56,
   "metadata": {},
   "outputs": [],
   "source": [
    "pred = clf.predict(X_train)"
   ]
  },
  {
   "cell_type": "code",
   "execution_count": 57,
   "metadata": {},
   "outputs": [
    {
     "data": {
      "text/plain": [
       "0.594394879291735"
      ]
     },
     "execution_count": 57,
     "metadata": {},
     "output_type": "execute_result"
    }
   ],
   "source": [
    "f1(y_train, pred, average='macro')"
   ]
  },
  {
   "cell_type": "code",
   "execution_count": 58,
   "metadata": {},
   "outputs": [],
   "source": [
    "pred_test = clf.predict(X_test)"
   ]
  },
  {
   "cell_type": "code",
   "execution_count": 59,
   "metadata": {},
   "outputs": [
    {
     "data": {
      "text/plain": [
       "0.5934217701566469"
      ]
     },
     "execution_count": 59,
     "metadata": {},
     "output_type": "execute_result"
    }
   ],
   "source": [
    "f1(y_test,pred_test, average='macro')"
   ]
  },
  {
   "cell_type": "code",
   "execution_count": 60,
   "metadata": {},
   "outputs": [],
   "source": [
    "pred_test_proba = clf.predict_proba(X_test)"
   ]
  },
  {
   "cell_type": "code",
   "execution_count": 61,
   "metadata": {},
   "outputs": [
    {
     "data": {
      "text/plain": [
       "0.6772297254380804"
      ]
     },
     "execution_count": 61,
     "metadata": {},
     "output_type": "execute_result"
    }
   ],
   "source": [
    "oof_preds_rf = roc_auc_score(y_test, pred_test_proba[:,1])\n",
    "oof_preds_rf"
   ]
  },
  {
   "cell_type": "markdown",
   "metadata": {},
   "source": [
    "XGBoost"
   ]
  },
  {
   "cell_type": "code",
   "execution_count": 62,
   "metadata": {},
   "outputs": [
    {
     "name": "stdout",
     "output_type": "stream",
     "text": [
      "Wall time: 3min 38s\n"
     ]
    }
   ],
   "source": [
    "%%time\n",
    "\n",
    "model_xgb = xgb.XGBClassifier(max_depth=10, booster=\"gbtree\",eval_metric=\"auc\", objective=\"binary:logistic\")\n",
    "\n",
    "model_xgb.fit(X_train, y_train)"
   ]
  },
  {
   "cell_type": "code",
   "execution_count": 63,
   "metadata": {},
   "outputs": [],
   "source": [
    "pred = model_xgb.predict(X_train)"
   ]
  },
  {
   "cell_type": "code",
   "execution_count": 64,
   "metadata": {},
   "outputs": [
    {
     "data": {
      "text/plain": [
       "0.8109691929939735"
      ]
     },
     "execution_count": 64,
     "metadata": {},
     "output_type": "execute_result"
    }
   ],
   "source": [
    "f1(y_train, pred, average='macro')"
   ]
  },
  {
   "cell_type": "code",
   "execution_count": 65,
   "metadata": {},
   "outputs": [],
   "source": [
    "pred_test = model_xgb.predict(X_test)"
   ]
  },
  {
   "cell_type": "code",
   "execution_count": 66,
   "metadata": {},
   "outputs": [
    {
     "data": {
      "text/plain": [
       "0.8056270441485381"
      ]
     },
     "execution_count": 66,
     "metadata": {},
     "output_type": "execute_result"
    }
   ],
   "source": [
    "f1(y_test,pred_test, average='macro')"
   ]
  },
  {
   "cell_type": "code",
   "execution_count": 67,
   "metadata": {},
   "outputs": [
    {
     "data": {
      "text/plain": [
       "array([[0.77580535, 0.22419468],\n",
       "       [0.5725688 , 0.42743123],\n",
       "       [0.06302792, 0.9369721 ],\n",
       "       ...,\n",
       "       [0.54049146, 0.45950854],\n",
       "       [0.34803766, 0.65196234],\n",
       "       [0.5244169 , 0.47558308]], dtype=float32)"
      ]
     },
     "execution_count": 67,
     "metadata": {},
     "output_type": "execute_result"
    }
   ],
   "source": [
    "model_xgb.predict_proba(X_test)"
   ]
  },
  {
   "cell_type": "code",
   "execution_count": 68,
   "metadata": {},
   "outputs": [],
   "source": [
    "pred_test_proba = model_xgb.predict_proba(X_test)"
   ]
  },
  {
   "cell_type": "code",
   "execution_count": 69,
   "metadata": {},
   "outputs": [
    {
     "data": {
      "text/plain": [
       "0.53181475"
      ]
     },
     "execution_count": 69,
     "metadata": {},
     "output_type": "execute_result"
    }
   ],
   "source": [
    "pred_test_proba[:,0].mean()"
   ]
  },
  {
   "cell_type": "code",
   "execution_count": 70,
   "metadata": {},
   "outputs": [
    {
     "data": {
      "text/plain": [
       "0.46818522"
      ]
     },
     "execution_count": 70,
     "metadata": {},
     "output_type": "execute_result"
    }
   ],
   "source": [
    "pred_test_proba[:,1].mean()"
   ]
  },
  {
   "cell_type": "code",
   "execution_count": 71,
   "metadata": {},
   "outputs": [
    {
     "data": {
      "text/plain": [
       "0.8976111023242804"
      ]
     },
     "execution_count": 71,
     "metadata": {},
     "output_type": "execute_result"
    }
   ],
   "source": [
    "oof_preds_xgb = roc_auc_score(y_test, pred_test_proba[:,1])\n",
    "oof_preds_xgb"
   ]
  },
  {
   "cell_type": "markdown",
   "metadata": {},
   "source": [
    "Вывод: лучше всего работает XGBoost. Будем его использовать как финальную модель."
   ]
  },
  {
   "cell_type": "code",
   "execution_count": 72,
   "metadata": {},
   "outputs": [
    {
     "data": {
      "text/plain": [
       "unnamed: 0        0.204664\n",
       "prob              0.135808\n",
       "city_freq_enc     0.111844\n",
       "time              0.111791\n",
       "domen_freq_enc    0.041330\n",
       "day               0.040413\n",
       "day_of_week       0.040035\n",
       "rating            0.027439\n",
       "215162880         0.021673\n",
       "215163790         0.018849\n",
       "dtype: float64"
      ]
     },
     "execution_count": 72,
     "metadata": {},
     "output_type": "execute_result"
    }
   ],
   "source": [
    "#подсчет важности каждого признака\n",
    "perm_importance1 = calculate_permutation_importance(\n",
    "    estimator=model_xgb, metric=roc_auc_score, x_valid=X_test, y_valid=y_test\n",
    ")\n",
    "perm_importance1[:10]"
   ]
  },
  {
   "cell_type": "code",
   "execution_count": 73,
   "metadata": {},
   "outputs": [
    {
     "data": {
      "text/plain": [
       "['unnamed: 0',\n",
       " 'prob',\n",
       " 'city_freq_enc',\n",
       " 'time',\n",
       " 'domen_freq_enc',\n",
       " 'day',\n",
       " 'day_of_week',\n",
       " 'rating',\n",
       " '215162880',\n",
       " '215163790',\n",
       " '3.0',\n",
       " '215161760',\n",
       " '6.0',\n",
       " 'dbm_language_Other',\n",
       " '0.0',\n",
       " 'accuweather.com',\n",
       " '1038.0',\n",
       " 'versiya.info',\n",
       " 'dbm_device_type_1.0',\n",
       " 'adme.ru']"
      ]
     },
     "execution_count": 73,
     "metadata": {},
     "output_type": "execute_result"
    }
   ],
   "source": [
    "list(perm_importance1[:20].index)"
   ]
  },
  {
   "cell_type": "code",
   "execution_count": 74,
   "metadata": {},
   "outputs": [],
   "source": [
    "good_f = ['city_freq_enc',\n",
    " 'time',\n",
    " 'prob',\n",
    " 'day',\n",
    " 'day_of_week',\n",
    " 'domen_freq_enc',\n",
    " 'rating',\n",
    " '210330400',\n",
    " '215162880',\n",
    " '215163790',\n",
    " '6.0',\n",
    " 'dbm_language_Other',\n",
    " '3.0',\n",
    " '0.0',\n",
    " '215161760',\n",
    " 'accuweather.com',\n",
    " 'versiya.info',\n",
    " 'dbm_device_type_1.0',\n",
    " 'adme.ru',\n",
    " '215162380']"
   ]
  },
  {
   "cell_type": "markdown",
   "metadata": {},
   "source": [
    "Тренировка выбранной модели"
   ]
  },
  {
   "cell_type": "code",
   "execution_count": 75,
   "metadata": {},
   "outputs": [],
   "source": [
    "df = df_balanced"
   ]
  },
  {
   "cell_type": "code",
   "execution_count": 76,
   "metadata": {},
   "outputs": [],
   "source": [
    "X = df[good_f] #обрезаем ненужные фичи\n",
    "y = df['target']\n",
    "\n",
    "X_train, X_test, y_train, y_test = train_test_split(X, y, shuffle=False, test_size=0.25, random_state=211)"
   ]
  },
  {
   "cell_type": "code",
   "execution_count": 77,
   "metadata": {},
   "outputs": [
    {
     "name": "stdout",
     "output_type": "stream",
     "text": [
      "Wall time: 5min 33s\n"
     ]
    }
   ],
   "source": [
    "%%time\n",
    "\n",
    "model_xgb = xgb.XGBClassifier(max_depth=10, booster=\"gbtree\",eval_metric=\"auc\", objective=\"binary:logistic\")\n",
    "\n",
    "model_xgb.fit(X_train, y_train)"
   ]
  },
  {
   "cell_type": "code",
   "execution_count": 78,
   "metadata": {},
   "outputs": [],
   "source": [
    "pred = model_xgb.predict(X_train)"
   ]
  },
  {
   "cell_type": "code",
   "execution_count": 79,
   "metadata": {},
   "outputs": [
    {
     "data": {
      "text/plain": [
       "0.7305957437479642"
      ]
     },
     "execution_count": 79,
     "metadata": {},
     "output_type": "execute_result"
    }
   ],
   "source": [
    "f1(y_train, pred, average='macro')"
   ]
  },
  {
   "cell_type": "code",
   "execution_count": 80,
   "metadata": {},
   "outputs": [
    {
     "data": {
      "text/plain": [
       "3714237"
      ]
     },
     "execution_count": 80,
     "metadata": {},
     "output_type": "execute_result"
    }
   ],
   "source": [
    "len(X_train)"
   ]
  },
  {
   "cell_type": "code",
   "execution_count": 81,
   "metadata": {},
   "outputs": [],
   "source": [
    "pred_test = model_xgb.predict(X_test)"
   ]
  },
  {
   "cell_type": "code",
   "execution_count": 82,
   "metadata": {},
   "outputs": [
    {
     "data": {
      "text/plain": [
       "0.7280848045796438"
      ]
     },
     "execution_count": 82,
     "metadata": {},
     "output_type": "execute_result"
    }
   ],
   "source": [
    "f1(y_test,pred_test, average='macro')"
   ]
  },
  {
   "cell_type": "code",
   "execution_count": 83,
   "metadata": {},
   "outputs": [
    {
     "data": {
      "text/plain": [
       "array([[0.00663215, 0.99336785],\n",
       "       [0.39102656, 0.60897344],\n",
       "       [0.71388113, 0.2861189 ],\n",
       "       ...,\n",
       "       [0.48398727, 0.5160127 ],\n",
       "       [0.44564348, 0.5543565 ],\n",
       "       [0.6497501 , 0.3502499 ]], dtype=float32)"
      ]
     },
     "execution_count": 83,
     "metadata": {},
     "output_type": "execute_result"
    }
   ],
   "source": [
    "model_xgb.predict_proba(X_test)"
   ]
  },
  {
   "cell_type": "code",
   "execution_count": 84,
   "metadata": {},
   "outputs": [],
   "source": [
    "pred_test_proba = model_xgb.predict_proba(X_test)"
   ]
  },
  {
   "cell_type": "code",
   "execution_count": 85,
   "metadata": {},
   "outputs": [
    {
     "data": {
      "text/plain": [
       "0.5027115"
      ]
     },
     "execution_count": 85,
     "metadata": {},
     "output_type": "execute_result"
    }
   ],
   "source": [
    "pred_test_proba[:,0].mean()"
   ]
  },
  {
   "cell_type": "code",
   "execution_count": 86,
   "metadata": {},
   "outputs": [
    {
     "data": {
      "text/plain": [
       "0.49728855"
      ]
     },
     "execution_count": 86,
     "metadata": {},
     "output_type": "execute_result"
    }
   ],
   "source": [
    "pred_test_proba[:,1].mean()"
   ]
  },
  {
   "cell_type": "code",
   "execution_count": 87,
   "metadata": {},
   "outputs": [
    {
     "data": {
      "text/plain": [
       "3915701    1\n",
       "3409486    1\n",
       "1744451    0\n",
       "2054709    0\n",
       "901104     0\n",
       "          ..\n",
       "2791594    1\n",
       "4344621    1\n",
       "845609     0\n",
       "99953      0\n",
       "617930     0\n",
       "Name: target, Length: 1238079, dtype: int64"
      ]
     },
     "execution_count": 87,
     "metadata": {},
     "output_type": "execute_result"
    }
   ],
   "source": [
    "y_test"
   ]
  },
  {
   "cell_type": "code",
   "execution_count": 88,
   "metadata": {},
   "outputs": [
    {
     "data": {
      "text/plain": [
       "0.8117689845453837"
      ]
     },
     "execution_count": 88,
     "metadata": {},
     "output_type": "execute_result"
    }
   ],
   "source": [
    "oof_preds_xgb = roc_auc_score(y_test, pred_test_proba[:,1])\n",
    "oof_preds_xgb"
   ]
  },
  {
   "cell_type": "markdown",
   "metadata": {},
   "source": [
    "Получение итоговых предсказаний на тестовом наборе"
   ]
  },
  {
   "cell_type": "code",
   "execution_count": 89,
   "metadata": {},
   "outputs": [
    {
     "data": {
      "text/plain": [
       "Index(['unnamed: 0', 'month', 'day', 'time', 'day_of_week', '210330400',\n",
       "       '215161760', '215162380', '215162880', '215163700', '215163790',\n",
       "       '215164000', '0.0', '1.0', '3.0', '6.0', '1038.0',\n",
       "       'dbm_device_type_1.0', 'dbm_device_type_3.0', 'dbm_language_Other',\n",
       "       'dbm_language_RU', 'domen_freq_enc', 'rating', 'prob', 'cosmo.ru',\n",
       "       'rustih.ru', 'drive2.ru', 'mixnews.lv', 'ixbt.com', 'versiya.info',\n",
       "       'adme.ru', 'accuweather.com', 'other', 'mbapp_url', 'city_freq_enc'],\n",
       "      dtype='object')"
      ]
     },
     "execution_count": 89,
     "metadata": {},
     "output_type": "execute_result"
    }
   ],
   "source": [
    "X_valid.columns"
   ]
  },
  {
   "cell_type": "code",
   "execution_count": 92,
   "metadata": {},
   "outputs": [],
   "source": [
    "#валидационный набор надо обработать точно также как обучающий\n",
    "X_valid = X_valid[good_f] #обрезаем ненужные фичи"
   ]
  },
  {
   "cell_type": "code",
   "execution_count": 93,
   "metadata": {},
   "outputs": [],
   "source": [
    "pred_valid_proba = model_xgb.predict_proba(X_valid)"
   ]
  },
  {
   "cell_type": "code",
   "execution_count": 94,
   "metadata": {},
   "outputs": [
    {
     "data": {
      "text/plain": [
       "array([[9.9855310e-01, 1.4469079e-03],\n",
       "       [9.9864250e-01, 1.3574827e-03],\n",
       "       [9.9653751e-01, 3.4624643e-03],\n",
       "       ...,\n",
       "       [9.5449972e-01, 4.5500264e-02],\n",
       "       [9.9945790e-01, 5.4212398e-04],\n",
       "       [9.9227649e-01, 7.7234874e-03]], dtype=float32)"
      ]
     },
     "execution_count": 94,
     "metadata": {},
     "output_type": "execute_result"
    }
   ],
   "source": [
    "pred_valid_proba"
   ]
  },
  {
   "cell_type": "code",
   "execution_count": 95,
   "metadata": {},
   "outputs": [
    {
     "data": {
      "text/plain": [
       "0.9742021"
      ]
     },
     "execution_count": 95,
     "metadata": {},
     "output_type": "execute_result"
    }
   ],
   "source": [
    "pred_valid_proba[:,0].mean()"
   ]
  },
  {
   "cell_type": "code",
   "execution_count": 97,
   "metadata": {},
   "outputs": [
    {
     "data": {
      "text/plain": [
       "0.025797226"
      ]
     },
     "execution_count": 97,
     "metadata": {},
     "output_type": "execute_result"
    }
   ],
   "source": [
    "pred_valid_proba[:,1].mean()"
   ]
  },
  {
   "cell_type": "code",
   "execution_count": 101,
   "metadata": {},
   "outputs": [
    {
     "name": "stdout",
     "output_type": "stream",
     "text": [
      "X_valid.csv: shape = 6665154 rows, 11 cols\n"
     ]
    }
   ],
   "source": [
    "X_valid2 = get_input(\"X_valid.csv\")\n",
    "test_id = X_valid2[\"id\"]"
   ]
  },
  {
   "cell_type": "code",
   "execution_count": 102,
   "metadata": {},
   "outputs": [],
   "source": [
    "y_pred = pd.DataFrame({\n",
    "    \"ID\": test_id,\n",
    "    \"TARGET\": pred_valid_proba[:,1]\n",
    "})\n",
    "y_pred.to_csv(\"./Data/pred_proba_VZinchenko.csv\",index=False)"
   ]
  },
  {
   "cell_type": "code",
   "execution_count": 103,
   "metadata": {},
   "outputs": [
    {
     "data": {
      "image/png": "[encoded data removed]",
      "text/plain": [
       "<Figure size 432x288 with 1 Axes>"
      ]
     },
     "metadata": {
      "needs_background": "light"
     },
     "output_type": "display_data"
    }
   ],
   "source": [
    "plt.hist(pred_valid_proba)\n",
    "_ = plt.axvline(x=0.5, color='orange')"
   ]
  },
  {
   "cell_type": "code",
   "execution_count": null,
   "metadata": {},
   "outputs": [],
   "source": []
  }
 ],
 "metadata": {
  "kernelspec": {
   "display_name": "Python 3",
   "language": "python",
   "name": "python3"
  }
 },
 "nbformat": 4,
 "nbformat_minor": 2
}
