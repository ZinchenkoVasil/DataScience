{
 "cells": [
  {
   "cell_type": "code",
   "execution_count": 1,
   "metadata": {},
   "outputs": [
    {
     "name": "stderr",
     "output_type": "stream",
     "text": [
      "C:\\ProgramData\\Anaconda3\\lib\\site-packages\\dask\\dataframe\\utils.py:13: FutureWarning: pandas.util.testing is deprecated. Use the functions in the public API at pandas.testing instead.\n",
      "  import pandas.util.testing as tm\n"
     ]
    }
   ],
   "source": [
    "import pandas as pd\n",
    "import numpy as np\n",
    "import pickle\n",
    "import random\n",
    "\n",
    "from sklearn.preprocessing import StandardScaler, MinMaxScaler\n",
    "from sklearn.model_selection import train_test_split, ShuffleSplit, cross_val_score, learning_curve\n",
    "from sklearn.model_selection import KFold, GridSearchCV, RandomizedSearchCV\n",
    "from sklearn.metrics import classification_report, precision_score, recall_score\n",
    "from sklearn.metrics import f1_score as f1 \n",
    "\n",
    "from sklearn.linear_model import LogisticRegression\n",
    "import xgboost as xgb, lightgbm as lgbm, catboost as catb\n",
    "from sklearn.ensemble import RandomForestClassifier as RF\n",
    "from sklearn.model_selection import train_test_split\n",
    "from sklearn.metrics import roc_auc_score\n",
    "from bayes_opt import BayesianOptimization\n",
    "\n",
    "import seaborn as sns\n",
    "from matplotlib import pyplot as plt\n",
    "%matplotlib inline"
   ]
  },
  {
   "cell_type": "code",
   "execution_count": 2,
   "metadata": {},
   "outputs": [],
   "source": [
    "def get_input(data_path: str) -> pd.DataFrame:\n",
    "    \"\"\"\n",
    "    Считывание данных и вывод основной информации о наборе данных.\n",
    "\n",
    "    Parameters\n",
    "    ----------\n",
    "    data_path: str\n",
    "        Название файла.\n",
    "\n",
    "    Returns\n",
    "    -------\n",
    "    data: pandas.core.frame.DataFrame\n",
    "        Загруженный набор данных в pandas.DataFrame\n",
    "\n",
    "    \"\"\"\n",
    "    base_path = \"Data\"\n",
    "    data = pd.read_csv(f\"{base_path}/{data_path}\")\n",
    "    data.columns = [col.lower() for col in data.columns]\n",
    "    print(f\"{data_path}: shape = {data.shape[0]} rows, {data.shape[1]} cols\")\n",
    "\n",
    "    return data\n",
    "\n",
    "def balance_df_by_target(df, target_name):\n",
    "\n",
    "    target_counts = df[target_name].value_counts()\n",
    "\n",
    "    major_class_name = target_counts.argmax()\n",
    "    minor_class_name = target_counts.argmin()\n",
    "#считаем минимально приемлемым уровень дисбаллансе\n",
    "    min_disbalance_level = 1\n",
    "    disbalance_coeff = int(target_counts[major_class_name] / target_counts[minor_class_name]) - 1\n",
    "    disbalance_coeff = round(disbalance_coeff / min_disbalance_level) \n",
    "    for i in range(disbalance_coeff):\n",
    "        sample = df[df[target_name] == minor_class_name].sample(target_counts[minor_class_name])\n",
    "        df = df.append(sample, ignore_index=True)\n",
    "\n",
    "    return df.sample(frac=1) \n",
    "\n",
    "def get_classification_report(y_train_true, y_train_pred, y_test_true, y_test_pred):\n",
    "    print('TRAIN\\n\\n' + classification_report(y_train_true, y_train_pred))\n",
    "    print('TEST\\n\\n' + classification_report(y_test_true, y_test_pred))\n",
    "    print('CONFUSION MATRIX\\n')\n",
    "    print(pd.crosstab(y_test_true, y_test_pred))\n",
    "    \n",
    "def calculate_permutation_importance(estimator, \n",
    "                                     metric: callable,\n",
    "                                     x_valid: pd.DataFrame,\n",
    "                                     y_valid: pd.Series) -> pd.Series:\n",
    "    \"\"\"\n",
    "    Расчет пермутированной важности признаков.\n",
    "    \"\"\"\n",
    "    scores = {}\n",
    "    y_pred = estimator.predict(x_valid)\n",
    "    base_score = metric(y_valid, y_pred)\n",
    "\n",
    "    for feature in x_valid.columns:\n",
    "        x_valid_copy = x_valid.copy()\n",
    "        x_valid_copy[feature] = np.random.permutation(x_valid_copy[feature])\n",
    "\n",
    "        y_pred = estimator.predict(x_valid_copy)\n",
    "        score = metric(y_valid, y_pred)\n",
    "        scores[feature] = base_score - score\n",
    "\n",
    "    scores = pd.Series(scores)\n",
    "    scores = scores.sort_values(ascending=False)\n",
    "\n",
    "    return scores    "
   ]
  },
  {
   "cell_type": "code",
   "execution_count": 4,
   "metadata": {},
   "outputs": [
    {
     "name": "stdout",
     "output_type": "stream",
     "text": [
      "X_train.csv: shape = 9997730 rows, 11 cols\n"
     ]
    }
   ],
   "source": [
    "X_train = get_input(\"X_train.csv\")\n",
    "#X_valid = get_input(\"X_valid.csv\")\n",
    "#test_id = X_valid[\"id\"]"
   ]
  },
  {
   "cell_type": "code",
   "execution_count": 5,
   "metadata": {},
   "outputs": [
    {
     "name": "stdout",
     "output_type": "stream",
     "text": [
      "y_train.csv: shape = 9997730 rows, 2 cols\n"
     ]
    }
   ],
   "source": [
    "y_train = get_input(\"y_train.csv\")"
   ]
  },
  {
   "cell_type": "code",
   "execution_count": 6,
   "metadata": {},
   "outputs": [
    {
     "data": {
      "text/html": [
       "<div>\n",
       "<style scoped>\n",
       "    .dataframe tbody tr th:only-of-type {\n",
       "        vertical-align: middle;\n",
       "    }\n",
       "\n",
       "    .dataframe tbody tr th {\n",
       "        vertical-align: top;\n",
       "    }\n",
       "\n",
       "    .dataframe thead th {\n",
       "        text-align: right;\n",
       "    }\n",
       "</style>\n",
       "<table border=\"1\" class=\"dataframe\">\n",
       "  <thead>\n",
       "    <tr style=\"text-align: right;\">\n",
       "      <th></th>\n",
       "      <th>id</th>\n",
       "      <th>country_code</th>\n",
       "      <th>city_id</th>\n",
       "      <th>dbm_request_time</th>\n",
       "      <th>dbm_creative_id</th>\n",
       "      <th>dbm_language</th>\n",
       "      <th>dbm_operating_system_id</th>\n",
       "      <th>dbm_browser_platform_id</th>\n",
       "      <th>dbm_device_type</th>\n",
       "      <th>dbm_mobile_model_id</th>\n",
       "      <th>domen</th>\n",
       "      <th>target</th>\n",
       "    </tr>\n",
       "  </thead>\n",
       "  <tbody>\n",
       "    <tr>\n",
       "      <th>0</th>\n",
       "      <td>216627</td>\n",
       "      <td>RU</td>\n",
       "      <td>29451.0</td>\n",
       "      <td>2019-12-31 13:34:15</td>\n",
       "      <td>215162880.0</td>\n",
       "      <td>RU</td>\n",
       "      <td>1175.0</td>\n",
       "      <td>3.0</td>\n",
       "      <td>2.0</td>\n",
       "      <td>6997.0</td>\n",
       "      <td>russianfood.com</td>\n",
       "      <td>0</td>\n",
       "    </tr>\n",
       "    <tr>\n",
       "      <th>1</th>\n",
       "      <td>1392116</td>\n",
       "      <td>RU</td>\n",
       "      <td>29435.0</td>\n",
       "      <td>2019-12-26 09:34:49</td>\n",
       "      <td>215162880.0</td>\n",
       "      <td>RU</td>\n",
       "      <td>1212.0</td>\n",
       "      <td>6.0</td>\n",
       "      <td>2.0</td>\n",
       "      <td>1013.0</td>\n",
       "      <td>mbapp_url</td>\n",
       "      <td>0</td>\n",
       "    </tr>\n",
       "  </tbody>\n",
       "</table>\n",
       "</div>"
      ],
      "text/plain": [
       "        id country_code  city_id     dbm_request_time  dbm_creative_id  \\\n",
       "0   216627           RU  29451.0  2019-12-31 13:34:15      215162880.0   \n",
       "1  1392116           RU  29435.0  2019-12-26 09:34:49      215162880.0   \n",
       "\n",
       "  dbm_language  dbm_operating_system_id  dbm_browser_platform_id  \\\n",
       "0           RU                   1175.0                      3.0   \n",
       "1           RU                   1212.0                      6.0   \n",
       "\n",
       "   dbm_device_type dbm_mobile_model_id            domen  target  \n",
       "0              2.0              6997.0  russianfood.com       0  \n",
       "1              2.0              1013.0        mbapp_url       0  "
      ]
     },
     "execution_count": 6,
     "metadata": {},
     "output_type": "execute_result"
    }
   ],
   "source": [
    "X_train = X_train.merge(y_train, on=\"id\")\n",
    "#data = data.reset_index(drop=True)\n",
    "X_train.head(n=2)"
   ]
  },
  {
   "cell_type": "markdown",
   "metadata": {},
   "source": [
    "Анализ набора данных"
   ]
  },
  {
   "cell_type": "code",
   "execution_count": 7,
   "metadata": {},
   "outputs": [
    {
     "data": {
      "text/plain": [
       "35150"
      ]
     },
     "execution_count": 7,
     "metadata": {},
     "output_type": "execute_result"
    }
   ],
   "source": [
    "len(X_train[X_train['target'] == 1])"
   ]
  },
  {
   "cell_type": "code",
   "execution_count": 8,
   "metadata": {},
   "outputs": [
    {
     "data": {
      "text/plain": [
       "9997730"
      ]
     },
     "execution_count": 8,
     "metadata": {},
     "output_type": "execute_result"
    }
   ],
   "source": [
    "len(X_train)"
   ]
  },
  {
   "cell_type": "code",
   "execution_count": 9,
   "metadata": {},
   "outputs": [
    {
     "data": {
      "text/plain": [
       "'2019-11-25 13:44:26'"
      ]
     },
     "execution_count": 9,
     "metadata": {},
     "output_type": "execute_result"
    }
   ],
   "source": [
    "X_train['dbm_request_time'].min() "
   ]
  },
  {
   "cell_type": "code",
   "execution_count": 10,
   "metadata": {},
   "outputs": [
    {
     "data": {
      "text/plain": [
       "'2019-12-31 22:59:39'"
      ]
     },
     "execution_count": 10,
     "metadata": {},
     "output_type": "execute_result"
    }
   ],
   "source": [
    "X_train['dbm_request_time'].max() "
   ]
  },
  {
   "cell_type": "code",
   "execution_count": 11,
   "metadata": {},
   "outputs": [],
   "source": [
    "#формируем новый сокращенный df для экономии памяти\n",
    "#часть данных с target=0 можно смело сократить\n",
    "#на наборе данных выбираем только четные минуты (половина) и четные секунды и target = 0 (набор несбалансирован)\n",
    "#но инфу о минутах и секундах не сохраняем в модели чтобы не могла переобучиться\n",
    "X_train['dbm_request_time'] = pd.to_datetime(X_train['dbm_request_time'],format=\"%Y-%m-%d %H:%M:%S\")\n",
    "X_train = X_train[(X_train['dbm_request_time'].dt.second % 3 == 0) & (X_train['target'] == 0) | (X_train['target'] != 0)]"
   ]
  },
  {
   "cell_type": "code",
   "execution_count": 12,
   "metadata": {},
   "outputs": [],
   "source": [
    "X_train.to_csv(\"./Data/X_train2.csv\")"
   ]
  },
  {
   "cell_type": "code",
   "execution_count": 3,
   "metadata": {},
   "outputs": [
    {
     "name": "stdout",
     "output_type": "stream",
     "text": [
      "X_train2.csv: shape = 3355346 rows, 13 cols\n",
      "X_valid.csv: shape = 6665154 rows, 11 cols\n"
     ]
    }
   ],
   "source": [
    "X_train = get_input(\"X_train2.csv\")\n",
    "X_valid = get_input(\"X_valid.csv\")\n",
    "test_id = X_valid[\"id\"]"
   ]
  },
  {
   "cell_type": "code",
   "execution_count": 4,
   "metadata": {},
   "outputs": [
    {
     "data": {
      "text/plain": [
       "Index(['unnamed: 0', 'id', 'country_code', 'city_id', 'dbm_request_time',\n",
       "       'dbm_creative_id', 'dbm_language', 'dbm_operating_system_id',\n",
       "       'dbm_browser_platform_id', 'dbm_device_type', 'dbm_mobile_model_id',\n",
       "       'domen', 'target'],\n",
       "      dtype='object')"
      ]
     },
     "execution_count": 4,
     "metadata": {},
     "output_type": "execute_result"
    }
   ],
   "source": [
    "X_train.columns"
   ]
  },
  {
   "cell_type": "code",
   "execution_count": 5,
   "metadata": {},
   "outputs": [
    {
     "data": {
      "text/html": [
       "<div>\n",
       "<style scoped>\n",
       "    .dataframe tbody tr th:only-of-type {\n",
       "        vertical-align: middle;\n",
       "    }\n",
       "\n",
       "    .dataframe tbody tr th {\n",
       "        vertical-align: top;\n",
       "    }\n",
       "\n",
       "    .dataframe thead th {\n",
       "        text-align: right;\n",
       "    }\n",
       "</style>\n",
       "<table border=\"1\" class=\"dataframe\">\n",
       "  <thead>\n",
       "    <tr style=\"text-align: right;\">\n",
       "      <th></th>\n",
       "      <th>unnamed: 0</th>\n",
       "      <th>id</th>\n",
       "      <th>country_code</th>\n",
       "      <th>city_id</th>\n",
       "      <th>dbm_request_time</th>\n",
       "      <th>dbm_creative_id</th>\n",
       "      <th>dbm_language</th>\n",
       "      <th>dbm_operating_system_id</th>\n",
       "      <th>dbm_browser_platform_id</th>\n",
       "      <th>dbm_device_type</th>\n",
       "      <th>dbm_mobile_model_id</th>\n",
       "      <th>domen</th>\n",
       "      <th>target</th>\n",
       "      <th>valid</th>\n",
       "    </tr>\n",
       "  </thead>\n",
       "  <tbody>\n",
       "    <tr>\n",
       "      <th>0</th>\n",
       "      <td>0.0</td>\n",
       "      <td>216627</td>\n",
       "      <td>RU</td>\n",
       "      <td>29451.0</td>\n",
       "      <td>2019-12-31 13:34:15</td>\n",
       "      <td>215162880.0</td>\n",
       "      <td>RU</td>\n",
       "      <td>1175.0</td>\n",
       "      <td>3.0</td>\n",
       "      <td>2.0</td>\n",
       "      <td>6997.0</td>\n",
       "      <td>russianfood.com</td>\n",
       "      <td>0</td>\n",
       "      <td>0</td>\n",
       "    </tr>\n",
       "    <tr>\n",
       "      <th>1</th>\n",
       "      <td>2.0</td>\n",
       "      <td>9251464</td>\n",
       "      <td>RU</td>\n",
       "      <td>NaN</td>\n",
       "      <td>2019-12-25 11:10:03</td>\n",
       "      <td>215162880.0</td>\n",
       "      <td>RU</td>\n",
       "      <td>1205.0</td>\n",
       "      <td>3.0</td>\n",
       "      <td>2.0</td>\n",
       "      <td>7973.0</td>\n",
       "      <td>mbapp_url</td>\n",
       "      <td>0</td>\n",
       "      <td>0</td>\n",
       "    </tr>\n",
       "  </tbody>\n",
       "</table>\n",
       "</div>"
      ],
      "text/plain": [
       "   unnamed: 0       id country_code  city_id     dbm_request_time  \\\n",
       "0         0.0   216627           RU  29451.0  2019-12-31 13:34:15   \n",
       "1         2.0  9251464           RU      NaN  2019-12-25 11:10:03   \n",
       "\n",
       "   dbm_creative_id dbm_language  dbm_operating_system_id  \\\n",
       "0      215162880.0           RU                   1175.0   \n",
       "1      215162880.0           RU                   1205.0   \n",
       "\n",
       "   dbm_browser_platform_id  dbm_device_type dbm_mobile_model_id  \\\n",
       "0                      3.0              2.0              6997.0   \n",
       "1                      3.0              2.0              7973.0   \n",
       "\n",
       "             domen  target  valid  \n",
       "0  russianfood.com       0      0  \n",
       "1        mbapp_url       0      0  "
      ]
     },
     "execution_count": 5,
     "metadata": {},
     "output_type": "execute_result"
    }
   ],
   "source": [
    "#добавим искусственное поле, чтобы потом разделить трэйн и валид\n",
    "X_train['valid'] = 0\n",
    "X_valid['valid'] = 1\n",
    "X_valid['target'] = -1\n",
    "df = pd.concat([X_train, X_valid], axis=0)\n",
    "df = df.reset_index(drop=True)\n",
    "df.head(n=2)"
   ]
  },
  {
   "cell_type": "code",
   "execution_count": 6,
   "metadata": {},
   "outputs": [
    {
     "data": {
      "text/plain": [
       "977"
      ]
     },
     "execution_count": 6,
     "metadata": {},
     "output_type": "execute_result"
    }
   ],
   "source": [
    "len(df['city_id'].unique())"
   ]
  },
  {
   "cell_type": "code",
   "execution_count": 7,
   "metadata": {},
   "outputs": [
    {
     "data": {
      "text/plain": [
       "29378.0"
      ]
     },
     "execution_count": 7,
     "metadata": {},
     "output_type": "execute_result"
    }
   ],
   "source": [
    "df['city_id'].median()"
   ]
  },
  {
   "cell_type": "code",
   "execution_count": 8,
   "metadata": {},
   "outputs": [
    {
     "data": {
      "text/plain": [
       "7"
      ]
     },
     "execution_count": 8,
     "metadata": {},
     "output_type": "execute_result"
    }
   ],
   "source": [
    "len(df['dbm_creative_id'].unique())"
   ]
  },
  {
   "cell_type": "code",
   "execution_count": 9,
   "metadata": {},
   "outputs": [
    {
     "data": {
      "text/plain": [
       "2"
      ]
     },
     "execution_count": 9,
     "metadata": {},
     "output_type": "execute_result"
    }
   ],
   "source": [
    "len(df['dbm_device_type'].unique())"
   ]
  },
  {
   "cell_type": "code",
   "execution_count": 10,
   "metadata": {},
   "outputs": [
    {
     "data": {
      "text/plain": [
       "unnamed: 0                 6665154\n",
       "id                               0\n",
       "country_code                     0\n",
       "city_id                    1190693\n",
       "dbm_request_time                 0\n",
       "dbm_creative_id                  0\n",
       "dbm_language                     0\n",
       "dbm_operating_system_id          0\n",
       "dbm_browser_platform_id          0\n",
       "dbm_device_type                  0\n",
       "dbm_mobile_model_id              0\n",
       "domen                            0\n",
       "target                           0\n",
       "valid                            0\n",
       "dtype: int64"
      ]
     },
     "execution_count": 10,
     "metadata": {},
     "output_type": "execute_result"
    }
   ],
   "source": [
    "#посмотрим пропуски\n",
    "df.isnull().sum()"
   ]
  },
  {
   "cell_type": "markdown",
   "metadata": {},
   "source": [
    "Обработка сырых данных. "
   ]
  },
  {
   "cell_type": "code",
   "execution_count": 11,
   "metadata": {},
   "outputs": [],
   "source": [
    "#обработка времени\n",
    "df['dbm_request_time'] = pd.to_datetime(X_train['dbm_request_time'],format=\"%Y-%m-%d %H:%M:%S\")\n",
    "##сделать новые переменные: месяц, число, час захода в сеть\n",
    "df['month'] = df['dbm_request_time'].dt.month\n",
    "df['day'] = df['dbm_request_time'].dt.day\n",
    "df['time'] = df['dbm_request_time'].dt.hour\n",
    "df['day_of_week'] = df['dbm_request_time'].dt.weekday"
   ]
  },
  {
   "cell_type": "code",
   "execution_count": 12,
   "metadata": {},
   "outputs": [],
   "source": [
    "#заполнение пропущенных значений\n",
    "df.loc[df['city_id'].isnull(), 'city_id'] = df['city_id'].median()"
   ]
  },
  {
   "cell_type": "code",
   "execution_count": 13,
   "metadata": {},
   "outputs": [
    {
     "data": {
      "text/plain": [
       "unnamed: 0                 6665154\n",
       "id                               0\n",
       "country_code                     0\n",
       "city_id                          0\n",
       "dbm_request_time           6665154\n",
       "dbm_creative_id                  0\n",
       "dbm_language                     0\n",
       "dbm_operating_system_id          0\n",
       "dbm_browser_platform_id          0\n",
       "dbm_device_type                  0\n",
       "dbm_mobile_model_id              0\n",
       "domen                            0\n",
       "target                           0\n",
       "valid                            0\n",
       "month                      6665154\n",
       "day                        6665154\n",
       "time                       6665154\n",
       "day_of_week                6665154\n",
       "dtype: int64"
      ]
     },
     "execution_count": 13,
     "metadata": {},
     "output_type": "execute_result"
    }
   ],
   "source": [
    "df.isnull().sum()"
   ]
  },
  {
   "cell_type": "code",
   "execution_count": 14,
   "metadata": {},
   "outputs": [
    {
     "data": {
      "text/html": [
       "<div>\n",
       "<style scoped>\n",
       "    .dataframe tbody tr th:only-of-type {\n",
       "        vertical-align: middle;\n",
       "    }\n",
       "\n",
       "    .dataframe tbody tr th {\n",
       "        vertical-align: top;\n",
       "    }\n",
       "\n",
       "    .dataframe thead th {\n",
       "        text-align: right;\n",
       "    }\n",
       "</style>\n",
       "<table border=\"1\" class=\"dataframe\">\n",
       "  <thead>\n",
       "    <tr style=\"text-align: right;\">\n",
       "      <th></th>\n",
       "      <th>country_code</th>\n",
       "      <th>dbm_language</th>\n",
       "      <th>dbm_mobile_model_id</th>\n",
       "      <th>domen</th>\n",
       "    </tr>\n",
       "  </thead>\n",
       "  <tbody>\n",
       "    <tr>\n",
       "      <th>count</th>\n",
       "      <td>10020500</td>\n",
       "      <td>10020500</td>\n",
       "      <td>10020500</td>\n",
       "      <td>10020500</td>\n",
       "    </tr>\n",
       "    <tr>\n",
       "      <th>unique</th>\n",
       "      <td>2</td>\n",
       "      <td>2</td>\n",
       "      <td>100</td>\n",
       "      <td>100</td>\n",
       "    </tr>\n",
       "    <tr>\n",
       "      <th>top</th>\n",
       "      <td>RU</td>\n",
       "      <td>RU</td>\n",
       "      <td>7812.0</td>\n",
       "      <td>other</td>\n",
       "    </tr>\n",
       "    <tr>\n",
       "      <th>freq</th>\n",
       "      <td>9996743</td>\n",
       "      <td>9276371</td>\n",
       "      <td>1890235</td>\n",
       "      <td>4032016</td>\n",
       "    </tr>\n",
       "  </tbody>\n",
       "</table>\n",
       "</div>"
      ],
      "text/plain": [
       "       country_code dbm_language dbm_mobile_model_id     domen\n",
       "count      10020500     10020500            10020500  10020500\n",
       "unique            2            2                 100       100\n",
       "top              RU           RU              7812.0     other\n",
       "freq        9996743      9276371             1890235   4032016"
      ]
     },
     "execution_count": 14,
     "metadata": {},
     "output_type": "execute_result"
    }
   ],
   "source": [
    "df.describe(include=[np.object])"
   ]
  },
  {
   "cell_type": "code",
   "execution_count": 15,
   "metadata": {},
   "outputs": [
    {
     "data": {
      "text/html": [
       "<div>\n",
       "<style scoped>\n",
       "    .dataframe tbody tr th:only-of-type {\n",
       "        vertical-align: middle;\n",
       "    }\n",
       "\n",
       "    .dataframe tbody tr th {\n",
       "        vertical-align: top;\n",
       "    }\n",
       "\n",
       "    .dataframe thead th {\n",
       "        text-align: right;\n",
       "    }\n",
       "</style>\n",
       "<table border=\"1\" class=\"dataframe\">\n",
       "  <thead>\n",
       "    <tr style=\"text-align: right;\">\n",
       "      <th></th>\n",
       "      <th>210330400.0</th>\n",
       "      <th>215161760.0</th>\n",
       "      <th>215162380.0</th>\n",
       "      <th>215162880.0</th>\n",
       "      <th>215163700.0</th>\n",
       "      <th>215163790.0</th>\n",
       "      <th>215164000.0</th>\n",
       "    </tr>\n",
       "  </thead>\n",
       "  <tbody>\n",
       "    <tr>\n",
       "      <th>0</th>\n",
       "      <td>0</td>\n",
       "      <td>0</td>\n",
       "      <td>0</td>\n",
       "      <td>1</td>\n",
       "      <td>0</td>\n",
       "      <td>0</td>\n",
       "      <td>0</td>\n",
       "    </tr>\n",
       "    <tr>\n",
       "      <th>1</th>\n",
       "      <td>0</td>\n",
       "      <td>0</td>\n",
       "      <td>0</td>\n",
       "      <td>1</td>\n",
       "      <td>0</td>\n",
       "      <td>0</td>\n",
       "      <td>0</td>\n",
       "    </tr>\n",
       "    <tr>\n",
       "      <th>2</th>\n",
       "      <td>0</td>\n",
       "      <td>0</td>\n",
       "      <td>0</td>\n",
       "      <td>1</td>\n",
       "      <td>0</td>\n",
       "      <td>0</td>\n",
       "      <td>0</td>\n",
       "    </tr>\n",
       "    <tr>\n",
       "      <th>3</th>\n",
       "      <td>0</td>\n",
       "      <td>0</td>\n",
       "      <td>0</td>\n",
       "      <td>1</td>\n",
       "      <td>0</td>\n",
       "      <td>0</td>\n",
       "      <td>0</td>\n",
       "    </tr>\n",
       "    <tr>\n",
       "      <th>4</th>\n",
       "      <td>0</td>\n",
       "      <td>0</td>\n",
       "      <td>0</td>\n",
       "      <td>1</td>\n",
       "      <td>0</td>\n",
       "      <td>0</td>\n",
       "      <td>0</td>\n",
       "    </tr>\n",
       "    <tr>\n",
       "      <th>...</th>\n",
       "      <td>...</td>\n",
       "      <td>...</td>\n",
       "      <td>...</td>\n",
       "      <td>...</td>\n",
       "      <td>...</td>\n",
       "      <td>...</td>\n",
       "      <td>...</td>\n",
       "    </tr>\n",
       "    <tr>\n",
       "      <th>10020495</th>\n",
       "      <td>0</td>\n",
       "      <td>0</td>\n",
       "      <td>0</td>\n",
       "      <td>1</td>\n",
       "      <td>0</td>\n",
       "      <td>0</td>\n",
       "      <td>0</td>\n",
       "    </tr>\n",
       "    <tr>\n",
       "      <th>10020496</th>\n",
       "      <td>0</td>\n",
       "      <td>0</td>\n",
       "      <td>0</td>\n",
       "      <td>1</td>\n",
       "      <td>0</td>\n",
       "      <td>0</td>\n",
       "      <td>0</td>\n",
       "    </tr>\n",
       "    <tr>\n",
       "      <th>10020497</th>\n",
       "      <td>0</td>\n",
       "      <td>0</td>\n",
       "      <td>0</td>\n",
       "      <td>0</td>\n",
       "      <td>0</td>\n",
       "      <td>1</td>\n",
       "      <td>0</td>\n",
       "    </tr>\n",
       "    <tr>\n",
       "      <th>10020498</th>\n",
       "      <td>0</td>\n",
       "      <td>0</td>\n",
       "      <td>0</td>\n",
       "      <td>1</td>\n",
       "      <td>0</td>\n",
       "      <td>0</td>\n",
       "      <td>0</td>\n",
       "    </tr>\n",
       "    <tr>\n",
       "      <th>10020499</th>\n",
       "      <td>0</td>\n",
       "      <td>0</td>\n",
       "      <td>0</td>\n",
       "      <td>1</td>\n",
       "      <td>0</td>\n",
       "      <td>0</td>\n",
       "      <td>0</td>\n",
       "    </tr>\n",
       "  </tbody>\n",
       "</table>\n",
       "<p>10020500 rows × 7 columns</p>\n",
       "</div>"
      ],
      "text/plain": [
       "          210330400.0  215161760.0  215162380.0  215162880.0  215163700.0  \\\n",
       "0                   0            0            0            1            0   \n",
       "1                   0            0            0            1            0   \n",
       "2                   0            0            0            1            0   \n",
       "3                   0            0            0            1            0   \n",
       "4                   0            0            0            1            0   \n",
       "...               ...          ...          ...          ...          ...   \n",
       "10020495            0            0            0            1            0   \n",
       "10020496            0            0            0            1            0   \n",
       "10020497            0            0            0            0            0   \n",
       "10020498            0            0            0            1            0   \n",
       "10020499            0            0            0            1            0   \n",
       "\n",
       "          215163790.0  215164000.0  \n",
       "0                   0            0  \n",
       "1                   0            0  \n",
       "2                   0            0  \n",
       "3                   0            0  \n",
       "4                   0            0  \n",
       "...               ...          ...  \n",
       "10020495            0            0  \n",
       "10020496            0            0  \n",
       "10020497            1            0  \n",
       "10020498            0            0  \n",
       "10020499            0            0  \n",
       "\n",
       "[10020500 rows x 7 columns]"
      ]
     },
     "execution_count": 15,
     "metadata": {},
     "output_type": "execute_result"
    }
   ],
   "source": [
    "#фича инжиниринг\n",
    "#сделать dummy-переменные (почти все кроме city_id)\n",
    "#сделать новые переменные: месяц, число, час захода в сеть\n",
    "\n",
    "#обработка категориальных переменных\n",
    "#делаем dummy-переменную вместо категориальной\n",
    "pd.get_dummies(df['dbm_creative_id'])"
   ]
  },
  {
   "cell_type": "code",
   "execution_count": 16,
   "metadata": {},
   "outputs": [],
   "source": [
    "df[['210330400','215161760','215162380','215162880','215163700','215163790','215164000']] = pd.get_dummies(df['dbm_creative_id'])"
   ]
  },
  {
   "cell_type": "code",
   "execution_count": 17,
   "metadata": {},
   "outputs": [],
   "source": [
    "#удаляем старое поле\n",
    "df = df.drop('dbm_creative_id', axis=1)"
   ]
  },
  {
   "cell_type": "code",
   "execution_count": 18,
   "metadata": {},
   "outputs": [],
   "source": [
    "df[['0.0','1.0','3.0','6.0','1038.0']] = pd.get_dummies(df['dbm_browser_platform_id'])"
   ]
  },
  {
   "cell_type": "code",
   "execution_count": 19,
   "metadata": {},
   "outputs": [],
   "source": [
    "df = df.drop('dbm_browser_platform_id', axis=1)"
   ]
  },
  {
   "cell_type": "code",
   "execution_count": 20,
   "metadata": {},
   "outputs": [],
   "source": [
    "df[['dbm_device_type_1.0','dbm_device_type_3.0']] = pd.get_dummies(df['dbm_device_type'])"
   ]
  },
  {
   "cell_type": "code",
   "execution_count": 21,
   "metadata": {},
   "outputs": [],
   "source": [
    "df = df.drop('dbm_device_type', axis=1)"
   ]
  },
  {
   "cell_type": "code",
   "execution_count": 22,
   "metadata": {},
   "outputs": [],
   "source": [
    "df = df.drop('country_code', axis=1)"
   ]
  },
  {
   "cell_type": "code",
   "execution_count": 23,
   "metadata": {},
   "outputs": [],
   "source": [
    "df[['dbm_language_Other','dbm_language_RU']] = pd.get_dummies(df['dbm_language'])"
   ]
  },
  {
   "cell_type": "code",
   "execution_count": 24,
   "metadata": {},
   "outputs": [],
   "source": [
    "df = df.drop('dbm_language', axis=1)"
   ]
  },
  {
   "cell_type": "code",
   "execution_count": 25,
   "metadata": {},
   "outputs": [],
   "source": [
    "df = df.drop('dbm_operating_system_id', axis=1)"
   ]
  },
  {
   "cell_type": "code",
   "execution_count": 26,
   "metadata": {},
   "outputs": [
    {
     "data": {
      "text/plain": [
       "news.sportbox.ru    0.006176\n",
       "euroki.org          0.007524\n",
       "drive2.ru           0.008918\n",
       "versiya.info        0.010891\n",
       "yaplakal.com        0.011424\n",
       "adme.ru             0.014519\n",
       "cosmo.ru            0.016451\n",
       "accuweather.com     0.025217\n",
       "mbapp_url           0.311289\n",
       "other               0.402377\n",
       "Name: domen, dtype: float64"
      ]
     },
     "execution_count": 26,
     "metadata": {},
     "output_type": "execute_result"
    }
   ],
   "source": [
    "#вместо категориального поля домен и город вставляем частотность домена, города\n",
    "freq_encoder = df[\"domen\"].value_counts(normalize=True)\n",
    "df[\"domen_freq_enc\"] = df[\"domen\"].map(freq_encoder)\n",
    "top10_domens_df = freq_encoder.sort_values().tail(10)\n",
    "top10_domens_df"
   ]
  },
  {
   "cell_type": "code",
   "execution_count": 27,
   "metadata": {},
   "outputs": [
    {
     "data": {
      "text/plain": [
       "cosmo.ru           0.004950\n",
       "rustih.ru          0.005121\n",
       "drive2.ru          0.005263\n",
       "mixnews.lv         0.006031\n",
       "ixbt.com           0.007624\n",
       "versiya.info       0.009644\n",
       "adme.ru            0.015363\n",
       "accuweather.com    0.023073\n",
       "other              0.276785\n",
       "mbapp_url          0.528450\n",
       "Name: domen, dtype: float64"
      ]
     },
     "execution_count": 27,
     "metadata": {},
     "output_type": "execute_result"
    }
   ],
   "source": [
    "#вставляем частотность кликабельности домена\n",
    "freq_target1 = df[df['target'] == 1][\"domen\"].value_counts(normalize=True)\n",
    "df[\"rating\"] = df[\"domen\"].map(freq_target1)\n",
    "top10_domens_df2 = freq_target1.sort_values().tail(10)\n",
    "#10 самых кликабельных доменов\n",
    "top10_domens_df2"
   ]
  },
  {
   "cell_type": "code",
   "execution_count": 28,
   "metadata": {},
   "outputs": [
    {
     "data": {
      "text/plain": [
       "expert.ru           0.004986\n",
       "ixbt.com            0.005190\n",
       "popmech.ru          0.005745\n",
       "mbapp_url           0.005955\n",
       "24smi.org           0.006785\n",
       "video-facts.com     0.006897\n",
       "genius.com          0.006965\n",
       "amalgama-lab.com    0.008321\n",
       "ask.fm                   NaN\n",
       "exler.ru                 NaN\n",
       "Name: domen, dtype: float64"
      ]
     },
     "execution_count": 28,
     "metadata": {},
     "output_type": "execute_result"
    }
   ],
   "source": [
    "prob = df[df['target'] == 1][\"domen\"].fillna(0).value_counts() / df[\"domen\"].value_counts()\n",
    "df[\"prob\"] = df[\"domen\"].map(prob)\n",
    "top10_domens_df3 = prob.sort_values().tail(10)\n",
    "#10 доменов c самой большой вероятностью клика если встретятся\n",
    "top10_domens_df3"
   ]
  },
  {
   "cell_type": "code",
   "execution_count": 29,
   "metadata": {},
   "outputs": [
    {
     "data": {
      "text/plain": [
       "['cosmo.ru',\n",
       " 'rustih.ru',\n",
       " 'drive2.ru',\n",
       " 'mixnews.lv',\n",
       " 'ixbt.com',\n",
       " 'versiya.info',\n",
       " 'adme.ru',\n",
       " 'accuweather.com',\n",
       " 'other',\n",
       " 'mbapp_url']"
      ]
     },
     "execution_count": 29,
     "metadata": {},
     "output_type": "execute_result"
    }
   ],
   "source": [
    "#подсчитываем top_10 самых популярных доменов (не забудь, что для валидационного набора это делать не надо, использовать готовый)\n",
    "top10_domens = list(top10_domens_df2.index)\n",
    "min_freq = top10_domens_df.min()\n",
    "top10_domens"
   ]
  },
  {
   "cell_type": "code",
   "execution_count": 30,
   "metadata": {},
   "outputs": [],
   "source": [
    "#добавление новых dummy-полей\n",
    "df[top10_domens] = pd.get_dummies(df['domen'])[top10_domens]"
   ]
  },
  {
   "cell_type": "code",
   "execution_count": 31,
   "metadata": {},
   "outputs": [],
   "source": [
    "df = df.drop('domen', axis=1)"
   ]
  },
  {
   "cell_type": "code",
   "execution_count": 32,
   "metadata": {},
   "outputs": [],
   "source": [
    "#частотность для города\n",
    "freq_encoder = df[\"city_id\"].value_counts(normalize=True)\n",
    "df[\"city_freq_enc\"] = df[\"city_id\"].map(freq_encoder)"
   ]
  },
  {
   "cell_type": "code",
   "execution_count": 33,
   "metadata": {},
   "outputs": [],
   "source": [
    "df = df.drop('city_id', axis=1)\n",
    "df = df.drop('dbm_mobile_model_id', axis=1)"
   ]
  },
  {
   "cell_type": "code",
   "execution_count": 34,
   "metadata": {},
   "outputs": [],
   "source": [
    "df = df.drop(['id','dbm_request_time'], axis=1)"
   ]
  },
  {
   "cell_type": "code",
   "execution_count": 35,
   "metadata": {},
   "outputs": [],
   "source": [
    "df = df.fillna(0)"
   ]
  },
  {
   "cell_type": "code",
   "execution_count": 36,
   "metadata": {},
   "outputs": [
    {
     "data": {
      "text/plain": [
       "Index(['unnamed: 0', 'target', 'valid', 'month', 'day', 'time', 'day_of_week',\n",
       "       '210330400', '215161760', '215162380', '215162880', '215163700',\n",
       "       '215163790', '215164000', '0.0', '1.0', '3.0', '6.0', '1038.0',\n",
       "       'dbm_device_type_1.0', 'dbm_device_type_3.0', 'dbm_language_Other',\n",
       "       'dbm_language_RU', 'domen_freq_enc', 'rating', 'prob', 'cosmo.ru',\n",
       "       'rustih.ru', 'drive2.ru', 'mixnews.lv', 'ixbt.com', 'versiya.info',\n",
       "       'adme.ru', 'accuweather.com', 'other', 'mbapp_url', 'city_freq_enc'],\n",
       "      dtype='object')"
      ]
     },
     "execution_count": 36,
     "metadata": {},
     "output_type": "execute_result"
    }
   ],
   "source": [
    "#обработанный набор данных\n",
    "df.columns"
   ]
  },
  {
   "cell_type": "code",
   "execution_count": 37,
   "metadata": {},
   "outputs": [],
   "source": [
    "X_train = df[df['valid'] == 0] "
   ]
  },
  {
   "cell_type": "code",
   "execution_count": 38,
   "metadata": {},
   "outputs": [],
   "source": [
    "X_valid = df[df['valid'] == 1] "
   ]
  },
  {
   "cell_type": "code",
   "execution_count": 39,
   "metadata": {},
   "outputs": [],
   "source": [
    "X_train = X_train.drop('valid', axis=1)\n",
    "X_valid = X_valid.drop('valid', axis=1)\n",
    "X_valid = X_valid.drop('target', axis=1)"
   ]
  },
  {
   "cell_type": "code",
   "execution_count": 40,
   "metadata": {},
   "outputs": [
    {
     "data": {
      "text/plain": [
       "36"
      ]
     },
     "execution_count": 40,
     "metadata": {},
     "output_type": "execute_result"
    }
   ],
   "source": [
    "len(X_train.columns)"
   ]
  },
  {
   "cell_type": "code",
   "execution_count": 41,
   "metadata": {},
   "outputs": [
    {
     "data": {
      "text/plain": [
       "Index(['unnamed: 0', 'month', 'day', 'time', 'day_of_week', '210330400',\n",
       "       '215161760', '215162380', '215162880', '215163700', '215163790',\n",
       "       '215164000', '0.0', '1.0', '3.0', '6.0', '1038.0',\n",
       "       'dbm_device_type_1.0', 'dbm_device_type_3.0', 'dbm_language_Other',\n",
       "       'dbm_language_RU', 'domen_freq_enc', 'rating', 'prob', 'cosmo.ru',\n",
       "       'rustih.ru', 'drive2.ru', 'mixnews.lv', 'ixbt.com', 'versiya.info',\n",
       "       'adme.ru', 'accuweather.com', 'other', 'mbapp_url', 'city_freq_enc'],\n",
       "      dtype='object')"
      ]
     },
     "execution_count": 41,
     "metadata": {},
     "output_type": "execute_result"
    }
   ],
   "source": [
    "X_valid.columns"
   ]
  },
  {
   "cell_type": "code",
   "execution_count": 42,
   "metadata": {},
   "outputs": [
    {
     "data": {
      "text/plain": [
       "35150"
      ]
     },
     "execution_count": 42,
     "metadata": {},
     "output_type": "execute_result"
    }
   ],
   "source": [
    "len(X_train[X_train['target'] == 1])"
   ]
  },
  {
   "cell_type": "code",
   "execution_count": 43,
   "metadata": {},
   "outputs": [
    {
     "data": {
      "text/plain": [
       "3355346"
      ]
     },
     "execution_count": 43,
     "metadata": {},
     "output_type": "execute_result"
    }
   ],
   "source": [
    "len(X_train)"
   ]
  },
  {
   "cell_type": "code",
   "execution_count": 44,
   "metadata": {},
   "outputs": [],
   "source": [
    "X_train = X_train.fillna(0)\n",
    "X_valid = X_valid.fillna(0)"
   ]
  },
  {
   "cell_type": "code",
   "execution_count": 45,
   "metadata": {},
   "outputs": [
    {
     "data": {
      "text/plain": [
       "0    3320196\n",
       "1    3304100\n",
       "Name: target, dtype: int64"
      ]
     },
     "execution_count": 45,
     "metadata": {},
     "output_type": "execute_result"
    }
   ],
   "source": [
    "#набор не сбалансирован! \n",
    "#балансировка\n",
    "TARGET_NAME = 'target'\n",
    "df_balanced = balance_df_by_target(X_train, TARGET_NAME)\n",
    "    \n",
    "df_balanced[TARGET_NAME].value_counts()"
   ]
  },
  {
   "cell_type": "code",
   "execution_count": 46,
   "metadata": {},
   "outputs": [],
   "source": [
    "#сокращаем набор данных и выбираем лучшую модель на сокращенном наборе данных для экономии времени на тренировку модели."
   ]
  },
  {
   "cell_type": "code",
   "execution_count": 47,
   "metadata": {},
   "outputs": [],
   "source": [
    "df = df_balanced[df_balanced['day'] > 25]"
   ]
  },
  {
   "cell_type": "code",
   "execution_count": 48,
   "metadata": {},
   "outputs": [],
   "source": [
    "X = df.drop('target', axis=1)\n",
    "y = df[TARGET_NAME]\n",
    "\n",
    "X_train, X_test, y_train, y_test = train_test_split(X, y, shuffle=False, test_size=0.25, random_state=211)"
   ]
  },
  {
   "cell_type": "markdown",
   "metadata": {},
   "source": [
    "Построение и оценка базовых моделей"
   ]
  },
  {
   "cell_type": "markdown",
   "metadata": {},
   "source": [
    "Логистическая регрессия"
   ]
  },
  {
   "cell_type": "code",
   "execution_count": 49,
   "metadata": {},
   "outputs": [
    {
     "name": "stderr",
     "output_type": "stream",
     "text": [
      "C:\\ProgramData\\Anaconda3\\lib\\site-packages\\sklearn\\linear_model\\logistic.py:433: FutureWarning: Default solver will be changed to 'lbfgs' in 0.22. Specify a solver to silence this warning.\n",
      "  FutureWarning)\n",
      "C:\\ProgramData\\Anaconda3\\lib\\site-packages\\sklearn\\metrics\\classification.py:1143: UndefinedMetricWarning: Precision and F-score are ill-defined and being set to 0.0 in labels with no predicted samples.\n",
      "  'precision', 'predicted', average, warn_for)\n",
      "C:\\ProgramData\\Anaconda3\\lib\\site-packages\\sklearn\\metrics\\classification.py:1143: UndefinedMetricWarning: Precision and F-score are ill-defined and being set to 0.0 in labels with no predicted samples.\n",
      "  'precision', 'predicted', average, warn_for)\n",
      "C:\\ProgramData\\Anaconda3\\lib\\site-packages\\sklearn\\metrics\\classification.py:1143: UndefinedMetricWarning: Precision and F-score are ill-defined and being set to 0.0 in labels with no predicted samples.\n",
      "  'precision', 'predicted', average, warn_for)\n"
     ]
    },
    {
     "name": "stdout",
     "output_type": "stream",
     "text": [
      "TRAIN\n",
      "\n",
      "              precision    recall  f1-score   support\n",
      "\n",
      "           0       0.53      1.00      0.69   1260645\n",
      "           1       0.00      0.00      0.00   1117252\n",
      "\n",
      "   micro avg       0.53      0.53      0.53   2377897\n",
      "   macro avg       0.27      0.50      0.35   2377897\n",
      "weighted avg       0.28      0.53      0.37   2377897\n",
      "\n"
     ]
    },
    {
     "name": "stderr",
     "output_type": "stream",
     "text": [
      "C:\\ProgramData\\Anaconda3\\lib\\site-packages\\sklearn\\metrics\\classification.py:1143: UndefinedMetricWarning: Precision and F-score are ill-defined and being set to 0.0 in labels with no predicted samples.\n",
      "  'precision', 'predicted', average, warn_for)\n",
      "C:\\ProgramData\\Anaconda3\\lib\\site-packages\\sklearn\\metrics\\classification.py:1143: UndefinedMetricWarning: Precision and F-score are ill-defined and being set to 0.0 in labels with no predicted samples.\n",
      "  'precision', 'predicted', average, warn_for)\n",
      "C:\\ProgramData\\Anaconda3\\lib\\site-packages\\sklearn\\metrics\\classification.py:1143: UndefinedMetricWarning: Precision and F-score are ill-defined and being set to 0.0 in labels with no predicted samples.\n",
      "  'precision', 'predicted', average, warn_for)\n"
     ]
    },
    {
     "name": "stdout",
     "output_type": "stream",
     "text": [
      "TEST\n",
      "\n",
      "              precision    recall  f1-score   support\n",
      "\n",
      "           0       0.53      1.00      0.69    421012\n",
      "           1       0.00      0.00      0.00    371621\n",
      "\n",
      "   micro avg       0.53      0.53      0.53    792633\n",
      "   macro avg       0.27      0.50      0.35    792633\n",
      "weighted avg       0.28      0.53      0.37    792633\n",
      "\n",
      "CONFUSION MATRIX\n",
      "\n",
      "col_0        0\n",
      "target        \n",
      "0       421012\n",
      "1       371621\n"
     ]
    }
   ],
   "source": [
    "model_lr = LogisticRegression()\n",
    "model_lr.fit(X_train, y_train)\n",
    "\n",
    "y_train_pred = model_lr.predict(X_train)\n",
    "y_test_pred = model_lr.predict(X_test)\n",
    "\n",
    "get_classification_report(y_train, y_train_pred, y_test, y_test_pred)"
   ]
  },
  {
   "cell_type": "code",
   "execution_count": 50,
   "metadata": {},
   "outputs": [],
   "source": [
    "pred_test_proba = model_lr.predict_proba(X_test)"
   ]
  },
  {
   "cell_type": "code",
   "execution_count": 51,
   "metadata": {},
   "outputs": [
    {
     "data": {
      "text/plain": [
       "0.501946530150605"
      ]
     },
     "execution_count": 51,
     "metadata": {},
     "output_type": "execute_result"
    }
   ],
   "source": [
    "oof_preds = roc_auc_score(y_test, pred_test_proba[:,1])\n",
    "oof_preds"
   ]
  },
  {
   "cell_type": "markdown",
   "metadata": {},
   "source": [
    "попробуем случайный лес (RandomForest)."
   ]
  },
  {
   "cell_type": "code",
   "execution_count": 52,
   "metadata": {},
   "outputs": [],
   "source": [
    "clf = RF(max_depth=15,n_estimators=100,max_features=4,random_state=100)"
   ]
  },
  {
   "cell_type": "code",
   "execution_count": 53,
   "metadata": {},
   "outputs": [
    {
     "data": {
      "text/plain": [
       "RandomForestClassifier(bootstrap=True, class_weight=None, criterion='gini',\n",
       "            max_depth=15, max_features=4, max_leaf_nodes=None,\n",
       "            min_impurity_decrease=0.0, min_impurity_split=None,\n",
       "            min_samples_leaf=1, min_samples_split=2,\n",
       "            min_weight_fraction_leaf=0.0, n_estimators=100, n_jobs=None,\n",
       "            oob_score=False, random_state=100, verbose=0, warm_start=False)"
      ]
     },
     "execution_count": 53,
     "metadata": {},
     "output_type": "execute_result"
    }
   ],
   "source": [
    "clf.fit(X_train,y_train)"
   ]
  },
  {
   "cell_type": "code",
   "execution_count": 54,
   "metadata": {},
   "outputs": [],
   "source": [
    "pred = clf.predict(X_train)"
   ]
  },
  {
   "cell_type": "code",
   "execution_count": 55,
   "metadata": {},
   "outputs": [
    {
     "data": {
      "text/plain": [
       "0.6757835237480398"
      ]
     },
     "execution_count": 55,
     "metadata": {},
     "output_type": "execute_result"
    }
   ],
   "source": [
    "f1(y_train, pred, average='macro')"
   ]
  },
  {
   "cell_type": "code",
   "execution_count": 56,
   "metadata": {},
   "outputs": [],
   "source": [
    "pred_test = clf.predict(X_test)"
   ]
  },
  {
   "cell_type": "code",
   "execution_count": 57,
   "metadata": {},
   "outputs": [
    {
     "data": {
      "text/plain": [
       "0.6747188689435573"
      ]
     },
     "execution_count": 57,
     "metadata": {},
     "output_type": "execute_result"
    }
   ],
   "source": [
    "f1(y_test,pred_test, average='macro')"
   ]
  },
  {
   "cell_type": "code",
   "execution_count": 58,
   "metadata": {},
   "outputs": [],
   "source": [
    "pred_test_proba = clf.predict_proba(X_test)"
   ]
  },
  {
   "cell_type": "code",
   "execution_count": 59,
   "metadata": {},
   "outputs": [
    {
     "data": {
      "text/plain": [
       "0.7686479902137336"
      ]
     },
     "execution_count": 59,
     "metadata": {},
     "output_type": "execute_result"
    }
   ],
   "source": [
    "oof_preds_rf = roc_auc_score(y_test, pred_test_proba[:,1])\n",
    "oof_preds_rf"
   ]
  },
  {
   "cell_type": "markdown",
   "metadata": {},
   "source": [
    "XGBoost"
   ]
  },
  {
   "cell_type": "code",
   "execution_count": 60,
   "metadata": {},
   "outputs": [
    {
     "name": "stdout",
     "output_type": "stream",
     "text": [
      "Wall time: 7min 50s\n"
     ]
    }
   ],
   "source": [
    "%%time\n",
    "\n",
    "model_xgb = xgb.XGBClassifier(max_depth=15, booster=\"gbtree\",eval_metric=\"auc\", objective=\"binary:logistic\")\n",
    "\n",
    "model_xgb.fit(X_train, y_train)"
   ]
  },
  {
   "cell_type": "code",
   "execution_count": 61,
   "metadata": {},
   "outputs": [],
   "source": [
    "pred = model_xgb.predict(X_train)"
   ]
  },
  {
   "cell_type": "code",
   "execution_count": 62,
   "metadata": {},
   "outputs": [
    {
     "data": {
      "text/plain": [
       "0.9589289921110631"
      ]
     },
     "execution_count": 62,
     "metadata": {},
     "output_type": "execute_result"
    }
   ],
   "source": [
    "f1(y_train, pred, average='macro')"
   ]
  },
  {
   "cell_type": "code",
   "execution_count": 63,
   "metadata": {},
   "outputs": [],
   "source": [
    "pred_test = model_xgb.predict(X_test)"
   ]
  },
  {
   "cell_type": "code",
   "execution_count": 64,
   "metadata": {},
   "outputs": [
    {
     "data": {
      "text/plain": [
       "0.9550306077013984"
      ]
     },
     "execution_count": 64,
     "metadata": {},
     "output_type": "execute_result"
    }
   ],
   "source": [
    "f1(y_test,pred_test, average='macro')"
   ]
  },
  {
   "cell_type": "code",
   "execution_count": 65,
   "metadata": {},
   "outputs": [
    {
     "data": {
      "text/plain": [
       "array([[0.99784726, 0.00215273],\n",
       "       [0.96524614, 0.03475386],\n",
       "       [0.66090417, 0.33909583],\n",
       "       ...,\n",
       "       [0.7387016 , 0.26129845],\n",
       "       [0.4974404 , 0.5025596 ],\n",
       "       [0.6798816 , 0.32011846]], dtype=float32)"
      ]
     },
     "execution_count": 65,
     "metadata": {},
     "output_type": "execute_result"
    }
   ],
   "source": [
    "model_xgb.predict_proba(X_test)"
   ]
  },
  {
   "cell_type": "code",
   "execution_count": 66,
   "metadata": {},
   "outputs": [],
   "source": [
    "pred_test_proba = model_xgb.predict_proba(X_test)"
   ]
  },
  {
   "cell_type": "code",
   "execution_count": 67,
   "metadata": {},
   "outputs": [
    {
     "data": {
      "text/plain": [
       "0.5277564"
      ]
     },
     "execution_count": 67,
     "metadata": {},
     "output_type": "execute_result"
    }
   ],
   "source": [
    "pred_test_proba[:,0].mean()"
   ]
  },
  {
   "cell_type": "code",
   "execution_count": 68,
   "metadata": {},
   "outputs": [
    {
     "data": {
      "text/plain": [
       "0.47224358"
      ]
     },
     "execution_count": 68,
     "metadata": {},
     "output_type": "execute_result"
    }
   ],
   "source": [
    "pred_test_proba[:,1].mean()"
   ]
  },
  {
   "cell_type": "code",
   "execution_count": 69,
   "metadata": {},
   "outputs": [
    {
     "data": {
      "text/plain": [
       "0.9918241764517607"
      ]
     },
     "execution_count": 69,
     "metadata": {},
     "output_type": "execute_result"
    }
   ],
   "source": [
    "oof_preds_xgb = roc_auc_score(y_test, pred_test_proba[:,1])\n",
    "oof_preds_xgb"
   ]
  },
  {
   "cell_type": "markdown",
   "metadata": {},
   "source": [
    "Вывод: лучше всего работает XGBoost. Будем его использовать как финальную модель."
   ]
  },
  {
   "cell_type": "code",
   "execution_count": 70,
   "metadata": {},
   "outputs": [
    {
     "data": {
      "text/plain": [
       "unnamed: 0        0.408177\n",
       "time              0.269247\n",
       "city_freq_enc     0.253820\n",
       "prob              0.200609\n",
       "day               0.096552\n",
       "domen_freq_enc    0.069670\n",
       "day_of_week       0.064250\n",
       "215162880         0.056985\n",
       "rating            0.033803\n",
       "3.0               0.033084\n",
       "dtype: float64"
      ]
     },
     "execution_count": 70,
     "metadata": {},
     "output_type": "execute_result"
    }
   ],
   "source": [
    "#подсчет важности каждого признака\n",
    "perm_importance1 = calculate_permutation_importance(\n",
    "    estimator=model_xgb, metric=roc_auc_score, x_valid=X_test, y_valid=y_test\n",
    ")\n",
    "perm_importance1[:10]"
   ]
  },
  {
   "cell_type": "code",
   "execution_count": 89,
   "metadata": {},
   "outputs": [],
   "source": [
    "good_f = list(perm_importance1[:20].index)"
   ]
  },
  {
   "cell_type": "code",
   "execution_count": 97,
   "metadata": {},
   "outputs": [
    {
     "data": {
      "text/plain": [
       "['unnamed: 0',\n",
       " 'time',\n",
       " 'city_freq_enc',\n",
       " 'prob',\n",
       " 'day',\n",
       " 'domen_freq_enc',\n",
       " 'day_of_week',\n",
       " '215162880',\n",
       " 'rating',\n",
       " '3.0',\n",
       " '215163790',\n",
       " '215161760',\n",
       " 'dbm_language_Other',\n",
       " '6.0',\n",
       " '1038.0',\n",
       " 'accuweather.com',\n",
       " '0.0',\n",
       " 'dbm_device_type_1.0',\n",
       " 'versiya.info',\n",
       " '210330400']"
      ]
     },
     "execution_count": 97,
     "metadata": {},
     "output_type": "execute_result"
    }
   ],
   "source": [
    "good_f"
   ]
  },
  {
   "cell_type": "markdown",
   "metadata": {},
   "source": [
    "Тренировка выбранной модели"
   ]
  },
  {
   "cell_type": "code",
   "execution_count": 95,
   "metadata": {},
   "outputs": [],
   "source": [
    "df = df_balanced"
   ]
  },
  {
   "cell_type": "code",
   "execution_count": 96,
   "metadata": {},
   "outputs": [],
   "source": [
    "X = df[good_f] #обрезаем ненужные фичи\n",
    "y = df['target']\n",
    "\n",
    "X_train, X_test, y_train, y_test = train_test_split(X, y, shuffle=False, test_size=0.25, random_state=211)"
   ]
  },
  {
   "cell_type": "code",
   "execution_count": 98,
   "metadata": {},
   "outputs": [
    {
     "name": "stdout",
     "output_type": "stream",
     "text": [
      "[12:39:50] WARNING: C:\\Users\\Administrator\\workspace\\xgboost-win64_release_1.2.0\\src\\gbm\\gbtree.cc:139: Tree method is automatically selected to be 'approx' for faster speed. To use old behavior (exact greedy algorithm on single machine), set tree_method to 'exact'.\n",
      "Wall time: 18min 15s\n"
     ]
    }
   ],
   "source": [
    "%%time\n",
    "\n",
    "model_xgb = xgb.XGBClassifier(max_depth=15, booster=\"gbtree\",eval_metric=\"auc\", objective=\"binary:logistic\")\n",
    "\n",
    "model_xgb.fit(X_train, y_train)"
   ]
  },
  {
   "cell_type": "code",
   "execution_count": 99,
   "metadata": {},
   "outputs": [],
   "source": [
    "pred = model_xgb.predict(X_train)"
   ]
  },
  {
   "cell_type": "code",
   "execution_count": 100,
   "metadata": {},
   "outputs": [
    {
     "data": {
      "text/plain": [
       "0.9592629578569807"
      ]
     },
     "execution_count": 100,
     "metadata": {},
     "output_type": "execute_result"
    }
   ],
   "source": [
    "f1(y_train, pred, average='macro')"
   ]
  },
  {
   "cell_type": "code",
   "execution_count": 101,
   "metadata": {},
   "outputs": [
    {
     "data": {
      "text/plain": [
       "4968222"
      ]
     },
     "execution_count": 101,
     "metadata": {},
     "output_type": "execute_result"
    }
   ],
   "source": [
    "len(X_train)"
   ]
  },
  {
   "cell_type": "code",
   "execution_count": 102,
   "metadata": {},
   "outputs": [],
   "source": [
    "pred_test = model_xgb.predict(X_test)"
   ]
  },
  {
   "cell_type": "code",
   "execution_count": 103,
   "metadata": {},
   "outputs": [
    {
     "data": {
      "text/plain": [
       "0.9550741055715115"
      ]
     },
     "execution_count": 103,
     "metadata": {},
     "output_type": "execute_result"
    }
   ],
   "source": [
    "f1(y_test,pred_test, average='macro')"
   ]
  },
  {
   "cell_type": "code",
   "execution_count": 104,
   "metadata": {},
   "outputs": [
    {
     "data": {
      "text/plain": [
       "array([[7.1339691e-01, 2.8660309e-01],\n",
       "       [2.2426367e-02, 9.7757363e-01],\n",
       "       [3.9697826e-02, 9.6030217e-01],\n",
       "       ...,\n",
       "       [9.3735820e-01, 6.2641792e-02],\n",
       "       [9.8420376e-01, 1.5796240e-02],\n",
       "       [9.9999863e-01, 1.3442893e-06]], dtype=float32)"
      ]
     },
     "execution_count": 104,
     "metadata": {},
     "output_type": "execute_result"
    }
   ],
   "source": [
    "model_xgb.predict_proba(X_test)"
   ]
  },
  {
   "cell_type": "code",
   "execution_count": 105,
   "metadata": {},
   "outputs": [],
   "source": [
    "pred_test_proba = model_xgb.predict_proba(X_test)"
   ]
  },
  {
   "cell_type": "code",
   "execution_count": 106,
   "metadata": {},
   "outputs": [
    {
     "data": {
      "text/plain": [
       "0.49870116"
      ]
     },
     "execution_count": 106,
     "metadata": {},
     "output_type": "execute_result"
    }
   ],
   "source": [
    "pred_test_proba[:,0].mean()"
   ]
  },
  {
   "cell_type": "code",
   "execution_count": 107,
   "metadata": {},
   "outputs": [
    {
     "data": {
      "text/plain": [
       "0.50129884"
      ]
     },
     "execution_count": 107,
     "metadata": {},
     "output_type": "execute_result"
    }
   ],
   "source": [
    "pred_test_proba[:,1].mean()"
   ]
  },
  {
   "cell_type": "code",
   "execution_count": 108,
   "metadata": {},
   "outputs": [
    {
     "data": {
      "text/plain": [
       "2120451    0\n",
       "4197408    1\n",
       "6259010    1\n",
       "4842812    1\n",
       "5377195    1\n",
       "          ..\n",
       "5836732    1\n",
       "5585224    1\n",
       "2350672    0\n",
       "1994835    0\n",
       "81542      0\n",
       "Name: target, Length: 1656074, dtype: int64"
      ]
     },
     "execution_count": 108,
     "metadata": {},
     "output_type": "execute_result"
    }
   ],
   "source": [
    "y_test"
   ]
  },
  {
   "cell_type": "code",
   "execution_count": 109,
   "metadata": {},
   "outputs": [
    {
     "data": {
      "text/plain": [
       "0.9910818626203324"
      ]
     },
     "execution_count": 109,
     "metadata": {},
     "output_type": "execute_result"
    }
   ],
   "source": [
    "oof_preds_xgb = roc_auc_score(y_test, pred_test_proba[:,1])\n",
    "oof_preds_xgb"
   ]
  },
  {
   "cell_type": "markdown",
   "metadata": {},
   "source": [
    "Получение итоговых предсказаний на тестовом наборе"
   ]
  },
  {
   "cell_type": "code",
   "execution_count": 110,
   "metadata": {},
   "outputs": [
    {
     "data": {
      "text/plain": [
       "Index(['unnamed: 0', 'month', 'day', 'time', 'day_of_week', '210330400',\n",
       "       '215161760', '215162380', '215162880', '215163700', '215163790',\n",
       "       '215164000', '0.0', '1.0', '3.0', '6.0', '1038.0',\n",
       "       'dbm_device_type_1.0', 'dbm_device_type_3.0', 'dbm_language_Other',\n",
       "       'dbm_language_RU', 'domen_freq_enc', 'rating', 'prob', 'cosmo.ru',\n",
       "       'rustih.ru', 'drive2.ru', 'mixnews.lv', 'ixbt.com', 'versiya.info',\n",
       "       'adme.ru', 'accuweather.com', 'other', 'mbapp_url', 'city_freq_enc'],\n",
       "      dtype='object')"
      ]
     },
     "execution_count": 110,
     "metadata": {},
     "output_type": "execute_result"
    }
   ],
   "source": [
    "X_valid.columns"
   ]
  },
  {
   "cell_type": "code",
   "execution_count": 111,
   "metadata": {},
   "outputs": [],
   "source": [
    "#валидационный набор надо обработать точно также как обучающий\n",
    "X_valid = X_valid[good_f] #обрезаем ненужные фичи"
   ]
  },
  {
   "cell_type": "code",
   "execution_count": 112,
   "metadata": {},
   "outputs": [],
   "source": [
    "pred_valid_proba = model_xgb.predict_proba(X_valid)"
   ]
  },
  {
   "cell_type": "code",
   "execution_count": 113,
   "metadata": {},
   "outputs": [
    {
     "data": {
      "text/plain": [
       "array([[9.9919420e-01, 8.0579874e-04],\n",
       "       [9.9978989e-01, 2.1011736e-04],\n",
       "       [9.9995661e-01, 4.3411135e-05],\n",
       "       ...,\n",
       "       [9.9971825e-01, 2.8174731e-04],\n",
       "       [9.9865568e-01, 1.3443436e-03],\n",
       "       [9.9715233e-01, 2.8476447e-03]], dtype=float32)"
      ]
     },
     "execution_count": 113,
     "metadata": {},
     "output_type": "execute_result"
    }
   ],
   "source": [
    "pred_valid_proba"
   ]
  },
  {
   "cell_type": "code",
   "execution_count": 114,
   "metadata": {},
   "outputs": [
    {
     "data": {
      "text/plain": [
       "0.97671336"
      ]
     },
     "execution_count": 114,
     "metadata": {},
     "output_type": "execute_result"
    }
   ],
   "source": [
    "pred_valid_proba[:,0].mean()"
   ]
  },
  {
   "cell_type": "code",
   "execution_count": 115,
   "metadata": {},
   "outputs": [
    {
     "data": {
      "text/plain": [
       "0.023286365"
      ]
     },
     "execution_count": 115,
     "metadata": {},
     "output_type": "execute_result"
    }
   ],
   "source": [
    "pred_valid_proba[:,1].mean()"
   ]
  },
  {
   "cell_type": "code",
   "execution_count": 116,
   "metadata": {},
   "outputs": [],
   "source": [
    "y_pred = pd.DataFrame({\n",
    "    \"ID\": test_id,\n",
    "    \"TARGET\": pred_valid_proba[:,1]\n",
    "})\n",
    "y_pred.to_csv(\"./Data/pred_proba_VZinchenko.csv\",index=False)"
   ]
  },
  {
   "cell_type": "code",
   "execution_count": 117,
   "metadata": {},
   "outputs": [
    {
     "data": {
      "image/png": "[encoded data removed]",
      "text/plain": [
       "<Figure size 432x288 with 1 Axes>"
      ]
     },
     "metadata": {
      "needs_background": "light"
     },
     "output_type": "display_data"
    }
   ],
   "source": [
    "plt.hist(pred_valid_proba)\n",
    "_ = plt.axvline(x=0.5, color='orange')"
   ]
  },
  {
   "cell_type": "code",
   "execution_count": null,
   "metadata": {},
   "outputs": [],
   "source": []
  }
 ],
 "metadata": {
  "kernelspec": {
   "display_name": "Python 3",
   "language": "python",
   "name": "python3"
  }
 },
 "nbformat": 4,
 "nbformat_minor": 2
}
