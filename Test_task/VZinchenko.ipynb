{
 "cells": [
  {
   "cell_type": "code",
   "execution_count": 496,
   "metadata": {},
   "outputs": [],
   "source": [
    "import time\n",
    "import matplotlib as mpl\n",
    "import matplotlib.pyplot as plt\n",
    "import seaborn as sns\n",
    "import numpy as np\n",
    "import pandas as pd\n",
    "from sklearn.linear_model import LinearRegression\n",
    "from sklearn.metrics import r2_score as r2\n",
    "from sklearn.metrics import mean_squared_error as mse\n",
    "from sklearn.model_selection import train_test_split\n",
    "from sklearn.metrics import mean_squared_error as MSE"
   ]
  },
  {
   "cell_type": "code",
   "execution_count": 497,
   "metadata": {},
   "outputs": [],
   "source": [
    "def get_input(data_path: str) -> pd.DataFrame:\n",
    "    \"\"\"\n",
    "    Считывание данных и вывод основной информации о наборе данных.\n",
    "\n",
    "    Parameters\n",
    "    ----------\n",
    "    data_path: str\n",
    "        Название файла.\n",
    "\n",
    "    Returns\n",
    "    -------\n",
    "    data: pandas.core.frame.DataFrame\n",
    "        Загруженный набор данных в pandas.DataFrame\n",
    "\n",
    "    \"\"\"\n",
    "    base_path = \"Data\"\n",
    "    data = pd.read_csv(f\"{base_path}/{data_path}\")\n",
    "    data.columns = [col.lower() for col in data.columns]\n",
    "    print(f\"{data_path}: shape = {data.shape[0]} rows, {data.shape[1]} cols\")\n",
    "\n",
    "    return data\n",
    "\n",
    "def calculate_permutation_importance(estimator, \n",
    "                                     metric: callable,\n",
    "                                     x_valid: pd.DataFrame,\n",
    "                                     y_valid: pd.Series) -> pd.Series:\n",
    "    \"\"\"\n",
    "    Расчет пермутированной важности признаков.\n",
    "    \"\"\"\n",
    "    scores = {}\n",
    "    y_pred = estimator.predict(x_valid)\n",
    "    base_score = metric(y_valid, y_pred)\n",
    "\n",
    "    for feature in x_valid.columns:\n",
    "        x_valid_copy = x_valid.copy()\n",
    "        x_valid_copy[feature] = np.random.permutation(x_valid_copy[feature])\n",
    "\n",
    "        y_pred = estimator.predict(x_valid_copy)\n",
    "        score = metric(y_valid, y_pred)\n",
    "        scores[feature] = base_score - score\n",
    "\n",
    "    scores = pd.Series(scores)\n",
    "    scores = scores.sort_values(ascending=False)\n",
    "\n",
    "    return scores\n",
    "\n",
    "def linear_regression(fts, target):\n",
    "    \"\"\"\n",
    "    Линейная регрессия.\n",
    "\n",
    "    Parameters\n",
    "    ----------\n",
    "    fts: набор полей для обучения модели \n",
    "    target: str\n",
    "        Название целевого поля.\n",
    "    \n",
    "    Returns\n",
    "    -------\n",
    "    \n",
    "    \"\"\"\n",
    "    lr = LinearRegression()\n",
    "    lr.fit(train.loc[:,fts], train[target])\n",
    "    pred = lr.predict(train.loc[:,fts])\n",
    "    print(\"метрика R2 для тренировочного набора train:\", r2(train[target], pred))\n",
    "    pred_valid = lr.predict(valid.loc[:,fts])\n",
    "    print(\"метрика R2 для валидационного набора valid:\", r2(valid[target], pred_valid))\n",
    "    mse = MSE(valid['target1'],pred_valid)\n",
    "    print(\"метрика MSE:\", mse)    \n",
    "    return lr\n",
    "\n",
    "def knn(fts, target):\n",
    "    \"\"\"\n",
    "    Линейная регрессия.\n",
    "\n",
    "    Parameters\n",
    "    ----------\n",
    "    fts: набор полей для обучения модели \n",
    "    target: str\n",
    "        Название целевого поля.\n",
    "    \n",
    "    Returns\n",
    "    -------\n",
    "    \n",
    "    \"\"\"\n",
    "    scaler = StandardScaler()\n",
    "    train_scaled = scaler.fit_transform(train.loc[:,fts])\n",
    "    valid_scaled = scaler.transform(valid.loc[:,fts])\n",
    "    knn = KNN(n_neighbors=2,weights='distance')\n",
    "    knn.fit(train_scaled, train[target])\n",
    "    pred = knn.predict(train_scaled)\n",
    "    pred_valid = knn.predict(valid_scaled)\n",
    "    print(\"метрика R2 для тренировочного набора train:\", r2(train[target], pred))\n",
    "    print(\"метрика R2 для валидационного набора valid:\", r2(valid[target], pred_valid))\n",
    "    mse = MSE(valid[target],pred_valid)\n",
    "    print(\"метрика MSE:\", mse)    \n",
    "    return knn"
   ]
  },
  {
   "cell_type": "code",
   "execution_count": 498,
   "metadata": {},
   "outputs": [
    {
     "name": "stdout",
     "output_type": "stream",
     "text": [
      "train_data_200k.csv: shape = 200000 rows, 84 cols\n",
      "test_data_100k.csv: shape = 100000 rows, 80 cols\n"
     ]
    }
   ],
   "source": [
    "train = get_input(\"train_data_200k.csv\")\n",
    "test = get_input(\"test_data_100k.csv\")"
   ]
  },
  {
   "cell_type": "code",
   "execution_count": 499,
   "metadata": {},
   "outputs": [
    {
     "data": {
      "text/plain": [
       "0              NaN\n",
       "1              NaN\n",
       "2              NaN\n",
       "3              NaN\n",
       "4              NaN\n",
       "            ...   \n",
       "199995    0.001514\n",
       "199996    0.001514\n",
       "199997    0.001516\n",
       "199998    0.001516\n",
       "199999    0.001516\n",
       "Name: target1, Length: 200000, dtype: float64"
      ]
     },
     "execution_count": 499,
     "metadata": {},
     "output_type": "execute_result"
    }
   ],
   "source": [
    "train['target1']"
   ]
  },
  {
   "cell_type": "code",
   "execution_count": 500,
   "metadata": {},
   "outputs": [
    {
     "data": {
      "text/plain": [
       "0.001175    7\n",
       "0.001172    7\n",
       "0.001164    6\n",
       "0.001161    6\n",
       "0.001160    6\n",
       "           ..\n",
       "0.001054    1\n",
       "0.001302    1\n",
       "0.001249    1\n",
       "0.001060    1\n",
       "0.001220    1\n",
       "Name: target1, Length: 145297, dtype: int64"
      ]
     },
     "execution_count": 500,
     "metadata": {},
     "output_type": "execute_result"
    }
   ],
   "source": [
    "train['target1'].value_counts()"
   ]
  },
  {
   "cell_type": "markdown",
   "metadata": {},
   "source": [
    "Анализ и заполнение пропусков"
   ]
  },
  {
   "cell_type": "code",
   "execution_count": 501,
   "metadata": {},
   "outputs": [
    {
     "data": {
      "text/plain": [
       "200000"
      ]
     },
     "execution_count": 501,
     "metadata": {},
     "output_type": "execute_result"
    }
   ],
   "source": [
    "len(train)"
   ]
  },
  {
   "cell_type": "code",
   "execution_count": 502,
   "metadata": {},
   "outputs": [
    {
     "data": {
      "text/plain": [
       "unnamed: 0         0\n",
       "tag1              66\n",
       "tag2           90630\n",
       "tag3           90544\n",
       "tag4          199915\n",
       "               ...  \n",
       "tag79         151442\n",
       "target1            9\n",
       "target2            9\n",
       "target3            9\n",
       "target4            9\n",
       "Length: 84, dtype: int64"
      ]
     },
     "execution_count": 502,
     "metadata": {},
     "output_type": "execute_result"
    }
   ],
   "source": [
    "train.isnull().sum()"
   ]
  },
  {
   "cell_type": "code",
   "execution_count": 503,
   "metadata": {},
   "outputs": [],
   "source": [
    "for i in range(1, 80):\n",
    "    tag = 'tag' + str(i)\n",
    "    train.loc[train[tag].isnull(), tag] = train[tag].median()\n",
    "    test.loc[test[tag].isnull(), tag] = test[tag].median()"
   ]
  },
  {
   "cell_type": "code",
   "execution_count": 504,
   "metadata": {},
   "outputs": [
    {
     "data": {
      "text/plain": [
       "unnamed: 0    0\n",
       "tag1          0\n",
       "tag2          0\n",
       "tag3          0\n",
       "tag4          0\n",
       "             ..\n",
       "tag79         0\n",
       "target1       9\n",
       "target2       9\n",
       "target3       9\n",
       "target4       9\n",
       "Length: 84, dtype: int64"
      ]
     },
     "execution_count": 504,
     "metadata": {},
     "output_type": "execute_result"
    }
   ],
   "source": [
    "train.isnull().sum()"
   ]
  },
  {
   "cell_type": "code",
   "execution_count": 505,
   "metadata": {},
   "outputs": [],
   "source": [
    "train = train.dropna()"
   ]
  },
  {
   "cell_type": "code",
   "execution_count": 506,
   "metadata": {},
   "outputs": [
    {
     "data": {
      "text/plain": [
       "unnamed: 0    0\n",
       "tag1          0\n",
       "tag2          0\n",
       "tag3          0\n",
       "tag4          0\n",
       "             ..\n",
       "tag79         0\n",
       "target1       0\n",
       "target2       0\n",
       "target3       0\n",
       "target4       0\n",
       "Length: 84, dtype: int64"
      ]
     },
     "execution_count": 506,
     "metadata": {},
     "output_type": "execute_result"
    }
   ],
   "source": [
    "train.isnull().sum()"
   ]
  },
  {
   "cell_type": "code",
   "execution_count": 507,
   "metadata": {},
   "outputs": [],
   "source": [
    "train = train.select_dtypes(include=[np.number])"
   ]
  },
  {
   "cell_type": "code",
   "execution_count": 508,
   "metadata": {},
   "outputs": [
    {
     "data": {
      "text/plain": [
       "Index(['tag1', 'tag2', 'tag3', 'tag4', 'tag5', 'tag6', 'tag7', 'tag8', 'tag9',\n",
       "       'tag10', 'tag11', 'tag12', 'tag13', 'tag14', 'tag15', 'tag16', 'tag17',\n",
       "       'tag18', 'tag19', 'tag20', 'tag21', 'tag22', 'tag23', 'tag24', 'tag25',\n",
       "       'tag26', 'tag27', 'tag28', 'tag29', 'tag30', 'tag31', 'tag32', 'tag33',\n",
       "       'tag34', 'tag35', 'tag36', 'tag37', 'tag38', 'tag39', 'tag40', 'tag41',\n",
       "       'tag42', 'tag43', 'tag44', 'tag45', 'tag46', 'tag47', 'tag48', 'tag49',\n",
       "       'tag50', 'tag51', 'tag52', 'tag53', 'tag54', 'tag55', 'tag56', 'tag57',\n",
       "       'tag58', 'tag59', 'tag60', 'tag61', 'tag62', 'tag63', 'tag64', 'tag65',\n",
       "       'tag66', 'tag67', 'tag68', 'tag69', 'tag70', 'tag71', 'tag72', 'tag73',\n",
       "       'tag74', 'tag75', 'tag76', 'tag77', 'tag78', 'tag79', 'target1',\n",
       "       'target2', 'target3', 'target4'],\n",
       "      dtype='object')"
      ]
     },
     "execution_count": 508,
     "metadata": {},
     "output_type": "execute_result"
    }
   ],
   "source": [
    "train.columns"
   ]
  },
  {
   "cell_type": "markdown",
   "metadata": {},
   "source": [
    "Вычисление самых значимых признаков"
   ]
  },
  {
   "cell_type": "code",
   "execution_count": 509,
   "metadata": {},
   "outputs": [
    {
     "data": {
      "text/plain": [
       "<matplotlib.axes._subplots.AxesSubplot at 0xb38424c550>"
      ]
     },
     "execution_count": 509,
     "metadata": {},
     "output_type": "execute_result"
    },
    {
     "data": {
      "image/png": "[encoded data removed]",
      "text/plain": [
       "<Figure size 1008x864 with 2 Axes>"
      ]
     },
     "metadata": {
      "needs_background": "light"
     },
     "output_type": "display_data"
    }
   ],
   "source": [
    "correlation = train.corr()\n",
    "fig, axes = plt.subplots(figsize = (14,12))\n",
    "plt.title(\"Correlation of Numeric Features with Target\", y=1, size=16)\n",
    "sns.heatmap(correlation, square=True, vmax=0.8, cmap=\"viridis\")"
   ]
  },
  {
   "cell_type": "code",
   "execution_count": 510,
   "metadata": {},
   "outputs": [
    {
     "data": {
      "text/plain": [
       "target1    1.000000\n",
       "target2    0.999999\n",
       "target3    0.930867\n",
       "tag75      0.551245\n",
       "tag49      0.527318\n",
       "tag67      0.505909\n",
       "tag76      0.361786\n",
       "tag71      0.339348\n",
       "tag1       0.313579\n",
       "tag15      0.292467\n",
       "tag63      0.273138\n",
       "tag33      0.263465\n",
       "tag20      0.248254\n",
       "tag43      0.243513\n",
       "tag19      0.233792\n",
       "Name: target1, dtype: float64"
      ]
     },
     "execution_count": 510,
     "metadata": {},
     "output_type": "execute_result"
    }
   ],
   "source": [
    "correlation = train.corr()\n",
    "corr_with_target1 = abs(correlation[\"target1\"]).sort_values(ascending = False)\n",
    "corr_with_target1[:15]"
   ]
  },
  {
   "cell_type": "code",
   "execution_count": 511,
   "metadata": {},
   "outputs": [
    {
     "data": {
      "text/plain": [
       "target2    1.000000\n",
       "target1    0.999999\n",
       "target3    0.930863\n",
       "tag75      0.551238\n",
       "tag49      0.527308\n",
       "tag67      0.505919\n",
       "tag76      0.361785\n",
       "tag71      0.339353\n",
       "tag1       0.313583\n",
       "tag15      0.292483\n",
       "tag63      0.273164\n",
       "tag33      0.263476\n",
       "tag20      0.248262\n",
       "tag43      0.243605\n",
       "tag19      0.233796\n",
       "Name: target2, dtype: float64"
      ]
     },
     "execution_count": 511,
     "metadata": {},
     "output_type": "execute_result"
    }
   ],
   "source": [
    "correlation = train.corr()\n",
    "corr_with_target2 = abs(correlation[\"target2\"]).sort_values(ascending = False)\n",
    "corr_with_target2[:15]"
   ]
  },
  {
   "cell_type": "code",
   "execution_count": 512,
   "metadata": {},
   "outputs": [
    {
     "data": {
      "text/plain": [
       "target3    1.000000\n",
       "target1    0.930867\n",
       "target2    0.930863\n",
       "tag49      0.491134\n",
       "tag75      0.478502\n",
       "tag67      0.442331\n",
       "tag76      0.340938\n",
       "tag71      0.321700\n",
       "tag1       0.314601\n",
       "target4    0.295557\n",
       "tag33      0.277791\n",
       "tag59      0.275681\n",
       "tag15      0.273974\n",
       "tag19      0.266316\n",
       "tag63      0.257671\n",
       "Name: target3, dtype: float64"
      ]
     },
     "execution_count": 512,
     "metadata": {},
     "output_type": "execute_result"
    }
   ],
   "source": [
    "correlation = train.corr()\n",
    "corr_with_target3 = abs(correlation[\"target3\"]).sort_values(ascending = False)\n",
    "corr_with_target3[:15]"
   ]
  },
  {
   "cell_type": "code",
   "execution_count": 513,
   "metadata": {},
   "outputs": [
    {
     "data": {
      "text/plain": [
       "target4    1.000000\n",
       "tag59      0.863171\n",
       "target3    0.295557\n",
       "tag43      0.186575\n",
       "tag10      0.186330\n",
       "tag56      0.186330\n",
       "tag44      0.157830\n",
       "tag23      0.152919\n",
       "tag75      0.135257\n",
       "tag47      0.123957\n",
       "tag58      0.116089\n",
       "tag19      0.115599\n",
       "tag67      0.115488\n",
       "tag11      0.115066\n",
       "tag57      0.115066\n",
       "Name: target4, dtype: float64"
      ]
     },
     "execution_count": 513,
     "metadata": {},
     "output_type": "execute_result"
    }
   ],
   "source": [
    "correlation = train.corr()\n",
    "corr_with_target4 = abs(correlation[\"target4\"]).sort_values(ascending = False)\n",
    "corr_with_target4[:15]"
   ]
  },
  {
   "cell_type": "code",
   "execution_count": 514,
   "metadata": {},
   "outputs": [],
   "source": [
    "train, valid = train_test_split(train, test_size=0.3, random_state=42)"
   ]
  },
  {
   "cell_type": "markdown",
   "metadata": {},
   "source": [
    "масштабирование"
   ]
  },
  {
   "cell_type": "code",
   "execution_count": 515,
   "metadata": {},
   "outputs": [],
   "source": [
    "#хорошо бы сделать стандартизацию (нормализацию)\n",
    "from sklearn.preprocessing import StandardScaler\n",
    "scaler = StandardScaler()\n",
    "train_scaled = scaler.fit_transform(train.loc[:,fts])\n",
    "valid_scaled = scaler.transform(valid.loc[:,fts])"
   ]
  },
  {
   "cell_type": "code",
   "execution_count": 516,
   "metadata": {},
   "outputs": [],
   "source": [
    "#составляем список фич, которые необходимо исключить из модели\n",
    "feaches_need_drop = ['target1', 'target2', 'target3','target4', 'tag2', 'tag3']\n",
    "#значения 'tag2', 'tag3' отсутвуют в тестовом наборе"
   ]
  },
  {
   "cell_type": "markdown",
   "metadata": {},
   "source": [
    "линейная регрессия"
   ]
  },
  {
   "cell_type": "code",
   "execution_count": 517,
   "metadata": {},
   "outputs": [
    {
     "data": {
      "text/plain": [
       "Index(['tag75', 'tag49', 'tag67', 'tag76', 'tag71', 'tag1', 'tag15', 'tag63',\n",
       "       'tag33', 'tag20'],\n",
       "      dtype='object')"
      ]
     },
     "execution_count": 517,
     "metadata": {},
     "output_type": "execute_result"
    }
   ],
   "source": [
    "target = 'target1'\n",
    "feaches_top10_corr_1 = corr_with_target1.index.drop(feaches_need_drop)[:10]\n",
    "fts = corr_with_target1.index.drop(feaches_need_drop)\n",
    "fts1 = fts\n",
    "fts2 = fts\n",
    "fts3 = fts\n",
    "fts4 = fts\n",
    "feaches_top10_corr_1"
   ]
  },
  {
   "cell_type": "code",
   "execution_count": 518,
   "metadata": {},
   "outputs": [
    {
     "name": "stdout",
     "output_type": "stream",
     "text": [
      "метрика R2 для тренировочного набора train: 0.8803838389424321\n",
      "метрика R2 для валидационного набора valid: 0.8830285721269555\n",
      "метрика MSE: 8.618177610181336e-10\n"
     ]
    }
   ],
   "source": [
    "lr1 = linear_regression(fts1, target)"
   ]
  },
  {
   "cell_type": "code",
   "execution_count": 519,
   "metadata": {},
   "outputs": [
    {
     "data": {
      "text/plain": [
       "Index(['tag75', 'tag49', 'tag67', 'tag76', 'tag71', 'tag1', 'tag15', 'tag63',\n",
       "       'tag33', 'tag20'],\n",
       "      dtype='object')"
      ]
     },
     "execution_count": 519,
     "metadata": {},
     "output_type": "execute_result"
    }
   ],
   "source": [
    "feaches_top10_corr_2 = corr_with_target2.index.drop(feaches_need_drop)[:10]\n",
    "feaches_top10_corr_2"
   ]
  },
  {
   "cell_type": "code",
   "execution_count": 520,
   "metadata": {},
   "outputs": [
    {
     "name": "stdout",
     "output_type": "stream",
     "text": [
      "метрика R2 для тренировочного набора train: 0.8804134445964477\n",
      "метрика R2 для валидационного набора valid: 0.8830645552398828\n",
      "метрика MSE: 0.0023842399951070747\n"
     ]
    }
   ],
   "source": [
    "target = 'target2'\n",
    "lr2 = linear_regression(fts2, target)"
   ]
  },
  {
   "cell_type": "code",
   "execution_count": 521,
   "metadata": {},
   "outputs": [
    {
     "data": {
      "text/plain": [
       "Index(['tag49', 'tag75', 'tag67', 'tag76', 'tag71', 'tag1', 'tag33', 'tag59',\n",
       "       'tag15', 'tag19'],\n",
       "      dtype='object')"
      ]
     },
     "execution_count": 521,
     "metadata": {},
     "output_type": "execute_result"
    }
   ],
   "source": [
    "feaches_top10_corr_3 = corr_with_target3.index.drop(feaches_need_drop)[:10]\n",
    "feaches_top10_corr_3"
   ]
  },
  {
   "cell_type": "code",
   "execution_count": 522,
   "metadata": {},
   "outputs": [
    {
     "name": "stdout",
     "output_type": "stream",
     "text": [
      "метрика R2 для тренировочного набора train: 0.8423070304576468\n",
      "метрика R2 для валидационного набора valid: 0.8465723786096886\n",
      "метрика MSE: 0.8859632633467813\n"
     ]
    }
   ],
   "source": [
    "target = 'target3'\n",
    "lr3 = linear_regression(fts3, target)"
   ]
  },
  {
   "cell_type": "code",
   "execution_count": 523,
   "metadata": {},
   "outputs": [
    {
     "data": {
      "text/plain": [
       "Index(['tag59', 'tag43', 'tag10', 'tag56', 'tag44', 'tag23', 'tag75', 'tag47',\n",
       "       'tag58', 'tag19'],\n",
       "      dtype='object')"
      ]
     },
     "execution_count": 523,
     "metadata": {},
     "output_type": "execute_result"
    }
   ],
   "source": [
    "feaches_top10_corr_4 = corr_with_target4.index.drop(feaches_need_drop)[:10]\n",
    "feaches_top10_corr_4"
   ]
  },
  {
   "cell_type": "code",
   "execution_count": 524,
   "metadata": {},
   "outputs": [
    {
     "name": "stdout",
     "output_type": "stream",
     "text": [
      "метрика R2 для тренировочного набора train: 0.7687869113748224\n",
      "метрика R2 для валидационного набора valid: 0.7831571513422031\n",
      "метрика MSE: 3.09103521967489e-05\n"
     ]
    }
   ],
   "source": [
    "target = 'target4'\n",
    "lr4 = linear_regression(fts4, target)"
   ]
  },
  {
   "cell_type": "markdown",
   "metadata": {},
   "source": [
    "RF"
   ]
  },
  {
   "cell_type": "code",
   "execution_count": 525,
   "metadata": {},
   "outputs": [],
   "source": [
    "from sklearn.ensemble import RandomForestRegressor as RF"
   ]
  },
  {
   "cell_type": "code",
   "execution_count": 526,
   "metadata": {},
   "outputs": [
    {
     "name": "stdout",
     "output_type": "stream",
     "text": [
      "max_depth=10\n",
      "0.8298890298138835\n",
      "0.8248067959634484\n",
      "\n",
      "max_depth=9\n",
      "0.761957868713421\n",
      "0.7574586984099565\n",
      "\n",
      "max_depth=8\n",
      "0.7054269436448295\n",
      "0.7011524440088903\n",
      "\n",
      "max_depth=7\n",
      "0.592922461992772\n",
      "0.5890706457885719\n",
      "\n",
      "max_depth=6\n",
      "0.54494792363674\n",
      "0.54332679028028\n",
      "\n"
     ]
    }
   ],
   "source": [
    "for i in range(10,5,-1):\n",
    "    print(f'max_depth={i}')\n",
    "    clf = RF(max_depth=i, n_estimators=60, max_features=3, random_state=100)\n",
    "    clf.fit(train.loc[:,fts], train['target4'])\n",
    "    pred = clf.predict(train.loc[:,fts4])\n",
    "    print(r2(train['target4'],pred))\n",
    "    pred_valid = clf.predict(valid.loc[:,fts4])\n",
    "    print(r2(valid['target4'],pred_valid))\n",
    "    print()"
   ]
  },
  {
   "cell_type": "code",
   "execution_count": 527,
   "metadata": {},
   "outputs": [],
   "source": [
    "clf = RF(max_depth=10,n_estimators=60,max_features=3,random_state=100)"
   ]
  },
  {
   "cell_type": "code",
   "execution_count": 528,
   "metadata": {},
   "outputs": [
    {
     "data": {
      "text/plain": [
       "RandomForestRegressor(bootstrap=True, criterion='mse', max_depth=10,\n",
       "           max_features=3, max_leaf_nodes=None, min_impurity_decrease=0.0,\n",
       "           min_impurity_split=None, min_samples_leaf=1,\n",
       "           min_samples_split=2, min_weight_fraction_leaf=0.0,\n",
       "           n_estimators=60, n_jobs=None, oob_score=False, random_state=100,\n",
       "           verbose=0, warm_start=False)"
      ]
     },
     "execution_count": 528,
     "metadata": {},
     "output_type": "execute_result"
    }
   ],
   "source": [
    "clf.fit(train.loc[:,fts4],train['target4'])"
   ]
  },
  {
   "cell_type": "code",
   "execution_count": 529,
   "metadata": {},
   "outputs": [],
   "source": [
    "pred = clf.predict(train.loc[:,fts4])"
   ]
  },
  {
   "cell_type": "code",
   "execution_count": 530,
   "metadata": {},
   "outputs": [
    {
     "data": {
      "text/plain": [
       "0.8298890298138835"
      ]
     },
     "execution_count": 530,
     "metadata": {},
     "output_type": "execute_result"
    }
   ],
   "source": [
    "r2(train['target4'], pred)"
   ]
  },
  {
   "cell_type": "code",
   "execution_count": 531,
   "metadata": {},
   "outputs": [],
   "source": [
    "pred_valid = clf.predict(valid.loc[:,fts])"
   ]
  },
  {
   "cell_type": "code",
   "execution_count": 532,
   "metadata": {},
   "outputs": [
    {
     "data": {
      "text/plain": [
       "0.8248067959634484"
      ]
     },
     "execution_count": 532,
     "metadata": {},
     "output_type": "execute_result"
    }
   ],
   "source": [
    "r2(valid['target4'],pred_valid)"
   ]
  },
  {
   "cell_type": "code",
   "execution_count": 533,
   "metadata": {},
   "outputs": [
    {
     "data": {
      "text/plain": [
       "3.6359023228509343e-07"
      ]
     },
     "execution_count": 533,
     "metadata": {},
     "output_type": "execute_result"
    }
   ],
   "source": [
    "MSE(valid['target4'],pred_valid)"
   ]
  },
  {
   "cell_type": "markdown",
   "metadata": {},
   "source": [
    "KNN"
   ]
  },
  {
   "cell_type": "code",
   "execution_count": 534,
   "metadata": {},
   "outputs": [],
   "source": [
    "from sklearn.neighbors import KNeighborsRegressor as KNN"
   ]
  },
  {
   "cell_type": "code",
   "execution_count": 535,
   "metadata": {},
   "outputs": [
    {
     "name": "stdout",
     "output_type": "stream",
     "text": [
      "метрика R2 для тренировочного набора train: 1.0\n",
      "метрика R2 для валидационного набора valid: 0.9216298085181513\n",
      "метрика MSE: 5.774129988970897e-10\n"
     ]
    }
   ],
   "source": [
    "target = 'target1'\n",
    "knn1 = knn(fts1, target)"
   ]
  },
  {
   "cell_type": "code",
   "execution_count": 536,
   "metadata": {},
   "outputs": [
    {
     "name": "stdout",
     "output_type": "stream",
     "text": [
      "метрика R2 для тренировочного набора train: 1.0\n",
      "метрика R2 для валидационного набора valid: 0.9217147505000487\n",
      "метрика MSE: 1.0715199292218468e-06\n"
     ]
    }
   ],
   "source": [
    "target = 'target2'\n",
    "knn2 = knn(fts2, target)"
   ]
  },
  {
   "cell_type": "code",
   "execution_count": 537,
   "metadata": {},
   "outputs": [
    {
     "name": "stdout",
     "output_type": "stream",
     "text": [
      "метрика R2 для тренировочного набора train: 1.0\n",
      "метрика R2 для валидационного набора valid: 0.9233667399046295\n",
      "метрика MSE: 1.1991990975509332e-06\n"
     ]
    }
   ],
   "source": [
    "target = 'target3'\n",
    "knn3 = knn(fts3, target)"
   ]
  },
  {
   "cell_type": "code",
   "execution_count": 538,
   "metadata": {},
   "outputs": [
    {
     "name": "stdout",
     "output_type": "stream",
     "text": [
      "метрика R2 для тренировочного набора train: 1.0\n",
      "метрика R2 для валидационного набора valid: 0.9661153594894296\n",
      "метрика MSE: 7.032307207284568e-08\n"
     ]
    }
   ],
   "source": [
    "target = 'target4'\n",
    "knn4 = knn(fts4, target)"
   ]
  },
  {
   "cell_type": "markdown",
   "metadata": {},
   "source": [
    "Вывод: самая лучшая модель KNN (метод ближайших соседей). Она дает наилучшие предсказания, но тренируется и предсказывает очень долго! Поэтому решил использовать оба метода: быстрый - линейную регрессию (lr) и медленный - КNN (knn)."
   ]
  },
  {
   "cell_type": "code",
   "execution_count": 539,
   "metadata": {},
   "outputs": [],
   "source": [
    "test_id = test['unnamed: 0']"
   ]
  },
  {
   "cell_type": "code",
   "execution_count": 540,
   "metadata": {},
   "outputs": [
    {
     "data": {
      "text/plain": [
       "unnamed: 0         0\n",
       "tag1               0\n",
       "tag2          100000\n",
       "tag3          100000\n",
       "tag4               0\n",
       "tag5               0\n",
       "tag6               0\n",
       "tag7               0\n",
       "tag8               0\n",
       "tag9               0\n",
       "tag10              0\n",
       "tag11              0\n",
       "tag12              0\n",
       "tag13              0\n",
       "tag14              0\n",
       "tag15              0\n",
       "tag16              0\n",
       "tag17              0\n",
       "tag18              0\n",
       "tag19              0\n",
       "tag20              0\n",
       "tag21              0\n",
       "tag22              0\n",
       "tag23              0\n",
       "tag24              0\n",
       "tag25              0\n",
       "tag26              0\n",
       "tag27              0\n",
       "tag28              0\n",
       "tag29              0\n",
       "tag30              0\n",
       "tag31              0\n",
       "tag32              0\n",
       "tag33              0\n",
       "tag34              0\n",
       "tag35              0\n",
       "tag36              0\n",
       "tag37              0\n",
       "tag38              0\n",
       "tag39              0\n",
       "tag40              0\n",
       "tag41              0\n",
       "tag42              0\n",
       "tag43              0\n",
       "tag44              0\n",
       "tag45              0\n",
       "tag46              0\n",
       "tag47              0\n",
       "tag48              0\n",
       "tag49              0\n",
       "dtype: int64"
      ]
     },
     "execution_count": 540,
     "metadata": {},
     "output_type": "execute_result"
    }
   ],
   "source": [
    "test.isnull().sum()[:50]"
   ]
  },
  {
   "cell_type": "code",
   "execution_count": 541,
   "metadata": {},
   "outputs": [],
   "source": [
    "test_target1 = lr1.predict(test.loc[:,fts1])\n",
    "test_target2 = lr2.predict(test.loc[:,fts2])\n",
    "test_target3 = lr3.predict(test.loc[:,fts3])\n",
    "test_target4 = lr4.predict(test.loc[:,fts4])"
   ]
  },
  {
   "cell_type": "code",
   "execution_count": 551,
   "metadata": {},
   "outputs": [],
   "source": [
    "y_pred = pd.DataFrame({\n",
    "    \"TIME\": test_id,\n",
    "    \"TARGET1\": test_target1,\n",
    "    \"TARGET2\": test_target2,\n",
    "    \"TARGET3\": test_target3,\n",
    "    \"TARGET4\": test_target4\n",
    "\n",
    "})\n",
    "y_pred.to_csv(\"./Data/lr_VZinchenko_result_pred.csv\",index=False)"
   ]
  },
  {
   "cell_type": "code",
   "execution_count": 552,
   "metadata": {},
   "outputs": [],
   "source": [
    "test_target1 = knn1.predict(test.loc[:,fts1])\n",
    "test_target2 = knn2.predict(test.loc[:,fts2])\n",
    "test_target3 = knn3.predict(test.loc[:,fts3])\n",
    "test_target4 = knn4.predict(test.loc[:,fts4])"
   ]
  },
  {
   "cell_type": "code",
   "execution_count": 553,
   "metadata": {},
   "outputs": [],
   "source": [
    "y_pred = pd.DataFrame({\n",
    "    \"TIME\": test_id,\n",
    "    \"TARGET1\": test_target1,\n",
    "    \"TARGET2\": test_target2,\n",
    "    \"TARGET3\": test_target3,\n",
    "    \"TARGET4\": test_target4\n",
    "\n",
    "})\n",
    "y_pred.to_csv(\"./Data/knn_VZinchenko_result_pred.csv\",index=False)"
   ]
  },
  {
   "cell_type": "code",
   "execution_count": 545,
   "metadata": {},
   "outputs": [],
   "source": [
    "#подсчет важности каждого признака\n",
    "perm_importance1 = calculate_permutation_importance(\n",
    "    estimator=lr1, metric=r2, x_valid=valid.loc[:,fts1], y_valid=valid['target1']#target\n",
    ")\n",
    "perm_importance2 = calculate_permutation_importance(\n",
    "    estimator=lr2, metric=r2, x_valid=valid.loc[:,fts2], y_valid=valid['target2']#target\n",
    ")\n",
    "perm_importance3 = calculate_permutation_importance(\n",
    "    estimator=lr3, metric=r2, x_valid=valid.loc[:,fts3], y_valid=valid['target3']#target\n",
    ")\n",
    "perm_importance4 = calculate_permutation_importance(\n",
    "    estimator=lr4, metric=r2, x_valid=valid.loc[:,fts4], y_valid=valid['target4']#target\n",
    ")"
   ]
  },
  {
   "cell_type": "code",
   "execution_count": 546,
   "metadata": {},
   "outputs": [
    {
     "data": {
      "text/plain": [
       "tag11    2.140814e+24\n",
       "tag57    2.131544e+24\n",
       "tag56    1.013351e+23\n",
       "tag10    1.011670e+23\n",
       "tag27    2.369873e+00\n",
       "tag31    2.344888e+00\n",
       "tag42    1.614117e+00\n",
       "tag66    1.044379e+00\n",
       "tag35    8.394410e-01\n",
       "tag49    8.378347e-01\n",
       "dtype: float64"
      ]
     },
     "execution_count": 546,
     "metadata": {},
     "output_type": "execute_result"
    }
   ],
   "source": [
    "perm_importance1[:10]"
   ]
  },
  {
   "cell_type": "code",
   "execution_count": 547,
   "metadata": {},
   "outputs": [
    {
     "data": {
      "text/plain": [
       "tag11    2.157072e+24\n",
       "tag57    2.151861e+24\n",
       "tag56    1.018609e+23\n",
       "tag10    1.011395e+23\n",
       "tag27    2.369290e+00\n",
       "tag31    2.354851e+00\n",
       "tag42    1.633135e+00\n",
       "tag66    1.049138e+00\n",
       "tag35    8.422171e-01\n",
       "tag49    8.297864e-01\n",
       "dtype: float64"
      ]
     },
     "execution_count": 547,
     "metadata": {},
     "output_type": "execute_result"
    }
   ],
   "source": [
    "perm_importance2[:10]"
   ]
  },
  {
   "cell_type": "code",
   "execution_count": 548,
   "metadata": {},
   "outputs": [
    {
     "data": {
      "text/plain": [
       "tag11    1.275726e+24\n",
       "tag57    1.265330e+24\n",
       "tag56    6.015996e+22\n",
       "tag10    6.008294e+22\n",
       "tag27    2.922384e+00\n",
       "tag31    1.620898e+00\n",
       "tag42    1.570379e+00\n",
       "tag66    9.600736e-01\n",
       "tag49    6.928653e-01\n",
       "tag25    5.258137e-01\n",
       "dtype: float64"
      ]
     },
     "execution_count": 548,
     "metadata": {},
     "output_type": "execute_result"
    }
   ],
   "source": [
    "perm_importance3[:10]"
   ]
  },
  {
   "cell_type": "code",
   "execution_count": 549,
   "metadata": {},
   "outputs": [
    {
     "data": {
      "text/plain": [
       "tag57    5.639948e+23\n",
       "tag11    5.632696e+23\n",
       "tag56    2.660504e+22\n",
       "tag10    2.657049e+22\n",
       "tag59    1.274376e+00\n",
       "tag27    4.100922e-01\n",
       "tag70    3.284016e-01\n",
       "tag25    2.993473e-01\n",
       "tag31    2.921230e-01\n",
       "tag35    2.246269e-01\n",
       "dtype: float64"
      ]
     },
     "execution_count": 549,
     "metadata": {},
     "output_type": "execute_result"
    }
   ],
   "source": [
    "perm_importance4[:10]"
   ]
  },
  {
   "cell_type": "code",
   "execution_count": 550,
   "metadata": {},
   "outputs": [
    {
     "data": {
      "text/plain": [
       "Index(['tag75', 'tag49', 'tag67', 'tag76', 'tag71', 'tag1', 'tag15', 'tag63',\n",
       "       'tag33', 'tag20'],\n",
       "      dtype='object')"
      ]
     },
     "execution_count": 550,
     "metadata": {},
     "output_type": "execute_result"
    }
   ],
   "source": [
    "feaches_top10_corr_1 "
   ]
  },
  {
   "cell_type": "code",
   "execution_count": null,
   "metadata": {},
   "outputs": [],
   "source": []
  }
 ],
 "metadata": {
  "kernelspec": {
   "display_name": "Python 3",
   "language": "python",
   "name": "python3"
  },
  "language_info": {
   "codemirror_mode": {
    "name": "ipython",
    "version": 3
   },
   "file_extension": ".py",
   "mimetype": "text/x-python",
   "name": "python",
   "nbconvert_exporter": "python",
   "pygments_lexer": "ipython3",
   "version": "3.7.1"
  }
 },
 "nbformat": 4,
 "nbformat_minor": 2
}
