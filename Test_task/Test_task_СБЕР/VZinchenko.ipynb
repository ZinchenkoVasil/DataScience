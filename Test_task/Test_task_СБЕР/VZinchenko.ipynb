{
 "cells": [
  {
   "cell_type": "code",
   "execution_count": 1,
   "metadata": {},
   "outputs": [],
   "source": [
    "import time\n",
    "import matplotlib as mpl\n",
    "import matplotlib.pyplot as plt\n",
    "import seaborn as sns\n",
    "import numpy as np\n",
    "import pandas as pd\n",
    "from sklearn.linear_model import LinearRegression\n",
    "from sklearn.metrics import r2_score as r2\n",
    "from sklearn.metrics import mean_squared_error as mse\n",
    "from sklearn.model_selection import train_test_split\n",
    "from sklearn.metrics import mean_squared_error as MSE"
   ]
  },
  {
   "cell_type": "code",
   "execution_count": 2,
   "metadata": {},
   "outputs": [],
   "source": [
    "def create_clarity_cat(clarity):\n",
    "    if clarity == 'FL':\n",
    "        c_cat = 1\n",
    "    elif clarity == 'IF':\n",
    "        c_cat = 2\n",
    "    elif clarity == 'VVS1' or clarity == 'VVS2':\n",
    "        c_cat = 3\n",
    "    elif clarity == 'VS1' or clarity == 'VS2':\n",
    "        c_cat = 4\n",
    "    elif clarity == 'SI1' or clarity == 'SI2':\n",
    "        c_cat = 5\n",
    "    elif clarity == 'I1' or clarity == 'I2' or clarity == 'I3':\n",
    "        c_cat = 6\n",
    "    else:\n",
    "        c_cat = 0\n",
    "    return c_cat\n",
    "\n",
    "def create_color_cat(color):\n",
    "    if color == 'D':\n",
    "        color_cat = 1\n",
    "    elif color == 'E':\n",
    "        color_cat = 2\n",
    "    elif color == 'F':\n",
    "        color_cat = 3\n",
    "    elif color == \"G\" or color == \"H\":\n",
    "        color_cat = 4\n",
    "    elif color ==\"I\":\n",
    "        color_cat = 5\n",
    "    else:\n",
    "        color_cat = 0\n",
    "    return color_cat\n",
    "\n",
    "    \n",
    "def create_cut_cat(cut):\n",
    "    if cut == 'Poor':\n",
    "        cut_cat = 1\n",
    "    elif cut == 'Fair':\n",
    "        cut_cat = 2\n",
    "    elif cut == 'Good':\n",
    "        cut_cat = 3\n",
    "    elif cut == 'Very Good':\n",
    "        cut_cat = 4\n",
    "    elif cut == 'Ideal':\n",
    "        cut_cat = 5\n",
    "    elif cut == 'Signature-Ideal':\n",
    "        cut_cat = 6\n",
    "    else: \n",
    "        cut_cat = 0\n",
    "    return cut_cat\n",
    "\n",
    "def create_PS_cat(polish):\n",
    "    if polish == 'G':\n",
    "        polish_cat = 1\n",
    "    elif polish == 'VG':\n",
    "        polish_cat = 2\n",
    "    elif polish == 'EX':\n",
    "        polish_cat = 3\n",
    "    elif polish == 'ID':\n",
    "        polish_cat = 4\n",
    "    else:\n",
    "        polish_cat = 0\n",
    "    return polish_cat\n",
    "\n",
    "\n",
    "def calculate_permutation_importance(estimator, \n",
    "                                     metric: callable,\n",
    "                                     x_valid: pd.DataFrame,\n",
    "                                     y_valid: pd.Series) -> pd.Series:\n",
    "    \"\"\"\n",
    "    Расчет пермутированной важности признаков.\n",
    "    \"\"\"\n",
    "    scores = {}\n",
    "    y_pred = estimator.predict(x_valid)\n",
    "    base_score = metric(y_valid, y_pred)\n",
    "\n",
    "    for feature in x_valid.columns:\n",
    "        x_valid_copy = x_valid.copy()\n",
    "        x_valid_copy[feature] = np.random.permutation(x_valid_copy[feature])\n",
    "\n",
    "        y_pred = estimator.predict(x_valid_copy)\n",
    "        score = metric(y_valid, y_pred)\n",
    "        scores[feature] = base_score - score\n",
    "\n",
    "    scores = pd.Series(scores)\n",
    "    scores = scores.sort_values(ascending=False)\n",
    "\n",
    "    return scores\n",
    "\n",
    "def linear_regression(fts, target):\n",
    "    \"\"\"\n",
    "    Линейная регрессия.\n",
    "\n",
    "    Parameters\n",
    "    ----------\n",
    "    fts: набор полей для обучения модели \n",
    "    target: str\n",
    "        Название целевого поля.\n",
    "    \n",
    "    Returns\n",
    "    -------\n",
    "    \n",
    "    \"\"\"\n",
    "    train_scaled = train.loc[:,fts]\n",
    "    valid_scaled = valid.loc[:,fts]\n",
    "    \n",
    "    \n",
    "    lr = LinearRegression()\n",
    "    lr.fit(train_scaled, train[target])\n",
    "    pred = lr.predict(train_scaled)\n",
    "    print(\"метрика R2 для тренировочного набора train:\", r2(train[target], pred))\n",
    "    pred_valid = lr.predict(valid_scaled.loc[:,fts])\n",
    "    print(\"метрика R2 для валидационного набора valid:\", r2(valid[target], pred_valid))\n",
    "    mse = MSE(valid[target],pred_valid)\n",
    "    print(\"метрика MSE:\", mse)    \n",
    "    return lr\n",
    "\n",
    "def knn(fts, target):\n",
    "    \"\"\"\n",
    "    Линейная регрессия.\n",
    "\n",
    "    Parameters\n",
    "    ----------\n",
    "    fts: набор полей для обучения модели \n",
    "    target: str\n",
    "        Название целевого поля.\n",
    "    \n",
    "    Returns\n",
    "    -------\n",
    "    \n",
    "    \"\"\"\n",
    "    train_scaled = train.loc[:,fts]\n",
    "    valid_scaled = valid.loc[:,fts]\n",
    "    knn = KNN(n_neighbors=2,weights='distance')\n",
    "    knn.fit(train_scaled, train[target])\n",
    "    pred = knn.predict(train_scaled)\n",
    "    pred_valid = knn.predict(valid_scaled)\n",
    "    print(\"метрика R2 для тренировочного набора train:\", r2(train[target], pred))\n",
    "    print(\"метрика R2 для валидационного набора valid:\", r2(valid[target], pred_valid))\n",
    "    mse = MSE(valid[target],pred_valid)\n",
    "    print(\"метрика MSE:\", mse)    \n",
    "    return knn"
   ]
  },
  {
   "cell_type": "code",
   "execution_count": 3,
   "metadata": {},
   "outputs": [],
   "source": [
    "def create_features(X: pd.DataFrame, copy: bool = True) -> pd.DataFrame:\n",
    "    \"\"\"\n",
    "    Создание признаков на основе профиля клиентов.\n",
    "\n",
    "    Parameters\n",
    "    ----------\n",
    "    X: pandas.core.frame.DataFrame\n",
    "        Матрица признаков с исходным профилем клиента.\n",
    "\n",
    "    copy: bool, optional, default = True\n",
    "        Флаг использования копии датафрейма X.\n",
    "        Опциональный параметр, по умолчанию, равен True.\n",
    "\n",
    "    Returns\n",
    "    -------\n",
    "    X_transformed: pandas.core.frame.DataFrame\n",
    "        Расширенная матрица признаков с профилем клиентов.\n",
    "\n",
    "    \"\"\"\n",
    "    if copy:\n",
    "        X = X.copy() \n",
    "    X['Color'] = X['Color'].fillna(X['Color'].mode())\n",
    "    X['Symmetry'] = X['Symmetry'].fillna(X['Symmetry'].mode())\n",
    "#Добавление новой категориальной переменной - возрастная категория\n",
    "    X[\"Cut_cat\"] = X[\"Cut\"].apply(lambda x: create_cut_cat(x))\n",
    "    X[\"Color_cat\"] = X[\"Color\"].apply(lambda x: create_color_cat(x))\n",
    "    X[\"Clarity_cat\"] = X[\"Clarity\"].apply(lambda x: create_clarity_cat(x))\n",
    "    X[\"Polish_cat\"] = X[\"Polish\"].apply(lambda x: create_PS_cat(x))\n",
    "    X[\"Symmetry_cat\"] = X[\"Symmetry\"].apply(lambda x: create_PS_cat(x))\n",
    "        \n",
    "    freq_encoder = X[\"Clarity\"].value_counts(normalize=True)\n",
    "    X[\"clarity_freq_enc\"] = X[\"Clarity\"].map(freq_encoder)\n",
    "    \n",
    "#    X[\"Возраст\"] = X[\"Возраст\"] / scaler = StandardScaler()\n",
    "    X = X[[\"ID\",\"Carat Weight\", \"Cut_cat\", \"Color_cat\", \"Clarity_cat\", \"Polish_cat\", \"Symmetry_cat\", \"clarity_freq_enc\", \"Price\"]]\n",
    "    X = X[(X[\"Cut_cat\"] > 0) & (X[\"Color_cat\"] > 0) & (X[\"Clarity_cat\"] > 0)]\n",
    "    return X"
   ]
  },
  {
   "cell_type": "code",
   "execution_count": 4,
   "metadata": {},
   "outputs": [],
   "source": [
    "df = pd.read_excel(\"Data\\Sarah gets a diamond data.xls\")"
   ]
  },
  {
   "cell_type": "code",
   "execution_count": 5,
   "metadata": {},
   "outputs": [],
   "source": [
    "df.columns = list(df.iloc[1,:])"
   ]
  },
  {
   "cell_type": "code",
   "execution_count": 6,
   "metadata": {},
   "outputs": [],
   "source": [
    "df = df.iloc[2:,:]"
   ]
  },
  {
   "cell_type": "code",
   "execution_count": 7,
   "metadata": {},
   "outputs": [
    {
     "data": {
      "text/html": [
       "<div>\n",
       "<style scoped>\n",
       "    .dataframe tbody tr th:only-of-type {\n",
       "        vertical-align: middle;\n",
       "    }\n",
       "\n",
       "    .dataframe tbody tr th {\n",
       "        vertical-align: top;\n",
       "    }\n",
       "\n",
       "    .dataframe thead th {\n",
       "        text-align: right;\n",
       "    }\n",
       "</style>\n",
       "<table border=\"1\" class=\"dataframe\">\n",
       "  <thead>\n",
       "    <tr style=\"text-align: right;\">\n",
       "      <th></th>\n",
       "      <th>ID</th>\n",
       "      <th>Carat Weight</th>\n",
       "      <th>Cut</th>\n",
       "      <th>Color</th>\n",
       "      <th>Clarity</th>\n",
       "      <th>Polish</th>\n",
       "      <th>Symmetry</th>\n",
       "      <th>Report</th>\n",
       "      <th>Price</th>\n",
       "    </tr>\n",
       "  </thead>\n",
       "  <tbody>\n",
       "    <tr>\n",
       "      <th>2</th>\n",
       "      <td>1</td>\n",
       "      <td>1.1</td>\n",
       "      <td>Ideal</td>\n",
       "      <td>H</td>\n",
       "      <td>SI1</td>\n",
       "      <td>VG</td>\n",
       "      <td>EX</td>\n",
       "      <td>GIA</td>\n",
       "      <td>5169</td>\n",
       "    </tr>\n",
       "    <tr>\n",
       "      <th>3</th>\n",
       "      <td>2</td>\n",
       "      <td>0.83</td>\n",
       "      <td>Ideal</td>\n",
       "      <td>H</td>\n",
       "      <td>VS1</td>\n",
       "      <td>ID</td>\n",
       "      <td>ID</td>\n",
       "      <td>AGSL</td>\n",
       "      <td>3470</td>\n",
       "    </tr>\n",
       "    <tr>\n",
       "      <th>4</th>\n",
       "      <td>3</td>\n",
       "      <td>0.85</td>\n",
       "      <td>Ideal</td>\n",
       "      <td>H</td>\n",
       "      <td>SI1</td>\n",
       "      <td>EX</td>\n",
       "      <td>EX</td>\n",
       "      <td>GIA</td>\n",
       "      <td>3183</td>\n",
       "    </tr>\n",
       "    <tr>\n",
       "      <th>5</th>\n",
       "      <td>4</td>\n",
       "      <td>0.91</td>\n",
       "      <td>Ideal</td>\n",
       "      <td>E</td>\n",
       "      <td>SI1</td>\n",
       "      <td>VG</td>\n",
       "      <td>VG</td>\n",
       "      <td>GIA</td>\n",
       "      <td>4370</td>\n",
       "    </tr>\n",
       "    <tr>\n",
       "      <th>6</th>\n",
       "      <td>5</td>\n",
       "      <td>0.83</td>\n",
       "      <td>Ideal</td>\n",
       "      <td>G</td>\n",
       "      <td>SI1</td>\n",
       "      <td>EX</td>\n",
       "      <td>EX</td>\n",
       "      <td>GIA</td>\n",
       "      <td>3171</td>\n",
       "    </tr>\n",
       "    <tr>\n",
       "      <th>...</th>\n",
       "      <td>...</td>\n",
       "      <td>...</td>\n",
       "      <td>...</td>\n",
       "      <td>...</td>\n",
       "      <td>...</td>\n",
       "      <td>...</td>\n",
       "      <td>...</td>\n",
       "      <td>...</td>\n",
       "      <td>...</td>\n",
       "    </tr>\n",
       "    <tr>\n",
       "      <th>5997</th>\n",
       "      <td>5996</td>\n",
       "      <td>1.03</td>\n",
       "      <td>Ideal</td>\n",
       "      <td>D</td>\n",
       "      <td>SI1</td>\n",
       "      <td>EX</td>\n",
       "      <td>EX</td>\n",
       "      <td>GIA</td>\n",
       "      <td>NaN</td>\n",
       "    </tr>\n",
       "    <tr>\n",
       "      <th>5998</th>\n",
       "      <td>5997</td>\n",
       "      <td>1</td>\n",
       "      <td>Very Good</td>\n",
       "      <td>D</td>\n",
       "      <td>SI1</td>\n",
       "      <td>VG</td>\n",
       "      <td>VG</td>\n",
       "      <td>GIA</td>\n",
       "      <td>NaN</td>\n",
       "    </tr>\n",
       "    <tr>\n",
       "      <th>5999</th>\n",
       "      <td>5998</td>\n",
       "      <td>1.02</td>\n",
       "      <td>Ideal</td>\n",
       "      <td>D</td>\n",
       "      <td>SI1</td>\n",
       "      <td>EX</td>\n",
       "      <td>EX</td>\n",
       "      <td>GIA</td>\n",
       "      <td>NaN</td>\n",
       "    </tr>\n",
       "    <tr>\n",
       "      <th>6000</th>\n",
       "      <td>5999</td>\n",
       "      <td>1.27</td>\n",
       "      <td>Signature-Ideal</td>\n",
       "      <td>G</td>\n",
       "      <td>VS1</td>\n",
       "      <td>EX</td>\n",
       "      <td>EX</td>\n",
       "      <td>GIA</td>\n",
       "      <td>NaN</td>\n",
       "    </tr>\n",
       "    <tr>\n",
       "      <th>6001</th>\n",
       "      <td>6000</td>\n",
       "      <td>2.19</td>\n",
       "      <td>Ideal</td>\n",
       "      <td>E</td>\n",
       "      <td>VS1</td>\n",
       "      <td>EX</td>\n",
       "      <td>EX</td>\n",
       "      <td>GIA</td>\n",
       "      <td>NaN</td>\n",
       "    </tr>\n",
       "  </tbody>\n",
       "</table>\n",
       "<p>6000 rows × 9 columns</p>\n",
       "</div>"
      ],
      "text/plain": [
       "        ID Carat Weight              Cut Color Clarity Polish Symmetry Report  \\\n",
       "2        1          1.1            Ideal     H     SI1     VG       EX    GIA   \n",
       "3        2         0.83            Ideal     H     VS1     ID       ID   AGSL   \n",
       "4        3         0.85            Ideal     H     SI1     EX       EX    GIA   \n",
       "5        4         0.91            Ideal     E     SI1     VG       VG    GIA   \n",
       "6        5         0.83            Ideal     G     SI1     EX       EX    GIA   \n",
       "...    ...          ...              ...   ...     ...    ...      ...    ...   \n",
       "5997  5996         1.03            Ideal     D     SI1     EX       EX    GIA   \n",
       "5998  5997            1        Very Good     D     SI1     VG       VG    GIA   \n",
       "5999  5998         1.02            Ideal     D     SI1     EX       EX    GIA   \n",
       "6000  5999         1.27  Signature-Ideal     G     VS1     EX       EX    GIA   \n",
       "6001  6000         2.19            Ideal     E     VS1     EX       EX    GIA   \n",
       "\n",
       "     Price  \n",
       "2     5169  \n",
       "3     3470  \n",
       "4     3183  \n",
       "5     4370  \n",
       "6     3171  \n",
       "...    ...  \n",
       "5997   NaN  \n",
       "5998   NaN  \n",
       "5999   NaN  \n",
       "6000   NaN  \n",
       "6001   NaN  \n",
       "\n",
       "[6000 rows x 9 columns]"
      ]
     },
     "execution_count": 7,
     "metadata": {},
     "output_type": "execute_result"
    }
   ],
   "source": [
    "df"
   ]
  },
  {
   "cell_type": "code",
   "execution_count": 8,
   "metadata": {},
   "outputs": [
    {
     "data": {
      "text/html": [
       "<div>\n",
       "<style scoped>\n",
       "    .dataframe tbody tr th:only-of-type {\n",
       "        vertical-align: middle;\n",
       "    }\n",
       "\n",
       "    .dataframe tbody tr th {\n",
       "        vertical-align: top;\n",
       "    }\n",
       "\n",
       "    .dataframe thead th {\n",
       "        text-align: right;\n",
       "    }\n",
       "</style>\n",
       "<table border=\"1\" class=\"dataframe\">\n",
       "  <thead>\n",
       "    <tr style=\"text-align: right;\">\n",
       "      <th></th>\n",
       "      <th>ID</th>\n",
       "      <th>Carat Weight</th>\n",
       "      <th>Cut</th>\n",
       "      <th>Color</th>\n",
       "      <th>Clarity</th>\n",
       "      <th>Polish</th>\n",
       "      <th>Symmetry</th>\n",
       "      <th>Report</th>\n",
       "      <th>Price</th>\n",
       "    </tr>\n",
       "  </thead>\n",
       "  <tbody>\n",
       "    <tr>\n",
       "      <th>count</th>\n",
       "      <td>6000</td>\n",
       "      <td>6000.00</td>\n",
       "      <td>6000</td>\n",
       "      <td>5999</td>\n",
       "      <td>6000</td>\n",
       "      <td>6000</td>\n",
       "      <td>5999</td>\n",
       "      <td>6000</td>\n",
       "      <td>4500.0</td>\n",
       "    </tr>\n",
       "    <tr>\n",
       "      <th>unique</th>\n",
       "      <td>6000</td>\n",
       "      <td>198.00</td>\n",
       "      <td>8</td>\n",
       "      <td>7</td>\n",
       "      <td>8</td>\n",
       "      <td>5</td>\n",
       "      <td>5</td>\n",
       "      <td>2</td>\n",
       "      <td>3791.0</td>\n",
       "    </tr>\n",
       "    <tr>\n",
       "      <th>top</th>\n",
       "      <td>6000</td>\n",
       "      <td>1.01</td>\n",
       "      <td>Ideal</td>\n",
       "      <td>G</td>\n",
       "      <td>SI1</td>\n",
       "      <td>EX</td>\n",
       "      <td>VG</td>\n",
       "      <td>GIA</td>\n",
       "      <td>5534.0</td>\n",
       "    </tr>\n",
       "    <tr>\n",
       "      <th>freq</th>\n",
       "      <td>1</td>\n",
       "      <td>448.00</td>\n",
       "      <td>2479</td>\n",
       "      <td>1501</td>\n",
       "      <td>2059</td>\n",
       "      <td>2425</td>\n",
       "      <td>2416</td>\n",
       "      <td>5266</td>\n",
       "      <td>5.0</td>\n",
       "    </tr>\n",
       "  </tbody>\n",
       "</table>\n",
       "</div>"
      ],
      "text/plain": [
       "          ID  Carat Weight    Cut Color Clarity Polish Symmetry Report   Price\n",
       "count   6000       6000.00   6000  5999    6000   6000     5999   6000  4500.0\n",
       "unique  6000        198.00      8     7       8      5        5      2  3791.0\n",
       "top     6000          1.01  Ideal     G     SI1     EX       VG    GIA  5534.0\n",
       "freq       1        448.00   2479  1501    2059   2425     2416   5266     5.0"
      ]
     },
     "execution_count": 8,
     "metadata": {},
     "output_type": "execute_result"
    }
   ],
   "source": [
    "df.describe()"
   ]
  },
  {
   "cell_type": "code",
   "execution_count": 9,
   "metadata": {},
   "outputs": [
    {
     "name": "stdout",
     "output_type": "stream",
     "text": [
      "<class 'pandas.core.frame.DataFrame'>\n",
      "RangeIndex: 6000 entries, 2 to 6001\n",
      "Data columns (total 9 columns):\n",
      " #   Column        Non-Null Count  Dtype \n",
      "---  ------        --------------  ----- \n",
      " 0   ID            6000 non-null   object\n",
      " 1   Carat Weight  6000 non-null   object\n",
      " 2   Cut           6000 non-null   object\n",
      " 3   Color         5999 non-null   object\n",
      " 4   Clarity       6000 non-null   object\n",
      " 5   Polish        6000 non-null   object\n",
      " 6   Symmetry      5999 non-null   object\n",
      " 7   Report        6000 non-null   object\n",
      " 8   Price         4500 non-null   object\n",
      "dtypes: object(9)\n",
      "memory usage: 422.0+ KB\n"
     ]
    }
   ],
   "source": [
    "df.info()"
   ]
  },
  {
   "cell_type": "code",
   "execution_count": 10,
   "metadata": {},
   "outputs": [
    {
     "data": {
      "text/plain": [
       "array(['H', 'E', 'G', 'D', 'F', 'I', nan, '-'], dtype=object)"
      ]
     },
     "execution_count": 10,
     "metadata": {},
     "output_type": "execute_result"
    }
   ],
   "source": [
    "df['Color'].unique()"
   ]
  },
  {
   "cell_type": "code",
   "execution_count": 11,
   "metadata": {},
   "outputs": [
    {
     "data": {
      "text/plain": [
       "array(['EX', 'ID', 'VG', 'G', '  ', nan], dtype=object)"
      ]
     },
     "execution_count": 11,
     "metadata": {},
     "output_type": "execute_result"
    }
   ],
   "source": [
    "df['Symmetry'].unique()"
   ]
  },
  {
   "cell_type": "code",
   "execution_count": 12,
   "metadata": {},
   "outputs": [
    {
     "data": {
      "text/plain": [
       "array(['VG', 'ID', 'EX', 'G', 'НД'], dtype=object)"
      ]
     },
     "execution_count": 12,
     "metadata": {},
     "output_type": "execute_result"
    }
   ],
   "source": [
    "df['Polish'].unique()"
   ]
  },
  {
   "cell_type": "code",
   "execution_count": 13,
   "metadata": {},
   "outputs": [],
   "source": [
    "df_new = create_features(df)"
   ]
  },
  {
   "cell_type": "code",
   "execution_count": 14,
   "metadata": {},
   "outputs": [
    {
     "data": {
      "text/html": [
       "<div>\n",
       "<style scoped>\n",
       "    .dataframe tbody tr th:only-of-type {\n",
       "        vertical-align: middle;\n",
       "    }\n",
       "\n",
       "    .dataframe tbody tr th {\n",
       "        vertical-align: top;\n",
       "    }\n",
       "\n",
       "    .dataframe thead th {\n",
       "        text-align: right;\n",
       "    }\n",
       "</style>\n",
       "<table border=\"1\" class=\"dataframe\">\n",
       "  <thead>\n",
       "    <tr style=\"text-align: right;\">\n",
       "      <th></th>\n",
       "      <th>ID</th>\n",
       "      <th>Carat Weight</th>\n",
       "      <th>Cut_cat</th>\n",
       "      <th>Color_cat</th>\n",
       "      <th>Clarity_cat</th>\n",
       "      <th>Polish_cat</th>\n",
       "      <th>Symmetry_cat</th>\n",
       "      <th>clarity_freq_enc</th>\n",
       "      <th>Price</th>\n",
       "    </tr>\n",
       "  </thead>\n",
       "  <tbody>\n",
       "    <tr>\n",
       "      <th>2</th>\n",
       "      <td>1</td>\n",
       "      <td>1.1</td>\n",
       "      <td>5</td>\n",
       "      <td>4</td>\n",
       "      <td>5</td>\n",
       "      <td>2</td>\n",
       "      <td>3</td>\n",
       "      <td>0.343167</td>\n",
       "      <td>5169</td>\n",
       "    </tr>\n",
       "    <tr>\n",
       "      <th>3</th>\n",
       "      <td>2</td>\n",
       "      <td>0.83</td>\n",
       "      <td>5</td>\n",
       "      <td>4</td>\n",
       "      <td>4</td>\n",
       "      <td>4</td>\n",
       "      <td>4</td>\n",
       "      <td>0.198667</td>\n",
       "      <td>3470</td>\n",
       "    </tr>\n",
       "    <tr>\n",
       "      <th>4</th>\n",
       "      <td>3</td>\n",
       "      <td>0.85</td>\n",
       "      <td>5</td>\n",
       "      <td>4</td>\n",
       "      <td>5</td>\n",
       "      <td>3</td>\n",
       "      <td>3</td>\n",
       "      <td>0.343167</td>\n",
       "      <td>3183</td>\n",
       "    </tr>\n",
       "    <tr>\n",
       "      <th>5</th>\n",
       "      <td>4</td>\n",
       "      <td>0.91</td>\n",
       "      <td>5</td>\n",
       "      <td>2</td>\n",
       "      <td>5</td>\n",
       "      <td>2</td>\n",
       "      <td>2</td>\n",
       "      <td>0.343167</td>\n",
       "      <td>4370</td>\n",
       "    </tr>\n",
       "    <tr>\n",
       "      <th>6</th>\n",
       "      <td>5</td>\n",
       "      <td>0.83</td>\n",
       "      <td>5</td>\n",
       "      <td>4</td>\n",
       "      <td>5</td>\n",
       "      <td>3</td>\n",
       "      <td>3</td>\n",
       "      <td>0.343167</td>\n",
       "      <td>3171</td>\n",
       "    </tr>\n",
       "    <tr>\n",
       "      <th>...</th>\n",
       "      <td>...</td>\n",
       "      <td>...</td>\n",
       "      <td>...</td>\n",
       "      <td>...</td>\n",
       "      <td>...</td>\n",
       "      <td>...</td>\n",
       "      <td>...</td>\n",
       "      <td>...</td>\n",
       "      <td>...</td>\n",
       "    </tr>\n",
       "    <tr>\n",
       "      <th>5997</th>\n",
       "      <td>5996</td>\n",
       "      <td>1.03</td>\n",
       "      <td>5</td>\n",
       "      <td>1</td>\n",
       "      <td>5</td>\n",
       "      <td>3</td>\n",
       "      <td>3</td>\n",
       "      <td>0.343167</td>\n",
       "      <td>NaN</td>\n",
       "    </tr>\n",
       "    <tr>\n",
       "      <th>5998</th>\n",
       "      <td>5997</td>\n",
       "      <td>1</td>\n",
       "      <td>4</td>\n",
       "      <td>1</td>\n",
       "      <td>5</td>\n",
       "      <td>2</td>\n",
       "      <td>2</td>\n",
       "      <td>0.343167</td>\n",
       "      <td>NaN</td>\n",
       "    </tr>\n",
       "    <tr>\n",
       "      <th>5999</th>\n",
       "      <td>5998</td>\n",
       "      <td>1.02</td>\n",
       "      <td>5</td>\n",
       "      <td>1</td>\n",
       "      <td>5</td>\n",
       "      <td>3</td>\n",
       "      <td>3</td>\n",
       "      <td>0.343167</td>\n",
       "      <td>NaN</td>\n",
       "    </tr>\n",
       "    <tr>\n",
       "      <th>6000</th>\n",
       "      <td>5999</td>\n",
       "      <td>1.27</td>\n",
       "      <td>6</td>\n",
       "      <td>4</td>\n",
       "      <td>4</td>\n",
       "      <td>3</td>\n",
       "      <td>3</td>\n",
       "      <td>0.198667</td>\n",
       "      <td>NaN</td>\n",
       "    </tr>\n",
       "    <tr>\n",
       "      <th>6001</th>\n",
       "      <td>6000</td>\n",
       "      <td>2.19</td>\n",
       "      <td>5</td>\n",
       "      <td>2</td>\n",
       "      <td>4</td>\n",
       "      <td>3</td>\n",
       "      <td>3</td>\n",
       "      <td>0.198667</td>\n",
       "      <td>NaN</td>\n",
       "    </tr>\n",
       "  </tbody>\n",
       "</table>\n",
       "<p>5993 rows × 9 columns</p>\n",
       "</div>"
      ],
      "text/plain": [
       "        ID Carat Weight  Cut_cat  Color_cat  Clarity_cat  Polish_cat  \\\n",
       "2        1          1.1        5          4            5           2   \n",
       "3        2         0.83        5          4            4           4   \n",
       "4        3         0.85        5          4            5           3   \n",
       "5        4         0.91        5          2            5           2   \n",
       "6        5         0.83        5          4            5           3   \n",
       "...    ...          ...      ...        ...          ...         ...   \n",
       "5997  5996         1.03        5          1            5           3   \n",
       "5998  5997            1        4          1            5           2   \n",
       "5999  5998         1.02        5          1            5           3   \n",
       "6000  5999         1.27        6          4            4           3   \n",
       "6001  6000         2.19        5          2            4           3   \n",
       "\n",
       "      Symmetry_cat  clarity_freq_enc Price  \n",
       "2                3          0.343167  5169  \n",
       "3                4          0.198667  3470  \n",
       "4                3          0.343167  3183  \n",
       "5                2          0.343167  4370  \n",
       "6                3          0.343167  3171  \n",
       "...            ...               ...   ...  \n",
       "5997             3          0.343167   NaN  \n",
       "5998             2          0.343167   NaN  \n",
       "5999             3          0.343167   NaN  \n",
       "6000             3          0.198667   NaN  \n",
       "6001             3          0.198667   NaN  \n",
       "\n",
       "[5993 rows x 9 columns]"
      ]
     },
     "execution_count": 14,
     "metadata": {},
     "output_type": "execute_result"
    }
   ],
   "source": [
    "df_new"
   ]
  },
  {
   "cell_type": "markdown",
   "metadata": {},
   "source": [
    "Исследование данных"
   ]
  },
  {
   "cell_type": "markdown",
   "metadata": {},
   "source": [
    "Исследование распределения по чистоте в данном наборе бриллиантов  "
   ]
  },
  {
   "cell_type": "code",
   "execution_count": 15,
   "metadata": {},
   "outputs": [
    {
     "name": "stdout",
     "output_type": "stream",
     "text": [
      "1 - FL\n",
      "2 - IF\n",
      "3 - VVS1/VVS2\n",
      "4 - VS1/VS2\n",
      "5 - SI1/SI2\n"
     ]
    }
   ],
   "source": [
    "print('1 - FL')\n",
    "print('2 - IF')\n",
    "print('3 - VVS1/VVS2')\n",
    "print('4 - VS1/VS2')\n",
    "print('5 - SI1/SI2')"
   ]
  },
  {
   "cell_type": "code",
   "execution_count": 16,
   "metadata": {},
   "outputs": [
    {
     "data": {
      "text/plain": [
       "4    0.461038\n",
       "5    0.343234\n",
       "3    0.158685\n",
       "2    0.036376\n",
       "1    0.000667\n",
       "Name: Clarity_cat, dtype: float64"
      ]
     },
     "execution_count": 16,
     "metadata": {},
     "output_type": "execute_result"
    }
   ],
   "source": [
    "df_new['Clarity_cat'].value_counts(normalize=True)"
   ]
  },
  {
   "cell_type": "code",
   "execution_count": 17,
   "metadata": {},
   "outputs": [
    {
     "data": {
      "text/html": [
       "<div>\n",
       "<style scoped>\n",
       "    .dataframe tbody tr th:only-of-type {\n",
       "        vertical-align: middle;\n",
       "    }\n",
       "\n",
       "    .dataframe tbody tr th {\n",
       "        vertical-align: top;\n",
       "    }\n",
       "\n",
       "    .dataframe thead th {\n",
       "        text-align: right;\n",
       "    }\n",
       "</style>\n",
       "<table border=\"1\" class=\"dataframe\">\n",
       "  <thead>\n",
       "    <tr style=\"text-align: right;\">\n",
       "      <th></th>\n",
       "      <th>Clarity_cat</th>\n",
       "      <th>ID</th>\n",
       "    </tr>\n",
       "  </thead>\n",
       "  <tbody>\n",
       "    <tr>\n",
       "      <th>0</th>\n",
       "      <td>1</td>\n",
       "      <td>4</td>\n",
       "    </tr>\n",
       "    <tr>\n",
       "      <th>1</th>\n",
       "      <td>2</td>\n",
       "      <td>218</td>\n",
       "    </tr>\n",
       "    <tr>\n",
       "      <th>2</th>\n",
       "      <td>3</td>\n",
       "      <td>951</td>\n",
       "    </tr>\n",
       "    <tr>\n",
       "      <th>3</th>\n",
       "      <td>4</td>\n",
       "      <td>2763</td>\n",
       "    </tr>\n",
       "    <tr>\n",
       "      <th>4</th>\n",
       "      <td>5</td>\n",
       "      <td>2057</td>\n",
       "    </tr>\n",
       "  </tbody>\n",
       "</table>\n",
       "</div>"
      ],
      "text/plain": [
       "   Clarity_cat    ID\n",
       "0            1     4\n",
       "1            2   218\n",
       "2            3   951\n",
       "3            4  2763\n",
       "4            5  2057"
      ]
     },
     "execution_count": 17,
     "metadata": {},
     "output_type": "execute_result"
    }
   ],
   "source": [
    "df_Clarity = df_new.groupby('Clarity_cat')['ID'].count().reset_index().sort_values('Clarity_cat') \n",
    "df_Clarity"
   ]
  },
  {
   "cell_type": "code",
   "execution_count": 18,
   "metadata": {},
   "outputs": [
    {
     "data": {
      "text/plain": [
       "Text(0, 0.5, 'количество бриллиантов')"
      ]
     },
     "execution_count": 18,
     "metadata": {},
     "output_type": "execute_result"
    },
    {
     "data": {
      "image/png": "[encoded data removed]",
      "text/plain": [
       "<Figure size 432x288 with 1 Axes>"
      ]
     },
     "metadata": {
      "needs_background": "light"
     },
     "output_type": "display_data"
    }
   ],
   "source": [
    "plt.bar(df_Clarity['Clarity_cat'], df_Clarity['ID'])\n",
    "plt.title('Статистика по чистоте бриллиантов')\n",
    "plt.xlabel('Степень чистоты')\n",
    "plt.ylabel('количество бриллиантов')\n",
    "#plt.xticks(rotation=45)"
   ]
  },
  {
   "cell_type": "code",
   "execution_count": 19,
   "metadata": {},
   "outputs": [
    {
     "data": {
      "text/plain": [
       "Clarity_cat\n",
       "1       4\n",
       "2     218\n",
       "3     951\n",
       "4    2763\n",
       "5    2057\n",
       "Name: ID, dtype: int64"
      ]
     },
     "execution_count": 19,
     "metadata": {},
     "output_type": "execute_result"
    }
   ],
   "source": [
    "serie = df_new.groupby('Clarity_cat')['ID'].count()\n",
    "serie"
   ]
  },
  {
   "cell_type": "code",
   "execution_count": 20,
   "metadata": {},
   "outputs": [
    {
     "data": {
      "text/plain": [
       "Text(0.5, 1.0, 'Статистика по чистоте бриллиантов')"
      ]
     },
     "execution_count": 20,
     "metadata": {},
     "output_type": "execute_result"
    },
    {
     "data": {
      "image/png": "[encoded data removed]",
      "text/plain": [
       "<Figure size 432x288 with 1 Axes>"
      ]
     },
     "metadata": {},
     "output_type": "display_data"
    }
   ],
   "source": [
    "plt.pie(serie, labels=serie.index, autopct='%1.1f%%')\n",
    "plt.title('Статистика по чистоте бриллиантов')"
   ]
  },
  {
   "cell_type": "code",
   "execution_count": null,
   "metadata": {},
   "outputs": [],
   "source": []
  },
  {
   "cell_type": "markdown",
   "metadata": {},
   "source": [
    "Исследование распределения по цвету в данном наборе бриллиантов"
   ]
  },
  {
   "cell_type": "code",
   "execution_count": 21,
   "metadata": {},
   "outputs": [
    {
     "name": "stdout",
     "output_type": "stream",
     "text": [
      "1 - D (совершенно бесцветные)\n",
      "2 - E\n",
      "3 - F\n",
      "4 - G-H\n",
      "5 - I-J\n"
     ]
    }
   ],
   "source": [
    "print('1 - D (совершенно бесцветные)')\n",
    "print('2 - E')\n",
    "print('3 - F')\n",
    "print('4 - G-H')\n",
    "print('5 - I-J')"
   ]
  },
  {
   "cell_type": "code",
   "execution_count": 22,
   "metadata": {},
   "outputs": [
    {
     "data": {
      "text/plain": [
       "4    0.430002\n",
       "3    0.168697\n",
       "5    0.161355\n",
       "2    0.129818\n",
       "1    0.110128\n",
       "Name: Color_cat, dtype: float64"
      ]
     },
     "execution_count": 22,
     "metadata": {},
     "output_type": "execute_result"
    }
   ],
   "source": [
    "df_new['Color_cat'].value_counts(normalize=True)"
   ]
  },
  {
   "cell_type": "code",
   "execution_count": 23,
   "metadata": {},
   "outputs": [
    {
     "data": {
      "text/html": [
       "<div>\n",
       "<style scoped>\n",
       "    .dataframe tbody tr th:only-of-type {\n",
       "        vertical-align: middle;\n",
       "    }\n",
       "\n",
       "    .dataframe tbody tr th {\n",
       "        vertical-align: top;\n",
       "    }\n",
       "\n",
       "    .dataframe thead th {\n",
       "        text-align: right;\n",
       "    }\n",
       "</style>\n",
       "<table border=\"1\" class=\"dataframe\">\n",
       "  <thead>\n",
       "    <tr style=\"text-align: right;\">\n",
       "      <th></th>\n",
       "      <th>Color_cat</th>\n",
       "      <th>ID</th>\n",
       "    </tr>\n",
       "  </thead>\n",
       "  <tbody>\n",
       "    <tr>\n",
       "      <th>0</th>\n",
       "      <td>1</td>\n",
       "      <td>660</td>\n",
       "    </tr>\n",
       "    <tr>\n",
       "      <th>1</th>\n",
       "      <td>2</td>\n",
       "      <td>778</td>\n",
       "    </tr>\n",
       "    <tr>\n",
       "      <th>2</th>\n",
       "      <td>3</td>\n",
       "      <td>1011</td>\n",
       "    </tr>\n",
       "    <tr>\n",
       "      <th>3</th>\n",
       "      <td>4</td>\n",
       "      <td>2577</td>\n",
       "    </tr>\n",
       "    <tr>\n",
       "      <th>4</th>\n",
       "      <td>5</td>\n",
       "      <td>967</td>\n",
       "    </tr>\n",
       "  </tbody>\n",
       "</table>\n",
       "</div>"
      ],
      "text/plain": [
       "   Color_cat    ID\n",
       "0          1   660\n",
       "1          2   778\n",
       "2          3  1011\n",
       "3          4  2577\n",
       "4          5   967"
      ]
     },
     "execution_count": 23,
     "metadata": {},
     "output_type": "execute_result"
    }
   ],
   "source": [
    "df_Color = df_new.groupby('Color_cat')['ID'].count().reset_index().sort_values('Color_cat') \n",
    "df_Color"
   ]
  },
  {
   "cell_type": "code",
   "execution_count": 24,
   "metadata": {},
   "outputs": [
    {
     "data": {
      "text/plain": [
       "Text(0, 0.5, 'количество бриллиантов')"
      ]
     },
     "execution_count": 24,
     "metadata": {},
     "output_type": "execute_result"
    },
    {
     "data": {
      "image/png": "[encoded data removed]",
      "text/plain": [
       "<Figure size 432x288 with 1 Axes>"
      ]
     },
     "metadata": {
      "needs_background": "light"
     },
     "output_type": "display_data"
    }
   ],
   "source": [
    "plt.bar(df_Color['Color_cat'], df_Color['ID'])\n",
    "plt.title('Статистика по цвету бриллиантов')\n",
    "plt.xlabel('Цвет')\n",
    "plt.ylabel('количество бриллиантов')\n",
    "#plt.xticks(rotation=45)"
   ]
  },
  {
   "cell_type": "code",
   "execution_count": 25,
   "metadata": {},
   "outputs": [
    {
     "data": {
      "text/plain": [
       "Color_cat\n",
       "1     660\n",
       "2     778\n",
       "3    1011\n",
       "4    2577\n",
       "5     967\n",
       "Name: ID, dtype: int64"
      ]
     },
     "execution_count": 25,
     "metadata": {},
     "output_type": "execute_result"
    }
   ],
   "source": [
    "serie = df_new.groupby('Color_cat')['ID'].count()\n",
    "serie"
   ]
  },
  {
   "cell_type": "code",
   "execution_count": 26,
   "metadata": {},
   "outputs": [
    {
     "data": {
      "text/plain": [
       "Text(0.5, 1.0, 'Статистика по цвету бриллиантов')"
      ]
     },
     "execution_count": 26,
     "metadata": {},
     "output_type": "execute_result"
    },
    {
     "data": {
      "image/png": "[encoded data removed]",
      "text/plain": [
       "<Figure size 432x288 with 1 Axes>"
      ]
     },
     "metadata": {},
     "output_type": "display_data"
    }
   ],
   "source": [
    "plt.pie(serie, labels=serie.index, autopct='%1.1f%%')\n",
    "plt.title('Статистика по цвету бриллиантов')"
   ]
  },
  {
   "cell_type": "code",
   "execution_count": null,
   "metadata": {},
   "outputs": [],
   "source": []
  },
  {
   "cell_type": "markdown",
   "metadata": {},
   "source": [
    "Исследование распределения по огранке в данном наборе бриллиантов"
   ]
  },
  {
   "cell_type": "code",
   "execution_count": 27,
   "metadata": {},
   "outputs": [
    {
     "name": "stdout",
     "output_type": "stream",
     "text": [
      "1 - Poor\n",
      "2 - Fair\n",
      "3 - Good\n",
      "4 - Very Good\n",
      "5 - Ideal\n",
      "6 - Signature-Ideal\n"
     ]
    }
   ],
   "source": [
    "print('1 - Poor')\n",
    "print('2 - Fair')\n",
    "print('3 - Good')\n",
    "print('4 - Very Good')\n",
    "print('5 - Ideal')\n",
    "print('6 - Signature-Ideal')"
   ]
  },
  {
   "cell_type": "code",
   "execution_count": 28,
   "metadata": {},
   "outputs": [
    {
     "data": {
      "text/plain": [
       "5    0.413482\n",
       "4    0.404806\n",
       "3    0.117971\n",
       "6    0.042216\n",
       "2    0.021525\n",
       "Name: Cut_cat, dtype: float64"
      ]
     },
     "execution_count": 28,
     "metadata": {},
     "output_type": "execute_result"
    }
   ],
   "source": [
    "df_new['Cut_cat'].value_counts(normalize=True)"
   ]
  },
  {
   "cell_type": "code",
   "execution_count": 29,
   "metadata": {},
   "outputs": [
    {
     "data": {
      "text/html": [
       "<div>\n",
       "<style scoped>\n",
       "    .dataframe tbody tr th:only-of-type {\n",
       "        vertical-align: middle;\n",
       "    }\n",
       "\n",
       "    .dataframe tbody tr th {\n",
       "        vertical-align: top;\n",
       "    }\n",
       "\n",
       "    .dataframe thead th {\n",
       "        text-align: right;\n",
       "    }\n",
       "</style>\n",
       "<table border=\"1\" class=\"dataframe\">\n",
       "  <thead>\n",
       "    <tr style=\"text-align: right;\">\n",
       "      <th></th>\n",
       "      <th>Cut_cat</th>\n",
       "      <th>ID</th>\n",
       "    </tr>\n",
       "  </thead>\n",
       "  <tbody>\n",
       "    <tr>\n",
       "      <th>0</th>\n",
       "      <td>2</td>\n",
       "      <td>129</td>\n",
       "    </tr>\n",
       "    <tr>\n",
       "      <th>1</th>\n",
       "      <td>3</td>\n",
       "      <td>707</td>\n",
       "    </tr>\n",
       "    <tr>\n",
       "      <th>2</th>\n",
       "      <td>4</td>\n",
       "      <td>2426</td>\n",
       "    </tr>\n",
       "    <tr>\n",
       "      <th>3</th>\n",
       "      <td>5</td>\n",
       "      <td>2478</td>\n",
       "    </tr>\n",
       "    <tr>\n",
       "      <th>4</th>\n",
       "      <td>6</td>\n",
       "      <td>253</td>\n",
       "    </tr>\n",
       "  </tbody>\n",
       "</table>\n",
       "</div>"
      ],
      "text/plain": [
       "   Cut_cat    ID\n",
       "0        2   129\n",
       "1        3   707\n",
       "2        4  2426\n",
       "3        5  2478\n",
       "4        6   253"
      ]
     },
     "execution_count": 29,
     "metadata": {},
     "output_type": "execute_result"
    }
   ],
   "source": [
    "df_Cut = df_new.groupby('Cut_cat')['ID'].count().reset_index().sort_values('Cut_cat') \n",
    "df_Cut"
   ]
  },
  {
   "cell_type": "code",
   "execution_count": 30,
   "metadata": {},
   "outputs": [
    {
     "data": {
      "text/plain": [
       "Text(0, 0.5, 'количество бриллиантов')"
      ]
     },
     "execution_count": 30,
     "metadata": {},
     "output_type": "execute_result"
    },
    {
     "data": {
      "image/png": "[encoded data removed]",
      "text/plain": [
       "<Figure size 432x288 with 1 Axes>"
      ]
     },
     "metadata": {
      "needs_background": "light"
     },
     "output_type": "display_data"
    }
   ],
   "source": [
    "plt.bar(df_Cut['Cut_cat'], df_Color['ID'])\n",
    "plt.title('Статистика по огранке бриллиантов')\n",
    "plt.xlabel('Огранка')\n",
    "plt.ylabel('количество бриллиантов')\n",
    "#plt.xticks(rotation=45)"
   ]
  },
  {
   "cell_type": "code",
   "execution_count": 31,
   "metadata": {},
   "outputs": [
    {
     "data": {
      "text/plain": [
       "Cut_cat\n",
       "2     129\n",
       "3     707\n",
       "4    2426\n",
       "5    2478\n",
       "6     253\n",
       "Name: ID, dtype: int64"
      ]
     },
     "execution_count": 31,
     "metadata": {},
     "output_type": "execute_result"
    }
   ],
   "source": [
    "serie = df_new.groupby('Cut_cat')['ID'].count()\n",
    "serie"
   ]
  },
  {
   "cell_type": "code",
   "execution_count": 32,
   "metadata": {},
   "outputs": [
    {
     "data": {
      "text/plain": [
       "Text(0.5, 1.0, 'Статистика по огранке бриллиантов')"
      ]
     },
     "execution_count": 32,
     "metadata": {},
     "output_type": "execute_result"
    },
    {
     "data": {
      "image/png": "[encoded data removed]",
      "text/plain": [
       "<Figure size 432x288 with 1 Axes>"
      ]
     },
     "metadata": {},
     "output_type": "display_data"
    }
   ],
   "source": [
    "plt.pie(serie, labels=serie.index, autopct='%1.1f%%')\n",
    "plt.title('Статистика по огранке бриллиантов')"
   ]
  },
  {
   "cell_type": "code",
   "execution_count": null,
   "metadata": {},
   "outputs": [],
   "source": []
  },
  {
   "cell_type": "markdown",
   "metadata": {},
   "source": [
    "Исследование распределения по симметрии огранки в данном наборе бриллиантов"
   ]
  },
  {
   "cell_type": "code",
   "execution_count": 33,
   "metadata": {},
   "outputs": [
    {
     "name": "stdout",
     "output_type": "stream",
     "text": [
      "1 - G (good)\n",
      "2 - VG (very good)\n",
      "3 - EX (excellent)\n",
      "4 - ID (ideal)\n"
     ]
    }
   ],
   "source": [
    "print('1 - G (good)')\n",
    "print('2 - VG (very good)')\n",
    "print('3 - EX (excellent)')\n",
    "print('4 - ID (ideal)')"
   ]
  },
  {
   "cell_type": "code",
   "execution_count": 34,
   "metadata": {},
   "outputs": [
    {
     "data": {
      "text/plain": [
       "2    0.402470\n",
       "3    0.343234\n",
       "1    0.152511\n",
       "4    0.101452\n",
       "0    0.000334\n",
       "Name: Symmetry_cat, dtype: float64"
      ]
     },
     "execution_count": 34,
     "metadata": {},
     "output_type": "execute_result"
    }
   ],
   "source": [
    "df_new['Symmetry_cat'].value_counts(normalize=True)"
   ]
  },
  {
   "cell_type": "code",
   "execution_count": 35,
   "metadata": {},
   "outputs": [
    {
     "data": {
      "text/html": [
       "<div>\n",
       "<style scoped>\n",
       "    .dataframe tbody tr th:only-of-type {\n",
       "        vertical-align: middle;\n",
       "    }\n",
       "\n",
       "    .dataframe tbody tr th {\n",
       "        vertical-align: top;\n",
       "    }\n",
       "\n",
       "    .dataframe thead th {\n",
       "        text-align: right;\n",
       "    }\n",
       "</style>\n",
       "<table border=\"1\" class=\"dataframe\">\n",
       "  <thead>\n",
       "    <tr style=\"text-align: right;\">\n",
       "      <th></th>\n",
       "      <th>Symmetry_cat</th>\n",
       "      <th>ID</th>\n",
       "    </tr>\n",
       "  </thead>\n",
       "  <tbody>\n",
       "    <tr>\n",
       "      <th>0</th>\n",
       "      <td>0</td>\n",
       "      <td>2</td>\n",
       "    </tr>\n",
       "    <tr>\n",
       "      <th>1</th>\n",
       "      <td>1</td>\n",
       "      <td>914</td>\n",
       "    </tr>\n",
       "    <tr>\n",
       "      <th>2</th>\n",
       "      <td>2</td>\n",
       "      <td>2412</td>\n",
       "    </tr>\n",
       "    <tr>\n",
       "      <th>3</th>\n",
       "      <td>3</td>\n",
       "      <td>2057</td>\n",
       "    </tr>\n",
       "    <tr>\n",
       "      <th>4</th>\n",
       "      <td>4</td>\n",
       "      <td>608</td>\n",
       "    </tr>\n",
       "  </tbody>\n",
       "</table>\n",
       "</div>"
      ],
      "text/plain": [
       "   Symmetry_cat    ID\n",
       "0             0     2\n",
       "1             1   914\n",
       "2             2  2412\n",
       "3             3  2057\n",
       "4             4   608"
      ]
     },
     "execution_count": 35,
     "metadata": {},
     "output_type": "execute_result"
    }
   ],
   "source": [
    "df_Symmetry = df_new.groupby('Symmetry_cat')['ID'].count().reset_index().sort_values('Symmetry_cat') \n",
    "df_Symmetry"
   ]
  },
  {
   "cell_type": "code",
   "execution_count": 36,
   "metadata": {},
   "outputs": [
    {
     "data": {
      "text/plain": [
       "Text(0, 0.5, 'количество бриллиантов')"
      ]
     },
     "execution_count": 36,
     "metadata": {},
     "output_type": "execute_result"
    },
    {
     "data": {
      "image/png": "[encoded data removed]",
      "text/plain": [
       "<Figure size 432x288 with 1 Axes>"
      ]
     },
     "metadata": {
      "needs_background": "light"
     },
     "output_type": "display_data"
    }
   ],
   "source": [
    "plt.bar(df_Symmetry['Symmetry_cat'], df_Symmetry['ID'])\n",
    "plt.title('Статистика по симметрии огранки')\n",
    "plt.xlabel('Категории симметрии огранки')\n",
    "plt.ylabel('количество бриллиантов')\n",
    "#plt.xticks(rotation=45)"
   ]
  },
  {
   "cell_type": "code",
   "execution_count": 37,
   "metadata": {},
   "outputs": [
    {
     "data": {
      "text/plain": [
       "Symmetry_cat\n",
       "0       2\n",
       "1     914\n",
       "2    2412\n",
       "3    2057\n",
       "4     608\n",
       "Name: ID, dtype: int64"
      ]
     },
     "execution_count": 37,
     "metadata": {},
     "output_type": "execute_result"
    }
   ],
   "source": [
    "serie = df_new.groupby('Symmetry_cat')['ID'].count()\n",
    "serie"
   ]
  },
  {
   "cell_type": "code",
   "execution_count": 38,
   "metadata": {},
   "outputs": [
    {
     "data": {
      "text/plain": [
       "Text(0.5, 1.0, 'Статистика по цвету симметрии огранки')"
      ]
     },
     "execution_count": 38,
     "metadata": {},
     "output_type": "execute_result"
    },
    {
     "data": {
      "image/png": "[encoded data removed]",
      "text/plain": [
       "<Figure size 432x288 with 1 Axes>"
      ]
     },
     "metadata": {},
     "output_type": "display_data"
    }
   ],
   "source": [
    "plt.pie(serie, labels=serie.index, autopct='%1.1f%%')\n",
    "plt.title('Статистика по цвету симметрии огранки')"
   ]
  },
  {
   "cell_type": "code",
   "execution_count": null,
   "metadata": {},
   "outputs": [],
   "source": []
  },
  {
   "cell_type": "markdown",
   "metadata": {},
   "source": [
    "Исследование распределения по полировке в данном наборе бриллиантов"
   ]
  },
  {
   "cell_type": "code",
   "execution_count": 39,
   "metadata": {},
   "outputs": [
    {
     "name": "stdout",
     "output_type": "stream",
     "text": [
      "1 - G (good)\n",
      "2 - VG (very good)\n",
      "3 - EX (excellent)\n",
      "4 - ID (ideal)\n"
     ]
    }
   ],
   "source": [
    "print('1 - G (good)')\n",
    "print('2 - VG (very good)')\n",
    "print('3 - EX (excellent)')\n",
    "print('4 - ID (ideal)')"
   ]
  },
  {
   "cell_type": "code",
   "execution_count": 40,
   "metadata": {},
   "outputs": [
    {
     "data": {
      "text/plain": [
       "3    0.404138\n",
       "2    0.401468\n",
       "4    0.099282\n",
       "1    0.094944\n",
       "0    0.000167\n",
       "Name: Polish_cat, dtype: float64"
      ]
     },
     "execution_count": 40,
     "metadata": {},
     "output_type": "execute_result"
    }
   ],
   "source": [
    "df_new['Polish_cat'].value_counts(normalize=True)"
   ]
  },
  {
   "cell_type": "code",
   "execution_count": 41,
   "metadata": {},
   "outputs": [
    {
     "data": {
      "text/html": [
       "<div>\n",
       "<style scoped>\n",
       "    .dataframe tbody tr th:only-of-type {\n",
       "        vertical-align: middle;\n",
       "    }\n",
       "\n",
       "    .dataframe tbody tr th {\n",
       "        vertical-align: top;\n",
       "    }\n",
       "\n",
       "    .dataframe thead th {\n",
       "        text-align: right;\n",
       "    }\n",
       "</style>\n",
       "<table border=\"1\" class=\"dataframe\">\n",
       "  <thead>\n",
       "    <tr style=\"text-align: right;\">\n",
       "      <th></th>\n",
       "      <th>Polish_cat</th>\n",
       "      <th>ID</th>\n",
       "    </tr>\n",
       "  </thead>\n",
       "  <tbody>\n",
       "    <tr>\n",
       "      <th>0</th>\n",
       "      <td>0</td>\n",
       "      <td>1</td>\n",
       "    </tr>\n",
       "    <tr>\n",
       "      <th>1</th>\n",
       "      <td>1</td>\n",
       "      <td>569</td>\n",
       "    </tr>\n",
       "    <tr>\n",
       "      <th>2</th>\n",
       "      <td>2</td>\n",
       "      <td>2406</td>\n",
       "    </tr>\n",
       "    <tr>\n",
       "      <th>3</th>\n",
       "      <td>3</td>\n",
       "      <td>2422</td>\n",
       "    </tr>\n",
       "    <tr>\n",
       "      <th>4</th>\n",
       "      <td>4</td>\n",
       "      <td>595</td>\n",
       "    </tr>\n",
       "  </tbody>\n",
       "</table>\n",
       "</div>"
      ],
      "text/plain": [
       "   Polish_cat    ID\n",
       "0           0     1\n",
       "1           1   569\n",
       "2           2  2406\n",
       "3           3  2422\n",
       "4           4   595"
      ]
     },
     "execution_count": 41,
     "metadata": {},
     "output_type": "execute_result"
    }
   ],
   "source": [
    "df_Polish = df_new.groupby('Polish_cat')['ID'].count().reset_index().sort_values('Polish_cat') \n",
    "df_Polish"
   ]
  },
  {
   "cell_type": "code",
   "execution_count": 42,
   "metadata": {},
   "outputs": [
    {
     "data": {
      "text/plain": [
       "Text(0, 0.5, 'количество бриллиантов')"
      ]
     },
     "execution_count": 42,
     "metadata": {},
     "output_type": "execute_result"
    },
    {
     "data": {
      "image/png": "[encoded data removed]",
      "text/plain": [
       "<Figure size 432x288 with 1 Axes>"
      ]
     },
     "metadata": {
      "needs_background": "light"
     },
     "output_type": "display_data"
    }
   ],
   "source": [
    "plt.bar(df_Polish['Polish_cat'], df_Polish['ID'])\n",
    "plt.title('Статистика по полировке бриллиантов')\n",
    "plt.xlabel('Полировка')\n",
    "plt.ylabel('количество бриллиантов')\n",
    "#plt.xticks(rotation=45)"
   ]
  },
  {
   "cell_type": "code",
   "execution_count": 43,
   "metadata": {},
   "outputs": [
    {
     "data": {
      "text/plain": [
       "Polish_cat\n",
       "0       1\n",
       "1     569\n",
       "2    2406\n",
       "3    2422\n",
       "4     595\n",
       "Name: ID, dtype: int64"
      ]
     },
     "execution_count": 43,
     "metadata": {},
     "output_type": "execute_result"
    }
   ],
   "source": [
    "serie = df_new.groupby('Polish_cat')['ID'].count()\n",
    "serie"
   ]
  },
  {
   "cell_type": "code",
   "execution_count": 44,
   "metadata": {},
   "outputs": [
    {
     "data": {
      "text/plain": [
       "Text(0.5, 1.0, 'Статистика по полировке бриллиантов')"
      ]
     },
     "execution_count": 44,
     "metadata": {},
     "output_type": "execute_result"
    },
    {
     "data": {
      "image/png": "[encoded data removed]",
      "text/plain": [
       "<Figure size 432x288 with 1 Axes>"
      ]
     },
     "metadata": {},
     "output_type": "display_data"
    }
   ],
   "source": [
    "plt.pie(serie, labels=serie.index, autopct='%1.1f%%')\n",
    "plt.title('Статистика по полировке бриллиантов')"
   ]
  },
  {
   "cell_type": "code",
   "execution_count": null,
   "metadata": {},
   "outputs": [],
   "source": []
  },
  {
   "cell_type": "markdown",
   "metadata": {},
   "source": [
    "Исследование зависимости стоимости бриллианта от чистоты "
   ]
  },
  {
   "cell_type": "code",
   "execution_count": 45,
   "metadata": {},
   "outputs": [],
   "source": [
    "train = df_new[~df_new['Price'].isnull()]"
   ]
  },
  {
   "cell_type": "code",
   "execution_count": 46,
   "metadata": {},
   "outputs": [
    {
     "name": "stderr",
     "output_type": "stream",
     "text": [
      "C:\\ProgramData\\Anaconda3\\lib\\site-packages\\ipykernel_launcher.py:1: SettingWithCopyWarning: \n",
      "A value is trying to be set on a copy of a slice from a DataFrame.\n",
      "Try using .loc[row_indexer,col_indexer] = value instead\n",
      "\n",
      "See the caveats in the documentation: https://pandas.pydata.org/pandas-docs/stable/user_guide/indexing.html#returning-a-view-versus-a-copy\n",
      "  \"\"\"Entry point for launching an IPython kernel.\n"
     ]
    }
   ],
   "source": [
    "train['int_price'] = train['Price'].apply(lambda x: int(x))"
   ]
  },
  {
   "cell_type": "code",
   "execution_count": 47,
   "metadata": {},
   "outputs": [
    {
     "name": "stdout",
     "output_type": "stream",
     "text": [
      "1 - FL\n",
      "2 - IF\n",
      "3 - VVS1/VVS2\n",
      "4 - VS1/VS2\n",
      "5 - SI1/SI2\n"
     ]
    }
   ],
   "source": [
    "print('1 - FL')\n",
    "print('2 - IF')\n",
    "print('3 - VVS1/VVS2')\n",
    "print('4 - VS1/VS2')\n",
    "print('5 - SI1/SI2')"
   ]
  },
  {
   "cell_type": "code",
   "execution_count": 65,
   "metadata": {},
   "outputs": [
    {
     "data": {
      "text/html": [
       "<div>\n",
       "<style scoped>\n",
       "    .dataframe tbody tr th:only-of-type {\n",
       "        vertical-align: middle;\n",
       "    }\n",
       "\n",
       "    .dataframe tbody tr th {\n",
       "        vertical-align: top;\n",
       "    }\n",
       "\n",
       "    .dataframe thead th {\n",
       "        text-align: right;\n",
       "    }\n",
       "</style>\n",
       "<table border=\"1\" class=\"dataframe\">\n",
       "  <thead>\n",
       "    <tr style=\"text-align: right;\">\n",
       "      <th></th>\n",
       "      <th>Clarity_cat</th>\n",
       "      <th>int_price</th>\n",
       "    </tr>\n",
       "  </thead>\n",
       "  <tbody>\n",
       "    <tr>\n",
       "      <th>0</th>\n",
       "      <td>1</td>\n",
       "      <td>81399.0</td>\n",
       "    </tr>\n",
       "    <tr>\n",
       "      <th>1</th>\n",
       "      <td>2</td>\n",
       "      <td>11930.0</td>\n",
       "    </tr>\n",
       "    <tr>\n",
       "      <th>2</th>\n",
       "      <td>3</td>\n",
       "      <td>10470.0</td>\n",
       "    </tr>\n",
       "    <tr>\n",
       "      <th>3</th>\n",
       "      <td>4</td>\n",
       "      <td>8339.0</td>\n",
       "    </tr>\n",
       "    <tr>\n",
       "      <th>4</th>\n",
       "      <td>5</td>\n",
       "      <td>5409.5</td>\n",
       "    </tr>\n",
       "  </tbody>\n",
       "</table>\n",
       "</div>"
      ],
      "text/plain": [
       "   Clarity_cat  int_price\n",
       "0            1    81399.0\n",
       "1            2    11930.0\n",
       "2            3    10470.0\n",
       "3            4     8339.0\n",
       "4            5     5409.5"
      ]
     },
     "execution_count": 65,
     "metadata": {},
     "output_type": "execute_result"
    }
   ],
   "source": [
    "df_Clarity = train.groupby('Clarity_cat')['int_price'].median().reset_index().sort_values('Clarity_cat') \n",
    "df_Clarity"
   ]
  },
  {
   "cell_type": "code",
   "execution_count": 66,
   "metadata": {},
   "outputs": [
    {
     "data": {
      "text/plain": [
       "Text(0, 0.5, 'стоимость бриллиантов')"
      ]
     },
     "execution_count": 66,
     "metadata": {},
     "output_type": "execute_result"
    },
    {
     "data": {
      "image/png": "[encoded data removed]",
      "text/plain": [
       "<Figure size 432x288 with 1 Axes>"
      ]
     },
     "metadata": {
      "needs_background": "light"
     },
     "output_type": "display_data"
    }
   ],
   "source": [
    "plt.bar(df_Clarity['Clarity_cat'], df_Clarity['int_price'])\n",
    "plt.title('Статистика по стоимости бриллиантов в зависимости от чистоты')\n",
    "plt.xlabel('Степень чистоты')\n",
    "plt.ylabel('стоимость бриллиантов')\n",
    "#plt.xticks(rotation=45)"
   ]
  },
  {
   "cell_type": "markdown",
   "metadata": {},
   "source": [
    "Вывод: наблюдается очень четкая зависимость цены от чистоты бриллианта."
   ]
  },
  {
   "cell_type": "markdown",
   "metadata": {},
   "source": [
    "Исследование зависимости стоимости бриллианта от цвета "
   ]
  },
  {
   "cell_type": "code",
   "execution_count": 50,
   "metadata": {},
   "outputs": [
    {
     "name": "stdout",
     "output_type": "stream",
     "text": [
      "1 - D (совершенно бесцветные)\n",
      "2 - E\n",
      "3 - F\n",
      "4 - G-H\n",
      "5 - I-J\n"
     ]
    }
   ],
   "source": [
    "print('1 - D (совершенно бесцветные)')\n",
    "print('2 - E')\n",
    "print('3 - F')\n",
    "print('4 - G-H')\n",
    "print('5 - I-J')"
   ]
  },
  {
   "cell_type": "code",
   "execution_count": 67,
   "metadata": {},
   "outputs": [
    {
     "data": {
      "text/html": [
       "<div>\n",
       "<style scoped>\n",
       "    .dataframe tbody tr th:only-of-type {\n",
       "        vertical-align: middle;\n",
       "    }\n",
       "\n",
       "    .dataframe tbody tr th {\n",
       "        vertical-align: top;\n",
       "    }\n",
       "\n",
       "    .dataframe thead th {\n",
       "        text-align: right;\n",
       "    }\n",
       "</style>\n",
       "<table border=\"1\" class=\"dataframe\">\n",
       "  <thead>\n",
       "    <tr style=\"text-align: right;\">\n",
       "      <th></th>\n",
       "      <th>Color_cat</th>\n",
       "      <th>int_price</th>\n",
       "    </tr>\n",
       "  </thead>\n",
       "  <tbody>\n",
       "    <tr>\n",
       "      <th>0</th>\n",
       "      <td>1</td>\n",
       "      <td>7653.0</td>\n",
       "    </tr>\n",
       "    <tr>\n",
       "      <th>1</th>\n",
       "      <td>2</td>\n",
       "      <td>7178.0</td>\n",
       "    </tr>\n",
       "    <tr>\n",
       "      <th>2</th>\n",
       "      <td>3</td>\n",
       "      <td>8628.0</td>\n",
       "    </tr>\n",
       "    <tr>\n",
       "      <th>3</th>\n",
       "      <td>4</td>\n",
       "      <td>8093.0</td>\n",
       "    </tr>\n",
       "    <tr>\n",
       "      <th>4</th>\n",
       "      <td>5</td>\n",
       "      <td>6689.5</td>\n",
       "    </tr>\n",
       "  </tbody>\n",
       "</table>\n",
       "</div>"
      ],
      "text/plain": [
       "   Color_cat  int_price\n",
       "0          1     7653.0\n",
       "1          2     7178.0\n",
       "2          3     8628.0\n",
       "3          4     8093.0\n",
       "4          5     6689.5"
      ]
     },
     "execution_count": 67,
     "metadata": {},
     "output_type": "execute_result"
    }
   ],
   "source": [
    "df_Color = train.groupby('Color_cat')['int_price'].median().reset_index() \n",
    "df_Color"
   ]
  },
  {
   "cell_type": "code",
   "execution_count": 68,
   "metadata": {},
   "outputs": [
    {
     "data": {
      "text/plain": [
       "Text(0, 0.5, 'стоимость бриллиантов')"
      ]
     },
     "execution_count": 68,
     "metadata": {},
     "output_type": "execute_result"
    },
    {
     "data": {
      "image/png": "[encoded data removed]",
      "text/plain": [
       "<Figure size 432x288 with 1 Axes>"
      ]
     },
     "metadata": {
      "needs_background": "light"
     },
     "output_type": "display_data"
    }
   ],
   "source": [
    "plt.bar(df_Color['Color_cat'], df_Color['int_price'])\n",
    "plt.title('Статистика по стоимости бриллиантов в зависимости от цвета')\n",
    "plt.xlabel('Цвет')\n",
    "plt.ylabel('стоимость бриллиантов')\n",
    "#plt.xticks(rotation=45)"
   ]
  },
  {
   "cell_type": "markdown",
   "metadata": {},
   "source": [
    "Вывод: зависимость цены от цвета бриллианта не очень четкая."
   ]
  },
  {
   "cell_type": "markdown",
   "metadata": {},
   "source": [
    "Исследование зависимости стоимости бриллианта от огранки "
   ]
  },
  {
   "cell_type": "code",
   "execution_count": 53,
   "metadata": {},
   "outputs": [
    {
     "name": "stdout",
     "output_type": "stream",
     "text": [
      "1 - Poor\n",
      "2 - Fair\n",
      "3 - Good\n",
      "4 - Very Good\n",
      "5 - Ideal\n",
      "6 - Signature-Ideal\n"
     ]
    }
   ],
   "source": [
    "print('1 - Poor')\n",
    "print('2 - Fair')\n",
    "print('3 - Good')\n",
    "print('4 - Very Good')\n",
    "print('5 - Ideal')\n",
    "print('6 - Signature-Ideal')"
   ]
  },
  {
   "cell_type": "code",
   "execution_count": 70,
   "metadata": {},
   "outputs": [
    {
     "data": {
      "text/html": [
       "<div>\n",
       "<style scoped>\n",
       "    .dataframe tbody tr th:only-of-type {\n",
       "        vertical-align: middle;\n",
       "    }\n",
       "\n",
       "    .dataframe tbody tr th {\n",
       "        vertical-align: top;\n",
       "    }\n",
       "\n",
       "    .dataframe thead th {\n",
       "        text-align: right;\n",
       "    }\n",
       "</style>\n",
       "<table border=\"1\" class=\"dataframe\">\n",
       "  <thead>\n",
       "    <tr style=\"text-align: right;\">\n",
       "      <th></th>\n",
       "      <th>Cut_cat</th>\n",
       "      <th>int_price</th>\n",
       "    </tr>\n",
       "  </thead>\n",
       "  <tbody>\n",
       "    <tr>\n",
       "      <th>0</th>\n",
       "      <td>2</td>\n",
       "      <td>4771.0</td>\n",
       "    </tr>\n",
       "    <tr>\n",
       "      <th>1</th>\n",
       "      <td>3</td>\n",
       "      <td>6063.5</td>\n",
       "    </tr>\n",
       "    <tr>\n",
       "      <th>2</th>\n",
       "      <td>4</td>\n",
       "      <td>7079.0</td>\n",
       "    </tr>\n",
       "    <tr>\n",
       "      <th>3</th>\n",
       "      <td>5</td>\n",
       "      <td>9221.5</td>\n",
       "    </tr>\n",
       "    <tr>\n",
       "      <th>4</th>\n",
       "      <td>6</td>\n",
       "      <td>9434.0</td>\n",
       "    </tr>\n",
       "  </tbody>\n",
       "</table>\n",
       "</div>"
      ],
      "text/plain": [
       "   Cut_cat  int_price\n",
       "0        2     4771.0\n",
       "1        3     6063.5\n",
       "2        4     7079.0\n",
       "3        5     9221.5\n",
       "4        6     9434.0"
      ]
     },
     "execution_count": 70,
     "metadata": {},
     "output_type": "execute_result"
    }
   ],
   "source": [
    "df_Cut = train.groupby('Cut_cat')['int_price'].median().reset_index() \n",
    "df_Cut"
   ]
  },
  {
   "cell_type": "code",
   "execution_count": 71,
   "metadata": {},
   "outputs": [
    {
     "data": {
      "text/plain": [
       "Text(0, 0.5, 'стоимость бриллиантов')"
      ]
     },
     "execution_count": 71,
     "metadata": {},
     "output_type": "execute_result"
    },
    {
     "data": {
      "image/png": "[encoded data removed]",
      "text/plain": [
       "<Figure size 432x288 with 1 Axes>"
      ]
     },
     "metadata": {
      "needs_background": "light"
     },
     "output_type": "display_data"
    }
   ],
   "source": [
    "plt.bar(df_Cut['Cut_cat'], df_Cut['int_price'])\n",
    "plt.title('Статистика по стоимости бриллиантов в зависимости от огранки')\n",
    "plt.xlabel('Огранка')\n",
    "plt.ylabel('стоимость бриллиантов')\n",
    "#plt.xticks(rotation=45)"
   ]
  },
  {
   "cell_type": "markdown",
   "metadata": {},
   "source": [
    "Вывод: зависимость цены от цвета бриллианта четкая."
   ]
  },
  {
   "cell_type": "markdown",
   "metadata": {},
   "source": [
    "Исследование распределений весов камней в тренировочном и тестовом наборах "
   ]
  },
  {
   "cell_type": "code",
   "execution_count": 87,
   "metadata": {},
   "outputs": [],
   "source": [
    "def my_basic_research(df, column = \"volume\"):\n",
    "    print(\"среднее: \", df[column].mean())\n",
    "    print(\"средне-квадратичное отклонение: \", df[column].std())\n",
    "    print(\"медиана: \", df[column].median())    \n",
    "    print(\"50 перцентиль: \", np.percentile(df[column], 50))\n",
    "    print(\"75 перцентиль: \", np.percentile(df[column], 75))\n",
    "    print(\"99 перцентиль: \", np.percentile(df[column], 99))\n",
    "    print(\"мода: \", df[column].mode())\n",
    "    print(\"Самое популярное значение метрики, топ 1\")\n",
    "    print(df[column].value_counts().nlargest(1))\n",
    "    print(\"------------------------------------\")\n",
    "    "
   ]
  },
  {
   "cell_type": "code",
   "execution_count": 88,
   "metadata": {},
   "outputs": [
    {
     "name": "stdout",
     "output_type": "stream",
     "text": [
      "среднее:  4.778405249110243\n",
      "средне-квадратичное отклонение:  170.19018389053866\n",
      "медиана:  1.13\n",
      "50 перцентиль:  1.13\n",
      "75 перцентиль:  1.58\n",
      "99 перцентиль:  2.52\n",
      "мода:  0    1.01\n",
      "dtype: object\n",
      "Самое популярное значение метрики, топ 1\n",
      "1.01    345\n",
      "Name: Carat Weight, dtype: int64\n",
      "------------------------------------\n"
     ]
    }
   ],
   "source": [
    "my_basic_research(train,'Carat Weight')"
   ]
  },
  {
   "cell_type": "markdown",
   "metadata": {},
   "source": [
    "Медиана и среднее сильно различаются, значит много выбросов."
   ]
  },
  {
   "cell_type": "code",
   "execution_count": 96,
   "metadata": {},
   "outputs": [
    {
     "name": "stdout",
     "output_type": "stream",
     "text": [
      "среднее:  1.344068136272542\n",
      "средне-квадратичное отклонение:  0.4776058027714655\n",
      "медиана:  1.14\n",
      "50 перцентиль:  1.14\n",
      "75 перцентиль:  1.62\n",
      "99 перцентиль:  2.5103999999999997\n",
      "мода:  0    1.01\n",
      "dtype: object\n",
      "Самое популярное значение метрики, топ 1\n",
      "1.01    101\n",
      "Name: Carat Weight, dtype: int64\n",
      "------------------------------------\n"
     ]
    }
   ],
   "source": [
    "my_basic_research(df_new[df_new['Price'].isnull()],'Carat Weight')"
   ]
  },
  {
   "cell_type": "markdown",
   "metadata": {},
   "source": [
    "В тренировочном и тестовом наборе медианы веса камней почти совпадают. В тестовом наборе меньше выбросов ('экстремально больших весов)."
   ]
  },
  {
   "cell_type": "markdown",
   "metadata": {},
   "source": [
    "Исследование зависимости стоимости бриллианта от веса в тренировочном наборе"
   ]
  },
  {
   "cell_type": "code",
   "execution_count": 90,
   "metadata": {},
   "outputs": [
    {
     "data": {
      "text/plain": [
       "2.52"
      ]
     },
     "execution_count": 90,
     "metadata": {},
     "output_type": "execute_result"
    }
   ],
   "source": [
    "train_99procentile = np.percentile(train['Carat Weight'], 99)\n",
    "train_99procentile"
   ]
  },
  {
   "cell_type": "code",
   "execution_count": 93,
   "metadata": {},
   "outputs": [
    {
     "data": {
      "text/plain": [
       "Carat Weight\n",
       "0.75     2501\n",
       "0.75     3535\n",
       "0.75     5239\n",
       "0.75     3949\n",
       "0.75     2923\n",
       "        ...  \n",
       "2.51    31298\n",
       "2.51    24351\n",
       "2.51    28105\n",
       "2.51    21656\n",
       "2.51    44441\n",
       "Name: Price, Length: 4450, dtype: object"
      ]
     },
     "execution_count": 93,
     "metadata": {},
     "output_type": "execute_result"
    }
   ],
   "source": [
    "#train['int_Carat Weight'] = train['Carat Weight'] * 100\n",
    "#train['int_Carat Weight'] = train['int_Carat Weight'].apply(lambda x: int(x))\n",
    "serie = train[train['Carat Weight'] < train_99procentile].sort_values('Carat Weight').set_index('Carat Weight')['Price'] \n",
    "serie"
   ]
  },
  {
   "cell_type": "code",
   "execution_count": 94,
   "metadata": {},
   "outputs": [
    {
     "data": {
      "image/png": "[encoded data removed]",
      "text/plain": [
       "<Figure size 864x432 with 1 Axes>"
      ]
     },
     "metadata": {
      "needs_background": "light"
     },
     "output_type": "display_data"
    }
   ],
   "source": [
    "#на графике лучше вывести и модельные и реальные показатели одновременно\n",
    "fig, ax = plt.subplots(figsize=(12,6))\n",
    "ax.plot(serie, label='изменение стоимости с увеличением веса')\n",
    "\n",
    "ax.set_title('график зависимости цены от веса бриллианта')\n",
    "ax.set_xlabel('Вес')\n",
    "ax.set_ylabel('Стоимость')\n",
    "#ax.set_xticks(list(range(data['Year'].min(), data['Year'].max(), 5)) + [data['Year'].max()])\n",
    "ax.legend()\n",
    "\n",
    "plt.show()"
   ]
  },
  {
   "cell_type": "markdown",
   "metadata": {},
   "source": [
    "Вывод: в целом с увеличением веса растет стоимость бриллианта. Наблюдается устойчивый восходящий тренд, но с сильными помехами-флуктуациями. Начиная с 2 тренд увеличения стоимости заканчивается.  "
   ]
  },
  {
   "cell_type": "markdown",
   "metadata": {},
   "source": [
    "Построение модели машинного обучения"
   ]
  },
  {
   "cell_type": "code",
   "execution_count": 129,
   "metadata": {},
   "outputs": [],
   "source": [
    "test = df_new[df_new['Price'].isnull()]"
   ]
  },
  {
   "cell_type": "code",
   "execution_count": 130,
   "metadata": {},
   "outputs": [],
   "source": [
    "train = df_new[~df_new['Price'].isnull()]"
   ]
  },
  {
   "cell_type": "code",
   "execution_count": 131,
   "metadata": {},
   "outputs": [
    {
     "name": "stdout",
     "output_type": "stream",
     "text": [
      "4500\n",
      "1500\n"
     ]
    }
   ],
   "source": [
    "print(len(train))\n",
    "print(len(test))"
   ]
  },
  {
   "cell_type": "markdown",
   "metadata": {},
   "source": [
    "Анализ и заполнение пропусков"
   ]
  },
  {
   "cell_type": "code",
   "execution_count": 132,
   "metadata": {},
   "outputs": [
    {
     "data": {
      "text/plain": [
       "4500"
      ]
     },
     "execution_count": 132,
     "metadata": {},
     "output_type": "execute_result"
    }
   ],
   "source": [
    "len(train)"
   ]
  },
  {
   "cell_type": "code",
   "execution_count": 133,
   "metadata": {},
   "outputs": [
    {
     "data": {
      "text/plain": [
       "Carat Weight        0\n",
       "Cut_cat             0\n",
       "Color_cat           0\n",
       "Clarity_cat         0\n",
       "Polish_cat          0\n",
       "Symmetry_cat        0\n",
       "Price               0\n",
       "clarity_freq_enc    0\n",
       "dtype: int64"
      ]
     },
     "execution_count": 133,
     "metadata": {},
     "output_type": "execute_result"
    }
   ],
   "source": [
    "train.isnull().sum()"
   ]
  },
  {
   "cell_type": "code",
   "execution_count": 134,
   "metadata": {},
   "outputs": [
    {
     "name": "stderr",
     "output_type": "stream",
     "text": [
      "C:\\ProgramData\\Anaconda3\\lib\\site-packages\\ipykernel_launcher.py:1: SettingWithCopyWarning: \n",
      "A value is trying to be set on a copy of a slice from a DataFrame.\n",
      "Try using .loc[row_indexer,col_indexer] = value instead\n",
      "\n",
      "See the caveats in the documentation: https://pandas.pydata.org/pandas-docs/stable/user_guide/indexing.html#returning-a-view-versus-a-copy\n",
      "  \"\"\"Entry point for launching an IPython kernel.\n"
     ]
    }
   ],
   "source": [
    "train['int_price'] = train['Price'].apply(lambda x: int(x))"
   ]
  },
  {
   "cell_type": "code",
   "execution_count": 135,
   "metadata": {},
   "outputs": [
    {
     "name": "stderr",
     "output_type": "stream",
     "text": [
      "C:\\ProgramData\\Anaconda3\\lib\\site-packages\\ipykernel_launcher.py:1: SettingWithCopyWarning: \n",
      "A value is trying to be set on a copy of a slice from a DataFrame.\n",
      "Try using .loc[row_indexer,col_indexer] = value instead\n",
      "\n",
      "See the caveats in the documentation: https://pandas.pydata.org/pandas-docs/stable/user_guide/indexing.html#returning-a-view-versus-a-copy\n",
      "  \"\"\"Entry point for launching an IPython kernel.\n",
      "C:\\ProgramData\\Anaconda3\\lib\\site-packages\\ipykernel_launcher.py:2: SettingWithCopyWarning: \n",
      "A value is trying to be set on a copy of a slice from a DataFrame.\n",
      "Try using .loc[row_indexer,col_indexer] = value instead\n",
      "\n",
      "See the caveats in the documentation: https://pandas.pydata.org/pandas-docs/stable/user_guide/indexing.html#returning-a-view-versus-a-copy\n",
      "  \n"
     ]
    }
   ],
   "source": [
    "train['int_Carat Weight'] = train['Carat Weight'] * 100\n",
    "train['int_Carat Weight'] = train['int_Carat Weight'].apply(lambda x: int(x))"
   ]
  },
  {
   "cell_type": "code",
   "execution_count": 136,
   "metadata": {},
   "outputs": [],
   "source": [
    "#train.columns"
   ]
  },
  {
   "cell_type": "markdown",
   "metadata": {},
   "source": [
    "Вычисление кореляций"
   ]
  },
  {
   "cell_type": "code",
   "execution_count": 137,
   "metadata": {},
   "outputs": [
    {
     "data": {
      "text/plain": [
       "<matplotlib.axes._subplots.AxesSubplot at 0x10d41bdd8>"
      ]
     },
     "execution_count": 137,
     "metadata": {},
     "output_type": "execute_result"
    },
    {
     "data": {
      "image/png": "[encoded data removed]",
      "text/plain": [
       "<Figure size 1008x864 with 2 Axes>"
      ]
     },
     "metadata": {
      "needs_background": "light"
     },
     "output_type": "display_data"
    }
   ],
   "source": [
    "correlation = train.corr()\n",
    "fig, axes = plt.subplots(figsize = (14,12))\n",
    "plt.title(\"Correlation matrix\", y=1, size=16)\n",
    "sns.heatmap(correlation, square=True, vmax=0.8, cmap=\"viridis\")"
   ]
  },
  {
   "cell_type": "code",
   "execution_count": 138,
   "metadata": {},
   "outputs": [
    {
     "name": "stdout",
     "output_type": "stream",
     "text": [
      "Correlation of Numeric Features with Target\n"
     ]
    },
    {
     "data": {
      "text/plain": [
       "int_price           1.000000\n",
       "Clarity_cat         0.320941\n",
       "clarity_freq_enc    0.319041\n",
       "Color_cat           0.128445\n",
       "Cut_cat             0.121845\n",
       "Symmetry_cat        0.081160\n",
       "Polish_cat          0.078291\n",
       "int_Carat Weight    0.018527\n",
       "Name: int_price, dtype: float64"
      ]
     },
     "execution_count": 138,
     "metadata": {},
     "output_type": "execute_result"
    }
   ],
   "source": [
    "print(\"Correlation of Numeric Features with Target\")\n",
    "correlation = train.corr()\n",
    "corr_with_target1 = abs(correlation[\"int_price\"]).sort_values(ascending = False)\n",
    "corr_with_target1"
   ]
  },
  {
   "cell_type": "markdown",
   "metadata": {},
   "source": [
    "Вывод: самая большая ЛИНЕЙНАЯ кореляция между чистотой и ценой. Параметры полировки и симметрии сильно взаимно корелированы.  "
   ]
  },
  {
   "cell_type": "code",
   "execution_count": 139,
   "metadata": {},
   "outputs": [],
   "source": [
    "train, valid = train_test_split(train, test_size=0.3, random_state=42)"
   ]
  },
  {
   "cell_type": "code",
   "execution_count": 140,
   "metadata": {},
   "outputs": [
    {
     "name": "stderr",
     "output_type": "stream",
     "text": [
      "C:\\ProgramData\\Anaconda3\\lib\\site-packages\\sklearn\\preprocessing\\data.py:625: DataConversionWarning: Data with input dtype object were all converted to float64 by StandardScaler.\n",
      "  return self.partial_fit(X, y)\n",
      "C:\\ProgramData\\Anaconda3\\lib\\site-packages\\sklearn\\base.py:462: DataConversionWarning: Data with input dtype object were all converted to float64 by StandardScaler.\n",
      "  return self.fit(X, **fit_params).transform(X)\n",
      "C:\\ProgramData\\Anaconda3\\lib\\site-packages\\ipykernel_launcher.py:3: DataConversionWarning: Data with input dtype object were all converted to float64 by StandardScaler.\n",
      "  This is separate from the ipykernel package so we can avoid doing imports until\n",
      "C:\\ProgramData\\Anaconda3\\lib\\site-packages\\ipykernel_launcher.py:5: DataConversionWarning: Data with input dtype object were all converted to float64 by StandardScaler.\n",
      "  \"\"\"\n",
      "C:\\ProgramData\\Anaconda3\\lib\\site-packages\\ipykernel_launcher.py:5: SettingWithCopyWarning: \n",
      "A value is trying to be set on a copy of a slice from a DataFrame.\n",
      "Try using .loc[row_indexer,col_indexer] = value instead\n",
      "\n",
      "See the caveats in the documentation: https://pandas.pydata.org/pandas-docs/stable/user_guide/indexing.html#returning-a-view-versus-a-copy\n",
      "  \"\"\"\n"
     ]
    }
   ],
   "source": [
    "#стандартизация\n",
    "scaler = StandardScaler()\n",
    "train['Carat Weight2'] = scaler.fit_transform(train[['Carat Weight']])\n",
    "valid['Carat Weight2'] = scaler.transform(valid[['Carat Weight']])\n",
    "\n",
    "test['Carat Weight2'] = scaler.transform(test[['Carat Weight']])"
   ]
  },
  {
   "cell_type": "code",
   "execution_count": 149,
   "metadata": {},
   "outputs": [],
   "source": [
    "#набор полей для модели\n",
    "fts = [\"Carat Weight2\", \"Cut_cat\", \"Color_cat\", \"Clarity_cat\", \"Polish_cat\"]\n",
    "\n",
    "target =  \"Price\""
   ]
  },
  {
   "cell_type": "markdown",
   "metadata": {},
   "source": [
    "масштабирование веса"
   ]
  },
  {
   "cell_type": "markdown",
   "metadata": {},
   "source": [
    "линейная регрессия"
   ]
  },
  {
   "cell_type": "code",
   "execution_count": 150,
   "metadata": {},
   "outputs": [
    {
     "name": "stdout",
     "output_type": "stream",
     "text": [
      "метрика R2 для тренировочного набора train: 0.11467659235438232\n",
      "метрика R2 для валидационного набора valid: 0.14767343232355412\n",
      "метрика MSE: 91624008.63713329\n"
     ]
    }
   ],
   "source": [
    "lr1 = linear_regression(fts, target)"
   ]
  },
  {
   "cell_type": "markdown",
   "metadata": {},
   "source": [
    "Дерево решений: n_estimators=1 (где n_estimators - количество деревьев)"
   ]
  },
  {
   "cell_type": "code",
   "execution_count": 151,
   "metadata": {},
   "outputs": [],
   "source": [
    "from sklearn.ensemble import RandomForestRegressor as RF"
   ]
  },
  {
   "cell_type": "code",
   "execution_count": 152,
   "metadata": {},
   "outputs": [
    {
     "name": "stdout",
     "output_type": "stream",
     "text": [
      "max_depth=10\n",
      "0.9669333573722911\n",
      "0.9283590481028916\n",
      "\n",
      "max_depth=9\n",
      "0.9587487681979407\n",
      "0.910308995254252\n",
      "\n",
      "max_depth=8\n",
      "0.9611935748033782\n",
      "0.9308848779918069\n",
      "\n",
      "max_depth=7\n",
      "0.9450815565185571\n",
      "0.909742274802749\n",
      "\n",
      "max_depth=6\n",
      "0.9431454004902009\n",
      "0.9105218391913122\n",
      "\n"
     ]
    }
   ],
   "source": [
    "for i in range(10,5,-1):\n",
    "    print(f'max_depth={i}')\n",
    "    dt = RF(max_depth=i, n_estimators=1, max_features=3, random_state=100)\n",
    "    dt.fit(train.loc[:,fts], train[target])\n",
    "    pred = dt.predict(train.loc[:,fts])\n",
    "    print(r2(train[target],pred))\n",
    "    pred_valid = dt.predict(valid.loc[:,fts])\n",
    "    print(r2(valid[target],pred_valid))\n",
    "    print()"
   ]
  },
  {
   "cell_type": "code",
   "execution_count": 153,
   "metadata": {},
   "outputs": [
    {
     "name": "stdout",
     "output_type": "stream",
     "text": [
      "метрика MSE:  9618787.081951212\n"
     ]
    }
   ],
   "source": [
    "print('метрика MSE: ',MSE(valid[target],pred_valid))"
   ]
  },
  {
   "cell_type": "markdown",
   "metadata": {},
   "source": [
    "RandomForest - случайный лес"
   ]
  },
  {
   "cell_type": "code",
   "execution_count": 154,
   "metadata": {},
   "outputs": [],
   "source": [
    "from sklearn.ensemble import RandomForestRegressor as RF"
   ]
  },
  {
   "cell_type": "code",
   "execution_count": 155,
   "metadata": {},
   "outputs": [
    {
     "name": "stdout",
     "output_type": "stream",
     "text": [
      "max_depth=10\n",
      "0.9866636289759485\n",
      "0.957855238671157\n",
      "\n",
      "max_depth=9\n",
      "0.9846008017578127\n",
      "0.9616307844896543\n",
      "\n",
      "max_depth=8\n",
      "0.9808072497845268\n",
      "0.9589128251847377\n",
      "\n",
      "max_depth=7\n",
      "0.9756728432809554\n",
      "0.9568328902558578\n",
      "\n",
      "max_depth=6\n",
      "0.9673097447069476\n",
      "0.949711299492331\n",
      "\n"
     ]
    }
   ],
   "source": [
    "for i in range(10,5,-1):\n",
    "    print(f'max_depth={i}')\n",
    "    rf = RF(max_depth=i, n_estimators=60, max_features=3, random_state=100)\n",
    "    rf.fit(train.loc[:,fts], train[target])\n",
    "    pred = rf.predict(train.loc[:,fts])\n",
    "    print(r2(train[target],pred))\n",
    "    pred_valid = rf.predict(valid.loc[:,fts])\n",
    "    print(r2(valid[target],pred_valid))\n",
    "    print()"
   ]
  },
  {
   "cell_type": "code",
   "execution_count": 156,
   "metadata": {},
   "outputs": [],
   "source": [
    "rf = RF(max_depth=10,n_estimators=60,max_features=3,random_state=100)"
   ]
  },
  {
   "cell_type": "code",
   "execution_count": 157,
   "metadata": {},
   "outputs": [
    {
     "data": {
      "text/plain": [
       "RandomForestRegressor(bootstrap=True, criterion='mse', max_depth=10,\n",
       "           max_features=3, max_leaf_nodes=None, min_impurity_decrease=0.0,\n",
       "           min_impurity_split=None, min_samples_leaf=1,\n",
       "           min_samples_split=2, min_weight_fraction_leaf=0.0,\n",
       "           n_estimators=60, n_jobs=None, oob_score=False, random_state=100,\n",
       "           verbose=0, warm_start=False)"
      ]
     },
     "execution_count": 157,
     "metadata": {},
     "output_type": "execute_result"
    }
   ],
   "source": [
    "rf.fit(train.loc[:,fts],train[target])"
   ]
  },
  {
   "cell_type": "code",
   "execution_count": 158,
   "metadata": {},
   "outputs": [],
   "source": [
    "pred = rf.predict(train.loc[:,fts])"
   ]
  },
  {
   "cell_type": "code",
   "execution_count": 159,
   "metadata": {},
   "outputs": [
    {
     "name": "stdout",
     "output_type": "stream",
     "text": [
      "метрика R2 для тренировочного набора train: 0.9866636289759485\n"
     ]
    }
   ],
   "source": [
    "print('метрика R2 для тренировочного набора train:', r2(train[target], pred))"
   ]
  },
  {
   "cell_type": "code",
   "execution_count": 160,
   "metadata": {},
   "outputs": [],
   "source": [
    "pred_valid = rf.predict(valid.loc[:,fts])"
   ]
  },
  {
   "cell_type": "code",
   "execution_count": 161,
   "metadata": {},
   "outputs": [
    {
     "name": "stdout",
     "output_type": "stream",
     "text": [
      "метрика R2 для валидационного набора valid:  0.957855238671157\n"
     ]
    }
   ],
   "source": [
    "print('метрика R2 для валидационного набора valid: ', r2(valid[target],pred_valid))"
   ]
  },
  {
   "cell_type": "code",
   "execution_count": 162,
   "metadata": {},
   "outputs": [
    {
     "name": "stdout",
     "output_type": "stream",
     "text": [
      "метрика MSE:  4530507.580598735\n"
     ]
    }
   ],
   "source": [
    "print('метрика MSE: ',MSE(valid[target],pred_valid))"
   ]
  },
  {
   "cell_type": "code",
   "execution_count": 163,
   "metadata": {},
   "outputs": [],
   "source": [
    "#подсчет важности каждого признака\n",
    "perm_importance1 = calculate_permutation_importance(\n",
    "    estimator=rf, metric=r2, x_valid=valid.loc[:,fts], y_valid=valid[target]\n",
    ")"
   ]
  },
  {
   "cell_type": "code",
   "execution_count": 164,
   "metadata": {},
   "outputs": [
    {
     "data": {
      "text/plain": [
       "Carat Weight2    1.417354\n",
       "Clarity_cat      0.182886\n",
       "Color_cat        0.155759\n",
       "Cut_cat          0.002500\n",
       "Polish_cat       0.001826\n",
       "dtype: float64"
      ]
     },
     "execution_count": 164,
     "metadata": {},
     "output_type": "execute_result"
    }
   ],
   "source": [
    "perm_importance1"
   ]
  },
  {
   "cell_type": "markdown",
   "metadata": {},
   "source": [
    "KNN"
   ]
  },
  {
   "cell_type": "code",
   "execution_count": 165,
   "metadata": {},
   "outputs": [],
   "source": [
    "from sklearn.neighbors import KNeighborsRegressor as KNN"
   ]
  },
  {
   "cell_type": "code",
   "execution_count": 166,
   "metadata": {},
   "outputs": [
    {
     "name": "stdout",
     "output_type": "stream",
     "text": [
      "метрика R2 для тренировочного набора train: 0.993919623042052\n",
      "метрика R2 для валидационного набора valid: 0.8359151380402247\n",
      "метрика MSE: 17638911.398022298\n"
     ]
    }
   ],
   "source": [
    "knn1 = knn(fts, target)"
   ]
  },
  {
   "cell_type": "markdown",
   "metadata": {},
   "source": [
    "Вывод: самая лучшая модель RandomForest (случайный лес). Она дает наилучшие предсказания, но является неинтерпритируемой! Из интерпритируемых моделей наилучшие предсказания дает дерево решений и KNN (метод ближайших соседей). Линейная регрессия (lr) дает наихудшие предсказания из всех моделей."
   ]
  },
  {
   "cell_type": "code",
   "execution_count": 167,
   "metadata": {},
   "outputs": [],
   "source": [
    "test2 = df[df['Price'].isnull()]\n",
    "test_id = test2['ID']"
   ]
  },
  {
   "cell_type": "code",
   "execution_count": 168,
   "metadata": {},
   "outputs": [
    {
     "data": {
      "text/plain": [
       "Carat Weight           0\n",
       "Cut_cat                0\n",
       "Color_cat              0\n",
       "Clarity_cat            0\n",
       "Polish_cat             0\n",
       "Symmetry_cat           0\n",
       "Price               1500\n",
       "clarity_freq_enc       0\n",
       "Carat Weight2          0\n",
       "dtype: int64"
      ]
     },
     "execution_count": 168,
     "metadata": {},
     "output_type": "execute_result"
    }
   ],
   "source": [
    "test.isnull().sum()"
   ]
  },
  {
   "cell_type": "code",
   "execution_count": 169,
   "metadata": {},
   "outputs": [],
   "source": [
    "test_target = rf.predict(test.loc[:,fts])"
   ]
  },
  {
   "cell_type": "code",
   "execution_count": 170,
   "metadata": {},
   "outputs": [],
   "source": [
    "y_pred = pd.DataFrame({\n",
    "    \"ID\": test_id,\n",
    "    \"Price\": test_target\n",
    "})\n",
    "y_pred.to_csv(\"./Data/rf_VZinchenko_result_pred.csv\",index=False)"
   ]
  },
  {
   "cell_type": "code",
   "execution_count": 171,
   "metadata": {},
   "outputs": [
    {
     "data": {
      "text/html": [
       "<div>\n",
       "<style scoped>\n",
       "    .dataframe tbody tr th:only-of-type {\n",
       "        vertical-align: middle;\n",
       "    }\n",
       "\n",
       "    .dataframe tbody tr th {\n",
       "        vertical-align: top;\n",
       "    }\n",
       "\n",
       "    .dataframe thead th {\n",
       "        text-align: right;\n",
       "    }\n",
       "</style>\n",
       "<table border=\"1\" class=\"dataframe\">\n",
       "  <thead>\n",
       "    <tr style=\"text-align: right;\">\n",
       "      <th></th>\n",
       "      <th>ID</th>\n",
       "      <th>Price</th>\n",
       "    </tr>\n",
       "  </thead>\n",
       "  <tbody>\n",
       "    <tr>\n",
       "      <th>4502</th>\n",
       "      <td>4501</td>\n",
       "      <td>7225.495535</td>\n",
       "    </tr>\n",
       "    <tr>\n",
       "      <th>4503</th>\n",
       "      <td>4502</td>\n",
       "      <td>7751.491052</td>\n",
       "    </tr>\n",
       "    <tr>\n",
       "      <th>4504</th>\n",
       "      <td>4503</td>\n",
       "      <td>23939.205916</td>\n",
       "    </tr>\n",
       "    <tr>\n",
       "      <th>4505</th>\n",
       "      <td>4504</td>\n",
       "      <td>3430.453726</td>\n",
       "    </tr>\n",
       "    <tr>\n",
       "      <th>4506</th>\n",
       "      <td>4505</td>\n",
       "      <td>3591.863419</td>\n",
       "    </tr>\n",
       "    <tr>\n",
       "      <th>...</th>\n",
       "      <td>...</td>\n",
       "      <td>...</td>\n",
       "    </tr>\n",
       "    <tr>\n",
       "      <th>5997</th>\n",
       "      <td>5996</td>\n",
       "      <td>5922.755072</td>\n",
       "    </tr>\n",
       "    <tr>\n",
       "      <th>5998</th>\n",
       "      <td>5997</td>\n",
       "      <td>5539.176022</td>\n",
       "    </tr>\n",
       "    <tr>\n",
       "      <th>5999</th>\n",
       "      <td>5998</td>\n",
       "      <td>5896.496445</td>\n",
       "    </tr>\n",
       "    <tr>\n",
       "      <th>6000</th>\n",
       "      <td>5999</td>\n",
       "      <td>9670.190374</td>\n",
       "    </tr>\n",
       "    <tr>\n",
       "      <th>6001</th>\n",
       "      <td>6000</td>\n",
       "      <td>33635.119678</td>\n",
       "    </tr>\n",
       "  </tbody>\n",
       "</table>\n",
       "<p>1500 rows × 2 columns</p>\n",
       "</div>"
      ],
      "text/plain": [
       "        ID         Price\n",
       "4502  4501   7225.495535\n",
       "4503  4502   7751.491052\n",
       "4504  4503  23939.205916\n",
       "4505  4504   3430.453726\n",
       "4506  4505   3591.863419\n",
       "...    ...           ...\n",
       "5997  5996   5922.755072\n",
       "5998  5997   5539.176022\n",
       "5999  5998   5896.496445\n",
       "6000  5999   9670.190374\n",
       "6001  6000  33635.119678\n",
       "\n",
       "[1500 rows x 2 columns]"
      ]
     },
     "execution_count": 171,
     "metadata": {},
     "output_type": "execute_result"
    }
   ],
   "source": [
    "y_pred"
   ]
  },
  {
   "cell_type": "code",
   "execution_count": null,
   "metadata": {},
   "outputs": [],
   "source": []
  }
 ],
 "metadata": {
  "kernelspec": {
   "display_name": "Python 3",
   "language": "python",
   "name": "python3"
  },
  "language_info": {
   "codemirror_mode": {
    "name": "ipython",
    "version": 3
   },
   "file_extension": ".py",
   "mimetype": "text/x-python",
   "name": "python",
   "nbconvert_exporter": "python",
   "pygments_lexer": "ipython3",
   "version": "3.7.1"
  }
 },
 "nbformat": 4,
 "nbformat_minor": 2
}
