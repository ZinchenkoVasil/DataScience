{
 "cells": [
  {
   "cell_type": "code",
   "execution_count": 247,
   "metadata": {},
   "outputs": [],
   "source": [
    "import time\n",
    "import matplotlib as mpl\n",
    "import matplotlib.pyplot as plt\n",
    "import seaborn as sns\n",
    "import numpy as np\n",
    "import pandas as pd\n",
    "from sklearn.linear_model import LinearRegression\n",
    "from sklearn.metrics import r2_score as r2\n",
    "from sklearn.metrics import mean_squared_error as mse\n",
    "from sklearn.model_selection import train_test_split\n",
    "from sklearn.metrics import mean_squared_error as MSE"
   ]
  },
  {
   "cell_type": "code",
   "execution_count": 82,
   "metadata": {},
   "outputs": [],
   "source": [
    "def create_clarity_cat(clarity):\n",
    "    if clarity == 'FL':\n",
    "        c_cat = 1\n",
    "    elif clarity == 'IF':\n",
    "        c_cat = 2\n",
    "    elif clarity == 'VVS1' or clarity == 'VVS2':\n",
    "        c_cat = 3\n",
    "    elif clarity == 'VS1' or clarity == 'VS2':\n",
    "        c_cat = 4\n",
    "    elif clarity == 'SI1' or clarity == 'SI2':\n",
    "        c_cat = 5\n",
    "    elif clarity == 'I1' or clarity == 'I2' or clarity == 'I3':\n",
    "        c_cat = 6\n",
    "    else:\n",
    "        c_cat = 0\n",
    "    return c_cat\n",
    "\n",
    "def create_color_cat(color):\n",
    "    #.encode('ascii')\n",
    "    #print(type(color))\n",
    "    #isinstance(a, object)\n",
    "    if not isinstance(color,float):\n",
    "        if color == 'D':\n",
    "            color_cat = 1\n",
    "        elif color == 'E':\n",
    "            color_cat = 2\n",
    "        elif color == 'F':\n",
    "            color_cat = 3\n",
    "        elif ord(color) >= ord(\"G\") or ord(color) <= ord(\"H\"):\n",
    "            color_cat = 4\n",
    "        elif ord(color) >= ord(\"I\"):\n",
    "            color_cat = 5\n",
    "        else:\n",
    "            color_cat = 0\n",
    "        return color_cat\n",
    "    return 0\n",
    "\n",
    "    \n",
    "def create_cut_cat(cut):\n",
    "    if cut == 'Poor':\n",
    "        cut_cat = 1\n",
    "    elif cut == 'Fair':\n",
    "        cut_cat = 2\n",
    "    elif cut == 'Good':\n",
    "        cut_cat = 3\n",
    "    elif cut == 'Very Good':\n",
    "        cut_cat = 4\n",
    "    elif cut == 'Ideal':\n",
    "        cut_cat = 5\n",
    "    elif cut == 'Signature-Ideal':\n",
    "        cut_cat = 6\n",
    "    else: \n",
    "        cut_cat = 0\n",
    "    return cut_cat\n",
    "\n",
    "def create_PS_cat(polish):\n",
    "    if polish == 'G':\n",
    "        polish_cat = 1\n",
    "    elif polish == 'VG':\n",
    "        polish_cat = 2\n",
    "    elif polish == 'EX':\n",
    "        polish_cat = 3\n",
    "    elif polish == 'ID':\n",
    "        polish_cat = 4\n",
    "    else:\n",
    "        polish_cat = 0\n",
    "    return polish_cat\n",
    "\n",
    "\n",
    "def calculate_permutation_importance(estimator, \n",
    "                                     metric: callable,\n",
    "                                     x_valid: pd.DataFrame,\n",
    "                                     y_valid: pd.Series) -> pd.Series:\n",
    "    \"\"\"\n",
    "    Расчет пермутированной важности признаков.\n",
    "    \"\"\"\n",
    "    scores = {}\n",
    "    y_pred = estimator.predict(x_valid)\n",
    "    base_score = metric(y_valid, y_pred)\n",
    "\n",
    "    for feature in x_valid.columns:\n",
    "        x_valid_copy = x_valid.copy()\n",
    "        x_valid_copy[feature] = np.random.permutation(x_valid_copy[feature])\n",
    "\n",
    "        y_pred = estimator.predict(x_valid_copy)\n",
    "        score = metric(y_valid, y_pred)\n",
    "        scores[feature] = base_score - score\n",
    "\n",
    "    scores = pd.Series(scores)\n",
    "    scores = scores.sort_values(ascending=False)\n",
    "\n",
    "    return scores\n",
    "\n",
    "def linear_regression(fts, target):\n",
    "    \"\"\"\n",
    "    Линейная регрессия.\n",
    "\n",
    "    Parameters\n",
    "    ----------\n",
    "    fts: набор полей для обучения модели \n",
    "    target: str\n",
    "        Название целевого поля.\n",
    "    \n",
    "    Returns\n",
    "    -------\n",
    "    \n",
    "    \"\"\"\n",
    "    train_scaled = train.loc[:,fts]\n",
    "    valid_scaled = valid.loc[:,fts]\n",
    "    \n",
    "    \n",
    "    lr = LinearRegression()\n",
    "    lr.fit(train_scaled, train[target])\n",
    "    pred = lr.predict(train_scaled)\n",
    "    print(\"метрика R2 для тренировочного набора train:\", r2(train[target], pred))\n",
    "    pred_valid = lr.predict(valid_scaled.loc[:,fts])\n",
    "    print(\"метрика R2 для валидационного набора valid:\", r2(valid[target], pred_valid))\n",
    "    mse = MSE(valid[target],pred_valid)\n",
    "    print(\"метрика MSE:\", mse)    \n",
    "    return lr\n",
    "\n",
    "def knn(fts, target):\n",
    "    \"\"\"\n",
    "    Линейная регрессия.\n",
    "\n",
    "    Parameters\n",
    "    ----------\n",
    "    fts: набор полей для обучения модели \n",
    "    target: str\n",
    "        Название целевого поля.\n",
    "    \n",
    "    Returns\n",
    "    -------\n",
    "    \n",
    "    \"\"\"\n",
    "    train_scaled = train.loc[:,fts]\n",
    "    valid_scaled = valid.loc[:,fts]\n",
    "    knn = KNN(n_neighbors=2,weights='distance')\n",
    "    knn.fit(train_scaled, train[target])\n",
    "    pred = knn.predict(train_scaled)\n",
    "    pred_valid = knn.predict(valid_scaled)\n",
    "    print(\"метрика R2 для тренировочного набора train:\", r2(train[target], pred))\n",
    "    print(\"метрика R2 для валидационного набора valid:\", r2(valid[target], pred_valid))\n",
    "    mse = MSE(valid[target],pred_valid)\n",
    "    print(\"метрика MSE:\", mse)    \n",
    "    return knn"
   ]
  },
  {
   "cell_type": "code",
   "execution_count": 200,
   "metadata": {},
   "outputs": [],
   "source": [
    "def create_features(X: pd.DataFrame, copy: bool = True) -> pd.DataFrame:\n",
    "    \"\"\"\n",
    "    Создание признаков на основе профиля клиентов.\n",
    "\n",
    "    Parameters\n",
    "    ----------\n",
    "    X: pandas.core.frame.DataFrame\n",
    "        Матрица признаков с исходным профилем клиента.\n",
    "\n",
    "    copy: bool, optional, default = True\n",
    "        Флаг использования копии датафрейма X.\n",
    "        Опциональный параметр, по умолчанию, равен True.\n",
    "\n",
    "    Returns\n",
    "    -------\n",
    "    X_transformed: pandas.core.frame.DataFrame\n",
    "        Расширенная матрица признаков с профилем клиентов.\n",
    "\n",
    "    \"\"\"\n",
    "    if copy:\n",
    "        X = X.copy() \n",
    "    X['Color'] = X['Color'].fillna(X['Color'].mode())\n",
    "    X['Symmetry'] = X['Symmetry'].fillna(X['Symmetry'].mode())\n",
    "#Добавление новой категориальной переменной - возрастная категория\n",
    "    X[\"Cut_cat\"] = X[\"Cut\"].apply(lambda x: create_cut_cat(x))\n",
    "    X[\"Color_cat\"] = X[\"Color\"].apply(lambda x: create_color_cat(x))\n",
    "    X[\"Clarity_cat\"] = X[\"Clarity\"].apply(lambda x: create_clarity_cat(x))\n",
    "    X[\"Polish_cat\"] = X[\"Polish\"].apply(lambda x: create_PS_cat(x))\n",
    "    X[\"Symmetry_cat\"] = X[\"Symmetry\"].apply(lambda x: create_PS_cat(x))\n",
    "        \n",
    "    X[['Clarity_0','Clarity_1','Clarity_2','Clarity_3','Clarity_4','Clarity_5']] = pd.get_dummies(X[\"Clarity_cat\"])\n",
    "    X[['Color_0','Color_1','Color_2','Color_3','Color_4']] = pd.get_dummies(X[\"Color_cat\"])\n",
    "    X[['Cut_0','Cut_2','Cut_3','Cut_4','Cut_5','Cut_6']] = pd.get_dummies(X[\"Clarity_cat\"])\n",
    "    \n",
    "#    data[['Cash','Credit Card']] = pd.get_dummies(data[\"name_contract_type\"])\n",
    "    \n",
    "#    X = X[[\"ID\",\"Carat Weight\", \"Cut_cat\", \"Color_cat\", \"Clarity_cat\", \"Polish_cat\", \"Symmetry_cat\", \"Price\"]]\n",
    "    X = X[[\"ID\",\"Carat Weight\",'Clarity_cat','Clarity_1','Clarity_2','Clarity_3','Clarity_4','Clarity_5','Color_cat','Color_1','Color_2','Color_3','Color_4','Cut_cat','Cut_2','Cut_3','Cut_4','Cut_5','Cut_6',\"Price\"]]\n",
    "    \n",
    "    return X"
   ]
  },
  {
   "cell_type": "code",
   "execution_count": 201,
   "metadata": {},
   "outputs": [],
   "source": [
    "df = pd.read_excel(\"Data\\Sarah gets a diamond data.xls\")"
   ]
  },
  {
   "cell_type": "code",
   "execution_count": 202,
   "metadata": {},
   "outputs": [],
   "source": [
    "df.columns = list(df.iloc[1,:])"
   ]
  },
  {
   "cell_type": "code",
   "execution_count": 203,
   "metadata": {},
   "outputs": [],
   "source": [
    "df = df.iloc[2:,:]"
   ]
  },
  {
   "cell_type": "code",
   "execution_count": 204,
   "metadata": {},
   "outputs": [
    {
     "data": {
      "text/html": [
       "<div>\n",
       "<style scoped>\n",
       "    .dataframe tbody tr th:only-of-type {\n",
       "        vertical-align: middle;\n",
       "    }\n",
       "\n",
       "    .dataframe tbody tr th {\n",
       "        vertical-align: top;\n",
       "    }\n",
       "\n",
       "    .dataframe thead th {\n",
       "        text-align: right;\n",
       "    }\n",
       "</style>\n",
       "<table border=\"1\" class=\"dataframe\">\n",
       "  <thead>\n",
       "    <tr style=\"text-align: right;\">\n",
       "      <th></th>\n",
       "      <th>ID</th>\n",
       "      <th>Carat Weight</th>\n",
       "      <th>Cut</th>\n",
       "      <th>Color</th>\n",
       "      <th>Clarity</th>\n",
       "      <th>Polish</th>\n",
       "      <th>Symmetry</th>\n",
       "      <th>Report</th>\n",
       "      <th>Price</th>\n",
       "    </tr>\n",
       "  </thead>\n",
       "  <tbody>\n",
       "    <tr>\n",
       "      <th>2</th>\n",
       "      <td>1</td>\n",
       "      <td>1.1</td>\n",
       "      <td>Ideal</td>\n",
       "      <td>H</td>\n",
       "      <td>SI1</td>\n",
       "      <td>VG</td>\n",
       "      <td>EX</td>\n",
       "      <td>GIA</td>\n",
       "      <td>5169</td>\n",
       "    </tr>\n",
       "    <tr>\n",
       "      <th>3</th>\n",
       "      <td>2</td>\n",
       "      <td>0.83</td>\n",
       "      <td>Ideal</td>\n",
       "      <td>H</td>\n",
       "      <td>VS1</td>\n",
       "      <td>ID</td>\n",
       "      <td>ID</td>\n",
       "      <td>AGSL</td>\n",
       "      <td>3470</td>\n",
       "    </tr>\n",
       "    <tr>\n",
       "      <th>4</th>\n",
       "      <td>3</td>\n",
       "      <td>0.85</td>\n",
       "      <td>Ideal</td>\n",
       "      <td>H</td>\n",
       "      <td>SI1</td>\n",
       "      <td>EX</td>\n",
       "      <td>EX</td>\n",
       "      <td>GIA</td>\n",
       "      <td>3183</td>\n",
       "    </tr>\n",
       "    <tr>\n",
       "      <th>5</th>\n",
       "      <td>4</td>\n",
       "      <td>0.91</td>\n",
       "      <td>Ideal</td>\n",
       "      <td>E</td>\n",
       "      <td>SI1</td>\n",
       "      <td>VG</td>\n",
       "      <td>VG</td>\n",
       "      <td>GIA</td>\n",
       "      <td>4370</td>\n",
       "    </tr>\n",
       "    <tr>\n",
       "      <th>6</th>\n",
       "      <td>5</td>\n",
       "      <td>0.83</td>\n",
       "      <td>Ideal</td>\n",
       "      <td>G</td>\n",
       "      <td>SI1</td>\n",
       "      <td>EX</td>\n",
       "      <td>EX</td>\n",
       "      <td>GIA</td>\n",
       "      <td>3171</td>\n",
       "    </tr>\n",
       "    <tr>\n",
       "      <th>...</th>\n",
       "      <td>...</td>\n",
       "      <td>...</td>\n",
       "      <td>...</td>\n",
       "      <td>...</td>\n",
       "      <td>...</td>\n",
       "      <td>...</td>\n",
       "      <td>...</td>\n",
       "      <td>...</td>\n",
       "      <td>...</td>\n",
       "    </tr>\n",
       "    <tr>\n",
       "      <th>5997</th>\n",
       "      <td>5996</td>\n",
       "      <td>1.03</td>\n",
       "      <td>Ideal</td>\n",
       "      <td>D</td>\n",
       "      <td>SI1</td>\n",
       "      <td>EX</td>\n",
       "      <td>EX</td>\n",
       "      <td>GIA</td>\n",
       "      <td>NaN</td>\n",
       "    </tr>\n",
       "    <tr>\n",
       "      <th>5998</th>\n",
       "      <td>5997</td>\n",
       "      <td>1</td>\n",
       "      <td>Very Good</td>\n",
       "      <td>D</td>\n",
       "      <td>SI1</td>\n",
       "      <td>VG</td>\n",
       "      <td>VG</td>\n",
       "      <td>GIA</td>\n",
       "      <td>NaN</td>\n",
       "    </tr>\n",
       "    <tr>\n",
       "      <th>5999</th>\n",
       "      <td>5998</td>\n",
       "      <td>1.02</td>\n",
       "      <td>Ideal</td>\n",
       "      <td>D</td>\n",
       "      <td>SI1</td>\n",
       "      <td>EX</td>\n",
       "      <td>EX</td>\n",
       "      <td>GIA</td>\n",
       "      <td>NaN</td>\n",
       "    </tr>\n",
       "    <tr>\n",
       "      <th>6000</th>\n",
       "      <td>5999</td>\n",
       "      <td>1.27</td>\n",
       "      <td>Signature-Ideal</td>\n",
       "      <td>G</td>\n",
       "      <td>VS1</td>\n",
       "      <td>EX</td>\n",
       "      <td>EX</td>\n",
       "      <td>GIA</td>\n",
       "      <td>NaN</td>\n",
       "    </tr>\n",
       "    <tr>\n",
       "      <th>6001</th>\n",
       "      <td>6000</td>\n",
       "      <td>2.19</td>\n",
       "      <td>Ideal</td>\n",
       "      <td>E</td>\n",
       "      <td>VS1</td>\n",
       "      <td>EX</td>\n",
       "      <td>EX</td>\n",
       "      <td>GIA</td>\n",
       "      <td>NaN</td>\n",
       "    </tr>\n",
       "  </tbody>\n",
       "</table>\n",
       "<p>6000 rows × 9 columns</p>\n",
       "</div>"
      ],
      "text/plain": [
       "        ID Carat Weight              Cut Color Clarity Polish Symmetry Report  \\\n",
       "2        1          1.1            Ideal     H     SI1     VG       EX    GIA   \n",
       "3        2         0.83            Ideal     H     VS1     ID       ID   AGSL   \n",
       "4        3         0.85            Ideal     H     SI1     EX       EX    GIA   \n",
       "5        4         0.91            Ideal     E     SI1     VG       VG    GIA   \n",
       "6        5         0.83            Ideal     G     SI1     EX       EX    GIA   \n",
       "...    ...          ...              ...   ...     ...    ...      ...    ...   \n",
       "5997  5996         1.03            Ideal     D     SI1     EX       EX    GIA   \n",
       "5998  5997            1        Very Good     D     SI1     VG       VG    GIA   \n",
       "5999  5998         1.02            Ideal     D     SI1     EX       EX    GIA   \n",
       "6000  5999         1.27  Signature-Ideal     G     VS1     EX       EX    GIA   \n",
       "6001  6000         2.19            Ideal     E     VS1     EX       EX    GIA   \n",
       "\n",
       "     Price  \n",
       "2     5169  \n",
       "3     3470  \n",
       "4     3183  \n",
       "5     4370  \n",
       "6     3171  \n",
       "...    ...  \n",
       "5997   NaN  \n",
       "5998   NaN  \n",
       "5999   NaN  \n",
       "6000   NaN  \n",
       "6001   NaN  \n",
       "\n",
       "[6000 rows x 9 columns]"
      ]
     },
     "execution_count": 204,
     "metadata": {},
     "output_type": "execute_result"
    }
   ],
   "source": [
    "df"
   ]
  },
  {
   "cell_type": "code",
   "execution_count": 205,
   "metadata": {},
   "outputs": [
    {
     "data": {
      "text/html": [
       "<div>\n",
       "<style scoped>\n",
       "    .dataframe tbody tr th:only-of-type {\n",
       "        vertical-align: middle;\n",
       "    }\n",
       "\n",
       "    .dataframe tbody tr th {\n",
       "        vertical-align: top;\n",
       "    }\n",
       "\n",
       "    .dataframe thead th {\n",
       "        text-align: right;\n",
       "    }\n",
       "</style>\n",
       "<table border=\"1\" class=\"dataframe\">\n",
       "  <thead>\n",
       "    <tr style=\"text-align: right;\">\n",
       "      <th></th>\n",
       "      <th>ID</th>\n",
       "      <th>Carat Weight</th>\n",
       "      <th>Cut</th>\n",
       "      <th>Color</th>\n",
       "      <th>Clarity</th>\n",
       "      <th>Polish</th>\n",
       "      <th>Symmetry</th>\n",
       "      <th>Report</th>\n",
       "      <th>Price</th>\n",
       "    </tr>\n",
       "  </thead>\n",
       "  <tbody>\n",
       "    <tr>\n",
       "      <th>count</th>\n",
       "      <td>6000</td>\n",
       "      <td>6000.00</td>\n",
       "      <td>6000</td>\n",
       "      <td>5999</td>\n",
       "      <td>6000</td>\n",
       "      <td>6000</td>\n",
       "      <td>5999</td>\n",
       "      <td>6000</td>\n",
       "      <td>4500.0</td>\n",
       "    </tr>\n",
       "    <tr>\n",
       "      <th>unique</th>\n",
       "      <td>6000</td>\n",
       "      <td>198.00</td>\n",
       "      <td>8</td>\n",
       "      <td>7</td>\n",
       "      <td>8</td>\n",
       "      <td>5</td>\n",
       "      <td>5</td>\n",
       "      <td>2</td>\n",
       "      <td>3791.0</td>\n",
       "    </tr>\n",
       "    <tr>\n",
       "      <th>top</th>\n",
       "      <td>6000</td>\n",
       "      <td>1.01</td>\n",
       "      <td>Ideal</td>\n",
       "      <td>G</td>\n",
       "      <td>SI1</td>\n",
       "      <td>EX</td>\n",
       "      <td>VG</td>\n",
       "      <td>GIA</td>\n",
       "      <td>5534.0</td>\n",
       "    </tr>\n",
       "    <tr>\n",
       "      <th>freq</th>\n",
       "      <td>1</td>\n",
       "      <td>448.00</td>\n",
       "      <td>2479</td>\n",
       "      <td>1501</td>\n",
       "      <td>2059</td>\n",
       "      <td>2425</td>\n",
       "      <td>2416</td>\n",
       "      <td>5266</td>\n",
       "      <td>5.0</td>\n",
       "    </tr>\n",
       "  </tbody>\n",
       "</table>\n",
       "</div>"
      ],
      "text/plain": [
       "          ID  Carat Weight    Cut Color Clarity Polish Symmetry Report   Price\n",
       "count   6000       6000.00   6000  5999    6000   6000     5999   6000  4500.0\n",
       "unique  6000        198.00      8     7       8      5        5      2  3791.0\n",
       "top     6000          1.01  Ideal     G     SI1     EX       VG    GIA  5534.0\n",
       "freq       1        448.00   2479  1501    2059   2425     2416   5266     5.0"
      ]
     },
     "execution_count": 205,
     "metadata": {},
     "output_type": "execute_result"
    }
   ],
   "source": [
    "df.describe()"
   ]
  },
  {
   "cell_type": "code",
   "execution_count": 206,
   "metadata": {},
   "outputs": [
    {
     "name": "stdout",
     "output_type": "stream",
     "text": [
      "<class 'pandas.core.frame.DataFrame'>\n",
      "RangeIndex: 6000 entries, 2 to 6001\n",
      "Data columns (total 9 columns):\n",
      " #   Column        Non-Null Count  Dtype \n",
      "---  ------        --------------  ----- \n",
      " 0   ID            6000 non-null   object\n",
      " 1   Carat Weight  6000 non-null   object\n",
      " 2   Cut           6000 non-null   object\n",
      " 3   Color         5999 non-null   object\n",
      " 4   Clarity       6000 non-null   object\n",
      " 5   Polish        6000 non-null   object\n",
      " 6   Symmetry      5999 non-null   object\n",
      " 7   Report        6000 non-null   object\n",
      " 8   Price         4500 non-null   object\n",
      "dtypes: object(9)\n",
      "memory usage: 422.0+ KB\n"
     ]
    }
   ],
   "source": [
    "df.info()"
   ]
  },
  {
   "cell_type": "code",
   "execution_count": 207,
   "metadata": {},
   "outputs": [
    {
     "data": {
      "text/plain": [
       "array(['H', 'E', 'G', 'D', 'F', 'I', nan, '-'], dtype=object)"
      ]
     },
     "execution_count": 207,
     "metadata": {},
     "output_type": "execute_result"
    }
   ],
   "source": [
    "df['Color'].unique()"
   ]
  },
  {
   "cell_type": "code",
   "execution_count": 208,
   "metadata": {},
   "outputs": [
    {
     "data": {
      "text/plain": [
       "array(['EX', 'ID', 'VG', 'G', '  ', nan], dtype=object)"
      ]
     },
     "execution_count": 208,
     "metadata": {},
     "output_type": "execute_result"
    }
   ],
   "source": [
    "df['Symmetry'].unique()"
   ]
  },
  {
   "cell_type": "code",
   "execution_count": 209,
   "metadata": {},
   "outputs": [
    {
     "data": {
      "text/plain": [
       "array(['VG', 'ID', 'EX', 'G', 'НД'], dtype=object)"
      ]
     },
     "execution_count": 209,
     "metadata": {},
     "output_type": "execute_result"
    }
   ],
   "source": [
    "df['Polish'].unique()"
   ]
  },
  {
   "cell_type": "code",
   "execution_count": 210,
   "metadata": {},
   "outputs": [],
   "source": [
    "df_new = create_features(df)"
   ]
  },
  {
   "cell_type": "code",
   "execution_count": 211,
   "metadata": {},
   "outputs": [
    {
     "data": {
      "text/html": [
       "<div>\n",
       "<style scoped>\n",
       "    .dataframe tbody tr th:only-of-type {\n",
       "        vertical-align: middle;\n",
       "    }\n",
       "\n",
       "    .dataframe tbody tr th {\n",
       "        vertical-align: top;\n",
       "    }\n",
       "\n",
       "    .dataframe thead th {\n",
       "        text-align: right;\n",
       "    }\n",
       "</style>\n",
       "<table border=\"1\" class=\"dataframe\">\n",
       "  <thead>\n",
       "    <tr style=\"text-align: right;\">\n",
       "      <th></th>\n",
       "      <th>ID</th>\n",
       "      <th>Carat Weight</th>\n",
       "      <th>Clarity_cat</th>\n",
       "      <th>Clarity_1</th>\n",
       "      <th>Clarity_2</th>\n",
       "      <th>Clarity_3</th>\n",
       "      <th>Clarity_4</th>\n",
       "      <th>Clarity_5</th>\n",
       "      <th>Color_cat</th>\n",
       "      <th>Color_1</th>\n",
       "      <th>Color_2</th>\n",
       "      <th>Color_3</th>\n",
       "      <th>Color_4</th>\n",
       "      <th>Cut_cat</th>\n",
       "      <th>Cut_2</th>\n",
       "      <th>Cut_3</th>\n",
       "      <th>Cut_4</th>\n",
       "      <th>Cut_5</th>\n",
       "      <th>Cut_6</th>\n",
       "      <th>Price</th>\n",
       "    </tr>\n",
       "  </thead>\n",
       "  <tbody>\n",
       "    <tr>\n",
       "      <th>2</th>\n",
       "      <td>1</td>\n",
       "      <td>1.1</td>\n",
       "      <td>5</td>\n",
       "      <td>0</td>\n",
       "      <td>0</td>\n",
       "      <td>0</td>\n",
       "      <td>0</td>\n",
       "      <td>1</td>\n",
       "      <td>4</td>\n",
       "      <td>0</td>\n",
       "      <td>0</td>\n",
       "      <td>0</td>\n",
       "      <td>1</td>\n",
       "      <td>5</td>\n",
       "      <td>0</td>\n",
       "      <td>0</td>\n",
       "      <td>0</td>\n",
       "      <td>0</td>\n",
       "      <td>1</td>\n",
       "      <td>5169</td>\n",
       "    </tr>\n",
       "    <tr>\n",
       "      <th>3</th>\n",
       "      <td>2</td>\n",
       "      <td>0.83</td>\n",
       "      <td>4</td>\n",
       "      <td>0</td>\n",
       "      <td>0</td>\n",
       "      <td>0</td>\n",
       "      <td>1</td>\n",
       "      <td>0</td>\n",
       "      <td>4</td>\n",
       "      <td>0</td>\n",
       "      <td>0</td>\n",
       "      <td>0</td>\n",
       "      <td>1</td>\n",
       "      <td>5</td>\n",
       "      <td>0</td>\n",
       "      <td>0</td>\n",
       "      <td>0</td>\n",
       "      <td>1</td>\n",
       "      <td>0</td>\n",
       "      <td>3470</td>\n",
       "    </tr>\n",
       "    <tr>\n",
       "      <th>4</th>\n",
       "      <td>3</td>\n",
       "      <td>0.85</td>\n",
       "      <td>5</td>\n",
       "      <td>0</td>\n",
       "      <td>0</td>\n",
       "      <td>0</td>\n",
       "      <td>0</td>\n",
       "      <td>1</td>\n",
       "      <td>4</td>\n",
       "      <td>0</td>\n",
       "      <td>0</td>\n",
       "      <td>0</td>\n",
       "      <td>1</td>\n",
       "      <td>5</td>\n",
       "      <td>0</td>\n",
       "      <td>0</td>\n",
       "      <td>0</td>\n",
       "      <td>0</td>\n",
       "      <td>1</td>\n",
       "      <td>3183</td>\n",
       "    </tr>\n",
       "    <tr>\n",
       "      <th>5</th>\n",
       "      <td>4</td>\n",
       "      <td>0.91</td>\n",
       "      <td>5</td>\n",
       "      <td>0</td>\n",
       "      <td>0</td>\n",
       "      <td>0</td>\n",
       "      <td>0</td>\n",
       "      <td>1</td>\n",
       "      <td>2</td>\n",
       "      <td>0</td>\n",
       "      <td>1</td>\n",
       "      <td>0</td>\n",
       "      <td>0</td>\n",
       "      <td>5</td>\n",
       "      <td>0</td>\n",
       "      <td>0</td>\n",
       "      <td>0</td>\n",
       "      <td>0</td>\n",
       "      <td>1</td>\n",
       "      <td>4370</td>\n",
       "    </tr>\n",
       "    <tr>\n",
       "      <th>6</th>\n",
       "      <td>5</td>\n",
       "      <td>0.83</td>\n",
       "      <td>5</td>\n",
       "      <td>0</td>\n",
       "      <td>0</td>\n",
       "      <td>0</td>\n",
       "      <td>0</td>\n",
       "      <td>1</td>\n",
       "      <td>4</td>\n",
       "      <td>0</td>\n",
       "      <td>0</td>\n",
       "      <td>0</td>\n",
       "      <td>1</td>\n",
       "      <td>5</td>\n",
       "      <td>0</td>\n",
       "      <td>0</td>\n",
       "      <td>0</td>\n",
       "      <td>0</td>\n",
       "      <td>1</td>\n",
       "      <td>3171</td>\n",
       "    </tr>\n",
       "    <tr>\n",
       "      <th>...</th>\n",
       "      <td>...</td>\n",
       "      <td>...</td>\n",
       "      <td>...</td>\n",
       "      <td>...</td>\n",
       "      <td>...</td>\n",
       "      <td>...</td>\n",
       "      <td>...</td>\n",
       "      <td>...</td>\n",
       "      <td>...</td>\n",
       "      <td>...</td>\n",
       "      <td>...</td>\n",
       "      <td>...</td>\n",
       "      <td>...</td>\n",
       "      <td>...</td>\n",
       "      <td>...</td>\n",
       "      <td>...</td>\n",
       "      <td>...</td>\n",
       "      <td>...</td>\n",
       "      <td>...</td>\n",
       "      <td>...</td>\n",
       "    </tr>\n",
       "    <tr>\n",
       "      <th>5997</th>\n",
       "      <td>5996</td>\n",
       "      <td>1.03</td>\n",
       "      <td>5</td>\n",
       "      <td>0</td>\n",
       "      <td>0</td>\n",
       "      <td>0</td>\n",
       "      <td>0</td>\n",
       "      <td>1</td>\n",
       "      <td>1</td>\n",
       "      <td>1</td>\n",
       "      <td>0</td>\n",
       "      <td>0</td>\n",
       "      <td>0</td>\n",
       "      <td>5</td>\n",
       "      <td>0</td>\n",
       "      <td>0</td>\n",
       "      <td>0</td>\n",
       "      <td>0</td>\n",
       "      <td>1</td>\n",
       "      <td>NaN</td>\n",
       "    </tr>\n",
       "    <tr>\n",
       "      <th>5998</th>\n",
       "      <td>5997</td>\n",
       "      <td>1</td>\n",
       "      <td>5</td>\n",
       "      <td>0</td>\n",
       "      <td>0</td>\n",
       "      <td>0</td>\n",
       "      <td>0</td>\n",
       "      <td>1</td>\n",
       "      <td>1</td>\n",
       "      <td>1</td>\n",
       "      <td>0</td>\n",
       "      <td>0</td>\n",
       "      <td>0</td>\n",
       "      <td>4</td>\n",
       "      <td>0</td>\n",
       "      <td>0</td>\n",
       "      <td>0</td>\n",
       "      <td>0</td>\n",
       "      <td>1</td>\n",
       "      <td>NaN</td>\n",
       "    </tr>\n",
       "    <tr>\n",
       "      <th>5999</th>\n",
       "      <td>5998</td>\n",
       "      <td>1.02</td>\n",
       "      <td>5</td>\n",
       "      <td>0</td>\n",
       "      <td>0</td>\n",
       "      <td>0</td>\n",
       "      <td>0</td>\n",
       "      <td>1</td>\n",
       "      <td>1</td>\n",
       "      <td>1</td>\n",
       "      <td>0</td>\n",
       "      <td>0</td>\n",
       "      <td>0</td>\n",
       "      <td>5</td>\n",
       "      <td>0</td>\n",
       "      <td>0</td>\n",
       "      <td>0</td>\n",
       "      <td>0</td>\n",
       "      <td>1</td>\n",
       "      <td>NaN</td>\n",
       "    </tr>\n",
       "    <tr>\n",
       "      <th>6000</th>\n",
       "      <td>5999</td>\n",
       "      <td>1.27</td>\n",
       "      <td>4</td>\n",
       "      <td>0</td>\n",
       "      <td>0</td>\n",
       "      <td>0</td>\n",
       "      <td>1</td>\n",
       "      <td>0</td>\n",
       "      <td>4</td>\n",
       "      <td>0</td>\n",
       "      <td>0</td>\n",
       "      <td>0</td>\n",
       "      <td>1</td>\n",
       "      <td>6</td>\n",
       "      <td>0</td>\n",
       "      <td>0</td>\n",
       "      <td>0</td>\n",
       "      <td>1</td>\n",
       "      <td>0</td>\n",
       "      <td>NaN</td>\n",
       "    </tr>\n",
       "    <tr>\n",
       "      <th>6001</th>\n",
       "      <td>6000</td>\n",
       "      <td>2.19</td>\n",
       "      <td>4</td>\n",
       "      <td>0</td>\n",
       "      <td>0</td>\n",
       "      <td>0</td>\n",
       "      <td>1</td>\n",
       "      <td>0</td>\n",
       "      <td>2</td>\n",
       "      <td>0</td>\n",
       "      <td>1</td>\n",
       "      <td>0</td>\n",
       "      <td>0</td>\n",
       "      <td>5</td>\n",
       "      <td>0</td>\n",
       "      <td>0</td>\n",
       "      <td>0</td>\n",
       "      <td>1</td>\n",
       "      <td>0</td>\n",
       "      <td>NaN</td>\n",
       "    </tr>\n",
       "  </tbody>\n",
       "</table>\n",
       "<p>6000 rows × 20 columns</p>\n",
       "</div>"
      ],
      "text/plain": [
       "        ID Carat Weight  Clarity_cat  Clarity_1  Clarity_2  Clarity_3  \\\n",
       "2        1          1.1            5          0          0          0   \n",
       "3        2         0.83            4          0          0          0   \n",
       "4        3         0.85            5          0          0          0   \n",
       "5        4         0.91            5          0          0          0   \n",
       "6        5         0.83            5          0          0          0   \n",
       "...    ...          ...          ...        ...        ...        ...   \n",
       "5997  5996         1.03            5          0          0          0   \n",
       "5998  5997            1            5          0          0          0   \n",
       "5999  5998         1.02            5          0          0          0   \n",
       "6000  5999         1.27            4          0          0          0   \n",
       "6001  6000         2.19            4          0          0          0   \n",
       "\n",
       "      Clarity_4  Clarity_5  Color_cat  Color_1  Color_2  Color_3  Color_4  \\\n",
       "2             0          1          4        0        0        0        1   \n",
       "3             1          0          4        0        0        0        1   \n",
       "4             0          1          4        0        0        0        1   \n",
       "5             0          1          2        0        1        0        0   \n",
       "6             0          1          4        0        0        0        1   \n",
       "...         ...        ...        ...      ...      ...      ...      ...   \n",
       "5997          0          1          1        1        0        0        0   \n",
       "5998          0          1          1        1        0        0        0   \n",
       "5999          0          1          1        1        0        0        0   \n",
       "6000          1          0          4        0        0        0        1   \n",
       "6001          1          0          2        0        1        0        0   \n",
       "\n",
       "      Cut_cat  Cut_2  Cut_3  Cut_4  Cut_5  Cut_6 Price  \n",
       "2           5      0      0      0      0      1  5169  \n",
       "3           5      0      0      0      1      0  3470  \n",
       "4           5      0      0      0      0      1  3183  \n",
       "5           5      0      0      0      0      1  4370  \n",
       "6           5      0      0      0      0      1  3171  \n",
       "...       ...    ...    ...    ...    ...    ...   ...  \n",
       "5997        5      0      0      0      0      1   NaN  \n",
       "5998        4      0      0      0      0      1   NaN  \n",
       "5999        5      0      0      0      0      1   NaN  \n",
       "6000        6      0      0      0      1      0   NaN  \n",
       "6001        5      0      0      0      1      0   NaN  \n",
       "\n",
       "[6000 rows x 20 columns]"
      ]
     },
     "execution_count": 211,
     "metadata": {},
     "output_type": "execute_result"
    }
   ],
   "source": [
    "df_new"
   ]
  },
  {
   "cell_type": "markdown",
   "metadata": {},
   "source": [
    "Исследование данных"
   ]
  },
  {
   "cell_type": "markdown",
   "metadata": {},
   "source": [
    "Исследование распределения по чистоте в данном наборе бриллиантов  "
   ]
  },
  {
   "cell_type": "code",
   "execution_count": 212,
   "metadata": {},
   "outputs": [
    {
     "name": "stdout",
     "output_type": "stream",
     "text": [
      "1 - FL\n",
      "2 - IF\n",
      "3 - VVS1/VVS2\n",
      "4 - VS1/VS2\n",
      "5 - SI1/SI2\n"
     ]
    }
   ],
   "source": [
    "print('1 - FL')\n",
    "print('2 - IF')\n",
    "print('3 - VVS1/VVS2')\n",
    "print('4 - VS1/VS2')\n",
    "print('5 - SI1/SI2')"
   ]
  },
  {
   "cell_type": "code",
   "execution_count": 213,
   "metadata": {},
   "outputs": [
    {
     "data": {
      "text/plain": [
       "4    0.461000\n",
       "5    0.343167\n",
       "3    0.158500\n",
       "2    0.036500\n",
       "1    0.000667\n",
       "0    0.000167\n",
       "Name: Clarity_cat, dtype: float64"
      ]
     },
     "execution_count": 213,
     "metadata": {},
     "output_type": "execute_result"
    }
   ],
   "source": [
    "df_new['Clarity_cat'].value_counts(normalize=True)"
   ]
  },
  {
   "cell_type": "code",
   "execution_count": 214,
   "metadata": {},
   "outputs": [
    {
     "data": {
      "text/html": [
       "<div>\n",
       "<style scoped>\n",
       "    .dataframe tbody tr th:only-of-type {\n",
       "        vertical-align: middle;\n",
       "    }\n",
       "\n",
       "    .dataframe tbody tr th {\n",
       "        vertical-align: top;\n",
       "    }\n",
       "\n",
       "    .dataframe thead th {\n",
       "        text-align: right;\n",
       "    }\n",
       "</style>\n",
       "<table border=\"1\" class=\"dataframe\">\n",
       "  <thead>\n",
       "    <tr style=\"text-align: right;\">\n",
       "      <th></th>\n",
       "      <th>Clarity_cat</th>\n",
       "      <th>ID</th>\n",
       "    </tr>\n",
       "  </thead>\n",
       "  <tbody>\n",
       "    <tr>\n",
       "      <th>0</th>\n",
       "      <td>0</td>\n",
       "      <td>1</td>\n",
       "    </tr>\n",
       "    <tr>\n",
       "      <th>1</th>\n",
       "      <td>1</td>\n",
       "      <td>4</td>\n",
       "    </tr>\n",
       "    <tr>\n",
       "      <th>2</th>\n",
       "      <td>2</td>\n",
       "      <td>219</td>\n",
       "    </tr>\n",
       "    <tr>\n",
       "      <th>3</th>\n",
       "      <td>3</td>\n",
       "      <td>951</td>\n",
       "    </tr>\n",
       "    <tr>\n",
       "      <th>4</th>\n",
       "      <td>4</td>\n",
       "      <td>2766</td>\n",
       "    </tr>\n",
       "    <tr>\n",
       "      <th>5</th>\n",
       "      <td>5</td>\n",
       "      <td>2059</td>\n",
       "    </tr>\n",
       "  </tbody>\n",
       "</table>\n",
       "</div>"
      ],
      "text/plain": [
       "   Clarity_cat    ID\n",
       "0            0     1\n",
       "1            1     4\n",
       "2            2   219\n",
       "3            3   951\n",
       "4            4  2766\n",
       "5            5  2059"
      ]
     },
     "execution_count": 214,
     "metadata": {},
     "output_type": "execute_result"
    }
   ],
   "source": [
    "df_Clarity = df_new.groupby('Clarity_cat')['ID'].count().reset_index().sort_values('Clarity_cat') \n",
    "df_Clarity"
   ]
  },
  {
   "cell_type": "code",
   "execution_count": 215,
   "metadata": {},
   "outputs": [
    {
     "data": {
      "text/plain": [
       "Text(0, 0.5, 'количество бриллиантов')"
      ]
     },
     "execution_count": 215,
     "metadata": {},
     "output_type": "execute_result"
    },
    {
     "data": {
      "image/png": "[encoded data removed]",
      "text/plain": [
       "<Figure size 432x288 with 1 Axes>"
      ]
     },
     "metadata": {
      "needs_background": "light"
     },
     "output_type": "display_data"
    }
   ],
   "source": [
    "plt.bar(df_Clarity['Clarity_cat'], df_Clarity['ID'])\n",
    "plt.title('Статистика по чистоте бриллиантов')\n",
    "plt.xlabel('Степень чистоты')\n",
    "plt.ylabel('количество бриллиантов')\n",
    "#plt.xticks(rotation=45)"
   ]
  },
  {
   "cell_type": "code",
   "execution_count": 216,
   "metadata": {},
   "outputs": [
    {
     "data": {
      "text/plain": [
       "Clarity_cat\n",
       "0       1\n",
       "1       4\n",
       "2     219\n",
       "3     951\n",
       "4    2766\n",
       "5    2059\n",
       "Name: ID, dtype: int64"
      ]
     },
     "execution_count": 216,
     "metadata": {},
     "output_type": "execute_result"
    }
   ],
   "source": [
    "serie = df_new.groupby('Clarity_cat')['ID'].count()\n",
    "serie"
   ]
  },
  {
   "cell_type": "code",
   "execution_count": 217,
   "metadata": {},
   "outputs": [
    {
     "data": {
      "text/plain": [
       "Text(0.5, 1.0, 'Статистика по чистоте бриллиантов')"
      ]
     },
     "execution_count": 217,
     "metadata": {},
     "output_type": "execute_result"
    },
    {
     "data": {
      "image/png": "[encoded data removed]",
      "text/plain": [
       "<Figure size 432x288 with 1 Axes>"
      ]
     },
     "metadata": {},
     "output_type": "display_data"
    }
   ],
   "source": [
    "plt.pie(serie, labels=serie.index, autopct='%1.1f%%')\n",
    "plt.title('Статистика по чистоте бриллиантов')"
   ]
  },
  {
   "cell_type": "code",
   "execution_count": null,
   "metadata": {},
   "outputs": [],
   "source": []
  },
  {
   "cell_type": "markdown",
   "metadata": {},
   "source": [
    "Исследование распределения по цвету в данном наборе бриллиантов"
   ]
  },
  {
   "cell_type": "code",
   "execution_count": 218,
   "metadata": {},
   "outputs": [
    {
     "name": "stdout",
     "output_type": "stream",
     "text": [
      "1 - D (совершенно бесцветные)\n",
      "2 - E\n",
      "3 - F\n",
      "4 - G-H\n",
      "5 - I-J\n"
     ]
    }
   ],
   "source": [
    "print('1 - D (совершенно бесцветные)')\n",
    "print('2 - E')\n",
    "print('3 - F')\n",
    "print('4 - G-H')\n",
    "print('5 - I-J')"
   ]
  },
  {
   "cell_type": "code",
   "execution_count": 219,
   "metadata": {},
   "outputs": [
    {
     "data": {
      "text/plain": [
       "4    0.591333\n",
       "3    0.168667\n",
       "2    0.129667\n",
       "1    0.110167\n",
       "0    0.000167\n",
       "Name: Color_cat, dtype: float64"
      ]
     },
     "execution_count": 219,
     "metadata": {},
     "output_type": "execute_result"
    }
   ],
   "source": [
    "df_new['Color_cat'].value_counts(normalize=True)"
   ]
  },
  {
   "cell_type": "code",
   "execution_count": 220,
   "metadata": {},
   "outputs": [
    {
     "data": {
      "text/html": [
       "<div>\n",
       "<style scoped>\n",
       "    .dataframe tbody tr th:only-of-type {\n",
       "        vertical-align: middle;\n",
       "    }\n",
       "\n",
       "    .dataframe tbody tr th {\n",
       "        vertical-align: top;\n",
       "    }\n",
       "\n",
       "    .dataframe thead th {\n",
       "        text-align: right;\n",
       "    }\n",
       "</style>\n",
       "<table border=\"1\" class=\"dataframe\">\n",
       "  <thead>\n",
       "    <tr style=\"text-align: right;\">\n",
       "      <th></th>\n",
       "      <th>Color_cat</th>\n",
       "      <th>ID</th>\n",
       "    </tr>\n",
       "  </thead>\n",
       "  <tbody>\n",
       "    <tr>\n",
       "      <th>0</th>\n",
       "      <td>0</td>\n",
       "      <td>1</td>\n",
       "    </tr>\n",
       "    <tr>\n",
       "      <th>1</th>\n",
       "      <td>1</td>\n",
       "      <td>661</td>\n",
       "    </tr>\n",
       "    <tr>\n",
       "      <th>2</th>\n",
       "      <td>2</td>\n",
       "      <td>778</td>\n",
       "    </tr>\n",
       "    <tr>\n",
       "      <th>3</th>\n",
       "      <td>3</td>\n",
       "      <td>1012</td>\n",
       "    </tr>\n",
       "    <tr>\n",
       "      <th>4</th>\n",
       "      <td>4</td>\n",
       "      <td>3548</td>\n",
       "    </tr>\n",
       "  </tbody>\n",
       "</table>\n",
       "</div>"
      ],
      "text/plain": [
       "   Color_cat    ID\n",
       "0          0     1\n",
       "1          1   661\n",
       "2          2   778\n",
       "3          3  1012\n",
       "4          4  3548"
      ]
     },
     "execution_count": 220,
     "metadata": {},
     "output_type": "execute_result"
    }
   ],
   "source": [
    "df_Color = df_new.groupby('Color_cat')['ID'].count().reset_index().sort_values('Color_cat') \n",
    "df_Color"
   ]
  },
  {
   "cell_type": "code",
   "execution_count": 221,
   "metadata": {},
   "outputs": [
    {
     "data": {
      "text/plain": [
       "Text(0, 0.5, 'количество бриллиантов')"
      ]
     },
     "execution_count": 221,
     "metadata": {},
     "output_type": "execute_result"
    },
    {
     "data": {
      "image/png": "[encoded data removed]",
      "text/plain": [
       "<Figure size 432x288 with 1 Axes>"
      ]
     },
     "metadata": {
      "needs_background": "light"
     },
     "output_type": "display_data"
    }
   ],
   "source": [
    "plt.bar(df_Color['Color_cat'], df_Color['ID'])\n",
    "plt.title('Статистика по цвету бриллиантов')\n",
    "plt.xlabel('Цвет')\n",
    "plt.ylabel('количество бриллиантов')\n",
    "#plt.xticks(rotation=45)"
   ]
  },
  {
   "cell_type": "code",
   "execution_count": 222,
   "metadata": {},
   "outputs": [
    {
     "data": {
      "text/plain": [
       "Color_cat\n",
       "0       1\n",
       "1     661\n",
       "2     778\n",
       "3    1012\n",
       "4    3548\n",
       "Name: ID, dtype: int64"
      ]
     },
     "execution_count": 222,
     "metadata": {},
     "output_type": "execute_result"
    }
   ],
   "source": [
    "serie = df_new.groupby('Color_cat')['ID'].count()\n",
    "serie"
   ]
  },
  {
   "cell_type": "code",
   "execution_count": 223,
   "metadata": {},
   "outputs": [
    {
     "data": {
      "text/plain": [
       "Text(0.5, 1.0, 'Статистика по цвету бриллиантов')"
      ]
     },
     "execution_count": 223,
     "metadata": {},
     "output_type": "execute_result"
    },
    {
     "data": {
      "image/png": "[encoded data removed]",
      "text/plain": [
       "<Figure size 432x288 with 1 Axes>"
      ]
     },
     "metadata": {},
     "output_type": "display_data"
    }
   ],
   "source": [
    "plt.pie(serie, labels=serie.index, autopct='%1.1f%%')\n",
    "plt.title('Статистика по цвету бриллиантов')"
   ]
  },
  {
   "cell_type": "code",
   "execution_count": null,
   "metadata": {},
   "outputs": [],
   "source": []
  },
  {
   "cell_type": "markdown",
   "metadata": {},
   "source": [
    "Исследование распределения по огранке в данном наборе бриллиантов"
   ]
  },
  {
   "cell_type": "code",
   "execution_count": 228,
   "metadata": {},
   "outputs": [
    {
     "name": "stdout",
     "output_type": "stream",
     "text": [
      "1 - Poor\n",
      "2 - Fair\n",
      "3 - Good\n",
      "4 - Very Good\n",
      "5 - Ideal\n",
      "6 - Signature-Ideal\n"
     ]
    }
   ],
   "source": [
    "print('1 - Poor')\n",
    "print('2 - Fair')\n",
    "print('3 - Good')\n",
    "print('4 - Very Good')\n",
    "print('5 - Ideal')\n",
    "print('6 - Signature-Ideal')"
   ]
  },
  {
   "cell_type": "code",
   "execution_count": 229,
   "metadata": {},
   "outputs": [
    {
     "data": {
      "text/plain": [
       "5    0.413167\n",
       "4    0.404667\n",
       "3    0.117833\n",
       "6    0.042167\n",
       "2    0.021500\n",
       "0    0.000667\n",
       "Name: Cut_cat, dtype: float64"
      ]
     },
     "execution_count": 229,
     "metadata": {},
     "output_type": "execute_result"
    }
   ],
   "source": [
    "df_new['Cut_cat'].value_counts(normalize=True)"
   ]
  },
  {
   "cell_type": "code",
   "execution_count": 232,
   "metadata": {},
   "outputs": [
    {
     "data": {
      "text/html": [
       "<div>\n",
       "<style scoped>\n",
       "    .dataframe tbody tr th:only-of-type {\n",
       "        vertical-align: middle;\n",
       "    }\n",
       "\n",
       "    .dataframe tbody tr th {\n",
       "        vertical-align: top;\n",
       "    }\n",
       "\n",
       "    .dataframe thead th {\n",
       "        text-align: right;\n",
       "    }\n",
       "</style>\n",
       "<table border=\"1\" class=\"dataframe\">\n",
       "  <thead>\n",
       "    <tr style=\"text-align: right;\">\n",
       "      <th></th>\n",
       "      <th>Cut_cat</th>\n",
       "      <th>ID</th>\n",
       "    </tr>\n",
       "  </thead>\n",
       "  <tbody>\n",
       "    <tr>\n",
       "      <th>0</th>\n",
       "      <td>0</td>\n",
       "      <td>4</td>\n",
       "    </tr>\n",
       "    <tr>\n",
       "      <th>1</th>\n",
       "      <td>2</td>\n",
       "      <td>129</td>\n",
       "    </tr>\n",
       "    <tr>\n",
       "      <th>2</th>\n",
       "      <td>3</td>\n",
       "      <td>707</td>\n",
       "    </tr>\n",
       "    <tr>\n",
       "      <th>3</th>\n",
       "      <td>4</td>\n",
       "      <td>2428</td>\n",
       "    </tr>\n",
       "    <tr>\n",
       "      <th>4</th>\n",
       "      <td>5</td>\n",
       "      <td>2479</td>\n",
       "    </tr>\n",
       "    <tr>\n",
       "      <th>5</th>\n",
       "      <td>6</td>\n",
       "      <td>253</td>\n",
       "    </tr>\n",
       "  </tbody>\n",
       "</table>\n",
       "</div>"
      ],
      "text/plain": [
       "   Cut_cat    ID\n",
       "0        0     4\n",
       "1        2   129\n",
       "2        3   707\n",
       "3        4  2428\n",
       "4        5  2479\n",
       "5        6   253"
      ]
     },
     "execution_count": 232,
     "metadata": {},
     "output_type": "execute_result"
    }
   ],
   "source": [
    "df_Cut = df_new.groupby('Cut_cat')['ID'].count().reset_index().sort_values('Cut_cat') \n",
    "df_Cut"
   ]
  },
  {
   "cell_type": "code",
   "execution_count": 234,
   "metadata": {},
   "outputs": [
    {
     "data": {
      "text/plain": [
       "Cut_cat\n",
       "0       4\n",
       "2     129\n",
       "3     707\n",
       "4    2428\n",
       "5    2479\n",
       "6     253\n",
       "Name: ID, dtype: int64"
      ]
     },
     "execution_count": 234,
     "metadata": {},
     "output_type": "execute_result"
    }
   ],
   "source": [
    "serie = df_new.groupby('Cut_cat')['ID'].count()\n",
    "serie"
   ]
  },
  {
   "cell_type": "code",
   "execution_count": 235,
   "metadata": {},
   "outputs": [
    {
     "data": {
      "text/plain": [
       "Text(0.5, 1.0, 'Статистика по огранке бриллиантов')"
      ]
     },
     "execution_count": 235,
     "metadata": {},
     "output_type": "execute_result"
    },
    {
     "data": {
      "image/png": "[encoded data removed]",
      "text/plain": [
       "<Figure size 432x288 with 1 Axes>"
      ]
     },
     "metadata": {},
     "output_type": "display_data"
    }
   ],
   "source": [
    "plt.pie(serie, labels=serie.index, autopct='%1.1f%%')\n",
    "plt.title('Статистика по огранке бриллиантов')"
   ]
  },
  {
   "cell_type": "code",
   "execution_count": null,
   "metadata": {},
   "outputs": [],
   "source": []
  },
  {
   "cell_type": "code",
   "execution_count": null,
   "metadata": {},
   "outputs": [],
   "source": []
  },
  {
   "cell_type": "markdown",
   "metadata": {},
   "source": [
    "Исследование зависимости стоимости бриллианта от чистоты "
   ]
  },
  {
   "cell_type": "code",
   "execution_count": 240,
   "metadata": {},
   "outputs": [],
   "source": [
    "train = df_new[~df_new['Price'].isnull()]"
   ]
  },
  {
   "cell_type": "code",
   "execution_count": 241,
   "metadata": {},
   "outputs": [
    {
     "name": "stderr",
     "output_type": "stream",
     "text": [
      "C:\\ProgramData\\Anaconda3\\lib\\site-packages\\ipykernel_launcher.py:1: SettingWithCopyWarning: \n",
      "A value is trying to be set on a copy of a slice from a DataFrame.\n",
      "Try using .loc[row_indexer,col_indexer] = value instead\n",
      "\n",
      "See the caveats in the documentation: https://pandas.pydata.org/pandas-docs/stable/user_guide/indexing.html#returning-a-view-versus-a-copy\n",
      "  \"\"\"Entry point for launching an IPython kernel.\n"
     ]
    }
   ],
   "source": [
    "train['int_price'] = train['Price'].apply(lambda x: int(x))"
   ]
  },
  {
   "cell_type": "code",
   "execution_count": 242,
   "metadata": {},
   "outputs": [
    {
     "name": "stdout",
     "output_type": "stream",
     "text": [
      "1 - FL\n",
      "2 - IF\n",
      "3 - VVS1/VVS2\n",
      "4 - VS1/VS2\n",
      "5 - SI1/SI2\n"
     ]
    }
   ],
   "source": [
    "print('1 - FL')\n",
    "print('2 - IF')\n",
    "print('3 - VVS1/VVS2')\n",
    "print('4 - VS1/VS2')\n",
    "print('5 - SI1/SI2')"
   ]
  },
  {
   "cell_type": "code",
   "execution_count": 243,
   "metadata": {},
   "outputs": [
    {
     "data": {
      "text/html": [
       "<div>\n",
       "<style scoped>\n",
       "    .dataframe tbody tr th:only-of-type {\n",
       "        vertical-align: middle;\n",
       "    }\n",
       "\n",
       "    .dataframe tbody tr th {\n",
       "        vertical-align: top;\n",
       "    }\n",
       "\n",
       "    .dataframe thead th {\n",
       "        text-align: right;\n",
       "    }\n",
       "</style>\n",
       "<table border=\"1\" class=\"dataframe\">\n",
       "  <thead>\n",
       "    <tr style=\"text-align: right;\">\n",
       "      <th></th>\n",
       "      <th>Clarity_cat</th>\n",
       "      <th>int_price</th>\n",
       "    </tr>\n",
       "  </thead>\n",
       "  <tbody>\n",
       "    <tr>\n",
       "      <th>0</th>\n",
       "      <td>1</td>\n",
       "      <td>81399.0</td>\n",
       "    </tr>\n",
       "    <tr>\n",
       "      <th>1</th>\n",
       "      <td>2</td>\n",
       "      <td>11930.0</td>\n",
       "    </tr>\n",
       "    <tr>\n",
       "      <th>2</th>\n",
       "      <td>3</td>\n",
       "      <td>10470.0</td>\n",
       "    </tr>\n",
       "    <tr>\n",
       "      <th>3</th>\n",
       "      <td>4</td>\n",
       "      <td>8339.0</td>\n",
       "    </tr>\n",
       "    <tr>\n",
       "      <th>4</th>\n",
       "      <td>5</td>\n",
       "      <td>5409.5</td>\n",
       "    </tr>\n",
       "  </tbody>\n",
       "</table>\n",
       "</div>"
      ],
      "text/plain": [
       "   Clarity_cat  int_price\n",
       "0            1    81399.0\n",
       "1            2    11930.0\n",
       "2            3    10470.0\n",
       "3            4     8339.0\n",
       "4            5     5409.5"
      ]
     },
     "execution_count": 243,
     "metadata": {},
     "output_type": "execute_result"
    }
   ],
   "source": [
    "df_Clarity = train.groupby('Clarity_cat')['int_price'].median().reset_index().sort_values('Clarity_cat') \n",
    "df_Clarity"
   ]
  },
  {
   "cell_type": "code",
   "execution_count": 244,
   "metadata": {},
   "outputs": [
    {
     "data": {
      "text/plain": [
       "Text(0, 0.5, 'стоимость бриллиантов')"
      ]
     },
     "execution_count": 244,
     "metadata": {},
     "output_type": "execute_result"
    },
    {
     "data": {
      "image/png": "[encoded data removed]",
      "text/plain": [
       "<Figure size 432x288 with 1 Axes>"
      ]
     },
     "metadata": {
      "needs_background": "light"
     },
     "output_type": "display_data"
    }
   ],
   "source": [
    "plt.bar(df_Clarity['Clarity_cat'], df_Clarity['int_price'])\n",
    "plt.title('Статистика по стоимости бриллиантов в зависимости от чистоты')\n",
    "plt.xlabel('Степень чистоты')\n",
    "plt.ylabel('стоимость бриллиантов')\n",
    "#plt.xticks(rotation=45)"
   ]
  },
  {
   "cell_type": "markdown",
   "metadata": {},
   "source": [
    "Вывод: наблюдается очень четкая зависимость цены от чистоты бриллианта."
   ]
  },
  {
   "cell_type": "markdown",
   "metadata": {},
   "source": [
    "Исследование зависимости стоимости бриллианта от цвета "
   ]
  },
  {
   "cell_type": "code",
   "execution_count": 245,
   "metadata": {},
   "outputs": [
    {
     "name": "stdout",
     "output_type": "stream",
     "text": [
      "1 - D (совершенно бесцветные)\n",
      "2 - E\n",
      "3 - F\n",
      "4 - G-H\n",
      "5 - I-J\n"
     ]
    }
   ],
   "source": [
    "print('1 - D (совершенно бесцветные)')\n",
    "print('2 - E')\n",
    "print('3 - F')\n",
    "print('4 - G-H')\n",
    "print('5 - I-J')"
   ]
  },
  {
   "cell_type": "code",
   "execution_count": 246,
   "metadata": {},
   "outputs": [
    {
     "data": {
      "text/html": [
       "<div>\n",
       "<style scoped>\n",
       "    .dataframe tbody tr th:only-of-type {\n",
       "        vertical-align: middle;\n",
       "    }\n",
       "\n",
       "    .dataframe tbody tr th {\n",
       "        vertical-align: top;\n",
       "    }\n",
       "\n",
       "    .dataframe thead th {\n",
       "        text-align: right;\n",
       "    }\n",
       "</style>\n",
       "<table border=\"1\" class=\"dataframe\">\n",
       "  <thead>\n",
       "    <tr style=\"text-align: right;\">\n",
       "      <th></th>\n",
       "      <th>Color_cat</th>\n",
       "      <th>int_price</th>\n",
       "    </tr>\n",
       "  </thead>\n",
       "  <tbody>\n",
       "    <tr>\n",
       "      <th>0</th>\n",
       "      <td>0</td>\n",
       "      <td>7698.0</td>\n",
       "    </tr>\n",
       "    <tr>\n",
       "      <th>1</th>\n",
       "      <td>1</td>\n",
       "      <td>7657.5</td>\n",
       "    </tr>\n",
       "    <tr>\n",
       "      <th>2</th>\n",
       "      <td>2</td>\n",
       "      <td>7178.0</td>\n",
       "    </tr>\n",
       "    <tr>\n",
       "      <th>3</th>\n",
       "      <td>3</td>\n",
       "      <td>8628.0</td>\n",
       "    </tr>\n",
       "    <tr>\n",
       "      <th>4</th>\n",
       "      <td>4</td>\n",
       "      <td>8093.0</td>\n",
       "    </tr>\n",
       "    <tr>\n",
       "      <th>5</th>\n",
       "      <td>5</td>\n",
       "      <td>6689.5</td>\n",
       "    </tr>\n",
       "  </tbody>\n",
       "</table>\n",
       "</div>"
      ],
      "text/plain": [
       "   Color_cat  int_price\n",
       "0          0     7698.0\n",
       "1          1     7657.5\n",
       "2          2     7178.0\n",
       "3          3     8628.0\n",
       "4          4     8093.0\n",
       "5          5     6689.5"
      ]
     },
     "execution_count": 246,
     "metadata": {},
     "output_type": "execute_result"
    }
   ],
   "source": [
    "df_Color = train.groupby('Color_cat')['int_price'].median().reset_index() \n",
    "df_Color"
   ]
  },
  {
   "cell_type": "code",
   "execution_count": 247,
   "metadata": {},
   "outputs": [
    {
     "data": {
      "text/plain": [
       "Text(0, 0.5, 'стоимость бриллиантов')"
      ]
     },
     "execution_count": 247,
     "metadata": {},
     "output_type": "execute_result"
    },
    {
     "data": {
      "image/png": "[encoded data removed]",
      "text/plain": [
       "<Figure size 432x288 with 1 Axes>"
      ]
     },
     "metadata": {
      "needs_background": "light"
     },
     "output_type": "display_data"
    }
   ],
   "source": [
    "plt.bar(df_Color['Color_cat'], df_Color['int_price'])\n",
    "plt.title('Статистика по стоимости бриллиантов в зависимости от цвета')\n",
    "plt.xlabel('Цвет')\n",
    "plt.ylabel('стоимость бриллиантов')\n",
    "#plt.xticks(rotation=45)"
   ]
  },
  {
   "cell_type": "markdown",
   "metadata": {},
   "source": [
    "Вывод: зависимость цены от цвета бриллианта не очень четкая."
   ]
  },
  {
   "cell_type": "markdown",
   "metadata": {},
   "source": [
    "Исследование зависимости стоимости бриллианта от огранки "
   ]
  },
  {
   "cell_type": "code",
   "execution_count": 248,
   "metadata": {},
   "outputs": [
    {
     "name": "stdout",
     "output_type": "stream",
     "text": [
      "1 - Poor\n",
      "2 - Fair\n",
      "3 - Good\n",
      "4 - Very Good\n",
      "5 - Ideal\n",
      "6 - Signature-Ideal\n"
     ]
    }
   ],
   "source": [
    "print('1 - Poor')\n",
    "print('2 - Fair')\n",
    "print('3 - Good')\n",
    "print('4 - Very Good')\n",
    "print('5 - Ideal')\n",
    "print('6 - Signature-Ideal')"
   ]
  },
  {
   "cell_type": "code",
   "execution_count": 249,
   "metadata": {},
   "outputs": [
    {
     "data": {
      "text/html": [
       "<div>\n",
       "<style scoped>\n",
       "    .dataframe tbody tr th:only-of-type {\n",
       "        vertical-align: middle;\n",
       "    }\n",
       "\n",
       "    .dataframe tbody tr th {\n",
       "        vertical-align: top;\n",
       "    }\n",
       "\n",
       "    .dataframe thead th {\n",
       "        text-align: right;\n",
       "    }\n",
       "</style>\n",
       "<table border=\"1\" class=\"dataframe\">\n",
       "  <thead>\n",
       "    <tr style=\"text-align: right;\">\n",
       "      <th></th>\n",
       "      <th>Cut_cat</th>\n",
       "      <th>int_price</th>\n",
       "    </tr>\n",
       "  </thead>\n",
       "  <tbody>\n",
       "    <tr>\n",
       "      <th>0</th>\n",
       "      <td>0</td>\n",
       "      <td>14154.0</td>\n",
       "    </tr>\n",
       "    <tr>\n",
       "      <th>1</th>\n",
       "      <td>2</td>\n",
       "      <td>4771.0</td>\n",
       "    </tr>\n",
       "    <tr>\n",
       "      <th>2</th>\n",
       "      <td>3</td>\n",
       "      <td>6063.5</td>\n",
       "    </tr>\n",
       "    <tr>\n",
       "      <th>3</th>\n",
       "      <td>4</td>\n",
       "      <td>7079.5</td>\n",
       "    </tr>\n",
       "    <tr>\n",
       "      <th>4</th>\n",
       "      <td>5</td>\n",
       "      <td>9221.5</td>\n",
       "    </tr>\n",
       "    <tr>\n",
       "      <th>5</th>\n",
       "      <td>6</td>\n",
       "      <td>9434.0</td>\n",
       "    </tr>\n",
       "  </tbody>\n",
       "</table>\n",
       "</div>"
      ],
      "text/plain": [
       "   Cut_cat  int_price\n",
       "0        0    14154.0\n",
       "1        2     4771.0\n",
       "2        3     6063.5\n",
       "3        4     7079.5\n",
       "4        5     9221.5\n",
       "5        6     9434.0"
      ]
     },
     "execution_count": 249,
     "metadata": {},
     "output_type": "execute_result"
    }
   ],
   "source": [
    "df_Cut = train.groupby('Cut_cat')['int_price'].median().reset_index() \n",
    "df_Cut"
   ]
  },
  {
   "cell_type": "code",
   "execution_count": 250,
   "metadata": {},
   "outputs": [
    {
     "data": {
      "text/plain": [
       "Text(0, 0.5, 'стоимость бриллиантов')"
      ]
     },
     "execution_count": 250,
     "metadata": {},
     "output_type": "execute_result"
    },
    {
     "data": {
      "image/png": "[encoded data removed]",
      "text/plain": [
       "<Figure size 432x288 with 1 Axes>"
      ]
     },
     "metadata": {
      "needs_background": "light"
     },
     "output_type": "display_data"
    }
   ],
   "source": [
    "plt.bar(df_Cut['Cut_cat'], df_Cut['int_price'])\n",
    "plt.title('Статистика по стоимости бриллиантов в зависимости от огранки')\n",
    "plt.xlabel('Огранка')\n",
    "plt.ylabel('стоимость бриллиантов')\n",
    "#plt.xticks(rotation=45)"
   ]
  },
  {
   "cell_type": "markdown",
   "metadata": {},
   "source": [
    "Вывод: зависимость цены от цвета бриллианта четкая."
   ]
  },
  {
   "cell_type": "markdown",
   "metadata": {},
   "source": [
    "Исследование распределений весов камней в тренировочном и тестовом наборах "
   ]
  },
  {
   "cell_type": "code",
   "execution_count": 251,
   "metadata": {},
   "outputs": [],
   "source": [
    "def my_basic_research(df, column = \"volume\"):\n",
    "    print(\"среднее: \", df[column].mean())\n",
    "    print(\"средне-квадратичное отклонение: \", df[column].std())\n",
    "    print(\"медиана: \", df[column].median())    \n",
    "    print(\"50 перцентиль: \", np.percentile(df[column], 50))\n",
    "    print(\"75 перцентиль: \", np.percentile(df[column], 75))\n",
    "    print(\"99 перцентиль: \", np.percentile(df[column], 99))\n",
    "    print(\"мода: \", df[column].mode())\n",
    "    print(\"Самое популярное значение метрики, топ 1\")\n",
    "    print(df[column].value_counts().nlargest(1))\n",
    "    print(\"------------------------------------\")\n",
    "    "
   ]
  },
  {
   "cell_type": "code",
   "execution_count": 252,
   "metadata": {},
   "outputs": [
    {
     "name": "stdout",
     "output_type": "stream",
     "text": [
      "среднее:  4.775571111111034\n",
      "средне-квадратичное отклонение:  170.11453792002348\n",
      "медиана:  1.13\n",
      "50 перцентиль:  1.13\n",
      "75 перцентиль:  1.58\n",
      "99 перцентиль:  2.520100000000002\n",
      "мода:  0    1.01\n",
      "dtype: object\n",
      "Самое популярное значение метрики, топ 1\n",
      "1.01    347\n",
      "Name: Carat Weight, dtype: int64\n",
      "------------------------------------\n"
     ]
    }
   ],
   "source": [
    "my_basic_research(train,'Carat Weight')"
   ]
  },
  {
   "cell_type": "markdown",
   "metadata": {},
   "source": [
    "Медиана и среднее сильно различаются, значит много выбросов."
   ]
  },
  {
   "cell_type": "code",
   "execution_count": 253,
   "metadata": {},
   "outputs": [
    {
     "name": "stdout",
     "output_type": "stream",
     "text": [
      "среднее:  1.3441666666666636\n",
      "средне-квадратичное отклонение:  0.47755678113535477\n",
      "медиана:  1.14\n",
      "50 перцентиль:  1.14\n",
      "75 перцентиль:  1.62\n",
      "99 перцентиль:  2.5101\n",
      "мода:  0    1.01\n",
      "dtype: object\n",
      "Самое популярное значение метрики, топ 1\n",
      "1.01    101\n",
      "Name: Carat Weight, dtype: int64\n",
      "------------------------------------\n"
     ]
    }
   ],
   "source": [
    "my_basic_research(df_new[df_new['Price'].isnull()],'Carat Weight')"
   ]
  },
  {
   "cell_type": "markdown",
   "metadata": {},
   "source": [
    "В тренировочном и тестовом наборе медианы веса камней почти совпадают. В тестовом наборе меньше выбросов ('экстремально больших весов)."
   ]
  },
  {
   "cell_type": "markdown",
   "metadata": {},
   "source": [
    "Исследование зависимости стоимости бриллианта от веса в тренировочном наборе"
   ]
  },
  {
   "cell_type": "code",
   "execution_count": 238,
   "metadata": {},
   "outputs": [
    {
     "data": {
      "text/plain": [
       "2.529899999999998"
      ]
     },
     "execution_count": 238,
     "metadata": {},
     "output_type": "execute_result"
    }
   ],
   "source": [
    "train_99procentile = np.percentile(train['Carat Weight'], 99)\n",
    "train_99procentile"
   ]
  },
  {
   "cell_type": "code",
   "execution_count": 239,
   "metadata": {},
   "outputs": [
    {
     "data": {
      "text/plain": [
       "Carat Weight\n",
       "0.75     3005\n",
       "0.75     3365\n",
       "0.75     2923\n",
       "0.75     3679\n",
       "0.75     2782\n",
       "        ...  \n",
       "2.51    34361\n",
       "2.51    29835\n",
       "2.51    34314\n",
       "2.51    24351\n",
       "2.52    44973\n",
       "Name: Price, Length: 2179, dtype: object"
      ]
     },
     "execution_count": 239,
     "metadata": {},
     "output_type": "execute_result"
    }
   ],
   "source": [
    "#train['int_Carat Weight'] = train['Carat Weight'] * 100\n",
    "#train['int_Carat Weight'] = train['int_Carat Weight'].apply(lambda x: int(x))\n",
    "serie = train[train['Carat Weight'] < train_99procentile].sort_values('Carat Weight').set_index('Carat Weight')['Price'] \n",
    "serie"
   ]
  },
  {
   "cell_type": "code",
   "execution_count": 333,
   "metadata": {},
   "outputs": [
    {
     "data": {
      "image/png": "[encoded data removed]",
      "text/plain": [
       "<Figure size 720x720 with 1 Axes>"
      ]
     },
     "metadata": {
      "needs_background": "light"
     },
     "output_type": "display_data"
    }
   ],
   "source": [
    "#на графике лучше вывести и модельные и реальные показатели одновременно\n",
    "#fig, ax = plt.subplots(figsize=(12,6))\n",
    "#ax.plot(serie, label='изменение стоимости с увеличением веса')\n",
    "\n",
    "#ax.set_title('график зависимости цены от веса бриллианта')\n",
    "#ax.set_xlabel('Вес')\n",
    "#ax.set_ylabel('Стоимость')\n",
    "#ax.set_xticks(list(range(data['Year'].min(), data['Year'].max(), 5)) + [data['Year'].max()])\n",
    "#ax.legend()\n",
    "\n",
    "#plt.show()\n",
    "\n",
    "fig = plt.figure(figsize=(10, 10)) # создаем картинку\n",
    "ax = plt.axes()\n",
    "ax.set_title('график зависимости цены от веса бриллианта')\n",
    "ax.set_xlabel('Вес')\n",
    "ax.set_ylabel('Стоимость')\n",
    "# помещаем точки на график\n",
    "ax.scatter(train['Carat Weight'], train[\"Price\"], s=100)\n",
    "\n",
    "# отображаем картинку\n",
    "plt.show()"
   ]
  },
  {
   "cell_type": "markdown",
   "metadata": {},
   "source": [
    "Вывод: в целом с увеличением веса растет стоимость бриллианта. Наблюдается устойчивый восходящий тренд, но с сильными помехами-флуктуациями."
   ]
  },
  {
   "cell_type": "markdown",
   "metadata": {},
   "source": [
    "Гистограмма распределения весов камней"
   ]
  },
  {
   "cell_type": "code",
   "execution_count": 295,
   "metadata": {},
   "outputs": [],
   "source": [
    "train['int_Carat Weight'] = train['Carat Weight'] * 100\n",
    "train['int_Carat Weight'] = train['int_Carat Weight'].apply(lambda x: int(x))"
   ]
  },
  {
   "cell_type": "code",
   "execution_count": 268,
   "metadata": {},
   "outputs": [
    {
     "data": {
      "text/plain": [
       "([<matplotlib.axis.XTick at 0x622c34b748>,\n",
       "  <matplotlib.axis.XTick at 0x622c34b7f0>,\n",
       "  <matplotlib.axis.XTick at 0x622c34b438>,\n",
       "  <matplotlib.axis.XTick at 0x622d2134a8>,\n",
       "  <matplotlib.axis.XTick at 0x621705b048>,\n",
       "  <matplotlib.axis.XTick at 0x621705be80>,\n",
       "  <matplotlib.axis.XTick at 0x621705b940>,\n",
       "  <matplotlib.axis.XTick at 0x622c465080>,\n",
       "  <matplotlib.axis.XTick at 0x622c465ac8>,\n",
       "  <matplotlib.axis.XTick at 0x622c465208>,\n",
       "  <matplotlib.axis.XTick at 0x622ea5c208>],\n",
       " <a list of 11 Text xticklabel objects>)"
      ]
     },
     "execution_count": 268,
     "metadata": {},
     "output_type": "execute_result"
    },
    {
     "data": {
      "image/png": "[encoded data removed]",
      "text/plain": [
       "<Figure size 432x288 with 1 Axes>"
      ]
     },
     "metadata": {
      "needs_background": "light"
     },
     "output_type": "display_data"
    }
   ],
   "source": [
    "### YOUR CODE HERE ###\n",
    "serie = train['int_Carat Weight']\n",
    "max_ = max(serie)\n",
    "#max_ = max(train[train['Carat Weight'] < train_99procentile]['int_Carat Weight'])\n",
    "\n",
    "plt.hist(serie, bins=10)\n",
    "plt.title(\"Гистограмма распределения весов камней\")\n",
    "plt.xlabel('Вес бриллианта')\n",
    "plt.ylabel('# количество камней')\n",
    "\n",
    "bin_width = max_ / 10\n",
    "x_range = [i*bin_width for i in range(11)]\n",
    "plt.xticks(x_range)"
   ]
  },
  {
   "cell_type": "code",
   "execution_count": 281,
   "metadata": {},
   "outputs": [
    {
     "data": {
      "text/plain": [
       "Text(0.5, 1.0, 'Гистограмма распределения весов камней')"
      ]
     },
     "execution_count": 281,
     "metadata": {},
     "output_type": "execute_result"
    },
    {
     "data": {
      "image/png": "[encoded data removed]",
      "text/plain": [
       "<Figure size 432x288 with 1 Axes>"
      ]
     },
     "metadata": {
      "needs_background": "light"
     },
     "output_type": "display_data"
    }
   ],
   "source": [
    "# При помощи seaborn\n",
    "import seaborn as sns\n",
    "v = train[['int_Carat Weight']]\n",
    "sns.distplot(v)\n",
    "plt.title(\"Гистограмма распределения весов камней\")"
   ]
  },
  {
   "cell_type": "code",
   "execution_count": 282,
   "metadata": {},
   "outputs": [
    {
     "data": {
      "text/plain": [
       "Text(0.5, 1.0, 'Гистограмма распределения весов камней')"
      ]
     },
     "execution_count": 282,
     "metadata": {},
     "output_type": "execute_result"
    },
    {
     "data": {
      "image/png": "[encoded data removed]",
      "text/plain": [
       "<Figure size 432x288 with 1 Axes>"
      ]
     },
     "metadata": {
      "needs_background": "light"
     },
     "output_type": "display_data"
    }
   ],
   "source": [
    "# При помощи pandas\n",
    "v.hist(bins = 10)\n",
    "plt.title(\"Гистограмма распределения весов камней\")"
   ]
  },
  {
   "cell_type": "markdown",
   "metadata": {},
   "source": [
    "Вывод: на гистограмме заметны 3 вершины (колокола). Можно разбить на 3 кластера.  "
   ]
  },
  {
   "cell_type": "markdown",
   "metadata": {},
   "source": [
    "Гистограмма распределения стоимости камней"
   ]
  },
  {
   "cell_type": "code",
   "execution_count": 294,
   "metadata": {},
   "outputs": [],
   "source": [
    "train['int_price'] = train['Price'].apply(lambda x: int(x))"
   ]
  },
  {
   "cell_type": "code",
   "execution_count": 276,
   "metadata": {},
   "outputs": [
    {
     "data": {
      "text/plain": [
       "([<matplotlib.axis.XTick at 0x6228904630>,\n",
       "  <matplotlib.axis.XTick at 0x622148ac50>,\n",
       "  <matplotlib.axis.XTick at 0x622148afd0>,\n",
       "  <matplotlib.axis.XTick at 0x62283604a8>,\n",
       "  <matplotlib.axis.XTick at 0x6228360a90>,\n",
       "  <matplotlib.axis.XTick at 0x6228360f60>,\n",
       "  <matplotlib.axis.XTick at 0x6221400128>,\n",
       "  <matplotlib.axis.XTick at 0x62214006d8>,\n",
       "  <matplotlib.axis.XTick at 0x6221400be0>,\n",
       "  <matplotlib.axis.XTick at 0x622141c160>,\n",
       "  <matplotlib.axis.XTick at 0x622141c630>],\n",
       " <a list of 11 Text xticklabel objects>)"
      ]
     },
     "execution_count": 276,
     "metadata": {},
     "output_type": "execute_result"
    },
    {
     "data": {
      "image/png": "[encoded data removed]",
      "text/plain": [
       "<Figure size 432x288 with 1 Axes>"
      ]
     },
     "metadata": {
      "needs_background": "light"
     },
     "output_type": "display_data"
    }
   ],
   "source": [
    "### YOUR CODE HERE ###\n",
    "serie = train['int_price']\n",
    "max_ = max(serie)\n",
    "#max_ = max(train[train['Carat Weight'] < train_99procentile]['int_Carat Weight'])\n",
    "\n",
    "plt.hist(serie, bins=10)\n",
    "plt.title(\"Гистограмма распределения стоимостей камней\")\n",
    "plt.xlabel('Цена бриллианта')\n",
    "plt.ylabel('# количество камней')\n",
    "\n",
    "bin_width = max_ / 10\n",
    "x_range = [i*bin_width for i in range(11)]\n",
    "plt.xticks(x_range)"
   ]
  },
  {
   "cell_type": "code",
   "execution_count": 278,
   "metadata": {},
   "outputs": [
    {
     "data": {
      "text/plain": [
       "Text(0.5, 1.0, 'Гистограмма распределения стоимостей камней')"
      ]
     },
     "execution_count": 278,
     "metadata": {},
     "output_type": "execute_result"
    },
    {
     "data": {
      "image/png": "[encoded data removed]",
      "text/plain": [
       "<Figure size 432x288 with 1 Axes>"
      ]
     },
     "metadata": {
      "needs_background": "light"
     },
     "output_type": "display_data"
    }
   ],
   "source": [
    "# При помощи seaborn\n",
    "import seaborn as sns\n",
    "v = train[['int_price']]\n",
    "sns.distplot(v)\n",
    "plt.title(\"Гистограмма распределения стоимостей камней\")"
   ]
  },
  {
   "cell_type": "code",
   "execution_count": 279,
   "metadata": {},
   "outputs": [
    {
     "data": {
      "text/plain": [
       "Text(0.5, 1.0, 'Гистограмма распределения стоимостей камней')"
      ]
     },
     "execution_count": 279,
     "metadata": {},
     "output_type": "execute_result"
    },
    {
     "data": {
      "image/png": "[encoded data removed]",
      "text/plain": [
       "<Figure size 432x288 with 1 Axes>"
      ]
     },
     "metadata": {
      "needs_background": "light"
     },
     "output_type": "display_data"
    }
   ],
   "source": [
    "# При помощи pandas\n",
    "v.hist(bins = 10)\n",
    "plt.title(\"Гистограмма распределения стоимостей камней\")"
   ]
  },
  {
   "cell_type": "markdown",
   "metadata": {},
   "source": [
    "Вывод: на гистограмме видно, что дешовых камней значительно больше. "
   ]
  },
  {
   "cell_type": "markdown",
   "metadata": {},
   "source": [
    "Построение модели машинного обучения"
   ]
  },
  {
   "cell_type": "code",
   "execution_count": 283,
   "metadata": {},
   "outputs": [],
   "source": [
    "test = df_new[df_new['Price'].isnull()]"
   ]
  },
  {
   "cell_type": "code",
   "execution_count": 284,
   "metadata": {},
   "outputs": [],
   "source": [
    "#train = df_new[~df_new['Price'].isnull()]"
   ]
  },
  {
   "cell_type": "code",
   "execution_count": 297,
   "metadata": {},
   "outputs": [
    {
     "name": "stdout",
     "output_type": "stream",
     "text": [
      "4497\n",
      "1500\n"
     ]
    }
   ],
   "source": [
    "print(len(train))\n",
    "print(len(test))"
   ]
  },
  {
   "cell_type": "code",
   "execution_count": 298,
   "metadata": {},
   "outputs": [],
   "source": [
    "max_carat_weight = max(test['Carat Weight'])"
   ]
  },
  {
   "cell_type": "code",
   "execution_count": 299,
   "metadata": {},
   "outputs": [],
   "source": [
    "train = train[train['Carat Weight'] <= max_carat_weight]"
   ]
  },
  {
   "cell_type": "markdown",
   "metadata": {},
   "source": [
    "Анализ и заполнение пропусков"
   ]
  },
  {
   "cell_type": "code",
   "execution_count": 300,
   "metadata": {},
   "outputs": [
    {
     "data": {
      "text/plain": [
       "4497"
      ]
     },
     "execution_count": 300,
     "metadata": {},
     "output_type": "execute_result"
    }
   ],
   "source": [
    "len(train)"
   ]
  },
  {
   "cell_type": "code",
   "execution_count": 301,
   "metadata": {},
   "outputs": [
    {
     "data": {
      "text/plain": [
       "ID                  0\n",
       "Carat Weight        0\n",
       "Clarity_cat         0\n",
       "Clarity_1           0\n",
       "Clarity_2           0\n",
       "Clarity_3           0\n",
       "Clarity_4           0\n",
       "Clarity_5           0\n",
       "Color_cat           0\n",
       "Color_1             0\n",
       "Color_2             0\n",
       "Color_3             0\n",
       "Color_4             0\n",
       "Cut_cat             0\n",
       "Cut_2               0\n",
       "Cut_3               0\n",
       "Cut_4               0\n",
       "Cut_5               0\n",
       "Cut_6               0\n",
       "Price               0\n",
       "int_price           0\n",
       "int_Carat Weight    0\n",
       "dtype: int64"
      ]
     },
     "execution_count": 301,
     "metadata": {},
     "output_type": "execute_result"
    }
   ],
   "source": [
    "train.isnull().sum()"
   ]
  },
  {
   "cell_type": "markdown",
   "metadata": {},
   "source": [
    "Вычисление кореляций"
   ]
  },
  {
   "cell_type": "code",
   "execution_count": 302,
   "metadata": {},
   "outputs": [
    {
     "data": {
      "text/plain": [
       "Index(['ID', 'Carat Weight', 'Clarity_cat', 'Clarity_1', 'Clarity_2',\n",
       "       'Clarity_3', 'Clarity_4', 'Clarity_5', 'Color_cat', 'Color_1',\n",
       "       'Color_2', 'Color_3', 'Color_4', 'Cut_cat', 'Cut_2', 'Cut_3', 'Cut_4',\n",
       "       'Cut_5', 'Cut_6', 'Price', 'int_price', 'int_Carat Weight'],\n",
       "      dtype='object')"
      ]
     },
     "execution_count": 302,
     "metadata": {},
     "output_type": "execute_result"
    }
   ],
   "source": [
    "train.columns"
   ]
  },
  {
   "cell_type": "code",
   "execution_count": 303,
   "metadata": {},
   "outputs": [
    {
     "data": {
      "text/plain": [
       "<matplotlib.axes._subplots.AxesSubplot at 0x6229b2b128>"
      ]
     },
     "execution_count": 303,
     "metadata": {},
     "output_type": "execute_result"
    },
    {
     "data": {
      "image/png": "[encoded data removed]",
      "text/plain": [
       "<Figure size 1008x864 with 2 Axes>"
      ]
     },
     "metadata": {
      "needs_background": "light"
     },
     "output_type": "display_data"
    }
   ],
   "source": [
    "correlation = train[['Clarity_cat', 'Color_cat', 'Cut_cat', 'int_Carat Weight', 'int_price']].corr()\n",
    "fig, axes = plt.subplots(figsize = (14,12))\n",
    "plt.title(\"Correlation matrix\", y=1, size=16)\n",
    "sns.heatmap(correlation, square=True, vmax=0.8, cmap=\"viridis\")"
   ]
  },
  {
   "cell_type": "code",
   "execution_count": 305,
   "metadata": {},
   "outputs": [
    {
     "name": "stdout",
     "output_type": "stream",
     "text": [
      "Correlation of Numeric Features with Target\n"
     ]
    },
    {
     "data": {
      "text/plain": [
       "int_price           1.000000\n",
       "int_Carat Weight    0.855046\n",
       "Clarity_cat         0.321129\n",
       "Cut_cat             0.122547\n",
       "Color_cat           0.111915\n",
       "Name: int_price, dtype: float64"
      ]
     },
     "execution_count": 305,
     "metadata": {},
     "output_type": "execute_result"
    }
   ],
   "source": [
    "print(\"Correlation of Numeric Features with Target\")\n",
    "correlation = train[['Clarity_cat', 'Color_cat', 'Cut_cat', 'int_Carat Weight', 'int_price']].corr()\n",
    "corr_with_target1 = abs(correlation[\"int_price\"]).sort_values(ascending = False)\n",
    "corr_with_target1"
   ]
  },
  {
   "cell_type": "markdown",
   "metadata": {},
   "source": [
    "Вывод: самая большая ЛИНЕЙНАЯ кореляция между весом и ценой.  "
   ]
  },
  {
   "cell_type": "code",
   "execution_count": 306,
   "metadata": {},
   "outputs": [],
   "source": [
    "train, valid = train_test_split(train, test_size=0.3, random_state=42)"
   ]
  },
  {
   "cell_type": "code",
   "execution_count": 307,
   "metadata": {},
   "outputs": [
    {
     "name": "stderr",
     "output_type": "stream",
     "text": [
      "C:\\ProgramData\\Anaconda3\\lib\\site-packages\\sklearn\\preprocessing\\data.py:625: DataConversionWarning: Data with input dtype object were all converted to float64 by StandardScaler.\n",
      "  return self.partial_fit(X, y)\n",
      "C:\\ProgramData\\Anaconda3\\lib\\site-packages\\sklearn\\base.py:462: DataConversionWarning: Data with input dtype object were all converted to float64 by StandardScaler.\n",
      "  return self.fit(X, **fit_params).transform(X)\n",
      "C:\\ProgramData\\Anaconda3\\lib\\site-packages\\ipykernel_launcher.py:5: DataConversionWarning: Data with input dtype object were all converted to float64 by StandardScaler.\n",
      "  \"\"\"\n",
      "C:\\ProgramData\\Anaconda3\\lib\\site-packages\\ipykernel_launcher.py:7: DataConversionWarning: Data with input dtype object were all converted to float64 by StandardScaler.\n",
      "  import sys\n",
      "C:\\ProgramData\\Anaconda3\\lib\\site-packages\\ipykernel_launcher.py:7: SettingWithCopyWarning: \n",
      "A value is trying to be set on a copy of a slice from a DataFrame.\n",
      "Try using .loc[row_indexer,col_indexer] = value instead\n",
      "\n",
      "See the caveats in the documentation: https://pandas.pydata.org/pandas-docs/stable/user_guide/indexing.html#returning-a-view-versus-a-copy\n",
      "  import sys\n"
     ]
    }
   ],
   "source": [
    "#стандартизация\n",
    "from sklearn.preprocessing import StandardScaler\n",
    "scaler = StandardScaler()\n",
    "train['Carat Weight2'] = scaler.fit_transform(train[['Carat Weight']])\n",
    "valid['Carat Weight2'] = scaler.transform(valid[['Carat Weight']])\n",
    "\n",
    "test['Carat Weight2'] = scaler.transform(test[['Carat Weight']])"
   ]
  },
  {
   "cell_type": "code",
   "execution_count": 340,
   "metadata": {},
   "outputs": [],
   "source": [
    "#набор полей для модели\n",
    "fts_one_hot_encoding = [\"Carat Weight2\", 'Clarity_1','Clarity_2','Clarity_3','Clarity_4','Clarity_5','Color_1','Color_2','Color_3','Color_4','Cut_2','Cut_3','Cut_4','Cut_5','Cut_6']\n",
    "fts_order_encoding = [\"Carat Weight2\",'Clarity_1','Color_cat','Cut_cat']\n",
    "\n",
    "\n",
    "target =  \"Price\""
   ]
  },
  {
   "cell_type": "markdown",
   "metadata": {},
   "source": [
    "масштабирование веса"
   ]
  },
  {
   "cell_type": "markdown",
   "metadata": {},
   "source": [
    "линейная регрессия"
   ]
  },
  {
   "cell_type": "code",
   "execution_count": 344,
   "metadata": {},
   "outputs": [
    {
     "name": "stdout",
     "output_type": "stream",
     "text": [
      "метрика R2 для тренировочного набора train: 0.8398862667569258\n",
      "метрика R2 для валидационного набора valid: 0.8430721182882805\n",
      "метрика MSE: 16143300.825185852\n"
     ]
    }
   ],
   "source": [
    "lr1 = linear_regression(fts_one_hot_encoding, target)"
   ]
  },
  {
   "cell_type": "code",
   "execution_count": 345,
   "metadata": {},
   "outputs": [
    {
     "data": {
      "text/plain": [
       "['Carat Weight2',\n",
       " 'Clarity_1',\n",
       " 'Clarity_2',\n",
       " 'Clarity_3',\n",
       " 'Clarity_4',\n",
       " 'Clarity_5',\n",
       " 'Color_1',\n",
       " 'Color_2',\n",
       " 'Color_3',\n",
       " 'Color_4',\n",
       " 'Cut_2',\n",
       " 'Cut_3',\n",
       " 'Cut_4',\n",
       " 'Cut_5',\n",
       " 'Cut_6']"
      ]
     },
     "execution_count": 345,
     "metadata": {},
     "output_type": "execute_result"
    }
   ],
   "source": [
    "fts_one_hot_encoding"
   ]
  },
  {
   "cell_type": "code",
   "execution_count": 346,
   "metadata": {},
   "outputs": [
    {
     "data": {
      "text/plain": [
       "array([ 8.64693735e+03,  3.45843249e+16,  2.24333064e+17, -2.38896977e+16,\n",
       "        3.71025682e+16,  2.62879962e+16,  2.49200000e+03, -5.70000000e+01,\n",
       "       -6.92000000e+02, -3.61600000e+03,  3.51042719e+16, -1.54644467e+17,\n",
       "        9.35782946e+16,  3.25860286e+16,  4.34006006e+16])"
      ]
     },
     "execution_count": 346,
     "metadata": {},
     "output_type": "execute_result"
    }
   ],
   "source": [
    "# вытаскиваем нужные коэффициенты\n",
    "lr1.coef_"
   ]
  },
  {
   "cell_type": "code",
   "execution_count": 347,
   "metadata": {},
   "outputs": [],
   "source": [
    "coef = pd.DataFrame({'параметры': fts_one_hot_encoding, 'веса': lr1.coef_}) "
   ]
  },
  {
   "cell_type": "code",
   "execution_count": 348,
   "metadata": {},
   "outputs": [
    {
     "data": {
      "text/html": [
       "<div>\n",
       "<style scoped>\n",
       "    .dataframe tbody tr th:only-of-type {\n",
       "        vertical-align: middle;\n",
       "    }\n",
       "\n",
       "    .dataframe tbody tr th {\n",
       "        vertical-align: top;\n",
       "    }\n",
       "\n",
       "    .dataframe thead th {\n",
       "        text-align: right;\n",
       "    }\n",
       "</style>\n",
       "<table border=\"1\" class=\"dataframe\">\n",
       "  <thead>\n",
       "    <tr style=\"text-align: right;\">\n",
       "      <th></th>\n",
       "      <th>параметры</th>\n",
       "      <th>веса</th>\n",
       "    </tr>\n",
       "  </thead>\n",
       "  <tbody>\n",
       "    <tr>\n",
       "      <th>0</th>\n",
       "      <td>Carat Weight2</td>\n",
       "      <td>8.646937e+03</td>\n",
       "    </tr>\n",
       "    <tr>\n",
       "      <th>1</th>\n",
       "      <td>Clarity_1</td>\n",
       "      <td>3.458432e+16</td>\n",
       "    </tr>\n",
       "    <tr>\n",
       "      <th>2</th>\n",
       "      <td>Clarity_2</td>\n",
       "      <td>2.243331e+17</td>\n",
       "    </tr>\n",
       "    <tr>\n",
       "      <th>3</th>\n",
       "      <td>Clarity_3</td>\n",
       "      <td>-2.388970e+16</td>\n",
       "    </tr>\n",
       "    <tr>\n",
       "      <th>4</th>\n",
       "      <td>Clarity_4</td>\n",
       "      <td>3.710257e+16</td>\n",
       "    </tr>\n",
       "    <tr>\n",
       "      <th>5</th>\n",
       "      <td>Clarity_5</td>\n",
       "      <td>2.628800e+16</td>\n",
       "    </tr>\n",
       "    <tr>\n",
       "      <th>6</th>\n",
       "      <td>Color_1</td>\n",
       "      <td>2.492000e+03</td>\n",
       "    </tr>\n",
       "    <tr>\n",
       "      <th>7</th>\n",
       "      <td>Color_2</td>\n",
       "      <td>-5.700000e+01</td>\n",
       "    </tr>\n",
       "    <tr>\n",
       "      <th>8</th>\n",
       "      <td>Color_3</td>\n",
       "      <td>-6.920000e+02</td>\n",
       "    </tr>\n",
       "    <tr>\n",
       "      <th>9</th>\n",
       "      <td>Color_4</td>\n",
       "      <td>-3.616000e+03</td>\n",
       "    </tr>\n",
       "    <tr>\n",
       "      <th>10</th>\n",
       "      <td>Cut_2</td>\n",
       "      <td>3.510427e+16</td>\n",
       "    </tr>\n",
       "    <tr>\n",
       "      <th>11</th>\n",
       "      <td>Cut_3</td>\n",
       "      <td>-1.546445e+17</td>\n",
       "    </tr>\n",
       "    <tr>\n",
       "      <th>12</th>\n",
       "      <td>Cut_4</td>\n",
       "      <td>9.357829e+16</td>\n",
       "    </tr>\n",
       "    <tr>\n",
       "      <th>13</th>\n",
       "      <td>Cut_5</td>\n",
       "      <td>3.258603e+16</td>\n",
       "    </tr>\n",
       "    <tr>\n",
       "      <th>14</th>\n",
       "      <td>Cut_6</td>\n",
       "      <td>4.340060e+16</td>\n",
       "    </tr>\n",
       "  </tbody>\n",
       "</table>\n",
       "</div>"
      ],
      "text/plain": [
       "        параметры          веса\n",
       "0   Carat Weight2  8.646937e+03\n",
       "1       Clarity_1  3.458432e+16\n",
       "2       Clarity_2  2.243331e+17\n",
       "3       Clarity_3 -2.388970e+16\n",
       "4       Clarity_4  3.710257e+16\n",
       "5       Clarity_5  2.628800e+16\n",
       "6         Color_1  2.492000e+03\n",
       "7         Color_2 -5.700000e+01\n",
       "8         Color_3 -6.920000e+02\n",
       "9         Color_4 -3.616000e+03\n",
       "10          Cut_2  3.510427e+16\n",
       "11          Cut_3 -1.546445e+17\n",
       "12          Cut_4  9.357829e+16\n",
       "13          Cut_5  3.258603e+16\n",
       "14          Cut_6  4.340060e+16"
      ]
     },
     "execution_count": 348,
     "metadata": {},
     "output_type": "execute_result"
    }
   ],
   "source": [
    "coef"
   ]
  },
  {
   "cell_type": "code",
   "execution_count": 351,
   "metadata": {},
   "outputs": [],
   "source": [
    "#подсчет важности каждого признака\n",
    "perm_importance1 = calculate_permutation_importance(\n",
    "    estimator=lr1, metric=r2, x_valid=valid.loc[:,fts_one_hot_encoding], y_valid=valid[target]\n",
    ")"
   ]
  },
  {
   "cell_type": "code",
   "execution_count": 352,
   "metadata": {},
   "outputs": [
    {
     "data": {
      "text/plain": [
       "Clarity_2        3.043966e+25\n",
       "Cut_4            2.307838e+25\n",
       "Cut_3            1.480953e+25\n",
       "Cut_6            8.246489e+24\n",
       "Clarity_4        6.522406e+24\n",
       "Cut_5            4.939345e+24\n",
       "Clarity_5        3.124990e+24\n",
       "Clarity_3        1.545195e+24\n",
       "Cut_2            3.549392e+22\n",
       "Clarity_1        3.445027e+22\n",
       "Carat Weight2    1.413976e+00\n",
       "Color_4          6.771986e-02\n",
       "Color_1          1.483164e-02\n",
       "Color_3          3.908267e-04\n",
       "Color_2         -5.987125e-05\n",
       "dtype: float64"
      ]
     },
     "execution_count": 352,
     "metadata": {},
     "output_type": "execute_result"
    }
   ],
   "source": [
    "perm_importance1"
   ]
  },
  {
   "cell_type": "markdown",
   "metadata": {},
   "source": [
    "KNN"
   ]
  },
  {
   "cell_type": "code",
   "execution_count": 353,
   "metadata": {},
   "outputs": [],
   "source": [
    "from sklearn.neighbors import KNeighborsRegressor as KNN"
   ]
  },
  {
   "cell_type": "code",
   "execution_count": 356,
   "metadata": {},
   "outputs": [
    {
     "name": "stdout",
     "output_type": "stream",
     "text": [
      "метрика R2 для тренировочного набора train: 0.9712765475686389\n",
      "метрика R2 для валидационного набора valid: 0.9169010061654679\n",
      "метрика MSE: 8548462.14138971\n"
     ]
    }
   ],
   "source": [
    "knn1 = knn(fts_one_hot_encoding, target)"
   ]
  },
  {
   "cell_type": "markdown",
   "metadata": {},
   "source": [
    "RandomForest - случайный лес"
   ]
  },
  {
   "cell_type": "code",
   "execution_count": 357,
   "metadata": {},
   "outputs": [],
   "source": [
    "from sklearn.ensemble import RandomForestRegressor as RF"
   ]
  },
  {
   "cell_type": "code",
   "execution_count": 361,
   "metadata": {},
   "outputs": [
    {
     "name": "stdout",
     "output_type": "stream",
     "text": [
      "max_depth=10\n",
      "0.9722151832149197\n",
      "0.923684793966361\n",
      "\n",
      "max_depth=9\n",
      "0.9702945782015205\n",
      "0.9193200368258649\n",
      "\n",
      "max_depth=8\n",
      "0.9665216051575773\n",
      "0.9155222790539959\n",
      "\n",
      "max_depth=7\n",
      "0.9579455369504601\n",
      "0.9144358738721379\n",
      "\n",
      "max_depth=6\n",
      "0.9363491325052195\n",
      "0.8858002032587347\n",
      "\n"
     ]
    }
   ],
   "source": [
    "fts = fts_one_hot_encoding\n",
    "for i in range(10,5,-1):\n",
    "    print(f'max_depth={i}')\n",
    "    rf = RF(max_depth=i, n_estimators=30, max_features=3, random_state=100)\n",
    "    rf.fit(train.loc[:,fts], train[target])\n",
    "    pred = rf.predict(train.loc[:,fts])\n",
    "    print(r2(train[target],pred))\n",
    "    pred_valid = rf.predict(valid.loc[:,fts])\n",
    "    print(r2(valid[target],pred_valid))\n",
    "    print()"
   ]
  },
  {
   "cell_type": "code",
   "execution_count": 362,
   "metadata": {},
   "outputs": [],
   "source": [
    "rf = RF(max_depth=10,n_estimators=30,max_features=3,random_state=100)"
   ]
  },
  {
   "cell_type": "code",
   "execution_count": 363,
   "metadata": {},
   "outputs": [
    {
     "data": {
      "text/plain": [
       "RandomForestRegressor(bootstrap=True, criterion='mse', max_depth=10,\n",
       "           max_features=3, max_leaf_nodes=None, min_impurity_decrease=0.0,\n",
       "           min_impurity_split=None, min_samples_leaf=1,\n",
       "           min_samples_split=2, min_weight_fraction_leaf=0.0,\n",
       "           n_estimators=30, n_jobs=None, oob_score=False, random_state=100,\n",
       "           verbose=0, warm_start=False)"
      ]
     },
     "execution_count": 363,
     "metadata": {},
     "output_type": "execute_result"
    }
   ],
   "source": [
    "rf.fit(train.loc[:,fts],train[target])"
   ]
  },
  {
   "cell_type": "code",
   "execution_count": 364,
   "metadata": {},
   "outputs": [],
   "source": [
    "pred = rf.predict(train.loc[:,fts])"
   ]
  },
  {
   "cell_type": "code",
   "execution_count": 365,
   "metadata": {},
   "outputs": [
    {
     "name": "stdout",
     "output_type": "stream",
     "text": [
      "метрика R2 для тренировочного набора train: 0.9722151832149197\n"
     ]
    }
   ],
   "source": [
    "print('метрика R2 для тренировочного набора train:', r2(train[target], pred))"
   ]
  },
  {
   "cell_type": "code",
   "execution_count": 366,
   "metadata": {},
   "outputs": [],
   "source": [
    "pred_valid = rf.predict(valid.loc[:,fts])"
   ]
  },
  {
   "cell_type": "code",
   "execution_count": 367,
   "metadata": {},
   "outputs": [
    {
     "name": "stdout",
     "output_type": "stream",
     "text": [
      "метрика R2 для валидационного набора valid:  0.923684793966361\n"
     ]
    }
   ],
   "source": [
    "print('метрика R2 для валидационного набора valid: ', r2(valid[target],pred_valid))"
   ]
  },
  {
   "cell_type": "code",
   "execution_count": 368,
   "metadata": {},
   "outputs": [
    {
     "name": "stdout",
     "output_type": "stream",
     "text": [
      "метрика MSE:  7850608.286424522\n"
     ]
    }
   ],
   "source": [
    "print('метрика MSE: ',MSE(valid[target],pred_valid))"
   ]
  },
  {
   "cell_type": "code",
   "execution_count": 369,
   "metadata": {},
   "outputs": [],
   "source": [
    "#подсчет важности каждого признака\n",
    "perm_importance1 = calculate_permutation_importance(\n",
    "    estimator=rf, metric=r2, x_valid=valid.loc[:,fts], y_valid=valid[target]\n",
    ")"
   ]
  },
  {
   "cell_type": "code",
   "execution_count": 370,
   "metadata": {},
   "outputs": [
    {
     "data": {
      "text/plain": [
       "Carat Weight2    1.502065\n",
       "Color_4          0.049946\n",
       "Color_1          0.044382\n",
       "Clarity_5        0.040068\n",
       "Cut_6            0.005173\n",
       "Cut_4            0.004791\n",
       "Clarity_3        0.004466\n",
       "Clarity_2        0.004354\n",
       "Clarity_4        0.003850\n",
       "Color_2          0.003269\n",
       "Cut_5            0.001663\n",
       "Cut_3            0.000585\n",
       "Clarity_1        0.000288\n",
       "Color_3          0.000070\n",
       "Cut_2            0.000000\n",
       "dtype: float64"
      ]
     },
     "execution_count": 370,
     "metadata": {},
     "output_type": "execute_result"
    }
   ],
   "source": [
    "perm_importance1"
   ]
  },
  {
   "cell_type": "markdown",
   "metadata": {},
   "source": [
    "Вывод: самая лучшая модель RandomForest (случайный лес). Она дает наилучшие предсказания, но является неинтерпритируемой! Из интерпритируемых моделей наилучшие предсказания дает KNN (метод ближайших соседей). Линейная регрессия (lr) дает наихудшие предсказания из всех моделей."
   ]
  },
  {
   "cell_type": "code",
   "execution_count": null,
   "metadata": {},
   "outputs": [],
   "source": []
  },
  {
   "cell_type": "code",
   "execution_count": 371,
   "metadata": {},
   "outputs": [],
   "source": [
    "test2 = df[df['Price'].isnull()]\n",
    "test_id = test2['ID']"
   ]
  },
  {
   "cell_type": "code",
   "execution_count": 372,
   "metadata": {},
   "outputs": [
    {
     "data": {
      "text/plain": [
       "ID                  0\n",
       "Carat Weight        0\n",
       "Clarity_cat         0\n",
       "Clarity_1           0\n",
       "Clarity_2           0\n",
       "Clarity_3           0\n",
       "Clarity_4           0\n",
       "Clarity_5           0\n",
       "Color_cat           0\n",
       "Color_1             0\n",
       "Color_2             0\n",
       "Color_3             0\n",
       "Color_4             0\n",
       "Cut_cat             0\n",
       "Cut_2               0\n",
       "Cut_3               0\n",
       "Cut_4               0\n",
       "Cut_5               0\n",
       "Cut_6               0\n",
       "Price            1500\n",
       "Carat Weight2       0\n",
       "dtype: int64"
      ]
     },
     "execution_count": 372,
     "metadata": {},
     "output_type": "execute_result"
    }
   ],
   "source": [
    "test.isnull().sum()"
   ]
  },
  {
   "cell_type": "code",
   "execution_count": 373,
   "metadata": {},
   "outputs": [],
   "source": [
    "test_target = rf.predict(test.loc[:,fts])"
   ]
  },
  {
   "cell_type": "code",
   "execution_count": 374,
   "metadata": {},
   "outputs": [],
   "source": [
    "y_pred = pd.DataFrame({\n",
    "    \"ID\": test_id,\n",
    "    \"Price\": test_target\n",
    "})\n",
    "y_pred.to_csv(\"./Data/rf_VZinchenko_result_pred.csv\",index=False)"
   ]
  },
  {
   "cell_type": "code",
   "execution_count": 375,
   "metadata": {},
   "outputs": [
    {
     "data": {
      "text/html": [
       "<div>\n",
       "<style scoped>\n",
       "    .dataframe tbody tr th:only-of-type {\n",
       "        vertical-align: middle;\n",
       "    }\n",
       "\n",
       "    .dataframe tbody tr th {\n",
       "        vertical-align: top;\n",
       "    }\n",
       "\n",
       "    .dataframe thead th {\n",
       "        text-align: right;\n",
       "    }\n",
       "</style>\n",
       "<table border=\"1\" class=\"dataframe\">\n",
       "  <thead>\n",
       "    <tr style=\"text-align: right;\">\n",
       "      <th></th>\n",
       "      <th>ID</th>\n",
       "      <th>Price</th>\n",
       "    </tr>\n",
       "  </thead>\n",
       "  <tbody>\n",
       "    <tr>\n",
       "      <th>4502</th>\n",
       "      <td>4501</td>\n",
       "      <td>7564.593197</td>\n",
       "    </tr>\n",
       "    <tr>\n",
       "      <th>4503</th>\n",
       "      <td>4502</td>\n",
       "      <td>9111.712870</td>\n",
       "    </tr>\n",
       "    <tr>\n",
       "      <th>4504</th>\n",
       "      <td>4503</td>\n",
       "      <td>25653.719367</td>\n",
       "    </tr>\n",
       "    <tr>\n",
       "      <th>4505</th>\n",
       "      <td>4504</td>\n",
       "      <td>3635.581209</td>\n",
       "    </tr>\n",
       "    <tr>\n",
       "      <th>4506</th>\n",
       "      <td>4505</td>\n",
       "      <td>3740.320763</td>\n",
       "    </tr>\n",
       "    <tr>\n",
       "      <th>...</th>\n",
       "      <td>...</td>\n",
       "      <td>...</td>\n",
       "    </tr>\n",
       "    <tr>\n",
       "      <th>5997</th>\n",
       "      <td>5996</td>\n",
       "      <td>5905.320805</td>\n",
       "    </tr>\n",
       "    <tr>\n",
       "      <th>5998</th>\n",
       "      <td>5997</td>\n",
       "      <td>5661.125729</td>\n",
       "    </tr>\n",
       "    <tr>\n",
       "      <th>5999</th>\n",
       "      <td>5998</td>\n",
       "      <td>5785.478515</td>\n",
       "    </tr>\n",
       "    <tr>\n",
       "      <th>6000</th>\n",
       "      <td>5999</td>\n",
       "      <td>7957.207164</td>\n",
       "    </tr>\n",
       "    <tr>\n",
       "      <th>6001</th>\n",
       "      <td>6000</td>\n",
       "      <td>33097.324044</td>\n",
       "    </tr>\n",
       "  </tbody>\n",
       "</table>\n",
       "<p>1500 rows × 2 columns</p>\n",
       "</div>"
      ],
      "text/plain": [
       "        ID         Price\n",
       "4502  4501   7564.593197\n",
       "4503  4502   9111.712870\n",
       "4504  4503  25653.719367\n",
       "4505  4504   3635.581209\n",
       "4506  4505   3740.320763\n",
       "...    ...           ...\n",
       "5997  5996   5905.320805\n",
       "5998  5997   5661.125729\n",
       "5999  5998   5785.478515\n",
       "6000  5999   7957.207164\n",
       "6001  6000  33097.324044\n",
       "\n",
       "[1500 rows x 2 columns]"
      ]
     },
     "execution_count": 375,
     "metadata": {},
     "output_type": "execute_result"
    }
   ],
   "source": [
    "y_pred"
   ]
  },
  {
   "cell_type": "code",
   "execution_count": null,
   "metadata": {},
   "outputs": [],
   "source": []
  },
  {
   "cell_type": "code",
   "execution_count": null,
   "metadata": {},
   "outputs": [],
   "source": []
  }
 ],
 "metadata": {
  "kernelspec": {
   "display_name": "Python 3",
   "language": "python",
   "name": "python3"
  },
  "language_info": {
   "codemirror_mode": {
    "name": "ipython",
    "version": 3
   },
   "file_extension": ".py",
   "mimetype": "text/x-python",
   "name": "python",
   "nbconvert_exporter": "python",
   "pygments_lexer": "ipython3",
   "version": "3.7.1"
  }
 },
 "nbformat": 4,
 "nbformat_minor": 2
}
