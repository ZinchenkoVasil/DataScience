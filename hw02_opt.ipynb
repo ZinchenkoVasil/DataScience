{
 "cells": [
  {
   "cell_type": "markdown",
   "metadata": {},
   "source": [
    "1.) Задача о рюкзаке"
   ]
  },
  {
   "cell_type": "markdown",
   "metadata": {},
   "source": [
    "Опраделяем вектор покупок BUY = [buy1,buy2..buyN], где N=2000 "
   ]
  },
  {
   "cell_type": "markdown",
   "metadata": {},
   "source": [
    "BUY - бинарный вектор из 0 и 1 (0 - не купил, 1 - купил)"
   ]
  },
  {
   "cell_type": "markdown",
   "metadata": {},
   "source": [
    "Определяем вектор весов W = [w1,w2..wN]"
   ]
  },
  {
   "cell_type": "markdown",
   "metadata": {},
   "source": [
    "Определяем вектор цен СOST = [с1,с2..сN]"
   ]
  },
  {
   "cell_type": "markdown",
   "metadata": {},
   "source": [
    "Граничное условие векторное произведение dot(BUY,W) <= 200"
   ]
  },
  {
   "cell_type": "markdown",
   "metadata": {},
   "source": [
    "ЦФ - максимизация общей стоимости покупок (что характерно скорее для вора, чем для сотрудника)\n",
    "TF = dot(BUY, COST) - max"
   ]
  },
  {
   "cell_type": "markdown",
   "metadata": {},
   "source": [
    "ЦФ - наибольший ассортимент товара (максимальное кол-во \"1\")\n",
    "TF = sum(BUY) - max"
   ]
  },
  {
   "cell_type": "markdown",
   "metadata": {},
   "source": [
    "Я видел как задачу вора решали методом генетического алгоритма:\n",
    "\n",
    "    1) мутации и размножение различных мутировавших вариантов вектора BUY (нашего генома)\n",
    "    \n",
    "    2) естественный отбор - отсеивание вариантов, неподходящих по граничному условию\n",
    "    \n",
    "    3) половой отбор - выбор пары самых лучших вариантов по ЦФ\n",
    "    \n",
    "    4) скрещивание выбранной пары\n",
    "    \n",
    "    5) возвращение к пункту 1 и зацикливание шагов алгоритма пока не придем к приемлемым значениям ЦФ\n",
    "    "
   ]
  },
  {
   "cell_type": "markdown",
   "metadata": {},
   "source": [
    "Генетический алгоритм применим когда надо быстренько чего-то оптимизировать и совсем оптимальное решение не нужно. Доказано, что стадия скрещивания необязательна, но генетики убеждены и свято верят в необходимость скрещивания."
   ]
  },
  {
   "cell_type": "markdown",
   "metadata": {},
   "source": [
    "2 Задача"
   ]
  },
  {
   "cell_type": "markdown",
   "metadata": {},
   "source": [
    "ЦФ = 12000*n1 + 7000*n2, где n1 - количество лодок n2 - покрышки"
   ]
  },
  {
   "cell_type": "markdown",
   "metadata": {},
   "source": [
    "Применям к задаче метод Лагранжа и получаем следующую с-му уравнений:"
   ]
  },
  {
   "cell_type": "code",
   "execution_count": null,
   "metadata": {},
   "outputs": [],
   "source": [
    "6*n1 + 2*n2 = 14\n",
    "3*n1 + 4*n2 = 10"
   ]
  },
  {
   "cell_type": "markdown",
   "metadata": {},
   "source": [
    "Граничные условия:"
   ]
  },
  {
   "cell_type": "markdown",
   "metadata": {},
   "source": [
    "n1 >= 0\n",
    "\n",
    "n2 >= 0\n",
    "\n",
    "2*n1 <= 8\n",
    "\n",
    "n1, n2 - целые"
   ]
  },
  {
   "cell_type": "markdown",
   "metadata": {},
   "source": [
    "Решаем с-му уравнений:"
   ]
  },
  {
   "cell_type": "markdown",
   "metadata": {},
   "source": [
    "n2 = (14 - 6*n1)/2\n",
    "\n",
    "n2 = (10 - 3*n1)/4"
   ]
  },
  {
   "cell_type": "code",
   "execution_count": 4,
   "metadata": {},
   "outputs": [],
   "source": [
    "n1 = 2\n",
    "n2 = 1"
   ]
  },
  {
   "cell_type": "markdown",
   "metadata": {},
   "source": [
    "Соотвественно значение ЦФ:"
   ]
  },
  {
   "cell_type": "code",
   "execution_count": 5,
   "metadata": {},
   "outputs": [
    {
     "data": {
      "text/plain": [
       "31000"
      ]
     },
     "execution_count": 5,
     "metadata": {},
     "output_type": "execute_result"
    }
   ],
   "source": [
    "TF = 12000*n1 + 7000*n2\n",
    "TF"
   ]
  },
  {
   "cell_type": "markdown",
   "metadata": {},
   "source": [
    "В данном случае у нас все удачно сложилось, цифры четко подогнаны. В общем случае решения могло не быть (2 параллельные прямые) или решение могло не совпасть с граничными условиями  "
   ]
  },
  {
   "cell_type": "markdown",
   "metadata": {},
   "source": [
    "В общем случае надо учесть что n1 и n2 - только ГОТОВЫЕ изделия и решать следующие 2 с-мы уравнений и потом выбирать лучшее по ЦФ решение в зависимости от того какой участок является \"узким местом\".\n",
    "    "
   ]
  },
  {
   "cell_type": "code",
   "execution_count": 6,
   "metadata": {},
   "outputs": [
    {
     "ename": "SyntaxError",
     "evalue": "can't assign to operator (<ipython-input-6-57d38d9c8b18>, line 2)",
     "output_type": "error",
     "traceback": [
      "\u001b[1;36m  File \u001b[1;32m\"<ipython-input-6-57d38d9c8b18>\"\u001b[1;36m, line \u001b[1;32m2\u001b[0m\n\u001b[1;33m    3*n1 + 4*n2 = 10\u001b[0m\n\u001b[1;37m                    ^\u001b[0m\n\u001b[1;31mSyntaxError\u001b[0m\u001b[1;31m:\u001b[0m can't assign to operator\n"
     ]
    }
   ],
   "source": [
    "6*n1 + 2*n2 <= 14\n",
    "3*n1 + 4*n2 = 10"
   ]
  },
  {
   "cell_type": "code",
   "execution_count": null,
   "metadata": {},
   "outputs": [],
   "source": [
    "6*n1 + 2*n2 = 14\n",
    "3*n1 + 4*n2 <= 10"
   ]
  },
  {
   "cell_type": "markdown",
   "metadata": {},
   "source": [
    "Я попытался графически решить и построил графики обеих функций. Получилось 2 пересекающиеся линии и сначала область внизу первой линии заштриховал и потом - второй. Решении лучше частного не нашел.  "
   ]
  },
  {
   "cell_type": "code",
   "execution_count": 8,
   "metadata": {},
   "outputs": [],
   "source": [
    "%matplotlib inline\n",
    "import numpy as np\n",
    "import matplotlib.pyplot as plt"
   ]
  },
  {
   "cell_type": "code",
   "execution_count": 16,
   "metadata": {},
   "outputs": [],
   "source": [
    "x = np.linspace(0,3,121)"
   ]
  },
  {
   "cell_type": "code",
   "execution_count": 17,
   "metadata": {},
   "outputs": [
    {
     "data": {
      "text/plain": [
       "<matplotlib.legend.Legend at 0x2f0a76ada0>"
      ]
     },
     "execution_count": 17,
     "metadata": {},
     "output_type": "execute_result"
    },
    {
     "data": {
      "image/png": "[encoded data removed]",
      "text/plain": [
       "<Figure size 432x288 with 1 Axes>"
      ]
     },
     "metadata": {
      "needs_background": "light"
     },
     "output_type": "display_data"
    }
   ],
   "source": [
    "plt.plot(x, (14 - 6*x)/2, label='заготовительный участок')\n",
    "plt.plot(x, (10 - 3*x)/4, label='участок обработки')\n",
    "plt.legend()"
   ]
  },
  {
   "cell_type": "code",
   "execution_count": null,
   "metadata": {},
   "outputs": [],
   "source": []
  }
 ],
 "metadata": {
  "kernelspec": {
   "display_name": "Python 3",
   "language": "python",
   "name": "python3"
  },
  "language_info": {
   "codemirror_mode": {
    "name": "ipython",
    "version": 3
   },
   "file_extension": ".py",
   "mimetype": "text/x-python",
   "name": "python",
   "nbconvert_exporter": "python",
   "pygments_lexer": "ipython3",
   "version": "3.7.1"
  }
 },
 "nbformat": 4,
 "nbformat_minor": 2
}
