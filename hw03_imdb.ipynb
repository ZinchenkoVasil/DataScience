{
  "nbformat": 4,
  "nbformat_minor": 0,
  "metadata": {
    "colab": {
      "name": "Untitled1.ipynb",
      "provenance": []
    },
    "kernelspec": {
      "name": "python3",
      "display_name": "Python 3"
    }
  },
  "cells": [
    {
      "cell_type": "code",
      "metadata": {
        "id": "Ydzg6joX-l9Y",
        "colab_type": "code",
        "colab": {}
      },
      "source": [
        "import numpy as np\n",
        "import pandas as pd\n",
        "\n",
        "from keras.datasets import imdb"
      ],
      "execution_count": 0,
      "outputs": []
    },
    {
      "cell_type": "code",
      "metadata": {
        "id": "Bu0mHTZHCab5",
        "colab_type": "code",
        "colab": {}
      },
      "source": [
        "def vectorize_sequences(sequences, dimension=10000):\n",
        "    # all zero matrix of shape (len(sequences), dimension)\n",
        "    result = np.zeros((len(sequences), dimension))\n",
        "    for i,sequence in enumerate(sequences):\n",
        "        result[i, sequence] = 1\n",
        "    return result\n"
      ],
      "execution_count": 0,
      "outputs": []
    },
    {
      "cell_type": "code",
      "metadata": {
        "id": "s6gdY0PSChIv",
        "colab_type": "code",
        "colab": {}
      },
      "source": [
        "(train_data, train_labels), (test_data, test_labels) = imdb.load_data(num_words=10000)\n",
        "x_train = vectorize_sequences(train_data)\n",
        "x_test = vectorize_sequences(test_data)\n",
        "\n",
        "y_train = np.asarray(train_labels).astype('float32')\n",
        "y_test = np.asarray(test_labels).astype('float32')\n"
      ],
      "execution_count": 0,
      "outputs": []
    },
    {
      "cell_type": "code",
      "metadata": {
        "id": "FjgaWH1nDjSQ",
        "colab_type": "code",
        "colab": {}
      },
      "source": [
        "from keras import models\n",
        "from keras import layers\n"
      ],
      "execution_count": 0,
      "outputs": []
    },
    {
      "cell_type": "code",
      "metadata": {
        "id": "8oBS4RHzDnea",
        "colab_type": "code",
        "colab": {}
      },
      "source": [
        "model  = models.Sequential()\n",
        "\n",
        "model.add(layers.Dense(4, activation='relu', input_shape=(10000,)))\n",
        "model.add(layers.Dense(4, activation='relu'))\n",
        "model.add(layers.Dense(1, activation='sigmoid'))\n"
      ],
      "execution_count": 0,
      "outputs": []
    },
    {
      "cell_type": "code",
      "metadata": {
        "id": "ZrXOgRigD1jV",
        "colab_type": "code",
        "colab": {}
      },
      "source": [
        "x_val = x_train[:10000]\n",
        "partial_x_train = x_train[10000:]\n",
        "\n",
        "y_val = y_train[:10000]\n",
        "partial_y_train = y_train[10000:]\n"
      ],
      "execution_count": 0,
      "outputs": []
    },
    {
      "cell_type": "code",
      "metadata": {
        "id": "Wc9VKTCYD9I5",
        "colab_type": "code",
        "colab": {}
      },
      "source": [
        "model.compile(optimizer='rmsprop',\n",
        "             loss='binary_crossentropy',\n",
        "             metrics=['acc'])\n"
      ],
      "execution_count": 0,
      "outputs": []
    },
    {
      "cell_type": "code",
      "metadata": {
        "id": "rwLCFdR1ECfE",
        "colab_type": "code",
        "colab": {
          "base_uri": "https://localhost:8080/",
          "height": 714
        },
        "outputId": "7324cb94-fce1-46e3-dd63-5300576bf890"
      },
      "source": [
        "history = model.fit(partial_x_train,\n",
        "                    partial_y_train,\n",
        "                    epochs=20,\n",
        "                    batch_size=512,\n",
        "                    validation_data=(x_val,y_val))\n"
      ],
      "execution_count": 24,
      "outputs": [
        {
          "output_type": "stream",
          "text": [
            "Train on 15000 samples, validate on 10000 samples\n",
            "Epoch 1/20\n",
            "15000/15000 [==============================] - 2s 103us/step - loss: 0.2000 - acc: 0.9933 - val_loss: 0.6442 - val_acc: 0.8528\n",
            "Epoch 2/20\n",
            "15000/15000 [==============================] - 2s 101us/step - loss: 0.1940 - acc: 0.9938 - val_loss: 0.6330 - val_acc: 0.8549\n",
            "Epoch 3/20\n",
            "15000/15000 [==============================] - 1s 97us/step - loss: 0.1892 - acc: 0.9938 - val_loss: 0.6934 - val_acc: 0.8511\n",
            "Epoch 4/20\n",
            "15000/15000 [==============================] - 1s 98us/step - loss: 0.1842 - acc: 0.9939 - val_loss: 0.7114 - val_acc: 0.8510\n",
            "Epoch 5/20\n",
            "15000/15000 [==============================] - 2s 100us/step - loss: 0.1793 - acc: 0.9941 - val_loss: 0.7487 - val_acc: 0.8490\n",
            "Epoch 6/20\n",
            "15000/15000 [==============================] - 2s 100us/step - loss: 0.1749 - acc: 0.9942 - val_loss: 0.7488 - val_acc: 0.8495\n",
            "Epoch 7/20\n",
            "15000/15000 [==============================] - 2s 101us/step - loss: 0.1706 - acc: 0.9941 - val_loss: 0.7782 - val_acc: 0.8483\n",
            "Epoch 8/20\n",
            "15000/15000 [==============================] - 2s 101us/step - loss: 0.1662 - acc: 0.9941 - val_loss: 0.7651 - val_acc: 0.8509\n",
            "Epoch 9/20\n",
            "15000/15000 [==============================] - 1s 100us/step - loss: 0.1621 - acc: 0.9943 - val_loss: 0.8277 - val_acc: 0.8471\n",
            "Epoch 10/20\n",
            "15000/15000 [==============================] - 1s 99us/step - loss: 0.1580 - acc: 0.9944 - val_loss: 0.7589 - val_acc: 0.8518\n",
            "Epoch 11/20\n",
            "15000/15000 [==============================] - 2s 101us/step - loss: 0.1545 - acc: 0.9943 - val_loss: 0.7922 - val_acc: 0.8507\n",
            "Epoch 12/20\n",
            "15000/15000 [==============================] - 2s 102us/step - loss: 0.1505 - acc: 0.9944 - val_loss: 0.8574 - val_acc: 0.8477\n",
            "Epoch 13/20\n",
            "15000/15000 [==============================] - 2s 102us/step - loss: 0.1473 - acc: 0.9942 - val_loss: 0.8414 - val_acc: 0.8483\n",
            "Epoch 14/20\n",
            "15000/15000 [==============================] - 2s 100us/step - loss: 0.1435 - acc: 0.9943 - val_loss: 0.7747 - val_acc: 0.8496\n",
            "Epoch 15/20\n",
            "15000/15000 [==============================] - 1s 99us/step - loss: 0.1400 - acc: 0.9944 - val_loss: 0.8405 - val_acc: 0.8489\n",
            "Epoch 16/20\n",
            "15000/15000 [==============================] - 1s 98us/step - loss: 0.1369 - acc: 0.9943 - val_loss: 0.9031 - val_acc: 0.8468\n",
            "Epoch 17/20\n",
            "15000/15000 [==============================] - 1s 97us/step - loss: 0.1335 - acc: 0.9945 - val_loss: 0.9039 - val_acc: 0.8449\n",
            "Epoch 18/20\n",
            "15000/15000 [==============================] - 1s 97us/step - loss: 0.1304 - acc: 0.9944 - val_loss: 0.9146 - val_acc: 0.8454\n",
            "Epoch 19/20\n",
            "15000/15000 [==============================] - 1s 100us/step - loss: 0.1274 - acc: 0.9945 - val_loss: 0.8962 - val_acc: 0.8446\n",
            "Epoch 20/20\n",
            "15000/15000 [==============================] - 1s 99us/step - loss: 0.1244 - acc: 0.9945 - val_loss: 0.9471 - val_acc: 0.8442\n"
          ],
          "name": "stdout"
        }
      ]
    },
    {
      "cell_type": "code",
      "metadata": {
        "id": "qZXgcscGe-Kb",
        "colab_type": "code",
        "colab": {
          "base_uri": "https://localhost:8080/",
          "height": 34
        },
        "outputId": "443066d8-856d-482e-f915-298675419831"
      },
      "source": [
        "history_dict = history.history \n",
        "history_dict.keys()"
      ],
      "execution_count": 33,
      "outputs": [
        {
          "output_type": "execute_result",
          "data": {
            "text/plain": [
              "dict_keys(['val_loss', 'val_acc', 'loss', 'acc'])"
            ]
          },
          "metadata": {
            "tags": []
          },
          "execution_count": 33
        }
      ]
    },
    {
      "cell_type": "code",
      "metadata": {
        "id": "xtfwrrzPfxs0",
        "colab_type": "code",
        "colab": {
          "base_uri": "https://localhost:8080/",
          "height": 295
        },
        "outputId": "4d549837-5fcb-4105-a3e6-4824e3174705"
      },
      "source": [
        "import matplotlib.pyplot as plt\n",
        "loss_values = history_dict['loss']\n",
        "val_loss_values = history_dict['val_loss']\n",
        "\n",
        "epochs = range(1, 21)\n",
        "plt.plot(epochs, loss_values, 'bo', label = 'Training loss')\n",
        "plt.plot(epochs, val_loss_values, 'b', label = 'Validation loss')\n",
        "plt.title('Training and validation loss')\n",
        "plt.xlabel('Epochs')\n",
        "plt.xlabel('Loss')\n",
        "plt.legend()\n",
        "\n",
        "plt.show()"
      ],
      "execution_count": 36,
      "outputs": [
        {
          "output_type": "display_data",
          "data": {
            "image/png": "[encoded data removed]",
            "text/plain": [
              "<Figure size 432x288 with 1 Axes>"
            ]
          },
          "metadata": {
            "tags": []
          }
        }
      ]
    },
    {
      "cell_type": "code",
      "metadata": {
        "id": "gxGhx0NJjYTw",
        "colab_type": "code",
        "colab": {
          "base_uri": "https://localhost:8080/",
          "height": 295
        },
        "outputId": "32215524-152b-4225-acd5-9cdda97e27eb"
      },
      "source": [
        "plt.clf()\n",
        "acc_values = history_dict['acc']\n",
        "val_acc_values = history_dict['val_acc']\n",
        "\n",
        "plt.plot(epochs, acc_values, 'bo', label = 'Training acc')\n",
        "plt.plot(epochs, val_acc_values, 'b', label = 'Validation acc')\n",
        "plt.title('Training and validation accuracy')\n",
        "plt.xlabel('Epochs')\n",
        "plt.xlabel('Accuracy')\n",
        "plt.legend()\n",
        "\n",
        "plt.show()"
      ],
      "execution_count": 41,
      "outputs": [
        {
          "output_type": "display_data",
          "data": {
            "image/png": "[encoded data removed]",
            "text/plain": [
              "<Figure size 432x288 with 1 Axes>"
            ]
          },
          "metadata": {
            "tags": []
          }
        }
      ]
    },
    {
      "cell_type": "markdown",
      "metadata": {
        "id": "JGHwwykZnd3_",
        "colab_type": "text"
      },
      "source": [
        "из графиков видно, что сеть достигает максимума точности на 2 эпохах и дальше переобучение. "
      ]
    },
    {
      "cell_type": "code",
      "metadata": {
        "id": "dP4brvN_oECr",
        "colab_type": "code",
        "colab": {
          "base_uri": "https://localhost:8080/",
          "height": 102
        },
        "outputId": "22262d56-6ab6-4cae-d289-d813df86c000"
      },
      "source": [
        "history = model.fit(partial_x_train,\n",
        "                    partial_y_train,\n",
        "                    epochs=2,\n",
        "                    batch_size=512,\n",
        "                    validation_data=(x_val,y_val))\n"
      ],
      "execution_count": 45,
      "outputs": [
        {
          "output_type": "stream",
          "text": [
            "Train on 15000 samples, validate on 10000 samples\n",
            "Epoch 1/2\n",
            "15000/15000 [==============================] - 2s 146us/step - loss: 0.1213 - acc: 0.9944 - val_loss: 0.9386 - val_acc: 0.8437\n",
            "Epoch 2/2\n",
            "15000/15000 [==============================] - 1s 98us/step - loss: 0.1185 - acc: 0.9944 - val_loss: 0.9652 - val_acc: 0.8419\n"
          ],
          "name": "stdout"
        }
      ]
    },
    {
      "cell_type": "code",
      "metadata": {
        "id": "Hqb0jpenEHkY",
        "colab_type": "code",
        "colab": {
          "base_uri": "https://localhost:8080/",
          "height": 51
        },
        "outputId": "7d3e7340-e6ec-41ff-fade-860502a7e04f"
      },
      "source": [
        "results = model.evaluate(x_test, y_test)\n",
        "print(results)"
      ],
      "execution_count": 46,
      "outputs": [
        {
          "output_type": "stream",
          "text": [
            "25000/25000 [==============================] - 2s 81us/step\n",
            "[0.9468460977935791, 0.83532]\n"
          ],
          "name": "stdout"
        }
      ]
    },
    {
      "cell_type": "code",
      "metadata": {
        "id": "gR_LEVt6MeQV",
        "colab_type": "code",
        "colab": {
          "base_uri": "https://localhost:8080/",
          "height": 102
        },
        "outputId": "cc2b46af-6169-4c79-8bbf-83d9e530869f"
      },
      "source": [
        "predictions = model.predict(x_test[:5])\n",
        "print(predictions)\n"
      ],
      "execution_count": 47,
      "outputs": [
        {
          "output_type": "stream",
          "text": [
            "[[0.19090512]\n",
            " [1.        ]\n",
            " [1.        ]\n",
            " [0.9999502 ]\n",
            " [0.99999857]]\n"
          ],
          "name": "stdout"
        }
      ]
    },
    {
      "cell_type": "code",
      "metadata": {
        "id": "1VsLDn9UMmfX",
        "colab_type": "code",
        "colab": {
          "base_uri": "https://localhost:8080/",
          "height": 34
        },
        "outputId": "50270e23-cb68-4a3d-cea4-ca17edeb269f"
      },
      "source": [
        "print(y_test[:5])"
      ],
      "execution_count": 56,
      "outputs": [
        {
          "output_type": "stream",
          "text": [
            "[0. 1. 1. 0. 1.]\n"
          ],
          "name": "stdout"
        }
      ]
    },
    {
      "cell_type": "code",
      "metadata": {
        "id": "YRa0o2N-0Ijv",
        "colab_type": "code",
        "colab": {}
      },
      "source": [
        "from keras import Input, layers\n",
        "from keras.models import Model\n",
        "\n",
        "input1 = Input(shape=(10000,))\n",
        "x1 = layers.Dense(16, activation='relu')(input1)\n",
        "x1 = layers.Dense(1, activation='sigmoid')(x1)\n",
        "model11 = Model(inputs=input1,outputs=x1)\n",
        "\n",
        "x2 = layers.Dense(32, activation='relu')(input1)\n",
        "x2 = layers.Dense(1, activation='sigmoid')(x2)\n",
        "model22 = Model(inputs=input1,outputs=x2)\n",
        "\n",
        "x3 = layers.Dense(4, activation='relu')(input1)\n",
        "x3 = layers.Dense(4, activation='relu')(x3)\n",
        "x3 = layers.Dense(1, activation='sigmoid')(x3)\n",
        "model33 = Model(inputs=input1,outputs=x3)\n",
        "\n",
        "out_all = layers.Average()([model11.output,model22.output,model33.output])\n",
        "model_all=models.Model(inputs =[input1],outputs =out_all)"
      ],
      "execution_count": 0,
      "outputs": []
    },
    {
      "cell_type": "code",
      "metadata": {
        "id": "Av7--O7LEyqe",
        "colab_type": "code",
        "colab": {}
      },
      "source": [
        "model_all.compile(optimizer='rmsprop',\n",
        "             loss='binary_crossentropy',\n",
        "             metrics=['acc'])\n"
      ],
      "execution_count": 0,
      "outputs": []
    },
    {
      "cell_type": "code",
      "metadata": {
        "id": "9lGFkdJpE5sg",
        "colab_type": "code",
        "colab": {
          "base_uri": "https://localhost:8080/",
          "height": 714
        },
        "outputId": "a1d5c75b-b23c-4d45-8fb0-b9b758093765"
      },
      "source": [
        "history = model_all.fit(partial_x_train,\n",
        "                    partial_y_train,\n",
        "                    epochs=20,\n",
        "                    batch_size=512,\n",
        "                    validation_data=(x_val,y_val))\n"
      ],
      "execution_count": 66,
      "outputs": [
        {
          "output_type": "stream",
          "text": [
            "Train on 15000 samples, validate on 10000 samples\n",
            "Epoch 1/20\n",
            "15000/15000 [==============================] - 4s 293us/step - loss: 0.5080 - acc: 0.8047 - val_loss: 0.4051 - val_acc: 0.8753\n",
            "Epoch 2/20\n",
            "15000/15000 [==============================] - 3s 180us/step - loss: 0.3414 - acc: 0.9041 - val_loss: 0.3529 - val_acc: 0.8790\n",
            "Epoch 3/20\n",
            "15000/15000 [==============================] - 3s 181us/step - loss: 0.2736 - acc: 0.9249 - val_loss: 0.3188 - val_acc: 0.8818\n",
            "Epoch 4/20\n",
            "15000/15000 [==============================] - 3s 181us/step - loss: 0.2256 - acc: 0.9383 - val_loss: 0.2972 - val_acc: 0.8854\n",
            "Epoch 5/20\n",
            "15000/15000 [==============================] - 3s 184us/step - loss: 0.1884 - acc: 0.9505 - val_loss: 0.2845 - val_acc: 0.8863\n",
            "Epoch 6/20\n",
            "15000/15000 [==============================] - 3s 180us/step - loss: 0.1605 - acc: 0.9573 - val_loss: 0.2771 - val_acc: 0.8873\n",
            "Epoch 7/20\n",
            "15000/15000 [==============================] - 3s 182us/step - loss: 0.1379 - acc: 0.9631 - val_loss: 0.2769 - val_acc: 0.8890\n",
            "Epoch 8/20\n",
            "15000/15000 [==============================] - 3s 183us/step - loss: 0.1194 - acc: 0.9704 - val_loss: 0.2796 - val_acc: 0.8870\n",
            "Epoch 9/20\n",
            "15000/15000 [==============================] - 3s 184us/step - loss: 0.1056 - acc: 0.9739 - val_loss: 0.2991 - val_acc: 0.8854\n",
            "Epoch 10/20\n",
            "15000/15000 [==============================] - 3s 182us/step - loss: 0.0923 - acc: 0.9779 - val_loss: 0.2943 - val_acc: 0.8841\n",
            "Epoch 11/20\n",
            "15000/15000 [==============================] - 3s 181us/step - loss: 0.0819 - acc: 0.9799 - val_loss: 0.3174 - val_acc: 0.8835\n",
            "Epoch 12/20\n",
            "15000/15000 [==============================] - 3s 184us/step - loss: 0.0720 - acc: 0.9845 - val_loss: 0.3334 - val_acc: 0.8741\n",
            "Epoch 13/20\n",
            "15000/15000 [==============================] - 3s 181us/step - loss: 0.0637 - acc: 0.9862 - val_loss: 0.3254 - val_acc: 0.8803\n",
            "Epoch 14/20\n",
            "15000/15000 [==============================] - 3s 181us/step - loss: 0.0562 - acc: 0.9879 - val_loss: 0.3462 - val_acc: 0.8760\n",
            "Epoch 15/20\n",
            "15000/15000 [==============================] - 3s 181us/step - loss: 0.0494 - acc: 0.9905 - val_loss: 0.3542 - val_acc: 0.8793\n",
            "Epoch 16/20\n",
            "15000/15000 [==============================] - 3s 184us/step - loss: 0.0437 - acc: 0.9909 - val_loss: 0.3712 - val_acc: 0.8778\n",
            "Epoch 17/20\n",
            "15000/15000 [==============================] - 3s 181us/step - loss: 0.0381 - acc: 0.9921 - val_loss: 0.3854 - val_acc: 0.8764\n",
            "Epoch 18/20\n",
            "15000/15000 [==============================] - 3s 180us/step - loss: 0.0343 - acc: 0.9932 - val_loss: 0.3989 - val_acc: 0.8752\n",
            "Epoch 19/20\n",
            "15000/15000 [==============================] - 3s 182us/step - loss: 0.0300 - acc: 0.9943 - val_loss: 0.4112 - val_acc: 0.8725\n",
            "Epoch 20/20\n",
            "15000/15000 [==============================] - 3s 187us/step - loss: 0.0264 - acc: 0.9943 - val_loss: 0.4294 - val_acc: 0.8724\n"
          ],
          "name": "stdout"
        }
      ]
    },
    {
      "cell_type": "code",
      "metadata": {
        "id": "FCUOfSwhGnEl",
        "colab_type": "code",
        "colab": {
          "base_uri": "https://localhost:8080/",
          "height": 295
        },
        "outputId": "4bc247fc-a9b4-4cf8-ef9d-64210d2ea810"
      },
      "source": [
        "import matplotlib.pyplot as plt\n",
        "loss_values = history_dict['loss']\n",
        "val_loss_values = history_dict['val_loss']\n",
        "\n",
        "epochs = range(1, 21)\n",
        "plt.plot(epochs, loss_values, 'bo', label = 'Training loss')\n",
        "plt.plot(epochs, val_loss_values, 'b', label = 'Validation loss')\n",
        "plt.title('Training and validation loss')\n",
        "plt.xlabel('Epochs')\n",
        "plt.xlabel('Loss')\n",
        "plt.legend()\n",
        "\n",
        "plt.show()"
      ],
      "execution_count": 67,
      "outputs": [
        {
          "output_type": "display_data",
          "data": {
            "image/png": "[encoded data removed]",
            "text/plain": [
              "<Figure size 432x288 with 1 Axes>"
            ]
          },
          "metadata": {
            "tags": []
          }
        }
      ]
    },
    {
      "cell_type": "code",
      "metadata": {
        "id": "PAd3o69jHEWe",
        "colab_type": "code",
        "colab": {
          "base_uri": "https://localhost:8080/",
          "height": 102
        },
        "outputId": "0c6d6870-534f-470d-9105-6c5466c0cf1d"
      },
      "source": [
        "history = model_all.fit(partial_x_train,\n",
        "                    partial_y_train,\n",
        "                    epochs=2,\n",
        "                    batch_size=512,\n",
        "                    validation_data=(x_val,y_val))\n"
      ],
      "execution_count": 68,
      "outputs": [
        {
          "output_type": "stream",
          "text": [
            "Train on 15000 samples, validate on 10000 samples\n",
            "Epoch 1/2\n",
            "15000/15000 [==============================] - 3s 202us/step - loss: 0.0237 - acc: 0.9953 - val_loss: 0.4477 - val_acc: 0.8720\n",
            "Epoch 2/2\n",
            "15000/15000 [==============================] - 3s 181us/step - loss: 0.0209 - acc: 0.9957 - val_loss: 0.4691 - val_acc: 0.8692\n"
          ],
          "name": "stdout"
        }
      ]
    },
    {
      "cell_type": "code",
      "metadata": {
        "id": "JmaLC6PDHm3K",
        "colab_type": "code",
        "colab": {
          "base_uri": "https://localhost:8080/",
          "height": 51
        },
        "outputId": "84386693-daa0-4c6b-c251-16f94f11ccda"
      },
      "source": [
        "results = model_all.evaluate(x_test, y_test)\n",
        "print(results)"
      ],
      "execution_count": 70,
      "outputs": [
        {
          "output_type": "stream",
          "text": [
            "25000/25000 [==============================] - 2s 95us/step\n",
            "[0.5189081978869439, 0.85504]\n"
          ],
          "name": "stdout"
        }
      ]
    },
    {
      "cell_type": "code",
      "metadata": {
        "id": "dotfq6DeI0Yz",
        "colab_type": "code",
        "colab": {
          "base_uri": "https://localhost:8080/",
          "height": 102
        },
        "outputId": "8863fd13-fe77-4f05-eca6-77cf75c6176b"
      },
      "source": [
        "predictions = model_all.predict(x_test[:5])\n",
        "print(predictions)\n"
      ],
      "execution_count": 71,
      "outputs": [
        {
          "output_type": "stream",
          "text": [
            "[[0.01990864]\n",
            " [0.9999994 ]\n",
            " [0.94372225]\n",
            " [0.88123417]\n",
            " [0.9797732 ]]\n"
          ],
          "name": "stdout"
        }
      ]
    },
    {
      "cell_type": "code",
      "metadata": {
        "id": "wNEoV1TlI_Zf",
        "colab_type": "code",
        "colab": {
          "base_uri": "https://localhost:8080/",
          "height": 34
        },
        "outputId": "1cf6ef38-9b56-412c-9232-05d8a063e7f2"
      },
      "source": [
        "print(y_test[:5])"
      ],
      "execution_count": 72,
      "outputs": [
        {
          "output_type": "stream",
          "text": [
            "[0. 1. 1. 0. 1.]\n"
          ],
          "name": "stdout"
        }
      ]
    }
  ]
}