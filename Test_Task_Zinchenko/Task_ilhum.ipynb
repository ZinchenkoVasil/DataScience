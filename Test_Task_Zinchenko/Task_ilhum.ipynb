{
  "nbformat": 4,
  "nbformat_minor": 0,
  "metadata": {
    "accelerator": "GPU",
    "colab": {
      "name": "Task2_1 (2).ipynb",
      "provenance": [],
      "collapsed_sections": []
    },
    "kernelspec": {
      "display_name": "Python 3",
      "language": "python",
      "name": "python3"
    },
    "language_info": {
      "codemirror_mode": {
        "name": "ipython",
        "version": 3
      },
      "file_extension": ".py",
      "mimetype": "text/x-python",
      "name": "python",
      "nbconvert_exporter": "python",
      "pygments_lexer": "ipython3",
      "version": "3.7.1"
    }
  },
  "cells": [
    {
      "cell_type": "code",
      "metadata": {
        "colab": {
          "base_uri": "https://localhost:8080/"
        },
        "id": "9qtoju5-uVGu",
        "outputId": "d02426a1-64ab-47de-bce7-4e710bb1952a"
      },
      "source": [
        "!pip install pymorphy2"
      ],
      "execution_count": 1,
      "outputs": [
        {
          "output_type": "stream",
          "text": [
            "Collecting pymorphy2\n",
            "\u001b[?25l  Downloading https://files.pythonhosted.org/packages/07/57/b2ff2fae3376d4f3c697b9886b64a54b476e1a332c67eee9f88e7f1ae8c9/pymorphy2-0.9.1-py3-none-any.whl (55kB)\n",
            "\r\u001b[K     |██████                          | 10kB 22.5MB/s eta 0:00:01\r\u001b[K     |███████████▉                    | 20kB 27.8MB/s eta 0:00:01\r\u001b[K     |█████████████████▊              | 30kB 31.0MB/s eta 0:00:01\r\u001b[K     |███████████████████████▋        | 40kB 34.3MB/s eta 0:00:01\r\u001b[K     |█████████████████████████████▌  | 51kB 36.8MB/s eta 0:00:01\r\u001b[K     |████████████████████████████████| 61kB 9.2MB/s \n",
            "\u001b[?25hCollecting dawg-python>=0.7.1\n",
            "  Downloading https://files.pythonhosted.org/packages/6a/84/ff1ce2071d4c650ec85745766c0047ccc3b5036f1d03559fd46bb38b5eeb/DAWG_Python-0.7.2-py2.py3-none-any.whl\n",
            "Requirement already satisfied: docopt>=0.6 in /usr/local/lib/python3.7/dist-packages (from pymorphy2) (0.6.2)\n",
            "Collecting pymorphy2-dicts-ru<3.0,>=2.4\n",
            "\u001b[?25l  Downloading https://files.pythonhosted.org/packages/3a/79/bea0021eeb7eeefde22ef9e96badf174068a2dd20264b9a378f2be1cdd9e/pymorphy2_dicts_ru-2.4.417127.4579844-py2.py3-none-any.whl (8.2MB)\n",
            "\u001b[K     |████████████████████████████████| 8.2MB 33.5MB/s \n",
            "\u001b[?25hInstalling collected packages: dawg-python, pymorphy2-dicts-ru, pymorphy2\n",
            "Successfully installed dawg-python-0.7.2 pymorphy2-0.9.1 pymorphy2-dicts-ru-2.4.417127.4579844\n"
          ],
          "name": "stdout"
        }
      ]
    },
    {
      "cell_type": "code",
      "metadata": {
        "colab": {
          "base_uri": "https://localhost:8080/"
        },
        "id": "NqGxga3M178i",
        "outputId": "30eb7acc-2072-4b6b-f205-931878c6caf3"
      },
      "source": [
        "!pip install stop_words"
      ],
      "execution_count": 2,
      "outputs": [
        {
          "output_type": "stream",
          "text": [
            "Collecting stop_words\n",
            "  Downloading https://files.pythonhosted.org/packages/1c/cb/d58290804b7a4c5daa42abbbe2a93c477ae53e45541b1825e86f0dfaaf63/stop-words-2018.7.23.tar.gz\n",
            "Building wheels for collected packages: stop-words\n",
            "  Building wheel for stop-words (setup.py) ... \u001b[?25l\u001b[?25hdone\n",
            "  Created wheel for stop-words: filename=stop_words-2018.7.23-cp37-none-any.whl size=32917 sha256=61c51f9361ebcbac6dbcfb876587937121ea6dda82fc5a5505a830103191ff6d\n",
            "  Stored in directory: /root/.cache/pip/wheels/75/37/6a/2b295e03bd07290f0da95c3adb9a74ba95fbc333aa8b0c7c78\n",
            "Successfully built stop-words\n",
            "Installing collected packages: stop-words\n",
            "Successfully installed stop-words-2018.7.23\n"
          ],
          "name": "stdout"
        }
      ]
    },
    {
      "cell_type": "code",
      "metadata": {
        "id": "__Hf8pqH1mW3"
      },
      "source": [
        "import re\n",
        "import string\n",
        "import pandas as pd\n",
        "import pymorphy2\n",
        "from stop_words import get_stop_words \n",
        "import numpy as np"
      ],
      "execution_count": 3,
      "outputs": []
    },
    {
      "cell_type": "code",
      "metadata": {
        "id": "VI5OjOvquVG2"
      },
      "source": [
        "df = pd.read_csv('sample_data/Размеченная Таблица 1.csv')"
      ],
      "execution_count": 4,
      "outputs": []
    },
    {
      "cell_type": "code",
      "metadata": {
        "colab": {
          "base_uri": "https://localhost:8080/",
          "height": 359
        },
        "id": "tqwpMaR0uVG3",
        "outputId": "a20ecaac-4849-4e88-8440-f16606897728"
      },
      "source": [
        "df['company_name'].head(10).reset_index()"
      ],
      "execution_count": 5,
      "outputs": [
        {
          "output_type": "execute_result",
          "data": {
            "text/html": [
              "<div>\n",
              "<style scoped>\n",
              "    .dataframe tbody tr th:only-of-type {\n",
              "        vertical-align: middle;\n",
              "    }\n",
              "\n",
              "    .dataframe tbody tr th {\n",
              "        vertical-align: top;\n",
              "    }\n",
              "\n",
              "    .dataframe thead th {\n",
              "        text-align: right;\n",
              "    }\n",
              "</style>\n",
              "<table border=\"1\" class=\"dataframe\">\n",
              "  <thead>\n",
              "    <tr style=\"text-align: right;\">\n",
              "      <th></th>\n",
              "      <th>index</th>\n",
              "      <th>company_name</th>\n",
              "    </tr>\n",
              "  </thead>\n",
              "  <tbody>\n",
              "    <tr>\n",
              "      <th>0</th>\n",
              "      <td>0</td>\n",
              "      <td>ОБЩЕСТВО С ОГРАНИЧЕННОЙ ОТВЕТСТВЕННОСТЬЮ \"СОВР...</td>\n",
              "    </tr>\n",
              "    <tr>\n",
              "      <th>1</th>\n",
              "      <td>1</td>\n",
              "      <td>ООО ЮГРА СПЕЦАВТОМАТИКА</td>\n",
              "    </tr>\n",
              "    <tr>\n",
              "      <th>2</th>\n",
              "      <td>2</td>\n",
              "      <td>ХАНТЫ-МАНСИЙСКАЯ ОКРУЖНАЯ ОБЩЕСТВЕННАЯ ОРГАНИЗ...</td>\n",
              "    </tr>\n",
              "    <tr>\n",
              "      <th>3</th>\n",
              "      <td>3</td>\n",
              "      <td>ООО \"СЛАВИЯПЛЮС\"</td>\n",
              "    </tr>\n",
              "    <tr>\n",
              "      <th>4</th>\n",
              "      <td>4</td>\n",
              "      <td>ООО КОМПАНИЯ КРАСКИ</td>\n",
              "    </tr>\n",
              "    <tr>\n",
              "      <th>5</th>\n",
              "      <td>5</td>\n",
              "      <td>ОБЩЕСТВО С ОГРАНИЧЕННОЙ ОТВЕТСТВЕННОСТЬЮ \"ВОСТОК\"</td>\n",
              "    </tr>\n",
              "    <tr>\n",
              "      <th>6</th>\n",
              "      <td>6</td>\n",
              "      <td>ООО \"ГАЗКОНТИНЕНТАЛЬ\"</td>\n",
              "    </tr>\n",
              "    <tr>\n",
              "      <th>7</th>\n",
              "      <td>7</td>\n",
              "      <td>ОБЩЕСТВО С ОГРАНИЧЕННОЙ ОТВЕТСТВЕННОСТЬЮ \"ЮЖНЫ...</td>\n",
              "    </tr>\n",
              "    <tr>\n",
              "      <th>8</th>\n",
              "      <td>8</td>\n",
              "      <td>ООО УК КОМПРОМИСС</td>\n",
              "    </tr>\n",
              "    <tr>\n",
              "      <th>9</th>\n",
              "      <td>9</td>\n",
              "      <td>ООО \"ВОЛГА-ВОЛГА ПЛЮС\"</td>\n",
              "    </tr>\n",
              "  </tbody>\n",
              "</table>\n",
              "</div>"
            ],
            "text/plain": [
              "   index                                       company_name\n",
              "0      0  ОБЩЕСТВО С ОГРАНИЧЕННОЙ ОТВЕТСТВЕННОСТЬЮ \"СОВР...\n",
              "1      1                            ООО ЮГРА СПЕЦАВТОМАТИКА\n",
              "2      2  ХАНТЫ-МАНСИЙСКАЯ ОКРУЖНАЯ ОБЩЕСТВЕННАЯ ОРГАНИЗ...\n",
              "3      3                                   ООО \"СЛАВИЯПЛЮС\"\n",
              "4      4                                ООО КОМПАНИЯ КРАСКИ\n",
              "5      5  ОБЩЕСТВО С ОГРАНИЧЕННОЙ ОТВЕТСТВЕННОСТЬЮ \"ВОСТОК\"\n",
              "6      6                              ООО \"ГАЗКОНТИНЕНТАЛЬ\"\n",
              "7      7  ОБЩЕСТВО С ОГРАНИЧЕННОЙ ОТВЕТСТВЕННОСТЬЮ \"ЮЖНЫ...\n",
              "8      8                                  ООО УК КОМПРОМИСС\n",
              "9      9                             ООО \"ВОЛГА-ВОЛГА ПЛЮС\""
            ]
          },
          "metadata": {
            "tags": []
          },
          "execution_count": 5
        }
      ]
    },
    {
      "cell_type": "code",
      "metadata": {
        "colab": {
          "base_uri": "https://localhost:8080/"
        },
        "id": "JImqtzal5tC_",
        "outputId": "70bb8c7b-2e44-44f2-a69b-d3eb790b27cc"
      },
      "source": [
        "len(df)"
      ],
      "execution_count": 6,
      "outputs": [
        {
          "output_type": "execute_result",
          "data": {
            "text/plain": [
              "100"
            ]
          },
          "metadata": {
            "tags": []
          },
          "execution_count": 6
        }
      ]
    },
    {
      "cell_type": "markdown",
      "metadata": {
        "id": "hv1U3TyvuVG4"
      },
      "source": [
        "Обработка данных"
      ]
    },
    {
      "cell_type": "code",
      "metadata": {
        "colab": {
          "base_uri": "https://localhost:8080/"
        },
        "id": "uKOaHXUguVG4",
        "outputId": "e49b4c72-d5db-4de6-af2a-bb628c436ef8"
      },
      "source": [
        "len(df['company_id'].unique())"
      ],
      "execution_count": 7,
      "outputs": [
        {
          "output_type": "execute_result",
          "data": {
            "text/plain": [
              "96"
            ]
          },
          "metadata": {
            "tags": []
          },
          "execution_count": 7
        }
      ]
    },
    {
      "cell_type": "code",
      "metadata": {
        "id": "Rj2ySOKkuVG5"
      },
      "source": [
        "df2 = pd.read_csv('sample_data/Размеченная Таблица 2.csv')  "
      ],
      "execution_count": 8,
      "outputs": []
    },
    {
      "cell_type": "code",
      "metadata": {
        "colab": {
          "base_uri": "https://localhost:8080/"
        },
        "id": "IM2tQK-17g6F",
        "outputId": "041e0ba3-f4d6-472e-bf61-731b70ffa9c3"
      },
      "source": [
        "len(labels)"
      ],
      "execution_count": 10,
      "outputs": [
        {
          "output_type": "execute_result",
          "data": {
            "text/plain": [
              "100"
            ]
          },
          "metadata": {
            "tags": []
          },
          "execution_count": 10
        }
      ]
    },
    {
      "cell_type": "code",
      "metadata": {
        "id": "Sui9eUfbuVG6"
      },
      "source": [
        "sw = set(get_stop_words(\"ru\"))\n",
        "stpwrds = list(sw) + list(string.punctuation)"
      ],
      "execution_count": 11,
      "outputs": []
    },
    {
      "cell_type": "code",
      "metadata": {
        "id": "SqMMYenzuVG6"
      },
      "source": [
        "morph = pymorphy2.MorphAnalyzer()"
      ],
      "execution_count": 12,
      "outputs": []
    },
    {
      "cell_type": "code",
      "metadata": {
        "colab": {
          "base_uri": "https://localhost:8080/"
        },
        "id": "ee88sXNauVG7",
        "outputId": "574ff5c3-8eab-4470-f6b8-41bab87b70ec"
      },
      "source": [
        "corpus = []\n",
        "# регулярка для поиска слов\n",
        "regular_expr = r'\\w+'\n",
        "reg_expr_compiled = re.compile(regular_expr)\n",
        "\n",
        "for raw_text in df['company_name'].values:\n",
        "    # приводим к нижнему регистру\n",
        "    # разбиваем текст на слова\n",
        "    text_by_words = reg_expr_compiled.findall(raw_text)\n",
        "    raw_text = [i for i in text_by_words if i not in stpwrds]\n",
        "    raw_text_lower = [morph.parse(i.lower())[0].normal_form for i in raw_text]\n",
        "    corpus.append(\" \".join([i for i in raw_text_lower]))\n",
        "print(corpus[1])"
      ],
      "execution_count": 13,
      "outputs": [
        {
          "output_type": "stream",
          "text": [
            "ооо югра спецавтоматика\n"
          ],
          "name": "stdout"
        }
      ]
    },
    {
      "cell_type": "code",
      "metadata": {
        "colab": {
          "base_uri": "https://localhost:8080/"
        },
        "id": "IIczAclLuVG7",
        "outputId": "2265806a-bad6-4f6a-d9ed-97fdf2efafff"
      },
      "source": [
        "texts = corpus\n",
        "len(texts)"
      ],
      "execution_count": 14,
      "outputs": [
        {
          "output_type": "execute_result",
          "data": {
            "text/plain": [
              "100"
            ]
          },
          "metadata": {
            "tags": []
          },
          "execution_count": 14
        }
      ]
    },
    {
      "cell_type": "code",
      "metadata": {
        "colab": {
          "base_uri": "https://localhost:8080/",
          "height": 779
        },
        "id": "ZYdADv-mL1u0",
        "outputId": "f63b932c-147a-4059-91e1-2ed645a24541"
      },
      "source": [
        "#обработка: надо внести новое поле - порядковый номер строки в таблице 2. Потом соединить (merge) Table1 и Table2 по Id. Дальше использовать это новое поле Number_str_Table2 в качестве целевой переменной \n",
        "#вычисление target label (выходных меток для обучения)\n",
        "#96 классов\n",
        "df2['number_str_table2'] = df2.index\n",
        "df2\n",
        "#labels = np.array(df['company_id'])"
      ],
      "execution_count": 34,
      "outputs": [
        {
          "output_type": "execute_result",
          "data": {
            "text/html": [
              "<div>\n",
              "<style scoped>\n",
              "    .dataframe tbody tr th:only-of-type {\n",
              "        vertical-align: middle;\n",
              "    }\n",
              "\n",
              "    .dataframe tbody tr th {\n",
              "        vertical-align: top;\n",
              "    }\n",
              "\n",
              "    .dataframe thead th {\n",
              "        text-align: right;\n",
              "    }\n",
              "</style>\n",
              "<table border=\"1\" class=\"dataframe\">\n",
              "  <thead>\n",
              "    <tr style=\"text-align: right;\">\n",
              "      <th></th>\n",
              "      <th>id</th>\n",
              "      <th>full_name</th>\n",
              "      <th>short_name</th>\n",
              "      <th>firm_name</th>\n",
              "      <th>en_name</th>\n",
              "      <th>register_date</th>\n",
              "      <th>incorporation_form</th>\n",
              "      <th>unparsed</th>\n",
              "      <th>number_str_table2</th>\n",
              "    </tr>\n",
              "  </thead>\n",
              "  <tbody>\n",
              "    <tr>\n",
              "      <th>0</th>\n",
              "      <td>119652</td>\n",
              "      <td>\"ПРОМИНСТРАХ\"</td>\n",
              "      <td>\"ПРОМИНСТРАХ\"</td>\n",
              "      <td>NaN</td>\n",
              "      <td>NaN</td>\n",
              "      <td>2000-09-12</td>\n",
              "      <td>Общество с ограниченной ответственностью</td>\n",
              "      <td>115114,ГОРОД МОСКВА,,,,ПРОЕЗД 2-Й ПАВЕЛЕЦКИЙ,Д...</td>\n",
              "      <td>0</td>\n",
              "    </tr>\n",
              "    <tr>\n",
              "      <th>1</th>\n",
              "      <td>682935</td>\n",
              "      <td>\"ТУТТА\"</td>\n",
              "      <td>\"ТУТТА\"</td>\n",
              "      <td>NaN</td>\n",
              "      <td>NaN</td>\n",
              "      <td>2012-08-22</td>\n",
              "      <td>Общество с ограниченной ответственностью</td>\n",
              "      <td>119049,ГОРОД МОСКВА,,,,УЛИЦА ДОНСКАЯ,ДОМ 13,,П...</td>\n",
              "      <td>1</td>\n",
              "    </tr>\n",
              "    <tr>\n",
              "      <th>2</th>\n",
              "      <td>1204136</td>\n",
              "      <td>\"ЗЕЛЕНЫЕ ВЕРШИНЫ\"</td>\n",
              "      <td>\"ЗЕЛЕНЫЕ ВЕРШИНЫ\"</td>\n",
              "      <td>NaN</td>\n",
              "      <td>NaN</td>\n",
              "      <td>2006-06-20</td>\n",
              "      <td>Общество с ограниченной ответственностью</td>\n",
              "      <td>295000,РЕСПУБЛИКА КРЫМ,,ГОРОД СИМФЕРОПОЛЬ,,УЛИ...</td>\n",
              "      <td>2</td>\n",
              "    </tr>\n",
              "    <tr>\n",
              "      <th>3</th>\n",
              "      <td>1691699</td>\n",
              "      <td>\"ОБЪЕДИНЕННАЯ ЭНЕРГЕТИЧЕСКАЯ КОМПАНИЯ\"</td>\n",
              "      <td>\"ОЭК\"</td>\n",
              "      <td>NaN</td>\n",
              "      <td>NaN</td>\n",
              "      <td>2005-03-09</td>\n",
              "      <td>Акционерное общество</td>\n",
              "      <td>115035,ГОРОД МОСКВА,,,,НАБЕРЕЖНАЯ РАУШСКАЯ,8,,</td>\n",
              "      <td>3</td>\n",
              "    </tr>\n",
              "    <tr>\n",
              "      <th>4</th>\n",
              "      <td>1752333</td>\n",
              "      <td>\"АТОМЭНЕРГОСБЫТ\"</td>\n",
              "      <td>\"АТОМЭНЕРГОСБЫТ\"</td>\n",
              "      <td>NaN</td>\n",
              "      <td>NaN</td>\n",
              "      <td>2001-07-13</td>\n",
              "      <td>Акционерное общество</td>\n",
              "      <td>115432,ГОРОД МОСКВА,,,,ПРОЕЗД ПРОЕКТИРУЕМЫЙ 40...</td>\n",
              "      <td>4</td>\n",
              "    </tr>\n",
              "    <tr>\n",
              "      <th>...</th>\n",
              "      <td>...</td>\n",
              "      <td>...</td>\n",
              "      <td>...</td>\n",
              "      <td>...</td>\n",
              "      <td>...</td>\n",
              "      <td>...</td>\n",
              "      <td>...</td>\n",
              "      <td>...</td>\n",
              "      <td>...</td>\n",
              "    </tr>\n",
              "    <tr>\n",
              "      <th>91</th>\n",
              "      <td>14366175</td>\n",
              "      <td>\"МЕРКУРИЙ\"</td>\n",
              "      <td>\"МЕРКУРИЙ\"</td>\n",
              "      <td>NaN</td>\n",
              "      <td>NaN</td>\n",
              "      <td>2018-11-02</td>\n",
              "      <td>Общество с ограниченной ответственностью</td>\n",
              "      <td>390020,ОБЛАСТЬ РЯЗАНСКАЯ,,ГОРОД РЯЗАНЬ,,ПРОЕЗД...</td>\n",
              "      <td>91</td>\n",
              "    </tr>\n",
              "    <tr>\n",
              "      <th>92</th>\n",
              "      <td>14375559</td>\n",
              "      <td>\"ЛИОН\"</td>\n",
              "      <td>\"ЛИОН\"</td>\n",
              "      <td>NaN</td>\n",
              "      <td>NaN</td>\n",
              "      <td>2018-11-14</td>\n",
              "      <td>Общество с ограниченной ответственностью</td>\n",
              "      <td>119049,ГОРОД МОСКВА,,,,УЛИЦА МЫТНАЯ,ДОМ 28,СТР...</td>\n",
              "      <td>92</td>\n",
              "    </tr>\n",
              "    <tr>\n",
              "      <th>93</th>\n",
              "      <td>14387369</td>\n",
              "      <td>\"КАРБЕРУ.РУ\"</td>\n",
              "      <td>\"КАРБЕРУ.РУ\"</td>\n",
              "      <td>NaN</td>\n",
              "      <td>NaN</td>\n",
              "      <td>2018-11-22</td>\n",
              "      <td>Общество с ограниченной ответственностью</td>\n",
              "      <td>295053,РЕСПУБЛИКА КРЫМ,,ГОРОД СИМФЕРОПОЛЬ,,УЛИ...</td>\n",
              "      <td>93</td>\n",
              "    </tr>\n",
              "    <tr>\n",
              "      <th>94</th>\n",
              "      <td>14583831</td>\n",
              "      <td>\"ТРАНСПОРТНАЯ КОМПАНИЯ ЮГРАСПЕЦТРАНС\"</td>\n",
              "      <td>\"ТРАНСПОРТНАЯ КОМПАНИЯ ЮГРАСПЕЦТРАНС\"</td>\n",
              "      <td>NaN</td>\n",
              "      <td>NaN</td>\n",
              "      <td>2019-06-26</td>\n",
              "      <td>Общество с ограниченной ответственностью</td>\n",
              "      <td>628007,АВТОНОМНЫЙ ОКРУГ ХАНТЫ-МАНСИЙСКИЙ АВТОН...</td>\n",
              "      <td>94</td>\n",
              "    </tr>\n",
              "    <tr>\n",
              "      <th>95</th>\n",
              "      <td>14721392</td>\n",
              "      <td>\"ВОЛГА-ВОЛГА ПЛЮС\"</td>\n",
              "      <td>\"ВОЛГА-ВОЛГА ПЛЮС\"</td>\n",
              "      <td>NaN</td>\n",
              "      <td>NaN</td>\n",
              "      <td>2019-12-17</td>\n",
              "      <td>Общество с ограниченной ответственностью</td>\n",
              "      <td>295051,РЕСПУБЛИКА КРЫМ,,ГОРОД СИМФЕРОПОЛЬ,,УЛИ...</td>\n",
              "      <td>95</td>\n",
              "    </tr>\n",
              "  </tbody>\n",
              "</table>\n",
              "<p>96 rows × 9 columns</p>\n",
              "</div>"
            ],
            "text/plain": [
              "          id  ... number_str_table2\n",
              "0     119652  ...                 0\n",
              "1     682935  ...                 1\n",
              "2    1204136  ...                 2\n",
              "3    1691699  ...                 3\n",
              "4    1752333  ...                 4\n",
              "..       ...  ...               ...\n",
              "91  14366175  ...                91\n",
              "92  14375559  ...                92\n",
              "93  14387369  ...                93\n",
              "94  14583831  ...                94\n",
              "95  14721392  ...                95\n",
              "\n",
              "[96 rows x 9 columns]"
            ]
          },
          "metadata": {
            "tags": []
          },
          "execution_count": 34
        }
      ]
    },
    {
      "cell_type": "code",
      "metadata": {
        "id": "ZBfuXFnuQwu4"
      },
      "source": [
        "df = df.merge(df2, left_on=\"company_id\", right_on=\"id\")"
      ],
      "execution_count": 37,
      "outputs": []
    },
    {
      "cell_type": "code",
      "metadata": {
        "colab": {
          "base_uri": "https://localhost:8080/"
        },
        "id": "qlRu8eZNVW18",
        "outputId": "21d2a0bd-2919-4295-e2b7-f00f077e63a1"
      },
      "source": [
        "len(df)"
      ],
      "execution_count": 58,
      "outputs": [
        {
          "output_type": "execute_result",
          "data": {
            "text/plain": [
              "100"
            ]
          },
          "metadata": {
            "tags": []
          },
          "execution_count": 58
        }
      ]
    },
    {
      "cell_type": "code",
      "metadata": {
        "colab": {
          "base_uri": "https://localhost:8080/",
          "height": 462
        },
        "id": "_1rCpS6eRXo1",
        "outputId": "5e64c378-38b5-4262-9dc9-1a85837a410d"
      },
      "source": [
        "df.head()"
      ],
      "execution_count": 38,
      "outputs": [
        {
          "output_type": "execute_result",
          "data": {
            "text/html": [
              "<div>\n",
              "<style scoped>\n",
              "    .dataframe tbody tr th:only-of-type {\n",
              "        vertical-align: middle;\n",
              "    }\n",
              "\n",
              "    .dataframe tbody tr th {\n",
              "        vertical-align: top;\n",
              "    }\n",
              "\n",
              "    .dataframe thead th {\n",
              "        text-align: right;\n",
              "    }\n",
              "</style>\n",
              "<table border=\"1\" class=\"dataframe\">\n",
              "  <thead>\n",
              "    <tr style=\"text-align: right;\">\n",
              "      <th></th>\n",
              "      <th>company_id</th>\n",
              "      <th>company_name</th>\n",
              "      <th>address</th>\n",
              "      <th>id</th>\n",
              "      <th>full_name</th>\n",
              "      <th>short_name</th>\n",
              "      <th>firm_name</th>\n",
              "      <th>en_name</th>\n",
              "      <th>register_date</th>\n",
              "      <th>incorporation_form</th>\n",
              "      <th>unparsed</th>\n",
              "      <th>number_str_table2</th>\n",
              "    </tr>\n",
              "  </thead>\n",
              "  <tbody>\n",
              "    <tr>\n",
              "      <th>0</th>\n",
              "      <td>9514030</td>\n",
              "      <td>ОБЩЕСТВО С ОГРАНИЧЕННОЙ ОТВЕТСТВЕННОСТЬЮ \"СОВР...</td>\n",
              "      <td>628011, ХАНТЫ-МАНСИЙСК Г, ЛЕНИНА УЛ,106, 1</td>\n",
              "      <td>9514030</td>\n",
              "      <td>\"СОВРЕМЕННЫЕ СИСТЕМЫ БЕЗОПАСНОСТИ - ЮГРА\"</td>\n",
              "      <td>\"ССБ-ЮГРА\"</td>\n",
              "      <td>NaN</td>\n",
              "      <td>NaN</td>\n",
              "      <td>2014-08-12</td>\n",
              "      <td>Общество с ограниченной ответственностью</td>\n",
              "      <td>628007,АВТОНОМНЫЙ ОКРУГ ХАНТЫ-МАНСИЙСКИЙ АВТОН...</td>\n",
              "      <td>30</td>\n",
              "    </tr>\n",
              "    <tr>\n",
              "      <th>1</th>\n",
              "      <td>13530883</td>\n",
              "      <td>ООО ЮГРА СПЕЦАВТОМАТИКА</td>\n",
              "      <td>628007,86, ХАНТЫ-МАНСИЙСК, ПАТРИСА ЛУМУМБЫ, 78</td>\n",
              "      <td>13530883</td>\n",
              "      <td>\"ЮГРА СПЕЦАВТОМАТИКА\"</td>\n",
              "      <td>\"ЮГРА СПЕЦАВТОМАТИКА\"</td>\n",
              "      <td>NaN</td>\n",
              "      <td>NaN</td>\n",
              "      <td>2016-11-28</td>\n",
              "      <td>Общество с ограниченной ответственностью</td>\n",
              "      <td>628007,АВТОНОМНЫЙ ОКРУГ ХАНТЫ-МАНСИЙСКИЙ АВТОН...</td>\n",
              "      <td>74</td>\n",
              "    </tr>\n",
              "    <tr>\n",
              "      <th>2</th>\n",
              "      <td>4936728</td>\n",
              "      <td>ХАНТЫ-МАНСИЙСКАЯ ОКРУЖНАЯ ОБЩЕСТВЕННАЯ ОРГАНИЗ...</td>\n",
              "      <td>РОССИЯ,628007, ХАНТЫ-МАНСИЙСК Г, МИРА УЛ,59</td>\n",
              "      <td>4936728</td>\n",
              "      <td>ХАНТЫ-МАНСИЙСКАЯ ОКРУЖНАЯ ОБЩЕСТВЕННАЯ ОРГАНИЗ...</td>\n",
              "      <td>ХМОО РСМ</td>\n",
              "      <td>NaN</td>\n",
              "      <td>NaN</td>\n",
              "      <td>2010-05-07</td>\n",
              "      <td>NaN</td>\n",
              "      <td>628007,АВТОНОМНЫЙ ОКРУГ ХАНТЫ-МАНСИЙСКИЙ АВТОН...</td>\n",
              "      <td>21</td>\n",
              "    </tr>\n",
              "    <tr>\n",
              "      <th>3</th>\n",
              "      <td>9552692</td>\n",
              "      <td>ООО \"СЛАВИЯПЛЮС\"</td>\n",
              "      <td>РОССИЯ,298186,КРЫМ РЕСП, ФЕОДОСИЯ Г,КОКТЕБЕЛЬ ...</td>\n",
              "      <td>9552692</td>\n",
              "      <td>\"СЛАВИЯПЛЮС\"</td>\n",
              "      <td>\"СЛАВИЯПЛЮС\"</td>\n",
              "      <td>NaN</td>\n",
              "      <td>NaN</td>\n",
              "      <td>2014-10-08</td>\n",
              "      <td>Общество с ограниченной ответственностью</td>\n",
              "      <td>298186,РЕСПУБЛИКА КРЫМ,,ГОРОД ФЕОДОСИЯ,ПОСЕЛОК...</td>\n",
              "      <td>43</td>\n",
              "    </tr>\n",
              "    <tr>\n",
              "      <th>4</th>\n",
              "      <td>9835155</td>\n",
              "      <td>ООО КОМПАНИЯ КРАСКИ</td>\n",
              "      <td>295015,91, СИМФЕРОПОЛЬ Г, СЕВАСТОПОЛЬСКАЯ УЛ,2...</td>\n",
              "      <td>9835155</td>\n",
              "      <td>\"КОМПАНИЯ \"КРАСКИ\"</td>\n",
              "      <td>\"КОМПАНИЯ \"КРАСКИ\"</td>\n",
              "      <td>NaN</td>\n",
              "      <td>NaN</td>\n",
              "      <td>2003-02-24</td>\n",
              "      <td>Общество с ограниченной ответственностью</td>\n",
              "      <td>295024,РЕСПУБЛИКА КРЫМ,,ГОРОД СИМФЕРОПОЛЬ,,УЛИ...</td>\n",
              "      <td>52</td>\n",
              "    </tr>\n",
              "  </tbody>\n",
              "</table>\n",
              "</div>"
            ],
            "text/plain": [
              "   company_id  ... number_str_table2\n",
              "0     9514030  ...                30\n",
              "1    13530883  ...                74\n",
              "2     4936728  ...                21\n",
              "3     9552692  ...                43\n",
              "4     9835155  ...                52\n",
              "\n",
              "[5 rows x 12 columns]"
            ]
          },
          "metadata": {
            "tags": []
          },
          "execution_count": 38
        }
      ]
    },
    {
      "cell_type": "code",
      "metadata": {
        "colab": {
          "base_uri": "https://localhost:8080/"
        },
        "id": "ejy-Guf_Rkt-",
        "outputId": "1a933e44-9d5d-4886-f377-b7e8fc0634c2"
      },
      "source": [
        "labels = np.array(df['number_str_table2'])\n",
        "len(labels)"
      ],
      "execution_count": 59,
      "outputs": [
        {
          "output_type": "execute_result",
          "data": {
            "text/plain": [
              "100"
            ]
          },
          "metadata": {
            "tags": []
          },
          "execution_count": 59
        }
      ]
    },
    {
      "cell_type": "markdown",
      "metadata": {
        "id": "1AhQ5GRVuVG7"
      },
      "source": [
        "Конструирование нейронной сети"
      ]
    },
    {
      "cell_type": "code",
      "metadata": {
        "id": "Ku_HGa72uVG8"
      },
      "source": [
        "from keras.preprocessing.text import Tokenizer\n",
        "from keras.preprocessing.sequence import pad_sequences\n",
        "from keras.utils.np_utils import to_categorical "
      ],
      "execution_count": 40,
      "outputs": []
    },
    {
      "cell_type": "code",
      "metadata": {
        "id": "hXFPL6DvuVG8"
      },
      "source": [
        "maxlen = 100\n",
        "training_samples = 70\n",
        "validation_samples = 30\n",
        "max_words = 5000\n",
        "drop_embed = 0.2\n",
        "n_conv = 256\n",
        "k_conv = 3 "
      ],
      "execution_count": 41,
      "outputs": []
    },
    {
      "cell_type": "code",
      "metadata": {
        "id": "tpVA-TN6uVG8"
      },
      "source": [
        "tokenizer = Tokenizer(num_words=5000)\n",
        "tokenizer.fit_on_texts(texts)\n",
        "sequences = tokenizer.texts_to_sequences(texts)"
      ],
      "execution_count": 42,
      "outputs": []
    },
    {
      "cell_type": "code",
      "metadata": {
        "colab": {
          "base_uri": "https://localhost:8080/"
        },
        "id": "81vW_nyeuVG9",
        "outputId": "db441bc6-22eb-4d49-f5df-800fefe76fbc"
      },
      "source": [
        "word_index = tokenizer.word_index\n",
        "print('Found %s unique tokens.' % len(word_index))"
      ],
      "execution_count": 43,
      "outputs": [
        {
          "output_type": "stream",
          "text": [
            "Found 210 unique tokens.\n"
          ],
          "name": "stdout"
        }
      ]
    },
    {
      "cell_type": "code",
      "metadata": {
        "id": "_lWSLQAeuVG9"
      },
      "source": [
        "data = pad_sequences(sequences, maxlen=maxlen)"
      ],
      "execution_count": 44,
      "outputs": []
    },
    {
      "cell_type": "code",
      "metadata": {
        "colab": {
          "base_uri": "https://localhost:8080/"
        },
        "id": "OX4rb5FRuVG9",
        "outputId": "50c69843-74a4-4670-ae7b-52a385fc9782"
      },
      "source": [
        "labels = np.asarray(labels)\n",
        "print('Shape of data tensor:', data.shape)\n",
        "print('Shape of label tensor:', labels.shape)"
      ],
      "execution_count": 45,
      "outputs": [
        {
          "output_type": "stream",
          "text": [
            "Shape of data tensor: (100, 100)\n",
            "Shape of label tensor: (100,)\n"
          ],
          "name": "stdout"
        }
      ]
    },
    {
      "cell_type": "code",
      "metadata": {
        "id": "bAjP9J7euVG9"
      },
      "source": [
        "indices = np.arange(data.shape[0])\n",
        "np.random.shuffle(indices)\n",
        "data = data[indices]\n",
        "labels = labels[indices]"
      ],
      "execution_count": 46,
      "outputs": []
    },
    {
      "cell_type": "code",
      "metadata": {
        "id": "ZeoZn6RwuVG-"
      },
      "source": [
        "x_train = data[:training_samples]\n",
        "y_train = labels[:training_samples]\n",
        "x_val = data[training_samples: training_samples + validation_samples]\n",
        "y_val = labels[training_samples: training_samples + validation_samples]"
      ],
      "execution_count": 70,
      "outputs": []
    },
    {
      "cell_type": "code",
      "metadata": {
        "colab": {
          "base_uri": "https://localhost:8080/"
        },
        "id": "uLiOs9OS-yil",
        "outputId": "e9de5b40-eb72-4517-ad70-36a646023171"
      },
      "source": [
        "y_val"
      ],
      "execution_count": 71,
      "outputs": [
        {
          "output_type": "execute_result",
          "data": {
            "text/plain": [
              "array([38, 56, 78, 58, 81, 90,  2,  0, 68,  1, 83,  6, 36, 32, 42, 93, 60,\n",
              "       25,  4, 20, 31, 16, 75, 22, 67, 34,  8, 49, 57, 77])"
            ]
          },
          "metadata": {
            "tags": []
          },
          "execution_count": 71
        }
      ]
    },
    {
      "cell_type": "code",
      "metadata": {
        "id": "bpDWUEpquVG-"
      },
      "source": [
        "y_train = to_categorical(y_train)\n",
        "y_val = to_categorical(y_val)"
      ],
      "execution_count": 72,
      "outputs": []
    },
    {
      "cell_type": "code",
      "metadata": {
        "colab": {
          "base_uri": "https://localhost:8080/"
        },
        "id": "y_lRfJ6CVzOj",
        "outputId": "80ba6137-7bfc-4824-c7f0-5f7b4e31538e"
      },
      "source": [
        "y_val.shape"
      ],
      "execution_count": 75,
      "outputs": [
        {
          "output_type": "execute_result",
          "data": {
            "text/plain": [
              "(30, 94)"
            ]
          },
          "metadata": {
            "tags": []
          },
          "execution_count": 75
        }
      ]
    },
    {
      "cell_type": "code",
      "metadata": {
        "id": "VjO9bWqluVG-"
      },
      "source": [
        "embedding_dim = 64"
      ],
      "execution_count": 50,
      "outputs": []
    },
    {
      "cell_type": "code",
      "metadata": {
        "colab": {
          "base_uri": "https://localhost:8080/"
        },
        "id": "5dhdDjBPuVG-",
        "outputId": "d23e990f-476d-43b6-f6c8-8a19f39d4b47"
      },
      "source": [
        "from keras.models import Sequential\n",
        "from keras.layers import Embedding, Flatten, Dense, Dropout\n",
        "from sklearn.metrics import roc_auc_score, roc_curve\n",
        "from keras.layers import Conv1D, GlobalMaxPooling1D\n",
        "from keras.layers import SpatialDropout1D\n",
        "\n",
        "model = Sequential()\n",
        "model.add(Embedding(max_words, embedding_dim, input_length=maxlen))\n",
        "model.add(SpatialDropout1D(drop_embed))\n",
        "\n",
        "model.add(Conv1D(n_conv, k_conv, activation='relu'))\n",
        "model.add(GlobalMaxPooling1D())\n",
        "model.add(Dense(96, activation='softmax'))\n",
        "model.summary()"
      ],
      "execution_count": 53,
      "outputs": [
        {
          "output_type": "stream",
          "text": [
            "Model: \"sequential_4\"\n",
            "_________________________________________________________________\n",
            "Layer (type)                 Output Shape              Param #   \n",
            "=================================================================\n",
            "embedding_4 (Embedding)      (None, 100, 64)           320000    \n",
            "_________________________________________________________________\n",
            "spatial_dropout1d_4 (Spatial (None, 100, 64)           0         \n",
            "_________________________________________________________________\n",
            "conv1d_4 (Conv1D)            (None, 98, 256)           49408     \n",
            "_________________________________________________________________\n",
            "global_max_pooling1d_4 (Glob (None, 256)               0         \n",
            "_________________________________________________________________\n",
            "dense_4 (Dense)              (None, 96)                24672     \n",
            "=================================================================\n",
            "Total params: 394,080\n",
            "Trainable params: 394,080\n",
            "Non-trainable params: 0\n",
            "_________________________________________________________________\n"
          ],
          "name": "stdout"
        }
      ]
    },
    {
      "cell_type": "code",
      "metadata": {
        "id": "A6hvvmgQuVG_"
      },
      "source": [
        "model.compile(optimizer='rmsprop', \n",
        "             loss='categorical_crossentropy',\n",
        "             metrics=['acc'])"
      ],
      "execution_count": 54,
      "outputs": []
    },
    {
      "cell_type": "code",
      "metadata": {
        "colab": {
          "base_uri": "https://localhost:8080/"
        },
        "id": "Ak1H6uE8CHg4",
        "outputId": "d4706ca6-7417-4388-bf1e-1270a7d67e41"
      },
      "source": [
        "x_val.shape"
      ],
      "execution_count": 55,
      "outputs": [
        {
          "output_type": "execute_result",
          "data": {
            "text/plain": [
              "(30, 100)"
            ]
          },
          "metadata": {
            "tags": []
          },
          "execution_count": 55
        }
      ]
    },
    {
      "cell_type": "code",
      "metadata": {
        "colab": {
          "base_uri": "https://localhost:8080/"
        },
        "id": "jfeC0uHBCSb5",
        "outputId": "4f0506e9-50c9-42be-d4f0-ae448c15ff22"
      },
      "source": [
        "y_val.shape"
      ],
      "execution_count": 56,
      "outputs": [
        {
          "output_type": "execute_result",
          "data": {
            "text/plain": [
              "(30, 89)"
            ]
          },
          "metadata": {
            "tags": []
          },
          "execution_count": 56
        }
      ]
    },
    {
      "cell_type": "code",
      "metadata": {
        "colab": {
          "base_uri": "https://localhost:8080/"
        },
        "id": "_POxjlMTuVG_",
        "outputId": "a6b87be4-744a-4fe6-ac97-94c51d7441c6"
      },
      "source": [
        "history = model.fit(x_train, y_train,\n",
        "                    epochs=100,\n",
        "                    batch_size=32)\n",
        "#                    validation_data=(x_val, y_val))"
      ],
      "execution_count": 77,
      "outputs": [
        {
          "output_type": "stream",
          "text": [
            "Epoch 1/100\n",
            "3/3 [==============================] - 0s 7ms/step - loss: 4.2325 - acc: 0.1286\n",
            "Epoch 2/100\n",
            "3/3 [==============================] - 0s 6ms/step - loss: 4.1815 - acc: 0.1286\n",
            "Epoch 3/100\n",
            "3/3 [==============================] - 0s 6ms/step - loss: 4.1279 - acc: 0.1000\n",
            "Epoch 4/100\n",
            "3/3 [==============================] - 0s 8ms/step - loss: 4.0719 - acc: 0.0857\n",
            "Epoch 5/100\n",
            "3/3 [==============================] - 0s 6ms/step - loss: 4.0221 - acc: 0.0857\n",
            "Epoch 6/100\n",
            "3/3 [==============================] - 0s 6ms/step - loss: 3.9669 - acc: 0.0857\n",
            "Epoch 7/100\n",
            "3/3 [==============================] - 0s 6ms/step - loss: 3.9206 - acc: 0.1000\n",
            "Epoch 8/100\n",
            "3/3 [==============================] - 0s 6ms/step - loss: 3.8550 - acc: 0.1000\n",
            "Epoch 9/100\n",
            "3/3 [==============================] - 0s 6ms/step - loss: 3.8024 - acc: 0.1143\n",
            "Epoch 10/100\n",
            "3/3 [==============================] - 0s 6ms/step - loss: 3.7516 - acc: 0.1000\n",
            "Epoch 11/100\n",
            "3/3 [==============================] - 0s 7ms/step - loss: 3.6896 - acc: 0.1429\n",
            "Epoch 12/100\n",
            "3/3 [==============================] - 0s 6ms/step - loss: 3.6602 - acc: 0.1714\n",
            "Epoch 13/100\n",
            "3/3 [==============================] - 0s 7ms/step - loss: 3.5971 - acc: 0.2000\n",
            "Epoch 14/100\n",
            "3/3 [==============================] - 0s 7ms/step - loss: 3.5289 - acc: 0.1857\n",
            "Epoch 15/100\n",
            "3/3 [==============================] - 0s 7ms/step - loss: 3.4853 - acc: 0.1857\n",
            "Epoch 16/100\n",
            "3/3 [==============================] - 0s 7ms/step - loss: 3.4366 - acc: 0.2286\n",
            "Epoch 17/100\n",
            "3/3 [==============================] - 0s 6ms/step - loss: 3.3741 - acc: 0.2143\n",
            "Epoch 18/100\n",
            "3/3 [==============================] - 0s 6ms/step - loss: 3.3227 - acc: 0.2143\n",
            "Epoch 19/100\n",
            "3/3 [==============================] - 0s 7ms/step - loss: 3.2859 - acc: 0.2143\n",
            "Epoch 20/100\n",
            "3/3 [==============================] - 0s 7ms/step - loss: 3.2206 - acc: 0.2429\n",
            "Epoch 21/100\n",
            "3/3 [==============================] - 0s 7ms/step - loss: 3.1643 - acc: 0.2714\n",
            "Epoch 22/100\n",
            "3/3 [==============================] - 0s 7ms/step - loss: 3.1098 - acc: 0.2857\n",
            "Epoch 23/100\n",
            "3/3 [==============================] - 0s 7ms/step - loss: 3.0503 - acc: 0.3571\n",
            "Epoch 24/100\n",
            "3/3 [==============================] - 0s 8ms/step - loss: 2.9933 - acc: 0.3714\n",
            "Epoch 25/100\n",
            "3/3 [==============================] - 0s 7ms/step - loss: 2.9476 - acc: 0.4000\n",
            "Epoch 26/100\n",
            "3/3 [==============================] - 0s 7ms/step - loss: 2.8883 - acc: 0.4286\n",
            "Epoch 27/100\n",
            "3/3 [==============================] - 0s 8ms/step - loss: 2.8337 - acc: 0.4429\n",
            "Epoch 28/100\n",
            "3/3 [==============================] - 0s 8ms/step - loss: 2.7671 - acc: 0.5000\n",
            "Epoch 29/100\n",
            "3/3 [==============================] - 0s 7ms/step - loss: 2.7004 - acc: 0.5857\n",
            "Epoch 30/100\n",
            "3/3 [==============================] - 0s 8ms/step - loss: 2.6401 - acc: 0.7143\n",
            "Epoch 31/100\n",
            "3/3 [==============================] - 0s 7ms/step - loss: 2.5698 - acc: 0.7143\n",
            "Epoch 32/100\n",
            "3/3 [==============================] - 0s 7ms/step - loss: 2.5325 - acc: 0.6857\n",
            "Epoch 33/100\n",
            "3/3 [==============================] - 0s 6ms/step - loss: 2.4442 - acc: 0.8286\n",
            "Epoch 34/100\n",
            "3/3 [==============================] - 0s 6ms/step - loss: 2.3808 - acc: 0.7714\n",
            "Epoch 35/100\n",
            "3/3 [==============================] - 0s 6ms/step - loss: 2.3295 - acc: 0.7714\n",
            "Epoch 36/100\n",
            "3/3 [==============================] - 0s 7ms/step - loss: 2.2738 - acc: 0.8000\n",
            "Epoch 37/100\n",
            "3/3 [==============================] - 0s 7ms/step - loss: 2.1860 - acc: 0.8429\n",
            "Epoch 38/100\n",
            "3/3 [==============================] - 0s 8ms/step - loss: 2.1342 - acc: 0.7000\n",
            "Epoch 39/100\n",
            "3/3 [==============================] - 0s 7ms/step - loss: 2.0725 - acc: 0.7857\n",
            "Epoch 40/100\n",
            "3/3 [==============================] - 0s 6ms/step - loss: 2.0400 - acc: 0.8429\n",
            "Epoch 41/100\n",
            "3/3 [==============================] - 0s 7ms/step - loss: 1.9486 - acc: 0.8000\n",
            "Epoch 42/100\n",
            "3/3 [==============================] - 0s 7ms/step - loss: 1.9321 - acc: 0.7714\n",
            "Epoch 43/100\n",
            "3/3 [==============================] - 0s 7ms/step - loss: 1.8594 - acc: 0.8143\n",
            "Epoch 44/100\n",
            "3/3 [==============================] - 0s 7ms/step - loss: 1.8120 - acc: 0.8143\n",
            "Epoch 45/100\n",
            "3/3 [==============================] - 0s 7ms/step - loss: 1.7067 - acc: 0.8571\n",
            "Epoch 46/100\n",
            "3/3 [==============================] - 0s 7ms/step - loss: 1.6667 - acc: 0.8714\n",
            "Epoch 47/100\n",
            "3/3 [==============================] - 0s 8ms/step - loss: 1.6139 - acc: 0.8857\n",
            "Epoch 48/100\n",
            "3/3 [==============================] - 0s 8ms/step - loss: 1.5534 - acc: 0.8714\n",
            "Epoch 49/100\n",
            "3/3 [==============================] - 0s 11ms/step - loss: 1.5195 - acc: 0.8571\n",
            "Epoch 50/100\n",
            "3/3 [==============================] - 0s 8ms/step - loss: 1.4589 - acc: 0.8286\n",
            "Epoch 51/100\n",
            "3/3 [==============================] - 0s 9ms/step - loss: 1.3826 - acc: 0.8286\n",
            "Epoch 52/100\n",
            "3/3 [==============================] - 0s 8ms/step - loss: 1.3702 - acc: 0.8286\n",
            "Epoch 53/100\n",
            "3/3 [==============================] - 0s 7ms/step - loss: 1.2710 - acc: 0.8571\n",
            "Epoch 54/100\n",
            "3/3 [==============================] - 0s 7ms/step - loss: 1.2450 - acc: 0.8714\n",
            "Epoch 55/100\n",
            "3/3 [==============================] - 0s 7ms/step - loss: 1.2197 - acc: 0.8571\n",
            "Epoch 56/100\n",
            "3/3 [==============================] - 0s 6ms/step - loss: 1.1637 - acc: 0.9000\n",
            "Epoch 57/100\n",
            "3/3 [==============================] - 0s 7ms/step - loss: 1.1305 - acc: 0.9143\n",
            "Epoch 58/100\n",
            "3/3 [==============================] - 0s 7ms/step - loss: 1.0447 - acc: 0.9429\n",
            "Epoch 59/100\n",
            "3/3 [==============================] - 0s 6ms/step - loss: 1.0122 - acc: 0.9429\n",
            "Epoch 60/100\n",
            "3/3 [==============================] - 0s 6ms/step - loss: 0.9685 - acc: 0.9571\n",
            "Epoch 61/100\n",
            "3/3 [==============================] - 0s 8ms/step - loss: 0.9558 - acc: 0.9429\n",
            "Epoch 62/100\n",
            "3/3 [==============================] - 0s 6ms/step - loss: 0.9104 - acc: 0.9857\n",
            "Epoch 63/100\n",
            "3/3 [==============================] - 0s 6ms/step - loss: 0.8593 - acc: 0.9714\n",
            "Epoch 64/100\n",
            "3/3 [==============================] - 0s 6ms/step - loss: 0.7963 - acc: 0.9714\n",
            "Epoch 65/100\n",
            "3/3 [==============================] - 0s 7ms/step - loss: 0.7976 - acc: 0.9857\n",
            "Epoch 66/100\n",
            "3/3 [==============================] - 0s 6ms/step - loss: 0.7767 - acc: 0.9286\n",
            "Epoch 67/100\n",
            "3/3 [==============================] - 0s 7ms/step - loss: 0.7263 - acc: 0.9571\n",
            "Epoch 68/100\n",
            "3/3 [==============================] - 0s 7ms/step - loss: 0.7265 - acc: 0.9286\n",
            "Epoch 69/100\n",
            "3/3 [==============================] - 0s 7ms/step - loss: 0.7057 - acc: 0.9714\n",
            "Epoch 70/100\n",
            "3/3 [==============================] - 0s 8ms/step - loss: 0.6629 - acc: 0.9857\n",
            "Epoch 71/100\n",
            "3/3 [==============================] - 0s 6ms/step - loss: 0.6525 - acc: 0.9000\n",
            "Epoch 72/100\n",
            "3/3 [==============================] - 0s 7ms/step - loss: 0.6116 - acc: 0.9571\n",
            "Epoch 73/100\n",
            "3/3 [==============================] - 0s 7ms/step - loss: 0.5688 - acc: 0.9857\n",
            "Epoch 74/100\n",
            "3/3 [==============================] - 0s 7ms/step - loss: 0.5454 - acc: 0.9857\n",
            "Epoch 75/100\n",
            "3/3 [==============================] - 0s 9ms/step - loss: 0.5212 - acc: 0.9857\n",
            "Epoch 76/100\n",
            "3/3 [==============================] - 0s 7ms/step - loss: 0.5207 - acc: 0.9857\n",
            "Epoch 77/100\n",
            "3/3 [==============================] - 0s 7ms/step - loss: 0.4919 - acc: 0.9857\n",
            "Epoch 78/100\n",
            "3/3 [==============================] - 0s 7ms/step - loss: 0.4660 - acc: 0.9857\n",
            "Epoch 79/100\n",
            "3/3 [==============================] - 0s 7ms/step - loss: 0.4589 - acc: 0.9857\n",
            "Epoch 80/100\n",
            "3/3 [==============================] - 0s 7ms/step - loss: 0.4299 - acc: 0.9857\n",
            "Epoch 81/100\n",
            "3/3 [==============================] - 0s 7ms/step - loss: 0.4160 - acc: 0.9857\n",
            "Epoch 82/100\n",
            "3/3 [==============================] - 0s 7ms/step - loss: 0.4032 - acc: 0.9857\n",
            "Epoch 83/100\n",
            "3/3 [==============================] - 0s 8ms/step - loss: 0.3952 - acc: 0.9857\n",
            "Epoch 84/100\n",
            "3/3 [==============================] - 0s 7ms/step - loss: 0.3679 - acc: 0.9857\n",
            "Epoch 85/100\n",
            "3/3 [==============================] - 0s 7ms/step - loss: 0.3677 - acc: 0.9857\n",
            "Epoch 86/100\n",
            "3/3 [==============================] - 0s 7ms/step - loss: 0.3537 - acc: 0.9857\n",
            "Epoch 87/100\n",
            "3/3 [==============================] - 0s 7ms/step - loss: 0.3295 - acc: 0.9857\n",
            "Epoch 88/100\n",
            "3/3 [==============================] - 0s 8ms/step - loss: 0.3074 - acc: 0.9714\n",
            "Epoch 89/100\n",
            "3/3 [==============================] - 0s 8ms/step - loss: 0.2965 - acc: 0.9857\n",
            "Epoch 90/100\n",
            "3/3 [==============================] - 0s 8ms/step - loss: 0.2655 - acc: 1.0000\n",
            "Epoch 91/100\n",
            "3/3 [==============================] - 0s 7ms/step - loss: 0.2521 - acc: 0.9857\n",
            "Epoch 92/100\n",
            "3/3 [==============================] - 0s 7ms/step - loss: 0.2620 - acc: 0.9857\n",
            "Epoch 93/100\n",
            "3/3 [==============================] - 0s 7ms/step - loss: 0.2541 - acc: 0.9714\n",
            "Epoch 94/100\n",
            "3/3 [==============================] - 0s 6ms/step - loss: 0.2349 - acc: 0.9857\n",
            "Epoch 95/100\n",
            "3/3 [==============================] - 0s 6ms/step - loss: 0.2339 - acc: 0.9857\n",
            "Epoch 96/100\n",
            "3/3 [==============================] - 0s 6ms/step - loss: 0.2249 - acc: 0.9714\n",
            "Epoch 97/100\n",
            "3/3 [==============================] - 0s 7ms/step - loss: 0.1966 - acc: 0.9857\n",
            "Epoch 98/100\n",
            "3/3 [==============================] - 0s 6ms/step - loss: 0.2041 - acc: 0.9857\n",
            "Epoch 99/100\n",
            "3/3 [==============================] - 0s 6ms/step - loss: 0.1837 - acc: 0.9571\n",
            "Epoch 100/100\n",
            "3/3 [==============================] - 0s 6ms/step - loss: 0.1696 - acc: 0.9857\n"
          ],
          "name": "stdout"
        }
      ]
    },
    {
      "cell_type": "code",
      "metadata": {
        "id": "eH9M2jRuuVG_"
      },
      "source": [
        "import matplotlib.pyplot as plt "
      ],
      "execution_count": 78,
      "outputs": []
    },
    {
      "cell_type": "code",
      "metadata": {
        "colab": {
          "base_uri": "https://localhost:8080/",
          "height": 295
        },
        "id": "9BVYRitvuVG_",
        "outputId": "ff002fcd-3a47-4264-a189-755b12c309c9"
      },
      "source": [
        "loss = history.history['loss']\n",
        "#val_loss = history.history['val_loss']\n",
        "\n",
        "epochs = range(1, len(loss) + 1)\n",
        "\n",
        "plt.plot(epochs, loss, 'bo', label='Training loss')\n",
        "#plt.plot(epochs, val_loss, 'b', label='Validation loss')\n",
        "plt.title('Training loss')\n",
        "plt.xlabel('Epochs')\n",
        "plt.ylabel('Loss')\n",
        "plt.legend()\n",
        "\n",
        "plt.show()"
      ],
      "execution_count": 80,
      "outputs": [
        {
          "output_type": "display_data",
          "data": {
            "image/png": "[encoded data removed]",
            "text/plain": [
              "<Figure size 432x288 with 1 Axes>"
            ]
          },
          "metadata": {
            "tags": [],
            "needs_background": "light"
          }
        }
      ]
    },
    {
      "cell_type": "code",
      "metadata": {
        "colab": {
          "base_uri": "https://localhost:8080/",
          "height": 295
        },
        "id": "NTHw22kyx-TI",
        "outputId": "6584be9f-4b97-4914-9f8f-0aff72bded32"
      },
      "source": [
        "plt.clf()\n",
        "acc = history.history['acc']\n",
        "#val_acc = history.history['val_acc']\n",
        "\n",
        "plt.plot(epochs, acc, 'bo', label='Training acc')\n",
        "#plt.plot(epochs, val_acc, 'b', label='Validation acc')\n",
        "plt.title('Training acc')\n",
        "plt.xlabel('Epochs')\n",
        "plt.ylabel('Acc')\n",
        "plt.legend()\n",
        "\n",
        "plt.show()"
      ],
      "execution_count": 81,
      "outputs": [
        {
          "output_type": "display_data",
          "data": {
            "image/png": "[encoded data removed]",
            "text/plain": [
              "<Figure size 432x288 with 1 Axes>"
            ]
          },
          "metadata": {
            "tags": [],
            "needs_background": "light"
          }
        }
      ]
    },
    {
      "cell_type": "markdown",
      "metadata": {
        "id": "fjN225NE1qWy"
      },
      "source": [
        "Вывод: на обучающей выборке получается хорошая точность (accuracy) 98%. К сожалению, набор данных очень маленький из 100 элементов (при общем количестве компаний 100). В результате я не смог разбить исходный набор на обучающий и тестовый (валидационный). Обычно 30% данных резервируется для проверки модели на предмет переобучения и качество модели оценивается на тестовом наборе, на котором модель не училась. Здесь я не могу это сделать, поэтому модель может быть переобучена (overfitting), как студент которые заучил вызубрил все ответы к экзамену, но не понял общие закономерности и любое отклонение от стандартного вопроса ставит его в тупик.      "
      ]
    },
    {
      "cell_type": "code",
      "metadata": {
        "id": "w57OrX68FFhc"
      },
      "source": [
        ""
      ],
      "execution_count": null,
      "outputs": []
    }
  ]
}