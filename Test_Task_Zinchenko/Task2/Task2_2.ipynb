{
  "nbformat": 4,
  "nbformat_minor": 0,
  "metadata": {
    "accelerator": "GPU",
    "colab": {
      "name": "Task2_2.ipynb",
      "provenance": []
    },
    "kernelspec": {
      "display_name": "Python 3",
      "language": "python",
      "name": "python3"
    },
    "language_info": {
      "codemirror_mode": {
        "name": "ipython",
        "version": 3
      },
      "file_extension": ".py",
      "mimetype": "text/x-python",
      "name": "python",
      "nbconvert_exporter": "python",
      "pygments_lexer": "ipython3",
      "version": "3.7.1"
    }
  },
  "cells": [
    {
      "cell_type": "code",
      "metadata": {
        "id": "__Hf8pqH1mW3"
      },
      "source": [
        "import re\n",
        "import pandas as pd\n",
        "import numpy as np\n",
        "from sklearn.ensemble import RandomForestClassifier as RF\n",
        "from sklearn.metrics import f1_score as f1\n",
        "from sklearn.metrics import roc_auc_score, roc_curve\n",
        "import missingno as msno\n",
        "from sklearn.model_selection import train_test_split"
      ],
      "execution_count": 244,
      "outputs": []
    },
    {
      "cell_type": "code",
      "metadata": {
        "id": "VI5OjOvquVG2"
      },
      "source": [
        "df = pd.read_excel('sample_data/Data_sent06.xls')"
      ],
      "execution_count": 245,
      "outputs": []
    },
    {
      "cell_type": "code",
      "metadata": {
        "colab": {
          "base_uri": "https://localhost:8080/",
          "height": 753
        },
        "id": "tqwpMaR0uVG3",
        "outputId": "c8e64d47-4dd8-498d-8fd9-639d079fb57a"
      },
      "source": [
        "df.head(10)\n"
      ],
      "execution_count": 246,
      "outputs": [
        {
          "output_type": "execute_result",
          "data": {
            "text/html": [
              "<div>\n",
              "<style scoped>\n",
              "    .dataframe tbody tr th:only-of-type {\n",
              "        vertical-align: middle;\n",
              "    }\n",
              "\n",
              "    .dataframe tbody tr th {\n",
              "        vertical-align: top;\n",
              "    }\n",
              "\n",
              "    .dataframe thead th {\n",
              "        text-align: right;\n",
              "    }\n",
              "</style>\n",
              "<table border=\"1\" class=\"dataframe\">\n",
              "  <thead>\n",
              "    <tr style=\"text-align: right;\">\n",
              "      <th></th>\n",
              "      <th>age</th>\n",
              "      <th>married</th>\n",
              "      <th>plan_married</th>\n",
              "      <th>childrens_fact</th>\n",
              "      <th>important_cash</th>\n",
              "      <th>important_rest</th>\n",
              "      <th>important_children</th>\n",
              "      <th>important_educ</th>\n",
              "      <th>important_intim</th>\n",
              "      <th>chilpdren_plan</th>\n",
              "      <th>ideal_family</th>\n",
              "      <th>children_plan2</th>\n",
              "      <th>target</th>\n",
              "      <th>plan_living</th>\n",
              "      <th>plan_cash</th>\n",
              "      <th>plan_climat</th>\n",
              "      <th>plan_economy</th>\n",
              "      <th>plan_politic</th>\n",
              "      <th>plan_support_gov</th>\n",
              "      <th>education</th>\n",
              "      <th>occupation</th>\n",
              "      <th>income</th>\n",
              "      <th>living_conditions</th>\n",
              "      <th>religion</th>\n",
              "    </tr>\n",
              "  </thead>\n",
              "  <tbody>\n",
              "    <tr>\n",
              "      <th>0</th>\n",
              "      <td>35-39</td>\n",
              "      <td>замужем</td>\n",
              "      <td>NaN</td>\n",
              "      <td>2.0</td>\n",
              "      <td>1.0</td>\n",
              "      <td>4.0</td>\n",
              "      <td>2.0</td>\n",
              "      <td>3.0</td>\n",
              "      <td>4.0</td>\n",
              "      <td>6</td>\n",
              "      <td>NaN</td>\n",
              "      <td>NaN</td>\n",
              "      <td>NaN</td>\n",
              "      <td>станут лучше</td>\n",
              "      <td>трудно сказать</td>\n",
              "      <td>останутся прежними, вполне приемлемыми</td>\n",
              "      <td>станет лучше</td>\n",
              "      <td>станет лучше</td>\n",
              "      <td>станет лучше</td>\n",
              "      <td>среднее</td>\n",
              "      <td>3.0</td>\n",
              "      <td>2.0</td>\n",
              "      <td>квартира</td>\n",
              "      <td>да</td>\n",
              "    </tr>\n",
              "    <tr>\n",
              "      <th>1</th>\n",
              "      <td>35-39</td>\n",
              "      <td>замужем</td>\n",
              "      <td>NaN</td>\n",
              "      <td>1.0</td>\n",
              "      <td>2.0</td>\n",
              "      <td>5.0</td>\n",
              "      <td>4.0</td>\n",
              "      <td>1.0</td>\n",
              "      <td>3.0</td>\n",
              "      <td>6</td>\n",
              "      <td>NaN</td>\n",
              "      <td>NaN</td>\n",
              "      <td>NaN</td>\n",
              "      <td>останутся прежними, неудовлетворительными</td>\n",
              "      <td>станет лучше</td>\n",
              "      <td>станут лучше</td>\n",
              "      <td>трудно сказать</td>\n",
              "      <td>трудно сказать</td>\n",
              "      <td>станет лучше</td>\n",
              "      <td>высш_незак_высш</td>\n",
              "      <td>6.0</td>\n",
              "      <td>4.0</td>\n",
              "      <td>квартира</td>\n",
              "      <td>нет</td>\n",
              "    </tr>\n",
              "    <tr>\n",
              "      <th>2</th>\n",
              "      <td>35-39</td>\n",
              "      <td>замужем</td>\n",
              "      <td>NaN</td>\n",
              "      <td>1.0</td>\n",
              "      <td>2.0</td>\n",
              "      <td>5.0</td>\n",
              "      <td>1.0</td>\n",
              "      <td>3.0</td>\n",
              "      <td>4.0</td>\n",
              "      <td>6</td>\n",
              "      <td>NaN</td>\n",
              "      <td>NaN</td>\n",
              "      <td>NaN</td>\n",
              "      <td>станут лучше</td>\n",
              "      <td>останется прежним, вполне приемлемым</td>\n",
              "      <td>трудно сказать</td>\n",
              "      <td>станет лучше</td>\n",
              "      <td>станет лучше</td>\n",
              "      <td>станет лучше</td>\n",
              "      <td>среднее</td>\n",
              "      <td>2.0</td>\n",
              "      <td>4.0</td>\n",
              "      <td>квартира</td>\n",
              "      <td>да</td>\n",
              "    </tr>\n",
              "    <tr>\n",
              "      <th>3</th>\n",
              "      <td>35-39</td>\n",
              "      <td>замужем</td>\n",
              "      <td>NaN</td>\n",
              "      <td>1.0</td>\n",
              "      <td>3.0</td>\n",
              "      <td>5.0</td>\n",
              "      <td>4.0</td>\n",
              "      <td>1.0</td>\n",
              "      <td>2.0</td>\n",
              "      <td>6</td>\n",
              "      <td>NaN</td>\n",
              "      <td>NaN</td>\n",
              "      <td>NaN</td>\n",
              "      <td>останутся прежними, неудовлетворительными</td>\n",
              "      <td>станет лучше</td>\n",
              "      <td>станут лучше</td>\n",
              "      <td>станет лучше</td>\n",
              "      <td>трудно сказать</td>\n",
              "      <td>останется прежней, неудовлетворительной</td>\n",
              "      <td>среднее</td>\n",
              "      <td>3.0</td>\n",
              "      <td>4.0</td>\n",
              "      <td>квартира</td>\n",
              "      <td>да</td>\n",
              "    </tr>\n",
              "    <tr>\n",
              "      <th>4</th>\n",
              "      <td>30-34</td>\n",
              "      <td>замужем</td>\n",
              "      <td>NaN</td>\n",
              "      <td>2.0</td>\n",
              "      <td>1.0</td>\n",
              "      <td>1.0</td>\n",
              "      <td>1.0</td>\n",
              "      <td>1.0</td>\n",
              "      <td>1.0</td>\n",
              "      <td>3</td>\n",
              "      <td>6.0</td>\n",
              "      <td>3.0</td>\n",
              "      <td>да</td>\n",
              "      <td>станут лучше</td>\n",
              "      <td>останется прежним, вполне приемлемым</td>\n",
              "      <td>останутся прежними, вполне приемлемыми</td>\n",
              "      <td>трудно сказать</td>\n",
              "      <td>трудно сказать</td>\n",
              "      <td>останется прежней, неудовлетворительной</td>\n",
              "      <td>высш_незак_высш</td>\n",
              "      <td>14.0</td>\n",
              "      <td>4.0</td>\n",
              "      <td>квартира</td>\n",
              "      <td>нет</td>\n",
              "    </tr>\n",
              "    <tr>\n",
              "      <th>5</th>\n",
              "      <td>25-29</td>\n",
              "      <td>замужем</td>\n",
              "      <td>NaN</td>\n",
              "      <td>1.0</td>\n",
              "      <td>2.0</td>\n",
              "      <td>3.0</td>\n",
              "      <td>4.0</td>\n",
              "      <td>1.0</td>\n",
              "      <td>5.0</td>\n",
              "      <td>2</td>\n",
              "      <td>2.0</td>\n",
              "      <td>5.0</td>\n",
              "      <td>да</td>\n",
              "      <td>останутся прежними, неудовлетворительными</td>\n",
              "      <td>останется прежним, неудовлетворительным</td>\n",
              "      <td>останутся прежними, вполне приемлемыми</td>\n",
              "      <td>станет хуже</td>\n",
              "      <td>трудно сказать</td>\n",
              "      <td>трудно сказать</td>\n",
              "      <td>среднее</td>\n",
              "      <td>3.0</td>\n",
              "      <td>3.0</td>\n",
              "      <td>комната</td>\n",
              "      <td>нет</td>\n",
              "    </tr>\n",
              "    <tr>\n",
              "      <th>6</th>\n",
              "      <td>25-29</td>\n",
              "      <td>замужем</td>\n",
              "      <td>NaN</td>\n",
              "      <td>1.0</td>\n",
              "      <td>3.0</td>\n",
              "      <td>5.0</td>\n",
              "      <td>4.0</td>\n",
              "      <td>2.0</td>\n",
              "      <td>1.0</td>\n",
              "      <td>2</td>\n",
              "      <td>3.0</td>\n",
              "      <td>3.0</td>\n",
              "      <td>да</td>\n",
              "      <td>станут лучше</td>\n",
              "      <td>станет лучше</td>\n",
              "      <td>станут лучше</td>\n",
              "      <td>останется прежней, вполне приемлемой</td>\n",
              "      <td>останется прежней, вполне приемлемой</td>\n",
              "      <td>станет лучше</td>\n",
              "      <td>высш_незак_высш</td>\n",
              "      <td>6.0</td>\n",
              "      <td>4.0</td>\n",
              "      <td>квартира</td>\n",
              "      <td>нет</td>\n",
              "    </tr>\n",
              "    <tr>\n",
              "      <th>7</th>\n",
              "      <td>20-24</td>\n",
              "      <td>замужем</td>\n",
              "      <td>NaN</td>\n",
              "      <td>1.0</td>\n",
              "      <td>2.0</td>\n",
              "      <td>3.0</td>\n",
              "      <td>4.0</td>\n",
              "      <td>1.0</td>\n",
              "      <td>5.0</td>\n",
              "      <td>3</td>\n",
              "      <td>3.0</td>\n",
              "      <td>3.0</td>\n",
              "      <td>да</td>\n",
              "      <td>станут лучше</td>\n",
              "      <td>станет лучше</td>\n",
              "      <td>станут лучше</td>\n",
              "      <td>трудно сказать</td>\n",
              "      <td>трудно сказать</td>\n",
              "      <td>станет лучше</td>\n",
              "      <td>среднее</td>\n",
              "      <td>8.0</td>\n",
              "      <td>3.0</td>\n",
              "      <td>квартира</td>\n",
              "      <td>да</td>\n",
              "    </tr>\n",
              "    <tr>\n",
              "      <th>8</th>\n",
              "      <td>25-29</td>\n",
              "      <td>замужем</td>\n",
              "      <td>NaN</td>\n",
              "      <td>0.0</td>\n",
              "      <td>4.0</td>\n",
              "      <td>2.0</td>\n",
              "      <td>5.0</td>\n",
              "      <td>1.0</td>\n",
              "      <td>3.0</td>\n",
              "      <td>3</td>\n",
              "      <td>3.0</td>\n",
              "      <td>3.0</td>\n",
              "      <td>да</td>\n",
              "      <td>трудно сказать</td>\n",
              "      <td>станет лучше</td>\n",
              "      <td>станут лучше</td>\n",
              "      <td>станет лучше</td>\n",
              "      <td>останется прежней, вполне приемлемой</td>\n",
              "      <td>станет лучше</td>\n",
              "      <td>высш_незак_высш</td>\n",
              "      <td>6.0</td>\n",
              "      <td>3.0</td>\n",
              "      <td>комната</td>\n",
              "      <td>да</td>\n",
              "    </tr>\n",
              "    <tr>\n",
              "      <th>9</th>\n",
              "      <td>18-19</td>\n",
              "      <td>не замужем</td>\n",
              "      <td>да</td>\n",
              "      <td>0.0</td>\n",
              "      <td>5.0</td>\n",
              "      <td>NaN</td>\n",
              "      <td>2.0</td>\n",
              "      <td>1.0</td>\n",
              "      <td>NaN</td>\n",
              "      <td>2</td>\n",
              "      <td>3.0</td>\n",
              "      <td>2.0</td>\n",
              "      <td>да</td>\n",
              "      <td>трудно сказать</td>\n",
              "      <td>станет лучше</td>\n",
              "      <td>останутся прежними, вполне приемлемыми</td>\n",
              "      <td>останется прежней, вполне приемлемой</td>\n",
              "      <td>останется прежней, вполне приемлемой</td>\n",
              "      <td>останется прежней, неудовлетворительной</td>\n",
              "      <td>среднее</td>\n",
              "      <td>10.0</td>\n",
              "      <td>4.0</td>\n",
              "      <td>квартира</td>\n",
              "      <td>да</td>\n",
              "    </tr>\n",
              "  </tbody>\n",
              "</table>\n",
              "</div>"
            ],
            "text/plain": [
              "     age     married plan_married  ...  income  living_conditions  religion\n",
              "0  35-39     замужем          NaN  ...     2.0           квартира        да\n",
              "1  35-39     замужем          NaN  ...     4.0           квартира       нет\n",
              "2  35-39     замужем          NaN  ...     4.0           квартира        да\n",
              "3  35-39     замужем          NaN  ...     4.0           квартира        да\n",
              "4  30-34     замужем          NaN  ...     4.0           квартира       нет\n",
              "5  25-29     замужем          NaN  ...     3.0            комната       нет\n",
              "6  25-29     замужем          NaN  ...     4.0           квартира       нет\n",
              "7  20-24     замужем          NaN  ...     3.0           квартира        да\n",
              "8  25-29     замужем          NaN  ...     3.0            комната        да\n",
              "9  18-19  не замужем           да  ...     4.0           квартира        да\n",
              "\n",
              "[10 rows x 24 columns]"
            ]
          },
          "metadata": {
            "tags": []
          },
          "execution_count": 246
        }
      ]
    },
    {
      "cell_type": "markdown",
      "metadata": {
        "id": "hv1U3TyvuVG4"
      },
      "source": [
        "Обработка данных"
      ]
    },
    {
      "cell_type": "code",
      "metadata": {
        "colab": {
          "base_uri": "https://localhost:8080/"
        },
        "id": "6VOYWqEfZXxz",
        "outputId": "ed82fad2-20c6-4169-e5a6-76cd81c818d6"
      },
      "source": [
        "df.columns"
      ],
      "execution_count": 247,
      "outputs": [
        {
          "output_type": "execute_result",
          "data": {
            "text/plain": [
              "Index(['age', 'married', 'plan_married', 'childrens_fact', 'important_cash',\n",
              "       'important_rest', 'important_children', 'important_educ',\n",
              "       'important_intim', 'chilpdren_plan', 'ideal_family', 'children_plan2',\n",
              "       'target', 'plan_living', 'plan_cash', 'plan_climat', 'plan_economy',\n",
              "       'plan_politic', 'plan_support_gov', 'education', 'occupation', 'income',\n",
              "       'living_conditions', 'religion'],\n",
              "      dtype='object')"
            ]
          },
          "metadata": {
            "tags": []
          },
          "execution_count": 247
        }
      ]
    },
    {
      "cell_type": "code",
      "metadata": {
        "id": "fOp6gShRZXxz"
      },
      "source": [
        "df[['18-19','20-24','25-29','30-34','35-39']] = pd.get_dummies(df['age'])"
      ],
      "execution_count": 248,
      "outputs": []
    },
    {
      "cell_type": "code",
      "metadata": {
        "id": "_QAlzAWFZXx0"
      },
      "source": [
        "#удаляем старое поле\n",
        "features_to_drop = []\n",
        "features_to_drop.append('age')"
      ],
      "execution_count": 249,
      "outputs": []
    },
    {
      "cell_type": "code",
      "metadata": {
        "id": "LRL0p_HCZXx0"
      },
      "source": [
        "df[['вдова','гражд_брак','замужем','не замужем','разведена']] = pd.get_dummies(df['married'])"
      ],
      "execution_count": 250,
      "outputs": []
    },
    {
      "cell_type": "code",
      "metadata": {
        "id": "KYE1VP5gZXx0"
      },
      "source": [
        "features_to_drop.append('married')"
      ],
      "execution_count": 251,
      "outputs": []
    },
    {
      "cell_type": "code",
      "metadata": {
        "id": "j0l0ua_3ZXx1"
      },
      "source": [
        "df[['да','нет','трудно сказать']] = pd.get_dummies(df['plan_married'])"
      ],
      "execution_count": 252,
      "outputs": []
    },
    {
      "cell_type": "code",
      "metadata": {
        "id": "Dgu1cMsyZXx1"
      },
      "source": [
        "features_to_drop.append('plan_married')"
      ],
      "execution_count": 253,
      "outputs": []
    },
    {
      "cell_type": "code",
      "metadata": {
        "id": "ovIifW77ZXx1"
      },
      "source": [
        "#нейронка лучше кушает нормализованные величины от 0 до 1\n",
        "df['childrens_fact'] = df['childrens_fact'] / 5"
      ],
      "execution_count": 254,
      "outputs": []
    },
    {
      "cell_type": "code",
      "metadata": {
        "id": "dVDTWHQlZXx1"
      },
      "source": [
        "#нейронка лучше кушает нормализованные величины от 0 до 1\n",
        "df['important_cash'] = df['important_cash'] / 5"
      ],
      "execution_count": 255,
      "outputs": []
    },
    {
      "cell_type": "code",
      "metadata": {
        "id": "4JJyfoayZXx2"
      },
      "source": [
        "#нейронка лучше кушает нормализованные величины от 0 до 1\n",
        "df['important_rest'] = df['important_rest'] / 5"
      ],
      "execution_count": 256,
      "outputs": []
    },
    {
      "cell_type": "code",
      "metadata": {
        "id": "FXXLAd-KZXx2"
      },
      "source": [
        "#нейронка лучше кушает нормализованные величины от 0 до 1\n",
        "df['important_children'] = df['important_children'] / 5"
      ],
      "execution_count": 257,
      "outputs": []
    },
    {
      "cell_type": "code",
      "metadata": {
        "id": "KvXd82eWZXx2"
      },
      "source": [
        "#нейронка лучше кушает нормализованные величины от 0 до 1\n",
        "df['important_educ'] = df['important_educ'] / 5"
      ],
      "execution_count": 258,
      "outputs": []
    },
    {
      "cell_type": "code",
      "metadata": {
        "id": "pecR6TEvZXx2"
      },
      "source": [
        "#нейронка лучше кушает нормализованные величины от 0 до 1\n",
        "df['important_intim'] = df['important_intim'] / 5"
      ],
      "execution_count": 259,
      "outputs": []
    },
    {
      "cell_type": "code",
      "metadata": {
        "id": "RmlTOYjfZXx3"
      },
      "source": [
        "df[['chilpdren_plan0', 'chilpdren_plan1', 'chilpdren_plan2', 'chilpdren_plan3', 'chilpdren_plan4', 'chilpdren_plan5', 'chilpdren_plan6', 'chilpdren_plan7']] = pd.get_dummies(df['chilpdren_plan'])\n",
        "features_to_drop.append('chilpdren_plan')"
      ],
      "execution_count": 260,
      "outputs": []
    },
    {
      "cell_type": "code",
      "metadata": {
        "id": "T2-TkCehZXx3"
      },
      "source": [
        "df[['ideal_family0','ideal_family1','ideal_family2','ideal_family3','ideal_family4','ideal_family5','ideal_family6']] = pd.get_dummies(df['ideal_family'])\n",
        "features_to_drop.append('ideal_family')"
      ],
      "execution_count": 261,
      "outputs": []
    },
    {
      "cell_type": "code",
      "metadata": {
        "id": "T0X_O8zmZXx3"
      },
      "source": [
        "df[['children_plan2_0', 'children_plan2_1', 'children_plan2_2', 'children_plan2_3', 'children_plan2_4', 'children_plan2_5', 'children_plan2_6']] = pd.get_dummies(df['children_plan2'])\n",
        "features_to_drop.append('children_plan2')"
      ],
      "execution_count": 262,
      "outputs": []
    },
    {
      "cell_type": "code",
      "metadata": {
        "id": "UouPt_yUZXx4"
      },
      "source": [
        "df[['plan_living_останутся прежними,неудовлетворительными','plan_living_станут лучше','plan_living_станут хуже','plan_living_трудно сказать']] = pd.get_dummies(df['plan_living'])\n",
        "features_to_drop.append('plan_living')"
      ],
      "execution_count": 263,
      "outputs": []
    },
    {
      "cell_type": "code",
      "metadata": {
        "id": "gCUrYD7TZXx4"
      },
      "source": [
        "df[['plan_cash_останется прежним, вполне приемлемым','plan_cash_останeтся прежними,неудовлетворительным','plan_cash_станет лучше','plan_cash_станет хуже','plan_cash_трудно сказать']] = pd.get_dummies(df['plan_cash'])\n",
        "features_to_drop.append('plan_cash')"
      ],
      "execution_count": 264,
      "outputs": []
    },
    {
      "cell_type": "code",
      "metadata": {
        "id": "pVv-UcaNZXx4"
      },
      "source": [
        "df[['plan_climat_останется прежним, вполне приемлемым','plan_climat_останeтся прежними,неудовлетворительным','plan_climat_станет лучше','plan_climat_станет хуже','plan_climat_трудно сказать']] = pd.get_dummies(df['plan_climat'])\n",
        "features_to_drop.append('plan_climat')"
      ],
      "execution_count": 265,
      "outputs": []
    },
    {
      "cell_type": "code",
      "metadata": {
        "id": "ic6xBiF4ZXx5"
      },
      "source": [
        "df[['plan_economy_останется прежним, вполне приемлемым','plan_economy_останeтся прежними,неудовлетворительным','plan_economy_станет лучше','plan_economy_станет хуже','plan_economy_трудно сказать']] = pd.get_dummies(df['plan_economy'])\n",
        "features_to_drop.append('plan_economy')"
      ],
      "execution_count": 266,
      "outputs": []
    },
    {
      "cell_type": "code",
      "metadata": {
        "id": "F447Miw1ZXx5"
      },
      "source": [
        "df[['plan_politic_останется прежним, вполне приемлемым','plan_politic_останeтся прежними,неудовлетворительным','plan_politic_станет лучше','plan_politic_станет хуже','plan_politic_трудно сказать']] = pd.get_dummies(df['plan_politic'])\n",
        "features_to_drop.append('plan_politic')"
      ],
      "execution_count": 267,
      "outputs": []
    },
    {
      "cell_type": "code",
      "metadata": {
        "id": "EnUH_97QZXx5"
      },
      "source": [
        "df[['plan_support_gov_останется прежним, вполне приемлемым','plan_support_gov_останeтся прежними,неудовлетворительным','plan_support_gov_станет лучше','plan_support_gov_станет хуже','plan_support_gov_трудно сказать']] = pd.get_dummies(df['plan_support_gov'])\n",
        "features_to_drop.append('plan_support_gov')"
      ],
      "execution_count": 268,
      "outputs": []
    },
    {
      "cell_type": "code",
      "metadata": {
        "id": "LiD8aSzHZXx5"
      },
      "source": [
        "df[['высш_незак_высш','нач_неполн_ср','среднее']] = pd.get_dummies(df['education'])\n",
        "features_to_drop.append('education')"
      ],
      "execution_count": 269,
      "outputs": []
    },
    {
      "cell_type": "code",
      "metadata": {
        "id": "uphG_U3FZXx6"
      },
      "source": [
        "df[['occupation1','occupation2','occupation3','occupation4','occupation5','occupation6','occupation7','occupation8','occupation9','occupation10','occupation11','occupation12','occupation13','occupation14']] = pd.get_dummies(df['occupation'])\n",
        "features_to_drop.append('occupation')"
      ],
      "execution_count": 270,
      "outputs": []
    },
    {
      "cell_type": "code",
      "metadata": {
        "id": "hQWWvvXgZXx6"
      },
      "source": [
        "df[['income1','income2','income3','income4','income5']] = pd.get_dummies(df['income'])\n",
        "features_to_drop.append('income')"
      ],
      "execution_count": 271,
      "outputs": []
    },
    {
      "cell_type": "code",
      "metadata": {
        "id": "dhVwYancZXx6"
      },
      "source": [
        "df[['квартира','комната','общежитие']] = pd.get_dummies(df['living_conditions'])\n",
        "features_to_drop.append('living_conditions')"
      ],
      "execution_count": 272,
      "outputs": []
    },
    {
      "cell_type": "code",
      "metadata": {
        "id": "81k8kdJKZXx6"
      },
      "source": [
        "df[['religion_да','religion_нет','religion_трудно сказать']] = pd.get_dummies(df['religion'])\n",
        "features_to_drop.append('religion')"
      ],
      "execution_count": 273,
      "outputs": []
    },
    {
      "cell_type": "code",
      "metadata": {
        "id": "nkQ1hoc1ZXx7"
      },
      "source": [
        "df = df.drop(features_to_drop, axis=1)"
      ],
      "execution_count": 274,
      "outputs": []
    },
    {
      "cell_type": "code",
      "metadata": {
        "colab": {
          "base_uri": "https://localhost:8080/",
          "height": 287
        },
        "id": "1XUzEoTTZXx7",
        "outputId": "e096bcf8-4118-4739-90cf-49f46e39bda3"
      },
      "source": [
        "df.head()"
      ],
      "execution_count": 275,
      "outputs": [
        {
          "output_type": "execute_result",
          "data": {
            "text/html": [
              "<div>\n",
              "<style scoped>\n",
              "    .dataframe tbody tr th:only-of-type {\n",
              "        vertical-align: middle;\n",
              "    }\n",
              "\n",
              "    .dataframe tbody tr th {\n",
              "        vertical-align: top;\n",
              "    }\n",
              "\n",
              "    .dataframe thead th {\n",
              "        text-align: right;\n",
              "    }\n",
              "</style>\n",
              "<table border=\"1\" class=\"dataframe\">\n",
              "  <thead>\n",
              "    <tr style=\"text-align: right;\">\n",
              "      <th></th>\n",
              "      <th>childrens_fact</th>\n",
              "      <th>important_cash</th>\n",
              "      <th>important_rest</th>\n",
              "      <th>important_children</th>\n",
              "      <th>important_educ</th>\n",
              "      <th>important_intim</th>\n",
              "      <th>target</th>\n",
              "      <th>18-19</th>\n",
              "      <th>20-24</th>\n",
              "      <th>25-29</th>\n",
              "      <th>30-34</th>\n",
              "      <th>35-39</th>\n",
              "      <th>вдова</th>\n",
              "      <th>гражд_брак</th>\n",
              "      <th>замужем</th>\n",
              "      <th>не замужем</th>\n",
              "      <th>разведена</th>\n",
              "      <th>да</th>\n",
              "      <th>нет</th>\n",
              "      <th>трудно сказать</th>\n",
              "      <th>chilpdren_plan0</th>\n",
              "      <th>chilpdren_plan1</th>\n",
              "      <th>chilpdren_plan2</th>\n",
              "      <th>chilpdren_plan3</th>\n",
              "      <th>chilpdren_plan4</th>\n",
              "      <th>chilpdren_plan5</th>\n",
              "      <th>chilpdren_plan6</th>\n",
              "      <th>chilpdren_plan7</th>\n",
              "      <th>ideal_family0</th>\n",
              "      <th>ideal_family1</th>\n",
              "      <th>ideal_family2</th>\n",
              "      <th>ideal_family3</th>\n",
              "      <th>ideal_family4</th>\n",
              "      <th>ideal_family5</th>\n",
              "      <th>ideal_family6</th>\n",
              "      <th>children_plan2_0</th>\n",
              "      <th>children_plan2_1</th>\n",
              "      <th>children_plan2_2</th>\n",
              "      <th>children_plan2_3</th>\n",
              "      <th>children_plan2_4</th>\n",
              "      <th>...</th>\n",
              "      <th>plan_economy_станет хуже</th>\n",
              "      <th>plan_economy_трудно сказать</th>\n",
              "      <th>plan_politic_останется прежним, вполне приемлемым</th>\n",
              "      <th>plan_politic_останeтся прежними,неудовлетворительным</th>\n",
              "      <th>plan_politic_станет лучше</th>\n",
              "      <th>plan_politic_станет хуже</th>\n",
              "      <th>plan_politic_трудно сказать</th>\n",
              "      <th>plan_support_gov_останется прежним, вполне приемлемым</th>\n",
              "      <th>plan_support_gov_останeтся прежними,неудовлетворительным</th>\n",
              "      <th>plan_support_gov_станет лучше</th>\n",
              "      <th>plan_support_gov_станет хуже</th>\n",
              "      <th>plan_support_gov_трудно сказать</th>\n",
              "      <th>высш_незак_высш</th>\n",
              "      <th>нач_неполн_ср</th>\n",
              "      <th>среднее</th>\n",
              "      <th>occupation1</th>\n",
              "      <th>occupation2</th>\n",
              "      <th>occupation3</th>\n",
              "      <th>occupation4</th>\n",
              "      <th>occupation5</th>\n",
              "      <th>occupation6</th>\n",
              "      <th>occupation7</th>\n",
              "      <th>occupation8</th>\n",
              "      <th>occupation9</th>\n",
              "      <th>occupation10</th>\n",
              "      <th>occupation11</th>\n",
              "      <th>occupation12</th>\n",
              "      <th>occupation13</th>\n",
              "      <th>occupation14</th>\n",
              "      <th>income1</th>\n",
              "      <th>income2</th>\n",
              "      <th>income3</th>\n",
              "      <th>income4</th>\n",
              "      <th>income5</th>\n",
              "      <th>квартира</th>\n",
              "      <th>комната</th>\n",
              "      <th>общежитие</th>\n",
              "      <th>religion_да</th>\n",
              "      <th>religion_нет</th>\n",
              "      <th>religion_трудно сказать</th>\n",
              "    </tr>\n",
              "  </thead>\n",
              "  <tbody>\n",
              "    <tr>\n",
              "      <th>0</th>\n",
              "      <td>0.4</td>\n",
              "      <td>0.2</td>\n",
              "      <td>0.8</td>\n",
              "      <td>0.4</td>\n",
              "      <td>0.6</td>\n",
              "      <td>0.8</td>\n",
              "      <td>NaN</td>\n",
              "      <td>0</td>\n",
              "      <td>0</td>\n",
              "      <td>0</td>\n",
              "      <td>0</td>\n",
              "      <td>1</td>\n",
              "      <td>0</td>\n",
              "      <td>0</td>\n",
              "      <td>1</td>\n",
              "      <td>0</td>\n",
              "      <td>0</td>\n",
              "      <td>0</td>\n",
              "      <td>0</td>\n",
              "      <td>0</td>\n",
              "      <td>0</td>\n",
              "      <td>0</td>\n",
              "      <td>0</td>\n",
              "      <td>0</td>\n",
              "      <td>0</td>\n",
              "      <td>0</td>\n",
              "      <td>1</td>\n",
              "      <td>0</td>\n",
              "      <td>0</td>\n",
              "      <td>0</td>\n",
              "      <td>0</td>\n",
              "      <td>0</td>\n",
              "      <td>0</td>\n",
              "      <td>0</td>\n",
              "      <td>0</td>\n",
              "      <td>0</td>\n",
              "      <td>0</td>\n",
              "      <td>0</td>\n",
              "      <td>0</td>\n",
              "      <td>0</td>\n",
              "      <td>...</td>\n",
              "      <td>0</td>\n",
              "      <td>0</td>\n",
              "      <td>0</td>\n",
              "      <td>0</td>\n",
              "      <td>1</td>\n",
              "      <td>0</td>\n",
              "      <td>0</td>\n",
              "      <td>0</td>\n",
              "      <td>0</td>\n",
              "      <td>1</td>\n",
              "      <td>0</td>\n",
              "      <td>0</td>\n",
              "      <td>0</td>\n",
              "      <td>0</td>\n",
              "      <td>1</td>\n",
              "      <td>0</td>\n",
              "      <td>0</td>\n",
              "      <td>1</td>\n",
              "      <td>0</td>\n",
              "      <td>0</td>\n",
              "      <td>0</td>\n",
              "      <td>0</td>\n",
              "      <td>0</td>\n",
              "      <td>0</td>\n",
              "      <td>0</td>\n",
              "      <td>0</td>\n",
              "      <td>0</td>\n",
              "      <td>0</td>\n",
              "      <td>0</td>\n",
              "      <td>0</td>\n",
              "      <td>1</td>\n",
              "      <td>0</td>\n",
              "      <td>0</td>\n",
              "      <td>0</td>\n",
              "      <td>1</td>\n",
              "      <td>0</td>\n",
              "      <td>0</td>\n",
              "      <td>1</td>\n",
              "      <td>0</td>\n",
              "      <td>0</td>\n",
              "    </tr>\n",
              "    <tr>\n",
              "      <th>1</th>\n",
              "      <td>0.2</td>\n",
              "      <td>0.4</td>\n",
              "      <td>1.0</td>\n",
              "      <td>0.8</td>\n",
              "      <td>0.2</td>\n",
              "      <td>0.6</td>\n",
              "      <td>NaN</td>\n",
              "      <td>0</td>\n",
              "      <td>0</td>\n",
              "      <td>0</td>\n",
              "      <td>0</td>\n",
              "      <td>1</td>\n",
              "      <td>0</td>\n",
              "      <td>0</td>\n",
              "      <td>1</td>\n",
              "      <td>0</td>\n",
              "      <td>0</td>\n",
              "      <td>0</td>\n",
              "      <td>0</td>\n",
              "      <td>0</td>\n",
              "      <td>0</td>\n",
              "      <td>0</td>\n",
              "      <td>0</td>\n",
              "      <td>0</td>\n",
              "      <td>0</td>\n",
              "      <td>0</td>\n",
              "      <td>1</td>\n",
              "      <td>0</td>\n",
              "      <td>0</td>\n",
              "      <td>0</td>\n",
              "      <td>0</td>\n",
              "      <td>0</td>\n",
              "      <td>0</td>\n",
              "      <td>0</td>\n",
              "      <td>0</td>\n",
              "      <td>0</td>\n",
              "      <td>0</td>\n",
              "      <td>0</td>\n",
              "      <td>0</td>\n",
              "      <td>0</td>\n",
              "      <td>...</td>\n",
              "      <td>0</td>\n",
              "      <td>1</td>\n",
              "      <td>0</td>\n",
              "      <td>0</td>\n",
              "      <td>0</td>\n",
              "      <td>0</td>\n",
              "      <td>1</td>\n",
              "      <td>0</td>\n",
              "      <td>0</td>\n",
              "      <td>1</td>\n",
              "      <td>0</td>\n",
              "      <td>0</td>\n",
              "      <td>1</td>\n",
              "      <td>0</td>\n",
              "      <td>0</td>\n",
              "      <td>0</td>\n",
              "      <td>0</td>\n",
              "      <td>0</td>\n",
              "      <td>0</td>\n",
              "      <td>0</td>\n",
              "      <td>1</td>\n",
              "      <td>0</td>\n",
              "      <td>0</td>\n",
              "      <td>0</td>\n",
              "      <td>0</td>\n",
              "      <td>0</td>\n",
              "      <td>0</td>\n",
              "      <td>0</td>\n",
              "      <td>0</td>\n",
              "      <td>0</td>\n",
              "      <td>0</td>\n",
              "      <td>0</td>\n",
              "      <td>1</td>\n",
              "      <td>0</td>\n",
              "      <td>1</td>\n",
              "      <td>0</td>\n",
              "      <td>0</td>\n",
              "      <td>0</td>\n",
              "      <td>1</td>\n",
              "      <td>0</td>\n",
              "    </tr>\n",
              "    <tr>\n",
              "      <th>2</th>\n",
              "      <td>0.2</td>\n",
              "      <td>0.4</td>\n",
              "      <td>1.0</td>\n",
              "      <td>0.2</td>\n",
              "      <td>0.6</td>\n",
              "      <td>0.8</td>\n",
              "      <td>NaN</td>\n",
              "      <td>0</td>\n",
              "      <td>0</td>\n",
              "      <td>0</td>\n",
              "      <td>0</td>\n",
              "      <td>1</td>\n",
              "      <td>0</td>\n",
              "      <td>0</td>\n",
              "      <td>1</td>\n",
              "      <td>0</td>\n",
              "      <td>0</td>\n",
              "      <td>0</td>\n",
              "      <td>0</td>\n",
              "      <td>0</td>\n",
              "      <td>0</td>\n",
              "      <td>0</td>\n",
              "      <td>0</td>\n",
              "      <td>0</td>\n",
              "      <td>0</td>\n",
              "      <td>0</td>\n",
              "      <td>1</td>\n",
              "      <td>0</td>\n",
              "      <td>0</td>\n",
              "      <td>0</td>\n",
              "      <td>0</td>\n",
              "      <td>0</td>\n",
              "      <td>0</td>\n",
              "      <td>0</td>\n",
              "      <td>0</td>\n",
              "      <td>0</td>\n",
              "      <td>0</td>\n",
              "      <td>0</td>\n",
              "      <td>0</td>\n",
              "      <td>0</td>\n",
              "      <td>...</td>\n",
              "      <td>0</td>\n",
              "      <td>0</td>\n",
              "      <td>0</td>\n",
              "      <td>0</td>\n",
              "      <td>1</td>\n",
              "      <td>0</td>\n",
              "      <td>0</td>\n",
              "      <td>0</td>\n",
              "      <td>0</td>\n",
              "      <td>1</td>\n",
              "      <td>0</td>\n",
              "      <td>0</td>\n",
              "      <td>0</td>\n",
              "      <td>0</td>\n",
              "      <td>1</td>\n",
              "      <td>0</td>\n",
              "      <td>1</td>\n",
              "      <td>0</td>\n",
              "      <td>0</td>\n",
              "      <td>0</td>\n",
              "      <td>0</td>\n",
              "      <td>0</td>\n",
              "      <td>0</td>\n",
              "      <td>0</td>\n",
              "      <td>0</td>\n",
              "      <td>0</td>\n",
              "      <td>0</td>\n",
              "      <td>0</td>\n",
              "      <td>0</td>\n",
              "      <td>0</td>\n",
              "      <td>0</td>\n",
              "      <td>0</td>\n",
              "      <td>1</td>\n",
              "      <td>0</td>\n",
              "      <td>1</td>\n",
              "      <td>0</td>\n",
              "      <td>0</td>\n",
              "      <td>1</td>\n",
              "      <td>0</td>\n",
              "      <td>0</td>\n",
              "    </tr>\n",
              "    <tr>\n",
              "      <th>3</th>\n",
              "      <td>0.2</td>\n",
              "      <td>0.6</td>\n",
              "      <td>1.0</td>\n",
              "      <td>0.8</td>\n",
              "      <td>0.2</td>\n",
              "      <td>0.4</td>\n",
              "      <td>NaN</td>\n",
              "      <td>0</td>\n",
              "      <td>0</td>\n",
              "      <td>0</td>\n",
              "      <td>0</td>\n",
              "      <td>1</td>\n",
              "      <td>0</td>\n",
              "      <td>0</td>\n",
              "      <td>1</td>\n",
              "      <td>0</td>\n",
              "      <td>0</td>\n",
              "      <td>0</td>\n",
              "      <td>0</td>\n",
              "      <td>0</td>\n",
              "      <td>0</td>\n",
              "      <td>0</td>\n",
              "      <td>0</td>\n",
              "      <td>0</td>\n",
              "      <td>0</td>\n",
              "      <td>0</td>\n",
              "      <td>1</td>\n",
              "      <td>0</td>\n",
              "      <td>0</td>\n",
              "      <td>0</td>\n",
              "      <td>0</td>\n",
              "      <td>0</td>\n",
              "      <td>0</td>\n",
              "      <td>0</td>\n",
              "      <td>0</td>\n",
              "      <td>0</td>\n",
              "      <td>0</td>\n",
              "      <td>0</td>\n",
              "      <td>0</td>\n",
              "      <td>0</td>\n",
              "      <td>...</td>\n",
              "      <td>0</td>\n",
              "      <td>0</td>\n",
              "      <td>0</td>\n",
              "      <td>0</td>\n",
              "      <td>0</td>\n",
              "      <td>0</td>\n",
              "      <td>1</td>\n",
              "      <td>0</td>\n",
              "      <td>1</td>\n",
              "      <td>0</td>\n",
              "      <td>0</td>\n",
              "      <td>0</td>\n",
              "      <td>0</td>\n",
              "      <td>0</td>\n",
              "      <td>1</td>\n",
              "      <td>0</td>\n",
              "      <td>0</td>\n",
              "      <td>1</td>\n",
              "      <td>0</td>\n",
              "      <td>0</td>\n",
              "      <td>0</td>\n",
              "      <td>0</td>\n",
              "      <td>0</td>\n",
              "      <td>0</td>\n",
              "      <td>0</td>\n",
              "      <td>0</td>\n",
              "      <td>0</td>\n",
              "      <td>0</td>\n",
              "      <td>0</td>\n",
              "      <td>0</td>\n",
              "      <td>0</td>\n",
              "      <td>0</td>\n",
              "      <td>1</td>\n",
              "      <td>0</td>\n",
              "      <td>1</td>\n",
              "      <td>0</td>\n",
              "      <td>0</td>\n",
              "      <td>1</td>\n",
              "      <td>0</td>\n",
              "      <td>0</td>\n",
              "    </tr>\n",
              "    <tr>\n",
              "      <th>4</th>\n",
              "      <td>0.4</td>\n",
              "      <td>0.2</td>\n",
              "      <td>0.2</td>\n",
              "      <td>0.2</td>\n",
              "      <td>0.2</td>\n",
              "      <td>0.2</td>\n",
              "      <td>да</td>\n",
              "      <td>0</td>\n",
              "      <td>0</td>\n",
              "      <td>0</td>\n",
              "      <td>1</td>\n",
              "      <td>0</td>\n",
              "      <td>0</td>\n",
              "      <td>0</td>\n",
              "      <td>1</td>\n",
              "      <td>0</td>\n",
              "      <td>0</td>\n",
              "      <td>0</td>\n",
              "      <td>0</td>\n",
              "      <td>0</td>\n",
              "      <td>0</td>\n",
              "      <td>0</td>\n",
              "      <td>0</td>\n",
              "      <td>1</td>\n",
              "      <td>0</td>\n",
              "      <td>0</td>\n",
              "      <td>0</td>\n",
              "      <td>0</td>\n",
              "      <td>0</td>\n",
              "      <td>0</td>\n",
              "      <td>0</td>\n",
              "      <td>0</td>\n",
              "      <td>0</td>\n",
              "      <td>0</td>\n",
              "      <td>1</td>\n",
              "      <td>0</td>\n",
              "      <td>0</td>\n",
              "      <td>0</td>\n",
              "      <td>1</td>\n",
              "      <td>0</td>\n",
              "      <td>...</td>\n",
              "      <td>0</td>\n",
              "      <td>1</td>\n",
              "      <td>0</td>\n",
              "      <td>0</td>\n",
              "      <td>0</td>\n",
              "      <td>0</td>\n",
              "      <td>1</td>\n",
              "      <td>0</td>\n",
              "      <td>1</td>\n",
              "      <td>0</td>\n",
              "      <td>0</td>\n",
              "      <td>0</td>\n",
              "      <td>1</td>\n",
              "      <td>0</td>\n",
              "      <td>0</td>\n",
              "      <td>0</td>\n",
              "      <td>0</td>\n",
              "      <td>0</td>\n",
              "      <td>0</td>\n",
              "      <td>0</td>\n",
              "      <td>0</td>\n",
              "      <td>0</td>\n",
              "      <td>0</td>\n",
              "      <td>0</td>\n",
              "      <td>0</td>\n",
              "      <td>0</td>\n",
              "      <td>0</td>\n",
              "      <td>0</td>\n",
              "      <td>1</td>\n",
              "      <td>0</td>\n",
              "      <td>0</td>\n",
              "      <td>0</td>\n",
              "      <td>1</td>\n",
              "      <td>0</td>\n",
              "      <td>1</td>\n",
              "      <td>0</td>\n",
              "      <td>0</td>\n",
              "      <td>0</td>\n",
              "      <td>1</td>\n",
              "      <td>0</td>\n",
              "    </tr>\n",
              "  </tbody>\n",
              "</table>\n",
              "<p>5 rows × 99 columns</p>\n",
              "</div>"
            ],
            "text/plain": [
              "   childrens_fact  important_cash  ...  religion_нет  religion_трудно сказать\n",
              "0             0.4             0.2  ...             0                        0\n",
              "1             0.2             0.4  ...             1                        0\n",
              "2             0.2             0.4  ...             0                        0\n",
              "3             0.2             0.6  ...             0                        0\n",
              "4             0.4             0.2  ...             1                        0\n",
              "\n",
              "[5 rows x 99 columns]"
            ]
          },
          "metadata": {
            "tags": []
          },
          "execution_count": 275
        }
      ]
    },
    {
      "cell_type": "code",
      "metadata": {
        "colab": {
          "base_uri": "https://localhost:8080/",
          "height": 380
        },
        "id": "caolBu7XZXx8",
        "outputId": "0ae3b2d6-faaa-4eda-d47b-4dac32aeb39e"
      },
      "source": [
        "df.describe(include=[np.number])"
      ],
      "execution_count": 276,
      "outputs": [
        {
          "output_type": "execute_result",
          "data": {
            "text/html": [
              "<div>\n",
              "<style scoped>\n",
              "    .dataframe tbody tr th:only-of-type {\n",
              "        vertical-align: middle;\n",
              "    }\n",
              "\n",
              "    .dataframe tbody tr th {\n",
              "        vertical-align: top;\n",
              "    }\n",
              "\n",
              "    .dataframe thead th {\n",
              "        text-align: right;\n",
              "    }\n",
              "</style>\n",
              "<table border=\"1\" class=\"dataframe\">\n",
              "  <thead>\n",
              "    <tr style=\"text-align: right;\">\n",
              "      <th></th>\n",
              "      <th>childrens_fact</th>\n",
              "      <th>important_cash</th>\n",
              "      <th>important_rest</th>\n",
              "      <th>important_children</th>\n",
              "      <th>important_educ</th>\n",
              "      <th>important_intim</th>\n",
              "      <th>18-19</th>\n",
              "      <th>20-24</th>\n",
              "      <th>25-29</th>\n",
              "      <th>30-34</th>\n",
              "      <th>35-39</th>\n",
              "      <th>вдова</th>\n",
              "      <th>гражд_брак</th>\n",
              "      <th>замужем</th>\n",
              "      <th>не замужем</th>\n",
              "      <th>разведена</th>\n",
              "      <th>да</th>\n",
              "      <th>нет</th>\n",
              "      <th>трудно сказать</th>\n",
              "      <th>chilpdren_plan0</th>\n",
              "      <th>chilpdren_plan1</th>\n",
              "      <th>chilpdren_plan2</th>\n",
              "      <th>chilpdren_plan3</th>\n",
              "      <th>chilpdren_plan4</th>\n",
              "      <th>chilpdren_plan5</th>\n",
              "      <th>chilpdren_plan6</th>\n",
              "      <th>chilpdren_plan7</th>\n",
              "      <th>ideal_family0</th>\n",
              "      <th>ideal_family1</th>\n",
              "      <th>ideal_family2</th>\n",
              "      <th>ideal_family3</th>\n",
              "      <th>ideal_family4</th>\n",
              "      <th>ideal_family5</th>\n",
              "      <th>ideal_family6</th>\n",
              "      <th>children_plan2_0</th>\n",
              "      <th>children_plan2_1</th>\n",
              "      <th>children_plan2_2</th>\n",
              "      <th>children_plan2_3</th>\n",
              "      <th>children_plan2_4</th>\n",
              "      <th>children_plan2_5</th>\n",
              "      <th>...</th>\n",
              "      <th>plan_economy_станет хуже</th>\n",
              "      <th>plan_economy_трудно сказать</th>\n",
              "      <th>plan_politic_останется прежним, вполне приемлемым</th>\n",
              "      <th>plan_politic_останeтся прежними,неудовлетворительным</th>\n",
              "      <th>plan_politic_станет лучше</th>\n",
              "      <th>plan_politic_станет хуже</th>\n",
              "      <th>plan_politic_трудно сказать</th>\n",
              "      <th>plan_support_gov_останется прежним, вполне приемлемым</th>\n",
              "      <th>plan_support_gov_останeтся прежними,неудовлетворительным</th>\n",
              "      <th>plan_support_gov_станет лучше</th>\n",
              "      <th>plan_support_gov_станет хуже</th>\n",
              "      <th>plan_support_gov_трудно сказать</th>\n",
              "      <th>высш_незак_высш</th>\n",
              "      <th>нач_неполн_ср</th>\n",
              "      <th>среднее</th>\n",
              "      <th>occupation1</th>\n",
              "      <th>occupation2</th>\n",
              "      <th>occupation3</th>\n",
              "      <th>occupation4</th>\n",
              "      <th>occupation5</th>\n",
              "      <th>occupation6</th>\n",
              "      <th>occupation7</th>\n",
              "      <th>occupation8</th>\n",
              "      <th>occupation9</th>\n",
              "      <th>occupation10</th>\n",
              "      <th>occupation11</th>\n",
              "      <th>occupation12</th>\n",
              "      <th>occupation13</th>\n",
              "      <th>occupation14</th>\n",
              "      <th>income1</th>\n",
              "      <th>income2</th>\n",
              "      <th>income3</th>\n",
              "      <th>income4</th>\n",
              "      <th>income5</th>\n",
              "      <th>квартира</th>\n",
              "      <th>комната</th>\n",
              "      <th>общежитие</th>\n",
              "      <th>religion_да</th>\n",
              "      <th>religion_нет</th>\n",
              "      <th>religion_трудно сказать</th>\n",
              "    </tr>\n",
              "  </thead>\n",
              "  <tbody>\n",
              "    <tr>\n",
              "      <th>count</th>\n",
              "      <td>528.000000</td>\n",
              "      <td>490.000000</td>\n",
              "      <td>488.000000</td>\n",
              "      <td>489.000000</td>\n",
              "      <td>490.000000</td>\n",
              "      <td>483.000000</td>\n",
              "      <td>530.000000</td>\n",
              "      <td>530.000000</td>\n",
              "      <td>530.000000</td>\n",
              "      <td>530.000000</td>\n",
              "      <td>530.000000</td>\n",
              "      <td>530.000000</td>\n",
              "      <td>530.000000</td>\n",
              "      <td>530.000000</td>\n",
              "      <td>530.000000</td>\n",
              "      <td>530.000000</td>\n",
              "      <td>530.000000</td>\n",
              "      <td>530.000000</td>\n",
              "      <td>530.000000</td>\n",
              "      <td>530.000000</td>\n",
              "      <td>530.000000</td>\n",
              "      <td>530.00000</td>\n",
              "      <td>530.000000</td>\n",
              "      <td>530.000000</td>\n",
              "      <td>530.000000</td>\n",
              "      <td>530.000000</td>\n",
              "      <td>530.000000</td>\n",
              "      <td>530.000000</td>\n",
              "      <td>530.000000</td>\n",
              "      <td>530.000000</td>\n",
              "      <td>530.000000</td>\n",
              "      <td>530.000000</td>\n",
              "      <td>530.000000</td>\n",
              "      <td>530.000000</td>\n",
              "      <td>530.000000</td>\n",
              "      <td>530.000000</td>\n",
              "      <td>530.000000</td>\n",
              "      <td>530.000000</td>\n",
              "      <td>530.000000</td>\n",
              "      <td>530.000000</td>\n",
              "      <td>...</td>\n",
              "      <td>530.000000</td>\n",
              "      <td>530.000000</td>\n",
              "      <td>530.000000</td>\n",
              "      <td>530.000000</td>\n",
              "      <td>530.000000</td>\n",
              "      <td>530.000000</td>\n",
              "      <td>530.000000</td>\n",
              "      <td>530.000000</td>\n",
              "      <td>530.000000</td>\n",
              "      <td>530.000000</td>\n",
              "      <td>530.000000</td>\n",
              "      <td>530.000000</td>\n",
              "      <td>530.000000</td>\n",
              "      <td>530.000000</td>\n",
              "      <td>530.000000</td>\n",
              "      <td>530.000000</td>\n",
              "      <td>530.000000</td>\n",
              "      <td>530.000000</td>\n",
              "      <td>530.000000</td>\n",
              "      <td>530.000000</td>\n",
              "      <td>530.000000</td>\n",
              "      <td>530.000000</td>\n",
              "      <td>530.000000</td>\n",
              "      <td>530.000000</td>\n",
              "      <td>530.000000</td>\n",
              "      <td>530.000000</td>\n",
              "      <td>530.000000</td>\n",
              "      <td>530.000000</td>\n",
              "      <td>530.000000</td>\n",
              "      <td>530.000000</td>\n",
              "      <td>530.000000</td>\n",
              "      <td>530.00000</td>\n",
              "      <td>530.000000</td>\n",
              "      <td>530.000000</td>\n",
              "      <td>530.000000</td>\n",
              "      <td>530.000000</td>\n",
              "      <td>530.000000</td>\n",
              "      <td>530.000000</td>\n",
              "      <td>530.000000</td>\n",
              "      <td>530.000000</td>\n",
              "    </tr>\n",
              "    <tr>\n",
              "      <th>mean</th>\n",
              "      <td>0.162500</td>\n",
              "      <td>0.470612</td>\n",
              "      <td>0.757787</td>\n",
              "      <td>0.550102</td>\n",
              "      <td>0.497959</td>\n",
              "      <td>0.619876</td>\n",
              "      <td>0.126415</td>\n",
              "      <td>0.228302</td>\n",
              "      <td>0.203774</td>\n",
              "      <td>0.162264</td>\n",
              "      <td>0.279245</td>\n",
              "      <td>0.013208</td>\n",
              "      <td>0.049057</td>\n",
              "      <td>0.516981</td>\n",
              "      <td>0.349057</td>\n",
              "      <td>0.071698</td>\n",
              "      <td>0.184906</td>\n",
              "      <td>0.228302</td>\n",
              "      <td>0.052830</td>\n",
              "      <td>0.026415</td>\n",
              "      <td>0.218868</td>\n",
              "      <td>0.54717</td>\n",
              "      <td>0.145283</td>\n",
              "      <td>0.005660</td>\n",
              "      <td>0.007547</td>\n",
              "      <td>0.007547</td>\n",
              "      <td>0.041509</td>\n",
              "      <td>0.003774</td>\n",
              "      <td>0.033962</td>\n",
              "      <td>0.532075</td>\n",
              "      <td>0.341509</td>\n",
              "      <td>0.015094</td>\n",
              "      <td>0.026415</td>\n",
              "      <td>0.039623</td>\n",
              "      <td>0.009434</td>\n",
              "      <td>0.050943</td>\n",
              "      <td>0.403774</td>\n",
              "      <td>0.343396</td>\n",
              "      <td>0.049057</td>\n",
              "      <td>0.066038</td>\n",
              "      <td>...</td>\n",
              "      <td>0.073585</td>\n",
              "      <td>0.239623</td>\n",
              "      <td>0.226415</td>\n",
              "      <td>0.098113</td>\n",
              "      <td>0.258491</td>\n",
              "      <td>0.079245</td>\n",
              "      <td>0.337736</td>\n",
              "      <td>0.120755</td>\n",
              "      <td>0.198113</td>\n",
              "      <td>0.567925</td>\n",
              "      <td>0.018868</td>\n",
              "      <td>0.094340</td>\n",
              "      <td>0.584906</td>\n",
              "      <td>0.009434</td>\n",
              "      <td>0.381132</td>\n",
              "      <td>0.007547</td>\n",
              "      <td>0.022642</td>\n",
              "      <td>0.100000</td>\n",
              "      <td>0.058491</td>\n",
              "      <td>0.062264</td>\n",
              "      <td>0.243396</td>\n",
              "      <td>0.009434</td>\n",
              "      <td>0.033962</td>\n",
              "      <td>0.015094</td>\n",
              "      <td>0.184906</td>\n",
              "      <td>0.005660</td>\n",
              "      <td>0.158491</td>\n",
              "      <td>0.033962</td>\n",
              "      <td>0.039623</td>\n",
              "      <td>0.020755</td>\n",
              "      <td>0.124528</td>\n",
              "      <td>0.39434</td>\n",
              "      <td>0.373585</td>\n",
              "      <td>0.039623</td>\n",
              "      <td>0.824528</td>\n",
              "      <td>0.118868</td>\n",
              "      <td>0.033962</td>\n",
              "      <td>0.679245</td>\n",
              "      <td>0.220755</td>\n",
              "      <td>0.075472</td>\n",
              "    </tr>\n",
              "    <tr>\n",
              "      <th>std</th>\n",
              "      <td>0.174338</td>\n",
              "      <td>0.244685</td>\n",
              "      <td>0.248736</td>\n",
              "      <td>0.270028</td>\n",
              "      <td>0.291172</td>\n",
              "      <td>0.264533</td>\n",
              "      <td>0.332631</td>\n",
              "      <td>0.420135</td>\n",
              "      <td>0.403183</td>\n",
              "      <td>0.369041</td>\n",
              "      <td>0.449052</td>\n",
              "      <td>0.114270</td>\n",
              "      <td>0.216190</td>\n",
              "      <td>0.500184</td>\n",
              "      <td>0.477122</td>\n",
              "      <td>0.258231</td>\n",
              "      <td>0.388588</td>\n",
              "      <td>0.420135</td>\n",
              "      <td>0.223906</td>\n",
              "      <td>0.160518</td>\n",
              "      <td>0.413869</td>\n",
              "      <td>0.49824</td>\n",
              "      <td>0.352719</td>\n",
              "      <td>0.075093</td>\n",
              "      <td>0.086628</td>\n",
              "      <td>0.086628</td>\n",
              "      <td>0.199654</td>\n",
              "      <td>0.061371</td>\n",
              "      <td>0.181303</td>\n",
              "      <td>0.499441</td>\n",
              "      <td>0.474664</td>\n",
              "      <td>0.122043</td>\n",
              "      <td>0.160518</td>\n",
              "      <td>0.195255</td>\n",
              "      <td>0.096761</td>\n",
              "      <td>0.220090</td>\n",
              "      <td>0.491117</td>\n",
              "      <td>0.475291</td>\n",
              "      <td>0.216190</td>\n",
              "      <td>0.248583</td>\n",
              "      <td>...</td>\n",
              "      <td>0.261341</td>\n",
              "      <td>0.427256</td>\n",
              "      <td>0.418906</td>\n",
              "      <td>0.297749</td>\n",
              "      <td>0.438219</td>\n",
              "      <td>0.270376</td>\n",
              "      <td>0.473385</td>\n",
              "      <td>0.326150</td>\n",
              "      <td>0.398954</td>\n",
              "      <td>0.495833</td>\n",
              "      <td>0.136187</td>\n",
              "      <td>0.292577</td>\n",
              "      <td>0.493204</td>\n",
              "      <td>0.096761</td>\n",
              "      <td>0.486124</td>\n",
              "      <td>0.086628</td>\n",
              "      <td>0.148898</td>\n",
              "      <td>0.300283</td>\n",
              "      <td>0.234890</td>\n",
              "      <td>0.241863</td>\n",
              "      <td>0.429538</td>\n",
              "      <td>0.096761</td>\n",
              "      <td>0.181303</td>\n",
              "      <td>0.122043</td>\n",
              "      <td>0.388588</td>\n",
              "      <td>0.075093</td>\n",
              "      <td>0.365545</td>\n",
              "      <td>0.181303</td>\n",
              "      <td>0.195255</td>\n",
              "      <td>0.142697</td>\n",
              "      <td>0.330495</td>\n",
              "      <td>0.48917</td>\n",
              "      <td>0.484212</td>\n",
              "      <td>0.195255</td>\n",
              "      <td>0.380729</td>\n",
              "      <td>0.323939</td>\n",
              "      <td>0.181303</td>\n",
              "      <td>0.467208</td>\n",
              "      <td>0.415147</td>\n",
              "      <td>0.264400</td>\n",
              "    </tr>\n",
              "    <tr>\n",
              "      <th>min</th>\n",
              "      <td>0.000000</td>\n",
              "      <td>0.200000</td>\n",
              "      <td>0.200000</td>\n",
              "      <td>0.200000</td>\n",
              "      <td>0.200000</td>\n",
              "      <td>0.200000</td>\n",
              "      <td>0.000000</td>\n",
              "      <td>0.000000</td>\n",
              "      <td>0.000000</td>\n",
              "      <td>0.000000</td>\n",
              "      <td>0.000000</td>\n",
              "      <td>0.000000</td>\n",
              "      <td>0.000000</td>\n",
              "      <td>0.000000</td>\n",
              "      <td>0.000000</td>\n",
              "      <td>0.000000</td>\n",
              "      <td>0.000000</td>\n",
              "      <td>0.000000</td>\n",
              "      <td>0.000000</td>\n",
              "      <td>0.000000</td>\n",
              "      <td>0.000000</td>\n",
              "      <td>0.00000</td>\n",
              "      <td>0.000000</td>\n",
              "      <td>0.000000</td>\n",
              "      <td>0.000000</td>\n",
              "      <td>0.000000</td>\n",
              "      <td>0.000000</td>\n",
              "      <td>0.000000</td>\n",
              "      <td>0.000000</td>\n",
              "      <td>0.000000</td>\n",
              "      <td>0.000000</td>\n",
              "      <td>0.000000</td>\n",
              "      <td>0.000000</td>\n",
              "      <td>0.000000</td>\n",
              "      <td>0.000000</td>\n",
              "      <td>0.000000</td>\n",
              "      <td>0.000000</td>\n",
              "      <td>0.000000</td>\n",
              "      <td>0.000000</td>\n",
              "      <td>0.000000</td>\n",
              "      <td>...</td>\n",
              "      <td>0.000000</td>\n",
              "      <td>0.000000</td>\n",
              "      <td>0.000000</td>\n",
              "      <td>0.000000</td>\n",
              "      <td>0.000000</td>\n",
              "      <td>0.000000</td>\n",
              "      <td>0.000000</td>\n",
              "      <td>0.000000</td>\n",
              "      <td>0.000000</td>\n",
              "      <td>0.000000</td>\n",
              "      <td>0.000000</td>\n",
              "      <td>0.000000</td>\n",
              "      <td>0.000000</td>\n",
              "      <td>0.000000</td>\n",
              "      <td>0.000000</td>\n",
              "      <td>0.000000</td>\n",
              "      <td>0.000000</td>\n",
              "      <td>0.000000</td>\n",
              "      <td>0.000000</td>\n",
              "      <td>0.000000</td>\n",
              "      <td>0.000000</td>\n",
              "      <td>0.000000</td>\n",
              "      <td>0.000000</td>\n",
              "      <td>0.000000</td>\n",
              "      <td>0.000000</td>\n",
              "      <td>0.000000</td>\n",
              "      <td>0.000000</td>\n",
              "      <td>0.000000</td>\n",
              "      <td>0.000000</td>\n",
              "      <td>0.000000</td>\n",
              "      <td>0.000000</td>\n",
              "      <td>0.00000</td>\n",
              "      <td>0.000000</td>\n",
              "      <td>0.000000</td>\n",
              "      <td>0.000000</td>\n",
              "      <td>0.000000</td>\n",
              "      <td>0.000000</td>\n",
              "      <td>0.000000</td>\n",
              "      <td>0.000000</td>\n",
              "      <td>0.000000</td>\n",
              "    </tr>\n",
              "    <tr>\n",
              "      <th>25%</th>\n",
              "      <td>0.000000</td>\n",
              "      <td>0.200000</td>\n",
              "      <td>0.600000</td>\n",
              "      <td>0.400000</td>\n",
              "      <td>0.200000</td>\n",
              "      <td>0.400000</td>\n",
              "      <td>0.000000</td>\n",
              "      <td>0.000000</td>\n",
              "      <td>0.000000</td>\n",
              "      <td>0.000000</td>\n",
              "      <td>0.000000</td>\n",
              "      <td>0.000000</td>\n",
              "      <td>0.000000</td>\n",
              "      <td>0.000000</td>\n",
              "      <td>0.000000</td>\n",
              "      <td>0.000000</td>\n",
              "      <td>0.000000</td>\n",
              "      <td>0.000000</td>\n",
              "      <td>0.000000</td>\n",
              "      <td>0.000000</td>\n",
              "      <td>0.000000</td>\n",
              "      <td>0.00000</td>\n",
              "      <td>0.000000</td>\n",
              "      <td>0.000000</td>\n",
              "      <td>0.000000</td>\n",
              "      <td>0.000000</td>\n",
              "      <td>0.000000</td>\n",
              "      <td>0.000000</td>\n",
              "      <td>0.000000</td>\n",
              "      <td>0.000000</td>\n",
              "      <td>0.000000</td>\n",
              "      <td>0.000000</td>\n",
              "      <td>0.000000</td>\n",
              "      <td>0.000000</td>\n",
              "      <td>0.000000</td>\n",
              "      <td>0.000000</td>\n",
              "      <td>0.000000</td>\n",
              "      <td>0.000000</td>\n",
              "      <td>0.000000</td>\n",
              "      <td>0.000000</td>\n",
              "      <td>...</td>\n",
              "      <td>0.000000</td>\n",
              "      <td>0.000000</td>\n",
              "      <td>0.000000</td>\n",
              "      <td>0.000000</td>\n",
              "      <td>0.000000</td>\n",
              "      <td>0.000000</td>\n",
              "      <td>0.000000</td>\n",
              "      <td>0.000000</td>\n",
              "      <td>0.000000</td>\n",
              "      <td>0.000000</td>\n",
              "      <td>0.000000</td>\n",
              "      <td>0.000000</td>\n",
              "      <td>0.000000</td>\n",
              "      <td>0.000000</td>\n",
              "      <td>0.000000</td>\n",
              "      <td>0.000000</td>\n",
              "      <td>0.000000</td>\n",
              "      <td>0.000000</td>\n",
              "      <td>0.000000</td>\n",
              "      <td>0.000000</td>\n",
              "      <td>0.000000</td>\n",
              "      <td>0.000000</td>\n",
              "      <td>0.000000</td>\n",
              "      <td>0.000000</td>\n",
              "      <td>0.000000</td>\n",
              "      <td>0.000000</td>\n",
              "      <td>0.000000</td>\n",
              "      <td>0.000000</td>\n",
              "      <td>0.000000</td>\n",
              "      <td>0.000000</td>\n",
              "      <td>0.000000</td>\n",
              "      <td>0.00000</td>\n",
              "      <td>0.000000</td>\n",
              "      <td>0.000000</td>\n",
              "      <td>1.000000</td>\n",
              "      <td>0.000000</td>\n",
              "      <td>0.000000</td>\n",
              "      <td>0.000000</td>\n",
              "      <td>0.000000</td>\n",
              "      <td>0.000000</td>\n",
              "    </tr>\n",
              "    <tr>\n",
              "      <th>50%</th>\n",
              "      <td>0.200000</td>\n",
              "      <td>0.400000</td>\n",
              "      <td>0.800000</td>\n",
              "      <td>0.600000</td>\n",
              "      <td>0.400000</td>\n",
              "      <td>0.600000</td>\n",
              "      <td>0.000000</td>\n",
              "      <td>0.000000</td>\n",
              "      <td>0.000000</td>\n",
              "      <td>0.000000</td>\n",
              "      <td>0.000000</td>\n",
              "      <td>0.000000</td>\n",
              "      <td>0.000000</td>\n",
              "      <td>1.000000</td>\n",
              "      <td>0.000000</td>\n",
              "      <td>0.000000</td>\n",
              "      <td>0.000000</td>\n",
              "      <td>0.000000</td>\n",
              "      <td>0.000000</td>\n",
              "      <td>0.000000</td>\n",
              "      <td>0.000000</td>\n",
              "      <td>1.00000</td>\n",
              "      <td>0.000000</td>\n",
              "      <td>0.000000</td>\n",
              "      <td>0.000000</td>\n",
              "      <td>0.000000</td>\n",
              "      <td>0.000000</td>\n",
              "      <td>0.000000</td>\n",
              "      <td>0.000000</td>\n",
              "      <td>1.000000</td>\n",
              "      <td>0.000000</td>\n",
              "      <td>0.000000</td>\n",
              "      <td>0.000000</td>\n",
              "      <td>0.000000</td>\n",
              "      <td>0.000000</td>\n",
              "      <td>0.000000</td>\n",
              "      <td>0.000000</td>\n",
              "      <td>0.000000</td>\n",
              "      <td>0.000000</td>\n",
              "      <td>0.000000</td>\n",
              "      <td>...</td>\n",
              "      <td>0.000000</td>\n",
              "      <td>0.000000</td>\n",
              "      <td>0.000000</td>\n",
              "      <td>0.000000</td>\n",
              "      <td>0.000000</td>\n",
              "      <td>0.000000</td>\n",
              "      <td>0.000000</td>\n",
              "      <td>0.000000</td>\n",
              "      <td>0.000000</td>\n",
              "      <td>1.000000</td>\n",
              "      <td>0.000000</td>\n",
              "      <td>0.000000</td>\n",
              "      <td>1.000000</td>\n",
              "      <td>0.000000</td>\n",
              "      <td>0.000000</td>\n",
              "      <td>0.000000</td>\n",
              "      <td>0.000000</td>\n",
              "      <td>0.000000</td>\n",
              "      <td>0.000000</td>\n",
              "      <td>0.000000</td>\n",
              "      <td>0.000000</td>\n",
              "      <td>0.000000</td>\n",
              "      <td>0.000000</td>\n",
              "      <td>0.000000</td>\n",
              "      <td>0.000000</td>\n",
              "      <td>0.000000</td>\n",
              "      <td>0.000000</td>\n",
              "      <td>0.000000</td>\n",
              "      <td>0.000000</td>\n",
              "      <td>0.000000</td>\n",
              "      <td>0.000000</td>\n",
              "      <td>0.00000</td>\n",
              "      <td>0.000000</td>\n",
              "      <td>0.000000</td>\n",
              "      <td>1.000000</td>\n",
              "      <td>0.000000</td>\n",
              "      <td>0.000000</td>\n",
              "      <td>1.000000</td>\n",
              "      <td>0.000000</td>\n",
              "      <td>0.000000</td>\n",
              "    </tr>\n",
              "    <tr>\n",
              "      <th>75%</th>\n",
              "      <td>0.200000</td>\n",
              "      <td>0.600000</td>\n",
              "      <td>1.000000</td>\n",
              "      <td>0.800000</td>\n",
              "      <td>0.800000</td>\n",
              "      <td>0.800000</td>\n",
              "      <td>0.000000</td>\n",
              "      <td>0.000000</td>\n",
              "      <td>0.000000</td>\n",
              "      <td>0.000000</td>\n",
              "      <td>1.000000</td>\n",
              "      <td>0.000000</td>\n",
              "      <td>0.000000</td>\n",
              "      <td>1.000000</td>\n",
              "      <td>1.000000</td>\n",
              "      <td>0.000000</td>\n",
              "      <td>0.000000</td>\n",
              "      <td>0.000000</td>\n",
              "      <td>0.000000</td>\n",
              "      <td>0.000000</td>\n",
              "      <td>0.000000</td>\n",
              "      <td>1.00000</td>\n",
              "      <td>0.000000</td>\n",
              "      <td>0.000000</td>\n",
              "      <td>0.000000</td>\n",
              "      <td>0.000000</td>\n",
              "      <td>0.000000</td>\n",
              "      <td>0.000000</td>\n",
              "      <td>0.000000</td>\n",
              "      <td>1.000000</td>\n",
              "      <td>1.000000</td>\n",
              "      <td>0.000000</td>\n",
              "      <td>0.000000</td>\n",
              "      <td>0.000000</td>\n",
              "      <td>0.000000</td>\n",
              "      <td>0.000000</td>\n",
              "      <td>1.000000</td>\n",
              "      <td>1.000000</td>\n",
              "      <td>0.000000</td>\n",
              "      <td>0.000000</td>\n",
              "      <td>...</td>\n",
              "      <td>0.000000</td>\n",
              "      <td>0.000000</td>\n",
              "      <td>0.000000</td>\n",
              "      <td>0.000000</td>\n",
              "      <td>1.000000</td>\n",
              "      <td>0.000000</td>\n",
              "      <td>1.000000</td>\n",
              "      <td>0.000000</td>\n",
              "      <td>0.000000</td>\n",
              "      <td>1.000000</td>\n",
              "      <td>0.000000</td>\n",
              "      <td>0.000000</td>\n",
              "      <td>1.000000</td>\n",
              "      <td>0.000000</td>\n",
              "      <td>1.000000</td>\n",
              "      <td>0.000000</td>\n",
              "      <td>0.000000</td>\n",
              "      <td>0.000000</td>\n",
              "      <td>0.000000</td>\n",
              "      <td>0.000000</td>\n",
              "      <td>0.000000</td>\n",
              "      <td>0.000000</td>\n",
              "      <td>0.000000</td>\n",
              "      <td>0.000000</td>\n",
              "      <td>0.000000</td>\n",
              "      <td>0.000000</td>\n",
              "      <td>0.000000</td>\n",
              "      <td>0.000000</td>\n",
              "      <td>0.000000</td>\n",
              "      <td>0.000000</td>\n",
              "      <td>0.000000</td>\n",
              "      <td>1.00000</td>\n",
              "      <td>1.000000</td>\n",
              "      <td>0.000000</td>\n",
              "      <td>1.000000</td>\n",
              "      <td>0.000000</td>\n",
              "      <td>0.000000</td>\n",
              "      <td>1.000000</td>\n",
              "      <td>0.000000</td>\n",
              "      <td>0.000000</td>\n",
              "    </tr>\n",
              "    <tr>\n",
              "      <th>max</th>\n",
              "      <td>1.000000</td>\n",
              "      <td>1.000000</td>\n",
              "      <td>1.000000</td>\n",
              "      <td>1.000000</td>\n",
              "      <td>1.000000</td>\n",
              "      <td>1.000000</td>\n",
              "      <td>1.000000</td>\n",
              "      <td>1.000000</td>\n",
              "      <td>1.000000</td>\n",
              "      <td>1.000000</td>\n",
              "      <td>1.000000</td>\n",
              "      <td>1.000000</td>\n",
              "      <td>1.000000</td>\n",
              "      <td>1.000000</td>\n",
              "      <td>1.000000</td>\n",
              "      <td>1.000000</td>\n",
              "      <td>1.000000</td>\n",
              "      <td>1.000000</td>\n",
              "      <td>1.000000</td>\n",
              "      <td>1.000000</td>\n",
              "      <td>1.000000</td>\n",
              "      <td>1.00000</td>\n",
              "      <td>1.000000</td>\n",
              "      <td>1.000000</td>\n",
              "      <td>1.000000</td>\n",
              "      <td>1.000000</td>\n",
              "      <td>1.000000</td>\n",
              "      <td>1.000000</td>\n",
              "      <td>1.000000</td>\n",
              "      <td>1.000000</td>\n",
              "      <td>1.000000</td>\n",
              "      <td>1.000000</td>\n",
              "      <td>1.000000</td>\n",
              "      <td>1.000000</td>\n",
              "      <td>1.000000</td>\n",
              "      <td>1.000000</td>\n",
              "      <td>1.000000</td>\n",
              "      <td>1.000000</td>\n",
              "      <td>1.000000</td>\n",
              "      <td>1.000000</td>\n",
              "      <td>...</td>\n",
              "      <td>1.000000</td>\n",
              "      <td>1.000000</td>\n",
              "      <td>1.000000</td>\n",
              "      <td>1.000000</td>\n",
              "      <td>1.000000</td>\n",
              "      <td>1.000000</td>\n",
              "      <td>1.000000</td>\n",
              "      <td>1.000000</td>\n",
              "      <td>1.000000</td>\n",
              "      <td>1.000000</td>\n",
              "      <td>1.000000</td>\n",
              "      <td>1.000000</td>\n",
              "      <td>1.000000</td>\n",
              "      <td>1.000000</td>\n",
              "      <td>1.000000</td>\n",
              "      <td>1.000000</td>\n",
              "      <td>1.000000</td>\n",
              "      <td>1.000000</td>\n",
              "      <td>1.000000</td>\n",
              "      <td>1.000000</td>\n",
              "      <td>1.000000</td>\n",
              "      <td>1.000000</td>\n",
              "      <td>1.000000</td>\n",
              "      <td>1.000000</td>\n",
              "      <td>1.000000</td>\n",
              "      <td>1.000000</td>\n",
              "      <td>1.000000</td>\n",
              "      <td>1.000000</td>\n",
              "      <td>1.000000</td>\n",
              "      <td>1.000000</td>\n",
              "      <td>1.000000</td>\n",
              "      <td>1.00000</td>\n",
              "      <td>1.000000</td>\n",
              "      <td>1.000000</td>\n",
              "      <td>1.000000</td>\n",
              "      <td>1.000000</td>\n",
              "      <td>1.000000</td>\n",
              "      <td>1.000000</td>\n",
              "      <td>1.000000</td>\n",
              "      <td>1.000000</td>\n",
              "    </tr>\n",
              "  </tbody>\n",
              "</table>\n",
              "<p>8 rows × 98 columns</p>\n",
              "</div>"
            ],
            "text/plain": [
              "       childrens_fact  important_cash  ...  religion_нет  religion_трудно сказать\n",
              "count      528.000000      490.000000  ...    530.000000               530.000000\n",
              "mean         0.162500        0.470612  ...      0.220755                 0.075472\n",
              "std          0.174338        0.244685  ...      0.415147                 0.264400\n",
              "min          0.000000        0.200000  ...      0.000000                 0.000000\n",
              "25%          0.000000        0.200000  ...      0.000000                 0.000000\n",
              "50%          0.200000        0.400000  ...      0.000000                 0.000000\n",
              "75%          0.200000        0.600000  ...      0.000000                 0.000000\n",
              "max          1.000000        1.000000  ...      1.000000                 1.000000\n",
              "\n",
              "[8 rows x 98 columns]"
            ]
          },
          "metadata": {
            "tags": []
          },
          "execution_count": 276
        }
      ]
    },
    {
      "cell_type": "code",
      "metadata": {
        "colab": {
          "base_uri": "https://localhost:8080/",
          "height": 173
        },
        "id": "GTUFmjAnZXx8",
        "outputId": "a743a120-d6c1-4ec6-f412-2faa824146f8"
      },
      "source": [
        "df.describe(include=[np.object])"
      ],
      "execution_count": 277,
      "outputs": [
        {
          "output_type": "execute_result",
          "data": {
            "text/html": [
              "<div>\n",
              "<style scoped>\n",
              "    .dataframe tbody tr th:only-of-type {\n",
              "        vertical-align: middle;\n",
              "    }\n",
              "\n",
              "    .dataframe tbody tr th {\n",
              "        vertical-align: top;\n",
              "    }\n",
              "\n",
              "    .dataframe thead th {\n",
              "        text-align: right;\n",
              "    }\n",
              "</style>\n",
              "<table border=\"1\" class=\"dataframe\">\n",
              "  <thead>\n",
              "    <tr style=\"text-align: right;\">\n",
              "      <th></th>\n",
              "      <th>target</th>\n",
              "    </tr>\n",
              "  </thead>\n",
              "  <tbody>\n",
              "    <tr>\n",
              "      <th>count</th>\n",
              "      <td>526</td>\n",
              "    </tr>\n",
              "    <tr>\n",
              "      <th>unique</th>\n",
              "      <td>2</td>\n",
              "    </tr>\n",
              "    <tr>\n",
              "      <th>top</th>\n",
              "      <td>нет</td>\n",
              "    </tr>\n",
              "    <tr>\n",
              "      <th>freq</th>\n",
              "      <td>361</td>\n",
              "    </tr>\n",
              "  </tbody>\n",
              "</table>\n",
              "</div>"
            ],
            "text/plain": [
              "       target\n",
              "count     526\n",
              "unique      2\n",
              "top       нет\n",
              "freq      361"
            ]
          },
          "metadata": {
            "tags": []
          },
          "execution_count": 277
        }
      ]
    },
    {
      "cell_type": "code",
      "metadata": {
        "colab": {
          "base_uri": "https://localhost:8080/",
          "height": 490
        },
        "id": "yItCBRtiZXx8",
        "outputId": "63fc7424-caa8-4277-b31c-61a97c2400b9"
      },
      "source": [
        "msno.bar(df)"
      ],
      "execution_count": 278,
      "outputs": [
        {
          "output_type": "execute_result",
          "data": {
            "text/plain": [
              "<matplotlib.axes._subplots.AxesSubplot at 0x7f77be72e290>"
            ]
          },
          "metadata": {
            "tags": []
          },
          "execution_count": 278
        },
        {
          "output_type": "display_data",
          "data": {
            "image/png": "[encoded data removed]",
            "text/plain": [
              "<Figure size 1728x720 with 2 Axes>"
            ]
          },
          "metadata": {
            "tags": [],
            "needs_background": "light"
          }
        }
      ]
    },
    {
      "cell_type": "code",
      "metadata": {
        "colab": {
          "base_uri": "https://localhost:8080/"
        },
        "id": "wRUNaxwuZXx9",
        "outputId": "ed6fd044-e975-40bf-8b8e-c060eab2d64c"
      },
      "source": [
        "df.isnull().sum()"
      ],
      "execution_count": 279,
      "outputs": [
        {
          "output_type": "execute_result",
          "data": {
            "text/plain": [
              "childrens_fact              2\n",
              "important_cash             40\n",
              "important_rest             42\n",
              "important_children         41\n",
              "important_educ             40\n",
              "                           ..\n",
              "комната                     0\n",
              "общежитие                   0\n",
              "religion_да                 0\n",
              "religion_нет                0\n",
              "religion_трудно сказать     0\n",
              "Length: 99, dtype: int64"
            ]
          },
          "metadata": {
            "tags": []
          },
          "execution_count": 279
        }
      ]
    },
    {
      "cell_type": "code",
      "metadata": {
        "id": "0L1TduTDZXx-"
      },
      "source": [
        "#все пустые удаляем из набора\n",
        "df = df.dropna()"
      ],
      "execution_count": 280,
      "outputs": []
    },
    {
      "cell_type": "code",
      "metadata": {
        "colab": {
          "base_uri": "https://localhost:8080/"
        },
        "id": "x7UEprv9ZXx-",
        "outputId": "30adcdfa-f4cd-4103-a9c1-9b5c62efd2b9"
      },
      "source": [
        "df.isnull().sum()"
      ],
      "execution_count": 281,
      "outputs": [
        {
          "output_type": "execute_result",
          "data": {
            "text/plain": [
              "childrens_fact             0\n",
              "important_cash             0\n",
              "important_rest             0\n",
              "important_children         0\n",
              "important_educ             0\n",
              "                          ..\n",
              "комната                    0\n",
              "общежитие                  0\n",
              "religion_да                0\n",
              "religion_нет               0\n",
              "religion_трудно сказать    0\n",
              "Length: 99, dtype: int64"
            ]
          },
          "metadata": {
            "tags": []
          },
          "execution_count": 281
        }
      ]
    },
    {
      "cell_type": "code",
      "metadata": {
        "colab": {
          "base_uri": "https://localhost:8080/"
        },
        "id": "9IKyhAD8ZXx-",
        "outputId": "eb8a7c12-c17f-43f8-8a42-0f3ffef31202"
      },
      "source": [
        "len(df)"
      ],
      "execution_count": 104,
      "outputs": [
        {
          "output_type": "execute_result",
          "data": {
            "text/plain": [
              "477"
            ]
          },
          "metadata": {
            "tags": []
          },
          "execution_count": 104
        }
      ]
    },
    {
      "cell_type": "code",
      "metadata": {
        "colab": {
          "base_uri": "https://localhost:8080/"
        },
        "id": "QhQHAaeqZXx_",
        "outputId": "10c88037-4c87-4ee9-8216-2f8cd20d1cf7"
      },
      "source": [
        "len(df[~df['target'].isnull()])"
      ],
      "execution_count": 105,
      "outputs": [
        {
          "output_type": "execute_result",
          "data": {
            "text/plain": [
              "477"
            ]
          },
          "metadata": {
            "tags": []
          },
          "execution_count": 105
        }
      ]
    },
    {
      "cell_type": "code",
      "metadata": {
        "id": "cDyTvF9IZXx_"
      },
      "source": [
        "df = df[~df['target'].isnull()]"
      ],
      "execution_count": 106,
      "outputs": []
    },
    {
      "cell_type": "code",
      "metadata": {
        "id": "eanlgVctuVG6"
      },
      "source": [
        "#вычисление target label (выходных меток для обучения)\n",
        "#61 класс\n",
        "labels = np.array(df['target'] == 'да')"
      ],
      "execution_count": 107,
      "outputs": []
    },
    {
      "cell_type": "code",
      "metadata": {
        "id": "o-u8KS-9ZXx_"
      },
      "source": [
        "data = df.drop('target', axis=1)"
      ],
      "execution_count": 182,
      "outputs": []
    },
    {
      "cell_type": "code",
      "metadata": {
        "id": "qhxmfBhvZXyA"
      },
      "source": [
        "x_train, x_val = train_test_split(\n",
        "    data, train_size=0.7, random_state=27, shuffle=True\n",
        ")\n",
        "y_train, y_val = train_test_split(\n",
        "    labels, train_size=0.7, random_state=27, shuffle=True\n",
        ")"
      ],
      "execution_count": 189,
      "outputs": []
    },
    {
      "cell_type": "markdown",
      "metadata": {
        "id": "1AhQ5GRVuVG7"
      },
      "source": [
        "Конструирование нейронной сети"
      ]
    },
    {
      "cell_type": "code",
      "metadata": {
        "colab": {
          "base_uri": "https://localhost:8080/"
        },
        "id": "OX4rb5FRuVG9",
        "outputId": "94e821e6-7fcd-4b82-a7b2-909f94c605f2"
      },
      "source": [
        "labels = np.asarray(labels)\n",
        "print('Shape of data tensor:', data.shape)\n",
        "print('Shape of label tensor:', labels.shape)"
      ],
      "execution_count": 137,
      "outputs": [
        {
          "output_type": "stream",
          "text": [
            "Shape of data tensor: (477, 98)\n",
            "Shape of label tensor: (477,)\n"
          ],
          "name": "stdout"
        }
      ]
    },
    {
      "cell_type": "code",
      "metadata": {
        "colab": {
          "base_uri": "https://localhost:8080/"
        },
        "id": "5dhdDjBPuVG-",
        "outputId": "f7a9603c-df09-437b-dc91-d6d685ccaf95"
      },
      "source": [
        "from keras.models import Sequential\n",
        "from keras.layers import Embedding, Flatten, Dense, Dropout\n",
        "from sklearn.metrics import roc_auc_score, roc_curve\n",
        "\n",
        "model = Sequential()\n",
        "model.add(Dense(16, activation='relu', input_shape=(98,)))\n",
        "#model.add(Flatten())\n",
        "#model.add(Dense(16, activation='relu'))\n",
        "#model.add(Dropout(0.5))\n",
        "model.add(Dense(1, activation='sigmoid'))\n",
        "model.summary()"
      ],
      "execution_count": 225,
      "outputs": [
        {
          "output_type": "stream",
          "text": [
            "Model: \"sequential_19\"\n",
            "_________________________________________________________________\n",
            "Layer (type)                 Output Shape              Param #   \n",
            "=================================================================\n",
            "dense_36 (Dense)             (None, 16)                1584      \n",
            "_________________________________________________________________\n",
            "dense_37 (Dense)             (None, 1)                 17        \n",
            "=================================================================\n",
            "Total params: 1,601\n",
            "Trainable params: 1,601\n",
            "Non-trainable params: 0\n",
            "_________________________________________________________________\n"
          ],
          "name": "stdout"
        }
      ]
    },
    {
      "cell_type": "code",
      "metadata": {
        "id": "A6hvvmgQuVG_"
      },
      "source": [
        "model.compile(optimizer='rmsprop', \n",
        "             loss='binary_crossentropy',\n",
        "             metrics=['acc'])"
      ],
      "execution_count": 226,
      "outputs": []
    },
    {
      "cell_type": "code",
      "metadata": {
        "colab": {
          "base_uri": "https://localhost:8080/"
        },
        "id": "_POxjlMTuVG_",
        "outputId": "57a8a632-fc57-45cb-f004-871bd134ddd2"
      },
      "source": [
        "history = model.fit(x_train, y_train,\n",
        "                    epochs=14,\n",
        "                    batch_size=32,\n",
        "                    validation_data=(x_val, y_val))"
      ],
      "execution_count": 227,
      "outputs": [
        {
          "output_type": "stream",
          "text": [
            "Epoch 1/14\n",
            "11/11 [==============================] - 1s 24ms/step - loss: 0.7047 - acc: 0.5146 - val_loss: 0.6574 - val_acc: 0.6597\n",
            "Epoch 2/14\n",
            "11/11 [==============================] - 0s 6ms/step - loss: 0.6574 - acc: 0.6306 - val_loss: 0.6218 - val_acc: 0.7222\n",
            "Epoch 3/14\n",
            "11/11 [==============================] - 0s 5ms/step - loss: 0.6345 - acc: 0.6745 - val_loss: 0.6013 - val_acc: 0.7222\n",
            "Epoch 4/14\n",
            "11/11 [==============================] - 0s 5ms/step - loss: 0.5957 - acc: 0.7056 - val_loss: 0.5854 - val_acc: 0.7292\n",
            "Epoch 5/14\n",
            "11/11 [==============================] - 0s 6ms/step - loss: 0.5854 - acc: 0.6981 - val_loss: 0.5748 - val_acc: 0.7292\n",
            "Epoch 6/14\n",
            "11/11 [==============================] - 0s 5ms/step - loss: 0.5712 - acc: 0.7109 - val_loss: 0.5652 - val_acc: 0.7292\n",
            "Epoch 7/14\n",
            "11/11 [==============================] - 0s 6ms/step - loss: 0.5623 - acc: 0.7129 - val_loss: 0.5579 - val_acc: 0.7361\n",
            "Epoch 8/14\n",
            "11/11 [==============================] - 0s 5ms/step - loss: 0.5606 - acc: 0.6974 - val_loss: 0.5485 - val_acc: 0.7292\n",
            "Epoch 9/14\n",
            "11/11 [==============================] - 0s 6ms/step - loss: 0.5152 - acc: 0.7401 - val_loss: 0.5414 - val_acc: 0.7292\n",
            "Epoch 10/14\n",
            "11/11 [==============================] - 0s 6ms/step - loss: 0.5299 - acc: 0.7282 - val_loss: 0.5335 - val_acc: 0.7222\n",
            "Epoch 11/14\n",
            "11/11 [==============================] - 0s 6ms/step - loss: 0.5137 - acc: 0.7458 - val_loss: 0.5254 - val_acc: 0.7222\n",
            "Epoch 12/14\n",
            "11/11 [==============================] - 0s 6ms/step - loss: 0.4934 - acc: 0.7437 - val_loss: 0.5194 - val_acc: 0.7292\n",
            "Epoch 13/14\n",
            "11/11 [==============================] - 0s 6ms/step - loss: 0.5354 - acc: 0.7121 - val_loss: 0.5139 - val_acc: 0.7431\n",
            "Epoch 14/14\n",
            "11/11 [==============================] - 0s 5ms/step - loss: 0.4761 - acc: 0.7694 - val_loss: 0.5116 - val_acc: 0.7708\n"
          ],
          "name": "stdout"
        }
      ]
    },
    {
      "cell_type": "code",
      "metadata": {
        "id": "eH9M2jRuuVG_"
      },
      "source": [
        "import matplotlib.pyplot as plt "
      ],
      "execution_count": 229,
      "outputs": []
    },
    {
      "cell_type": "code",
      "metadata": {
        "colab": {
          "base_uri": "https://localhost:8080/",
          "height": 295
        },
        "id": "9BVYRitvuVG_",
        "outputId": "fbaa831b-3590-412d-b598-5f3d2794907e"
      },
      "source": [
        "loss = history.history['loss']\n",
        "val_loss = history.history['val_loss']\n",
        "\n",
        "epochs = range(1, len(loss) + 1)\n",
        "\n",
        "plt.plot(epochs, loss, 'bo', label='Training loss')\n",
        "plt.plot(epochs, val_loss, 'b', label='Validation loss')\n",
        "plt.title('Training and validation loss')\n",
        "plt.xlabel('Epochs')\n",
        "plt.ylabel('Loss')\n",
        "plt.legend()\n",
        "\n",
        "plt.show()"
      ],
      "execution_count": 230,
      "outputs": [
        {
          "output_type": "display_data",
          "data": {
            "image/png": "[encoded data removed]",
            "text/plain": [
              "<Figure size 432x288 with 1 Axes>"
            ]
          },
          "metadata": {
            "tags": [],
            "needs_background": "light"
          }
        }
      ]
    },
    {
      "cell_type": "code",
      "metadata": {
        "colab": {
          "base_uri": "https://localhost:8080/",
          "height": 295
        },
        "id": "NTHw22kyx-TI",
        "outputId": "ede8ac88-588d-4bcb-e1fb-01de61b7dc8a"
      },
      "source": [
        "plt.clf()\n",
        "acc = history.history['acc']\n",
        "val_acc = history.history['val_acc']\n",
        "\n",
        "plt.plot(epochs, acc, 'bo', label='Training acc')\n",
        "plt.plot(epochs, val_acc, 'b', label='Validation acc')\n",
        "plt.title('Training and validation acc')\n",
        "plt.xlabel('Epochs')\n",
        "plt.ylabel('Acc')\n",
        "plt.legend()\n",
        "\n",
        "plt.show()"
      ],
      "execution_count": 231,
      "outputs": [
        {
          "output_type": "display_data",
          "data": {
            "image/png": "[encoded data removed]",
            "text/plain": [
              "<Figure size 432x288 with 1 Axes>"
            ]
          },
          "metadata": {
            "tags": [],
            "needs_background": "light"
          }
        }
      ]
    },
    {
      "cell_type": "markdown",
      "metadata": {
        "id": "fjN225NE1qWy"
      },
      "source": [
        "Вывод: Получившаяся точность модели (accuracy) - 0.77. Это высокая точность.  "
      ]
    },
    {
      "cell_type": "code",
      "metadata": {
        "colab": {
          "base_uri": "https://localhost:8080/"
        },
        "id": "yIB4NqWh3Qc6",
        "outputId": "613fda7b-ef31-4a13-894a-b7c64ce524ea"
      },
      "source": [
        "y_hat = model.predict_proba(x_val)"
      ],
      "execution_count": 232,
      "outputs": [
        {
          "output_type": "stream",
          "text": [
            "/usr/local/lib/python3.7/dist-packages/tensorflow/python/keras/engine/sequential.py:425: UserWarning: `model.predict_proba()` is deprecated and will be removed after 2021-01-01. Please use `model.predict()` instead.\n",
            "  warnings.warn('`model.predict_proba()` is deprecated and '\n"
          ],
          "name": "stderr"
        }
      ]
    },
    {
      "cell_type": "code",
      "metadata": {
        "colab": {
          "base_uri": "https://localhost:8080/"
        },
        "id": "LotE0Htd4Aeg",
        "outputId": "61b6f159-5f9f-4c4e-8a5b-2fdc26a76e08"
      },
      "source": [
        "y_hat.shape"
      ],
      "execution_count": 233,
      "outputs": [
        {
          "output_type": "execute_result",
          "data": {
            "text/plain": [
              "(144, 1)"
            ]
          },
          "metadata": {
            "tags": []
          },
          "execution_count": 233
        }
      ]
    },
    {
      "cell_type": "code",
      "metadata": {
        "colab": {
          "base_uri": "https://localhost:8080/"
        },
        "id": "iETQVug7CGii",
        "outputId": "cbb169fe-2344-4df0-b566-679b7f2af7d5"
      },
      "source": [
        "y_val.shape"
      ],
      "execution_count": 234,
      "outputs": [
        {
          "output_type": "execute_result",
          "data": {
            "text/plain": [
              "(144,)"
            ]
          },
          "metadata": {
            "tags": []
          },
          "execution_count": 234
        }
      ]
    },
    {
      "cell_type": "markdown",
      "metadata": {
        "id": "Eb82aWkN7Kmo"
      },
      "source": [
        "Вычислим ROC AUC"
      ]
    },
    {
      "cell_type": "code",
      "metadata": {
        "colab": {
          "base_uri": "https://localhost:8080/"
        },
        "id": "vubmsgM35bEi",
        "outputId": "f207da5c-3d19-4161-eed0-6cdeb81c15bc"
      },
      "source": [
        "y_hat[:10]"
      ],
      "execution_count": 237,
      "outputs": [
        {
          "output_type": "execute_result",
          "data": {
            "text/plain": [
              "array([[0.5830783 ],\n",
              "       [0.1526758 ],\n",
              "       [0.14251862],\n",
              "       [0.18073042],\n",
              "       [0.4939723 ],\n",
              "       [0.36556605],\n",
              "       [0.1650378 ],\n",
              "       [0.21297115],\n",
              "       [0.26175448],\n",
              "       [0.2117626 ]], dtype=float32)"
            ]
          },
          "metadata": {
            "tags": []
          },
          "execution_count": 237
        }
      ]
    },
    {
      "cell_type": "code",
      "metadata": {
        "colab": {
          "base_uri": "https://localhost:8080/"
        },
        "id": "5AOmYD8l4Xnm",
        "outputId": "a21e5eae-48e8-4ac5-e050-9b4b6522a17e"
      },
      "source": [
        "pct_auc = roc_auc_score(y_val, y_hat)*100\n",
        "print(\"ROC AUC: \", pct_auc)"
      ],
      "execution_count": 236,
      "outputs": [
        {
          "output_type": "stream",
          "text": [
            "ROC AUC:  78.16849816849818\n"
          ],
          "name": "stdout"
        }
      ]
    },
    {
      "cell_type": "markdown",
      "metadata": {
        "id": "zoalN0hhr4yL"
      },
      "source": [
        "Вывод: получился хороший результат 78%, в случае случайного классификатора площадь под кривой AUC была бы 50%.  "
      ]
    },
    {
      "cell_type": "code",
      "metadata": {
        "id": "gGzpkFCbZXyQ"
      },
      "source": [
        ""
      ],
      "execution_count": null,
      "outputs": []
    }
  ]
}