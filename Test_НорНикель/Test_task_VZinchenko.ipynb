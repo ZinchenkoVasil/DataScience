{
 "cells": [
  {
   "cell_type": "markdown",
   "metadata": {},
   "source": [
    "Целью данной работы является исследование выбросов в данных, а именно выбросов веса и пробега."
   ]
  },
  {
   "cell_type": "code",
   "execution_count": 40,
   "metadata": {},
   "outputs": [],
   "source": [
    "import numpy as np\n",
    "import pandas as pd\n",
    "import math\n",
    "import missingno as msno\n",
    "from datetime import datetime, timedelta\n",
    "\n",
    "import matplotlib.pyplot as plt\n",
    "%matplotlib inline\n",
    "import seaborn as sns"
   ]
  },
  {
   "cell_type": "code",
   "execution_count": 2,
   "metadata": {},
   "outputs": [],
   "source": [
    "df = pd.read_excel('hauls_test.xlsx')"
   ]
  },
  {
   "cell_type": "code",
   "execution_count": 3,
   "metadata": {},
   "outputs": [
    {
     "data": {
      "text/html": [
       "<div>\n",
       "<style scoped>\n",
       "    .dataframe tbody tr th:only-of-type {\n",
       "        vertical-align: middle;\n",
       "    }\n",
       "\n",
       "    .dataframe tbody tr th {\n",
       "        vertical-align: top;\n",
       "    }\n",
       "\n",
       "    .dataframe thead th {\n",
       "        text-align: right;\n",
       "    }\n",
       "</style>\n",
       "<table border=\"1\" class=\"dataframe\">\n",
       "  <thead>\n",
       "    <tr style=\"text-align: right;\">\n",
       "      <th></th>\n",
       "      <th>№</th>\n",
       "      <th>PK</th>\n",
       "      <th>СДО</th>\n",
       "      <th>Дата начала рейса</th>\n",
       "      <th>Место начала цикла</th>\n",
       "      <th>Время начала движения порожним</th>\n",
       "      <th>Продолжительность движения порожним, мин</th>\n",
       "      <th>Место погрузки</th>\n",
       "      <th>Время начала погрузки</th>\n",
       "      <th>Продолжительность погрузки, мин</th>\n",
       "      <th>...</th>\n",
       "      <th>Скорость движения цикла экспл., км/ч</th>\n",
       "      <th>Непроизводительных простоев, мин</th>\n",
       "      <th>Вес, т</th>\n",
       "      <th>Вес по датчику давления, т</th>\n",
       "      <th>Unnamed: 31</th>\n",
       "      <th>Метка перед погрузкой</th>\n",
       "      <th>Метка перед разгрузкой</th>\n",
       "      <th>Парная работа</th>\n",
       "      <th>Повторная транспортировка</th>\n",
       "      <th>Связанный рейс ПДМ/ШАС</th>\n",
       "    </tr>\n",
       "  </thead>\n",
       "  <tbody>\n",
       "    <tr>\n",
       "      <th>0</th>\n",
       "      <td>1</td>\n",
       "      <td>1960941</td>\n",
       "      <td>230</td>\n",
       "      <td>2021-01-20 09:12:54</td>\n",
       "      <td>Гараж</td>\n",
       "      <td>2021-01-20 07:40:00</td>\n",
       "      <td>1:32:34</td>\n",
       "      <td>Камера_1</td>\n",
       "      <td>2021-01-20 09:12:34</td>\n",
       "      <td>0:00:41</td>\n",
       "      <td>...</td>\n",
       "      <td>5.5</td>\n",
       "      <td>00:00:00</td>\n",
       "      <td>10.8</td>\n",
       "      <td>NaN</td>\n",
       "      <td>NaN</td>\n",
       "      <td>NaN</td>\n",
       "      <td>NaN</td>\n",
       "      <td>Нет</td>\n",
       "      <td>Нет</td>\n",
       "      <td>NaN</td>\n",
       "    </tr>\n",
       "    <tr>\n",
       "      <th>1</th>\n",
       "      <td>2</td>\n",
       "      <td>1960942</td>\n",
       "      <td>230</td>\n",
       "      <td>2021-01-20 09:17:42</td>\n",
       "      <td>71/12</td>\n",
       "      <td>2021-01-20 09:17:31</td>\n",
       "      <td>0:00:08</td>\n",
       "      <td>NaN</td>\n",
       "      <td>2021-01-20 09:17:39</td>\n",
       "      <td>0:00:06</td>\n",
       "      <td>...</td>\n",
       "      <td>8.2</td>\n",
       "      <td>00:00:00</td>\n",
       "      <td>9.6</td>\n",
       "      <td>NaN</td>\n",
       "      <td>NaN</td>\n",
       "      <td>NaN</td>\n",
       "      <td>NaN</td>\n",
       "      <td>Нет</td>\n",
       "      <td>Нет</td>\n",
       "      <td>NaN</td>\n",
       "    </tr>\n",
       "    <tr>\n",
       "      <th>2</th>\n",
       "      <td>3</td>\n",
       "      <td>1960955</td>\n",
       "      <td>241</td>\n",
       "      <td>2021-01-20 09:17:48</td>\n",
       "      <td>Гараж</td>\n",
       "      <td>2021-01-20 07:43:56</td>\n",
       "      <td>1:33:48</td>\n",
       "      <td>NaN</td>\n",
       "      <td>2021-01-20 09:17:44</td>\n",
       "      <td>0:00:09</td>\n",
       "      <td>...</td>\n",
       "      <td>3.9</td>\n",
       "      <td>00:00:00</td>\n",
       "      <td>9.1</td>\n",
       "      <td>NaN</td>\n",
       "      <td>NaN</td>\n",
       "      <td>Р-к 241/16 бис</td>\n",
       "      <td>Р-к 241/16 бис (VIST ПР:241/16 бис)</td>\n",
       "      <td>Нет</td>\n",
       "      <td>Нет</td>\n",
       "      <td>NaN</td>\n",
       "    </tr>\n",
       "    <tr>\n",
       "      <th>3</th>\n",
       "      <td>4</td>\n",
       "      <td>1960956</td>\n",
       "      <td>241</td>\n",
       "      <td>2021-01-20 09:19:37</td>\n",
       "      <td>241/16 бис</td>\n",
       "      <td>2021-01-20 09:18:42</td>\n",
       "      <td>0:00:51</td>\n",
       "      <td>NaN</td>\n",
       "      <td>2021-01-20 09:19:33</td>\n",
       "      <td>0:00:08</td>\n",
       "      <td>...</td>\n",
       "      <td>2.0</td>\n",
       "      <td>00:00:00</td>\n",
       "      <td>11.7</td>\n",
       "      <td>NaN</td>\n",
       "      <td>NaN</td>\n",
       "      <td>Р-к 241/16 бис</td>\n",
       "      <td>Р-к 241/16 бис (VIST ПР:241/16 бис)</td>\n",
       "      <td>Нет</td>\n",
       "      <td>Нет</td>\n",
       "      <td>NaN</td>\n",
       "    </tr>\n",
       "    <tr>\n",
       "      <th>4</th>\n",
       "      <td>5</td>\n",
       "      <td>1960957</td>\n",
       "      <td>241</td>\n",
       "      <td>2021-01-20 09:21:26</td>\n",
       "      <td>241/16 бис</td>\n",
       "      <td>2021-01-20 09:20:30</td>\n",
       "      <td>0:00:52</td>\n",
       "      <td>NaN</td>\n",
       "      <td>2021-01-20 09:21:22</td>\n",
       "      <td>0:00:08</td>\n",
       "      <td>...</td>\n",
       "      <td>2.6</td>\n",
       "      <td>00:00:00</td>\n",
       "      <td>8.8</td>\n",
       "      <td>NaN</td>\n",
       "      <td>NaN</td>\n",
       "      <td>Р-к 241/16 бис</td>\n",
       "      <td>Р-к 241/16 бис (VIST ПР:241/16 бис)</td>\n",
       "      <td>Нет</td>\n",
       "      <td>Нет</td>\n",
       "      <td>NaN</td>\n",
       "    </tr>\n",
       "    <tr>\n",
       "      <th>...</th>\n",
       "      <td>...</td>\n",
       "      <td>...</td>\n",
       "      <td>...</td>\n",
       "      <td>...</td>\n",
       "      <td>...</td>\n",
       "      <td>...</td>\n",
       "      <td>...</td>\n",
       "      <td>...</td>\n",
       "      <td>...</td>\n",
       "      <td>...</td>\n",
       "      <td>...</td>\n",
       "      <td>...</td>\n",
       "      <td>...</td>\n",
       "      <td>...</td>\n",
       "      <td>...</td>\n",
       "      <td>...</td>\n",
       "      <td>...</td>\n",
       "      <td>...</td>\n",
       "      <td>...</td>\n",
       "      <td>...</td>\n",
       "      <td>...</td>\n",
       "    </tr>\n",
       "    <tr>\n",
       "      <th>1269</th>\n",
       "      <td>1270</td>\n",
       "      <td>1962249</td>\n",
       "      <td>233</td>\n",
       "      <td>2021-01-20 18:47:02</td>\n",
       "      <td>37/10</td>\n",
       "      <td>2021-01-20 18:28:02</td>\n",
       "      <td>0:18:52</td>\n",
       "      <td>NaN</td>\n",
       "      <td>2021-01-20 18:46:54</td>\n",
       "      <td>0:00:16</td>\n",
       "      <td>...</td>\n",
       "      <td>3.8</td>\n",
       "      <td>0:13:13</td>\n",
       "      <td>5.7</td>\n",
       "      <td>NaN</td>\n",
       "      <td>NaN</td>\n",
       "      <td>Камера_9 (VIST ПП:Камера_9)</td>\n",
       "      <td>Камера_9</td>\n",
       "      <td>Нет</td>\n",
       "      <td>Нет</td>\n",
       "      <td>NaN</td>\n",
       "    </tr>\n",
       "    <tr>\n",
       "      <th>1270</th>\n",
       "      <td>1271</td>\n",
       "      <td>1962250</td>\n",
       "      <td>233</td>\n",
       "      <td>2021-01-20 18:49:00</td>\n",
       "      <td>NaN</td>\n",
       "      <td>2021-01-20 18:48:46</td>\n",
       "      <td>0:00:10</td>\n",
       "      <td>NaN</td>\n",
       "      <td>2021-01-20 18:48:56</td>\n",
       "      <td>0:00:08</td>\n",
       "      <td>...</td>\n",
       "      <td>5.4</td>\n",
       "      <td>00:00:00</td>\n",
       "      <td>5.0</td>\n",
       "      <td>NaN</td>\n",
       "      <td>NaN</td>\n",
       "      <td>Камера_9 (VIST ПП:Камера_9)</td>\n",
       "      <td>Камера_9</td>\n",
       "      <td>Нет</td>\n",
       "      <td>Нет</td>\n",
       "      <td>NaN</td>\n",
       "    </tr>\n",
       "    <tr>\n",
       "      <th>1271</th>\n",
       "      <td>1272</td>\n",
       "      <td>1962252</td>\n",
       "      <td>233</td>\n",
       "      <td>2021-01-20 18:50:10</td>\n",
       "      <td>NaN</td>\n",
       "      <td>2021-01-20 18:49:34</td>\n",
       "      <td>0:00:05</td>\n",
       "      <td>NaN</td>\n",
       "      <td>2021-01-20 18:49:39</td>\n",
       "      <td>0:01:02</td>\n",
       "      <td>...</td>\n",
       "      <td>9.0</td>\n",
       "      <td>00:00:00</td>\n",
       "      <td>3.9</td>\n",
       "      <td>NaN</td>\n",
       "      <td>NaN</td>\n",
       "      <td>Камера_9 (VIST ПП:Камера_9)</td>\n",
       "      <td>Камера_9</td>\n",
       "      <td>Нет</td>\n",
       "      <td>Нет</td>\n",
       "      <td>NaN</td>\n",
       "    </tr>\n",
       "    <tr>\n",
       "      <th>1272</th>\n",
       "      <td>1273</td>\n",
       "      <td>1962251</td>\n",
       "      <td>231</td>\n",
       "      <td>2021-01-20 18:51:47</td>\n",
       "      <td>235/13 БИС</td>\n",
       "      <td>2021-01-20 18:19:54</td>\n",
       "      <td>0:30:25</td>\n",
       "      <td>NaN</td>\n",
       "      <td>2021-01-20 18:50:19</td>\n",
       "      <td>0:02:55</td>\n",
       "      <td>...</td>\n",
       "      <td>NaN</td>\n",
       "      <td>0:20:36</td>\n",
       "      <td>6.1</td>\n",
       "      <td>NaN</td>\n",
       "      <td>NaN</td>\n",
       "      <td>NaN</td>\n",
       "      <td>NaN</td>\n",
       "      <td>Нет</td>\n",
       "      <td>Нет</td>\n",
       "      <td>NaN</td>\n",
       "    </tr>\n",
       "    <tr>\n",
       "      <th>1273</th>\n",
       "      <td>1274</td>\n",
       "      <td>1962253</td>\n",
       "      <td>233</td>\n",
       "      <td>2021-01-20 19:03:58</td>\n",
       "      <td>NaN</td>\n",
       "      <td>2021-01-20 18:56:10</td>\n",
       "      <td>0:07:13</td>\n",
       "      <td>NaN</td>\n",
       "      <td>2021-01-20 19:03:23</td>\n",
       "      <td>0:01:11</td>\n",
       "      <td>...</td>\n",
       "      <td>5.2</td>\n",
       "      <td>0:05:02</td>\n",
       "      <td>4.3</td>\n",
       "      <td>NaN</td>\n",
       "      <td>NaN</td>\n",
       "      <td>Камера_9 (VIST ПП:Камера_9)</td>\n",
       "      <td>Камера_9</td>\n",
       "      <td>Нет</td>\n",
       "      <td>Нет</td>\n",
       "      <td>NaN</td>\n",
       "    </tr>\n",
       "  </tbody>\n",
       "</table>\n",
       "<p>1274 rows × 37 columns</p>\n",
       "</div>"
      ],
      "text/plain": [
       "         №       PK  СДО   Дата начала рейса Место начала цикла  \\\n",
       "0        1  1960941  230 2021-01-20 09:12:54              Гараж   \n",
       "1        2  1960942  230 2021-01-20 09:17:42              71/12   \n",
       "2        3  1960955  241 2021-01-20 09:17:48              Гараж   \n",
       "3        4  1960956  241 2021-01-20 09:19:37         241/16 бис   \n",
       "4        5  1960957  241 2021-01-20 09:21:26         241/16 бис   \n",
       "...    ...      ...  ...                 ...                ...   \n",
       "1269  1270  1962249  233 2021-01-20 18:47:02              37/10   \n",
       "1270  1271  1962250  233 2021-01-20 18:49:00                NaN   \n",
       "1271  1272  1962252  233 2021-01-20 18:50:10                NaN   \n",
       "1272  1273  1962251  231 2021-01-20 18:51:47         235/13 БИС   \n",
       "1273  1274  1962253  233 2021-01-20 19:03:58                NaN   \n",
       "\n",
       "     Время начала движения порожним Продолжительность движения порожним, мин  \\\n",
       "0               2021-01-20 07:40:00                                  1:32:34   \n",
       "1               2021-01-20 09:17:31                                  0:00:08   \n",
       "2               2021-01-20 07:43:56                                  1:33:48   \n",
       "3               2021-01-20 09:18:42                                  0:00:51   \n",
       "4               2021-01-20 09:20:30                                  0:00:52   \n",
       "...                             ...                                      ...   \n",
       "1269            2021-01-20 18:28:02                                  0:18:52   \n",
       "1270            2021-01-20 18:48:46                                  0:00:10   \n",
       "1271            2021-01-20 18:49:34                                  0:00:05   \n",
       "1272            2021-01-20 18:19:54                                  0:30:25   \n",
       "1273            2021-01-20 18:56:10                                  0:07:13   \n",
       "\n",
       "     Место погрузки Время начала погрузки Продолжительность погрузки, мин  \\\n",
       "0          Камера_1   2021-01-20 09:12:34                         0:00:41   \n",
       "1               NaN   2021-01-20 09:17:39                         0:00:06   \n",
       "2               NaN   2021-01-20 09:17:44                         0:00:09   \n",
       "3               NaN   2021-01-20 09:19:33                         0:00:08   \n",
       "4               NaN   2021-01-20 09:21:22                         0:00:08   \n",
       "...             ...                   ...                             ...   \n",
       "1269            NaN   2021-01-20 18:46:54                         0:00:16   \n",
       "1270            NaN   2021-01-20 18:48:56                         0:00:08   \n",
       "1271            NaN   2021-01-20 18:49:39                         0:01:02   \n",
       "1272            NaN   2021-01-20 18:50:19                         0:02:55   \n",
       "1273            NaN   2021-01-20 19:03:23                         0:01:11   \n",
       "\n",
       "      ... Скорость движения цикла экспл., км/ч  \\\n",
       "0     ...                                  5.5   \n",
       "1     ...                                  8.2   \n",
       "2     ...                                  3.9   \n",
       "3     ...                                  2.0   \n",
       "4     ...                                  2.6   \n",
       "...   ...                                  ...   \n",
       "1269  ...                                  3.8   \n",
       "1270  ...                                  5.4   \n",
       "1271  ...                                  9.0   \n",
       "1272  ...                                  NaN   \n",
       "1273  ...                                  5.2   \n",
       "\n",
       "     Непроизводительных простоев, мин Вес, т Вес по датчику давления, т  \\\n",
       "0                            00:00:00   10.8                        NaN   \n",
       "1                            00:00:00    9.6                        NaN   \n",
       "2                            00:00:00    9.1                        NaN   \n",
       "3                            00:00:00   11.7                        NaN   \n",
       "4                            00:00:00    8.8                        NaN   \n",
       "...                               ...    ...                        ...   \n",
       "1269                          0:13:13    5.7                        NaN   \n",
       "1270                         00:00:00    5.0                        NaN   \n",
       "1271                         00:00:00    3.9                        NaN   \n",
       "1272                          0:20:36    6.1                        NaN   \n",
       "1273                          0:05:02    4.3                        NaN   \n",
       "\n",
       "     Unnamed: 31        Метка перед погрузкой  \\\n",
       "0            NaN                          NaN   \n",
       "1            NaN                          NaN   \n",
       "2            NaN               Р-к 241/16 бис   \n",
       "3            NaN               Р-к 241/16 бис   \n",
       "4            NaN               Р-к 241/16 бис   \n",
       "...          ...                          ...   \n",
       "1269         NaN  Камера_9 (VIST ПП:Камера_9)   \n",
       "1270         NaN  Камера_9 (VIST ПП:Камера_9)   \n",
       "1271         NaN  Камера_9 (VIST ПП:Камера_9)   \n",
       "1272         NaN                          NaN   \n",
       "1273         NaN  Камера_9 (VIST ПП:Камера_9)   \n",
       "\n",
       "                   Метка перед разгрузкой Парная работа  \\\n",
       "0                                     NaN           Нет   \n",
       "1                                     NaN           Нет   \n",
       "2     Р-к 241/16 бис (VIST ПР:241/16 бис)           Нет   \n",
       "3     Р-к 241/16 бис (VIST ПР:241/16 бис)           Нет   \n",
       "4     Р-к 241/16 бис (VIST ПР:241/16 бис)           Нет   \n",
       "...                                   ...           ...   \n",
       "1269                             Камера_9           Нет   \n",
       "1270                             Камера_9           Нет   \n",
       "1271                             Камера_9           Нет   \n",
       "1272                                  NaN           Нет   \n",
       "1273                             Камера_9           Нет   \n",
       "\n",
       "     Повторная транспортировка Связанный рейс ПДМ/ШАС  \n",
       "0                          Нет                    NaN  \n",
       "1                          Нет                    NaN  \n",
       "2                          Нет                    NaN  \n",
       "3                          Нет                    NaN  \n",
       "4                          Нет                    NaN  \n",
       "...                        ...                    ...  \n",
       "1269                       Нет                    NaN  \n",
       "1270                       Нет                    NaN  \n",
       "1271                       Нет                    NaN  \n",
       "1272                       Нет                    NaN  \n",
       "1273                       Нет                    NaN  \n",
       "\n",
       "[1274 rows x 37 columns]"
      ]
     },
     "execution_count": 3,
     "metadata": {},
     "output_type": "execute_result"
    }
   ],
   "source": [
    "df"
   ]
  },
  {
   "cell_type": "code",
   "execution_count": 9,
   "metadata": {},
   "outputs": [
    {
     "data": {
      "text/plain": [
       "Index(['№', 'PK', 'СДО', 'Дата начала рейса', 'Место начала цикла',\n",
       "       'Время начала движения порожним',\n",
       "       'Продолжительность движения порожним, мин', 'Место погрузки',\n",
       "       'Время начала погрузки', 'Продолжительность погрузки, мин',\n",
       "       'Время окончания погрузки', 'Время движения груженым, мин',\n",
       "       'Пункт разгрузки', 'Время начала разгрузки',\n",
       "       'Продолжительность разгрузки, мин', 'Время окончания разгрузки',\n",
       "       'Длительность цикла, мин', 'Метка начала', 'Метка окончания',\n",
       "       'Вид груза', 'Вид работ', 'Название смены', 'Пробег порожним, м',\n",
       "       'Пробег груженым, м', 'Скорость порожним техн., км/ч',\n",
       "       'Скорость груженым техн. , км/ч', 'Скорость движения цикла техн., км/ч',\n",
       "       'Скорость движения цикла экспл., км/ч',\n",
       "       'Непроизводительных простоев, мин', 'Вес, т',\n",
       "       'Вес по датчику давления, т', 'Unnamed: 31', 'Метка перед погрузкой',\n",
       "       'Метка перед разгрузкой', 'Парная работа', 'Повторная транспортировка',\n",
       "       'Связанный рейс ПДМ/ШАС'],\n",
       "      dtype='object')"
      ]
     },
     "execution_count": 9,
     "metadata": {},
     "output_type": "execute_result"
    }
   ],
   "source": [
    "df.columns"
   ]
  },
  {
   "cell_type": "code",
   "execution_count": 12,
   "metadata": {},
   "outputs": [
    {
     "data": {
      "text/plain": [
       "array(['Отгрузка ПДМ руда', 'Хоз. работы'], dtype=object)"
      ]
     },
     "execution_count": 12,
     "metadata": {},
     "output_type": "execute_result"
    }
   ],
   "source": [
    "df['Вид работ'].unique()"
   ]
  },
  {
   "cell_type": "code",
   "execution_count": 13,
   "metadata": {},
   "outputs": [
    {
     "data": {
      "text/plain": [
       "array(['Руда богатая', nan, 'Бетон', 'Руда вкрапленная'], dtype=object)"
      ]
     },
     "execution_count": 13,
     "metadata": {},
     "output_type": "execute_result"
    }
   ],
   "source": [
    "df['Вид груза'].unique()"
   ]
  },
  {
   "cell_type": "code",
   "execution_count": 4,
   "metadata": {},
   "outputs": [
    {
     "data": {
      "text/plain": [
       "1274"
      ]
     },
     "execution_count": 4,
     "metadata": {},
     "output_type": "execute_result"
    }
   ],
   "source": [
    "len(df)"
   ]
  },
  {
   "cell_type": "code",
   "execution_count": 6,
   "metadata": {},
   "outputs": [
    {
     "data": {
      "text/plain": [
       "14"
      ]
     },
     "execution_count": 6,
     "metadata": {},
     "output_type": "execute_result"
    }
   ],
   "source": [
    "len(df['СДО'].unique()) "
   ]
  },
  {
   "cell_type": "code",
   "execution_count": 16,
   "metadata": {},
   "outputs": [],
   "source": [
    "df = df[df['Вид работ'] == 'Отгрузка ПДМ руда']"
   ]
  },
  {
   "cell_type": "code",
   "execution_count": 231,
   "metadata": {},
   "outputs": [
    {
     "data": {
      "text/plain": [
       "array(['Отгрузка ПДМ руда'], dtype=object)"
      ]
     },
     "execution_count": 231,
     "metadata": {},
     "output_type": "execute_result"
    }
   ],
   "source": [
    "df['Вид работ'].unique()"
   ]
  },
  {
   "cell_type": "code",
   "execution_count": 28,
   "metadata": {},
   "outputs": [
    {
     "data": {
      "text/plain": [
       "13"
      ]
     },
     "execution_count": 28,
     "metadata": {},
     "output_type": "execute_result"
    }
   ],
   "source": [
    "len(df['СДО'].unique()) "
   ]
  },
  {
   "cell_type": "code",
   "execution_count": 227,
   "metadata": {},
   "outputs": [
    {
     "data": {
      "text/plain": [
       "№                                                   object\n",
       "PK                                                  object\n",
       "СДО                                                  int64\n",
       "Дата начала рейса                           datetime64[ns]\n",
       "Место начала цикла                                  object\n",
       "Время начала движения порожним              datetime64[ns]\n",
       "Продолжительность движения порожним, мин            object\n",
       "Место погрузки                                      object\n",
       "Время начала погрузки                       datetime64[ns]\n",
       "Продолжительность погрузки, мин                     object\n",
       "Время окончания погрузки                    datetime64[ns]\n",
       "Время движения груженым, мин                        object\n",
       "Пункт разгрузки                                     object\n",
       "Время начала разгрузки                      datetime64[ns]\n",
       "Продолжительность разгрузки, мин                    object\n",
       "Время окончания разгрузки                   datetime64[ns]\n",
       "Длительность цикла, мин                             object\n",
       "Метка начала                                        object\n",
       "Метка окончания                                     object\n",
       "Вид груза                                           object\n",
       "Вид работ                                           object\n",
       "Название смены                                      object\n",
       "Пробег порожним, м                                  object\n",
       "Пробег груженым, м                                 float64\n",
       "Скорость порожним техн., км/ч                      float64\n",
       "Скорость груженым техн. , км/ч                     float64\n",
       "Скорость движения цикла техн., км/ч                float64\n",
       "Скорость движения цикла экспл., км/ч               float64\n",
       "Непроизводительных простоев, мин                    object\n",
       "Вес, т                                             float64\n",
       "Вес по датчику давления, т                         float64\n",
       "Unnamed: 31                                        float64\n",
       "Метка перед погрузкой                               object\n",
       "Метка перед разгрузкой                              object\n",
       "Парная работа                                       object\n",
       "Повторная транспортировка                           object\n",
       "Связанный рейс ПДМ/ШАС                             float64\n",
       "dtype: object"
      ]
     },
     "execution_count": 227,
     "metadata": {},
     "output_type": "execute_result"
    }
   ],
   "source": [
    "df.dtypes"
   ]
  },
  {
   "cell_type": "markdown",
   "metadata": {},
   "source": [
    "Замечание: фича \"пробег порожним\" имеет тип object. Это ошибка "
   ]
  },
  {
   "cell_type": "markdown",
   "metadata": {},
   "source": [
    "Давайте посмотрим на наличие пропущенных значений, чтобы не столкнуться с неприятными сюрпризами при дальнейшей работе."
   ]
  },
  {
   "cell_type": "code",
   "execution_count": 228,
   "metadata": {},
   "outputs": [
    {
     "data": {
      "text/plain": [
       "<matplotlib.axes._subplots.AxesSubplot at 0x7796d754e0>"
      ]
     },
     "execution_count": 228,
     "metadata": {},
     "output_type": "execute_result"
    },
    {
     "data": {
      "image/png": "[encoded data removed]",
      "text/plain": [
       "<Figure size 1728x720 with 3 Axes>"
      ]
     },
     "metadata": {
      "needs_background": "light"
     },
     "output_type": "display_data"
    }
   ],
   "source": [
    "msno.bar(df)"
   ]
  },
  {
   "cell_type": "code",
   "execution_count": 229,
   "metadata": {},
   "outputs": [
    {
     "data": {
      "text/html": [
       "<div>\n",
       "<style scoped>\n",
       "    .dataframe tbody tr th:only-of-type {\n",
       "        vertical-align: middle;\n",
       "    }\n",
       "\n",
       "    .dataframe tbody tr th {\n",
       "        vertical-align: top;\n",
       "    }\n",
       "\n",
       "    .dataframe thead th {\n",
       "        text-align: right;\n",
       "    }\n",
       "</style>\n",
       "<table border=\"1\" class=\"dataframe\">\n",
       "  <thead>\n",
       "    <tr style=\"text-align: right;\">\n",
       "      <th></th>\n",
       "      <th>СДО</th>\n",
       "      <th>Пробег груженым, м</th>\n",
       "      <th>Скорость порожним техн., км/ч</th>\n",
       "      <th>Скорость груженым техн. , км/ч</th>\n",
       "      <th>Скорость движения цикла техн., км/ч</th>\n",
       "      <th>Скорость движения цикла экспл., км/ч</th>\n",
       "      <th>Вес, т</th>\n",
       "      <th>Вес по датчику давления, т</th>\n",
       "      <th>Unnamed: 31</th>\n",
       "      <th>Связанный рейс ПДМ/ШАС</th>\n",
       "    </tr>\n",
       "  </thead>\n",
       "  <tbody>\n",
       "    <tr>\n",
       "      <th>count</th>\n",
       "      <td>514.000000</td>\n",
       "      <td>514.000000</td>\n",
       "      <td>514.000000</td>\n",
       "      <td>514.000000</td>\n",
       "      <td>479.000000</td>\n",
       "      <td>479.000000</td>\n",
       "      <td>514.000000</td>\n",
       "      <td>16.000000</td>\n",
       "      <td>0.0</td>\n",
       "      <td>0.0</td>\n",
       "    </tr>\n",
       "    <tr>\n",
       "      <th>mean</th>\n",
       "      <td>238.560311</td>\n",
       "      <td>149.906615</td>\n",
       "      <td>4.614786</td>\n",
       "      <td>5.297665</td>\n",
       "      <td>5.359708</td>\n",
       "      <td>4.760125</td>\n",
       "      <td>11.237354</td>\n",
       "      <td>0.750000</td>\n",
       "      <td>NaN</td>\n",
       "      <td>NaN</td>\n",
       "    </tr>\n",
       "    <tr>\n",
       "      <th>std</th>\n",
       "      <td>6.059907</td>\n",
       "      <td>158.877247</td>\n",
       "      <td>2.515344</td>\n",
       "      <td>2.457220</td>\n",
       "      <td>2.262821</td>\n",
       "      <td>2.392504</td>\n",
       "      <td>3.540356</td>\n",
       "      <td>0.447214</td>\n",
       "      <td>NaN</td>\n",
       "      <td>NaN</td>\n",
       "    </tr>\n",
       "    <tr>\n",
       "      <th>min</th>\n",
       "      <td>222.000000</td>\n",
       "      <td>2.000000</td>\n",
       "      <td>0.000000</td>\n",
       "      <td>1.000000</td>\n",
       "      <td>1.000000</td>\n",
       "      <td>0.000000</td>\n",
       "      <td>0.900000</td>\n",
       "      <td>0.000000</td>\n",
       "      <td>NaN</td>\n",
       "      <td>NaN</td>\n",
       "    </tr>\n",
       "    <tr>\n",
       "      <th>25%</th>\n",
       "      <td>233.000000</td>\n",
       "      <td>27.000000</td>\n",
       "      <td>3.000000</td>\n",
       "      <td>3.000000</td>\n",
       "      <td>3.600000</td>\n",
       "      <td>3.000000</td>\n",
       "      <td>8.800000</td>\n",
       "      <td>0.750000</td>\n",
       "      <td>NaN</td>\n",
       "      <td>NaN</td>\n",
       "    </tr>\n",
       "    <tr>\n",
       "      <th>50%</th>\n",
       "      <td>240.000000</td>\n",
       "      <td>56.500000</td>\n",
       "      <td>5.000000</td>\n",
       "      <td>5.000000</td>\n",
       "      <td>5.200000</td>\n",
       "      <td>4.600000</td>\n",
       "      <td>13.800000</td>\n",
       "      <td>1.000000</td>\n",
       "      <td>NaN</td>\n",
       "      <td>NaN</td>\n",
       "    </tr>\n",
       "    <tr>\n",
       "      <th>75%</th>\n",
       "      <td>244.000000</td>\n",
       "      <td>257.750000</td>\n",
       "      <td>7.000000</td>\n",
       "      <td>7.000000</td>\n",
       "      <td>7.000000</td>\n",
       "      <td>6.400000</td>\n",
       "      <td>14.100000</td>\n",
       "      <td>1.000000</td>\n",
       "      <td>NaN</td>\n",
       "      <td>NaN</td>\n",
       "    </tr>\n",
       "    <tr>\n",
       "      <th>max</th>\n",
       "      <td>246.000000</td>\n",
       "      <td>784.000000</td>\n",
       "      <td>11.000000</td>\n",
       "      <td>11.000000</td>\n",
       "      <td>10.900000</td>\n",
       "      <td>10.000000</td>\n",
       "      <td>14.100000</td>\n",
       "      <td>1.000000</td>\n",
       "      <td>NaN</td>\n",
       "      <td>NaN</td>\n",
       "    </tr>\n",
       "  </tbody>\n",
       "</table>\n",
       "</div>"
      ],
      "text/plain": [
       "              СДО  Пробег груженым, м  Скорость порожним техн., км/ч  \\\n",
       "count  514.000000          514.000000                     514.000000   \n",
       "mean   238.560311          149.906615                       4.614786   \n",
       "std      6.059907          158.877247                       2.515344   \n",
       "min    222.000000            2.000000                       0.000000   \n",
       "25%    233.000000           27.000000                       3.000000   \n",
       "50%    240.000000           56.500000                       5.000000   \n",
       "75%    244.000000          257.750000                       7.000000   \n",
       "max    246.000000          784.000000                      11.000000   \n",
       "\n",
       "       Скорость груженым техн. , км/ч  Скорость движения цикла техн., км/ч  \\\n",
       "count                      514.000000                           479.000000   \n",
       "mean                         5.297665                             5.359708   \n",
       "std                          2.457220                             2.262821   \n",
       "min                          1.000000                             1.000000   \n",
       "25%                          3.000000                             3.600000   \n",
       "50%                          5.000000                             5.200000   \n",
       "75%                          7.000000                             7.000000   \n",
       "max                         11.000000                            10.900000   \n",
       "\n",
       "       Скорость движения цикла экспл., км/ч      Вес, т  \\\n",
       "count                            479.000000  514.000000   \n",
       "mean                               4.760125   11.237354   \n",
       "std                                2.392504    3.540356   \n",
       "min                                0.000000    0.900000   \n",
       "25%                                3.000000    8.800000   \n",
       "50%                                4.600000   13.800000   \n",
       "75%                                6.400000   14.100000   \n",
       "max                               10.000000   14.100000   \n",
       "\n",
       "       Вес по датчику давления, т  Unnamed: 31  Связанный рейс ПДМ/ШАС  \n",
       "count                   16.000000          0.0                     0.0  \n",
       "mean                     0.750000          NaN                     NaN  \n",
       "std                      0.447214          NaN                     NaN  \n",
       "min                      0.000000          NaN                     NaN  \n",
       "25%                      0.750000          NaN                     NaN  \n",
       "50%                      1.000000          NaN                     NaN  \n",
       "75%                      1.000000          NaN                     NaN  \n",
       "max                      1.000000          NaN                     NaN  "
      ]
     },
     "execution_count": 229,
     "metadata": {},
     "output_type": "execute_result"
    }
   ],
   "source": [
    "df.describe(include=[np.number])"
   ]
  },
  {
   "cell_type": "code",
   "execution_count": null,
   "metadata": {},
   "outputs": [],
   "source": [
    "ва"
   ]
  },
  {
   "cell_type": "markdown",
   "metadata": {},
   "source": [
    "Исследование выбросов веса (аномально маленьких весов)"
   ]
  },
  {
   "cell_type": "code",
   "execution_count": 49,
   "metadata": {},
   "outputs": [],
   "source": [
    "data_grouped = df.groupby('СДО')\n",
    "aggs = {'Вес, т': ['min', 'max', 'mean', 'median', 'std']}\n",
    "stats = data_grouped.agg(aggs)\n",
    "stats.columns = ['минимальный вес', 'максимальный вес', 'средний вес', 'медиана', 'среднеквадратичное отклонение']\n"
   ]
  },
  {
   "cell_type": "code",
   "execution_count": 51,
   "metadata": {},
   "outputs": [
    {
     "data": {
      "text/html": [
       "<div>\n",
       "<style scoped>\n",
       "    .dataframe tbody tr th:only-of-type {\n",
       "        vertical-align: middle;\n",
       "    }\n",
       "\n",
       "    .dataframe tbody tr th {\n",
       "        vertical-align: top;\n",
       "    }\n",
       "\n",
       "    .dataframe thead th {\n",
       "        text-align: right;\n",
       "    }\n",
       "</style>\n",
       "<table border=\"1\" class=\"dataframe\">\n",
       "  <thead>\n",
       "    <tr style=\"text-align: right;\">\n",
       "      <th></th>\n",
       "      <th>минимальный вес</th>\n",
       "      <th>максимальный вес</th>\n",
       "      <th>средний вес</th>\n",
       "      <th>медиана</th>\n",
       "      <th>среднеквадратичное отклонение</th>\n",
       "    </tr>\n",
       "    <tr>\n",
       "      <th>СДО</th>\n",
       "      <th></th>\n",
       "      <th></th>\n",
       "      <th></th>\n",
       "      <th></th>\n",
       "      <th></th>\n",
       "    </tr>\n",
       "  </thead>\n",
       "  <tbody>\n",
       "    <tr>\n",
       "      <th>222</th>\n",
       "      <td>0.9</td>\n",
       "      <td>8.4</td>\n",
       "      <td>5.343750</td>\n",
       "      <td>6.1</td>\n",
       "      <td>2.087093</td>\n",
       "    </tr>\n",
       "    <tr>\n",
       "      <th>241</th>\n",
       "      <td>1.9</td>\n",
       "      <td>14.1</td>\n",
       "      <td>8.207692</td>\n",
       "      <td>8.7</td>\n",
       "      <td>3.974612</td>\n",
       "    </tr>\n",
       "    <tr>\n",
       "      <th>245</th>\n",
       "      <td>1.9</td>\n",
       "      <td>14.1</td>\n",
       "      <td>11.712500</td>\n",
       "      <td>14.1</td>\n",
       "      <td>4.082637</td>\n",
       "    </tr>\n",
       "    <tr>\n",
       "      <th>231</th>\n",
       "      <td>1.9</td>\n",
       "      <td>14.1</td>\n",
       "      <td>12.230000</td>\n",
       "      <td>14.1</td>\n",
       "      <td>3.265647</td>\n",
       "    </tr>\n",
       "    <tr>\n",
       "      <th>238</th>\n",
       "      <td>2.9</td>\n",
       "      <td>14.1</td>\n",
       "      <td>12.470833</td>\n",
       "      <td>14.1</td>\n",
       "      <td>3.651382</td>\n",
       "    </tr>\n",
       "    <tr>\n",
       "      <th>233</th>\n",
       "      <td>3.3</td>\n",
       "      <td>11.9</td>\n",
       "      <td>8.782222</td>\n",
       "      <td>9.9</td>\n",
       "      <td>2.805051</td>\n",
       "    </tr>\n",
       "    <tr>\n",
       "      <th>237</th>\n",
       "      <td>3.9</td>\n",
       "      <td>10.9</td>\n",
       "      <td>8.101852</td>\n",
       "      <td>8.7</td>\n",
       "      <td>1.509403</td>\n",
       "    </tr>\n",
       "    <tr>\n",
       "      <th>240</th>\n",
       "      <td>4.2</td>\n",
       "      <td>14.1</td>\n",
       "      <td>11.631034</td>\n",
       "      <td>14.1</td>\n",
       "      <td>4.083862</td>\n",
       "    </tr>\n",
       "    <tr>\n",
       "      <th>242</th>\n",
       "      <td>5.3</td>\n",
       "      <td>14.1</td>\n",
       "      <td>9.735000</td>\n",
       "      <td>9.7</td>\n",
       "      <td>2.646999</td>\n",
       "    </tr>\n",
       "    <tr>\n",
       "      <th>246</th>\n",
       "      <td>6.7</td>\n",
       "      <td>14.1</td>\n",
       "      <td>13.372973</td>\n",
       "      <td>14.1</td>\n",
       "      <td>2.029183</td>\n",
       "    </tr>\n",
       "    <tr>\n",
       "      <th>244</th>\n",
       "      <td>6.9</td>\n",
       "      <td>14.1</td>\n",
       "      <td>13.334000</td>\n",
       "      <td>14.1</td>\n",
       "      <td>1.769393</td>\n",
       "    </tr>\n",
       "    <tr>\n",
       "      <th>230</th>\n",
       "      <td>7.0</td>\n",
       "      <td>12.7</td>\n",
       "      <td>10.705000</td>\n",
       "      <td>10.9</td>\n",
       "      <td>1.399427</td>\n",
       "    </tr>\n",
       "    <tr>\n",
       "      <th>239</th>\n",
       "      <td>14.1</td>\n",
       "      <td>14.1</td>\n",
       "      <td>14.100000</td>\n",
       "      <td>14.1</td>\n",
       "      <td>0.000000</td>\n",
       "    </tr>\n",
       "  </tbody>\n",
       "</table>\n",
       "</div>"
      ],
      "text/plain": [
       "     минимальный вес  максимальный вес  средний вес  медиана  \\\n",
       "СДО                                                            \n",
       "222              0.9               8.4     5.343750      6.1   \n",
       "241              1.9              14.1     8.207692      8.7   \n",
       "245              1.9              14.1    11.712500     14.1   \n",
       "231              1.9              14.1    12.230000     14.1   \n",
       "238              2.9              14.1    12.470833     14.1   \n",
       "233              3.3              11.9     8.782222      9.9   \n",
       "237              3.9              10.9     8.101852      8.7   \n",
       "240              4.2              14.1    11.631034     14.1   \n",
       "242              5.3              14.1     9.735000      9.7   \n",
       "246              6.7              14.1    13.372973     14.1   \n",
       "244              6.9              14.1    13.334000     14.1   \n",
       "230              7.0              12.7    10.705000     10.9   \n",
       "239             14.1              14.1    14.100000     14.1   \n",
       "\n",
       "     среднеквадратичное отклонение  \n",
       "СДО                                 \n",
       "222                       2.087093  \n",
       "241                       3.974612  \n",
       "245                       4.082637  \n",
       "231                       3.265647  \n",
       "238                       3.651382  \n",
       "233                       2.805051  \n",
       "237                       1.509403  \n",
       "240                       4.083862  \n",
       "242                       2.646999  \n",
       "246                       2.029183  \n",
       "244                       1.769393  \n",
       "230                       1.399427  \n",
       "239                       0.000000  "
      ]
     },
     "execution_count": 51,
     "metadata": {},
     "output_type": "execute_result"
    }
   ],
   "source": [
    "stats.sort_values(by=['минимальный вес','средний вес'], ascending=True)"
   ]
  },
  {
   "cell_type": "markdown",
   "metadata": {},
   "source": [
    "Вывод: аномально маленькие веса встречаются у 222, 241, 245, 231 машины."
   ]
  },
  {
   "cell_type": "markdown",
   "metadata": {},
   "source": [
    "Теперь построим диаграммы типа \"ящик с усами\"."
   ]
  },
  {
   "cell_type": "code",
   "execution_count": 45,
   "metadata": {},
   "outputs": [
    {
     "data": {
      "image/png": "[encoded data removed]",
      "text/plain": [
       "<Figure size 1440x720 with 1 Axes>"
      ]
     },
     "metadata": {
      "needs_background": "light"
     },
     "output_type": "display_data"
    }
   ],
   "source": [
    "plt.figure(figsize=(20,10))\n",
    "plt.title(\"Распределение весов по машинам\", fontsize=18)\n",
    "#plt.xticks(np.arange(0, max(df['Вес, т']+1), 5))\n",
    "plt.tick_params(labelsize=14)\n",
    "\n",
    "sns.boxplot(y='Вес, т', x=\"СДО\", data=df).set(ylabel=None, xlabel=None)\n",
    "plt.show()"
   ]
  },
  {
   "cell_type": "markdown",
   "metadata": {},
   "source": [
    "Вывод: почти у всех машин наблюдаются выбросы в меньшую сторону."
   ]
  },
  {
   "cell_type": "markdown",
   "metadata": {},
   "source": [
    "Посмотрим на гистограммы выборки аномально низких весов на подозрительных машинах"
   ]
  },
  {
   "cell_type": "code",
   "execution_count": 73,
   "metadata": {},
   "outputs": [
    {
     "data": {
      "text/plain": [
       "Text(0.5, 1.0, 'Гистограмма для 222 машины')"
      ]
     },
     "execution_count": 73,
     "metadata": {},
     "output_type": "execute_result"
    },
    {
     "data": {
      "image/png": "[encoded data removed]",
      "text/plain": [
       "<Figure size 432x288 with 1 Axes>"
      ]
     },
     "metadata": {
      "needs_background": "light"
     },
     "output_type": "display_data"
    }
   ],
   "source": [
    "i = 222\n",
    "df_222 = df[df['СДО'] == i]\n",
    "df_222['Вес, т'].hist(bins = 10)\n",
    "plt.title(f\"Гистограмма для {i} машины\")"
   ]
  },
  {
   "cell_type": "code",
   "execution_count": 74,
   "metadata": {},
   "outputs": [
    {
     "data": {
      "text/plain": [
       "Text(0.5, 1.0, 'Гистограмма для 231 машины')"
      ]
     },
     "execution_count": 74,
     "metadata": {},
     "output_type": "execute_result"
    },
    {
     "data": {
      "image/png": "[encoded data removed]",
      "text/plain": [
       "<Figure size 432x288 with 1 Axes>"
      ]
     },
     "metadata": {
      "needs_background": "light"
     },
     "output_type": "display_data"
    }
   ],
   "source": [
    "i = 231\n",
    "df_222 = df[df['СДО'] == i]\n",
    "df_222['Вес, т'].hist(bins = 10)\n",
    "plt.title(f\"Гистограмма для {i} машины\")"
   ]
  },
  {
   "cell_type": "code",
   "execution_count": 75,
   "metadata": {},
   "outputs": [
    {
     "data": {
      "text/plain": [
       "Text(0.5, 1.0, 'Гистограмма для 241 машины')"
      ]
     },
     "execution_count": 75,
     "metadata": {},
     "output_type": "execute_result"
    },
    {
     "data": {
      "image/png": "[encoded data removed]",
      "text/plain": [
       "<Figure size 432x288 with 1 Axes>"
      ]
     },
     "metadata": {
      "needs_background": "light"
     },
     "output_type": "display_data"
    }
   ],
   "source": [
    "i = 241\n",
    "df_222 = df[df['СДО'] == i]\n",
    "df_222['Вес, т'].hist(bins = 10)\n",
    "plt.title(f\"Гистограмма для {i} машины\")"
   ]
  },
  {
   "cell_type": "code",
   "execution_count": 76,
   "metadata": {},
   "outputs": [
    {
     "data": {
      "text/plain": [
       "Text(0.5, 1.0, 'Гистограмма для 245 машины')"
      ]
     },
     "execution_count": 76,
     "metadata": {},
     "output_type": "execute_result"
    },
    {
     "data": {
      "image/png": "[encoded data removed]",
      "text/plain": [
       "<Figure size 432x288 with 1 Axes>"
      ]
     },
     "metadata": {
      "needs_background": "light"
     },
     "output_type": "display_data"
    }
   ],
   "source": [
    "i = 245\n",
    "df_222 = df[df['СДО'] == i]\n",
    "df_222['Вес, т'].hist(bins = 10)\n",
    "plt.title(f\"Гистограмма для {i} машины\")"
   ]
  },
  {
   "cell_type": "code",
   "execution_count": 85,
   "metadata": {},
   "outputs": [
    {
     "name": "stdout",
     "output_type": "stream",
     "text": [
      "10 перцентиль:  1.02\n"
     ]
    },
    {
     "data": {
      "image/png": "[encoded data removed]",
      "text/plain": [
       "<Figure size 432x288 with 1 Axes>"
      ]
     },
     "metadata": {
      "needs_background": "light"
     },
     "output_type": "display_data"
    }
   ],
   "source": [
    "i = 222\n",
    "df_222 = df[df['СДО'] == i]\n",
    "level_10 = np.percentile(df_222['Вес, т'], 1)\n",
    "sns.distplot(df_222['Вес, т'])\n",
    "plt.axvline(x=level_10, color=\"r\", linestyle=\"-\")\n",
    "plt.title(f\"Гистограмма для {i} машины с 10 перцентилем (красная линия)\")\n",
    "print(\"10 перцентиль: \", level_10)"
   ]
  },
  {
   "cell_type": "code",
   "execution_count": 86,
   "metadata": {},
   "outputs": [
    {
     "name": "stdout",
     "output_type": "stream",
     "text": [
      "10 перцентиль:  2.521\n"
     ]
    },
    {
     "data": {
      "image/png": "[encoded data removed]",
      "text/plain": [
       "<Figure size 432x288 with 1 Axes>"
      ]
     },
     "metadata": {
      "needs_background": "light"
     },
     "output_type": "display_data"
    }
   ],
   "source": [
    "i = 231\n",
    "df_222 = df[df['СДО'] == i]\n",
    "level_10 = np.percentile(df_222['Вес, т'], 1)\n",
    "sns.distplot(df_222['Вес, т'])\n",
    "plt.axvline(x=level_10, color=\"r\", linestyle=\"-\")\n",
    "plt.title(f\"Гистограмма для {i} машины с 10 перцентилем (красная линия)\")\n",
    "print(\"10 перцентиль: \", level_10)"
   ]
  },
  {
   "cell_type": "code",
   "execution_count": 87,
   "metadata": {},
   "outputs": [
    {
     "name": "stdout",
     "output_type": "stream",
     "text": [
      "10 перцентиль:  1.9\n"
     ]
    },
    {
     "data": {
      "image/png": "[encoded data removed]",
      "text/plain": [
       "<Figure size 432x288 with 1 Axes>"
      ]
     },
     "metadata": {
      "needs_background": "light"
     },
     "output_type": "display_data"
    }
   ],
   "source": [
    "i = 241\n",
    "df_222 = df[df['СДО'] == i]\n",
    "level_10 = np.percentile(df_222['Вес, т'], 1)\n",
    "sns.distplot(df_222['Вес, т'])\n",
    "plt.axvline(x=level_10, color=\"r\", linestyle=\"-\")\n",
    "plt.title(f\"Гистограмма для {i} машины с 10 перцентилем (красная линия)\")\n",
    "print(\"10 перцентиль: \", level_10)"
   ]
  },
  {
   "cell_type": "code",
   "execution_count": 88,
   "metadata": {},
   "outputs": [
    {
     "name": "stdout",
     "output_type": "stream",
     "text": [
      "10 перцентиль:  1.9\n"
     ]
    },
    {
     "data": {
      "image/png": "[encoded data removed]",
      "text/plain": [
       "<Figure size 432x288 with 1 Axes>"
      ]
     },
     "metadata": {
      "needs_background": "light"
     },
     "output_type": "display_data"
    }
   ],
   "source": [
    "i = 245\n",
    "df_222 = df[df['СДО'] == i]\n",
    "level_10 = np.percentile(df_222['Вес, т'], 1)\n",
    "sns.distplot(df_222['Вес, т'])\n",
    "plt.axvline(x=level_10, color=\"r\", linestyle=\"-\")\n",
    "plt.title(f\"Гистограмма для {i} машины с 10 перцентилем (красная линия)\")\n",
    "print(\"10 перцентиль: \", level_10)"
   ]
  },
  {
   "cell_type": "markdown",
   "metadata": {},
   "source": [
    "Исследование аномалий (1 процентиль)"
   ]
  },
  {
   "cell_type": "code",
   "execution_count": 110,
   "metadata": {},
   "outputs": [],
   "source": [
    "def find_anomaly(df, column):\n",
    "    level_1 = np.percentile(df[column], 1)\n",
    "    anomaly = df[df[column] <= level_1]\n",
    "    return anomaly,level_1"
   ]
  },
  {
   "cell_type": "code",
   "execution_count": 111,
   "metadata": {},
   "outputs": [
    {
     "name": "stdout",
     "output_type": "stream",
     "text": [
      "Аномалии для 222 машины\n"
     ]
    }
   ],
   "source": [
    "i = 222\n",
    "print(f\"Аномалии для {i} машины\")"
   ]
  },
  {
   "cell_type": "code",
   "execution_count": 112,
   "metadata": {},
   "outputs": [
    {
     "data": {
      "text/plain": [
       "1"
      ]
     },
     "execution_count": 112,
     "metadata": {},
     "output_type": "execute_result"
    }
   ],
   "source": [
    "df_222 = df[df['СДО'] == i]\n",
    "anomaly = find_anomaly(df=df_222, column = \"Вес, т\")\n",
    "len(anomaly[0])"
   ]
  },
  {
   "cell_type": "code",
   "execution_count": 113,
   "metadata": {},
   "outputs": [
    {
     "data": {
      "text/plain": [
       "0.0625"
      ]
     },
     "execution_count": 113,
     "metadata": {},
     "output_type": "execute_result"
    }
   ],
   "source": [
    "len(anomaly[0])/len(df_222)"
   ]
  },
  {
   "cell_type": "code",
   "execution_count": 114,
   "metadata": {
    "scrolled": true
   },
   "outputs": [
    {
     "data": {
      "text/html": [
       "<div>\n",
       "<style scoped>\n",
       "    .dataframe tbody tr th:only-of-type {\n",
       "        vertical-align: middle;\n",
       "    }\n",
       "\n",
       "    .dataframe tbody tr th {\n",
       "        vertical-align: top;\n",
       "    }\n",
       "\n",
       "    .dataframe thead th {\n",
       "        text-align: right;\n",
       "    }\n",
       "</style>\n",
       "<table border=\"1\" class=\"dataframe\">\n",
       "  <thead>\n",
       "    <tr style=\"text-align: right;\">\n",
       "      <th></th>\n",
       "      <th>№</th>\n",
       "      <th>PK</th>\n",
       "      <th>СДО</th>\n",
       "      <th>Дата начала рейса</th>\n",
       "      <th>Место начала цикла</th>\n",
       "      <th>Время начала движения порожним</th>\n",
       "      <th>Продолжительность движения порожним, мин</th>\n",
       "      <th>Место погрузки</th>\n",
       "      <th>Время начала погрузки</th>\n",
       "      <th>Продолжительность погрузки, мин</th>\n",
       "      <th>...</th>\n",
       "      <th>Скорость движения цикла экспл., км/ч</th>\n",
       "      <th>Непроизводительных простоев, мин</th>\n",
       "      <th>Вес, т</th>\n",
       "      <th>Вес по датчику давления, т</th>\n",
       "      <th>Unnamed: 31</th>\n",
       "      <th>Метка перед погрузкой</th>\n",
       "      <th>Метка перед разгрузкой</th>\n",
       "      <th>Парная работа</th>\n",
       "      <th>Повторная транспортировка</th>\n",
       "      <th>Связанный рейс ПДМ/ШАС</th>\n",
       "    </tr>\n",
       "  </thead>\n",
       "  <tbody>\n",
       "    <tr>\n",
       "      <th>765</th>\n",
       "      <td>766</td>\n",
       "      <td>1961588</td>\n",
       "      <td>222</td>\n",
       "      <td>2021-01-20 14:14:38</td>\n",
       "      <td>NaN</td>\n",
       "      <td>2021-01-20 14:14:07</td>\n",
       "      <td>0:00:10</td>\n",
       "      <td>Камера_17</td>\n",
       "      <td>2021-01-20 14:14:17</td>\n",
       "      <td>0:00:42</td>\n",
       "      <td>...</td>\n",
       "      <td>9.8</td>\n",
       "      <td>00:00:00</td>\n",
       "      <td>0.9</td>\n",
       "      <td>0.0</td>\n",
       "      <td>NaN</td>\n",
       "      <td>Камера_27 (VIST ПП:Камера_27)</td>\n",
       "      <td>Камера_25</td>\n",
       "      <td>Нет</td>\n",
       "      <td>Нет</td>\n",
       "      <td>NaN</td>\n",
       "    </tr>\n",
       "  </tbody>\n",
       "</table>\n",
       "<p>1 rows × 37 columns</p>\n",
       "</div>"
      ],
      "text/plain": [
       "       №       PK  СДО   Дата начала рейса Место начала цикла  \\\n",
       "765  766  1961588  222 2021-01-20 14:14:38                NaN   \n",
       "\n",
       "    Время начала движения порожним Продолжительность движения порожним, мин  \\\n",
       "765            2021-01-20 14:14:07                                  0:00:10   \n",
       "\n",
       "    Место погрузки Время начала погрузки Продолжительность погрузки, мин  ...  \\\n",
       "765      Камера_17   2021-01-20 14:14:17                         0:00:42  ...   \n",
       "\n",
       "    Скорость движения цикла экспл., км/ч Непроизводительных простоев, мин  \\\n",
       "765                                  9.8                         00:00:00   \n",
       "\n",
       "    Вес, т Вес по датчику давления, т Unnamed: 31  \\\n",
       "765    0.9                        0.0         NaN   \n",
       "\n",
       "             Метка перед погрузкой Метка перед разгрузкой Парная работа  \\\n",
       "765  Камера_27 (VIST ПП:Камера_27)              Камера_25           Нет   \n",
       "\n",
       "    Повторная транспортировка Связанный рейс ПДМ/ШАС  \n",
       "765                       Нет                    NaN  \n",
       "\n",
       "[1 rows x 37 columns]"
      ]
     },
     "execution_count": 114,
     "metadata": {},
     "output_type": "execute_result"
    }
   ],
   "source": [
    "anomaly[0]"
   ]
  },
  {
   "cell_type": "code",
   "execution_count": null,
   "metadata": {},
   "outputs": [],
   "source": []
  },
  {
   "cell_type": "code",
   "execution_count": 127,
   "metadata": {},
   "outputs": [
    {
     "name": "stdout",
     "output_type": "stream",
     "text": [
      "Аномалии для 231 машины\n"
     ]
    }
   ],
   "source": [
    "i = 231\n",
    "print(f\"Аномалии для {i} машины\")"
   ]
  },
  {
   "cell_type": "code",
   "execution_count": 128,
   "metadata": {},
   "outputs": [
    {
     "data": {
      "text/plain": [
       "1"
      ]
     },
     "execution_count": 128,
     "metadata": {},
     "output_type": "execute_result"
    }
   ],
   "source": [
    "df_222 = df[df['СДО'] == i]\n",
    "anomaly = find_anomaly(df=df_222, column = \"Вес, т\")\n",
    "len(anomaly[0])"
   ]
  },
  {
   "cell_type": "code",
   "execution_count": 129,
   "metadata": {},
   "outputs": [
    {
     "data": {
      "text/plain": [
       "0.014285714285714285"
      ]
     },
     "execution_count": 129,
     "metadata": {},
     "output_type": "execute_result"
    }
   ],
   "source": [
    "len(anomaly[0])/len(df_222)"
   ]
  },
  {
   "cell_type": "code",
   "execution_count": 130,
   "metadata": {
    "scrolled": true
   },
   "outputs": [
    {
     "data": {
      "text/html": [
       "<div>\n",
       "<style scoped>\n",
       "    .dataframe tbody tr th:only-of-type {\n",
       "        vertical-align: middle;\n",
       "    }\n",
       "\n",
       "    .dataframe tbody tr th {\n",
       "        vertical-align: top;\n",
       "    }\n",
       "\n",
       "    .dataframe thead th {\n",
       "        text-align: right;\n",
       "    }\n",
       "</style>\n",
       "<table border=\"1\" class=\"dataframe\">\n",
       "  <thead>\n",
       "    <tr style=\"text-align: right;\">\n",
       "      <th></th>\n",
       "      <th>№</th>\n",
       "      <th>PK</th>\n",
       "      <th>СДО</th>\n",
       "      <th>Дата начала рейса</th>\n",
       "      <th>Место начала цикла</th>\n",
       "      <th>Время начала движения порожним</th>\n",
       "      <th>Продолжительность движения порожним, мин</th>\n",
       "      <th>Место погрузки</th>\n",
       "      <th>Время начала погрузки</th>\n",
       "      <th>Продолжительность погрузки, мин</th>\n",
       "      <th>...</th>\n",
       "      <th>Скорость движения цикла экспл., км/ч</th>\n",
       "      <th>Непроизводительных простоев, мин</th>\n",
       "      <th>Вес, т</th>\n",
       "      <th>Вес по датчику давления, т</th>\n",
       "      <th>Unnamed: 31</th>\n",
       "      <th>Метка перед погрузкой</th>\n",
       "      <th>Метка перед разгрузкой</th>\n",
       "      <th>Парная работа</th>\n",
       "      <th>Повторная транспортировка</th>\n",
       "      <th>Связанный рейс ПДМ/ШАС</th>\n",
       "    </tr>\n",
       "  </thead>\n",
       "  <tbody>\n",
       "    <tr>\n",
       "      <th>498</th>\n",
       "      <td>499</td>\n",
       "      <td>1961735</td>\n",
       "      <td>231</td>\n",
       "      <td>2021-01-20 12:13:44</td>\n",
       "      <td>235/13 БИС</td>\n",
       "      <td>2021-01-20 12:12:46</td>\n",
       "      <td>0:00:42</td>\n",
       "      <td>NaN</td>\n",
       "      <td>2021-01-20 12:13:28</td>\n",
       "      <td>0:00:31</td>\n",
       "      <td>...</td>\n",
       "      <td>5.5</td>\n",
       "      <td>00:00:00</td>\n",
       "      <td>1.9</td>\n",
       "      <td>NaN</td>\n",
       "      <td>NaN</td>\n",
       "      <td>235/13 БИС_</td>\n",
       "      <td>235/13 БИС_ (VIST ПР:235/13 БИС)</td>\n",
       "      <td>Нет</td>\n",
       "      <td>Нет</td>\n",
       "      <td>NaN</td>\n",
       "    </tr>\n",
       "  </tbody>\n",
       "</table>\n",
       "<p>1 rows × 37 columns</p>\n",
       "</div>"
      ],
      "text/plain": [
       "       №       PK  СДО   Дата начала рейса Место начала цикла  \\\n",
       "498  499  1961735  231 2021-01-20 12:13:44         235/13 БИС   \n",
       "\n",
       "    Время начала движения порожним Продолжительность движения порожним, мин  \\\n",
       "498            2021-01-20 12:12:46                                  0:00:42   \n",
       "\n",
       "    Место погрузки Время начала погрузки Продолжительность погрузки, мин  ...  \\\n",
       "498            NaN   2021-01-20 12:13:28                         0:00:31  ...   \n",
       "\n",
       "    Скорость движения цикла экспл., км/ч Непроизводительных простоев, мин  \\\n",
       "498                                  5.5                         00:00:00   \n",
       "\n",
       "    Вес, т Вес по датчику давления, т Unnamed: 31 Метка перед погрузкой  \\\n",
       "498    1.9                        NaN         NaN           235/13 БИС_   \n",
       "\n",
       "               Метка перед разгрузкой Парная работа Повторная транспортировка  \\\n",
       "498  235/13 БИС_ (VIST ПР:235/13 БИС)           Нет                       Нет   \n",
       "\n",
       "    Связанный рейс ПДМ/ШАС  \n",
       "498                    NaN  \n",
       "\n",
       "[1 rows x 37 columns]"
      ]
     },
     "execution_count": 130,
     "metadata": {},
     "output_type": "execute_result"
    }
   ],
   "source": [
    "anomaly[0]"
   ]
  },
  {
   "cell_type": "code",
   "execution_count": null,
   "metadata": {},
   "outputs": [],
   "source": []
  },
  {
   "cell_type": "code",
   "execution_count": 131,
   "metadata": {},
   "outputs": [
    {
     "name": "stdout",
     "output_type": "stream",
     "text": [
      "Аномалии для 241 машины\n"
     ]
    }
   ],
   "source": [
    "i = 241\n",
    "print(f\"Аномалии для {i} машины\")"
   ]
  },
  {
   "cell_type": "code",
   "execution_count": 132,
   "metadata": {},
   "outputs": [
    {
     "data": {
      "text/plain": [
       "2"
      ]
     },
     "execution_count": 132,
     "metadata": {},
     "output_type": "execute_result"
    }
   ],
   "source": [
    "df_222 = df[df['СДО'] == i]\n",
    "anomaly = find_anomaly(df=df_222, column = \"Вес, т\")\n",
    "len(anomaly[0])"
   ]
  },
  {
   "cell_type": "code",
   "execution_count": 133,
   "metadata": {},
   "outputs": [
    {
     "data": {
      "text/plain": [
       "0.07692307692307693"
      ]
     },
     "execution_count": 133,
     "metadata": {},
     "output_type": "execute_result"
    }
   ],
   "source": [
    "len(anomaly[0])/len(df_222)"
   ]
  },
  {
   "cell_type": "code",
   "execution_count": 134,
   "metadata": {
    "scrolled": true
   },
   "outputs": [
    {
     "data": {
      "text/html": [
       "<div>\n",
       "<style scoped>\n",
       "    .dataframe tbody tr th:only-of-type {\n",
       "        vertical-align: middle;\n",
       "    }\n",
       "\n",
       "    .dataframe tbody tr th {\n",
       "        vertical-align: top;\n",
       "    }\n",
       "\n",
       "    .dataframe thead th {\n",
       "        text-align: right;\n",
       "    }\n",
       "</style>\n",
       "<table border=\"1\" class=\"dataframe\">\n",
       "  <thead>\n",
       "    <tr style=\"text-align: right;\">\n",
       "      <th></th>\n",
       "      <th>№</th>\n",
       "      <th>PK</th>\n",
       "      <th>СДО</th>\n",
       "      <th>Дата начала рейса</th>\n",
       "      <th>Место начала цикла</th>\n",
       "      <th>Время начала движения порожним</th>\n",
       "      <th>Продолжительность движения порожним, мин</th>\n",
       "      <th>Место погрузки</th>\n",
       "      <th>Время начала погрузки</th>\n",
       "      <th>Продолжительность погрузки, мин</th>\n",
       "      <th>...</th>\n",
       "      <th>Скорость движения цикла экспл., км/ч</th>\n",
       "      <th>Непроизводительных простоев, мин</th>\n",
       "      <th>Вес, т</th>\n",
       "      <th>Вес по датчику давления, т</th>\n",
       "      <th>Unnamed: 31</th>\n",
       "      <th>Метка перед погрузкой</th>\n",
       "      <th>Метка перед разгрузкой</th>\n",
       "      <th>Парная работа</th>\n",
       "      <th>Повторная транспортировка</th>\n",
       "      <th>Связанный рейс ПДМ/ШАС</th>\n",
       "    </tr>\n",
       "  </thead>\n",
       "  <tbody>\n",
       "    <tr>\n",
       "      <th>490</th>\n",
       "      <td>491</td>\n",
       "      <td>1961348</td>\n",
       "      <td>241</td>\n",
       "      <td>2021-01-20 12:10:22</td>\n",
       "      <td>241/16 бис</td>\n",
       "      <td>2021-01-20 12:06:12</td>\n",
       "      <td>0:03:42</td>\n",
       "      <td>NaN</td>\n",
       "      <td>2021-01-20 12:09:54</td>\n",
       "      <td>0:01:28</td>\n",
       "      <td>...</td>\n",
       "      <td>1.6</td>\n",
       "      <td>0:00:35</td>\n",
       "      <td>1.9</td>\n",
       "      <td>NaN</td>\n",
       "      <td>NaN</td>\n",
       "      <td>Р-к 241/16 бис</td>\n",
       "      <td>Р-к 241/16 бис (VIST ПР:241/16 бис)</td>\n",
       "      <td>Нет</td>\n",
       "      <td>Нет</td>\n",
       "      <td>NaN</td>\n",
       "    </tr>\n",
       "    <tr>\n",
       "      <th>633</th>\n",
       "      <td>634</td>\n",
       "      <td>1961454</td>\n",
       "      <td>241</td>\n",
       "      <td>2021-01-20 13:03:59</td>\n",
       "      <td>241/16 бис</td>\n",
       "      <td>2021-01-20 13:02:40</td>\n",
       "      <td>0:01:09</td>\n",
       "      <td>NaN</td>\n",
       "      <td>2021-01-20 13:03:49</td>\n",
       "      <td>0:00:39</td>\n",
       "      <td>...</td>\n",
       "      <td>2.0</td>\n",
       "      <td>00:00:00</td>\n",
       "      <td>1.9</td>\n",
       "      <td>NaN</td>\n",
       "      <td>NaN</td>\n",
       "      <td>205(анкер)</td>\n",
       "      <td>205(анкер) (VIST ПР:205)</td>\n",
       "      <td>Нет</td>\n",
       "      <td>Нет</td>\n",
       "      <td>NaN</td>\n",
       "    </tr>\n",
       "  </tbody>\n",
       "</table>\n",
       "<p>2 rows × 37 columns</p>\n",
       "</div>"
      ],
      "text/plain": [
       "       №       PK  СДО   Дата начала рейса Место начала цикла  \\\n",
       "490  491  1961348  241 2021-01-20 12:10:22         241/16 бис   \n",
       "633  634  1961454  241 2021-01-20 13:03:59         241/16 бис   \n",
       "\n",
       "    Время начала движения порожним Продолжительность движения порожним, мин  \\\n",
       "490            2021-01-20 12:06:12                                  0:03:42   \n",
       "633            2021-01-20 13:02:40                                  0:01:09   \n",
       "\n",
       "    Место погрузки Время начала погрузки Продолжительность погрузки, мин  ...  \\\n",
       "490            NaN   2021-01-20 12:09:54                         0:01:28  ...   \n",
       "633            NaN   2021-01-20 13:03:49                         0:00:39  ...   \n",
       "\n",
       "    Скорость движения цикла экспл., км/ч Непроизводительных простоев, мин  \\\n",
       "490                                  1.6                          0:00:35   \n",
       "633                                  2.0                         00:00:00   \n",
       "\n",
       "    Вес, т Вес по датчику давления, т Unnamed: 31 Метка перед погрузкой  \\\n",
       "490    1.9                        NaN         NaN        Р-к 241/16 бис   \n",
       "633    1.9                        NaN         NaN            205(анкер)   \n",
       "\n",
       "                  Метка перед разгрузкой Парная работа  \\\n",
       "490  Р-к 241/16 бис (VIST ПР:241/16 бис)           Нет   \n",
       "633             205(анкер) (VIST ПР:205)           Нет   \n",
       "\n",
       "    Повторная транспортировка Связанный рейс ПДМ/ШАС  \n",
       "490                       Нет                    NaN  \n",
       "633                       Нет                    NaN  \n",
       "\n",
       "[2 rows x 37 columns]"
      ]
     },
     "execution_count": 134,
     "metadata": {},
     "output_type": "execute_result"
    }
   ],
   "source": [
    "anomaly[0]"
   ]
  },
  {
   "cell_type": "code",
   "execution_count": null,
   "metadata": {},
   "outputs": [],
   "source": []
  },
  {
   "cell_type": "code",
   "execution_count": 139,
   "metadata": {},
   "outputs": [
    {
     "name": "stdout",
     "output_type": "stream",
     "text": [
      "Аномалии для 245 машины\n"
     ]
    }
   ],
   "source": [
    "i = 245\n",
    "print(f\"Аномалии для {i} машины\")"
   ]
  },
  {
   "cell_type": "code",
   "execution_count": 140,
   "metadata": {},
   "outputs": [
    {
     "data": {
      "text/plain": [
       "3"
      ]
     },
     "execution_count": 140,
     "metadata": {},
     "output_type": "execute_result"
    }
   ],
   "source": [
    "df_222 = df[df['СДО'] == i]\n",
    "anomaly = find_anomaly(df=df_222, column = \"Вес, т\")\n",
    "len(anomaly[0])"
   ]
  },
  {
   "cell_type": "code",
   "execution_count": 141,
   "metadata": {},
   "outputs": [
    {
     "data": {
      "text/plain": [
       "0.0625"
      ]
     },
     "execution_count": 141,
     "metadata": {},
     "output_type": "execute_result"
    }
   ],
   "source": [
    "len(anomaly[0])/len(df_222)"
   ]
  },
  {
   "cell_type": "code",
   "execution_count": 142,
   "metadata": {
    "scrolled": true
   },
   "outputs": [
    {
     "data": {
      "text/html": [
       "<div>\n",
       "<style scoped>\n",
       "    .dataframe tbody tr th:only-of-type {\n",
       "        vertical-align: middle;\n",
       "    }\n",
       "\n",
       "    .dataframe tbody tr th {\n",
       "        vertical-align: top;\n",
       "    }\n",
       "\n",
       "    .dataframe thead th {\n",
       "        text-align: right;\n",
       "    }\n",
       "</style>\n",
       "<table border=\"1\" class=\"dataframe\">\n",
       "  <thead>\n",
       "    <tr style=\"text-align: right;\">\n",
       "      <th></th>\n",
       "      <th>№</th>\n",
       "      <th>PK</th>\n",
       "      <th>СДО</th>\n",
       "      <th>Дата начала рейса</th>\n",
       "      <th>Место начала цикла</th>\n",
       "      <th>Время начала движения порожним</th>\n",
       "      <th>Продолжительность движения порожним, мин</th>\n",
       "      <th>Место погрузки</th>\n",
       "      <th>Время начала погрузки</th>\n",
       "      <th>Продолжительность погрузки, мин</th>\n",
       "      <th>...</th>\n",
       "      <th>Скорость движения цикла экспл., км/ч</th>\n",
       "      <th>Непроизводительных простоев, мин</th>\n",
       "      <th>Вес, т</th>\n",
       "      <th>Вес по датчику давления, т</th>\n",
       "      <th>Unnamed: 31</th>\n",
       "      <th>Метка перед погрузкой</th>\n",
       "      <th>Метка перед разгрузкой</th>\n",
       "      <th>Парная работа</th>\n",
       "      <th>Повторная транспортировка</th>\n",
       "      <th>Связанный рейс ПДМ/ШАС</th>\n",
       "    </tr>\n",
       "  </thead>\n",
       "  <tbody>\n",
       "    <tr>\n",
       "      <th>19</th>\n",
       "      <td>20</td>\n",
       "      <td>1960949</td>\n",
       "      <td>245</td>\n",
       "      <td>2021-01-20 09:29:26</td>\n",
       "      <td>204</td>\n",
       "      <td>2021-01-20 09:27:35</td>\n",
       "      <td>0:01:46</td>\n",
       "      <td>Камера_3</td>\n",
       "      <td>2021-01-20 09:29:21</td>\n",
       "      <td>0:00:11</td>\n",
       "      <td>...</td>\n",
       "      <td>2.8</td>\n",
       "      <td>00:00:00</td>\n",
       "      <td>1.9</td>\n",
       "      <td>NaN</td>\n",
       "      <td>NaN</td>\n",
       "      <td>Камера_4 (VIST ПП:Камера_4)</td>\n",
       "      <td>Камера_4</td>\n",
       "      <td>Да</td>\n",
       "      <td>Нет</td>\n",
       "      <td>NaN</td>\n",
       "    </tr>\n",
       "    <tr>\n",
       "      <th>31</th>\n",
       "      <td>32</td>\n",
       "      <td>1960954</td>\n",
       "      <td>245</td>\n",
       "      <td>2021-01-20 09:34:54</td>\n",
       "      <td>204</td>\n",
       "      <td>2021-01-20 09:34:28</td>\n",
       "      <td>0:00:22</td>\n",
       "      <td>NaN</td>\n",
       "      <td>2021-01-20 09:34:50</td>\n",
       "      <td>0:00:08</td>\n",
       "      <td>...</td>\n",
       "      <td>4.0</td>\n",
       "      <td>00:00:00</td>\n",
       "      <td>1.9</td>\n",
       "      <td>NaN</td>\n",
       "      <td>NaN</td>\n",
       "      <td>Камера_4 (VIST ПП:Камера_4)</td>\n",
       "      <td>Камера_4</td>\n",
       "      <td>Да</td>\n",
       "      <td>Нет</td>\n",
       "      <td>NaN</td>\n",
       "    </tr>\n",
       "    <tr>\n",
       "      <th>735</th>\n",
       "      <td>736</td>\n",
       "      <td>1961559</td>\n",
       "      <td>245</td>\n",
       "      <td>2021-01-20 13:47:56</td>\n",
       "      <td>NaN</td>\n",
       "      <td>2021-01-20 13:47:54</td>\n",
       "      <td>0:00:02</td>\n",
       "      <td>NaN</td>\n",
       "      <td>2021-01-20 13:47:56</td>\n",
       "      <td>0:00:25</td>\n",
       "      <td>...</td>\n",
       "      <td>7.9</td>\n",
       "      <td>00:00:00</td>\n",
       "      <td>1.9</td>\n",
       "      <td>NaN</td>\n",
       "      <td>NaN</td>\n",
       "      <td>Камера_24 (VIST ПП:Камера_24)</td>\n",
       "      <td>Камера_24</td>\n",
       "      <td>Нет</td>\n",
       "      <td>Нет</td>\n",
       "      <td>NaN</td>\n",
       "    </tr>\n",
       "  </tbody>\n",
       "</table>\n",
       "<p>3 rows × 37 columns</p>\n",
       "</div>"
      ],
      "text/plain": [
       "       №       PK  СДО   Дата начала рейса Место начала цикла  \\\n",
       "19    20  1960949  245 2021-01-20 09:29:26                204   \n",
       "31    32  1960954  245 2021-01-20 09:34:54                204   \n",
       "735  736  1961559  245 2021-01-20 13:47:56                NaN   \n",
       "\n",
       "    Время начала движения порожним Продолжительность движения порожним, мин  \\\n",
       "19             2021-01-20 09:27:35                                  0:01:46   \n",
       "31             2021-01-20 09:34:28                                  0:00:22   \n",
       "735            2021-01-20 13:47:54                                  0:00:02   \n",
       "\n",
       "    Место погрузки Время начала погрузки Продолжительность погрузки, мин  ...  \\\n",
       "19        Камера_3   2021-01-20 09:29:21                         0:00:11  ...   \n",
       "31             NaN   2021-01-20 09:34:50                         0:00:08  ...   \n",
       "735            NaN   2021-01-20 13:47:56                         0:00:25  ...   \n",
       "\n",
       "    Скорость движения цикла экспл., км/ч Непроизводительных простоев, мин  \\\n",
       "19                                   2.8                         00:00:00   \n",
       "31                                   4.0                         00:00:00   \n",
       "735                                  7.9                         00:00:00   \n",
       "\n",
       "    Вес, т Вес по датчику давления, т Unnamed: 31  \\\n",
       "19     1.9                        NaN         NaN   \n",
       "31     1.9                        NaN         NaN   \n",
       "735    1.9                        NaN         NaN   \n",
       "\n",
       "             Метка перед погрузкой Метка перед разгрузкой Парная работа  \\\n",
       "19     Камера_4 (VIST ПП:Камера_4)               Камера_4            Да   \n",
       "31     Камера_4 (VIST ПП:Камера_4)               Камера_4            Да   \n",
       "735  Камера_24 (VIST ПП:Камера_24)              Камера_24           Нет   \n",
       "\n",
       "    Повторная транспортировка Связанный рейс ПДМ/ШАС  \n",
       "19                        Нет                    NaN  \n",
       "31                        Нет                    NaN  \n",
       "735                       Нет                    NaN  \n",
       "\n",
       "[3 rows x 37 columns]"
      ]
     },
     "execution_count": 142,
     "metadata": {},
     "output_type": "execute_result"
    }
   ],
   "source": [
    "anomaly[0]"
   ]
  },
  {
   "cell_type": "code",
   "execution_count": null,
   "metadata": {},
   "outputs": [],
   "source": []
  },
  {
   "cell_type": "markdown",
   "metadata": {},
   "source": [
    "Исследование выбросов пробега груженым"
   ]
  },
  {
   "cell_type": "code",
   "execution_count": 145,
   "metadata": {},
   "outputs": [],
   "source": [
    "data_grouped = df.groupby('СДО')\n",
    "aggs = {'Пробег груженым, м': ['min', 'max', 'mean', 'median', 'std']}\n",
    "stats = data_grouped.agg(aggs)\n",
    "stats.columns = ['минимальный пробег', 'максимальный пробег', 'средний пробег', 'медиана', 'среднеквадратичное отклонение']\n"
   ]
  },
  {
   "cell_type": "code",
   "execution_count": 146,
   "metadata": {},
   "outputs": [
    {
     "data": {
      "text/html": [
       "<div>\n",
       "<style scoped>\n",
       "    .dataframe tbody tr th:only-of-type {\n",
       "        vertical-align: middle;\n",
       "    }\n",
       "\n",
       "    .dataframe tbody tr th {\n",
       "        vertical-align: top;\n",
       "    }\n",
       "\n",
       "    .dataframe thead th {\n",
       "        text-align: right;\n",
       "    }\n",
       "</style>\n",
       "<table border=\"1\" class=\"dataframe\">\n",
       "  <thead>\n",
       "    <tr style=\"text-align: right;\">\n",
       "      <th></th>\n",
       "      <th>минимальный пробег</th>\n",
       "      <th>максимальный пробег</th>\n",
       "      <th>средний пробег</th>\n",
       "      <th>медиана</th>\n",
       "      <th>среднеквадратичное отклонение</th>\n",
       "    </tr>\n",
       "    <tr>\n",
       "      <th>СДО</th>\n",
       "      <th></th>\n",
       "      <th></th>\n",
       "      <th></th>\n",
       "      <th></th>\n",
       "      <th></th>\n",
       "    </tr>\n",
       "  </thead>\n",
       "  <tbody>\n",
       "    <tr>\n",
       "      <th>237</th>\n",
       "      <td>2.0</td>\n",
       "      <td>466.0</td>\n",
       "      <td>187.129630</td>\n",
       "      <td>237.0</td>\n",
       "      <td>93.630556</td>\n",
       "    </tr>\n",
       "    <tr>\n",
       "      <th>244</th>\n",
       "      <td>3.0</td>\n",
       "      <td>188.0</td>\n",
       "      <td>31.690000</td>\n",
       "      <td>30.0</td>\n",
       "      <td>23.686375</td>\n",
       "    </tr>\n",
       "    <tr>\n",
       "      <th>246</th>\n",
       "      <td>3.0</td>\n",
       "      <td>461.0</td>\n",
       "      <td>153.540541</td>\n",
       "      <td>40.0</td>\n",
       "      <td>155.942225</td>\n",
       "    </tr>\n",
       "    <tr>\n",
       "      <th>238</th>\n",
       "      <td>4.0</td>\n",
       "      <td>646.0</td>\n",
       "      <td>101.541667</td>\n",
       "      <td>17.5</td>\n",
       "      <td>169.703573</td>\n",
       "    </tr>\n",
       "    <tr>\n",
       "      <th>242</th>\n",
       "      <td>6.0</td>\n",
       "      <td>408.0</td>\n",
       "      <td>97.400000</td>\n",
       "      <td>19.0</td>\n",
       "      <td>142.259363</td>\n",
       "    </tr>\n",
       "    <tr>\n",
       "      <th>245</th>\n",
       "      <td>8.0</td>\n",
       "      <td>311.0</td>\n",
       "      <td>81.125000</td>\n",
       "      <td>33.0</td>\n",
       "      <td>89.258798</td>\n",
       "    </tr>\n",
       "    <tr>\n",
       "      <th>239</th>\n",
       "      <td>14.0</td>\n",
       "      <td>342.0</td>\n",
       "      <td>267.920000</td>\n",
       "      <td>286.0</td>\n",
       "      <td>79.323137</td>\n",
       "    </tr>\n",
       "    <tr>\n",
       "      <th>241</th>\n",
       "      <td>17.0</td>\n",
       "      <td>535.0</td>\n",
       "      <td>81.384615</td>\n",
       "      <td>27.5</td>\n",
       "      <td>132.118758</td>\n",
       "    </tr>\n",
       "    <tr>\n",
       "      <th>231</th>\n",
       "      <td>20.0</td>\n",
       "      <td>476.0</td>\n",
       "      <td>112.771429</td>\n",
       "      <td>43.0</td>\n",
       "      <td>135.636147</td>\n",
       "    </tr>\n",
       "    <tr>\n",
       "      <th>240</th>\n",
       "      <td>22.0</td>\n",
       "      <td>487.0</td>\n",
       "      <td>200.275862</td>\n",
       "      <td>181.0</td>\n",
       "      <td>127.563121</td>\n",
       "    </tr>\n",
       "    <tr>\n",
       "      <th>230</th>\n",
       "      <td>25.0</td>\n",
       "      <td>560.0</td>\n",
       "      <td>281.450000</td>\n",
       "      <td>358.0</td>\n",
       "      <td>191.069421</td>\n",
       "    </tr>\n",
       "    <tr>\n",
       "      <th>233</th>\n",
       "      <td>30.0</td>\n",
       "      <td>548.0</td>\n",
       "      <td>341.244444</td>\n",
       "      <td>430.0</td>\n",
       "      <td>168.165929</td>\n",
       "    </tr>\n",
       "    <tr>\n",
       "      <th>222</th>\n",
       "      <td>75.0</td>\n",
       "      <td>784.0</td>\n",
       "      <td>394.812500</td>\n",
       "      <td>401.5</td>\n",
       "      <td>178.331608</td>\n",
       "    </tr>\n",
       "  </tbody>\n",
       "</table>\n",
       "</div>"
      ],
      "text/plain": [
       "     минимальный пробег  максимальный пробег  средний пробег  медиана  \\\n",
       "СДО                                                                     \n",
       "237                 2.0                466.0      187.129630    237.0   \n",
       "244                 3.0                188.0       31.690000     30.0   \n",
       "246                 3.0                461.0      153.540541     40.0   \n",
       "238                 4.0                646.0      101.541667     17.5   \n",
       "242                 6.0                408.0       97.400000     19.0   \n",
       "245                 8.0                311.0       81.125000     33.0   \n",
       "239                14.0                342.0      267.920000    286.0   \n",
       "241                17.0                535.0       81.384615     27.5   \n",
       "231                20.0                476.0      112.771429     43.0   \n",
       "240                22.0                487.0      200.275862    181.0   \n",
       "230                25.0                560.0      281.450000    358.0   \n",
       "233                30.0                548.0      341.244444    430.0   \n",
       "222                75.0                784.0      394.812500    401.5   \n",
       "\n",
       "     среднеквадратичное отклонение  \n",
       "СДО                                 \n",
       "237                      93.630556  \n",
       "244                      23.686375  \n",
       "246                     155.942225  \n",
       "238                     169.703573  \n",
       "242                     142.259363  \n",
       "245                      89.258798  \n",
       "239                      79.323137  \n",
       "241                     132.118758  \n",
       "231                     135.636147  \n",
       "240                     127.563121  \n",
       "230                     191.069421  \n",
       "233                     168.165929  \n",
       "222                     178.331608  "
      ]
     },
     "execution_count": 146,
     "metadata": {},
     "output_type": "execute_result"
    }
   ],
   "source": [
    "stats.sort_values(by=['минимальный пробег','средний пробег'], ascending=True)"
   ]
  },
  {
   "cell_type": "markdown",
   "metadata": {},
   "source": [
    "Вывод: аномально маленькие пробеги встречаются у 237, 244, 246, 238, 242, 245 машины."
   ]
  },
  {
   "cell_type": "markdown",
   "metadata": {},
   "source": [
    "Теперь построим диаграммы типа \"ящик с усами\"."
   ]
  },
  {
   "cell_type": "code",
   "execution_count": 148,
   "metadata": {},
   "outputs": [
    {
     "data": {
      "image/png": "[encoded data removed]",
      "text/plain": [
       "<Figure size 1440x720 with 1 Axes>"
      ]
     },
     "metadata": {
      "needs_background": "light"
     },
     "output_type": "display_data"
    }
   ],
   "source": [
    "plt.figure(figsize=(20,10))\n",
    "plt.title(\"Распределение пробегов груженым по машинам\", fontsize=18)\n",
    "#plt.xticks(np.arange(0, max(df['Вес, т']+1), 5))\n",
    "plt.tick_params(labelsize=14)\n",
    "\n",
    "sns.boxplot(y='Пробег груженым, м', x=\"СДО\", data=df).set(ylabel=None, xlabel=None)\n",
    "plt.show()"
   ]
  },
  {
   "cell_type": "markdown",
   "metadata": {},
   "source": [
    "Посмотрим на гистограммы выборки аномально низких пробегов на подозрительных машинах"
   ]
  },
  {
   "cell_type": "code",
   "execution_count": 153,
   "metadata": {},
   "outputs": [
    {
     "data": {
      "text/plain": [
       "Text(0.5, 1.0, 'Гистограмма для 237 машины')"
      ]
     },
     "execution_count": 153,
     "metadata": {},
     "output_type": "execute_result"
    },
    {
     "data": {
      "image/png": "[encoded data removed]",
      "text/plain": [
       "<Figure size 432x288 with 1 Axes>"
      ]
     },
     "metadata": {
      "needs_background": "light"
     },
     "output_type": "display_data"
    }
   ],
   "source": [
    "#237, 244, 246, 238, 242, 245\n",
    "i = 237\n",
    "df_222 = df[df['СДО'] == i]\n",
    "df_222['Пробег груженым, м'].hist(bins = 10)\n",
    "plt.title(f\"Гистограмма для {i} машины\")"
   ]
  },
  {
   "cell_type": "code",
   "execution_count": 154,
   "metadata": {},
   "outputs": [
    {
     "data": {
      "text/plain": [
       "Text(0.5, 1.0, 'Гистограмма для 246 машины')"
      ]
     },
     "execution_count": 154,
     "metadata": {},
     "output_type": "execute_result"
    },
    {
     "data": {
      "image/png": "[encoded data removed]",
      "text/plain": [
       "<Figure size 432x288 with 1 Axes>"
      ]
     },
     "metadata": {
      "needs_background": "light"
     },
     "output_type": "display_data"
    }
   ],
   "source": [
    "i = 246\n",
    "df_222 = df[df['СДО'] == i]\n",
    "df_222['Пробег груженым, м'].hist(bins = 10)\n",
    "plt.title(f\"Гистограмма для {i} машины\")"
   ]
  },
  {
   "cell_type": "code",
   "execution_count": 155,
   "metadata": {},
   "outputs": [
    {
     "data": {
      "text/plain": [
       "Text(0.5, 1.0, 'Гистограмма для 238 машины')"
      ]
     },
     "execution_count": 155,
     "metadata": {},
     "output_type": "execute_result"
    },
    {
     "data": {
      "image/png": "[encoded data removed]",
      "text/plain": [
       "<Figure size 432x288 with 1 Axes>"
      ]
     },
     "metadata": {
      "needs_background": "light"
     },
     "output_type": "display_data"
    }
   ],
   "source": [
    "i = 238\n",
    "df_222 = df[df['СДО'] == i]\n",
    "df_222['Пробег груженым, м'].hist(bins = 10)\n",
    "plt.title(f\"Гистограмма для {i} машины\")"
   ]
  },
  {
   "cell_type": "code",
   "execution_count": 157,
   "metadata": {},
   "outputs": [
    {
     "data": {
      "text/plain": [
       "Text(0.5, 1.0, 'Гистограмма для 245 машины')"
      ]
     },
     "execution_count": 157,
     "metadata": {},
     "output_type": "execute_result"
    },
    {
     "data": {
      "image/png": "[encoded data removed]",
      "text/plain": [
       "<Figure size 432x288 with 1 Axes>"
      ]
     },
     "metadata": {
      "needs_background": "light"
     },
     "output_type": "display_data"
    }
   ],
   "source": [
    "i = 245\n",
    "df_222 = df[df['СДО'] == i]\n",
    "df_222['Пробег груженым, м'].hist(bins = 10)\n",
    "plt.title(f\"Гистограмма для {i} машины\")"
   ]
  },
  {
   "cell_type": "code",
   "execution_count": 158,
   "metadata": {},
   "outputs": [
    {
     "data": {
      "text/plain": [
       "Text(0.5, 1.0, 'Гистограмма для 242 машины')"
      ]
     },
     "execution_count": 158,
     "metadata": {},
     "output_type": "execute_result"
    },
    {
     "data": {
      "image/png": "[encoded data removed]",
      "text/plain": [
       "<Figure size 432x288 with 1 Axes>"
      ]
     },
     "metadata": {
      "needs_background": "light"
     },
     "output_type": "display_data"
    }
   ],
   "source": [
    "i = 242\n",
    "df_222 = df[df['СДО'] == i]\n",
    "df_222['Пробег груженым, м'].hist(bins = 10)\n",
    "plt.title(f\"Гистограмма для {i} машины\")"
   ]
  },
  {
   "cell_type": "code",
   "execution_count": 161,
   "metadata": {},
   "outputs": [
    {
     "name": "stdout",
     "output_type": "stream",
     "text": [
      "10 перцентиль:  3.5900000000000003\n"
     ]
    },
    {
     "data": {
      "image/png": "[encoded data removed]",
      "text/plain": [
       "<Figure size 432x288 with 1 Axes>"
      ]
     },
     "metadata": {
      "needs_background": "light"
     },
     "output_type": "display_data"
    }
   ],
   "source": [
    "#237, 244, 246, 238, 242, 245\n",
    "i = 237\n",
    "df_222 = df[df['СДО'] == i]\n",
    "level_10 = np.percentile(df_222['Пробег груженым, м'], 1)\n",
    "sns.distplot(df_222['Пробег груженым, м'])\n",
    "plt.axvline(x=level_10, color=\"r\", linestyle=\"-\")\n",
    "plt.title(f\"Гистограмма для {i} машины с 10 перцентилем (красная линия)\")\n",
    "print(\"10 перцентиль: \", level_10)"
   ]
  },
  {
   "cell_type": "code",
   "execution_count": 163,
   "metadata": {},
   "outputs": [
    {
     "name": "stdout",
     "output_type": "stream",
     "text": [
      "10 перцентиль:  3.0\n"
     ]
    },
    {
     "data": {
      "image/png": "[encoded data removed]",
      "text/plain": [
       "<Figure size 432x288 with 1 Axes>"
      ]
     },
     "metadata": {
      "needs_background": "light"
     },
     "output_type": "display_data"
    }
   ],
   "source": [
    "#237, 244, 246, 238, 242, 245\n",
    "i = 244\n",
    "df_222 = df[df['СДО'] == i]\n",
    "level_10 = np.percentile(df_222['Пробег груженым, м'], 1)\n",
    "sns.distplot(df_222['Пробег груженым, м'])\n",
    "plt.axvline(x=level_10, color=\"r\", linestyle=\"-\")\n",
    "plt.title(f\"Гистограмма для {i} машины с 10 перцентилем (красная линия)\")\n",
    "print(\"10 перцентиль: \", level_10)"
   ]
  },
  {
   "cell_type": "code",
   "execution_count": 164,
   "metadata": {},
   "outputs": [
    {
     "name": "stdout",
     "output_type": "stream",
     "text": [
      "10 перцентиль:  3.7199999999999998\n"
     ]
    },
    {
     "data": {
      "image/png": "[encoded data removed]",
      "text/plain": [
       "<Figure size 432x288 with 1 Axes>"
      ]
     },
     "metadata": {
      "needs_background": "light"
     },
     "output_type": "display_data"
    }
   ],
   "source": [
    "#237, 244, 246, 238, 242, 245\n",
    "i = 246\n",
    "df_222 = df[df['СДО'] == i]\n",
    "level_10 = np.percentile(df_222['Пробег груженым, м'], 1)\n",
    "sns.distplot(df_222['Пробег груженым, м'])\n",
    "plt.axvline(x=level_10, color=\"r\", linestyle=\"-\")\n",
    "plt.title(f\"Гистограмма для {i} машины с 10 перцентилем (красная линия)\")\n",
    "print(\"10 перцентиль: \", level_10)"
   ]
  },
  {
   "cell_type": "code",
   "execution_count": 165,
   "metadata": {},
   "outputs": [
    {
     "name": "stdout",
     "output_type": "stream",
     "text": [
      "10 перцентиль:  4.69\n"
     ]
    },
    {
     "data": {
      "image/png": "[encoded data removed]",
      "text/plain": [
       "<Figure size 432x288 with 1 Axes>"
      ]
     },
     "metadata": {
      "needs_background": "light"
     },
     "output_type": "display_data"
    }
   ],
   "source": [
    "#237, 244, 246, 238, 242, 245\n",
    "i = 238\n",
    "df_222 = df[df['СДО'] == i]\n",
    "level_10 = np.percentile(df_222['Пробег груженым, м'], 1)\n",
    "sns.distplot(df_222['Пробег груженым, м'])\n",
    "plt.axvline(x=level_10, color=\"r\", linestyle=\"-\")\n",
    "plt.title(f\"Гистограмма для {i} машины с 10 перцентилем (красная линия)\")\n",
    "print(\"10 перцентиль: \", level_10)"
   ]
  },
  {
   "cell_type": "code",
   "execution_count": 166,
   "metadata": {},
   "outputs": [
    {
     "name": "stdout",
     "output_type": "stream",
     "text": [
      "10 перцентиль:  6.0\n"
     ]
    },
    {
     "data": {
      "image/png": "[encoded data removed]",
      "text/plain": [
       "<Figure size 432x288 with 1 Axes>"
      ]
     },
     "metadata": {
      "needs_background": "light"
     },
     "output_type": "display_data"
    }
   ],
   "source": [
    "#237, 244, 246, 238, 242, 245\n",
    "i = 242\n",
    "df_222 = df[df['СДО'] == i]\n",
    "level_10 = np.percentile(df_222['Пробег груженым, м'], 1)\n",
    "sns.distplot(df_222['Пробег груженым, м'])\n",
    "plt.axvline(x=level_10, color=\"r\", linestyle=\"-\")\n",
    "plt.title(f\"Гистограмма для {i} машины с 10 перцентилем (красная линия)\")\n",
    "print(\"10 перцентиль: \", level_10)"
   ]
  },
  {
   "cell_type": "code",
   "execution_count": 167,
   "metadata": {},
   "outputs": [
    {
     "name": "stdout",
     "output_type": "stream",
     "text": [
      "10 перцентиль:  8.47\n"
     ]
    },
    {
     "data": {
      "image/png": "[encoded data removed]",
      "text/plain": [
       "<Figure size 432x288 with 1 Axes>"
      ]
     },
     "metadata": {
      "needs_background": "light"
     },
     "output_type": "display_data"
    }
   ],
   "source": [
    "#237, 244, 246, 238, 242, 245\n",
    "i = 245\n",
    "df_222 = df[df['СДО'] == i]\n",
    "level_10 = np.percentile(df_222['Пробег груженым, м'], 1)\n",
    "sns.distplot(df_222['Пробег груженым, м'])\n",
    "plt.axvline(x=level_10, color=\"r\", linestyle=\"-\")\n",
    "plt.title(f\"Гистограмма для {i} машины с 10 перцентилем (красная линия)\")\n",
    "print(\"10 перцентиль: \", level_10)"
   ]
  },
  {
   "cell_type": "markdown",
   "metadata": {},
   "source": [
    "Исследование аномалий (1 процентиль)"
   ]
  },
  {
   "cell_type": "code",
   "execution_count": 188,
   "metadata": {},
   "outputs": [
    {
     "name": "stdout",
     "output_type": "stream",
     "text": [
      "Аномалии для 237 машины\n"
     ]
    }
   ],
   "source": [
    "#237, 244, 246, 238, 242, 245\n",
    "i = 237\n",
    "print(f\"Аномалии для {i} машины\")"
   ]
  },
  {
   "cell_type": "code",
   "execution_count": 189,
   "metadata": {},
   "outputs": [
    {
     "data": {
      "text/plain": [
       "1"
      ]
     },
     "execution_count": 189,
     "metadata": {},
     "output_type": "execute_result"
    }
   ],
   "source": [
    "df_222 = df[df['СДО'] == i]\n",
    "anomaly = find_anomaly(df=df_222, column = 'Пробег груженым, м')\n",
    "len(anomaly[0])"
   ]
  },
  {
   "cell_type": "code",
   "execution_count": 190,
   "metadata": {},
   "outputs": [
    {
     "data": {
      "text/plain": [
       "0.018518518518518517"
      ]
     },
     "execution_count": 190,
     "metadata": {},
     "output_type": "execute_result"
    }
   ],
   "source": [
    "len(anomaly[0])/len(df_222)"
   ]
  },
  {
   "cell_type": "code",
   "execution_count": 191,
   "metadata": {
    "scrolled": true
   },
   "outputs": [
    {
     "data": {
      "text/html": [
       "<div>\n",
       "<style scoped>\n",
       "    .dataframe tbody tr th:only-of-type {\n",
       "        vertical-align: middle;\n",
       "    }\n",
       "\n",
       "    .dataframe tbody tr th {\n",
       "        vertical-align: top;\n",
       "    }\n",
       "\n",
       "    .dataframe thead th {\n",
       "        text-align: right;\n",
       "    }\n",
       "</style>\n",
       "<table border=\"1\" class=\"dataframe\">\n",
       "  <thead>\n",
       "    <tr style=\"text-align: right;\">\n",
       "      <th></th>\n",
       "      <th>СДО</th>\n",
       "      <th>Пробег груженым, м</th>\n",
       "    </tr>\n",
       "  </thead>\n",
       "  <tbody>\n",
       "    <tr>\n",
       "      <th>143</th>\n",
       "      <td>237</td>\n",
       "      <td>2.0</td>\n",
       "    </tr>\n",
       "  </tbody>\n",
       "</table>\n",
       "</div>"
      ],
      "text/plain": [
       "     СДО  Пробег груженым, м\n",
       "143  237                 2.0"
      ]
     },
     "execution_count": 191,
     "metadata": {},
     "output_type": "execute_result"
    }
   ],
   "source": [
    "anomaly[0][['СДО','Пробег груженым, м']]"
   ]
  },
  {
   "cell_type": "code",
   "execution_count": null,
   "metadata": {},
   "outputs": [],
   "source": []
  },
  {
   "cell_type": "code",
   "execution_count": 184,
   "metadata": {},
   "outputs": [
    {
     "name": "stdout",
     "output_type": "stream",
     "text": [
      "Аномалии для 244 машины\n"
     ]
    }
   ],
   "source": [
    "#237, 244, 246, 238, 242, 245\n",
    "i = 244\n",
    "print(f\"Аномалии для {i} машины\")"
   ]
  },
  {
   "cell_type": "code",
   "execution_count": 185,
   "metadata": {},
   "outputs": [
    {
     "data": {
      "text/plain": [
       "2"
      ]
     },
     "execution_count": 185,
     "metadata": {},
     "output_type": "execute_result"
    }
   ],
   "source": [
    "df_222 = df[df['СДО'] == i]\n",
    "anomaly = find_anomaly(df=df_222, column = 'Пробег груженым, м')\n",
    "len(anomaly[0])"
   ]
  },
  {
   "cell_type": "code",
   "execution_count": 186,
   "metadata": {},
   "outputs": [
    {
     "data": {
      "text/plain": [
       "0.02"
      ]
     },
     "execution_count": 186,
     "metadata": {},
     "output_type": "execute_result"
    }
   ],
   "source": [
    "len(anomaly[0])/len(df_222)"
   ]
  },
  {
   "cell_type": "code",
   "execution_count": 187,
   "metadata": {
    "scrolled": true
   },
   "outputs": [
    {
     "data": {
      "text/html": [
       "<div>\n",
       "<style scoped>\n",
       "    .dataframe tbody tr th:only-of-type {\n",
       "        vertical-align: middle;\n",
       "    }\n",
       "\n",
       "    .dataframe tbody tr th {\n",
       "        vertical-align: top;\n",
       "    }\n",
       "\n",
       "    .dataframe thead th {\n",
       "        text-align: right;\n",
       "    }\n",
       "</style>\n",
       "<table border=\"1\" class=\"dataframe\">\n",
       "  <thead>\n",
       "    <tr style=\"text-align: right;\">\n",
       "      <th></th>\n",
       "      <th>СДО</th>\n",
       "      <th>Пробег груженым, м</th>\n",
       "    </tr>\n",
       "  </thead>\n",
       "  <tbody>\n",
       "    <tr>\n",
       "      <th>457</th>\n",
       "      <td>244</td>\n",
       "      <td>3.0</td>\n",
       "    </tr>\n",
       "    <tr>\n",
       "      <th>838</th>\n",
       "      <td>244</td>\n",
       "      <td>3.0</td>\n",
       "    </tr>\n",
       "  </tbody>\n",
       "</table>\n",
       "</div>"
      ],
      "text/plain": [
       "     СДО  Пробег груженым, м\n",
       "457  244                 3.0\n",
       "838  244                 3.0"
      ]
     },
     "execution_count": 187,
     "metadata": {},
     "output_type": "execute_result"
    }
   ],
   "source": [
    "anomaly[0][['СДО','Пробег груженым, м']]"
   ]
  },
  {
   "cell_type": "code",
   "execution_count": null,
   "metadata": {},
   "outputs": [],
   "source": []
  },
  {
   "cell_type": "code",
   "execution_count": 192,
   "metadata": {},
   "outputs": [
    {
     "name": "stdout",
     "output_type": "stream",
     "text": [
      "Аномалии для 246 машины\n"
     ]
    }
   ],
   "source": [
    "#237, 244, 246, 238, 242, 245\n",
    "i = 246\n",
    "print(f\"Аномалии для {i} машины\")"
   ]
  },
  {
   "cell_type": "code",
   "execution_count": 193,
   "metadata": {},
   "outputs": [
    {
     "data": {
      "text/plain": [
       "1"
      ]
     },
     "execution_count": 193,
     "metadata": {},
     "output_type": "execute_result"
    }
   ],
   "source": [
    "df_222 = df[df['СДО'] == i]\n",
    "anomaly = find_anomaly(df=df_222, column = 'Пробег груженым, м')\n",
    "len(anomaly[0])"
   ]
  },
  {
   "cell_type": "code",
   "execution_count": 194,
   "metadata": {},
   "outputs": [
    {
     "data": {
      "text/plain": [
       "0.02702702702702703"
      ]
     },
     "execution_count": 194,
     "metadata": {},
     "output_type": "execute_result"
    }
   ],
   "source": [
    "len(anomaly[0])/len(df_222)"
   ]
  },
  {
   "cell_type": "code",
   "execution_count": 195,
   "metadata": {
    "scrolled": true
   },
   "outputs": [
    {
     "data": {
      "text/html": [
       "<div>\n",
       "<style scoped>\n",
       "    .dataframe tbody tr th:only-of-type {\n",
       "        vertical-align: middle;\n",
       "    }\n",
       "\n",
       "    .dataframe tbody tr th {\n",
       "        vertical-align: top;\n",
       "    }\n",
       "\n",
       "    .dataframe thead th {\n",
       "        text-align: right;\n",
       "    }\n",
       "</style>\n",
       "<table border=\"1\" class=\"dataframe\">\n",
       "  <thead>\n",
       "    <tr style=\"text-align: right;\">\n",
       "      <th></th>\n",
       "      <th>СДО</th>\n",
       "      <th>Пробег груженым, м</th>\n",
       "    </tr>\n",
       "  </thead>\n",
       "  <tbody>\n",
       "    <tr>\n",
       "      <th>138</th>\n",
       "      <td>246</td>\n",
       "      <td>3.0</td>\n",
       "    </tr>\n",
       "  </tbody>\n",
       "</table>\n",
       "</div>"
      ],
      "text/plain": [
       "     СДО  Пробег груженым, м\n",
       "138  246                 3.0"
      ]
     },
     "execution_count": 195,
     "metadata": {},
     "output_type": "execute_result"
    }
   ],
   "source": [
    "anomaly[0][['СДО','Пробег груженым, м']]"
   ]
  },
  {
   "cell_type": "code",
   "execution_count": null,
   "metadata": {},
   "outputs": [],
   "source": []
  },
  {
   "cell_type": "code",
   "execution_count": 196,
   "metadata": {},
   "outputs": [
    {
     "name": "stdout",
     "output_type": "stream",
     "text": [
      "Аномалии для 238 машины\n"
     ]
    }
   ],
   "source": [
    "#237, 244, 246, 238, 242, 245\n",
    "i = 238\n",
    "print(f\"Аномалии для {i} машины\")"
   ]
  },
  {
   "cell_type": "code",
   "execution_count": 197,
   "metadata": {},
   "outputs": [
    {
     "data": {
      "text/plain": [
       "1"
      ]
     },
     "execution_count": 197,
     "metadata": {},
     "output_type": "execute_result"
    }
   ],
   "source": [
    "df_222 = df[df['СДО'] == i]\n",
    "anomaly = find_anomaly(df=df_222, column = 'Пробег груженым, м')\n",
    "len(anomaly[0])"
   ]
  },
  {
   "cell_type": "code",
   "execution_count": 198,
   "metadata": {},
   "outputs": [
    {
     "data": {
      "text/plain": [
       "0.041666666666666664"
      ]
     },
     "execution_count": 198,
     "metadata": {},
     "output_type": "execute_result"
    }
   ],
   "source": [
    "len(anomaly[0])/len(df_222)"
   ]
  },
  {
   "cell_type": "code",
   "execution_count": 199,
   "metadata": {
    "scrolled": true
   },
   "outputs": [
    {
     "data": {
      "text/html": [
       "<div>\n",
       "<style scoped>\n",
       "    .dataframe tbody tr th:only-of-type {\n",
       "        vertical-align: middle;\n",
       "    }\n",
       "\n",
       "    .dataframe tbody tr th {\n",
       "        vertical-align: top;\n",
       "    }\n",
       "\n",
       "    .dataframe thead th {\n",
       "        text-align: right;\n",
       "    }\n",
       "</style>\n",
       "<table border=\"1\" class=\"dataframe\">\n",
       "  <thead>\n",
       "    <tr style=\"text-align: right;\">\n",
       "      <th></th>\n",
       "      <th>СДО</th>\n",
       "      <th>Пробег груженым, м</th>\n",
       "    </tr>\n",
       "  </thead>\n",
       "  <tbody>\n",
       "    <tr>\n",
       "      <th>1004</th>\n",
       "      <td>238</td>\n",
       "      <td>4.0</td>\n",
       "    </tr>\n",
       "  </tbody>\n",
       "</table>\n",
       "</div>"
      ],
      "text/plain": [
       "      СДО  Пробег груженым, м\n",
       "1004  238                 4.0"
      ]
     },
     "execution_count": 199,
     "metadata": {},
     "output_type": "execute_result"
    }
   ],
   "source": [
    "anomaly[0][['СДО','Пробег груженым, м']]"
   ]
  },
  {
   "cell_type": "code",
   "execution_count": null,
   "metadata": {},
   "outputs": [],
   "source": []
  },
  {
   "cell_type": "code",
   "execution_count": 200,
   "metadata": {},
   "outputs": [
    {
     "name": "stdout",
     "output_type": "stream",
     "text": [
      "Аномалии для 242 машины\n"
     ]
    }
   ],
   "source": [
    "#237, 244, 246, 238, 242, 245\n",
    "i = 242\n",
    "print(f\"Аномалии для {i} машины\")"
   ]
  },
  {
   "cell_type": "code",
   "execution_count": 201,
   "metadata": {},
   "outputs": [
    {
     "data": {
      "text/plain": [
       "2"
      ]
     },
     "execution_count": 201,
     "metadata": {},
     "output_type": "execute_result"
    }
   ],
   "source": [
    "df_222 = df[df['СДО'] == i]\n",
    "anomaly = find_anomaly(df=df_222, column = 'Пробег груженым, м')\n",
    "len(anomaly[0])"
   ]
  },
  {
   "cell_type": "code",
   "execution_count": 202,
   "metadata": {},
   "outputs": [
    {
     "data": {
      "text/plain": [
       "0.1"
      ]
     },
     "execution_count": 202,
     "metadata": {},
     "output_type": "execute_result"
    }
   ],
   "source": [
    "len(anomaly[0])/len(df_222)"
   ]
  },
  {
   "cell_type": "code",
   "execution_count": 203,
   "metadata": {
    "scrolled": true
   },
   "outputs": [
    {
     "data": {
      "text/html": [
       "<div>\n",
       "<style scoped>\n",
       "    .dataframe tbody tr th:only-of-type {\n",
       "        vertical-align: middle;\n",
       "    }\n",
       "\n",
       "    .dataframe tbody tr th {\n",
       "        vertical-align: top;\n",
       "    }\n",
       "\n",
       "    .dataframe thead th {\n",
       "        text-align: right;\n",
       "    }\n",
       "</style>\n",
       "<table border=\"1\" class=\"dataframe\">\n",
       "  <thead>\n",
       "    <tr style=\"text-align: right;\">\n",
       "      <th></th>\n",
       "      <th>СДО</th>\n",
       "      <th>Пробег груженым, м</th>\n",
       "    </tr>\n",
       "  </thead>\n",
       "  <tbody>\n",
       "    <tr>\n",
       "      <th>757</th>\n",
       "      <td>242</td>\n",
       "      <td>6.0</td>\n",
       "    </tr>\n",
       "    <tr>\n",
       "      <th>762</th>\n",
       "      <td>242</td>\n",
       "      <td>6.0</td>\n",
       "    </tr>\n",
       "  </tbody>\n",
       "</table>\n",
       "</div>"
      ],
      "text/plain": [
       "     СДО  Пробег груженым, м\n",
       "757  242                 6.0\n",
       "762  242                 6.0"
      ]
     },
     "execution_count": 203,
     "metadata": {},
     "output_type": "execute_result"
    }
   ],
   "source": [
    "anomaly[0][['СДО','Пробег груженым, м']]"
   ]
  },
  {
   "cell_type": "code",
   "execution_count": null,
   "metadata": {},
   "outputs": [],
   "source": []
  },
  {
   "cell_type": "code",
   "execution_count": 204,
   "metadata": {},
   "outputs": [
    {
     "name": "stdout",
     "output_type": "stream",
     "text": [
      "Аномалии для 245 машины\n"
     ]
    }
   ],
   "source": [
    "#237, 244, 246, 238, 242, 245\n",
    "i = 245\n",
    "print(f\"Аномалии для {i} машины\")"
   ]
  },
  {
   "cell_type": "code",
   "execution_count": 205,
   "metadata": {},
   "outputs": [
    {
     "data": {
      "text/plain": [
       "1"
      ]
     },
     "execution_count": 205,
     "metadata": {},
     "output_type": "execute_result"
    }
   ],
   "source": [
    "df_222 = df[df['СДО'] == i]\n",
    "anomaly = find_anomaly(df=df_222, column = 'Пробег груженым, м')\n",
    "len(anomaly[0])"
   ]
  },
  {
   "cell_type": "code",
   "execution_count": 206,
   "metadata": {},
   "outputs": [
    {
     "data": {
      "text/plain": [
       "0.020833333333333332"
      ]
     },
     "execution_count": 206,
     "metadata": {},
     "output_type": "execute_result"
    }
   ],
   "source": [
    "len(anomaly[0])/len(df_222)"
   ]
  },
  {
   "cell_type": "code",
   "execution_count": 207,
   "metadata": {
    "scrolled": true
   },
   "outputs": [
    {
     "data": {
      "text/html": [
       "<div>\n",
       "<style scoped>\n",
       "    .dataframe tbody tr th:only-of-type {\n",
       "        vertical-align: middle;\n",
       "    }\n",
       "\n",
       "    .dataframe tbody tr th {\n",
       "        vertical-align: top;\n",
       "    }\n",
       "\n",
       "    .dataframe thead th {\n",
       "        text-align: right;\n",
       "    }\n",
       "</style>\n",
       "<table border=\"1\" class=\"dataframe\">\n",
       "  <thead>\n",
       "    <tr style=\"text-align: right;\">\n",
       "      <th></th>\n",
       "      <th>СДО</th>\n",
       "      <th>Пробег груженым, м</th>\n",
       "    </tr>\n",
       "  </thead>\n",
       "  <tbody>\n",
       "    <tr>\n",
       "      <th>1015</th>\n",
       "      <td>245</td>\n",
       "      <td>8.0</td>\n",
       "    </tr>\n",
       "  </tbody>\n",
       "</table>\n",
       "</div>"
      ],
      "text/plain": [
       "      СДО  Пробег груженым, м\n",
       "1015  245                 8.0"
      ]
     },
     "execution_count": 207,
     "metadata": {},
     "output_type": "execute_result"
    }
   ],
   "source": [
    "anomaly[0][['СДО','Пробег груженым, м']]"
   ]
  },
  {
   "cell_type": "code",
   "execution_count": 208,
   "metadata": {},
   "outputs": [
    {
     "data": {
      "text/plain": [
       "Index(['№', 'PK', 'СДО', 'Дата начала рейса', 'Место начала цикла',\n",
       "       'Время начала движения порожним',\n",
       "       'Продолжительность движения порожним, мин', 'Место погрузки',\n",
       "       'Время начала погрузки', 'Продолжительность погрузки, мин',\n",
       "       'Время окончания погрузки', 'Время движения груженым, мин',\n",
       "       'Пункт разгрузки', 'Время начала разгрузки',\n",
       "       'Продолжительность разгрузки, мин', 'Время окончания разгрузки',\n",
       "       'Длительность цикла, мин', 'Метка начала', 'Метка окончания',\n",
       "       'Вид груза', 'Вид работ', 'Название смены', 'Пробег порожним, м',\n",
       "       'Пробег груженым, м', 'Скорость порожним техн., км/ч',\n",
       "       'Скорость груженым техн. , км/ч', 'Скорость движения цикла техн., км/ч',\n",
       "       'Скорость движения цикла экспл., км/ч',\n",
       "       'Непроизводительных простоев, мин', 'Вес, т',\n",
       "       'Вес по датчику давления, т', 'Unnamed: 31', 'Метка перед погрузкой',\n",
       "       'Метка перед разгрузкой', 'Парная работа', 'Повторная транспортировка',\n",
       "       'Связанный рейс ПДМ/ШАС'],\n",
       "      dtype='object')"
      ]
     },
     "execution_count": 208,
     "metadata": {},
     "output_type": "execute_result"
    }
   ],
   "source": [
    "df.columns"
   ]
  },
  {
   "cell_type": "code",
   "execution_count": 233,
   "metadata": {},
   "outputs": [
    {
     "data": {
      "text/plain": [
       "35"
      ]
     },
     "execution_count": 233,
     "metadata": {},
     "output_type": "execute_result"
    }
   ],
   "source": [
    "#поиск пропущенных значений \n",
    "df2 = df[df['Пробег порожним, м'].isna()]\n",
    "len(df2['Пробег порожним, м'])"
   ]
  },
  {
   "cell_type": "markdown",
   "metadata": {},
   "source": [
    "Исследование пропусков пробега порожним"
   ]
  },
  {
   "cell_type": "code",
   "execution_count": 234,
   "metadata": {},
   "outputs": [
    {
     "data": {
      "text/plain": [
       "<matplotlib.axes._subplots.AxesSubplot at 0x77971d06d8>"
      ]
     },
     "execution_count": 234,
     "metadata": {},
     "output_type": "execute_result"
    },
    {
     "data": {
      "image/png": "[encoded data removed]",
      "text/plain": [
       "<Figure size 1800x720 with 2 Axes>"
      ]
     },
     "metadata": {
      "needs_background": "light"
     },
     "output_type": "display_data"
    }
   ],
   "source": [
    "msno.matrix(df[['Пробег порожним, м']])"
   ]
  },
  {
   "cell_type": "code",
   "execution_count": 236,
   "metadata": {},
   "outputs": [],
   "source": [
    "train = df[~df['Пробег порожним, м'].isna()]"
   ]
  },
  {
   "cell_type": "code",
   "execution_count": 238,
   "metadata": {},
   "outputs": [
    {
     "name": "stderr",
     "output_type": "stream",
     "text": [
      "C:\\ProgramData\\Anaconda3\\lib\\site-packages\\ipykernel_launcher.py:1: SettingWithCopyWarning: \n",
      "A value is trying to be set on a copy of a slice from a DataFrame.\n",
      "Try using .loc[row_indexer,col_indexer] = value instead\n",
      "\n",
      "See the caveats in the documentation: https://pandas.pydata.org/pandas-docs/stable/user_guide/indexing.html#returning-a-view-versus-a-copy\n",
      "  \"\"\"Entry point for launching an IPython kernel.\n"
     ]
    }
   ],
   "source": [
    "train['float_dist'] = train['Пробег порожним, м'].apply(lambda x: float(x))"
   ]
  },
  {
   "cell_type": "code",
   "execution_count": null,
   "metadata": {},
   "outputs": [],
   "source": []
  },
  {
   "cell_type": "markdown",
   "metadata": {},
   "source": [
    "Исследование выбросов пробега груженым"
   ]
  },
  {
   "cell_type": "code",
   "execution_count": 239,
   "metadata": {},
   "outputs": [],
   "source": [
    "data_grouped = train.groupby('СДО')\n",
    "aggs = {'float_dist': ['min', 'max', 'mean', 'median', 'std']}\n",
    "stats = data_grouped.agg(aggs)\n",
    "stats.columns = ['минимальный пробег', 'максимальный пробег', 'средний пробег', 'медиана', 'среднеквадратичное отклонение']\n"
   ]
  },
  {
   "cell_type": "code",
   "execution_count": 240,
   "metadata": {},
   "outputs": [
    {
     "data": {
      "text/html": [
       "<div>\n",
       "<style scoped>\n",
       "    .dataframe tbody tr th:only-of-type {\n",
       "        vertical-align: middle;\n",
       "    }\n",
       "\n",
       "    .dataframe tbody tr th {\n",
       "        vertical-align: top;\n",
       "    }\n",
       "\n",
       "    .dataframe thead th {\n",
       "        text-align: right;\n",
       "    }\n",
       "</style>\n",
       "<table border=\"1\" class=\"dataframe\">\n",
       "  <thead>\n",
       "    <tr style=\"text-align: right;\">\n",
       "      <th></th>\n",
       "      <th>минимальный пробег</th>\n",
       "      <th>максимальный пробег</th>\n",
       "      <th>средний пробег</th>\n",
       "      <th>медиана</th>\n",
       "      <th>среднеквадратичное отклонение</th>\n",
       "    </tr>\n",
       "    <tr>\n",
       "      <th>СДО</th>\n",
       "      <th></th>\n",
       "      <th></th>\n",
       "      <th></th>\n",
       "      <th></th>\n",
       "      <th></th>\n",
       "    </tr>\n",
       "  </thead>\n",
       "  <tbody>\n",
       "    <tr>\n",
       "      <th>238</th>\n",
       "      <td>1.0</td>\n",
       "      <td>263.0</td>\n",
       "      <td>26.200000</td>\n",
       "      <td>13.5</td>\n",
       "      <td>56.540251</td>\n",
       "    </tr>\n",
       "    <tr>\n",
       "      <th>240</th>\n",
       "      <td>1.0</td>\n",
       "      <td>110.0</td>\n",
       "      <td>27.760000</td>\n",
       "      <td>10.0</td>\n",
       "      <td>36.933815</td>\n",
       "    </tr>\n",
       "    <tr>\n",
       "      <th>244</th>\n",
       "      <td>1.0</td>\n",
       "      <td>492.0</td>\n",
       "      <td>28.131868</td>\n",
       "      <td>20.0</td>\n",
       "      <td>51.025965</td>\n",
       "    </tr>\n",
       "    <tr>\n",
       "      <th>239</th>\n",
       "      <td>1.0</td>\n",
       "      <td>398.0</td>\n",
       "      <td>52.086957</td>\n",
       "      <td>6.0</td>\n",
       "      <td>110.561342</td>\n",
       "    </tr>\n",
       "    <tr>\n",
       "      <th>245</th>\n",
       "      <td>1.0</td>\n",
       "      <td>449.0</td>\n",
       "      <td>73.361702</td>\n",
       "      <td>26.0</td>\n",
       "      <td>103.368153</td>\n",
       "    </tr>\n",
       "    <tr>\n",
       "      <th>246</th>\n",
       "      <td>1.0</td>\n",
       "      <td>998.0</td>\n",
       "      <td>165.096774</td>\n",
       "      <td>69.0</td>\n",
       "      <td>208.086898</td>\n",
       "    </tr>\n",
       "    <tr>\n",
       "      <th>242</th>\n",
       "      <td>1.0</td>\n",
       "      <td>693.0</td>\n",
       "      <td>330.315789</td>\n",
       "      <td>357.0</td>\n",
       "      <td>215.094050</td>\n",
       "    </tr>\n",
       "    <tr>\n",
       "      <th>233</th>\n",
       "      <td>2.0</td>\n",
       "      <td>367.0</td>\n",
       "      <td>32.954545</td>\n",
       "      <td>27.0</td>\n",
       "      <td>55.660915</td>\n",
       "    </tr>\n",
       "    <tr>\n",
       "      <th>231</th>\n",
       "      <td>2.0</td>\n",
       "      <td>445.0</td>\n",
       "      <td>54.637681</td>\n",
       "      <td>31.0</td>\n",
       "      <td>74.658629</td>\n",
       "    </tr>\n",
       "    <tr>\n",
       "      <th>222</th>\n",
       "      <td>2.0</td>\n",
       "      <td>303.0</td>\n",
       "      <td>80.333333</td>\n",
       "      <td>22.0</td>\n",
       "      <td>113.442035</td>\n",
       "    </tr>\n",
       "    <tr>\n",
       "      <th>237</th>\n",
       "      <td>2.0</td>\n",
       "      <td>460.0</td>\n",
       "      <td>127.150943</td>\n",
       "      <td>117.0</td>\n",
       "      <td>107.714258</td>\n",
       "    </tr>\n",
       "    <tr>\n",
       "      <th>230</th>\n",
       "      <td>3.0</td>\n",
       "      <td>791.0</td>\n",
       "      <td>399.111111</td>\n",
       "      <td>453.0</td>\n",
       "      <td>267.354554</td>\n",
       "    </tr>\n",
       "    <tr>\n",
       "      <th>241</th>\n",
       "      <td>5.0</td>\n",
       "      <td>439.0</td>\n",
       "      <td>57.583333</td>\n",
       "      <td>43.5</td>\n",
       "      <td>86.242286</td>\n",
       "    </tr>\n",
       "  </tbody>\n",
       "</table>\n",
       "</div>"
      ],
      "text/plain": [
       "     минимальный пробег  максимальный пробег  средний пробег  медиана  \\\n",
       "СДО                                                                     \n",
       "238                 1.0                263.0       26.200000     13.5   \n",
       "240                 1.0                110.0       27.760000     10.0   \n",
       "244                 1.0                492.0       28.131868     20.0   \n",
       "239                 1.0                398.0       52.086957      6.0   \n",
       "245                 1.0                449.0       73.361702     26.0   \n",
       "246                 1.0                998.0      165.096774     69.0   \n",
       "242                 1.0                693.0      330.315789    357.0   \n",
       "233                 2.0                367.0       32.954545     27.0   \n",
       "231                 2.0                445.0       54.637681     31.0   \n",
       "222                 2.0                303.0       80.333333     22.0   \n",
       "237                 2.0                460.0      127.150943    117.0   \n",
       "230                 3.0                791.0      399.111111    453.0   \n",
       "241                 5.0                439.0       57.583333     43.5   \n",
       "\n",
       "     среднеквадратичное отклонение  \n",
       "СДО                                 \n",
       "238                      56.540251  \n",
       "240                      36.933815  \n",
       "244                      51.025965  \n",
       "239                     110.561342  \n",
       "245                     103.368153  \n",
       "246                     208.086898  \n",
       "242                     215.094050  \n",
       "233                      55.660915  \n",
       "231                      74.658629  \n",
       "222                     113.442035  \n",
       "237                     107.714258  \n",
       "230                     267.354554  \n",
       "241                      86.242286  "
      ]
     },
     "execution_count": 240,
     "metadata": {},
     "output_type": "execute_result"
    }
   ],
   "source": [
    "stats.sort_values(by=['минимальный пробег','средний пробег'], ascending=True)"
   ]
  },
  {
   "cell_type": "markdown",
   "metadata": {},
   "source": [
    "Вывод: аномально маленькие пробеги встречаются у всех машины."
   ]
  },
  {
   "cell_type": "markdown",
   "metadata": {},
   "source": [
    "Теперь построим диаграммы типа \"ящик с усами\"."
   ]
  },
  {
   "cell_type": "code",
   "execution_count": 242,
   "metadata": {},
   "outputs": [
    {
     "data": {
      "image/png": "[encoded data removed]",
      "text/plain": [
       "<Figure size 1440x720 with 1 Axes>"
      ]
     },
     "metadata": {
      "needs_background": "light"
     },
     "output_type": "display_data"
    }
   ],
   "source": [
    "plt.figure(figsize=(20,10))\n",
    "plt.title(\"Распределение пробегов порожним по машинам\", fontsize=18)\n",
    "#plt.xticks(np.arange(0, max(df['Вес, т']+1), 5))\n",
    "plt.tick_params(labelsize=14)\n",
    "\n",
    "sns.boxplot(y='float_dist', x=\"СДО\", data=train).set(ylabel=None, xlabel=None)\n",
    "plt.show()"
   ]
  },
  {
   "cell_type": "markdown",
   "metadata": {},
   "source": [
    "Вывод: очень маленький пробег порожним. Теперь выбросы в бОльшую сторону. "
   ]
  },
  {
   "cell_type": "markdown",
   "metadata": {},
   "source": [
    "Общий вывод: присутствуют аномалии в весах и пробегах. Возможно, измерители весов и расстояний не всегда корретно работают."
   ]
  },
  {
   "cell_type": "code",
   "execution_count": null,
   "metadata": {},
   "outputs": [],
   "source": []
  }
 ],
 "metadata": {
  "kernelspec": {
   "display_name": "Python 3",
   "language": "python",
   "name": "python3"
  },
  "language_info": {
   "codemirror_mode": {
    "name": "ipython",
    "version": 3
   },
   "file_extension": ".py",
   "mimetype": "text/x-python",
   "name": "python",
   "nbconvert_exporter": "python",
   "pygments_lexer": "ipython3",
   "version": "3.7.1"
  }
 },
 "nbformat": 4,
 "nbformat_minor": 2
}
