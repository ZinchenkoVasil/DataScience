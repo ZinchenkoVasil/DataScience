{
 "cells": [
  {
   "cell_type": "markdown",
   "metadata": {},
   "source": [
    "## <center>Курсовой проект<a class=\"anchor\" id=\"course_project\"></a><center>"
   ]
  },
  {
   "cell_type": "markdown",
   "metadata": {},
   "source": [
    "### Примерное описание этапов выполнения курсового проекта<a class=\"anchor\" id=\"course_project_steps\"></a>"
   ]
  },
  {
   "cell_type": "markdown",
   "metadata": {},
   "source": [
    "**Построение модели классификации**\n",
    "1. Обзор обучающего датасета\n",
    "2. Обработка выбросов\n",
    "3. Обработка пропусков\n",
    "4. Анализ данных\n",
    "5. Отбор признаков\n",
    "6. Балансировка классов\n",
    "7. Подбор моделей, получение бейзлана\n",
    "8. Выбор наилучшей модели, настройка гиперпараметров\n",
    "9. Проверка качества, борьба с переобучением\n",
    "10. Интерпретация результатов\n",
    "\n",
    "**Прогнозирование на тестовом датасете**\n",
    "1. Выполнить для тестового датасета те же этапы обработки и постронияния признаков\n",
    "2. Спрогнозировать целевую переменную, используя модель, построенную на обучающем датасете"
   ]
  },
  {
   "cell_type": "markdown",
   "metadata": {},
   "source": [
    "**Пути к директориям и файлам**"
   ]
  },
  {
   "cell_type": "code",
   "execution_count": 2,
   "metadata": {},
   "outputs": [],
   "source": [
    "import numpy as np\n",
    "import pandas as pd\n",
    "%matplotlib inline\n",
    "import seaborn as sns\n",
    "import pickle\n",
    "import random\n",
    "from scipy.stats import shapiro\n",
    "from scipy.stats import probplot\n",
    "from scipy.stats import ttest_ind, mannwhitneyu\n",
    "from scipy.stats import chi2_contingency\n",
    "from statsmodels.stats.weightstats import zconfint\n",
    "from matplotlib import pyplot as plt\n",
    "from sklearn.preprocessing import StandardScaler, MinMaxScaler\n",
    "from sklearn.model_selection import train_test_split, ShuffleSplit, cross_val_score, learning_curve\n",
    "from sklearn.model_selection import KFold, GridSearchCV, RandomizedSearchCV\n",
    "from sklearn.metrics import classification_report, f1_score, precision_score, recall_score\n",
    "from sklearn.linear_model import LogisticRegression\n",
    "from sklearn.neighbors import KNeighborsClassifier\n",
    "#import xgboost as xgb, lightgbm as lgbm, catboost as catb"
   ]
  },
  {
   "cell_type": "code",
   "execution_count": 3,
   "metadata": {},
   "outputs": [],
   "source": [
    "TRAIN_DATASET_PATH = 'C:\\data_train.csv'\n",
    "TEST_DATASET_PATH = 'C:\\data_test.csv'\n",
    "OUT_DATASET_PATH = r'C:\\answers_test.csv'"
   ]
  },
  {
   "cell_type": "code",
   "execution_count": 4,
   "metadata": {},
   "outputs": [],
   "source": [
    "def get_classification_report(y_train_true, y_train_pred, y_test_true, y_test_pred):\n",
    "    print('TRAIN\\n\\n' + classification_report(y_train_true, y_train_pred))\n",
    "    print('TEST\\n\\n' + classification_report(y_test_true, y_test_pred))\n",
    "    print('CONFUSION MATRIX\\n')\n",
    "    print(pd.crosstab(y_test_true, y_test_pred))"
   ]
  },
  {
   "cell_type": "code",
   "execution_count": 5,
   "metadata": {},
   "outputs": [],
   "source": [
    "def balance_df_by_target(df, target_name):\n",
    "\n",
    "    target_counts = df[target_name].value_counts()\n",
    "\n",
    "    major_class_name = target_counts.argmax()\n",
    "    minor_class_name = target_counts.argmin()\n",
    "\n",
    "    disbalance_coeff = int(target_counts[major_class_name] / target_counts[minor_class_name]) - 1\n",
    "\n",
    "    for i in range(disbalance_coeff):\n",
    "        sample = df[df[target_name] == minor_class_name].sample(target_counts[minor_class_name])\n",
    "        df = df.append(sample, ignore_index=True)\n",
    "\n",
    "    return df.sample(frac=1) "
   ]
  },
  {
   "cell_type": "markdown",
   "metadata": {},
   "source": [
    "**Загрузка данных**"
   ]
  },
  {
   "cell_type": "code",
   "execution_count": 6,
   "metadata": {},
   "outputs": [
    {
     "data": {
      "text/html": [
       "<div>\n",
       "<style scoped>\n",
       "    .dataframe tbody tr th:only-of-type {\n",
       "        vertical-align: middle;\n",
       "    }\n",
       "\n",
       "    .dataframe tbody tr th {\n",
       "        vertical-align: top;\n",
       "    }\n",
       "\n",
       "    .dataframe thead th {\n",
       "        text-align: right;\n",
       "    }\n",
       "</style>\n",
       "<table border=\"1\" class=\"dataframe\">\n",
       "  <thead>\n",
       "    <tr style=\"text-align: right;\">\n",
       "      <th></th>\n",
       "      <th>Unnamed: 0</th>\n",
       "      <th>id</th>\n",
       "      <th>vas_id</th>\n",
       "      <th>buy_time</th>\n",
       "      <th>target</th>\n",
       "    </tr>\n",
       "  </thead>\n",
       "  <tbody>\n",
       "    <tr>\n",
       "      <th>0</th>\n",
       "      <td>0</td>\n",
       "      <td>540968</td>\n",
       "      <td>8.0</td>\n",
       "      <td>1537131600</td>\n",
       "      <td>0.0</td>\n",
       "    </tr>\n",
       "    <tr>\n",
       "      <th>1</th>\n",
       "      <td>1</td>\n",
       "      <td>1454121</td>\n",
       "      <td>4.0</td>\n",
       "      <td>1531688400</td>\n",
       "      <td>0.0</td>\n",
       "    </tr>\n",
       "    <tr>\n",
       "      <th>2</th>\n",
       "      <td>2</td>\n",
       "      <td>2458816</td>\n",
       "      <td>1.0</td>\n",
       "      <td>1534107600</td>\n",
       "      <td>0.0</td>\n",
       "    </tr>\n",
       "    <tr>\n",
       "      <th>3</th>\n",
       "      <td>3</td>\n",
       "      <td>3535012</td>\n",
       "      <td>5.0</td>\n",
       "      <td>1535922000</td>\n",
       "      <td>0.0</td>\n",
       "    </tr>\n",
       "    <tr>\n",
       "      <th>4</th>\n",
       "      <td>4</td>\n",
       "      <td>1693214</td>\n",
       "      <td>1.0</td>\n",
       "      <td>1535922000</td>\n",
       "      <td>0.0</td>\n",
       "    </tr>\n",
       "  </tbody>\n",
       "</table>\n",
       "</div>"
      ],
      "text/plain": [
       "   Unnamed: 0       id  vas_id    buy_time  target\n",
       "0           0   540968     8.0  1537131600     0.0\n",
       "1           1  1454121     4.0  1531688400     0.0\n",
       "2           2  2458816     1.0  1534107600     0.0\n",
       "3           3  3535012     5.0  1535922000     0.0\n",
       "4           4  1693214     1.0  1535922000     0.0"
      ]
     },
     "execution_count": 6,
     "metadata": {},
     "output_type": "execute_result"
    }
   ],
   "source": [
    "df_train = pd.read_csv(TRAIN_DATASET_PATH)\n",
    "df_train.head()"
   ]
  },
  {
   "cell_type": "code",
   "execution_count": 7,
   "metadata": {},
   "outputs": [
    {
     "data": {
      "text/plain": [
       "(831653, 5)"
      ]
     },
     "execution_count": 7,
     "metadata": {},
     "output_type": "execute_result"
    }
   ],
   "source": [
    "df_train.shape"
   ]
  },
  {
   "cell_type": "code",
   "execution_count": 8,
   "metadata": {},
   "outputs": [
    {
     "data": {
      "text/plain": [
       "Unnamed: 0    0.000000e+00\n",
       "id            5.409680e+05\n",
       "vas_id        8.000000e+00\n",
       "buy_time      1.537132e+09\n",
       "target        0.000000e+00\n",
       "Name: 0, dtype: float64"
      ]
     },
     "execution_count": 8,
     "metadata": {},
     "output_type": "execute_result"
    }
   ],
   "source": [
    "df_train.iloc[0]"
   ]
  },
  {
   "cell_type": "markdown",
   "metadata": {},
   "source": [
    "Обзор данных"
   ]
  },
  {
   "cell_type": "markdown",
   "metadata": {},
   "source": [
    "Обзор целевой переменной"
   ]
  },
  {
   "cell_type": "code",
   "execution_count": 9,
   "metadata": {},
   "outputs": [
    {
     "data": {
      "text/plain": [
       "0.0    771467\n",
       "1.0     60186\n",
       "Name: target, dtype: int64"
      ]
     },
     "execution_count": 9,
     "metadata": {},
     "output_type": "execute_result"
    }
   ],
   "source": [
    "df_train['target'].value_counts()"
   ]
  },
  {
   "cell_type": "markdown",
   "metadata": {},
   "source": [
    "Обзор тестового набора"
   ]
  },
  {
   "cell_type": "code",
   "execution_count": 10,
   "metadata": {},
   "outputs": [
    {
     "data": {
      "text/plain": [
       "(71231, 4)"
      ]
     },
     "execution_count": 10,
     "metadata": {},
     "output_type": "execute_result"
    }
   ],
   "source": [
    "df_test = pd.read_csv(TEST_DATASET_PATH)\n",
    "df_test.shape"
   ]
  },
  {
   "cell_type": "code",
   "execution_count": 11,
   "metadata": {},
   "outputs": [
    {
     "data": {
      "text/plain": [
       "(4228, 8)"
      ]
     },
     "execution_count": 11,
     "metadata": {},
     "output_type": "execute_result"
    }
   ],
   "source": [
    "df = df_train.merge(df_test, left_on='id', right_on='id')\n",
    "df.shape"
   ]
  },
  {
   "cell_type": "markdown",
   "metadata": {},
   "source": [
    "Видно, что пересечение только в 4000 строк. Значит 4228 из 71231 пользователей совпадают в тренировочном и тестовом наборах, а остальные - новые. Значит id можно выбросить из модели."
   ]
  },
  {
   "cell_type": "code",
   "execution_count": 12,
   "metadata": {},
   "outputs": [
    {
     "data": {
      "text/html": [
       "<div>\n",
       "<style scoped>\n",
       "    .dataframe tbody tr th:only-of-type {\n",
       "        vertical-align: middle;\n",
       "    }\n",
       "\n",
       "    .dataframe tbody tr th {\n",
       "        vertical-align: top;\n",
       "    }\n",
       "\n",
       "    .dataframe thead th {\n",
       "        text-align: right;\n",
       "    }\n",
       "</style>\n",
       "<table border=\"1\" class=\"dataframe\">\n",
       "  <thead>\n",
       "    <tr style=\"text-align: right;\">\n",
       "      <th></th>\n",
       "      <th>Unnamed: 0</th>\n",
       "      <th>id</th>\n",
       "      <th>vas_id</th>\n",
       "      <th>buy_time</th>\n",
       "      <th>target</th>\n",
       "    </tr>\n",
       "  </thead>\n",
       "  <tbody>\n",
       "    <tr>\n",
       "      <th>count</th>\n",
       "      <td>831653.000000</td>\n",
       "      <td>8.316530e+05</td>\n",
       "      <td>831653.000000</td>\n",
       "      <td>8.316530e+05</td>\n",
       "      <td>831653.000000</td>\n",
       "    </tr>\n",
       "    <tr>\n",
       "      <th>mean</th>\n",
       "      <td>415826.000000</td>\n",
       "      <td>2.158304e+06</td>\n",
       "      <td>2.686185</td>\n",
       "      <td>1.538937e+09</td>\n",
       "      <td>0.072369</td>\n",
       "    </tr>\n",
       "    <tr>\n",
       "      <th>std</th>\n",
       "      <td>240077.686048</td>\n",
       "      <td>1.257907e+06</td>\n",
       "      <td>1.952034</td>\n",
       "      <td>5.019053e+06</td>\n",
       "      <td>0.259098</td>\n",
       "    </tr>\n",
       "    <tr>\n",
       "      <th>min</th>\n",
       "      <td>0.000000</td>\n",
       "      <td>2.000000e+00</td>\n",
       "      <td>1.000000</td>\n",
       "      <td>1.531084e+09</td>\n",
       "      <td>0.000000</td>\n",
       "    </tr>\n",
       "    <tr>\n",
       "      <th>25%</th>\n",
       "      <td>207913.000000</td>\n",
       "      <td>1.067319e+06</td>\n",
       "      <td>1.000000</td>\n",
       "      <td>1.534108e+09</td>\n",
       "      <td>0.000000</td>\n",
       "    </tr>\n",
       "    <tr>\n",
       "      <th>50%</th>\n",
       "      <td>415826.000000</td>\n",
       "      <td>2.144574e+06</td>\n",
       "      <td>2.000000</td>\n",
       "      <td>1.538341e+09</td>\n",
       "      <td>0.000000</td>\n",
       "    </tr>\n",
       "    <tr>\n",
       "      <th>75%</th>\n",
       "      <td>623739.000000</td>\n",
       "      <td>3.244254e+06</td>\n",
       "      <td>4.000000</td>\n",
       "      <td>1.544389e+09</td>\n",
       "      <td>0.000000</td>\n",
       "    </tr>\n",
       "    <tr>\n",
       "      <th>max</th>\n",
       "      <td>831652.000000</td>\n",
       "      <td>4.362694e+06</td>\n",
       "      <td>9.000000</td>\n",
       "      <td>1.546204e+09</td>\n",
       "      <td>1.000000</td>\n",
       "    </tr>\n",
       "  </tbody>\n",
       "</table>\n",
       "</div>"
      ],
      "text/plain": [
       "          Unnamed: 0            id         vas_id      buy_time         target\n",
       "count  831653.000000  8.316530e+05  831653.000000  8.316530e+05  831653.000000\n",
       "mean   415826.000000  2.158304e+06       2.686185  1.538937e+09       0.072369\n",
       "std    240077.686048  1.257907e+06       1.952034  5.019053e+06       0.259098\n",
       "min         0.000000  2.000000e+00       1.000000  1.531084e+09       0.000000\n",
       "25%    207913.000000  1.067319e+06       1.000000  1.534108e+09       0.000000\n",
       "50%    415826.000000  2.144574e+06       2.000000  1.538341e+09       0.000000\n",
       "75%    623739.000000  3.244254e+06       4.000000  1.544389e+09       0.000000\n",
       "max    831652.000000  4.362694e+06       9.000000  1.546204e+09       1.000000"
      ]
     },
     "execution_count": 12,
     "metadata": {},
     "output_type": "execute_result"
    }
   ],
   "source": [
    "df_train.describe()"
   ]
  },
  {
   "cell_type": "markdown",
   "metadata": {},
   "source": [
    "Обработка данных"
   ]
  },
  {
   "cell_type": "markdown",
   "metadata": {},
   "source": [
    "vas_id - категориальная переменная и значит надо преобразовать в форму Dummies переменной"
   ]
  },
  {
   "cell_type": "code",
   "execution_count": 46,
   "metadata": {},
   "outputs": [],
   "source": [
    "df_train['VAS_ID_IS_1'] = df_train['vas_id'].map({1:'1',2:'0',3:'0',4:'0',5:'0',6:'0',7:'0',8:'0',9:'0'}).astype(int)\n",
    "df_train['VAS_ID_IS_2'] = df_train['vas_id'].map({1:'0',2:'1',3:'0',4:'0',5:'0',6:'0',7:'0',8:'0',9:'0'}).astype(int)\n",
    "df_train['VAS_ID_IS_3'] = df_train['vas_id'].map({1:'0',2:'0',3:'1',4:'0',5:'0',6:'0',7:'0',8:'0',9:'0'}).astype(int)\n",
    "df_train['VAS_ID_IS_4'] = df_train['vas_id'].map({1:'0',2:'0',3:'0',4:'1',5:'0',6:'0',7:'0',8:'0',9:'0'}).astype(int)\n",
    "df_train['VAS_ID_IS_5'] = df_train['vas_id'].map({1:'0',2:'0',3:'0',4:'0',5:'1',6:'0',7:'0',8:'0',9:'0'}).astype(int)\n",
    "df_train['VAS_ID_IS_6'] = df_train['vas_id'].map({1:'0',2:'0',3:'0',4:'0',5:'0',6:'1',7:'0',8:'0',9:'0'}).astype(int)\n",
    "df_train['VAS_ID_IS_7'] = df_train['vas_id'].map({1:'0',2:'0',3:'0',4:'0',5:'0',6:'0',7:'1',8:'0',9:'0'}).astype(int)\n",
    "df_train['VAS_ID_IS_8'] = df_train['vas_id'].map({1:'0',2:'0',3:'0',4:'0',5:'0',6:'0',7:'0',8:'1',9:'0'}).astype(int)\n",
    "df_train['VAS_ID_IS_9'] = df_train['vas_id'].map({1:'0',2:'0',3:'0',4:'0',5:'0',6:'0',7:'0',8:'0',9:'1'}).astype(int)"
   ]
  },
  {
   "cell_type": "markdown",
   "metadata": {},
   "source": [
    "Добавим новые признак \"месяц\" и посмотрим на корреляции с целевой переменной.  "
   ]
  },
  {
   "cell_type": "code",
   "execution_count": 47,
   "metadata": {},
   "outputs": [],
   "source": [
    "from datetime import datetime\n",
    "df_train['date'] = list(map(datetime.fromtimestamp,df_train['buy_time']))\n",
    "df_train['month'] = df_train['date'].apply(lambda x: x.timetuple()[1])\n",
    "df_train['days'] = df_train['date'].apply(lambda x: x.timetuple()[7])"
   ]
  },
  {
   "cell_type": "markdown",
   "metadata": {},
   "source": [
    "Обработка пропусков"
   ]
  },
  {
   "cell_type": "code",
   "execution_count": 48,
   "metadata": {
    "scrolled": true
   },
   "outputs": [
    {
     "data": {
      "text/plain": [
       "Unnamed: 0     0\n",
       "id             0\n",
       "vas_id         0\n",
       "buy_time       0\n",
       "target         0\n",
       "date           0\n",
       "month          0\n",
       "days           0\n",
       "VAS_ID_IS_1    0\n",
       "VAS_ID_IS_2    0\n",
       "VAS_ID_IS_3    0\n",
       "VAS_ID_IS_4    0\n",
       "VAS_ID_IS_5    0\n",
       "VAS_ID_IS_6    0\n",
       "VAS_ID_IS_7    0\n",
       "VAS_ID_IS_8    0\n",
       "VAS_ID_IS_9    0\n",
       "dtype: int64"
      ]
     },
     "execution_count": 48,
     "metadata": {},
     "output_type": "execute_result"
    }
   ],
   "source": [
    "len(df_train) - df_train.count()"
   ]
  },
  {
   "cell_type": "code",
   "execution_count": 49,
   "metadata": {},
   "outputs": [],
   "source": [
    "TARGET_NAME = 'target'\n",
    "df = pd.read_csv(TRAIN_DATASET_PATH)\n",
    "BASE_FEATURE_NAMES = df.columns.drop(TARGET_NAME).tolist()\n",
    "NEW_FEATURE_NAMES = df_train.columns.drop([TARGET_NAME] + BASE_FEATURE_NAMES).tolist()"
   ]
  },
  {
   "cell_type": "markdown",
   "metadata": {},
   "source": [
    "Корреляция с базовыми признаками"
   ]
  },
  {
   "cell_type": "code",
   "execution_count": 50,
   "metadata": {},
   "outputs": [
    {
     "data": {
      "image/png": "[encoded data removed]",
      "text/plain": [
       "<Figure size 720x576 with 1 Axes>"
      ]
     },
     "metadata": {
      "needs_background": "light"
     },
     "output_type": "display_data"
    }
   ],
   "source": [
    "corr_with_target = df[BASE_FEATURE_NAMES + [TARGET_NAME]].corr().iloc[:-1, -1].sort_values(ascending=False)\n",
    "\n",
    "plt.figure(figsize=(10, 8))\n",
    "\n",
    "sns.barplot(x=corr_with_target.values, y=corr_with_target.index)\n",
    "\n",
    "plt.title('Correlation with target variable')\n",
    "plt.show()"
   ]
  },
  {
   "cell_type": "code",
   "execution_count": 51,
   "metadata": {},
   "outputs": [
    {
     "data": {
      "image/png": "[encoded data removed]",
      "text/plain": [
       "<Figure size 720x576 with 1 Axes>"
      ]
     },
     "metadata": {
      "needs_background": "light"
     },
     "output_type": "display_data"
    }
   ],
   "source": [
    "corr_with_target = df_train[NEW_FEATURE_NAMES + [TARGET_NAME]].corr().iloc[:-1, -1].sort_values(ascending=False)\n",
    "\n",
    "plt.figure(figsize=(10, 8))\n",
    "\n",
    "sns.barplot(x=corr_with_target.values, y=corr_with_target.index)\n",
    "\n",
    "plt.title('Correlation with target variable')\n",
    "plt.show()"
   ]
  },
  {
   "cell_type": "markdown",
   "metadata": {},
   "source": [
    "Видно, что VAS_ID_IS_3 слабо коррелирует с целевой переменной и его можно отбросить."
   ]
  },
  {
   "cell_type": "code",
   "execution_count": 52,
   "metadata": {},
   "outputs": [],
   "source": [
    "import warnings\n",
    "warnings.simplefilter('ignore')"
   ]
  },
  {
   "cell_type": "markdown",
   "metadata": {},
   "source": [
    "Отбор признаков"
   ]
  },
  {
   "cell_type": "code",
   "execution_count": 53,
   "metadata": {},
   "outputs": [],
   "source": [
    "NUMERIC_FEATURE_NAMES = ['days']\n",
    "FEATURE_NAMES_SELECTED = NUMERIC_FEATURE_NAMES + ['VAS_ID_IS_1','VAS_ID_IS_2','VAS_ID_IS_4','VAS_ID_IS_5','VAS_ID_IS_6','VAS_ID_IS_7','VAS_ID_IS_8','VAS_ID_IS_9']"
   ]
  },
  {
   "cell_type": "markdown",
   "metadata": {},
   "source": [
    "Нормализация данных"
   ]
  },
  {
   "cell_type": "code",
   "execution_count": 54,
   "metadata": {},
   "outputs": [],
   "source": [
    "scaler = StandardScaler()\n",
    "\n",
    "df_norm = df_train.copy()\n",
    "df_norm[NUMERIC_FEATURE_NAMES] = scaler.fit_transform(df_norm[NUMERIC_FEATURE_NAMES])\n",
    "\n",
    "df = df_norm.copy()"
   ]
  },
  {
   "cell_type": "markdown",
   "metadata": {},
   "source": [
    "### Разбиение на train и test<a class=\"anchor\" id=\"train_and_test\"></a>"
   ]
  },
  {
   "cell_type": "code",
   "execution_count": 55,
   "metadata": {},
   "outputs": [],
   "source": [
    "X = df[FEATURE_NAMES_SELECTED]\n",
    "y = df[TARGET_NAME]\n",
    "\n",
    "X_train, X_test, y_train, y_test = train_test_split(X, y, shuffle=True, test_size=0.25, random_state=211)"
   ]
  },
  {
   "cell_type": "code",
   "execution_count": 56,
   "metadata": {},
   "outputs": [
    {
     "data": {
      "text/plain": [
       "False"
      ]
     },
     "execution_count": 56,
     "metadata": {},
     "output_type": "execute_result"
    }
   ],
   "source": [
    "TARGET_NAME in FEATURE_NAMES_SELECTED"
   ]
  },
  {
   "cell_type": "code",
   "execution_count": 57,
   "metadata": {},
   "outputs": [
    {
     "data": {
      "text/plain": [
       "9"
      ]
     },
     "execution_count": 57,
     "metadata": {},
     "output_type": "execute_result"
    }
   ],
   "source": [
    "len(X_test.columns)"
   ]
  },
  {
   "cell_type": "markdown",
   "metadata": {},
   "source": [
    "### Балансировка целевой переменной<a class=\"anchor\" id=\"target_balancing\"></a>"
   ]
  },
  {
   "cell_type": "code",
   "execution_count": 58,
   "metadata": {},
   "outputs": [
    {
     "data": {
      "text/plain": [
       "0.0    578781\n",
       "1.0    539496\n",
       "Name: target, dtype: int64"
      ]
     },
     "execution_count": 58,
     "metadata": {},
     "output_type": "execute_result"
    }
   ],
   "source": [
    "df_for_balancing = pd.concat([X_train, y_train], axis=1)\n",
    "df_balanced = balance_df_by_target(df_for_balancing, TARGET_NAME)\n",
    "    \n",
    "df_balanced[TARGET_NAME].value_counts()"
   ]
  },
  {
   "cell_type": "code",
   "execution_count": 59,
   "metadata": {},
   "outputs": [],
   "source": [
    "X_train = df_balanced.drop(columns=TARGET_NAME)\n",
    "y_train = df_balanced[TARGET_NAME]"
   ]
  },
  {
   "cell_type": "markdown",
   "metadata": {},
   "source": [
    "### Построение и оценка базовых моделей<a class=\"anchor\" id=\"baseline_modeling\"></a> "
   ]
  },
  {
   "cell_type": "markdown",
   "metadata": {},
   "source": [
    "Базовая модель без машинного обучения"
   ]
  },
  {
   "cell_type": "markdown",
   "metadata": {},
   "source": [
    "Вероятности подключения услуг можно посчитать статистическим методом без машинного обучения. Для этого поделим кол-во принятых предложений услуги на общее кол-во предложений этой услуги. Можно сделать такой подсчет для каждой услуги."
   ]
  },
  {
   "cell_type": "code",
   "execution_count": 60,
   "metadata": {},
   "outputs": [],
   "source": [
    "def get_statistic_propability(df, filter_id, target):\n",
    "    df_filtered = df[df['vas_id'] == filter_id] \n",
    "    if len(df_filtered) != 0:\n",
    "        return sum(df_filtered[target]) / len(df_filtered)\n",
    "    else:\n",
    "        return 0"
   ]
  },
  {
   "cell_type": "code",
   "execution_count": 70,
   "metadata": {},
   "outputs": [
    {
     "name": "stdout",
     "output_type": "stream",
     "text": [
      "P1 =  0.01826065930523092\n",
      "P2 =  0.019226067613875474\n",
      "P3 =  0\n",
      "P4 =  0.25380148327813795\n",
      "P5 =  0.017983738109156613\n",
      "P6 =  0.4268288468848267\n",
      "P7 =  0.01380248833592535\n",
      "P8 =  0.02599250936329588\n",
      "P9 =  0.1834795321637427\n"
     ]
    }
   ],
   "source": [
    "df_train = pd.read_csv(TRAIN_DATASET_PATH)\n",
    "propability_1 = get_statistic_propability(df_train, 1, 'target')\n",
    "propability_2 = get_statistic_propability(df_train, 2, 'target')\n",
    "propability_3 = get_statistic_propability(df_train, 3, 'target')\n",
    "propability_4 = get_statistic_propability(df_train, 4, 'target')\n",
    "propability_5 = get_statistic_propability(df_train, 5, 'target')\n",
    "propability_6 = get_statistic_propability(df_train, 6, 'target')\n",
    "propability_7 = get_statistic_propability(df_train, 7, 'target')\n",
    "propability_8 = get_statistic_propability(df_train, 8, 'target')\n",
    "propability_9 = get_statistic_propability(df_train, 9, 'target')\n",
    "\n",
    "print('P1 = ',propability_1)\n",
    "print('P2 = ',propability_2)\n",
    "print('P3 = ',propability_3)\n",
    "print('P4 = ',propability_4)\n",
    "print('P5 = ',propability_5)\n",
    "print('P6 = ',propability_6)\n",
    "print('P7 = ',propability_7)\n",
    "print('P8 = ',propability_8)\n",
    "print('P9 = ',propability_9)"
   ]
  },
  {
   "cell_type": "markdown",
   "metadata": {},
   "source": [
    "Все вероятности меньше 0.5 (P < 0.5) => target = 0"
   ]
  },
  {
   "cell_type": "code",
   "execution_count": 71,
   "metadata": {},
   "outputs": [
    {
     "name": "stdout",
     "output_type": "stream",
     "text": [
      "TRAIN\n",
      "\n",
      "              precision    recall  f1-score   support\n",
      "\n",
      "         0.0       0.52      1.00      0.68    578781\n",
      "         1.0       0.00      0.00      0.00    539496\n",
      "\n",
      "   micro avg       0.52      0.52      0.52   1118277\n",
      "   macro avg       0.26      0.50      0.34   1118277\n",
      "weighted avg       0.27      0.52      0.35   1118277\n",
      "\n",
      "TEST\n",
      "\n",
      "              precision    recall  f1-score   support\n",
      "\n",
      "         0.0       0.93      1.00      0.96    192686\n",
      "         1.0       0.00      0.00      0.00     15228\n",
      "\n",
      "   micro avg       0.93      0.93      0.93    207914\n",
      "   macro avg       0.46      0.50      0.48    207914\n",
      "weighted avg       0.86      0.93      0.89    207914\n",
      "\n",
      "CONFUSION MATRIX\n",
      "\n",
      "col_0      0.0\n",
      "target        \n",
      "0.0     192686\n",
      "1.0      15228\n"
     ]
    }
   ],
   "source": [
    "y_train_pred = np.zeros(len(y_train))\n",
    "y_test_pred = np.zeros(len(y_test))\n",
    "get_classification_report(y_train, y_train_pred, y_test, y_test_pred)"
   ]
  },
  {
   "cell_type": "markdown",
   "metadata": {},
   "source": [
    "**Логистическая регрессия**"
   ]
  },
  {
   "cell_type": "code",
   "execution_count": 72,
   "metadata": {},
   "outputs": [
    {
     "name": "stdout",
     "output_type": "stream",
     "text": [
      "TRAIN\n",
      "\n",
      "              precision    recall  f1-score   support\n",
      "\n",
      "         0.0       0.81      0.87      0.84    578781\n",
      "         1.0       0.85      0.78      0.81    539496\n",
      "\n",
      "   micro avg       0.83      0.83      0.83   1118277\n",
      "   macro avg       0.83      0.83      0.83   1118277\n",
      "weighted avg       0.83      0.83      0.83   1118277\n",
      "\n",
      "TEST\n",
      "\n",
      "              precision    recall  f1-score   support\n",
      "\n",
      "         0.0       0.98      0.87      0.92    192686\n",
      "         1.0       0.32      0.79      0.46     15228\n",
      "\n",
      "   micro avg       0.86      0.86      0.86    207914\n",
      "   macro avg       0.65      0.83      0.69    207914\n",
      "weighted avg       0.93      0.86      0.89    207914\n",
      "\n",
      "CONFUSION MATRIX\n",
      "\n",
      "col_0      0.0    1.0\n",
      "target               \n",
      "0.0     167100  25586\n",
      "1.0       3140  12088\n"
     ]
    }
   ],
   "source": [
    "model_lr = LogisticRegression()\n",
    "model_lr.fit(X_train, y_train)\n",
    "\n",
    "y_train_pred = model_lr.predict(X_train)\n",
    "y_test_pred = model_lr.predict(X_test)\n",
    "\n",
    "get_classification_report(y_train, y_train_pred, y_test, y_test_pred)"
   ]
  },
  {
   "cell_type": "markdown",
   "metadata": {},
   "source": [
    "Исходя из сравнения данных TRAIN и TEST переобучение произошло. "
   ]
  },
  {
   "cell_type": "markdown",
   "metadata": {},
   "source": [
    "попробуем случайный лес (RandomForest)."
   ]
  },
  {
   "cell_type": "markdown",
   "metadata": {},
   "source": [
    "RF"
   ]
  },
  {
   "cell_type": "code",
   "execution_count": 43,
   "metadata": {},
   "outputs": [],
   "source": [
    "from sklearn.ensemble import RandomForestClassifier as RF"
   ]
  },
  {
   "cell_type": "code",
   "execution_count": 44,
   "metadata": {},
   "outputs": [],
   "source": [
    "clf = RF(max_depth=18,n_estimators=40,max_features=3,random_state=100)"
   ]
  },
  {
   "cell_type": "code",
   "execution_count": 46,
   "metadata": {},
   "outputs": [],
   "source": [
    "parameters = [{'n_estimators': [20,40,50],'max_features': np.arange(3,5),'max_depth': [4,3,2,1]}]"
   ]
  },
  {
   "cell_type": "code",
   "execution_count": 47,
   "metadata": {},
   "outputs": [],
   "source": [
    "from sklearn.model_selection import GridSearchCV"
   ]
  },
  {
   "cell_type": "code",
   "execution_count": 48,
   "metadata": {},
   "outputs": [],
   "source": [
    "clf = GridSearchCV(estimator=RF(random_state=100),param_grid=parameters,scoring='f1',cv=3)"
   ]
  },
  {
   "cell_type": "code",
   "execution_count": 49,
   "metadata": {},
   "outputs": [
    {
     "data": {
      "text/plain": [
       "GridSearchCV(cv=3, error_score='raise-deprecating',\n",
       "       estimator=RandomForestClassifier(bootstrap=True, class_weight=None, criterion='gini',\n",
       "            max_depth=None, max_features='auto', max_leaf_nodes=None,\n",
       "            min_impurity_decrease=0.0, min_impurity_split=None,\n",
       "            min_samples_leaf=1, min_samples_split=2,\n",
       "            min_weight_fraction_leaf=0.0, n_estimators='warn', n_jobs=None,\n",
       "            oob_score=False, random_state=100, verbose=0, warm_start=False),\n",
       "       fit_params=None, iid='warn', n_jobs=None,\n",
       "       param_grid=[{'n_estimators': [20, 40, 50], 'max_features': array([3, 4]), 'max_depth': [4, 3, 2, 1]}],\n",
       "       pre_dispatch='2*n_jobs', refit=True, return_train_score='warn',\n",
       "       scoring='f1', verbose=0)"
      ]
     },
     "execution_count": 49,
     "metadata": {},
     "output_type": "execute_result"
    }
   ],
   "source": [
    "clf.fit(X_train,y_train)"
   ]
  },
  {
   "cell_type": "code",
   "execution_count": 50,
   "metadata": {},
   "outputs": [
    {
     "data": {
      "text/plain": [
       "{'max_depth': 4, 'max_features': 4, 'n_estimators': 40}"
      ]
     },
     "execution_count": 50,
     "metadata": {},
     "output_type": "execute_result"
    }
   ],
   "source": [
    "clf.best_params_"
   ]
  },
  {
   "cell_type": "code",
   "execution_count": 51,
   "metadata": {},
   "outputs": [],
   "source": [
    "from sklearn.metrics import f1_score as f1 "
   ]
  },
  {
   "cell_type": "markdown",
   "metadata": {},
   "source": [
    "Борьба с переобучением"
   ]
  },
  {
   "cell_type": "code",
   "execution_count": 52,
   "metadata": {},
   "outputs": [
    {
     "name": "stdout",
     "output_type": "stream",
     "text": [
      "max_depth=4\n",
      "0.8874543115317362\n",
      "0.713724097128166\n",
      "\n",
      "max_depth=3\n",
      "0.8513713968897867\n",
      "0.7013317351461967\n",
      "\n",
      "max_depth=2\n",
      "0.8226780692211402\n",
      "0.6916827469164588\n",
      "\n",
      "max_depth=1\n",
      "0.6996868273573926\n",
      "0.5478238167139852\n",
      "\n"
     ]
    }
   ],
   "source": [
    "for i in range(4,0,-1):\n",
    "    print(f'max_depth={i}')\n",
    "    clf = RF(max_depth=i, n_estimators=40, max_features=4, random_state=100)\n",
    "    clf.fit(X_train, y_train)\n",
    "    pred = clf.predict(X_train)\n",
    "    print(f1(y_train,pred, average='macro'))\n",
    "    pred_valid = clf.predict(X_test)\n",
    "    print(f1(y_test,pred_valid, average='macro'))\n",
    "    print()"
   ]
  },
  {
   "cell_type": "code",
   "execution_count": 61,
   "metadata": {},
   "outputs": [],
   "source": [
    "clf = RF(max_depth=4,n_estimators=40,max_features=4,random_state=100)"
   ]
  },
  {
   "cell_type": "code",
   "execution_count": 65,
   "metadata": {},
   "outputs": [
    {
     "data": {
      "text/plain": [
       "RandomForestClassifier(bootstrap=True, class_weight=None, criterion='gini',\n",
       "            max_depth=4, max_features=4, max_leaf_nodes=None,\n",
       "            min_impurity_decrease=0.0, min_impurity_split=None,\n",
       "            min_samples_leaf=1, min_samples_split=2,\n",
       "            min_weight_fraction_leaf=0.0, n_estimators=40, n_jobs=None,\n",
       "            oob_score=False, random_state=100, verbose=0, warm_start=False)"
      ]
     },
     "execution_count": 65,
     "metadata": {},
     "output_type": "execute_result"
    }
   ],
   "source": [
    "clf.fit(X_train,y_train)"
   ]
  },
  {
   "cell_type": "code",
   "execution_count": 66,
   "metadata": {},
   "outputs": [],
   "source": [
    "pred = clf.predict(X_train)"
   ]
  },
  {
   "cell_type": "code",
   "execution_count": 67,
   "metadata": {},
   "outputs": [
    {
     "data": {
      "text/plain": [
       "0.8874543115317362"
      ]
     },
     "execution_count": 67,
     "metadata": {},
     "output_type": "execute_result"
    }
   ],
   "source": [
    "f1(y_train, pred, average='macro')"
   ]
  },
  {
   "cell_type": "code",
   "execution_count": 68,
   "metadata": {},
   "outputs": [],
   "source": [
    "pred_valid = clf.predict(X_test)"
   ]
  },
  {
   "cell_type": "code",
   "execution_count": 69,
   "metadata": {},
   "outputs": [
    {
     "data": {
      "text/plain": [
       "array([0., 0., 0., ..., 0., 1., 0.])"
      ]
     },
     "execution_count": 69,
     "metadata": {},
     "output_type": "execute_result"
    }
   ],
   "source": [
    "pred_valid"
   ]
  },
  {
   "cell_type": "code",
   "execution_count": 70,
   "metadata": {},
   "outputs": [
    {
     "data": {
      "text/plain": [
       "0.713724097128166"
      ]
     },
     "execution_count": 70,
     "metadata": {},
     "output_type": "execute_result"
    }
   ],
   "source": [
    "f1(y_test,pred_valid, average='macro')"
   ]
  },
  {
   "cell_type": "code",
   "execution_count": 71,
   "metadata": {},
   "outputs": [
    {
     "name": "stdout",
     "output_type": "stream",
     "text": [
      "TRAIN\n",
      "\n",
      "              precision    recall  f1-score   support\n",
      "\n",
      "         0.0       0.91      0.87      0.89    578781\n",
      "         1.0       0.86      0.91      0.89    539496\n",
      "\n",
      "   micro avg       0.89      0.89      0.89   1118277\n",
      "   macro avg       0.89      0.89      0.89   1118277\n",
      "weighted avg       0.89      0.89      0.89   1118277\n",
      "\n",
      "TEST\n",
      "\n",
      "              precision    recall  f1-score   support\n",
      "\n",
      "         0.0       0.99      0.86      0.92    192686\n",
      "         1.0       0.35      0.91      0.50     15228\n",
      "\n",
      "   micro avg       0.87      0.87      0.87    207914\n",
      "   macro avg       0.67      0.89      0.71    207914\n",
      "weighted avg       0.94      0.87      0.89    207914\n",
      "\n",
      "CONFUSION MATRIX\n",
      "\n",
      "col_0      0.0    1.0\n",
      "target               \n",
      "0.0     166637  26049\n",
      "1.0       1344  13884\n"
     ]
    }
   ],
   "source": [
    "get_classification_report(y_train, pred, y_test, pred_valid)"
   ]
  },
  {
   "cell_type": "code",
   "execution_count": 72,
   "metadata": {},
   "outputs": [],
   "source": [
    "pred_valid_proba = clf.predict_proba(X_test)"
   ]
  },
  {
   "cell_type": "code",
   "execution_count": 73,
   "metadata": {},
   "outputs": [
    {
     "data": {
      "text/plain": [
       "array([[0.72029462, 0.27970538],\n",
       "       [0.86870811, 0.13129189],\n",
       "       [0.82527688, 0.17472312],\n",
       "       ...,\n",
       "       [0.88748648, 0.11251352],\n",
       "       [0.10597618, 0.89402382],\n",
       "       [0.71694115, 0.28305885]])"
      ]
     },
     "execution_count": 73,
     "metadata": {},
     "output_type": "execute_result"
    }
   ],
   "source": [
    "pred_valid_proba"
   ]
  },
  {
   "cell_type": "markdown",
   "metadata": {},
   "source": [
    "Вывод: модель RandomForest показала лучший результат и будем использовать эту модель как финальную."
   ]
  },
  {
   "cell_type": "code",
   "execution_count": 74,
   "metadata": {},
   "outputs": [],
   "source": [
    "final_model = clf"
   ]
  },
  {
   "cell_type": "markdown",
   "metadata": {},
   "source": [
    "### Подготовка тестовых данных<a class=\"anchor\" id=\"target_balancing\"></a>"
   ]
  },
  {
   "cell_type": "code",
   "execution_count": 75,
   "metadata": {},
   "outputs": [],
   "source": [
    "df_test = pd.read_csv(TEST_DATASET_PATH)"
   ]
  },
  {
   "cell_type": "code",
   "execution_count": 76,
   "metadata": {},
   "outputs": [],
   "source": [
    "df = df_test\n",
    "df['VAS_ID_IS_1'] = df['vas_id'].map({1:'1',2:'0',3:'0',4:'0',5:'0',6:'0',7:'0',8:'0',9:'0'}).astype(int)\n",
    "df['VAS_ID_IS_2'] = df['vas_id'].map({1:'0',2:'1',3:'0',4:'0',5:'0',6:'0',7:'0',8:'0',9:'0'}).astype(int)\n",
    "df['VAS_ID_IS_3'] = df['vas_id'].map({1:'0',2:'0',3:'1',4:'0',5:'0',6:'0',7:'0',8:'0',9:'0'}).astype(int)\n",
    "df['VAS_ID_IS_4'] = df['vas_id'].map({1:'0',2:'0',3:'0',4:'1',5:'0',6:'0',7:'0',8:'0',9:'0'}).astype(int)\n",
    "df['VAS_ID_IS_5'] = df['vas_id'].map({1:'0',2:'0',3:'0',4:'0',5:'1',6:'0',7:'0',8:'0',9:'0'}).astype(int)\n",
    "df['VAS_ID_IS_6'] = df['vas_id'].map({1:'0',2:'0',3:'0',4:'0',5:'0',6:'1',7:'0',8:'0',9:'0'}).astype(int)\n",
    "df['VAS_ID_IS_7'] = df['vas_id'].map({1:'0',2:'0',3:'0',4:'0',5:'0',6:'0',7:'1',8:'0',9:'0'}).astype(int)\n",
    "df['VAS_ID_IS_8'] = df['vas_id'].map({1:'0',2:'0',3:'0',4:'0',5:'0',6:'0',7:'0',8:'1',9:'0'}).astype(int)\n",
    "df['VAS_ID_IS_9'] = df['vas_id'].map({1:'0',2:'0',3:'0',4:'0',5:'0',6:'0',7:'0',8:'0',9:'1'}).astype(int)\n"
   ]
  },
  {
   "cell_type": "code",
   "execution_count": 77,
   "metadata": {},
   "outputs": [],
   "source": [
    "from datetime import datetime\n",
    "df['date'] = list(map(datetime.fromtimestamp,df['buy_time']))\n",
    "df['days'] = df['date'].apply(lambda x: x.timetuple()[7])"
   ]
  },
  {
   "cell_type": "code",
   "execution_count": 78,
   "metadata": {},
   "outputs": [
    {
     "data": {
      "text/html": [
       "<div>\n",
       "<style scoped>\n",
       "    .dataframe tbody tr th:only-of-type {\n",
       "        vertical-align: middle;\n",
       "    }\n",
       "\n",
       "    .dataframe tbody tr th {\n",
       "        vertical-align: top;\n",
       "    }\n",
       "\n",
       "    .dataframe thead th {\n",
       "        text-align: right;\n",
       "    }\n",
       "</style>\n",
       "<table border=\"1\" class=\"dataframe\">\n",
       "  <thead>\n",
       "    <tr style=\"text-align: right;\">\n",
       "      <th></th>\n",
       "      <th>Unnamed: 0</th>\n",
       "      <th>id</th>\n",
       "      <th>vas_id</th>\n",
       "      <th>buy_time</th>\n",
       "      <th>VAS_ID_IS_1</th>\n",
       "      <th>VAS_ID_IS_2</th>\n",
       "      <th>VAS_ID_IS_3</th>\n",
       "      <th>VAS_ID_IS_4</th>\n",
       "      <th>VAS_ID_IS_5</th>\n",
       "      <th>VAS_ID_IS_6</th>\n",
       "      <th>VAS_ID_IS_7</th>\n",
       "      <th>VAS_ID_IS_8</th>\n",
       "      <th>VAS_ID_IS_9</th>\n",
       "      <th>date</th>\n",
       "      <th>days</th>\n",
       "    </tr>\n",
       "  </thead>\n",
       "  <tbody>\n",
       "    <tr>\n",
       "      <th>0</th>\n",
       "      <td>0</td>\n",
       "      <td>3130519</td>\n",
       "      <td>2.0</td>\n",
       "      <td>1548018000</td>\n",
       "      <td>0</td>\n",
       "      <td>1</td>\n",
       "      <td>0</td>\n",
       "      <td>0</td>\n",
       "      <td>0</td>\n",
       "      <td>0</td>\n",
       "      <td>0</td>\n",
       "      <td>0</td>\n",
       "      <td>0</td>\n",
       "      <td>2019-01-21</td>\n",
       "      <td>21</td>\n",
       "    </tr>\n",
       "    <tr>\n",
       "      <th>1</th>\n",
       "      <td>1</td>\n",
       "      <td>2000860</td>\n",
       "      <td>4.0</td>\n",
       "      <td>1548018000</td>\n",
       "      <td>0</td>\n",
       "      <td>0</td>\n",
       "      <td>0</td>\n",
       "      <td>1</td>\n",
       "      <td>0</td>\n",
       "      <td>0</td>\n",
       "      <td>0</td>\n",
       "      <td>0</td>\n",
       "      <td>0</td>\n",
       "      <td>2019-01-21</td>\n",
       "      <td>21</td>\n",
       "    </tr>\n",
       "    <tr>\n",
       "      <th>2</th>\n",
       "      <td>2</td>\n",
       "      <td>1099444</td>\n",
       "      <td>2.0</td>\n",
       "      <td>1546808400</td>\n",
       "      <td>0</td>\n",
       "      <td>1</td>\n",
       "      <td>0</td>\n",
       "      <td>0</td>\n",
       "      <td>0</td>\n",
       "      <td>0</td>\n",
       "      <td>0</td>\n",
       "      <td>0</td>\n",
       "      <td>0</td>\n",
       "      <td>2019-01-07</td>\n",
       "      <td>7</td>\n",
       "    </tr>\n",
       "    <tr>\n",
       "      <th>3</th>\n",
       "      <td>3</td>\n",
       "      <td>1343255</td>\n",
       "      <td>5.0</td>\n",
       "      <td>1547413200</td>\n",
       "      <td>0</td>\n",
       "      <td>0</td>\n",
       "      <td>0</td>\n",
       "      <td>0</td>\n",
       "      <td>1</td>\n",
       "      <td>0</td>\n",
       "      <td>0</td>\n",
       "      <td>0</td>\n",
       "      <td>0</td>\n",
       "      <td>2019-01-14</td>\n",
       "      <td>14</td>\n",
       "    </tr>\n",
       "    <tr>\n",
       "      <th>4</th>\n",
       "      <td>4</td>\n",
       "      <td>1277040</td>\n",
       "      <td>2.0</td>\n",
       "      <td>1546808400</td>\n",
       "      <td>0</td>\n",
       "      <td>1</td>\n",
       "      <td>0</td>\n",
       "      <td>0</td>\n",
       "      <td>0</td>\n",
       "      <td>0</td>\n",
       "      <td>0</td>\n",
       "      <td>0</td>\n",
       "      <td>0</td>\n",
       "      <td>2019-01-07</td>\n",
       "      <td>7</td>\n",
       "    </tr>\n",
       "  </tbody>\n",
       "</table>\n",
       "</div>"
      ],
      "text/plain": [
       "   Unnamed: 0       id  vas_id    buy_time  VAS_ID_IS_1  VAS_ID_IS_2  \\\n",
       "0           0  3130519     2.0  1548018000            0            1   \n",
       "1           1  2000860     4.0  1548018000            0            0   \n",
       "2           2  1099444     2.0  1546808400            0            1   \n",
       "3           3  1343255     5.0  1547413200            0            0   \n",
       "4           4  1277040     2.0  1546808400            0            1   \n",
       "\n",
       "   VAS_ID_IS_3  VAS_ID_IS_4  VAS_ID_IS_5  VAS_ID_IS_6  VAS_ID_IS_7  \\\n",
       "0            0            0            0            0            0   \n",
       "1            0            1            0            0            0   \n",
       "2            0            0            0            0            0   \n",
       "3            0            0            1            0            0   \n",
       "4            0            0            0            0            0   \n",
       "\n",
       "   VAS_ID_IS_8  VAS_ID_IS_9       date  days  \n",
       "0            0            0 2019-01-21    21  \n",
       "1            0            0 2019-01-21    21  \n",
       "2            0            0 2019-01-07     7  \n",
       "3            0            0 2019-01-14    14  \n",
       "4            0            0 2019-01-07     7  "
      ]
     },
     "execution_count": 78,
     "metadata": {},
     "output_type": "execute_result"
    }
   ],
   "source": [
    "df.head()"
   ]
  },
  {
   "cell_type": "code",
   "execution_count": 79,
   "metadata": {},
   "outputs": [],
   "source": [
    "NUMERIC_FEATURE_NAMES = ['days']\n",
    "FEATURE_NAMES_SELECTED = NUMERIC_FEATURE_NAMES + ['VAS_ID_IS_1','VAS_ID_IS_2','VAS_ID_IS_4','VAS_ID_IS_5','VAS_ID_IS_6','VAS_ID_IS_7','VAS_ID_IS_8','VAS_ID_IS_9']"
   ]
  },
  {
   "cell_type": "markdown",
   "metadata": {},
   "source": [
    "Нормализация"
   ]
  },
  {
   "cell_type": "code",
   "execution_count": 80,
   "metadata": {},
   "outputs": [],
   "source": [
    "scaler = StandardScaler()\n",
    "\n",
    "df_norm = df_test.copy()\n",
    "df_norm[NUMERIC_FEATURE_NAMES] = scaler.fit_transform(df_norm[NUMERIC_FEATURE_NAMES])\n",
    "\n",
    "df = df_norm.copy()"
   ]
  },
  {
   "cell_type": "code",
   "execution_count": 81,
   "metadata": {},
   "outputs": [
    {
     "data": {
      "text/plain": [
       "71231"
      ]
     },
     "execution_count": 81,
     "metadata": {},
     "output_type": "execute_result"
    }
   ],
   "source": [
    "len(df)"
   ]
  },
  {
   "cell_type": "code",
   "execution_count": 82,
   "metadata": {},
   "outputs": [
    {
     "data": {
      "text/plain": [
       "9"
      ]
     },
     "execution_count": 82,
     "metadata": {},
     "output_type": "execute_result"
    }
   ],
   "source": [
    "len(FEATURE_NAMES_SELECTED)"
   ]
  },
  {
   "cell_type": "code",
   "execution_count": 83,
   "metadata": {},
   "outputs": [
    {
     "data": {
      "text/plain": [
       "71231"
      ]
     },
     "execution_count": 83,
     "metadata": {},
     "output_type": "execute_result"
    }
   ],
   "source": [
    "X_test = df[FEATURE_NAMES_SELECTED]\n",
    "len(X_test)"
   ]
  },
  {
   "cell_type": "code",
   "execution_count": 84,
   "metadata": {},
   "outputs": [
    {
     "data": {
      "text/plain": [
       "9"
      ]
     },
     "execution_count": 84,
     "metadata": {},
     "output_type": "execute_result"
    }
   ],
   "source": [
    "len(X_test.columns)"
   ]
  },
  {
   "cell_type": "code",
   "execution_count": 85,
   "metadata": {},
   "outputs": [
    {
     "data": {
      "text/plain": [
       "71231"
      ]
     },
     "execution_count": 85,
     "metadata": {},
     "output_type": "execute_result"
    }
   ],
   "source": [
    "len(X_test)"
   ]
  },
  {
   "cell_type": "code",
   "execution_count": 86,
   "metadata": {},
   "outputs": [],
   "source": [
    "y_test_pred = final_model.predict(X_test)"
   ]
  },
  {
   "cell_type": "code",
   "execution_count": 87,
   "metadata": {},
   "outputs": [
    {
     "data": {
      "text/plain": [
       "array([0., 1., 0., ..., 0., 0., 0.])"
      ]
     },
     "execution_count": 87,
     "metadata": {},
     "output_type": "execute_result"
    }
   ],
   "source": [
    "y_test_pred"
   ]
  },
  {
   "cell_type": "code",
   "execution_count": 88,
   "metadata": {},
   "outputs": [],
   "source": [
    "y_test_pred_proba = final_model.predict_proba(X_test)"
   ]
  },
  {
   "cell_type": "code",
   "execution_count": 89,
   "metadata": {},
   "outputs": [
    {
     "data": {
      "text/plain": [
       "array([0.10557861, 0.70056127, 0.18169223, ..., 0.10557861, 0.10557861,\n",
       "       0.10557861])"
      ]
     },
     "execution_count": 89,
     "metadata": {},
     "output_type": "execute_result"
    }
   ],
   "source": [
    "y_test_pred_proba[:,1]"
   ]
  },
  {
   "cell_type": "code",
   "execution_count": 90,
   "metadata": {},
   "outputs": [],
   "source": [
    "df = pd.read_csv(TEST_DATASET_PATH)"
   ]
  },
  {
   "cell_type": "code",
   "execution_count": 91,
   "metadata": {},
   "outputs": [],
   "source": [
    "df['date'] = list(map(datetime.fromtimestamp,df['buy_time']))"
   ]
  },
  {
   "cell_type": "code",
   "execution_count": 92,
   "metadata": {},
   "outputs": [
    {
     "data": {
      "text/html": [
       "<div>\n",
       "<style scoped>\n",
       "    .dataframe tbody tr th:only-of-type {\n",
       "        vertical-align: middle;\n",
       "    }\n",
       "\n",
       "    .dataframe tbody tr th {\n",
       "        vertical-align: top;\n",
       "    }\n",
       "\n",
       "    .dataframe thead th {\n",
       "        text-align: right;\n",
       "    }\n",
       "</style>\n",
       "<table border=\"1\" class=\"dataframe\">\n",
       "  <thead>\n",
       "    <tr style=\"text-align: right;\">\n",
       "      <th></th>\n",
       "      <th>date</th>\n",
       "      <th>msisdn</th>\n",
       "      <th>vas_id</th>\n",
       "    </tr>\n",
       "  </thead>\n",
       "  <tbody>\n",
       "    <tr>\n",
       "      <th>0</th>\n",
       "      <td>2019-01-21</td>\n",
       "      <td>3130519</td>\n",
       "      <td>2.0</td>\n",
       "    </tr>\n",
       "    <tr>\n",
       "      <th>1</th>\n",
       "      <td>2019-01-21</td>\n",
       "      <td>2000860</td>\n",
       "      <td>4.0</td>\n",
       "    </tr>\n",
       "    <tr>\n",
       "      <th>2</th>\n",
       "      <td>2019-01-07</td>\n",
       "      <td>1099444</td>\n",
       "      <td>2.0</td>\n",
       "    </tr>\n",
       "    <tr>\n",
       "      <th>3</th>\n",
       "      <td>2019-01-14</td>\n",
       "      <td>1343255</td>\n",
       "      <td>5.0</td>\n",
       "    </tr>\n",
       "    <tr>\n",
       "      <th>4</th>\n",
       "      <td>2019-01-07</td>\n",
       "      <td>1277040</td>\n",
       "      <td>2.0</td>\n",
       "    </tr>\n",
       "  </tbody>\n",
       "</table>\n",
       "</div>"
      ],
      "text/plain": [
       "        date   msisdn  vas_id\n",
       "0 2019-01-21  3130519     2.0\n",
       "1 2019-01-21  2000860     4.0\n",
       "2 2019-01-07  1099444     2.0\n",
       "3 2019-01-14  1343255     5.0\n",
       "4 2019-01-07  1277040     2.0"
      ]
     },
     "execution_count": 92,
     "metadata": {},
     "output_type": "execute_result"
    }
   ],
   "source": [
    "df['msisdn'] = df['id']\n",
    "FEATURE_NAMES_SELECTED =['date','msisdn','vas_id']\n",
    "df = df[FEATURE_NAMES_SELECTED]\n",
    "df.head()"
   ]
  },
  {
   "cell_type": "code",
   "execution_count": 93,
   "metadata": {},
   "outputs": [],
   "source": [
    "df[TARGET_NAME] = y_test_pred_proba[:,1]"
   ]
  },
  {
   "cell_type": "code",
   "execution_count": 94,
   "metadata": {},
   "outputs": [
    {
     "data": {
      "text/plain": [
       "71231"
      ]
     },
     "execution_count": 94,
     "metadata": {},
     "output_type": "execute_result"
    }
   ],
   "source": [
    "len(df)"
   ]
  },
  {
   "cell_type": "markdown",
   "metadata": {},
   "source": [
    "Сохранение результирующих данных в CSV-формат"
   ]
  },
  {
   "cell_type": "code",
   "execution_count": 95,
   "metadata": {},
   "outputs": [],
   "source": [
    "df.to_csv(OUT_DATASET_PATH,index=None)"
   ]
  },
  {
   "cell_type": "markdown",
   "metadata": {},
   "source": [
    "Сохранение модели в pickle формат"
   ]
  },
  {
   "cell_type": "code",
   "execution_count": 96,
   "metadata": {},
   "outputs": [],
   "source": [
    "filename = 'final_model.pkl'\n",
    "pickle.dump(final_model, open(filename, 'wb'))"
   ]
  },
  {
   "cell_type": "code",
   "execution_count": null,
   "metadata": {},
   "outputs": [],
   "source": []
  }
 ],
 "metadata": {
  "kernelspec": {
   "display_name": "Python 3",
   "language": "python",
   "name": "python3"
  },
  "language_info": {
   "codemirror_mode": {
    "name": "ipython",
    "version": 3
   },
   "file_extension": ".py",
   "mimetype": "text/x-python",
   "name": "python",
   "nbconvert_exporter": "python",
   "pygments_lexer": "ipython3",
   "version": "3.7.1"
  }
 },
 "nbformat": 4,
 "nbformat_minor": 2
}
