{
  "nbformat": 4,
  "nbformat_minor": 0,
  "metadata": {
    "colab": {
      "name": "Copy of hw04_AlexNet.ipynb",
      "provenance": []
    },
    "kernelspec": {
      "name": "python3",
      "display_name": "Python 3"
    },
    "language_info": {
      "codemirror_mode": {
        "name": "ipython",
        "version": 3
      },
      "file_extension": ".py",
      "mimetype": "text/x-python",
      "name": "python",
      "nbconvert_exporter": "python",
      "pygments_lexer": "ipython3",
      "version": "3.7.1"
    },
    "accelerator": "GPU"
  },
  "cells": [
    {
      "cell_type": "code",
      "metadata": {
        "colab_type": "code",
        "id": "jvJOgXi0mv3G",
        "outputId": "0726e312-e155-48d8-8d58-c7487dc67d9f",
        "colab": {
          "base_uri": "https://localhost:8080/",
          "height": 68
        }
      },
      "source": [
        "from __future__ import print_function\n",
        "#import tensorflow.keras as keras # расскоментируйте эту строку, чтобы начать обучение\n",
        "from tensorflow.keras.datasets import cifar10\n",
        "from tensorflow.keras.preprocessing.image import ImageDataGenerator\n",
        "from tensorflow.keras.models import Sequential\n",
        "from tensorflow.keras.layers import Dense, Dropout, Activation, Flatten\n",
        "from tensorflow.keras.layers import Conv2D, MaxPooling2D\n",
        "from tensorflow.keras.utils import to_categorical\n",
        "\n",
        "import os\n",
        "\n",
        "# установка параметров нейросети\n",
        "batch_size = 32\n",
        "num_classes = 10\n",
        "epochs = 10\n",
        "data_augmentation = True\n",
        "num_predictions = 20\n",
        "save_dir = os.path.join(os.getcwd(), 'saved_models')\n",
        "model_name = 'keras_cifar10_trained_model.h5'\n",
        "\n",
        "# разделение тренировочной и тестовой выборки\n",
        "(x_train, y_train), (x_test, y_test) = cifar10.load_data()\n",
        "print('x_train shape:', x_train.shape)\n",
        "print(x_train.shape[1:], 'тренировочные примеры')\n",
        "print(x_test.shape[1:], 'тестовые примеры')"
      ],
      "execution_count": 5,
      "outputs": [
        {
          "output_type": "stream",
          "text": [
            "x_train shape: (50000, 32, 32, 3)\n",
            "(32, 32, 3) тренировочные примеры\n",
            "(32, 32, 3) тестовые примеры\n"
          ],
          "name": "stdout"
        }
      ]
    },
    {
      "cell_type": "code",
      "metadata": {
        "id": "-_BBqAlqXkbq",
        "colab_type": "code",
        "colab": {}
      },
      "source": [
        "# преобразование матрицы чисел 0-9 в бинарную матрицу чисел 0-1\n",
        "y_train = to_categorical(y_train, num_classes)\n",
        "y_test = to_categorical(y_test, num_classes)\n",
        "x_train = x_train.astype('float32')\n",
        "x_test = x_test.astype('float32')\n",
        "x_train /= 255\n",
        "x_test /= 255\n"
      ],
      "execution_count": 0,
      "outputs": []
    },
    {
      "cell_type": "code",
      "metadata": {
        "colab_type": "code",
        "id": "BS-2h7rnvXLa",
        "outputId": "48ab2cd7-d1ff-4405-cada-c58dc0f7866e",
        "colab": {
          "base_uri": "https://localhost:8080/",
          "height": 425
        }
      },
      "source": [
        "\n",
        "# конфигурирование слоев нейросети\n",
        "model = Sequential()\n",
        "\n",
        "# слои нейросети отвественные за свертку и max-pooling\n",
        "model.add(Conv2D(256, (5, 5), padding='same'))\n",
        "model.add(Activation('relu'))\n",
        "model.add(MaxPooling2D(pool_size=(3, 3), strides=2))\n",
        "\n",
        "model.add(Conv2D(384, (3, 3), padding='same'))\n",
        "model.add(Activation('relu'))\n",
        "model.add(Conv2D(384, (3, 3), padding='same'))\n",
        "model.add(Activation('relu'))\n",
        "model.add(Conv2D(256, (3, 3), padding='same'))\n",
        "model.add(Activation('relu'))\n",
        "model.add(MaxPooling2D(pool_size=(3, 3), strides=2))\n",
        "\n",
        "# полносвязные слои нейронной сети\n",
        "model.add(Flatten())\n",
        "model.add(Dense(4096))\n",
        "model.add(Activation('relu'))\n",
        "model.add(Dropout(0.5))\n",
        "model.add(Dense(4096))\n",
        "model.add(Activation('relu'))\n",
        "model.add(Dense(num_classes))\n",
        "model.add(Activation('softmax'))\n",
        "\n",
        "# компиляция модели\n",
        "model.compile(loss='categorical_crossentropy',\n",
        "              optimizer='SGD',\n",
        "              metrics=['accuracy'])\n",
        "\n",
        "print('Не используется data augmentation')\n",
        "model.fit(x_train, y_train,\n",
        "          batch_size=batch_size,\n",
        "          epochs=epochs,\n",
        "          validation_data=(x_test, y_test),\n",
        "          shuffle=True)\n",
        "\n",
        "\n",
        "# проверка работы обученной модели\n",
        "scores = model.evaluate(x_test, y_test, verbose=1)\n",
        "print('Test loss:', scores[0])\n",
        "print('Test accuracy:', scores[1])\n"
      ],
      "execution_count": 7,
      "outputs": [
        {
          "output_type": "stream",
          "text": [
            "Не используется data augmentation\n",
            "Epoch 1/10\n",
            "1563/1563 [==============================] - 48s 31ms/step - loss: 1.9760 - accuracy: 0.2753 - val_loss: 1.7322 - val_accuracy: 0.3721\n",
            "Epoch 2/10\n",
            "1563/1563 [==============================] - 47s 30ms/step - loss: 1.5586 - accuracy: 0.4338 - val_loss: 1.5377 - val_accuracy: 0.4568\n",
            "Epoch 3/10\n",
            "1563/1563 [==============================] - 48s 30ms/step - loss: 1.3475 - accuracy: 0.5151 - val_loss: 1.3808 - val_accuracy: 0.5093\n",
            "Epoch 4/10\n",
            "1563/1563 [==============================] - 48s 30ms/step - loss: 1.1948 - accuracy: 0.5740 - val_loss: 1.1044 - val_accuracy: 0.6058\n",
            "Epoch 5/10\n",
            "1563/1563 [==============================] - 48s 30ms/step - loss: 1.0608 - accuracy: 0.6254 - val_loss: 0.9916 - val_accuracy: 0.6530\n",
            "Epoch 6/10\n",
            "1563/1563 [==============================] - 47s 30ms/step - loss: 0.9455 - accuracy: 0.6686 - val_loss: 1.0394 - val_accuracy: 0.6455\n",
            "Epoch 7/10\n",
            "1563/1563 [==============================] - 48s 30ms/step - loss: 0.8480 - accuracy: 0.7021 - val_loss: 0.9716 - val_accuracy: 0.6622\n",
            "Epoch 8/10\n",
            "1563/1563 [==============================] - 48s 30ms/step - loss: 0.7623 - accuracy: 0.7325 - val_loss: 0.8872 - val_accuracy: 0.6885\n",
            "Epoch 9/10\n",
            "1563/1563 [==============================] - 47s 30ms/step - loss: 0.6761 - accuracy: 0.7645 - val_loss: 0.8133 - val_accuracy: 0.7232\n",
            "Epoch 10/10\n",
            "1563/1563 [==============================] - 48s 30ms/step - loss: 0.5973 - accuracy: 0.7915 - val_loss: 0.7538 - val_accuracy: 0.7434\n",
            "313/313 [==============================] - 3s 9ms/step - loss: 0.7538 - accuracy: 0.7434\n",
            "Test loss: 0.753752589225769\n",
            "Test accuracy: 0.743399977684021\n"
          ],
          "name": "stdout"
        }
      ]
    },
    {
      "cell_type": "code",
      "metadata": {
        "id": "y9niUPi3WxId",
        "colab_type": "code",
        "colab": {
          "base_uri": "https://localhost:8080/",
          "height": 425
        },
        "outputId": "d7f41938-a052-40ff-99ab-cc41ba0ddcfc"
      },
      "source": [
        "#оценим рост сложности при увеличении ширины сети (больше ядер)\n",
        "# конфигурирование слоев нейросети\n",
        "model = Sequential()\n",
        "\n",
        "# слои нейросети отвественные за свертку и max-pooling\n",
        "model.add(Conv2D(300, (5, 5), padding='same'))\n",
        "model.add(Activation('relu'))\n",
        "model.add(MaxPooling2D(pool_size=(3, 3), strides=2))\n",
        "\n",
        "model.add(Conv2D(400, (3, 3), padding='same'))\n",
        "model.add(Activation('relu'))\n",
        "model.add(Conv2D(400, (3, 3), padding='same'))\n",
        "model.add(Activation('relu'))\n",
        "model.add(Conv2D(300, (3, 3), padding='same'))\n",
        "model.add(Activation('relu'))\n",
        "model.add(MaxPooling2D(pool_size=(3, 3), strides=2))\n",
        "\n",
        "# полносвязные слои нейронной сети\n",
        "model.add(Flatten())\n",
        "model.add(Dense(4096))\n",
        "model.add(Activation('relu'))\n",
        "model.add(Dropout(0.5))\n",
        "model.add(Dense(4096))\n",
        "model.add(Activation('relu'))\n",
        "model.add(Dense(num_classes))\n",
        "model.add(Activation('softmax'))\n",
        "\n",
        "# компиляция модели\n",
        "model.compile(loss='categorical_crossentropy',\n",
        "              optimizer='SGD',\n",
        "              metrics=['accuracy'])\n",
        "\n",
        "print('Не используется data augmentation')\n",
        "model.fit(x_train, y_train,\n",
        "          batch_size=batch_size,\n",
        "          epochs=epochs,\n",
        "          validation_data=(x_test, y_test),\n",
        "          shuffle=True)\n",
        "\n",
        "\n",
        "# проверка работы обученной модели\n",
        "scores = model.evaluate(x_test, y_test, verbose=1)\n",
        "print('Test loss:', scores[0])\n",
        "print('Test accuracy:', scores[1])\n"
      ],
      "execution_count": 8,
      "outputs": [
        {
          "output_type": "stream",
          "text": [
            "Не используется data augmentation\n",
            "Epoch 1/10\n",
            "1563/1563 [==============================] - 58s 37ms/step - loss: 1.9733 - accuracy: 0.2755 - val_loss: 1.7725 - val_accuracy: 0.3604\n",
            "Epoch 2/10\n",
            "1563/1563 [==============================] - 57s 36ms/step - loss: 1.5513 - accuracy: 0.4364 - val_loss: 1.4014 - val_accuracy: 0.4902\n",
            "Epoch 3/10\n",
            "1563/1563 [==============================] - 57s 36ms/step - loss: 1.3495 - accuracy: 0.5159 - val_loss: 1.3832 - val_accuracy: 0.5185\n",
            "Epoch 4/10\n",
            "1563/1563 [==============================] - 57s 37ms/step - loss: 1.1921 - accuracy: 0.5765 - val_loss: 1.3277 - val_accuracy: 0.5352\n",
            "Epoch 5/10\n",
            "1563/1563 [==============================] - 57s 37ms/step - loss: 1.0647 - accuracy: 0.6234 - val_loss: 1.0443 - val_accuracy: 0.6286\n",
            "Epoch 6/10\n",
            "1563/1563 [==============================] - 57s 36ms/step - loss: 0.9483 - accuracy: 0.6660 - val_loss: 0.9754 - val_accuracy: 0.6555\n",
            "Epoch 7/10\n",
            "1563/1563 [==============================] - 57s 36ms/step - loss: 0.8479 - accuracy: 0.7027 - val_loss: 1.0005 - val_accuracy: 0.6532\n",
            "Epoch 8/10\n",
            "1563/1563 [==============================] - 57s 36ms/step - loss: 0.7597 - accuracy: 0.7353 - val_loss: 0.8244 - val_accuracy: 0.7144\n",
            "Epoch 9/10\n",
            "1563/1563 [==============================] - 57s 36ms/step - loss: 0.6710 - accuracy: 0.7675 - val_loss: 0.7755 - val_accuracy: 0.7351\n",
            "Epoch 10/10\n",
            "1563/1563 [==============================] - 57s 36ms/step - loss: 0.5965 - accuracy: 0.7911 - val_loss: 0.7901 - val_accuracy: 0.7364\n",
            "313/313 [==============================] - 3s 11ms/step - loss: 0.7901 - accuracy: 0.7364\n",
            "Test loss: 0.790083646774292\n",
            "Test accuracy: 0.7364000082015991\n"
          ],
          "name": "stdout"
        }
      ]
    },
    {
      "cell_type": "code",
      "metadata": {
        "id": "SDp7cxK5aMA1",
        "colab_type": "code",
        "colab": {
          "base_uri": "https://localhost:8080/",
          "height": 425
        },
        "outputId": "f80636db-e17d-4b37-a2c7-698e218ec635"
      },
      "source": [
        "#оценим рост сложности при увеличении глубины сети (больше слоев)\n",
        "#\n",
        "# конфигурирование слоев нейросети\n",
        "model = Sequential()\n",
        "\n",
        "# слои нейросети отвественные за свертку и max-pooling\n",
        "model.add(Conv2D(256, (5, 5), padding='same'))\n",
        "model.add(Activation('relu'))\n",
        "model.add(MaxPooling2D(pool_size=(3, 3), strides=2))\n",
        "\n",
        "model.add(Conv2D(384, (3, 3), padding='same'))\n",
        "model.add(Activation('relu'))\n",
        "model.add(Conv2D(384, (3, 3), padding='same'))\n",
        "model.add(Activation('relu'))\n",
        "model.add(Conv2D(256, (3, 3), padding='same'))\n",
        "model.add(Activation('relu'))\n",
        "#добавим еще один слой!\n",
        "model.add(Conv2D(256, (3, 3), padding='same'))\n",
        "model.add(Activation('relu'))\n",
        "model.add(MaxPooling2D(pool_size=(3, 3), strides=2))\n",
        "\n",
        "#добавим еще один слой!\n",
        "model.add(Conv2D(256, (3, 3), padding='same'))\n",
        "model.add(Activation('relu'))\n",
        "model.add(MaxPooling2D(pool_size=(3, 3), strides=2))\n",
        "\n",
        "# полносвязные слои нейронной сети\n",
        "model.add(Flatten())\n",
        "model.add(Dense(4096))\n",
        "model.add(Activation('relu'))\n",
        "model.add(Dropout(0.5))\n",
        "model.add(Dense(4096))\n",
        "model.add(Activation('relu'))\n",
        "model.add(Dense(num_classes))\n",
        "model.add(Activation('softmax'))\n",
        "\n",
        "# компиляция модели\n",
        "model.compile(loss='categorical_crossentropy',\n",
        "              optimizer='SGD',\n",
        "              metrics=['accuracy'])\n",
        "\n",
        "print('Не используется data augmentation')\n",
        "model.fit(x_train, y_train,\n",
        "          batch_size=batch_size,\n",
        "          epochs=epochs,\n",
        "          validation_data=(x_test, y_test),\n",
        "          shuffle=True)\n",
        "\n",
        "\n",
        "# проверка работы обученной модели\n",
        "scores = model.evaluate(x_test, y_test, verbose=1)\n",
        "print('Test loss:', scores[0])\n",
        "print('Test accuracy:', scores[1])\n"
      ],
      "execution_count": 10,
      "outputs": [
        {
          "output_type": "stream",
          "text": [
            "Не используется data augmentation\n",
            "Epoch 1/10\n",
            "1563/1563 [==============================] - 48s 31ms/step - loss: 2.1211 - accuracy: 0.2057 - val_loss: 1.8988 - val_accuracy: 0.2908\n",
            "Epoch 2/10\n",
            "1563/1563 [==============================] - 47s 30ms/step - loss: 1.7363 - accuracy: 0.3635 - val_loss: 1.5981 - val_accuracy: 0.4113\n",
            "Epoch 3/10\n",
            "1563/1563 [==============================] - 48s 30ms/step - loss: 1.5063 - accuracy: 0.4484 - val_loss: 1.3912 - val_accuracy: 0.4877\n",
            "Epoch 4/10\n",
            "1563/1563 [==============================] - 47s 30ms/step - loss: 1.3466 - accuracy: 0.5127 - val_loss: 1.3481 - val_accuracy: 0.5335\n",
            "Epoch 5/10\n",
            "1563/1563 [==============================] - 47s 30ms/step - loss: 1.2053 - accuracy: 0.5707 - val_loss: 1.1501 - val_accuracy: 0.5841\n",
            "Epoch 6/10\n",
            "1563/1563 [==============================] - 47s 30ms/step - loss: 1.0786 - accuracy: 0.6190 - val_loss: 1.0394 - val_accuracy: 0.6306\n",
            "Epoch 7/10\n",
            "1563/1563 [==============================] - 47s 30ms/step - loss: 0.9653 - accuracy: 0.6615 - val_loss: 0.9830 - val_accuracy: 0.6578\n",
            "Epoch 8/10\n",
            "1563/1563 [==============================] - 47s 30ms/step - loss: 0.8682 - accuracy: 0.6951 - val_loss: 1.0343 - val_accuracy: 0.6401\n",
            "Epoch 9/10\n",
            "1563/1563 [==============================] - 47s 30ms/step - loss: 0.7856 - accuracy: 0.7253 - val_loss: 0.8680 - val_accuracy: 0.7090\n",
            "Epoch 10/10\n",
            "1563/1563 [==============================] - 48s 30ms/step - loss: 0.7153 - accuracy: 0.7513 - val_loss: 0.8132 - val_accuracy: 0.7208\n",
            "313/313 [==============================] - 3s 10ms/step - loss: 0.8132 - accuracy: 0.7208\n",
            "Test loss: 0.8132171630859375\n",
            "Test accuracy: 0.72079998254776\n"
          ],
          "name": "stdout"
        }
      ]
    },
    {
      "cell_type": "markdown",
      "metadata": {
        "id": "GAUuEpeOSwHW",
        "colab_type": "text"
      },
      "source": [
        "Вывод: точность получившейся модели - 0.74. Если крутить рулетку, то точность такого случайного классификатора получится = 0.1. Получившийся классификатор в 7 раз лучше случайного. Увеличение кол-ва ядер и слоев не принесло увеличения точности.  "
      ]
    },
    {
      "cell_type": "code",
      "metadata": {
        "id": "080kWwqESwHZ",
        "colab_type": "code",
        "colab": {}
      },
      "source": [
        ""
      ],
      "execution_count": 0,
      "outputs": []
    }
  ]
}