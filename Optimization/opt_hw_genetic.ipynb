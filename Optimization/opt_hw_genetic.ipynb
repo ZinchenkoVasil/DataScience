{
 "cells": [
  {
   "cell_type": "code",
   "execution_count": 1,
   "metadata": {},
   "outputs": [],
   "source": [
    "# библиотека для генерации случайного числа\n",
    "\n",
    "import random\n",
    "\n",
    "  \n",
    "# функция для реализации одноточечного кроссовера\n",
    "\n",
    "def crossover(l, q): \n",
    "# преобразование строки в список для выполнения кроссовера\n",
    "    l = list(l)\n",
    "    q = list(q)  \n",
    "    len_l = len(l)\n",
    "    if len_l != len(q):\n",
    "        raise ValueError('длины геномов родителей должны быть равны!')\n",
    "# генерация случайного числа для выполнения кроссовера\n",
    "    k = random.randint(0, len_l)\n",
    "    print(\"Crossover point :\", k)  \n",
    "# поменять гены\n",
    "    for i in range(k, len_l):\n",
    "        l[i], q[i] = q[i], l[i]\n",
    "    l = ''.join(l)\n",
    "    q = ''.join(q)\n",
    "    print(l)\n",
    "    print(q, \"\\n\\n\")\n",
    "    return l, q"
   ]
  },
  {
   "cell_type": "code",
   "execution_count": 2,
   "metadata": {},
   "outputs": [
    {
     "name": "stdout",
     "output_type": "stream",
     "text": [
      "Parents\n",
      "P1 : 1100110110110011\n",
      "P2 : 1000110011011111 \n",
      "\n"
     ]
    }
   ],
   "source": [
    "s = '1100110110110011'\n",
    "p = '1000110011011111'\n",
    "print(\"Parents\")\n",
    "print(\"P1 :\", s)\n",
    "print(\"P2 :\", p, \"\\n\")"
   ]
  },
  {
   "cell_type": "code",
   "execution_count": 3,
   "metadata": {},
   "outputs": [
    {
     "name": "stdout",
     "output_type": "stream",
     "text": [
      "Crossover point : 11\n",
      "1100110110111111\n",
      "1000110011010011 \n",
      "\n",
      "\n"
     ]
    }
   ],
   "source": [
    "s, p = crossover(s, p)"
   ]
  },
  {
   "cell_type": "code",
   "execution_count": null,
   "metadata": {},
   "outputs": [],
   "source": []
  }
 ],
 "metadata": {
  "kernelspec": {
   "display_name": "Python 3",
   "language": "python",
   "name": "python3"
  },
  "language_info": {
   "codemirror_mode": {
    "name": "ipython",
    "version": 3
   },
   "file_extension": ".py",
   "mimetype": "text/x-python",
   "name": "python",
   "nbconvert_exporter": "python",
   "pygments_lexer": "ipython3",
   "version": "3.7.1"
  }
 },
 "nbformat": 4,
 "nbformat_minor": 2
}
