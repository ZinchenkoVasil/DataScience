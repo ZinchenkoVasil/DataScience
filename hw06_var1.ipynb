{
  "nbformat": 4,
  "nbformat_minor": 0,
  "metadata": {
    "colab": {
      "name": "Untitled4.ipynb",
      "provenance": []
    },
    "kernelspec": {
      "name": "python3",
      "display_name": "Python 3"
    },
    "accelerator": "GPU"
  },
  "cells": [
    {
      "cell_type": "code",
      "metadata": {
        "id": "j5I4BvpjlvCe",
        "colab_type": "code",
        "colab": {
          "base_uri": "https://localhost:8080/",
          "height": 80
        },
        "outputId": "a3462cb3-9097-4c24-95d9-565fb1a0079f"
      },
      "source": [
        "from keras.models import Model\n",
        "from keras.datasets import mnist, fashion_mnist, cifar10\n",
        "from keras.layers import Dense, Flatten, Reshape, Input, AveragePooling2D, Conv2DTranspose, concatenate, Activation, MaxPooling2D, Conv2D, BatchNormalization,RepeatVector, LSTM\n",
        "from keras import backend as K\n",
        "from keras.optimizers import Adam\n",
        "from tensorflow.keras import utils\n",
        "from google.colab import files\n",
        "import matplotlib.pyplot as plt\n",
        "from tensorflow.keras.preprocessing import image\n",
        "import numpy as np\n",
        "import pandas as pd\n",
        "from PIL import Image\n",
        "from sklearn.model_selection import train_test_split\n",
        "from sklearn.preprocessing import StandardScaler"
      ],
      "execution_count": 2,
      "outputs": [
        {
          "output_type": "stream",
          "text": [
            "Using TensorFlow backend.\n"
          ],
          "name": "stderr"
        },
        {
          "output_type": "display_data",
          "data": {
            "text/html": [
              "<p style=\"color: red;\">\n",
              "The default version of TensorFlow in Colab will switch to TensorFlow 2.x on the 27th of March, 2020.<br>\n",
              "We recommend you <a href=\"https://www.tensorflow.org/guide/migrate\" target=\"_blank\">upgrade</a> now\n",
              "or ensure your notebook will continue to use TensorFlow 1.x via the <code>%tensorflow_version 1.x</code> magic:\n",
              "<a href=\"https://colab.research.google.com/notebooks/tensorflow_version.ipynb\" target=\"_blank\">more info</a>.</p>\n"
            ],
            "text/plain": [
              "<IPython.core.display.HTML object>"
            ]
          },
          "metadata": {
            "tags": []
          }
        }
      ]
    },
    {
      "cell_type": "code",
      "metadata": {
        "id": "y_nlM4eel5fi",
        "colab_type": "code",
        "colab": {}
      },
      "source": [
        "def base_model_Autoencoder(level = 2, input_size=(28,28,1), kernel_list=[32,64]):\n",
        "\n",
        "  img_input = Input(input_size)\n",
        "\n",
        "  x = Conv2D(kernel_list[0], (3, 3), padding='same', activation='relu')(img_input)\n",
        "  x = BatchNormalization()(x)\n",
        "  x = Conv2D(kernel_list[0], (3, 3), padding='same', activation='relu')(x)\n",
        "  x = BatchNormalization()(x)\n",
        "  x = MaxPooling2D()(x)\n",
        "\n",
        "  for i in range(level-1):\n",
        "    x = Conv2D(64, (3, 3), padding='same', activation='relu')(x)\n",
        "    x = BatchNormalization()(x)\n",
        "    x = Conv2D(64, (3, 3), padding='same', activation='relu')(x)\n",
        "    x = BatchNormalization()(x)\n",
        "    x = MaxPooling2D()(x)\n",
        "  x1 = x\n",
        "  print(x1.shape)\n",
        "\n",
        "  for i in range(level-1) :\n",
        "    k = -(level-1)+i  \n",
        "\n",
        "    x = Conv2DTranspose(64, (2, 2), strides=(2, 2), padding='same', activation='relu')(x)\n",
        "    x = BatchNormalization()(x)\n",
        "     \n",
        "    x = Conv2D(kernel_list[k], (3, 3), padding='same', activation='relu')(x)\n",
        "    x = BatchNormalization()(x)\n",
        "    x = Conv2D(64, (3, 3), padding='same', activation='relu')(x)\n",
        "    x = BatchNormalization()(x)\n",
        "\n",
        "  x = Conv2DTranspose(kernel_list[0], (2, 2), strides=(2, 2), padding='same', activation='relu')(x)\n",
        "  x = BatchNormalization()(x)\n",
        "  x = Conv2D(kernel_list[0], (3, 3), padding='same', activation='relu')(x)\n",
        "  x = BatchNormalization()(x)\n",
        "  x = Conv2D(kernel_list[0], (3, 3), padding='same', activation='relu')(x)\n",
        "  x = BatchNormalization()(x)\n",
        "\n",
        "  x = Conv2D(1, (3, 3), activation='sigmoid', padding='same')(x)\n",
        "\n",
        "  model = Model(img_input, x)\n",
        "   \n",
        "  modelviz0=Model(img_input, x1)\n",
        "  model.compile(optimizer=Adam(),\n",
        "                  loss='mean_squared_error',\n",
        "                  metrics=['accuracy'])\n",
        "\n",
        "  return model, modelviz0"
      ],
      "execution_count": 0,
      "outputs": []
    },
    {
      "cell_type": "code",
      "metadata": {
        "id": "s0wFlqiBmBut",
        "colab_type": "code",
        "colab": {}
      },
      "source": [
        "(xTrainMnist, yTrainMnist), (xTestMnist, yTestMnist) = mnist.load_data()\n",
        "\n",
        "noice = 0.1 #возьмем коэффициэнт зашумленности 0.1\n",
        "\n",
        "xTrainMnist = xTrainMnist.astype('float32')/255\n",
        "\n",
        "xTrainMnist = xTrainMnist.reshape(xTrainMnist.shape[0], 28, 28, 1)\n",
        "\n",
        "yTrainMnist_pix = xTrainMnist.copy()\n",
        "xTrainMnist += np.random.randn(xTrainMnist.shape[0],xTrainMnist.shape[1],xTrainMnist.shape[2],xTrainMnist.shape[3]) * noice"
      ],
      "execution_count": 0,
      "outputs": []
    },
    {
      "cell_type": "code",
      "metadata": {
        "id": "TkXhAWqlmI6O",
        "colab_type": "code",
        "colab": {
          "base_uri": "https://localhost:8080/",
          "height": 513
        },
        "outputId": "0a53aac3-320d-4931-bade-c6d7922f425e"
      },
      "source": [
        "plt.imshow(xTrainMnist[0,:,:,0])\n",
        "plt.show()\n",
        "plt.imshow(yTrainMnist_pix[0,:,:,0])\n",
        "plt.show()"
      ],
      "execution_count": 13,
      "outputs": [
        {
          "output_type": "display_data",
          "data": {
            "image/png": "[encoded data removed]",
            "text/plain": [
              "<Figure size 432x288 with 1 Axes>"
            ]
          },
          "metadata": {
            "tags": []
          }
        },
        {
          "output_type": "display_data",
          "data": {
            "image/png": "[encoded data removed]",
            "text/plain": [
              "<Figure size 432x288 with 1 Axes>"
            ]
          },
          "metadata": {
            "tags": []
          }
        }
      ]
    },
    {
      "cell_type": "code",
      "metadata": {
        "id": "AiHSR4qqmOUl",
        "colab_type": "code",
        "colab": {
          "base_uri": "https://localhost:8080/",
          "height": 34
        },
        "outputId": "308052fe-2e1a-4e77-c038-c57fdc81cd24"
      },
      "source": [
        "modelAutoMnist, m0 = base_model_Autoencoder(level = 2, input_size=(28,28,1), kernel_list=[32,64])"
      ],
      "execution_count": 14,
      "outputs": [
        {
          "output_type": "stream",
          "text": [
            "(?, 7, 7, 64)\n"
          ],
          "name": "stdout"
        }
      ]
    },
    {
      "cell_type": "code",
      "metadata": {
        "id": "nufPq9MymVR0",
        "colab_type": "code",
        "colab": {
          "base_uri": "https://localhost:8080/",
          "height": 374
        },
        "outputId": "83041c5a-77c0-42e4-9d46-fd763d29bf37"
      },
      "source": [
        "\n",
        "#modelAutoMnist = denoiseAutoencoder()\n",
        "hist=modelAutoMnist.fit(xTrainMnist[:10000], yTrainMnist_pix[:10000], epochs=10, batch_size=100, validation_split=0.2)"
      ],
      "execution_count": 15,
      "outputs": [
        {
          "output_type": "stream",
          "text": [
            "Train on 8000 samples, validate on 2000 samples\n",
            "Epoch 1/10\n",
            "8000/8000 [==============================] - 4s 550us/step - loss: 0.0422 - acc: 0.7871 - val_loss: 0.0108 - val_acc: 0.8133\n",
            "Epoch 2/10\n",
            "8000/8000 [==============================] - 2s 288us/step - loss: 0.0079 - acc: 0.8145 - val_loss: 0.0065 - val_acc: 0.8141\n",
            "Epoch 3/10\n",
            "8000/8000 [==============================] - 2s 290us/step - loss: 0.0056 - acc: 0.8148 - val_loss: 0.0053 - val_acc: 0.8141\n",
            "Epoch 4/10\n",
            "8000/8000 [==============================] - 2s 288us/step - loss: 0.0044 - acc: 0.8148 - val_loss: 0.0046 - val_acc: 0.8142\n",
            "Epoch 5/10\n",
            "8000/8000 [==============================] - 2s 291us/step - loss: 0.0037 - acc: 0.8148 - val_loss: 0.0042 - val_acc: 0.8142\n",
            "Epoch 6/10\n",
            "8000/8000 [==============================] - 2s 296us/step - loss: 0.0034 - acc: 0.8149 - val_loss: 0.0035 - val_acc: 0.8143\n",
            "Epoch 7/10\n",
            "8000/8000 [==============================] - 2s 291us/step - loss: 0.0031 - acc: 0.8149 - val_loss: 0.0033 - val_acc: 0.8143\n",
            "Epoch 8/10\n",
            "8000/8000 [==============================] - 2s 289us/step - loss: 0.0030 - acc: 0.8149 - val_loss: 0.0032 - val_acc: 0.8143\n",
            "Epoch 9/10\n",
            "8000/8000 [==============================] - 2s 292us/step - loss: 0.0027 - acc: 0.8149 - val_loss: 0.0035 - val_acc: 0.8142\n",
            "Epoch 10/10\n",
            "8000/8000 [==============================] - 2s 286us/step - loss: 0.0026 - acc: 0.8149 - val_loss: 0.0028 - val_acc: 0.8143\n"
          ],
          "name": "stdout"
        }
      ]
    },
    {
      "cell_type": "code",
      "metadata": {
        "id": "6Zz_VsKSmgS1",
        "colab_type": "code",
        "colab": {
          "base_uri": "https://localhost:8080/",
          "height": 265
        },
        "outputId": "28db78f6-7158-4f0b-ce87-48e89e0a3124"
      },
      "source": [
        "plt.plot(hist.history['val_acc'],'r',label='val_acc')\n",
        "plt.plot(hist.history['acc'],'g',label='train_acc')\n",
        "plt.legend()\n",
        "plt.show()"
      ],
      "execution_count": 16,
      "outputs": [
        {
          "output_type": "display_data",
          "data": {
            "image/png": "[encoded data removed]",
            "text/plain": [
              "<Figure size 432x288 with 1 Axes>"
            ]
          },
          "metadata": {
            "tags": []
          }
        }
      ]
    },
    {
      "cell_type": "code",
      "metadata": {
        "id": "R5JQi9VZml7l",
        "colab_type": "code",
        "colab": {
          "base_uri": "https://localhost:8080/",
          "height": 969
        },
        "outputId": "5149cefe-5da2-4b81-edc1-1fa8814e0fb7"
      },
      "source": [
        "modelAutoMnist.summary()"
      ],
      "execution_count": 17,
      "outputs": [
        {
          "output_type": "stream",
          "text": [
            "Model: \"model_3\"\n",
            "_________________________________________________________________\n",
            "Layer (type)                 Output Shape              Param #   \n",
            "=================================================================\n",
            "input_2 (InputLayer)         (None, 28, 28, 1)         0         \n",
            "_________________________________________________________________\n",
            "conv2d_10 (Conv2D)           (None, 28, 28, 32)        320       \n",
            "_________________________________________________________________\n",
            "batch_normalization_11 (Batc (None, 28, 28, 32)        128       \n",
            "_________________________________________________________________\n",
            "conv2d_11 (Conv2D)           (None, 28, 28, 32)        9248      \n",
            "_________________________________________________________________\n",
            "batch_normalization_12 (Batc (None, 28, 28, 32)        128       \n",
            "_________________________________________________________________\n",
            "max_pooling2d_3 (MaxPooling2 (None, 14, 14, 32)        0         \n",
            "_________________________________________________________________\n",
            "conv2d_12 (Conv2D)           (None, 14, 14, 64)        18496     \n",
            "_________________________________________________________________\n",
            "batch_normalization_13 (Batc (None, 14, 14, 64)        256       \n",
            "_________________________________________________________________\n",
            "conv2d_13 (Conv2D)           (None, 14, 14, 64)        36928     \n",
            "_________________________________________________________________\n",
            "batch_normalization_14 (Batc (None, 14, 14, 64)        256       \n",
            "_________________________________________________________________\n",
            "max_pooling2d_4 (MaxPooling2 (None, 7, 7, 64)          0         \n",
            "_________________________________________________________________\n",
            "conv2d_transpose_3 (Conv2DTr (None, 14, 14, 64)        16448     \n",
            "_________________________________________________________________\n",
            "batch_normalization_15 (Batc (None, 14, 14, 64)        256       \n",
            "_________________________________________________________________\n",
            "conv2d_14 (Conv2D)           (None, 14, 14, 64)        36928     \n",
            "_________________________________________________________________\n",
            "batch_normalization_16 (Batc (None, 14, 14, 64)        256       \n",
            "_________________________________________________________________\n",
            "conv2d_15 (Conv2D)           (None, 14, 14, 64)        36928     \n",
            "_________________________________________________________________\n",
            "batch_normalization_17 (Batc (None, 14, 14, 64)        256       \n",
            "_________________________________________________________________\n",
            "conv2d_transpose_4 (Conv2DTr (None, 28, 28, 32)        8224      \n",
            "_________________________________________________________________\n",
            "batch_normalization_18 (Batc (None, 28, 28, 32)        128       \n",
            "_________________________________________________________________\n",
            "conv2d_16 (Conv2D)           (None, 28, 28, 32)        9248      \n",
            "_________________________________________________________________\n",
            "batch_normalization_19 (Batc (None, 28, 28, 32)        128       \n",
            "_________________________________________________________________\n",
            "conv2d_17 (Conv2D)           (None, 28, 28, 32)        9248      \n",
            "_________________________________________________________________\n",
            "batch_normalization_20 (Batc (None, 28, 28, 32)        128       \n",
            "_________________________________________________________________\n",
            "conv2d_18 (Conv2D)           (None, 28, 28, 1)         289       \n",
            "=================================================================\n",
            "Total params: 184,225\n",
            "Trainable params: 183,265\n",
            "Non-trainable params: 960\n",
            "_________________________________________________________________\n"
          ],
          "name": "stdout"
        }
      ]
    },
    {
      "cell_type": "code",
      "metadata": {
        "id": "EOhmXh5am8M9",
        "colab_type": "code",
        "colab": {
          "base_uri": "https://localhost:8080/",
          "height": 51
        },
        "outputId": "89e6e732-d202-4ed2-b75a-74e057b20c91"
      },
      "source": [
        "mask = np.where(yTrainMnist == 0)\n",
        "\n",
        "y_pred=modelAutoMnist.predict(xTrainMnist[mask[0]])\n",
        "\n",
        "ff=m0.predict(xTrainMnist[mask[0]])\n",
        "print(ff.shape)\n",
        "\n",
        "ff = np.mean(ff, axis=0)\n",
        "print(ff.shape)"
      ],
      "execution_count": 18,
      "outputs": [
        {
          "output_type": "stream",
          "text": [
            "(5923, 7, 7, 64)\n",
            "(7, 7, 64)\n"
          ],
          "name": "stdout"
        }
      ]
    },
    {
      "cell_type": "code",
      "metadata": {
        "id": "UAFuS3IIm-Sd",
        "colab_type": "code",
        "colab": {
          "base_uri": "https://localhost:8080/",
          "height": 1000
        },
        "outputId": "b4034425-3ae7-4e45-e8af-bf002fec03e7"
      },
      "source": [
        "plt.imshow(xTrainMnist[mask[0]][1,:,:,0])\n",
        "plt.show()\n",
        "plt.imshow(y_pred[1,:,:,0])\n",
        "plt.show()\n",
        "plt.imshow(yTrainMnist_pix[mask[0]][1,:,:,0])\n",
        "plt.show()\n",
        "\n",
        "g1=ff[:,:,0]\n",
        "plt.subplot(311)\n",
        "plt.imshow(g1)\n",
        "g1=ff[:,:,1]\n",
        "plt.subplot(312)\n",
        "plt.imshow(g1)\n",
        "g1=ff[:,:,2]\n",
        "plt.subplot(313)\n",
        "plt.imshow(g1)\n",
        "plt.show()"
      ],
      "execution_count": 19,
      "outputs": [
        {
          "output_type": "display_data",
          "data": {
            "image/png": "[encoded data removed]",
            "text/plain": [
              "<Figure size 432x288 with 1 Axes>"
            ]
          },
          "metadata": {
            "tags": []
          }
        },
        {
          "output_type": "display_data",
          "data": {
            "image/png": "[encoded data removed]",
            "text/plain": [
              "<Figure size 432x288 with 1 Axes>"
            ]
          },
          "metadata": {
            "tags": []
          }
        },
        {
          "output_type": "display_data",
          "data": {
            "image/png": "[encoded data removed]",
            "text/plain": [
              "<Figure size 432x288 with 1 Axes>"
            ]
          },
          "metadata": {
            "tags": []
          }
        },
        {
          "output_type": "display_data",
          "data": {
            "image/png": "[encoded data removed]",
            "text/plain": [
              "<Figure size 432x288 with 3 Axes>"
            ]
          },
          "metadata": {
            "tags": []
          }
        }
      ]
    },
    {
      "cell_type": "code",
      "metadata": {
        "id": "z-sTBVStsGiR",
        "colab_type": "code",
        "colab": {}
      },
      "source": [
        "(xTrainMnist, yTrainMnist), (xTestMnist, yTestMnist) = mnist.load_data()\n",
        "\n",
        "noice = 0.4 #возьмем коэффициэнт зашумленности 0.1\n",
        "\n",
        "xTrainMnist = xTrainMnist.astype('float32')/255\n",
        "\n",
        "xTrainMnist = xTrainMnist.reshape(xTrainMnist.shape[0], 28, 28, 1)\n",
        "\n",
        "yTrainMnist_pix = xTrainMnist.copy()\n",
        "xTrainMnist += np.random.randn(xTrainMnist.shape[0],xTrainMnist.shape[1],xTrainMnist.shape[2],xTrainMnist.shape[3]) * noice"
      ],
      "execution_count": 0,
      "outputs": []
    },
    {
      "cell_type": "code",
      "metadata": {
        "id": "_LJlYw6yskcP",
        "colab_type": "code",
        "colab": {
          "base_uri": "https://localhost:8080/",
          "height": 513
        },
        "outputId": "a10013a7-4453-4fe9-ef23-8551ee8f50cd"
      },
      "source": [
        "plt.imshow(xTrainMnist[0,:,:,0])\n",
        "plt.show()\n",
        "plt.imshow(yTrainMnist_pix[0,:,:,0])\n",
        "plt.show()"
      ],
      "execution_count": 22,
      "outputs": [
        {
          "output_type": "display_data",
          "data": {
            "image/png": "[encoded data removed]",
            "text/plain": [
              "<Figure size 432x288 with 1 Axes>"
            ]
          },
          "metadata": {
            "tags": []
          }
        },
        {
          "output_type": "display_data",
          "data": {
            "image/png": "[encoded data removed]",
            "text/plain": [
              "<Figure size 432x288 with 1 Axes>"
            ]
          },
          "metadata": {
            "tags": []
          }
        }
      ]
    },
    {
      "cell_type": "code",
      "metadata": {
        "id": "yD6nZH8xstvs",
        "colab_type": "code",
        "colab": {
          "base_uri": "https://localhost:8080/",
          "height": 374
        },
        "outputId": "54e5da8f-3fb7-4913-87fb-b68805cb7081"
      },
      "source": [
        "\n",
        "#modelAutoMnist = denoiseAutoencoder()\n",
        "hist=modelAutoMnist.fit(xTrainMnist[:10000], yTrainMnist_pix[:10000], epochs=10, batch_size=100, validation_split=0.2)"
      ],
      "execution_count": 23,
      "outputs": [
        {
          "output_type": "stream",
          "text": [
            "Train on 8000 samples, validate on 2000 samples\n",
            "Epoch 1/10\n",
            "8000/8000 [==============================] - 2s 293us/step - loss: 0.0089 - acc: 0.8138 - val_loss: 0.0097 - val_acc: 0.8121\n",
            "Epoch 2/10\n",
            "8000/8000 [==============================] - 2s 288us/step - loss: 0.0079 - acc: 0.8140 - val_loss: 0.0079 - val_acc: 0.8134\n",
            "Epoch 3/10\n",
            "8000/8000 [==============================] - 2s 289us/step - loss: 0.0075 - acc: 0.8141 - val_loss: 0.0075 - val_acc: 0.8134\n",
            "Epoch 4/10\n",
            "8000/8000 [==============================] - 2s 291us/step - loss: 0.0073 - acc: 0.8142 - val_loss: 0.0075 - val_acc: 0.8135\n",
            "Epoch 5/10\n",
            "8000/8000 [==============================] - 2s 292us/step - loss: 0.0070 - acc: 0.8142 - val_loss: 0.0074 - val_acc: 0.8136\n",
            "Epoch 6/10\n",
            "8000/8000 [==============================] - 2s 285us/step - loss: 0.0069 - acc: 0.8142 - val_loss: 0.0073 - val_acc: 0.8135\n",
            "Epoch 7/10\n",
            "8000/8000 [==============================] - 2s 284us/step - loss: 0.0067 - acc: 0.8143 - val_loss: 0.0074 - val_acc: 0.8134\n",
            "Epoch 8/10\n",
            "8000/8000 [==============================] - 2s 285us/step - loss: 0.0066 - acc: 0.8143 - val_loss: 0.0083 - val_acc: 0.8129\n",
            "Epoch 9/10\n",
            "8000/8000 [==============================] - 2s 285us/step - loss: 0.0065 - acc: 0.8143 - val_loss: 0.0073 - val_acc: 0.8134\n",
            "Epoch 10/10\n",
            "8000/8000 [==============================] - 2s 283us/step - loss: 0.0064 - acc: 0.8144 - val_loss: 0.0072 - val_acc: 0.8134\n"
          ],
          "name": "stdout"
        }
      ]
    },
    {
      "cell_type": "code",
      "metadata": {
        "id": "7vgElrYisv7g",
        "colab_type": "code",
        "colab": {
          "base_uri": "https://localhost:8080/",
          "height": 265
        },
        "outputId": "bd45a64e-3639-463d-922e-4b0c67f723f6"
      },
      "source": [
        "plt.plot(hist.history['val_acc'],'r',label='val_acc')\n",
        "plt.plot(hist.history['acc'],'g',label='train_acc')\n",
        "plt.legend()\n",
        "plt.show()"
      ],
      "execution_count": 24,
      "outputs": [
        {
          "output_type": "display_data",
          "data": {
            "image/png": "[encoded data removed]",
            "text/plain": [
              "<Figure size 432x288 with 1 Axes>"
            ]
          },
          "metadata": {
            "tags": []
          }
        }
      ]
    },
    {
      "cell_type": "code",
      "metadata": {
        "id": "QBZ7i6r3wnRB",
        "colab_type": "code",
        "colab": {}
      },
      "source": [
        "(xTrainMnist, yTrainMnist), (xTestMnist, yTestMnist) = mnist.load_data()\n",
        "\n",
        "noice = 0.9 #возьмем коэффициэнт зашумленности 0.1\n",
        "\n",
        "xTrainMnist = xTrainMnist.astype('float32')/255\n",
        "\n",
        "xTrainMnist = xTrainMnist.reshape(xTrainMnist.shape[0], 28, 28, 1)\n",
        "\n",
        "yTrainMnist_pix = xTrainMnist.copy()\n",
        "xTrainMnist += np.random.randn(xTrainMnist.shape[0],xTrainMnist.shape[1],xTrainMnist.shape[2],xTrainMnist.shape[3]) * noice"
      ],
      "execution_count": 0,
      "outputs": []
    },
    {
      "cell_type": "code",
      "metadata": {
        "id": "PA0c5TXNwtx2",
        "colab_type": "code",
        "colab": {
          "base_uri": "https://localhost:8080/",
          "height": 513
        },
        "outputId": "5d5262c4-2ace-48f3-d2b9-69465361996f"
      },
      "source": [
        "plt.imshow(xTrainMnist[0,:,:,0])\n",
        "plt.show()\n",
        "plt.imshow(yTrainMnist_pix[0,:,:,0])\n",
        "plt.show()"
      ],
      "execution_count": 26,
      "outputs": [
        {
          "output_type": "display_data",
          "data": {
            "image/png": "[encoded data removed]",
            "text/plain": [
              "<Figure size 432x288 with 1 Axes>"
            ]
          },
          "metadata": {
            "tags": []
          }
        },
        {
          "output_type": "display_data",
          "data": {
            "image/png": "[encoded data removed]",
            "text/plain": [
              "<Figure size 432x288 with 1 Axes>"
            ]
          },
          "metadata": {
            "tags": []
          }
        }
      ]
    },
    {
      "cell_type": "code",
      "metadata": {
        "id": "iccT5RTBwzpa",
        "colab_type": "code",
        "colab": {
          "base_uri": "https://localhost:8080/",
          "height": 374
        },
        "outputId": "b3d3da6e-faf8-4bb1-9897-e8504dcaac4a"
      },
      "source": [
        "\n",
        "#modelAutoMnist = denoiseAutoencoder()\n",
        "hist=modelAutoMnist.fit(xTrainMnist[:10000], yTrainMnist_pix[:10000], epochs=10, batch_size=100, validation_split=0.2)"
      ],
      "execution_count": 27,
      "outputs": [
        {
          "output_type": "stream",
          "text": [
            "Train on 8000 samples, validate on 2000 samples\n",
            "Epoch 1/10\n",
            "8000/8000 [==============================] - 2s 298us/step - loss: 0.0266 - acc: 0.8059 - val_loss: 0.0407 - val_acc: 0.7803\n",
            "Epoch 2/10\n",
            "8000/8000 [==============================] - 2s 288us/step - loss: 0.0240 - acc: 0.8072 - val_loss: 0.0271 - val_acc: 0.8006\n",
            "Epoch 3/10\n",
            "8000/8000 [==============================] - 2s 291us/step - loss: 0.0231 - acc: 0.8077 - val_loss: 0.0250 - val_acc: 0.8040\n",
            "Epoch 4/10\n",
            "8000/8000 [==============================] - 2s 292us/step - loss: 0.0222 - acc: 0.8080 - val_loss: 0.0243 - val_acc: 0.8071\n",
            "Epoch 5/10\n",
            "8000/8000 [==============================] - 2s 292us/step - loss: 0.0216 - acc: 0.8083 - val_loss: 0.0242 - val_acc: 0.8069\n",
            "Epoch 6/10\n",
            "8000/8000 [==============================] - 2s 289us/step - loss: 0.0212 - acc: 0.8085 - val_loss: 0.0253 - val_acc: 0.8053\n",
            "Epoch 7/10\n",
            "8000/8000 [==============================] - 2s 289us/step - loss: 0.0211 - acc: 0.8085 - val_loss: 0.0244 - val_acc: 0.8067\n",
            "Epoch 8/10\n",
            "8000/8000 [==============================] - 2s 287us/step - loss: 0.0201 - acc: 0.8091 - val_loss: 0.0245 - val_acc: 0.8060\n",
            "Epoch 9/10\n",
            "8000/8000 [==============================] - 2s 289us/step - loss: 0.0195 - acc: 0.8094 - val_loss: 0.0242 - val_acc: 0.8062\n",
            "Epoch 10/10\n",
            "8000/8000 [==============================] - 2s 289us/step - loss: 0.0189 - acc: 0.8097 - val_loss: 0.0244 - val_acc: 0.8061\n"
          ],
          "name": "stdout"
        }
      ]
    },
    {
      "cell_type": "code",
      "metadata": {
        "id": "tivaqy5Dw5Xd",
        "colab_type": "code",
        "colab": {
          "base_uri": "https://localhost:8080/",
          "height": 265
        },
        "outputId": "ce427ee9-8b2f-4f03-b34e-ba5f939c43fc"
      },
      "source": [
        "plt.plot(hist.history['val_acc'],'r',label='val_acc')\n",
        "plt.plot(hist.history['acc'],'g',label='train_acc')\n",
        "plt.legend()\n",
        "plt.show()"
      ],
      "execution_count": 28,
      "outputs": [
        {
          "output_type": "display_data",
          "data": {
            "image/png": "[encoded data removed]",
            "text/plain": [
              "<Figure size 432x288 with 1 Axes>"
            ]
          },
          "metadata": {
            "tags": []
          }
        }
      ]
    },
    {
      "cell_type": "markdown",
      "metadata": {
        "id": "SKMtSD6pxwan",
        "colab_type": "text"
      },
      "source": [
        "Вывод: при увеличении зашумленности точность немного падает.\n",
        "При noise = 0.1: train_acc = 0.815; val_acc = 0.814.\n",
        "При noise = 0.4: train_acc = 0.814; val_acc = 0.8135.\n",
        "При noise = 0.9: train_acc = 0.807; val_acc = 0.806.\n"
      ]
    },
    {
      "cell_type": "code",
      "metadata": {
        "id": "ZgdGVCp9zJjk",
        "colab_type": "code",
        "colab": {}
      },
      "source": [
        ""
      ],
      "execution_count": 0,
      "outputs": []
    },
    {
      "cell_type": "code",
      "metadata": {
        "id": "8BfJJnBwy_7m",
        "colab_type": "code",
        "colab": {}
      },
      "source": [
        ""
      ],
      "execution_count": 0,
      "outputs": []
    }
  ]
}