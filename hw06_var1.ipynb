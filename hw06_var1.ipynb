{
 "cells": [
  {
   "cell_type": "code",
   "execution_count": 0,
   "metadata": {
    "colab": {},
    "colab_type": "code",
    "id": "j5I4BvpjlvCe"
   },
   "outputs": [],
   "source": [
    "from keras.models import Model\n",
    "from keras.datasets import mnist, fashion_mnist, cifar10\n",
    "from keras.layers import Dense, Flatten, Reshape, Input, AveragePooling2D, Conv2DTranspose, concatenate, Activation, MaxPooling2D, Conv2D, BatchNormalization,RepeatVector, LSTM\n",
    "from keras import backend as K\n",
    "from keras.optimizers import Adam\n",
    "from tensorflow.keras import utils\n",
    "from google.colab import files\n",
    "import matplotlib.pyplot as plt\n",
    "from tensorflow.keras.preprocessing import image\n",
    "import numpy as np\n",
    "import pandas as pd\n",
    "from PIL import Image\n",
    "from sklearn.model_selection import train_test_split\n",
    "from sklearn.preprocessing import StandardScaler"
   ]
  },
  {
   "cell_type": "code",
   "execution_count": 0,
   "metadata": {
    "colab": {},
    "colab_type": "code",
    "id": "y_nlM4eel5fi"
   },
   "outputs": [],
   "source": [
    "def base_model_Autoencoder(level = 2, input_size=(28,28,1), kernel_list=[32,64]):\n",
    "\n",
    "  img_input = Input(input_size)\n",
    "\n",
    "  x = Conv2D(kernel_list[0], (3, 3), padding='same', activation='relu')(img_input)\n",
    "  x = BatchNormalization()(x)\n",
    "  x = Conv2D(kernel_list[0], (3, 3), padding='same', activation='relu')(x)\n",
    "  x = BatchNormalization()(x)\n",
    "  x = MaxPooling2D()(x)\n",
    "\n",
    "  for i in range(level-1):\n",
    "    x = Conv2D(64, (3, 3), padding='same', activation='relu')(x)\n",
    "    x = BatchNormalization()(x)\n",
    "    x = Conv2D(64, (3, 3), padding='same', activation='relu')(x)\n",
    "    x = BatchNormalization()(x)\n",
    "    x = MaxPooling2D()(x)\n",
    "  x1 = x\n",
    "  print(x1.shape)\n",
    "\n",
    "  for i in range(level-1) :\n",
    "    k = -(level-1)+i  \n",
    "\n",
    "    x = Conv2DTranspose(64, (2, 2), strides=(2, 2), padding='same', activation='relu')(x)\n",
    "    x = BatchNormalization()(x)\n",
    "     \n",
    "    x = Conv2D(kernel_list[k], (3, 3), padding='same', activation='relu')(x)\n",
    "    x = BatchNormalization()(x)\n",
    "    x = Conv2D(64, (3, 3), padding='same', activation='relu')(x)\n",
    "    x = BatchNormalization()(x)\n",
    "\n",
    "  x = Conv2DTranspose(kernel_list[0], (2, 2), strides=(2, 2), padding='same', activation='relu')(x)\n",
    "  x = BatchNormalization()(x)\n",
    "  x = Conv2D(kernel_list[0], (3, 3), padding='same', activation='relu')(x)\n",
    "  x = BatchNormalization()(x)\n",
    "  x = Conv2D(kernel_list[0], (3, 3), padding='same', activation='relu')(x)\n",
    "  x = BatchNormalization()(x)\n",
    "\n",
    "  x = Conv2D(1, (3, 3), activation='sigmoid', padding='same')(x)\n",
    "\n",
    "  model = Model(img_input, x)\n",
    "   \n",
    "  modelviz0=Model(img_input, x1)\n",
    "  model.compile(optimizer=Adam(),\n",
    "                  loss='mean_squared_error',\n",
    "                  metrics=['accuracy'])\n",
    "\n",
    "  return model, modelviz0"
   ]
  },
  {
   "cell_type": "code",
   "execution_count": 0,
   "metadata": {
    "colab": {},
    "colab_type": "code",
    "id": "s0wFlqiBmBut"
   },
   "outputs": [],
   "source": [
    "(xTrainMnist, yTrainMnist), (xTestMnist, yTestMnist) = mnist.load_data()\n",
    "\n",
    "noice = 0.9 #возьмем коэффициэнт зашумленности 0.9\n",
    "\n",
    "xTrainMnist = xTrainMnist.astype('float32')/255\n",
    "\n",
    "xTrainMnist = xTrainMnist.reshape(xTrainMnist.shape[0], 28, 28, 1)\n",
    "\n",
    "yTrainMnist_pix = xTrainMnist.copy()\n",
    "xTrainMnist += np.random.randn(xTrainMnist.shape[0],xTrainMnist.shape[1],xTrainMnist.shape[2],xTrainMnist.shape[3]) * noice"
   ]
  },
  {
   "cell_type": "code",
   "execution_count": 205,
   "metadata": {
    "colab": {
     "base_uri": "https://localhost:8080/",
     "height": 513
    },
    "colab_type": "code",
    "id": "TkXhAWqlmI6O",
    "outputId": "8a46461b-c41f-4b86-88ea-6a61cad3ab0e"
   },
   "outputs": [
    {
     "data": {
      "image/png": "[encoded data removed]",
      "text/plain": [
       "<Figure size 432x288 with 1 Axes>"
      ]
     },
     "metadata": {
      "tags": []
     },
     "output_type": "display_data"
    },
    {
     "data": {
      "image/png": "[encoded data removed]",
      "text/plain": [
       "<Figure size 432x288 with 1 Axes>"
      ]
     },
     "metadata": {
      "tags": []
     },
     "output_type": "display_data"
    }
   ],
   "source": [
    "plt.imshow(xTrainMnist[0,:,:,0])\n",
    "plt.show()\n",
    "plt.imshow(yTrainMnist_pix[0,:,:,0])\n",
    "plt.show()"
   ]
  },
  {
   "cell_type": "code",
   "execution_count": 206,
   "metadata": {
    "colab": {
     "base_uri": "https://localhost:8080/",
     "height": 34
    },
    "colab_type": "code",
    "id": "AiHSR4qqmOUl",
    "outputId": "576fb31d-205b-42ea-d8ce-de4f2fae766f"
   },
   "outputs": [
    {
     "name": "stdout",
     "output_type": "stream",
     "text": [
      "(?, 7, 7, 64)\n"
     ]
    }
   ],
   "source": [
    "modelAutoMnist, m0 = base_model_Autoencoder(level = 2, input_size=(28,28,1), kernel_list=[32,64])"
   ]
  },
  {
   "cell_type": "code",
   "execution_count": 207,
   "metadata": {
    "colab": {
     "base_uri": "https://localhost:8080/",
     "height": 374
    },
    "colab_type": "code",
    "id": "nufPq9MymVR0",
    "outputId": "73eb936d-1a74-4c3d-8a6d-f48beb7b475e"
   },
   "outputs": [
    {
     "name": "stdout",
     "output_type": "stream",
     "text": [
      "Train on 8000 samples, validate on 2000 samples\n",
      "Epoch 1/10\n",
      "8000/8000 [==============================] - 12s 1ms/step - loss: 0.0669 - acc: 0.7756 - val_loss: 0.0376 - val_acc: 0.8068\n",
      "Epoch 2/10\n",
      "8000/8000 [==============================] - 5s 618us/step - loss: 0.0319 - acc: 0.8052 - val_loss: 0.0312 - val_acc: 0.8073\n",
      "Epoch 3/10\n",
      "8000/8000 [==============================] - 5s 615us/step - loss: 0.0276 - acc: 0.8064 - val_loss: 0.0285 - val_acc: 0.8076\n",
      "Epoch 4/10\n",
      "8000/8000 [==============================] - 5s 619us/step - loss: 0.0258 - acc: 0.8069 - val_loss: 0.0284 - val_acc: 0.8087\n",
      "Epoch 5/10\n",
      "8000/8000 [==============================] - 5s 618us/step - loss: 0.0247 - acc: 0.8073 - val_loss: 0.0267 - val_acc: 0.8080\n",
      "Epoch 6/10\n",
      "8000/8000 [==============================] - 5s 611us/step - loss: 0.0239 - acc: 0.8076 - val_loss: 0.0274 - val_acc: 0.8089\n",
      "Epoch 7/10\n",
      "8000/8000 [==============================] - 5s 615us/step - loss: 0.0233 - acc: 0.8079 - val_loss: 0.0260 - val_acc: 0.8082\n",
      "Epoch 8/10\n",
      "8000/8000 [==============================] - 5s 617us/step - loss: 0.0224 - acc: 0.8082 - val_loss: 0.0258 - val_acc: 0.8075\n",
      "Epoch 9/10\n",
      "8000/8000 [==============================] - 5s 615us/step - loss: 0.0219 - acc: 0.8085 - val_loss: 0.0255 - val_acc: 0.8061\n",
      "Epoch 10/10\n",
      "8000/8000 [==============================] - 5s 619us/step - loss: 0.0213 - acc: 0.8088 - val_loss: 0.0253 - val_acc: 0.8067\n"
     ]
    }
   ],
   "source": [
    "\n",
    "#modelAutoMnist = denoiseAutoencoder()\n",
    "hist=modelAutoMnist.fit(xTrainMnist[:10000], yTrainMnist_pix[:10000], epochs=10, batch_size=100, validation_split=0.2)"
   ]
  },
  {
   "cell_type": "code",
   "execution_count": 208,
   "metadata": {
    "colab": {
     "base_uri": "https://localhost:8080/",
     "height": 266
    },
    "colab_type": "code",
    "id": "6Zz_VsKSmgS1",
    "outputId": "9c331bf2-76f5-43d7-e0c4-2b943af0961d"
   },
   "outputs": [
    {
     "data": {
      "image/png": "[encoded data removed]",
      "text/plain": [
       "<Figure size 432x288 with 1 Axes>"
      ]
     },
     "metadata": {
      "tags": []
     },
     "output_type": "display_data"
    }
   ],
   "source": [
    "plt.plot(hist.history['val_acc'],'r',label='val_acc')\n",
    "plt.plot(hist.history['acc'],'g',label='train_acc')\n",
    "plt.legend()\n",
    "plt.show()"
   ]
  },
  {
   "cell_type": "code",
   "execution_count": 209,
   "metadata": {
    "colab": {
     "base_uri": "https://localhost:8080/",
     "height": 34
    },
    "colab_type": "code",
    "id": "IuuLJlqwIOOg",
    "outputId": "44aa8308-edd1-4853-a2f2-f3db032762c1"
   },
   "outputs": [
    {
     "name": "stdout",
     "output_type": "stream",
     "text": [
      "(60000, 28, 28, 1)\n"
     ]
    }
   ],
   "source": [
    "y_pred=modelAutoMnist.predict(xTrainMnist)\n",
    "print(y_pred.shape)\n"
   ]
  },
  {
   "cell_type": "code",
   "execution_count": 210,
   "metadata": {
    "colab": {
     "base_uri": "https://localhost:8080/",
     "height": 34
    },
    "colab_type": "code",
    "id": "eNsVnbypDWYN",
    "outputId": "b4fb5c38-ce0d-42c7-bb3f-825ce396a985"
   },
   "outputs": [
    {
     "name": "stdout",
     "output_type": "stream",
     "text": [
      "0.006943622448979592\n"
     ]
    }
   ],
   "source": [
    "\n",
    "\n",
    "int_yTrainMnist = (yTrainMnist_pix.flatten()*255).round() \n",
    "int_y_pred = (y_pred.flatten()*255).round()\n",
    "y_filtered = int_y_pred[int_yTrainMnist == int_y_pred]\n",
    "dice = len(y_filtered) * 2.0/(len(int_yTrainMnist) + len(int_y_pred)) \n",
    "print(dice)"
   ]
  },
  {
   "cell_type": "code",
   "execution_count": 211,
   "metadata": {
    "colab": {
     "base_uri": "https://localhost:8080/",
     "height": 969
    },
    "colab_type": "code",
    "id": "R5JQi9VZml7l",
    "outputId": "55239f61-a8da-4718-e0e7-3e99f052b302"
   },
   "outputs": [
    {
     "name": "stdout",
     "output_type": "stream",
     "text": [
      "Model: \"model_21\"\n",
      "_________________________________________________________________\n",
      "Layer (type)                 Output Shape              Param #   \n",
      "=================================================================\n",
      "input_11 (InputLayer)        (None, 28, 28, 1)         0         \n",
      "_________________________________________________________________\n",
      "conv2d_91 (Conv2D)           (None, 28, 28, 32)        320       \n",
      "_________________________________________________________________\n",
      "batch_normalization_101 (Bat (None, 28, 28, 32)        128       \n",
      "_________________________________________________________________\n",
      "conv2d_92 (Conv2D)           (None, 28, 28, 32)        9248      \n",
      "_________________________________________________________________\n",
      "batch_normalization_102 (Bat (None, 28, 28, 32)        128       \n",
      "_________________________________________________________________\n",
      "max_pooling2d_21 (MaxPooling (None, 14, 14, 32)        0         \n",
      "_________________________________________________________________\n",
      "conv2d_93 (Conv2D)           (None, 14, 14, 64)        18496     \n",
      "_________________________________________________________________\n",
      "batch_normalization_103 (Bat (None, 14, 14, 64)        256       \n",
      "_________________________________________________________________\n",
      "conv2d_94 (Conv2D)           (None, 14, 14, 64)        36928     \n",
      "_________________________________________________________________\n",
      "batch_normalization_104 (Bat (None, 14, 14, 64)        256       \n",
      "_________________________________________________________________\n",
      "max_pooling2d_22 (MaxPooling (None, 7, 7, 64)          0         \n",
      "_________________________________________________________________\n",
      "conv2d_transpose_21 (Conv2DT (None, 14, 14, 64)        16448     \n",
      "_________________________________________________________________\n",
      "batch_normalization_105 (Bat (None, 14, 14, 64)        256       \n",
      "_________________________________________________________________\n",
      "conv2d_95 (Conv2D)           (None, 14, 14, 64)        36928     \n",
      "_________________________________________________________________\n",
      "batch_normalization_106 (Bat (None, 14, 14, 64)        256       \n",
      "_________________________________________________________________\n",
      "conv2d_96 (Conv2D)           (None, 14, 14, 64)        36928     \n",
      "_________________________________________________________________\n",
      "batch_normalization_107 (Bat (None, 14, 14, 64)        256       \n",
      "_________________________________________________________________\n",
      "conv2d_transpose_22 (Conv2DT (None, 28, 28, 32)        8224      \n",
      "_________________________________________________________________\n",
      "batch_normalization_108 (Bat (None, 28, 28, 32)        128       \n",
      "_________________________________________________________________\n",
      "conv2d_97 (Conv2D)           (None, 28, 28, 32)        9248      \n",
      "_________________________________________________________________\n",
      "batch_normalization_109 (Bat (None, 28, 28, 32)        128       \n",
      "_________________________________________________________________\n",
      "conv2d_98 (Conv2D)           (None, 28, 28, 32)        9248      \n",
      "_________________________________________________________________\n",
      "batch_normalization_110 (Bat (None, 28, 28, 32)        128       \n",
      "_________________________________________________________________\n",
      "conv2d_99 (Conv2D)           (None, 28, 28, 1)         289       \n",
      "=================================================================\n",
      "Total params: 184,225\n",
      "Trainable params: 183,265\n",
      "Non-trainable params: 960\n",
      "_________________________________________________________________\n"
     ]
    }
   ],
   "source": [
    "modelAutoMnist.summary()"
   ]
  },
  {
   "cell_type": "code",
   "execution_count": 213,
   "metadata": {
    "colab": {
     "base_uri": "https://localhost:8080/",
     "height": 51
    },
    "colab_type": "code",
    "id": "EOhmXh5am8M9",
    "outputId": "69ba9e89-a000-49de-f3b3-b1fe14c8da92"
   },
   "outputs": [
    {
     "name": "stdout",
     "output_type": "stream",
     "text": [
      "(5923, 7, 7, 64)\n",
      "(7, 7, 64)\n"
     ]
    }
   ],
   "source": [
    "mask = np.where(yTrainMnist == 0)\n",
    "\n",
    "y_pred=modelAutoMnist.predict(xTrainMnist[mask[0]])\n",
    "\n",
    "ff=m0.predict(xTrainMnist[mask[0]])\n",
    "print(ff.shape)\n",
    "\n",
    "ff = np.mean(ff, axis=0)\n",
    "print(ff.shape)"
   ]
  },
  {
   "cell_type": "code",
   "execution_count": 215,
   "metadata": {
    "colab": {
     "base_uri": "https://localhost:8080/",
     "height": 1000
    },
    "colab_type": "code",
    "id": "UAFuS3IIm-Sd",
    "outputId": "c95b10f7-76e2-4635-a3e0-670fca05a338"
   },
   "outputs": [
    {
     "data": {
      "image/png": "[encoded data removed]",
      "text/plain": [
       "<Figure size 432x288 with 1 Axes>"
      ]
     },
     "metadata": {
      "tags": []
     },
     "output_type": "display_data"
    },
    {
     "data": {
      "image/png": "[encoded data removed]",
      "text/plain": [
       "<Figure size 432x288 with 1 Axes>"
      ]
     },
     "metadata": {
      "tags": []
     },
     "output_type": "display_data"
    },
    {
     "data": {
      "image/png": "[encoded data removed]",
      "text/plain": [
       "<Figure size 432x288 with 1 Axes>"
      ]
     },
     "metadata": {
      "tags": []
     },
     "output_type": "display_data"
    },
    {
     "data": {
      "image/png": "[encoded data removed]",
      "text/plain": [
       "<Figure size 432x288 with 3 Axes>"
      ]
     },
     "metadata": {
      "tags": []
     },
     "output_type": "display_data"
    }
   ],
   "source": [
    "plt.imshow(xTrainMnist[mask[0]][1,:,:,0])\n",
    "plt.show()\n",
    "plt.imshow(y_pred[1,:,:,0])\n",
    "plt.show()\n",
    "plt.imshow(yTrainMnist_pix[mask[0]][1,:,:,0])\n",
    "plt.show()\n",
    "\n",
    "g1=ff[:,:,0]\n",
    "plt.subplot(311)\n",
    "plt.imshow(g1)\n",
    "g1=ff[:,:,1]\n",
    "plt.subplot(312)\n",
    "plt.imshow(g1)\n",
    "g1=ff[:,:,2]\n",
    "plt.subplot(313)\n",
    "plt.imshow(g1)\n",
    "plt.show()"
   ]
  },
  {
   "cell_type": "code",
   "execution_count": 0,
   "metadata": {
    "colab": {},
    "colab_type": "code",
    "id": "z-sTBVStsGiR"
   },
   "outputs": [],
   "source": [
    "(xTrainMnist, yTrainMnist), (xTestMnist, yTestMnist) = mnist.load_data()\n",
    "\n",
    "noice = 0.4 #возьмем коэффициэнт зашумленности 0.4\n",
    "\n",
    "xTrainMnist = xTrainMnist.astype('float32')/255\n",
    "\n",
    "xTrainMnist = xTrainMnist.reshape(xTrainMnist.shape[0], 28, 28, 1)\n",
    "\n",
    "yTrainMnist_pix = xTrainMnist.copy()\n",
    "xTrainMnist += np.random.randn(xTrainMnist.shape[0],xTrainMnist.shape[1],xTrainMnist.shape[2],xTrainMnist.shape[3]) * noice"
   ]
  },
  {
   "cell_type": "code",
   "execution_count": 217,
   "metadata": {
    "colab": {
     "base_uri": "https://localhost:8080/",
     "height": 513
    },
    "colab_type": "code",
    "id": "_LJlYw6yskcP",
    "outputId": "56ab0519-2aa8-4cb2-872e-008a79361173"
   },
   "outputs": [
    {
     "data": {
      "image/png": "[encoded data removed]",
      "text/plain": [
       "<Figure size 432x288 with 1 Axes>"
      ]
     },
     "metadata": {
      "tags": []
     },
     "output_type": "display_data"
    },
    {
     "data": {
      "image/png": "[encoded data removed]",
      "text/plain": [
       "<Figure size 432x288 with 1 Axes>"
      ]
     },
     "metadata": {
      "tags": []
     },
     "output_type": "display_data"
    }
   ],
   "source": [
    "plt.imshow(xTrainMnist[0,:,:,0])\n",
    "plt.show()\n",
    "plt.imshow(yTrainMnist_pix[0,:,:,0])\n",
    "plt.show()"
   ]
  },
  {
   "cell_type": "code",
   "execution_count": 218,
   "metadata": {
    "colab": {
     "base_uri": "https://localhost:8080/",
     "height": 374
    },
    "colab_type": "code",
    "id": "yD6nZH8xstvs",
    "outputId": "39725198-bdff-4a51-9166-3a327bb3882d"
   },
   "outputs": [
    {
     "name": "stdout",
     "output_type": "stream",
     "text": [
      "Train on 8000 samples, validate on 2000 samples\n",
      "Epoch 1/10\n",
      "8000/8000 [==============================] - 5s 627us/step - loss: 0.0092 - acc: 0.8136 - val_loss: 0.0089 - val_acc: 0.8134\n",
      "Epoch 2/10\n",
      "8000/8000 [==============================] - 5s 612us/step - loss: 0.0079 - acc: 0.8140 - val_loss: 0.0082 - val_acc: 0.8135\n",
      "Epoch 3/10\n",
      "8000/8000 [==============================] - 5s 612us/step - loss: 0.0075 - acc: 0.8141 - val_loss: 0.0081 - val_acc: 0.8136\n",
      "Epoch 4/10\n",
      "8000/8000 [==============================] - 5s 609us/step - loss: 0.0073 - acc: 0.8142 - val_loss: 0.0080 - val_acc: 0.8136\n",
      "Epoch 5/10\n",
      "8000/8000 [==============================] - 5s 610us/step - loss: 0.0074 - acc: 0.8141 - val_loss: 0.0083 - val_acc: 0.8137\n",
      "Epoch 6/10\n",
      "8000/8000 [==============================] - 5s 610us/step - loss: 0.0071 - acc: 0.8142 - val_loss: 0.0088 - val_acc: 0.8136\n",
      "Epoch 7/10\n",
      "8000/8000 [==============================] - 5s 615us/step - loss: 0.0069 - acc: 0.8143 - val_loss: 0.0075 - val_acc: 0.8135\n",
      "Epoch 8/10\n",
      "8000/8000 [==============================] - 5s 613us/step - loss: 0.0068 - acc: 0.8143 - val_loss: 0.0073 - val_acc: 0.8134\n",
      "Epoch 9/10\n",
      "8000/8000 [==============================] - 5s 607us/step - loss: 0.0065 - acc: 0.8143 - val_loss: 0.0073 - val_acc: 0.8134\n",
      "Epoch 10/10\n",
      "8000/8000 [==============================] - 5s 608us/step - loss: 0.0064 - acc: 0.8144 - val_loss: 0.0078 - val_acc: 0.8136\n"
     ]
    }
   ],
   "source": [
    "\n",
    "#modelAutoMnist = denoiseAutoencoder()\n",
    "hist=modelAutoMnist.fit(xTrainMnist[:10000], yTrainMnist_pix[:10000], epochs=10, batch_size=100, validation_split=0.2)"
   ]
  },
  {
   "cell_type": "code",
   "execution_count": 219,
   "metadata": {
    "colab": {
     "base_uri": "https://localhost:8080/",
     "height": 269
    },
    "colab_type": "code",
    "id": "7vgElrYisv7g",
    "outputId": "431176b4-1836-4bc4-f4fe-c8abd3e56608"
   },
   "outputs": [
    {
     "data": {
      "image/png": "[encoded data removed]",
      "text/plain": [
       "<Figure size 432x288 with 1 Axes>"
      ]
     },
     "metadata": {
      "tags": []
     },
     "output_type": "display_data"
    }
   ],
   "source": [
    "plt.plot(hist.history['val_acc'],'r',label='val_acc')\n",
    "plt.plot(hist.history['acc'],'g',label='train_acc')\n",
    "plt.legend()\n",
    "plt.show()"
   ]
  },
  {
   "cell_type": "code",
   "execution_count": 220,
   "metadata": {
    "colab": {
     "base_uri": "https://localhost:8080/",
     "height": 34
    },
    "colab_type": "code",
    "id": "iYdTwDcY5Sob",
    "outputId": "dd7987a5-8c56-479f-de4a-6aefaf08fa48"
   },
   "outputs": [
    {
     "name": "stdout",
     "output_type": "stream",
     "text": [
      "0.05812062074829932\n"
     ]
    }
   ],
   "source": [
    "y_pred=modelAutoMnist.predict(xTrainMnist)\n",
    "\n",
    "int_yTrainMnist = (yTrainMnist_pix.flatten()*255).round() \n",
    "int_y_pred = (y_pred.flatten()*255).round()\n",
    "y_filtered = int_y_pred[int_yTrainMnist == int_y_pred]\n",
    "dice = len(y_filtered) * 2.0/(len(int_yTrainMnist) + len(int_y_pred)) \n",
    "print(dice)"
   ]
  },
  {
   "cell_type": "code",
   "execution_count": 0,
   "metadata": {
    "colab": {},
    "colab_type": "code",
    "id": "QBZ7i6r3wnRB"
   },
   "outputs": [],
   "source": [
    "(xTrainMnist, yTrainMnist), (xTestMnist, yTestMnist) = mnist.load_data()\n",
    "\n",
    "noice = 0.1 #возьмем коэффициэнт зашумленности 0.1\n",
    "\n",
    "xTrainMnist = xTrainMnist.astype('float32')/255\n",
    "\n",
    "xTrainMnist = xTrainMnist.reshape(xTrainMnist.shape[0], 28, 28, 1)\n",
    "\n",
    "yTrainMnist_pix = xTrainMnist.copy()\n",
    "xTrainMnist += np.random.randn(xTrainMnist.shape[0],xTrainMnist.shape[1],xTrainMnist.shape[2],xTrainMnist.shape[3]) * noice"
   ]
  },
  {
   "cell_type": "code",
   "execution_count": 222,
   "metadata": {
    "colab": {
     "base_uri": "https://localhost:8080/",
     "height": 513
    },
    "colab_type": "code",
    "id": "PA0c5TXNwtx2",
    "outputId": "94b4258b-a535-4726-bc9f-df94cd04abfc"
   },
   "outputs": [
    {
     "data": {
      "image/png": "[encoded data removed]",
      "text/plain": [
       "<Figure size 432x288 with 1 Axes>"
      ]
     },
     "metadata": {
      "tags": []
     },
     "output_type": "display_data"
    },
    {
     "data": {
      "image/png": "[encoded data removed]",
      "text/plain": [
       "<Figure size 432x288 with 1 Axes>"
      ]
     },
     "metadata": {
      "tags": []
     },
     "output_type": "display_data"
    }
   ],
   "source": [
    "plt.imshow(xTrainMnist[0,:,:,0])\n",
    "plt.show()\n",
    "plt.imshow(yTrainMnist_pix[0,:,:,0])\n",
    "plt.show()"
   ]
  },
  {
   "cell_type": "code",
   "execution_count": 223,
   "metadata": {
    "colab": {
     "base_uri": "https://localhost:8080/",
     "height": 374
    },
    "colab_type": "code",
    "id": "iccT5RTBwzpa",
    "outputId": "bf06248f-6135-456b-8fd5-276518087b07"
   },
   "outputs": [
    {
     "name": "stdout",
     "output_type": "stream",
     "text": [
      "Train on 8000 samples, validate on 2000 samples\n",
      "Epoch 1/10\n",
      "8000/8000 [==============================] - 5s 632us/step - loss: 0.0029 - acc: 0.8148 - val_loss: 0.0037 - val_acc: 0.8142\n",
      "Epoch 2/10\n",
      "8000/8000 [==============================] - 5s 618us/step - loss: 0.0026 - acc: 0.8149 - val_loss: 0.0039 - val_acc: 0.8142\n",
      "Epoch 3/10\n",
      "8000/8000 [==============================] - 5s 618us/step - loss: 0.0023 - acc: 0.8149 - val_loss: 0.0035 - val_acc: 0.8142\n",
      "Epoch 4/10\n",
      "8000/8000 [==============================] - 5s 618us/step - loss: 0.0022 - acc: 0.8149 - val_loss: 0.0029 - val_acc: 0.8143\n",
      "Epoch 5/10\n",
      "8000/8000 [==============================] - 5s 617us/step - loss: 0.0021 - acc: 0.8149 - val_loss: 0.0022 - val_acc: 0.8143\n",
      "Epoch 6/10\n",
      "8000/8000 [==============================] - 5s 618us/step - loss: 0.0020 - acc: 0.8149 - val_loss: 0.0021 - val_acc: 0.8143\n",
      "Epoch 7/10\n",
      "8000/8000 [==============================] - 5s 619us/step - loss: 0.0020 - acc: 0.8149 - val_loss: 0.0019 - val_acc: 0.8143\n",
      "Epoch 8/10\n",
      "8000/8000 [==============================] - 5s 623us/step - loss: 0.0027 - acc: 0.8148 - val_loss: 0.0055 - val_acc: 0.8142\n",
      "Epoch 9/10\n",
      "8000/8000 [==============================] - 5s 619us/step - loss: 0.0027 - acc: 0.8148 - val_loss: 0.0024 - val_acc: 0.8143\n",
      "Epoch 10/10\n",
      "8000/8000 [==============================] - 5s 613us/step - loss: 0.0021 - acc: 0.8149 - val_loss: 0.0021 - val_acc: 0.8143\n"
     ]
    }
   ],
   "source": [
    "\n",
    "#modelAutoMnist = denoiseAutoencoder()\n",
    "hist=modelAutoMnist.fit(xTrainMnist[:10000], yTrainMnist_pix[:10000], epochs=10, batch_size=100, validation_split=0.2)"
   ]
  },
  {
   "cell_type": "code",
   "execution_count": 224,
   "metadata": {
    "colab": {
     "base_uri": "https://localhost:8080/",
     "height": 265
    },
    "colab_type": "code",
    "id": "tivaqy5Dw5Xd",
    "outputId": "13b37e98-25c9-4241-fd2f-1a028c74e392"
   },
   "outputs": [
    {
     "data": {
      "image/png": "[encoded data removed]",
      "text/plain": [
       "<Figure size 432x288 with 1 Axes>"
      ]
     },
     "metadata": {
      "tags": []
     },
     "output_type": "display_data"
    }
   ],
   "source": [
    "plt.plot(hist.history['val_acc'],'r',label='val_acc')\n",
    "plt.plot(hist.history['acc'],'g',label='train_acc')\n",
    "plt.legend()\n",
    "plt.show()"
   ]
  },
  {
   "cell_type": "code",
   "execution_count": 225,
   "metadata": {
    "colab": {
     "base_uri": "https://localhost:8080/",
     "height": 34
    },
    "colab_type": "code",
    "id": "jWxnQGXIUN4R",
    "outputId": "246a5860-3a2e-46f0-c05b-fbe5d0a2c694"
   },
   "outputs": [
    {
     "name": "stdout",
     "output_type": "stream",
     "text": [
      "(60000, 28, 28, 1)\n"
     ]
    }
   ],
   "source": [
    "y_pred=modelAutoMnist.predict(xTrainMnist)\n",
    "print(y_pred.shape)\n"
   ]
  },
  {
   "cell_type": "code",
   "execution_count": 226,
   "metadata": {
    "colab": {
     "base_uri": "https://localhost:8080/",
     "height": 34
    },
    "colab_type": "code",
    "id": "ZgdGVCp9zJjk",
    "outputId": "c85b581c-9285-4cd9-d4f1-640ca211dd16"
   },
   "outputs": [
    {
     "name": "stdout",
     "output_type": "stream",
     "text": [
      "0.29565486819727893\n"
     ]
    }
   ],
   "source": [
    "int_yTrainMnist = (yTrainMnist_pix.flatten()*255).round() \n",
    "int_y_pred = (y_pred.flatten()*255).round()\n",
    "y_filtered = int_y_pred[int_yTrainMnist == int_y_pred]\n",
    "dice = len(y_filtered) * 2.0/(len(int_yTrainMnist) + len(int_y_pred)) \n",
    "print(dice)"
   ]
  },
  {
   "cell_type": "markdown",
   "metadata": {
    "colab_type": "text",
    "id": "FvL1qikyLdxA"
   },
   "source": [
    "Вывод: при увеличении зашумленности точность падает. При noise = 0.1: DSC = 0.3. При noise = 0.4: DSC = 0.06. При noise = 0.9: DSC = 0.07."
   ]
  },
  {
   "cell_type": "markdown",
   "metadata": {
    "colab": {},
    "colab_type": "code",
    "id": "HB4HPn99L2mt"
   },
   "source": [
    "Коэффициэнт Деци больше подходит для задач классификации. В автокодировщиках скорее задача регрессии, тоесть надо учитывать не точное совпадение пикселов, а степень близости. Мне кажется больше бы подошел такой критерий как среднеквадратичная ошибка MSE или MAE."
   ]
  },
  {
   "cell_type": "markdown",
   "metadata": {},
   "source": [
    "Мы видим, что случае зашумленности noise = 0.9 получается только 1% точных совпадений, но картинка все равно визуально похожа."
   ]
  },
  {
   "cell_type": "code",
   "execution_count": null,
   "metadata": {},
   "outputs": [],
   "source": []
  }
 ],
 "metadata": {
  "accelerator": "GPU",
  "colab": {
   "name": "Untitled4.ipynb",
   "provenance": []
  },
  "kernelspec": {
   "display_name": "Python 3",
   "language": "python",
   "name": "python3"
  },
  "language_info": {
   "codemirror_mode": {
    "name": "ipython",
    "version": 3
   },
   "file_extension": ".py",
   "mimetype": "text/x-python",
   "name": "python",
   "nbconvert_exporter": "python",
   "pygments_lexer": "ipython3",
   "version": "3.7.1"
  }
 },
 "nbformat": 4,
 "nbformat_minor": 1
}
