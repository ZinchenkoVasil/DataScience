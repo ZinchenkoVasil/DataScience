{
  "nbformat": 4,
  "nbformat_minor": 0,
  "metadata": {
    "colab": {
      "name": "hw04_AlexNet.ipynb",
      "provenance": [],
      "collapsed_sections": []
    },
    "kernelspec": {
      "name": "python3",
      "display_name": "Python 3"
    },
    "language_info": {
      "codemirror_mode": {
        "name": "ipython",
        "version": 3
      },
      "file_extension": ".py",
      "mimetype": "text/x-python",
      "name": "python",
      "nbconvert_exporter": "python",
      "pygments_lexer": "ipython3",
      "version": "3.7.1"
    },
    "accelerator": "GPU"
  },
  "cells": [
    {
      "cell_type": "code",
      "metadata": {
        "colab_type": "code",
        "id": "jvJOgXi0mv3G",
        "outputId": "d6c8c106-3a2b-43a8-b5d3-d4693a0e2153",
        "colab": {
          "base_uri": "https://localhost:8080/",
          "height": 68
        }
      },
      "source": [
        "from __future__ import print_function\n",
        "#import tensorflow.keras as keras # расскоментируйте эту строку, чтобы начать обучение\n",
        "from tensorflow.keras.datasets import cifar10\n",
        "from tensorflow.keras.preprocessing.image import ImageDataGenerator\n",
        "from tensorflow.keras.models import Sequential\n",
        "from tensorflow.keras.layers import Dense, Dropout, Activation, Flatten\n",
        "from tensorflow.keras.layers import Conv2D, MaxPooling2D\n",
        "from tensorflow.keras.utils import to_categorical\n",
        "\n",
        "import os\n",
        "\n",
        "# установка параметров нейросети\n",
        "batch_size = 32\n",
        "num_classes = 10\n",
        "epochs = 18\n",
        "data_augmentation = True\n",
        "num_predictions = 20\n",
        "save_dir = os.path.join(os.getcwd(), 'saved_models')\n",
        "model_name = 'keras_cifar10_trained_model.h5'\n",
        "\n",
        "# разделение тренировочной и тестовой выборки\n",
        "(x_train, y_train), (x_test, y_test) = cifar10.load_data()\n",
        "print('x_train shape:', x_train.shape)\n",
        "print(x_train.shape[1:], 'тренировочные примеры')\n",
        "print(x_test.shape[1:], 'тестовые примеры')"
      ],
      "execution_count": 45,
      "outputs": [
        {
          "output_type": "stream",
          "text": [
            "x_train shape: (50000, 32, 32, 3)\n",
            "(32, 32, 3) тренировочные примеры\n",
            "(32, 32, 3) тестовые примеры\n"
          ],
          "name": "stdout"
        }
      ]
    },
    {
      "cell_type": "code",
      "metadata": {
        "colab_type": "code",
        "id": "BS-2h7rnvXLa",
        "outputId": "b352afc1-f322-4a7a-95ec-dababf022b3c",
        "colab": {
          "base_uri": "https://localhost:8080/",
          "height": 734
        }
      },
      "source": [
        "# преобразование матрицы чисел 0-9 в бинарную матрицу чисел 0-1\n",
        "y_train = to_categorical(y_train, num_classes)\n",
        "y_test = to_categorical(y_test, num_classes)\n",
        "\n",
        "# конфигурирование слоев нейросети\n",
        "model = Sequential()\n",
        "\n",
        "# слои нейросети отвественные за свертку и max-pooling\n",
        "model.add(Conv2D(32, (3, 3), padding='same'))\n",
        "model.add(Activation('relu'))\n",
        "\n",
        "model.add(Conv2D(32, (3, 3)))\n",
        "model.add(Activation('relu'))\n",
        "\n",
        "model.add(MaxPooling2D(pool_size=(2, 2)))\n",
        "model.add(Dropout(0.25))\n",
        "\n",
        "model.add(Conv2D(64, (3, 3), padding='same'))\n",
        "model.add(Activation('relu'))\n",
        "model.add(Conv2D(64, (3, 3), padding='same'))\n",
        "model.add(Activation('relu'))\n",
        "#model.add(Conv2D(64, (3, 3), padding='same'))\n",
        "#model.add(Activation('relu'))\n",
        "model.add(MaxPooling2D(pool_size=(2, 2)))\n",
        "model.add(Dropout(0.25))\n",
        "\n",
        "\n",
        "# полносвязные слои нейронной сети\n",
        "model.add(Flatten())\n",
        "model.add(Dense(512))\n",
        "model.add(Activation('relu'))\n",
        "model.add(Dropout(0.25))\n",
        "model.add(Dense(num_classes))\n",
        "model.add(Activation('softmax'))\n",
        "\n",
        "# компиляция модели\n",
        "model.compile(loss='categorical_crossentropy',\n",
        "              optimizer='SGD',\n",
        "              metrics=['accuracy'])\n",
        "\n",
        "x_train = x_train.astype('float32')\n",
        "x_test = x_test.astype('float32')\n",
        "x_train /= 255\n",
        "x_test /= 255\n",
        "\n",
        "history = model.fit(x_train, y_train,\n",
        "          batch_size=batch_size,\n",
        "          epochs=epochs,\n",
        "          validation_data=(x_test, y_test),\n",
        "          shuffle=True)\n",
        "history_dict = history.history\n",
        "print('accuracy:', history_dict['accuracy'])\n",
        "print('Test accuracy:', history_dict['val_accuracy'])\n",
        "\n",
        "# проверка работы обученной модели\n",
        "scores = model.evaluate(x_test, y_test, verbose=1)\n",
        "print('Test loss:', scores[0])\n",
        "print('Test accuracy:', scores[1])\n"
      ],
      "execution_count": 46,
      "outputs": [
        {
          "output_type": "stream",
          "text": [
            "Epoch 1/18\n",
            "1563/1563 [==============================] - 7s 5ms/step - loss: 2.0466 - accuracy: 0.2483 - val_loss: 1.7683 - val_accuracy: 0.3659\n",
            "Epoch 2/18\n",
            "1563/1563 [==============================] - 7s 5ms/step - loss: 1.6714 - accuracy: 0.3966 - val_loss: 1.5518 - val_accuracy: 0.4468\n",
            "Epoch 3/18\n",
            "1563/1563 [==============================] - 8s 5ms/step - loss: 1.5220 - accuracy: 0.4487 - val_loss: 1.5195 - val_accuracy: 0.4674\n",
            "Epoch 4/18\n",
            "1563/1563 [==============================] - 7s 5ms/step - loss: 1.3932 - accuracy: 0.4972 - val_loss: 1.3200 - val_accuracy: 0.5214\n",
            "Epoch 5/18\n",
            "1563/1563 [==============================] - 7s 5ms/step - loss: 1.2884 - accuracy: 0.5401 - val_loss: 1.1975 - val_accuracy: 0.5740\n",
            "Epoch 6/18\n",
            "1563/1563 [==============================] - 7s 5ms/step - loss: 1.2086 - accuracy: 0.5677 - val_loss: 1.1678 - val_accuracy: 0.5787\n",
            "Epoch 7/18\n",
            "1563/1563 [==============================] - 7s 5ms/step - loss: 1.1309 - accuracy: 0.5987 - val_loss: 1.0621 - val_accuracy: 0.6250\n",
            "Epoch 8/18\n",
            "1563/1563 [==============================] - 7s 5ms/step - loss: 1.0662 - accuracy: 0.6221 - val_loss: 1.0076 - val_accuracy: 0.6419\n",
            "Epoch 9/18\n",
            "1563/1563 [==============================] - 7s 5ms/step - loss: 1.0096 - accuracy: 0.6421 - val_loss: 1.0001 - val_accuracy: 0.6532\n",
            "Epoch 10/18\n",
            "1563/1563 [==============================] - 7s 5ms/step - loss: 0.9564 - accuracy: 0.6608 - val_loss: 0.9155 - val_accuracy: 0.6784\n",
            "Epoch 11/18\n",
            "1563/1563 [==============================] - 7s 5ms/step - loss: 0.9100 - accuracy: 0.6788 - val_loss: 0.8607 - val_accuracy: 0.7009\n",
            "Epoch 12/18\n",
            "1563/1563 [==============================] - 7s 5ms/step - loss: 0.8639 - accuracy: 0.6950 - val_loss: 0.8593 - val_accuracy: 0.6981\n",
            "Epoch 13/18\n",
            "1563/1563 [==============================] - 7s 5ms/step - loss: 0.8245 - accuracy: 0.7103 - val_loss: 0.8441 - val_accuracy: 0.7043\n",
            "Epoch 14/18\n",
            "1563/1563 [==============================] - 7s 5ms/step - loss: 0.7896 - accuracy: 0.7218 - val_loss: 0.7669 - val_accuracy: 0.7334\n",
            "Epoch 15/18\n",
            "1563/1563 [==============================] - 7s 5ms/step - loss: 0.7540 - accuracy: 0.7352 - val_loss: 0.7955 - val_accuracy: 0.7232\n",
            "Epoch 16/18\n",
            "1563/1563 [==============================] - 7s 5ms/step - loss: 0.7190 - accuracy: 0.7465 - val_loss: 0.7411 - val_accuracy: 0.7436\n",
            "Epoch 17/18\n",
            "1563/1563 [==============================] - 7s 5ms/step - loss: 0.6921 - accuracy: 0.7561 - val_loss: 0.7443 - val_accuracy: 0.7410\n",
            "Epoch 18/18\n",
            "1563/1563 [==============================] - 7s 5ms/step - loss: 0.6618 - accuracy: 0.7673 - val_loss: 0.7062 - val_accuracy: 0.7523\n",
            "accuracy: [0.24831999838352203, 0.3966200053691864, 0.4487000107765198, 0.49724000692367554, 0.5400800108909607, 0.5676800012588501, 0.5986599922180176, 0.6221399903297424, 0.6420800089836121, 0.6607800126075745, 0.6787800192832947, 0.6950200200080872, 0.7103400230407715, 0.7218199968338013, 0.7351999878883362, 0.7464600205421448, 0.7561399936676025, 0.7672799825668335]\n",
            "Test accuracy: [0.3659000098705292, 0.44679999351501465, 0.4674000144004822, 0.521399974822998, 0.5740000009536743, 0.5787000060081482, 0.625, 0.6419000029563904, 0.6531999707221985, 0.6783999800682068, 0.7009000182151794, 0.6980999708175659, 0.7042999863624573, 0.7333999872207642, 0.7232000231742859, 0.7436000108718872, 0.7409999966621399, 0.7523000240325928]\n",
            "313/313 [==============================] - 1s 3ms/step - loss: 0.7062 - accuracy: 0.7523\n",
            "Test loss: 0.7062448263168335\n",
            "Test accuracy: 0.7523000240325928\n"
          ],
          "name": "stdout"
        }
      ]
    },
    {
      "cell_type": "code",
      "metadata": {
        "id": "ZZnmWefC-nga",
        "colab_type": "code",
        "colab": {}
      },
      "source": [
        ""
      ],
      "execution_count": 0,
      "outputs": []
    },
    {
      "cell_type": "markdown",
      "metadata": {
        "id": "-gFuFT3ncbvE",
        "colab_type": "text"
      },
      "source": [
        "Вывод: точность получившейся модели - 0.75. У нас многоклассовая классификация из 10 классов. Если крутить рулетку, то точность такого случайного классификатора получится = 0.1. Получившийся классификатор в 7 раз лучше случайного.  "
      ]
    },
    {
      "cell_type": "markdown",
      "metadata": {
        "id": "bpNNxge0JZBw",
        "colab_type": "text"
      },
      "source": [
        ""
      ]
    }
  ]
}