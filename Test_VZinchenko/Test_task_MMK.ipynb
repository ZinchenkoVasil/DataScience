{
  "nbformat": 4,
  "nbformat_minor": 0,
  "metadata": {
    "kernelspec": {
      "display_name": "Python 3",
      "language": "python",
      "name": "python3"
    },
    "language_info": {
      "codemirror_mode": {
        "name": "ipython",
        "version": 3
      },
      "file_extension": ".py",
      "mimetype": "text/x-python",
      "name": "python",
      "nbconvert_exporter": "python",
      "pygments_lexer": "ipython3",
      "version": "3.7.1"
    },
    "colab": {
      "name": "Test_task_MMK (1).ipynb",
      "provenance": [],
      "collapsed_sections": []
    }
  },
  "cells": [
    {
      "cell_type": "code",
      "metadata": {
        "colab": {
          "base_uri": "https://localhost:8080/"
        },
        "id": "eNSuQIKbLMtv",
        "outputId": "bfd5d11d-ddab-4da0-f08b-36e8d3849461"
      },
      "source": [
        "!pip install Keras"
      ],
      "execution_count": 1,
      "outputs": [
        {
          "output_type": "stream",
          "text": [
            "Requirement already satisfied: Keras in /usr/local/lib/python3.7/dist-packages (2.6.0)\n"
          ],
          "name": "stdout"
        }
      ]
    },
    {
      "cell_type": "code",
      "metadata": {
        "colab": {
          "base_uri": "https://localhost:8080/"
        },
        "id": "1jwrKydiuhVT",
        "outputId": "f9f366b0-d649-47e4-f3fa-6421b4fa19f6"
      },
      "source": [
        "!pip install pymorphy2"
      ],
      "execution_count": 2,
      "outputs": [
        {
          "output_type": "stream",
          "text": [
            "Collecting pymorphy2\n",
            "  Downloading pymorphy2-0.9.1-py3-none-any.whl (55 kB)\n",
            "\u001b[?25l\r\u001b[K     |██████                          | 10 kB 22.6 MB/s eta 0:00:01\r\u001b[K     |███████████▉                    | 20 kB 27.6 MB/s eta 0:00:01\r\u001b[K     |█████████████████▊              | 30 kB 12.5 MB/s eta 0:00:01\r\u001b[K     |███████████████████████▋        | 40 kB 9.8 MB/s eta 0:00:01\r\u001b[K     |█████████████████████████████▌  | 51 kB 5.1 MB/s eta 0:00:01\r\u001b[K     |████████████████████████████████| 55 kB 2.2 MB/s \n",
            "\u001b[?25hCollecting dawg-python>=0.7.1\n",
            "  Downloading DAWG_Python-0.7.2-py2.py3-none-any.whl (11 kB)\n",
            "Collecting pymorphy2-dicts-ru<3.0,>=2.4\n",
            "  Downloading pymorphy2_dicts_ru-2.4.417127.4579844-py2.py3-none-any.whl (8.2 MB)\n",
            "\u001b[K     |████████████████████████████████| 8.2 MB 8.3 MB/s \n",
            "\u001b[?25hRequirement already satisfied: docopt>=0.6 in /usr/local/lib/python3.7/dist-packages (from pymorphy2) (0.6.2)\n",
            "Installing collected packages: pymorphy2-dicts-ru, dawg-python, pymorphy2\n",
            "Successfully installed dawg-python-0.7.2 pymorphy2-0.9.1 pymorphy2-dicts-ru-2.4.417127.4579844\n"
          ],
          "name": "stdout"
        }
      ]
    },
    {
      "cell_type": "code",
      "metadata": {
        "id": "U1FxcVOgLMtz"
      },
      "source": [
        "import keras"
      ],
      "execution_count": 3,
      "outputs": []
    },
    {
      "cell_type": "code",
      "metadata": {
        "colab": {
          "base_uri": "https://localhost:8080/"
        },
        "id": "gbjRgp3uyKOk",
        "outputId": "7cb4372c-3bd3-4745-c0df-83398e5c6d91"
      },
      "source": [
        "!pip install stop_words"
      ],
      "execution_count": 4,
      "outputs": [
        {
          "output_type": "stream",
          "text": [
            "Collecting stop_words\n",
            "  Downloading stop-words-2018.7.23.tar.gz (31 kB)\n",
            "Building wheels for collected packages: stop-words\n",
            "  Building wheel for stop-words (setup.py) ... \u001b[?25l\u001b[?25hdone\n",
            "  Created wheel for stop-words: filename=stop_words-2018.7.23-py3-none-any.whl size=32912 sha256=d6383d27e81f2a93d00ccfee53d0424ac2586aaf82804c80246fffb75bb8228e\n",
            "  Stored in directory: /root/.cache/pip/wheels/fb/86/b2/277b10b1ce9f73ce15059bf6975d4547cc4ec3feeb651978e9\n",
            "Successfully built stop-words\n",
            "Installing collected packages: stop-words\n",
            "Successfully installed stop-words-2018.7.23\n"
          ],
          "name": "stdout"
        }
      ]
    },
    {
      "cell_type": "code",
      "metadata": {
        "id": "GH77MIqkLMt0"
      },
      "source": [
        "from keras.models import Model\n",
        "from keras import layers\n",
        "from keras import Input\n",
        "from pymorphy2 import MorphAnalyzer\n",
        "import pickle\n",
        "import string\n",
        "from pymorphy2 import MorphAnalyzer\n",
        "from stop_words import get_stop_words"
      ],
      "execution_count": 5,
      "outputs": []
    },
    {
      "cell_type": "code",
      "metadata": {
        "id": "gGdqBtf4T9EA"
      },
      "source": [
        "def preprocess_txt(morpher, line):\n",
        "#    sw = set(get_stop_words(\"ru\"))\n",
        "    exclude = set(string.punctuation)\n",
        "    spls = \"\".join(i for i in line.strip() if i not in exclude).split()\n",
        "    spls = [morpher.parse(i.lower())[0].normal_form for i in spls]\n",
        "#    spls = [i for i in spls if i not in sw and i != \"\"]\n",
        "    return spls\n"
      ],
      "execution_count": 6,
      "outputs": []
    },
    {
      "cell_type": "code",
      "metadata": {
        "colab": {
          "base_uri": "https://localhost:8080/"
        },
        "id": "mGuB_2ntMKR2",
        "outputId": "5802538b-4dcb-4b82-badf-b835fa50a145"
      },
      "source": [
        "path = '/content/sample_data/paraphrases.xml'\n",
        "\n",
        "from lxml import objectify\n",
        "import pandas as pd\n",
        "\n",
        "xml = objectify.parse(path)\n",
        "root = xml.getroot()\n",
        "root.getchildren()[1]"
      ],
      "execution_count": 7,
      "outputs": [
        {
          "output_type": "execute_result",
          "data": {
            "text/plain": [
              "<Element corpus at 0x7f45f2328c30>"
            ]
          },
          "metadata": {},
          "execution_count": 7
        }
      ]
    },
    {
      "cell_type": "code",
      "metadata": {
        "colab": {
          "base_uri": "https://localhost:8080/",
          "height": 589
        },
        "id": "wKcltyYhMfct",
        "outputId": "c97de3ff-c3b7-4f58-c7be-9ffe88eb812d"
      },
      "source": [
        "root = xml.getroot()\n",
        "root = root.getchildren()[1]\n",
        "#<value name=\"id\">1</value>\n",
        "#<value name=\"id_1\">201</value>\n",
        "#<value name=\"id_2\">8159</value>\n",
        "#<value name=\"text_1\">Полицейским разрешат стрелять на поражение по гражданам с травматикой.</value>\n",
        "#<value name=\"text_2\">Полиции могут разрешить стрелять по хулиганам с травматикой.</value>\n",
        "#<value name=\"jaccard\">0.65</value>\n",
        "#<value name=\"class\">0</value>\n",
        "\n",
        "df = pd.DataFrame(columns=('id','id_1', 'id_2', 'text_1', 'text_2', 'jaccard', 'class'))\n",
        "\n",
        "for i in range(0,len(root.getchildren())):\n",
        "    obj = root.getchildren()[i].getchildren()\n",
        "    row = dict(zip(['id','id_1', 'id_2', 'text_1', 'text_2', 'jaccard', 'class'], [obj[0].text, obj[1].text, obj[2].text, obj[3].text, obj[4].text, obj[5].text, obj[6].text]))\n",
        "    row_s = pd.Series(row)\n",
        "    row_s.name = i\n",
        "    df = df.append(row_s)\n",
        "df"
      ],
      "execution_count": 8,
      "outputs": [
        {
          "output_type": "execute_result",
          "data": {
            "text/html": [
              "<div>\n",
              "<style scoped>\n",
              "    .dataframe tbody tr th:only-of-type {\n",
              "        vertical-align: middle;\n",
              "    }\n",
              "\n",
              "    .dataframe tbody tr th {\n",
              "        vertical-align: top;\n",
              "    }\n",
              "\n",
              "    .dataframe thead th {\n",
              "        text-align: right;\n",
              "    }\n",
              "</style>\n",
              "<table border=\"1\" class=\"dataframe\">\n",
              "  <thead>\n",
              "    <tr style=\"text-align: right;\">\n",
              "      <th></th>\n",
              "      <th>id</th>\n",
              "      <th>id_1</th>\n",
              "      <th>id_2</th>\n",
              "      <th>text_1</th>\n",
              "      <th>text_2</th>\n",
              "      <th>jaccard</th>\n",
              "      <th>class</th>\n",
              "    </tr>\n",
              "  </thead>\n",
              "  <tbody>\n",
              "    <tr>\n",
              "      <th>0</th>\n",
              "      <td>1</td>\n",
              "      <td>201</td>\n",
              "      <td>8159</td>\n",
              "      <td>Полицейским разрешат стрелять на поражение по ...</td>\n",
              "      <td>Полиции могут разрешить стрелять по хулиганам ...</td>\n",
              "      <td>0.65</td>\n",
              "      <td>0</td>\n",
              "    </tr>\n",
              "    <tr>\n",
              "      <th>1</th>\n",
              "      <td>2</td>\n",
              "      <td>202</td>\n",
              "      <td>8158</td>\n",
              "      <td>Право полицейских на проникновение в жилище ре...</td>\n",
              "      <td>Правила внесудебного проникновения полицейских...</td>\n",
              "      <td>0.5</td>\n",
              "      <td>0</td>\n",
              "    </tr>\n",
              "    <tr>\n",
              "      <th>2</th>\n",
              "      <td>3</td>\n",
              "      <td>273</td>\n",
              "      <td>8167</td>\n",
              "      <td>Президент Египта ввел чрезвычайное положение в...</td>\n",
              "      <td>Власти Египта угрожают ввести в стране чрезвыч...</td>\n",
              "      <td>0.611429</td>\n",
              "      <td>0</td>\n",
              "    </tr>\n",
              "    <tr>\n",
              "      <th>3</th>\n",
              "      <td>4</td>\n",
              "      <td>220</td>\n",
              "      <td>8160</td>\n",
              "      <td>Вернувшихся из Сирии россиян волнует вопрос тр...</td>\n",
              "      <td>Самолеты МЧС вывезут россиян из разрушенной Си...</td>\n",
              "      <td>0.324037</td>\n",
              "      <td>-1</td>\n",
              "    </tr>\n",
              "    <tr>\n",
              "      <th>4</th>\n",
              "      <td>5</td>\n",
              "      <td>223</td>\n",
              "      <td>8160</td>\n",
              "      <td>В Москву из Сирии вернулись 2 самолета МЧС с р...</td>\n",
              "      <td>Самолеты МЧС вывезут россиян из разрушенной Си...</td>\n",
              "      <td>0.606218</td>\n",
              "      <td>0</td>\n",
              "    </tr>\n",
              "    <tr>\n",
              "      <th>...</th>\n",
              "      <td>...</td>\n",
              "      <td>...</td>\n",
              "      <td>...</td>\n",
              "      <td>...</td>\n",
              "      <td>...</td>\n",
              "      <td>...</td>\n",
              "      <td>...</td>\n",
              "    </tr>\n",
              "    <tr>\n",
              "      <th>7222</th>\n",
              "      <td>25514</td>\n",
              "      <td>34622</td>\n",
              "      <td>34633</td>\n",
              "      <td>Путин освободил от должности ряд генералов</td>\n",
              "      <td>Путин снял с должностей более 20 руководителей...</td>\n",
              "      <td>0.4624999999999999</td>\n",
              "      <td>0</td>\n",
              "    </tr>\n",
              "    <tr>\n",
              "      <th>7223</th>\n",
              "      <td>25524</td>\n",
              "      <td>34566</td>\n",
              "      <td>34654</td>\n",
              "      <td>Облака над Москвой в День Победы разгонят девя...</td>\n",
              "      <td>Путеводитель по Дню Победы: как провести 9 мая...</td>\n",
              "      <td>0.45714285714285713</td>\n",
              "      <td>-1</td>\n",
              "    </tr>\n",
              "    <tr>\n",
              "      <th>7224</th>\n",
              "      <td>25548</td>\n",
              "      <td>34519</td>\n",
              "      <td>34681</td>\n",
              "      <td>Любляна отпразднует День Победы вместе с Москвой</td>\n",
              "      <td>В Москве ограничат движение в связи с Днем Победы</td>\n",
              "      <td>0.5842373946721772</td>\n",
              "      <td>-1</td>\n",
              "    </tr>\n",
              "    <tr>\n",
              "      <th>7225</th>\n",
              "      <td>25549</td>\n",
              "      <td>34565</td>\n",
              "      <td>34681</td>\n",
              "      <td>Девять самолетов ВВС разгонят облака над Москв...</td>\n",
              "      <td>В Москве ограничат движение в связи с Днем Победы</td>\n",
              "      <td>0.46188021535170065</td>\n",
              "      <td>-1</td>\n",
              "    </tr>\n",
              "    <tr>\n",
              "      <th>7226</th>\n",
              "      <td>25577</td>\n",
              "      <td>34584</td>\n",
              "      <td>34722</td>\n",
              "      <td>9 мая метрополитен Петербурга будет работать к...</td>\n",
              "      <td>Мартынов: комендантский час в Донецке 9 мая бу...</td>\n",
              "      <td>0.46188021535170065</td>\n",
              "      <td>-1</td>\n",
              "    </tr>\n",
              "  </tbody>\n",
              "</table>\n",
              "<p>7227 rows × 7 columns</p>\n",
              "</div>"
            ],
            "text/plain": [
              "         id   id_1  ...              jaccard class\n",
              "0         1    201  ...                 0.65     0\n",
              "1         2    202  ...                  0.5     0\n",
              "2         3    273  ...             0.611429     0\n",
              "3         4    220  ...             0.324037    -1\n",
              "4         5    223  ...             0.606218     0\n",
              "...     ...    ...  ...                  ...   ...\n",
              "7222  25514  34622  ...   0.4624999999999999     0\n",
              "7223  25524  34566  ...  0.45714285714285713    -1\n",
              "7224  25548  34519  ...   0.5842373946721772    -1\n",
              "7225  25549  34565  ...  0.46188021535170065    -1\n",
              "7226  25577  34584  ...  0.46188021535170065    -1\n",
              "\n",
              "[7227 rows x 7 columns]"
            ]
          },
          "metadata": {},
          "execution_count": 8
        }
      ]
    },
    {
      "cell_type": "code",
      "metadata": {
        "colab": {
          "base_uri": "https://localhost:8080/"
        },
        "id": "6_WtzD8KD4wL",
        "outputId": "053018bc-a72b-4e67-eed7-636854c457e5"
      },
      "source": [
        "#Создать словарь\n",
        "#Ключ: слово\n",
        "#Значение: порядковый номер\n",
        "\n",
        "list_text = list(df['text_1']) + list(df['text_2'])\n",
        "\n",
        "dict_words = {}\n",
        "i = 0\n",
        "morpher = MorphAnalyzer()\n",
        "for text in list_text:\n",
        "  #разбить предложения на слова\n",
        "    words = preprocess_txt(morpher, text)\n",
        "    for word in words:\n",
        "        if word in dict_words:\n",
        "          pass\n",
        "        else:\n",
        "          dict_words[word] = int(i)\n",
        "          i += 1\n",
        "len(dict_words)"
      ],
      "execution_count": 9,
      "outputs": [
        {
          "output_type": "execute_result",
          "data": {
            "text/plain": [
              "11165"
            ]
          },
          "metadata": {},
          "execution_count": 9
        }
      ]
    },
    {
      "cell_type": "code",
      "metadata": {
        "id": "w6frp9eKLMt1"
      },
      "source": [
        "text_vocabulary_size = len(dict_words.keys())#10\n",
        "question_vocabulury_size = len(dict_words.keys())#10000\n",
        "#answer_vocabulary_size = 500"
      ],
      "execution_count": 10,
      "outputs": []
    },
    {
      "cell_type": "code",
      "metadata": {
        "id": "mQ2pwVKlLMt1"
      },
      "source": [
        "text_input = Input(shape=(None,), dtype='int32', name='text')\n",
        "\n",
        "embedded_text = layers.Embedding(\n",
        "text_vocabulary_size, 64)(text_input)\n",
        "\n",
        "encoded_text = layers.LSTM(32)(embedded_text)\n",
        "\n",
        "question_input = Input(shape=(None,),\n",
        "                      dtype = 'int32',\n",
        "                      name='question')\n",
        "\n",
        "embedded_question = layers.Embedding(\n",
        "text_vocabulary_size, 64)(question_input)\n",
        "\n",
        "encoded_question = layers.LSTM(32)(embedded_question)\n",
        "\n",
        "concatenated = layers.concatenate([encoded_text, encoded_question], axis=-1)"
      ],
      "execution_count": 11,
      "outputs": []
    },
    {
      "cell_type": "code",
      "metadata": {
        "id": "UfNqOK5cLMt2"
      },
      "source": [
        "answer = layers.Dense(3, activation='softmax')(concatenated) "
      ],
      "execution_count": 12,
      "outputs": []
    },
    {
      "cell_type": "code",
      "metadata": {
        "id": "P-eqTMdBLMt3"
      },
      "source": [
        "model = Model([text_input, question_input], answer)\n",
        "model.compile(optimizer='rmsprop', loss='categorical_crossentropy', metrics=['acc'])"
      ],
      "execution_count": 13,
      "outputs": []
    },
    {
      "cell_type": "code",
      "metadata": {
        "colab": {
          "base_uri": "https://localhost:8080/"
        },
        "id": "LAVEhwjcLMt4",
        "outputId": "ff6dd141-b6f7-4bb7-f0f4-24edb3514bb3"
      },
      "source": [
        "import numpy as np\n",
        "morpher = MorphAnalyzer()\n",
        "num_samples = len(df) #длина датасета\n",
        "max_length = 100\n",
        "\n",
        "#text = np.random.randint(1, text_vocabulary_size, size=(num_samples, max_length))\n",
        "\n",
        "#не забудь нули добавлять в НАЧАЛО\n",
        "text = np.zeros(shape=(num_samples, max_length))\n",
        "list_text1 = list(df['text_1'])\n",
        "\n",
        "for n in range(num_samples):\n",
        "    words = preprocess_txt(morpher, list_text1[n])\n",
        "    cur_text = text[n]\n",
        "    #надо из конца в начало\n",
        "    i = len(words) - 1\n",
        "    j = len(cur_text) - 1\n",
        "    while i >= 0:\n",
        "        cur_text[j] = dict_words[words[i]]\n",
        "        i -= 1\n",
        "        j -= 1\n",
        "print(text)\n",
        "print(text.shape)\n",
        "\n",
        "#question = np.random.randint(1, question_vocabulury_size, size=(num_samples, max_length))\n",
        "question = np.zeros(shape=(num_samples, max_length))\n",
        "list_text2 = list(df['text_2'])\n",
        "\n",
        "for n in range(num_samples):\n",
        "    words = preprocess_txt(morpher, list_text1[n])\n",
        "    cur_text = question[n]\n",
        "    #надо из конца в начало\n",
        "    i = len(words) - 1\n",
        "    j = len(cur_text) - 1\n",
        "    while i >= 0:\n",
        "        cur_text[j] = dict_words[words[i]]\n",
        "        i -= 1\n",
        "        j -= 1\n",
        "print(question)\n",
        "print(question.shape)\n",
        "\n",
        "\n",
        "\n",
        "answers = np.zeros(shape=(num_samples, 3))\n",
        "indices = np.array(df['class']) #-1,0,1\n",
        "indices2 = []\n",
        "for i in indices:\n",
        "  indices2.append(int(i) + 1) \n",
        "   \n",
        "indices = np.array(indices2)\n",
        "for i, x in enumerate(answers):\n",
        "    x[indices[i]] = 1\n",
        "\n",
        "print(answers)\n",
        "print(answers.shape)\n",
        "\n",
        "\n",
        "#model.fit([text, question], answers, epochs=10, batch_size=128)    "
      ],
      "execution_count": 14,
      "outputs": [
        {
          "output_type": "stream",
          "text": [
            "[[0.000e+00 0.000e+00 0.000e+00 ... 6.000e+00 7.000e+00 8.000e+00]\n",
            " [0.000e+00 0.000e+00 0.000e+00 ... 1.200e+01 1.300e+01 1.400e+01]\n",
            " [0.000e+00 0.000e+00 0.000e+00 ... 1.100e+01 2.000e+01 2.100e+01]\n",
            " ...\n",
            " [0.000e+00 0.000e+00 0.000e+00 ... 5.130e+03 7.000e+00 3.000e+01]\n",
            " [0.000e+00 0.000e+00 0.000e+00 ... 1.100e+01 7.000e+01 3.204e+03]\n",
            " [0.000e+00 0.000e+00 0.000e+00 ... 1.940e+02 2.109e+03 8.776e+03]]\n",
            "(7227, 100)\n",
            "[[0.000e+00 0.000e+00 0.000e+00 ... 6.000e+00 7.000e+00 8.000e+00]\n",
            " [0.000e+00 0.000e+00 0.000e+00 ... 1.200e+01 1.300e+01 1.400e+01]\n",
            " [0.000e+00 0.000e+00 0.000e+00 ... 1.100e+01 2.000e+01 2.100e+01]\n",
            " ...\n",
            " [0.000e+00 0.000e+00 0.000e+00 ... 5.130e+03 7.000e+00 3.000e+01]\n",
            " [0.000e+00 0.000e+00 0.000e+00 ... 1.100e+01 7.000e+01 3.204e+03]\n",
            " [0.000e+00 0.000e+00 0.000e+00 ... 1.940e+02 2.109e+03 8.776e+03]]\n",
            "(7227, 100)\n",
            "[[0. 1. 0.]\n",
            " [0. 1. 0.]\n",
            " [0. 1. 0.]\n",
            " ...\n",
            " [1. 0. 0.]\n",
            " [1. 0. 0.]\n",
            " [1. 0. 0.]]\n",
            "(7227, 3)\n"
          ],
          "name": "stdout"
        }
      ]
    },
    {
      "cell_type": "code",
      "metadata": {
        "id": "OeBPgu8EhGqR"
      },
      "source": [
        "from sklearn.model_selection import train_test_split\n",
        "#text_train, text_val = train_test_split(\n",
        "#    text, train_size=0.7, random_state=27, shuffle=True\n",
        "#)\n",
        "#question_train, question_val = train_test_split(\n",
        "#    question, train_size=0.7, random_state=27, shuffle=True\n",
        "#)\n",
        "\n",
        "#answers_train, answers_val = train_test_split(\n",
        "#    answers, train_size=0.7, random_state=27, shuffle=True\n",
        "#)\n",
        "\n",
        "training_samples = 6200\n",
        "validation_samples = 1000\n",
        "text_train  = text[:training_samples]\n",
        "question_train = question[:training_samples]\n",
        "answer_train = answers[:training_samples]\n",
        "text_val = text[training_samples: training_samples + validation_samples]\n",
        "question_val = question[training_samples: training_samples + validation_samples]\n",
        "answer_val = answers[training_samples: training_samples + validation_samples]"
      ],
      "execution_count": 15,
      "outputs": []
    },
    {
      "cell_type": "code",
      "metadata": {
        "colab": {
          "base_uri": "https://localhost:8080/"
        },
        "id": "TmwLPl4FklRN",
        "outputId": "f85cda43-179b-4190-88e3-0bb752e8defa"
      },
      "source": [
        "history = model.fit([text_train, question_train], answer_train, epochs=3, batch_size=128, validation_data=([text_val,question_val], answer_val))    "
      ],
      "execution_count": 16,
      "outputs": [
        {
          "output_type": "stream",
          "text": [
            "Epoch 1/3\n",
            "49/49 [==============================] - 13s 173ms/step - loss: 1.0646 - acc: 0.4347 - val_loss: 1.0863 - val_acc: 0.3780\n",
            "Epoch 2/3\n",
            "49/49 [==============================] - 7s 152ms/step - loss: 0.9660 - acc: 0.5421 - val_loss: 1.1275 - val_acc: 0.3960\n",
            "Epoch 3/3\n",
            "49/49 [==============================] - 7s 153ms/step - loss: 0.8289 - acc: 0.6340 - val_loss: 1.2327 - val_acc: 0.3990\n"
          ],
          "name": "stdout"
        }
      ]
    },
    {
      "cell_type": "code",
      "metadata": {
        "colab": {
          "base_uri": "https://localhost:8080/"
        },
        "id": "OD8qliyiIDPL",
        "outputId": "34756f50-db56-4fc5-f388-30d76eb77018"
      },
      "source": [
        "results = model.evaluate([text_val,question_val], answer_val)"
      ],
      "execution_count": 17,
      "outputs": [
        {
          "output_type": "stream",
          "text": [
            "32/32 [==============================] - 1s 21ms/step - loss: 1.2327 - acc: 0.3990\n"
          ],
          "name": "stdout"
        }
      ]
    },
    {
      "cell_type": "code",
      "metadata": {
        "colab": {
          "base_uri": "https://localhost:8080/"
        },
        "id": "TAwfjgLJjcle",
        "outputId": "e144b6b8-e363-45ab-f3e3-7ca8cb519f29"
      },
      "source": [
        "results"
      ],
      "execution_count": 18,
      "outputs": [
        {
          "output_type": "execute_result",
          "data": {
            "text/plain": [
              "[1.2327274084091187, 0.39899998903274536]"
            ]
          },
          "metadata": {},
          "execution_count": 18
        }
      ]
    },
    {
      "cell_type": "code",
      "metadata": {
        "id": "z9Yk9qUjrWKM"
      },
      "source": [
        "y_hat = model.predict([text_val, question_val])"
      ],
      "execution_count": 19,
      "outputs": []
    },
    {
      "cell_type": "code",
      "metadata": {
        "colab": {
          "base_uri": "https://localhost:8080/"
        },
        "id": "RINGUbwXsv7T",
        "outputId": "ebe1b1e9-a587-4599-cce3-786daf0547b2"
      },
      "source": [
        "y_hat.shape"
      ],
      "execution_count": 20,
      "outputs": [
        {
          "output_type": "execute_result",
          "data": {
            "text/plain": [
              "(1000, 3)"
            ]
          },
          "metadata": {},
          "execution_count": 20
        }
      ]
    },
    {
      "cell_type": "code",
      "metadata": {
        "colab": {
          "base_uri": "https://localhost:8080/"
        },
        "id": "1EgnASbZs1Z7",
        "outputId": "233f7032-37b7-45be-b545-b146ea3796db"
      },
      "source": [
        "from sklearn.metrics import roc_auc_score, roc_curve\n",
        "pct_auc = roc_auc_score(answer_val[:,0], y_hat[:,0])*100\n",
        "print(\"ROC AUC по несхожим фразам: \", pct_auc)"
      ],
      "execution_count": 21,
      "outputs": [
        {
          "output_type": "stream",
          "text": [
            "ROC AUC по несхожим фразам:  57.097934081127676\n"
          ],
          "name": "stdout"
        }
      ]
    },
    {
      "cell_type": "code",
      "metadata": {
        "colab": {
          "base_uri": "https://localhost:8080/"
        },
        "id": "LsfSWm-pw9g6",
        "outputId": "72fe94de-d882-4df0-f0e9-994bf65c0937"
      },
      "source": [
        "pct_auc = roc_auc_score(answer_val[:,1], y_hat[:,1])*100\n",
        "print(\"ROC AUC по схожим фразам: \", pct_auc)"
      ],
      "execution_count": 22,
      "outputs": [
        {
          "output_type": "stream",
          "text": [
            "ROC AUC по схожим фразам:  53.98155298155298\n"
          ],
          "name": "stdout"
        }
      ]
    },
    {
      "cell_type": "code",
      "metadata": {
        "colab": {
          "base_uri": "https://localhost:8080/"
        },
        "id": "Vjaat1QgxF3J",
        "outputId": "5bfbb7ee-9905-470f-b0d1-5dae64ca0ac7"
      },
      "source": [
        "pct_auc = roc_auc_score(answer_val[:,2], y_hat[:,2])*100\n",
        "print(\"ROC AUC по идентичным фразам: \", pct_auc)"
      ],
      "execution_count": 23,
      "outputs": [
        {
          "output_type": "stream",
          "text": [
            "ROC AUC по идентичным фразам:  57.02415317122495\n"
          ],
          "name": "stdout"
        }
      ]
    },
    {
      "cell_type": "code",
      "metadata": {
        "id": "YYjFxvhlvnh7"
      },
      "source": [
        "#нужно взять 2 произвольные фразы, оцифровать их и определить похожесть\n",
        "#\n",
        "import numpy as np\n",
        "\n",
        "#функция \n",
        "#вход: передаем на вход 2 фразы\n",
        "#выход: на выходе строка \n",
        "#Классы перефразирования: -1: непарафразы, 0: свободные перефразы, 1: строгие перефразы.\n",
        "\n",
        "def get_paraphrase_classes(phrase1, phrase2):\n",
        "    morpher = MorphAnalyzer()\n",
        "    num_samples = 1 #длина датасета\n",
        "    max_length = 100\n",
        "\n",
        "    #не забудь нули добавлять в НАЧАЛО\n",
        "    text = np.zeros(shape=(num_samples, max_length))\n",
        "\n",
        "    words = preprocess_txt(morpher, phrase1)\n",
        "    print(words)\n",
        "    cur_text = text[0]\n",
        "    #надо из конца в начало\n",
        "    i = len(words) - 1\n",
        "    j = len(cur_text) - 1\n",
        "    while i >= 0:\n",
        "    #проверка на наличие слова в словаре\n",
        "        if words[i] in dict_words.keys(): \n",
        "            cur_text[j] = dict_words[words[i]]\n",
        "        else:\n",
        "            cur_text[j] = len(dict_words.keys()) + 1    \n",
        "        i -= 1\n",
        "        j -= 1\n",
        "#----------------------------\n",
        "#не забудь нули добавлять в НАЧАЛО\n",
        "    question = np.zeros(shape=(num_samples, max_length))\n",
        "\n",
        "    words = preprocess_txt(morpher, phrase2)\n",
        "    cur_text = question[0]\n",
        "    #надо из конца в начало\n",
        "    i = len(words) - 1\n",
        "    j = len(cur_text) - 1\n",
        "    while i >= 0:\n",
        "    #проверка на наличие слова в словаре\n",
        "        if words[i] in dict_words.keys(): \n",
        "            cur_text[j] = dict_words[words[i]]\n",
        "        else:\n",
        "            cur_text[j] = len(dict_words.keys()) + 1    \n",
        "        i -= 1\n",
        "        j -= 1\n",
        "\n",
        "    predictions = model.predict([text, question])\n",
        "    n = np.argmax(predictions[i,:])\n",
        "#Paraphrase classes: -1: non-paraphrases, 0: loose paraphrases, 1: strict paraphrases.\n",
        "#Классы перефразирования: -1: непарафразы, 0: свободные перефразы, 1: строгие перефразы.\n",
        "    if n == 0:\n",
        "        return False\n",
        "    else:\n",
        "        return True    "
      ],
      "execution_count": 24,
      "outputs": []
    },
    {
      "cell_type": "code",
      "metadata": {
        "colab": {
          "base_uri": "https://localhost:8080/"
        },
        "id": "-cRmfpk-ILeW",
        "outputId": "aec987f8-ac52-4c37-f2cf-576d8f600c89"
      },
      "source": [
        "phrase1 = \"Полицейским разрешат стрелять на поражение по гражданам с травматикой.\"\n",
        "phrase2 = \"Полиции могут разрешить стрелять по хулиганам с травматикой.\"\n",
        "\n",
        "paraphrase_class = get_paraphrase_classes(phrase1, phrase2)\n",
        "if paraphrase_class:\n",
        "    print(\"свободные или строгие перефразы\")\n",
        "else:\n",
        "    print('не являются перефразами')       "
      ],
      "execution_count": 27,
      "outputs": [
        {
          "output_type": "stream",
          "text": [
            "['полицейский', 'разрешить', 'стрелять', 'на', 'поражение', 'по', 'гражданин', 'с', 'травматика']\n",
            "свободные или строгие перефразы\n"
          ],
          "name": "stdout"
        }
      ]
    }
  ]
}