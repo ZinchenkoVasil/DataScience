{
 "cells": [
  {
   "cell_type": "code",
   "execution_count": 227,
   "metadata": {},
   "outputs": [],
   "source": [
    "import gc\n",
    "import os\n",
    "import time\n",
    "import warnings\n",
    "from tqdm import tqdm\n",
    "from typing import List, Optional\n",
    "\n",
    "#import shap\n",
    "import numpy as np\n",
    "import pandas as pd\n",
    "import xgboost as xgb\n",
    "from sklearn.metrics import roc_auc_score\n",
    "from sklearn.ensemble import RandomForestClassifier as RF\n",
    "from sklearn.metrics import f1_score as f1 \n",
    "from sklearn.metrics import classification_report, f1_score, precision_score, recall_score\n",
    "from sklearn.model_selection import train_test_split\n",
    "import missingno as msno\n",
    "from bayes_opt import BayesianOptimization\n",
    "warnings.simplefilter(\"ignore\")\n",
    "pd.set_option(\"display.max_columns\", 100)"
   ]
  },
  {
   "cell_type": "code",
   "execution_count": 228,
   "metadata": {},
   "outputs": [],
   "source": [
    "def get_input(data_path: str) -> pd.DataFrame:\n",
    "    \"\"\"\n",
    "    Считывание данных и вывод основной информации о наборе данных.\n",
    "\n",
    "    Parameters\n",
    "    ----------\n",
    "    data_path: str\n",
    "        Название файла.\n",
    "\n",
    "    Returns\n",
    "    -------\n",
    "    data: pandas.core.frame.DataFrame\n",
    "        Загруженный набор данных в pandas.DataFrame\n",
    "\n",
    "    \"\"\"\n",
    "    base_path = \"sample_data\"\n",
    "    data = pd.read_csv(f\"{base_path}/{data_path}\", delimiter=';', decimal='.')\n",
    "    data.columns = [col.lower() for col in data.columns]\n",
    "    print(f\"{data_path}: shape = {data.shape[0]} rows, {data.shape[1]} cols\")\n",
    "\n",
    "    return data\n",
    "\n",
    "\n",
    "\n",
    "def create_hot_one_encoded_features(X: pd.DataFrame, categorical = None):\n",
    "    \"\"\"\n",
    "    Кодирование текстовых переменных с помощью One-Hot-Encoding.\n",
    "\n",
    "    Parameters\n",
    "    ----------\n",
    "    X: pandas.DataFrame\n",
    "        Сырые данные;\n",
    "\n",
    "    categorical: List[str], optional, default = None\n",
    "        Список категориальных признаков.\n",
    "        Опциональный параметр, по умолчанию, равен None.\n",
    "\n",
    "    Returns\n",
    "    -------\n",
    "    encoded_features: pandas.DataFrame\n",
    "        Матрица OHE - признаков.\n",
    "\n",
    "    \"\"\"\n",
    "    encoded_features = pd.get_dummies(X[categorical])\n",
    "    categorical_column_names = [col.lower().replace(\" \", \"_\")\n",
    "                                for col in encoded_features.columns]\n",
    "    encoded_features.columns = categorical_column_names\n",
    "\n",
    "    return encoded_features, categorical_column_names\n",
    "\n",
    "\n",
    "def prepare_data_for_fit(X: pd.DataFrame):\n",
    "    \"\"\"\n",
    "    Подготовка данных для обучения: разбиение данных на обучающую\n",
    "    часть (где есть значения целевой переменной) и тестовую часть (где\n",
    "    таких значений нет), удаление ненужных признаков для обучения и\n",
    "    выявление категориальных переменных.\n",
    "\n",
    "    Parameters\n",
    "    ----------\n",
    "    X: pandas.core.frame.DataFrame\n",
    "        Матрица признаков.\n",
    "\n",
    "    Returns\n",
    "    -------\n",
    "    x_train: pandas.core.frame.DataFrame\n",
    "        Матрица признаков для обучения алгоритма.\n",
    "\n",
    "    x_test: pandas.core.frame.DataFrame\n",
    "        Матрица признаков для предсказания алгоритма.\n",
    "\n",
    "    target: pandas.core.frame.Series\n",
    "        Вектор целевой переменной.\n",
    "    \"\"\"\n",
    "    \n",
    "    #--------------------------------------------------------------------------------------------------------------------\n",
    "    mask = data[\"data_type\"] == 'TRAIN'\n",
    "    train, test = data.loc[mask], data.loc[~mask]\n",
    "    \n",
    "    #Вычисление кол-ва обоих классов и выяснение необходимости балансировки\n",
    "    mask = train[\"policy_is_renewed\"] == 0\n",
    "    class0, class1 = train.loc[~mask], train.loc[mask]\n",
    "    len_class0 = len(class0)\n",
    "    len_class1 = len(class1)\n",
    "    must_balance = (len_class1/(len_class0 + len_class1) > 10) \n",
    "    \n",
    "    target = train[\"policy_is_renewed\"]\n",
    "    test_id = test['policy_id']\n",
    "    categorical = train.dtypes[train.dtypes == \"object\"].index\n",
    "    to_drop = [\"policy_id\",\"policy_is_renewed\"]\n",
    "    \n",
    "    train = train.drop(categorical, axis=1)\n",
    "    test = test.drop(categorical, axis=1)\n",
    "    \n",
    "    train = train.drop(\n",
    "        to_drop, axis=1\n",
    "    )\n",
    "    test = test.drop(\n",
    "        to_drop, axis=1\n",
    "    )\n",
    "    return train, test, target, must_balance, test_id\n",
    "\n",
    "def get_classification_report(y_train_true, y_train_pred, y_test_true, y_test_pred):\n",
    "    print('TRAIN\\n\\n' + classification_report(y_train_true, y_train_pred))\n",
    "    print('TEST\\n\\n' + classification_report(y_test_true, y_test_pred))\n",
    "    print('CONFUSION MATRIX\\n')\n",
    "    print(pd.crosstab(y_test_true, y_test_pred))"
   ]
  },
  {
   "cell_type": "code",
   "execution_count": 229,
   "metadata": {},
   "outputs": [
    {
     "name": "stdout",
     "output_type": "stream",
     "text": [
      "data.txt: shape = 96605 rows, 30 cols\n"
     ]
    }
   ],
   "source": [
    "data = get_input('data.txt')"
   ]
  },
  {
   "cell_type": "code",
   "execution_count": 230,
   "metadata": {},
   "outputs": [
    {
     "data": {
      "text/html": [
       "<div>\n",
       "<style scoped>\n",
       "    .dataframe tbody tr th:only-of-type {\n",
       "        vertical-align: middle;\n",
       "    }\n",
       "\n",
       "    .dataframe tbody tr th {\n",
       "        vertical-align: top;\n",
       "    }\n",
       "\n",
       "    .dataframe thead th {\n",
       "        text-align: right;\n",
       "    }\n",
       "</style>\n",
       "<table border=\"1\" class=\"dataframe\">\n",
       "  <thead>\n",
       "    <tr style=\"text-align: right;\">\n",
       "      <th></th>\n",
       "      <th>data_type</th>\n",
       "      <th>policy_id</th>\n",
       "      <th>policy_begin_month</th>\n",
       "      <th>policy_end_month</th>\n",
       "      <th>policy_is_renewed</th>\n",
       "      <th>policy_sales_channel</th>\n",
       "      <th>policy_sales_channel_group</th>\n",
       "      <th>policy_branch</th>\n",
       "      <th>policy_min_age</th>\n",
       "      <th>policy_min_driving_experience</th>\n",
       "      <th>vehicle_make</th>\n",
       "      <th>vehicle_model</th>\n",
       "      <th>vehicle_engine_power</th>\n",
       "      <th>vehicle_in_credit</th>\n",
       "      <th>vehicle_sum_insured</th>\n",
       "      <th>policy_intermediary</th>\n",
       "      <th>insurer_gender</th>\n",
       "      <th>policy_clm_n</th>\n",
       "      <th>policy_clm_glt_n</th>\n",
       "      <th>policy_prv_clm_n</th>\n",
       "      <th>policy_prv_clm_glt_n</th>\n",
       "      <th>client_has_dago</th>\n",
       "      <th>client_has_osago</th>\n",
       "      <th>policy_court_sign</th>\n",
       "      <th>claim_avg_acc_st_prd</th>\n",
       "      <th>policy_has_complaints</th>\n",
       "      <th>policy_years_renewed_n</th>\n",
       "      <th>policy_deduct_value</th>\n",
       "      <th>client_registration_region</th>\n",
       "      <th>policy_price_change</th>\n",
       "    </tr>\n",
       "  </thead>\n",
       "  <tbody>\n",
       "    <tr>\n",
       "      <th>0</th>\n",
       "      <td>TRAIN</td>\n",
       "      <td>1</td>\n",
       "      <td>1</td>\n",
       "      <td>1</td>\n",
       "      <td>1</td>\n",
       "      <td>39</td>\n",
       "      <td>1</td>\n",
       "      <td>Москва</td>\n",
       "      <td>51</td>\n",
       "      <td>12</td>\n",
       "      <td>Land Rover</td>\n",
       "      <td>Discovery</td>\n",
       "      <td>245.0</td>\n",
       "      <td>0</td>\n",
       "      <td>1283202.0</td>\n",
       "      <td>856</td>\n",
       "      <td>F</td>\n",
       "      <td>0</td>\n",
       "      <td>0</td>\n",
       "      <td>N</td>\n",
       "      <td>N</td>\n",
       "      <td>1</td>\n",
       "      <td>0</td>\n",
       "      <td>0</td>\n",
       "      <td>0.0</td>\n",
       "      <td>0</td>\n",
       "      <td>0</td>\n",
       "      <td>0.0</td>\n",
       "      <td>Тульская</td>\n",
       "      <td>-1.00</td>\n",
       "    </tr>\n",
       "    <tr>\n",
       "      <th>1</th>\n",
       "      <td>TRAIN</td>\n",
       "      <td>2</td>\n",
       "      <td>1</td>\n",
       "      <td>1</td>\n",
       "      <td>1</td>\n",
       "      <td>50</td>\n",
       "      <td>5</td>\n",
       "      <td>Москва</td>\n",
       "      <td>35</td>\n",
       "      <td>7</td>\n",
       "      <td>Opel</td>\n",
       "      <td>Zafira</td>\n",
       "      <td>140.0</td>\n",
       "      <td>0</td>\n",
       "      <td>453000.0</td>\n",
       "      <td>N</td>\n",
       "      <td>M</td>\n",
       "      <td>0</td>\n",
       "      <td>0</td>\n",
       "      <td>0</td>\n",
       "      <td>0</td>\n",
       "      <td>1</td>\n",
       "      <td>1</td>\n",
       "      <td>0</td>\n",
       "      <td>0.0</td>\n",
       "      <td>0</td>\n",
       "      <td>4</td>\n",
       "      <td>0.0</td>\n",
       "      <td>Москва</td>\n",
       "      <td>-0.05</td>\n",
       "    </tr>\n",
       "    <tr>\n",
       "      <th>2</th>\n",
       "      <td>TRAIN</td>\n",
       "      <td>3</td>\n",
       "      <td>1</td>\n",
       "      <td>1</td>\n",
       "      <td>1</td>\n",
       "      <td>52</td>\n",
       "      <td>6</td>\n",
       "      <td>Москва</td>\n",
       "      <td>41</td>\n",
       "      <td>6</td>\n",
       "      <td>Kia</td>\n",
       "      <td>Soul</td>\n",
       "      <td>129.0</td>\n",
       "      <td>0</td>\n",
       "      <td>647718.0</td>\n",
       "      <td>N</td>\n",
       "      <td>F</td>\n",
       "      <td>0</td>\n",
       "      <td>0</td>\n",
       "      <td>1L</td>\n",
       "      <td>1L</td>\n",
       "      <td>0</td>\n",
       "      <td>0</td>\n",
       "      <td>0</td>\n",
       "      <td>0.0</td>\n",
       "      <td>0</td>\n",
       "      <td>1</td>\n",
       "      <td>12518.0</td>\n",
       "      <td>Московская</td>\n",
       "      <td>-0.07</td>\n",
       "    </tr>\n",
       "    <tr>\n",
       "      <th>3</th>\n",
       "      <td>TRAIN</td>\n",
       "      <td>4</td>\n",
       "      <td>1</td>\n",
       "      <td>1</td>\n",
       "      <td>1</td>\n",
       "      <td>50</td>\n",
       "      <td>5</td>\n",
       "      <td>Москва</td>\n",
       "      <td>36</td>\n",
       "      <td>12</td>\n",
       "      <td>Citroen</td>\n",
       "      <td>C-Crosser</td>\n",
       "      <td>170.0</td>\n",
       "      <td>0</td>\n",
       "      <td>757795.0</td>\n",
       "      <td>N</td>\n",
       "      <td>M</td>\n",
       "      <td>0</td>\n",
       "      <td>0</td>\n",
       "      <td>0</td>\n",
       "      <td>0</td>\n",
       "      <td>1</td>\n",
       "      <td>1</td>\n",
       "      <td>0</td>\n",
       "      <td>0.0</td>\n",
       "      <td>0</td>\n",
       "      <td>6</td>\n",
       "      <td>15000.0</td>\n",
       "      <td>Москва</td>\n",
       "      <td>0.05</td>\n",
       "    </tr>\n",
       "    <tr>\n",
       "      <th>4</th>\n",
       "      <td>TRAIN</td>\n",
       "      <td>5</td>\n",
       "      <td>1</td>\n",
       "      <td>1</td>\n",
       "      <td>0</td>\n",
       "      <td>52</td>\n",
       "      <td>6</td>\n",
       "      <td>Санкт-Петербург</td>\n",
       "      <td>42</td>\n",
       "      <td>5</td>\n",
       "      <td>Renault</td>\n",
       "      <td>Logan</td>\n",
       "      <td>102.0</td>\n",
       "      <td>0</td>\n",
       "      <td>604500.0</td>\n",
       "      <td>171</td>\n",
       "      <td>F</td>\n",
       "      <td>0</td>\n",
       "      <td>0</td>\n",
       "      <td>N</td>\n",
       "      <td>N</td>\n",
       "      <td>0</td>\n",
       "      <td>0</td>\n",
       "      <td>0</td>\n",
       "      <td>0.0</td>\n",
       "      <td>0</td>\n",
       "      <td>0</td>\n",
       "      <td>50000.0</td>\n",
       "      <td>Ленинградская</td>\n",
       "      <td>0.17</td>\n",
       "    </tr>\n",
       "  </tbody>\n",
       "</table>\n",
       "</div>"
      ],
      "text/plain": [
       "  data_type  policy_id  policy_begin_month  policy_end_month  \\\n",
       "0     TRAIN          1                   1                 1   \n",
       "1     TRAIN          2                   1                 1   \n",
       "2     TRAIN          3                   1                 1   \n",
       "3     TRAIN          4                   1                 1   \n",
       "4     TRAIN          5                   1                 1   \n",
       "\n",
       "   policy_is_renewed  policy_sales_channel  policy_sales_channel_group  \\\n",
       "0                  1                    39                           1   \n",
       "1                  1                    50                           5   \n",
       "2                  1                    52                           6   \n",
       "3                  1                    50                           5   \n",
       "4                  0                    52                           6   \n",
       "\n",
       "     policy_branch  policy_min_age  policy_min_driving_experience  \\\n",
       "0           Москва              51                             12   \n",
       "1           Москва              35                              7   \n",
       "2           Москва              41                              6   \n",
       "3           Москва              36                             12   \n",
       "4  Санкт-Петербург              42                              5   \n",
       "\n",
       "  vehicle_make vehicle_model  vehicle_engine_power  vehicle_in_credit  \\\n",
       "0   Land Rover     Discovery                 245.0                  0   \n",
       "1         Opel        Zafira                 140.0                  0   \n",
       "2          Kia          Soul                 129.0                  0   \n",
       "3      Citroen     C-Crosser                 170.0                  0   \n",
       "4      Renault         Logan                 102.0                  0   \n",
       "\n",
       "   vehicle_sum_insured policy_intermediary insurer_gender policy_clm_n  \\\n",
       "0            1283202.0                 856              F            0   \n",
       "1             453000.0                   N              M            0   \n",
       "2             647718.0                   N              F            0   \n",
       "3             757795.0                   N              M            0   \n",
       "4             604500.0                 171              F            0   \n",
       "\n",
       "  policy_clm_glt_n policy_prv_clm_n policy_prv_clm_glt_n  client_has_dago  \\\n",
       "0                0                N                    N                1   \n",
       "1                0                0                    0                1   \n",
       "2                0               1L                   1L                0   \n",
       "3                0                0                    0                1   \n",
       "4                0                N                    N                0   \n",
       "\n",
       "   client_has_osago  policy_court_sign  claim_avg_acc_st_prd  \\\n",
       "0                 0                  0                   0.0   \n",
       "1                 1                  0                   0.0   \n",
       "2                 0                  0                   0.0   \n",
       "3                 1                  0                   0.0   \n",
       "4                 0                  0                   0.0   \n",
       "\n",
       "   policy_has_complaints policy_years_renewed_n  policy_deduct_value  \\\n",
       "0                      0                      0                  0.0   \n",
       "1                      0                      4                  0.0   \n",
       "2                      0                      1              12518.0   \n",
       "3                      0                      6              15000.0   \n",
       "4                      0                      0              50000.0   \n",
       "\n",
       "  client_registration_region  policy_price_change  \n",
       "0                   Тульская                -1.00  \n",
       "1                     Москва                -0.05  \n",
       "2                 Московская                -0.07  \n",
       "3                     Москва                 0.05  \n",
       "4              Ленинградская                 0.17  "
      ]
     },
     "execution_count": 230,
     "metadata": {},
     "output_type": "execute_result"
    }
   ],
   "source": [
    "data.head()"
   ]
  },
  {
   "cell_type": "markdown",
   "metadata": {},
   "source": [
    "Исследование данных"
   ]
  },
  {
   "cell_type": "code",
   "execution_count": 231,
   "metadata": {},
   "outputs": [
    {
     "data": {
      "text/plain": [
       "<matplotlib.axes._subplots.AxesSubplot at 0x6d6a460b70>"
      ]
     },
     "execution_count": 231,
     "metadata": {},
     "output_type": "execute_result"
    },
    {
     "data": {
      "image/png": "[encoded data removed]",
      "text/plain": [
       "<Figure size 1728x720 with 3 Axes>"
      ]
     },
     "metadata": {
      "needs_background": "light"
     },
     "output_type": "display_data"
    }
   ],
   "source": [
    "msno.bar(data)"
   ]
  },
  {
   "cell_type": "markdown",
   "metadata": {},
   "source": [
    "Пропусков нет!"
   ]
  },
  {
   "cell_type": "code",
   "execution_count": 232,
   "metadata": {},
   "outputs": [
    {
     "data": {
      "text/plain": [
       "data_type                         object\n",
       "policy_id                          int64\n",
       "policy_begin_month                 int64\n",
       "policy_end_month                   int64\n",
       "policy_is_renewed                  int64\n",
       "policy_sales_channel               int64\n",
       "policy_sales_channel_group         int64\n",
       "policy_branch                     object\n",
       "policy_min_age                     int64\n",
       "policy_min_driving_experience      int64\n",
       "vehicle_make                      object\n",
       "vehicle_model                     object\n",
       "vehicle_engine_power             float64\n",
       "vehicle_in_credit                  int64\n",
       "vehicle_sum_insured              float64\n",
       "policy_intermediary               object\n",
       "insurer_gender                    object\n",
       "policy_clm_n                      object\n",
       "policy_clm_glt_n                  object\n",
       "policy_prv_clm_n                  object\n",
       "policy_prv_clm_glt_n              object\n",
       "client_has_dago                    int64\n",
       "client_has_osago                   int64\n",
       "policy_court_sign                  int64\n",
       "claim_avg_acc_st_prd             float64\n",
       "policy_has_complaints              int64\n",
       "policy_years_renewed_n            object\n",
       "policy_deduct_value              float64\n",
       "client_registration_region        object\n",
       "policy_price_change              float64\n",
       "dtype: object"
      ]
     },
     "execution_count": 232,
     "metadata": {},
     "output_type": "execute_result"
    }
   ],
   "source": [
    "data.dtypes"
   ]
  },
  {
   "cell_type": "code",
   "execution_count": 233,
   "metadata": {},
   "outputs": [
    {
     "data": {
      "text/html": [
       "<div>\n",
       "<style scoped>\n",
       "    .dataframe tbody tr th:only-of-type {\n",
       "        vertical-align: middle;\n",
       "    }\n",
       "\n",
       "    .dataframe tbody tr th {\n",
       "        vertical-align: top;\n",
       "    }\n",
       "\n",
       "    .dataframe thead th {\n",
       "        text-align: right;\n",
       "    }\n",
       "</style>\n",
       "<table border=\"1\" class=\"dataframe\">\n",
       "  <thead>\n",
       "    <tr style=\"text-align: right;\">\n",
       "      <th></th>\n",
       "      <th>policy_id</th>\n",
       "      <th>policy_begin_month</th>\n",
       "      <th>policy_end_month</th>\n",
       "      <th>policy_is_renewed</th>\n",
       "      <th>policy_sales_channel</th>\n",
       "      <th>policy_sales_channel_group</th>\n",
       "      <th>policy_min_age</th>\n",
       "      <th>policy_min_driving_experience</th>\n",
       "      <th>vehicle_engine_power</th>\n",
       "      <th>vehicle_in_credit</th>\n",
       "      <th>vehicle_sum_insured</th>\n",
       "      <th>client_has_dago</th>\n",
       "      <th>client_has_osago</th>\n",
       "      <th>policy_court_sign</th>\n",
       "      <th>claim_avg_acc_st_prd</th>\n",
       "      <th>policy_has_complaints</th>\n",
       "      <th>policy_deduct_value</th>\n",
       "      <th>policy_price_change</th>\n",
       "    </tr>\n",
       "  </thead>\n",
       "  <tbody>\n",
       "    <tr>\n",
       "      <th>count</th>\n",
       "      <td>96605.000000</td>\n",
       "      <td>96605.000000</td>\n",
       "      <td>96605.000000</td>\n",
       "      <td>96605.000000</td>\n",
       "      <td>96605.000000</td>\n",
       "      <td>96605.000000</td>\n",
       "      <td>96605.000000</td>\n",
       "      <td>96605.000000</td>\n",
       "      <td>96605.000000</td>\n",
       "      <td>96605.000000</td>\n",
       "      <td>9.660500e+04</td>\n",
       "      <td>96605.000000</td>\n",
       "      <td>96605.000000</td>\n",
       "      <td>96605.000000</td>\n",
       "      <td>96605.000000</td>\n",
       "      <td>96605.000000</td>\n",
       "      <td>96605.000000</td>\n",
       "      <td>96605.000000</td>\n",
       "    </tr>\n",
       "    <tr>\n",
       "      <th>mean</th>\n",
       "      <td>48303.000000</td>\n",
       "      <td>6.891393</td>\n",
       "      <td>6.870400</td>\n",
       "      <td>0.500761</td>\n",
       "      <td>47.345251</td>\n",
       "      <td>5.123265</td>\n",
       "      <td>42.580767</td>\n",
       "      <td>34.910357</td>\n",
       "      <td>154.195851</td>\n",
       "      <td>0.321950</td>\n",
       "      <td>9.806700e+05</td>\n",
       "      <td>0.277480</td>\n",
       "      <td>0.550303</td>\n",
       "      <td>0.001014</td>\n",
       "      <td>3.877110</td>\n",
       "      <td>0.007660</td>\n",
       "      <td>5974.134461</td>\n",
       "      <td>-0.033025</td>\n",
       "    </tr>\n",
       "    <tr>\n",
       "      <th>std</th>\n",
       "      <td>27887.605715</td>\n",
       "      <td>3.400597</td>\n",
       "      <td>3.403665</td>\n",
       "      <td>0.500002</td>\n",
       "      <td>14.034159</td>\n",
       "      <td>1.585213</td>\n",
       "      <td>10.694670</td>\n",
       "      <td>199.928966</td>\n",
       "      <td>54.117543</td>\n",
       "      <td>0.467226</td>\n",
       "      <td>6.900919e+05</td>\n",
       "      <td>0.447758</td>\n",
       "      <td>0.497466</td>\n",
       "      <td>0.031834</td>\n",
       "      <td>17.635091</td>\n",
       "      <td>0.087186</td>\n",
       "      <td>10418.697183</td>\n",
       "      <td>0.857995</td>\n",
       "    </tr>\n",
       "    <tr>\n",
       "      <th>min</th>\n",
       "      <td>1.000000</td>\n",
       "      <td>1.000000</td>\n",
       "      <td>1.000000</td>\n",
       "      <td>0.000000</td>\n",
       "      <td>1.000000</td>\n",
       "      <td>1.000000</td>\n",
       "      <td>18.000000</td>\n",
       "      <td>0.000000</td>\n",
       "      <td>0.000000</td>\n",
       "      <td>0.000000</td>\n",
       "      <td>0.000000e+00</td>\n",
       "      <td>0.000000</td>\n",
       "      <td>0.000000</td>\n",
       "      <td>0.000000</td>\n",
       "      <td>0.000000</td>\n",
       "      <td>0.000000</td>\n",
       "      <td>0.000000</td>\n",
       "      <td>-1.000000</td>\n",
       "    </tr>\n",
       "    <tr>\n",
       "      <th>25%</th>\n",
       "      <td>24152.000000</td>\n",
       "      <td>4.000000</td>\n",
       "      <td>4.000000</td>\n",
       "      <td>0.000000</td>\n",
       "      <td>50.000000</td>\n",
       "      <td>5.000000</td>\n",
       "      <td>34.000000</td>\n",
       "      <td>8.000000</td>\n",
       "      <td>123.000000</td>\n",
       "      <td>0.000000</td>\n",
       "      <td>5.584960e+05</td>\n",
       "      <td>0.000000</td>\n",
       "      <td>0.000000</td>\n",
       "      <td>0.000000</td>\n",
       "      <td>0.000000</td>\n",
       "      <td>0.000000</td>\n",
       "      <td>0.000000</td>\n",
       "      <td>-0.170000</td>\n",
       "    </tr>\n",
       "    <tr>\n",
       "      <th>50%</th>\n",
       "      <td>48303.000000</td>\n",
       "      <td>7.000000</td>\n",
       "      <td>7.000000</td>\n",
       "      <td>1.000000</td>\n",
       "      <td>52.000000</td>\n",
       "      <td>6.000000</td>\n",
       "      <td>41.000000</td>\n",
       "      <td>14.000000</td>\n",
       "      <td>146.000000</td>\n",
       "      <td>0.000000</td>\n",
       "      <td>8.090000e+05</td>\n",
       "      <td>0.000000</td>\n",
       "      <td>1.000000</td>\n",
       "      <td>0.000000</td>\n",
       "      <td>0.000000</td>\n",
       "      <td>0.000000</td>\n",
       "      <td>0.000000</td>\n",
       "      <td>0.000000</td>\n",
       "    </tr>\n",
       "    <tr>\n",
       "      <th>75%</th>\n",
       "      <td>72454.000000</td>\n",
       "      <td>10.000000</td>\n",
       "      <td>10.000000</td>\n",
       "      <td>1.000000</td>\n",
       "      <td>53.000000</td>\n",
       "      <td>6.000000</td>\n",
       "      <td>50.000000</td>\n",
       "      <td>19.000000</td>\n",
       "      <td>171.000000</td>\n",
       "      <td>1.000000</td>\n",
       "      <td>1.163900e+06</td>\n",
       "      <td>1.000000</td>\n",
       "      <td>1.000000</td>\n",
       "      <td>0.000000</td>\n",
       "      <td>0.000000</td>\n",
       "      <td>0.000000</td>\n",
       "      <td>10000.000000</td>\n",
       "      <td>0.050000</td>\n",
       "    </tr>\n",
       "    <tr>\n",
       "      <th>max</th>\n",
       "      <td>96605.000000</td>\n",
       "      <td>12.000000</td>\n",
       "      <td>12.000000</td>\n",
       "      <td>1.000000</td>\n",
       "      <td>63.000000</td>\n",
       "      <td>8.000000</td>\n",
       "      <td>86.000000</td>\n",
       "      <td>2015.000000</td>\n",
       "      <td>2000.000000</td>\n",
       "      <td>1.000000</td>\n",
       "      <td>9.449000e+06</td>\n",
       "      <td>1.000000</td>\n",
       "      <td>1.000000</td>\n",
       "      <td>1.000000</td>\n",
       "      <td>737.000000</td>\n",
       "      <td>1.000000</td>\n",
       "      <td>120873.000000</td>\n",
       "      <td>60.020000</td>\n",
       "    </tr>\n",
       "  </tbody>\n",
       "</table>\n",
       "</div>"
      ],
      "text/plain": [
       "          policy_id  policy_begin_month  policy_end_month  policy_is_renewed  \\\n",
       "count  96605.000000        96605.000000      96605.000000       96605.000000   \n",
       "mean   48303.000000            6.891393          6.870400           0.500761   \n",
       "std    27887.605715            3.400597          3.403665           0.500002   \n",
       "min        1.000000            1.000000          1.000000           0.000000   \n",
       "25%    24152.000000            4.000000          4.000000           0.000000   \n",
       "50%    48303.000000            7.000000          7.000000           1.000000   \n",
       "75%    72454.000000           10.000000         10.000000           1.000000   \n",
       "max    96605.000000           12.000000         12.000000           1.000000   \n",
       "\n",
       "       policy_sales_channel  policy_sales_channel_group  policy_min_age  \\\n",
       "count          96605.000000                96605.000000    96605.000000   \n",
       "mean              47.345251                    5.123265       42.580767   \n",
       "std               14.034159                    1.585213       10.694670   \n",
       "min                1.000000                    1.000000       18.000000   \n",
       "25%               50.000000                    5.000000       34.000000   \n",
       "50%               52.000000                    6.000000       41.000000   \n",
       "75%               53.000000                    6.000000       50.000000   \n",
       "max               63.000000                    8.000000       86.000000   \n",
       "\n",
       "       policy_min_driving_experience  vehicle_engine_power  vehicle_in_credit  \\\n",
       "count                   96605.000000          96605.000000       96605.000000   \n",
       "mean                       34.910357            154.195851           0.321950   \n",
       "std                       199.928966             54.117543           0.467226   \n",
       "min                         0.000000              0.000000           0.000000   \n",
       "25%                         8.000000            123.000000           0.000000   \n",
       "50%                        14.000000            146.000000           0.000000   \n",
       "75%                        19.000000            171.000000           1.000000   \n",
       "max                      2015.000000           2000.000000           1.000000   \n",
       "\n",
       "       vehicle_sum_insured  client_has_dago  client_has_osago  \\\n",
       "count         9.660500e+04     96605.000000      96605.000000   \n",
       "mean          9.806700e+05         0.277480          0.550303   \n",
       "std           6.900919e+05         0.447758          0.497466   \n",
       "min           0.000000e+00         0.000000          0.000000   \n",
       "25%           5.584960e+05         0.000000          0.000000   \n",
       "50%           8.090000e+05         0.000000          1.000000   \n",
       "75%           1.163900e+06         1.000000          1.000000   \n",
       "max           9.449000e+06         1.000000          1.000000   \n",
       "\n",
       "       policy_court_sign  claim_avg_acc_st_prd  policy_has_complaints  \\\n",
       "count       96605.000000          96605.000000           96605.000000   \n",
       "mean            0.001014              3.877110               0.007660   \n",
       "std             0.031834             17.635091               0.087186   \n",
       "min             0.000000              0.000000               0.000000   \n",
       "25%             0.000000              0.000000               0.000000   \n",
       "50%             0.000000              0.000000               0.000000   \n",
       "75%             0.000000              0.000000               0.000000   \n",
       "max             1.000000            737.000000               1.000000   \n",
       "\n",
       "       policy_deduct_value  policy_price_change  \n",
       "count         96605.000000         96605.000000  \n",
       "mean           5974.134461            -0.033025  \n",
       "std           10418.697183             0.857995  \n",
       "min               0.000000            -1.000000  \n",
       "25%               0.000000            -0.170000  \n",
       "50%               0.000000             0.000000  \n",
       "75%           10000.000000             0.050000  \n",
       "max          120873.000000            60.020000  "
      ]
     },
     "execution_count": 233,
     "metadata": {},
     "output_type": "execute_result"
    }
   ],
   "source": [
    "data.describe(include=[np.number])"
   ]
  },
  {
   "cell_type": "code",
   "execution_count": 234,
   "metadata": {},
   "outputs": [
    {
     "data": {
      "text/html": [
       "<div>\n",
       "<style scoped>\n",
       "    .dataframe tbody tr th:only-of-type {\n",
       "        vertical-align: middle;\n",
       "    }\n",
       "\n",
       "    .dataframe tbody tr th {\n",
       "        vertical-align: top;\n",
       "    }\n",
       "\n",
       "    .dataframe thead th {\n",
       "        text-align: right;\n",
       "    }\n",
       "</style>\n",
       "<table border=\"1\" class=\"dataframe\">\n",
       "  <thead>\n",
       "    <tr style=\"text-align: right;\">\n",
       "      <th></th>\n",
       "      <th>data_type</th>\n",
       "      <th>policy_branch</th>\n",
       "      <th>vehicle_make</th>\n",
       "      <th>vehicle_model</th>\n",
       "      <th>policy_intermediary</th>\n",
       "      <th>insurer_gender</th>\n",
       "      <th>policy_clm_n</th>\n",
       "      <th>policy_clm_glt_n</th>\n",
       "      <th>policy_prv_clm_n</th>\n",
       "      <th>policy_prv_clm_glt_n</th>\n",
       "      <th>policy_years_renewed_n</th>\n",
       "      <th>client_registration_region</th>\n",
       "    </tr>\n",
       "  </thead>\n",
       "  <tbody>\n",
       "    <tr>\n",
       "      <th>count</th>\n",
       "      <td>96605</td>\n",
       "      <td>96605</td>\n",
       "      <td>96605</td>\n",
       "      <td>96605</td>\n",
       "      <td>96605</td>\n",
       "      <td>96605</td>\n",
       "      <td>96605</td>\n",
       "      <td>96605</td>\n",
       "      <td>96605</td>\n",
       "      <td>96605</td>\n",
       "      <td>96605</td>\n",
       "      <td>96605</td>\n",
       "    </tr>\n",
       "    <tr>\n",
       "      <th>unique</th>\n",
       "      <td>2</td>\n",
       "      <td>2</td>\n",
       "      <td>83</td>\n",
       "      <td>549</td>\n",
       "      <td>1406</td>\n",
       "      <td>2</td>\n",
       "      <td>7</td>\n",
       "      <td>7</td>\n",
       "      <td>7</td>\n",
       "      <td>7</td>\n",
       "      <td>12</td>\n",
       "      <td>85</td>\n",
       "    </tr>\n",
       "    <tr>\n",
       "      <th>top</th>\n",
       "      <td>TRAIN</td>\n",
       "      <td>Москва</td>\n",
       "      <td>Kia</td>\n",
       "      <td>RAV4</td>\n",
       "      <td>N</td>\n",
       "      <td>M</td>\n",
       "      <td>0</td>\n",
       "      <td>0</td>\n",
       "      <td>0</td>\n",
       "      <td>0</td>\n",
       "      <td>0</td>\n",
       "      <td>Санкт-Петербург</td>\n",
       "    </tr>\n",
       "    <tr>\n",
       "      <th>freq</th>\n",
       "      <td>77407</td>\n",
       "      <td>50697</td>\n",
       "      <td>11050</td>\n",
       "      <td>4186</td>\n",
       "      <td>20630</td>\n",
       "      <td>61044</td>\n",
       "      <td>68111</td>\n",
       "      <td>72295</td>\n",
       "      <td>44587</td>\n",
       "      <td>48153</td>\n",
       "      <td>33249</td>\n",
       "      <td>38854</td>\n",
       "    </tr>\n",
       "  </tbody>\n",
       "</table>\n",
       "</div>"
      ],
      "text/plain": [
       "       data_type policy_branch vehicle_make vehicle_model policy_intermediary  \\\n",
       "count      96605         96605        96605         96605               96605   \n",
       "unique         2             2           83           549                1406   \n",
       "top        TRAIN        Москва          Kia          RAV4                   N   \n",
       "freq       77407         50697        11050          4186               20630   \n",
       "\n",
       "       insurer_gender policy_clm_n policy_clm_glt_n policy_prv_clm_n  \\\n",
       "count           96605        96605            96605            96605   \n",
       "unique              2            7                7                7   \n",
       "top                 M            0                0                0   \n",
       "freq            61044        68111            72295            44587   \n",
       "\n",
       "       policy_prv_clm_glt_n policy_years_renewed_n client_registration_region  \n",
       "count                 96605                  96605                      96605  \n",
       "unique                    7                     12                         85  \n",
       "top                       0                      0            Санкт-Петербург  \n",
       "freq                  48153                  33249                      38854  "
      ]
     },
     "execution_count": 234,
     "metadata": {},
     "output_type": "execute_result"
    }
   ],
   "source": [
    "data.describe(include=[np.object])"
   ]
  },
  {
   "cell_type": "markdown",
   "metadata": {},
   "source": [
    "Обработка категориальных переменных"
   ]
  },
  {
   "cell_type": "code",
   "execution_count": 235,
   "metadata": {},
   "outputs": [
    {
     "data": {
      "text/plain": [
       "array(['Москва', 'Санкт-Петербург'], dtype=object)"
      ]
     },
     "execution_count": 235,
     "metadata": {},
     "output_type": "execute_result"
    }
   ],
   "source": [
    "data['policy_branch'].unique()"
   ]
  },
  {
   "cell_type": "code",
   "execution_count": 236,
   "metadata": {},
   "outputs": [],
   "source": [
    "data['Moskow'] = pd.get_dummies(data[\"policy_branch\"])['Москва']"
   ]
  },
  {
   "cell_type": "code",
   "execution_count": 237,
   "metadata": {},
   "outputs": [],
   "source": [
    "data['Peterburg'] = pd.get_dummies(data[\"policy_branch\"])['Санкт-Петербург']"
   ]
  },
  {
   "cell_type": "code",
   "execution_count": 238,
   "metadata": {},
   "outputs": [],
   "source": [
    "data = data.drop('policy_branch', axis=1)"
   ]
  },
  {
   "cell_type": "code",
   "execution_count": 239,
   "metadata": {},
   "outputs": [
    {
     "data": {
      "text/plain": [
       "array(['F', 'M'], dtype=object)"
      ]
     },
     "execution_count": 239,
     "metadata": {},
     "output_type": "execute_result"
    }
   ],
   "source": [
    "data['insurer_gender'].unique()"
   ]
  },
  {
   "cell_type": "code",
   "execution_count": 240,
   "metadata": {},
   "outputs": [],
   "source": [
    "data['F'] = pd.get_dummies(data[\"insurer_gender\"])['F']"
   ]
  },
  {
   "cell_type": "code",
   "execution_count": 241,
   "metadata": {},
   "outputs": [],
   "source": [
    "data['M'] = pd.get_dummies(data[\"insurer_gender\"])['M']"
   ]
  },
  {
   "cell_type": "code",
   "execution_count": 242,
   "metadata": {},
   "outputs": [],
   "source": [
    "data = data.drop('insurer_gender', axis=1)"
   ]
  },
  {
   "cell_type": "code",
   "execution_count": 243,
   "metadata": {},
   "outputs": [
    {
     "data": {
      "text/plain": [
       "array(['0', '1S', '2', '1L', '3', '4+', 'n/d'], dtype=object)"
      ]
     },
     "execution_count": 243,
     "metadata": {},
     "output_type": "execute_result"
    }
   ],
   "source": [
    "data['policy_clm_n'].unique()"
   ]
  },
  {
   "cell_type": "code",
   "execution_count": 244,
   "metadata": {},
   "outputs": [],
   "source": [
    "data['0'] = pd.get_dummies(data[\"policy_clm_n\"])['0']"
   ]
  },
  {
   "cell_type": "code",
   "execution_count": 245,
   "metadata": {},
   "outputs": [],
   "source": [
    "data['1S'] = pd.get_dummies(data[\"policy_clm_n\"])['1S']"
   ]
  },
  {
   "cell_type": "code",
   "execution_count": 246,
   "metadata": {},
   "outputs": [],
   "source": [
    "data['2'] = pd.get_dummies(data[\"policy_clm_n\"])['2']"
   ]
  },
  {
   "cell_type": "code",
   "execution_count": 247,
   "metadata": {},
   "outputs": [],
   "source": [
    "data['1L'] = pd.get_dummies(data[\"policy_clm_n\"])['1L']"
   ]
  },
  {
   "cell_type": "code",
   "execution_count": 248,
   "metadata": {},
   "outputs": [],
   "source": [
    "data['3'] = pd.get_dummies(data[\"policy_clm_n\"])['3']"
   ]
  },
  {
   "cell_type": "code",
   "execution_count": 249,
   "metadata": {},
   "outputs": [],
   "source": [
    "data['4+'] = pd.get_dummies(data[\"policy_clm_n\"])['4+']"
   ]
  },
  {
   "cell_type": "code",
   "execution_count": 250,
   "metadata": {},
   "outputs": [],
   "source": [
    "data = data.drop('policy_clm_n', axis=1)"
   ]
  },
  {
   "cell_type": "code",
   "execution_count": 251,
   "metadata": {},
   "outputs": [
    {
     "data": {
      "text/plain": [
       "array(['0', '1S', '2', '1L', '4+', '3', 'n/d'], dtype=object)"
      ]
     },
     "execution_count": 251,
     "metadata": {},
     "output_type": "execute_result"
    }
   ],
   "source": [
    "data['policy_clm_glt_n'].unique()"
   ]
  },
  {
   "cell_type": "code",
   "execution_count": 252,
   "metadata": {},
   "outputs": [],
   "source": [
    "data['0_glt'] = pd.get_dummies(data[\"policy_clm_glt_n\"])['0']"
   ]
  },
  {
   "cell_type": "code",
   "execution_count": 253,
   "metadata": {},
   "outputs": [],
   "source": [
    "data['1S_glt'] = pd.get_dummies(data[\"policy_clm_glt_n\"])['1S']"
   ]
  },
  {
   "cell_type": "code",
   "execution_count": 254,
   "metadata": {},
   "outputs": [],
   "source": [
    "data['2_glt'] = pd.get_dummies(data[\"policy_clm_glt_n\"])['2']"
   ]
  },
  {
   "cell_type": "code",
   "execution_count": 255,
   "metadata": {},
   "outputs": [],
   "source": [
    "data['1L_glt'] = pd.get_dummies(data[\"policy_clm_glt_n\"])['1L']"
   ]
  },
  {
   "cell_type": "code",
   "execution_count": 256,
   "metadata": {},
   "outputs": [],
   "source": [
    "data['3_glt'] = pd.get_dummies(data[\"policy_clm_glt_n\"])['3']"
   ]
  },
  {
   "cell_type": "code",
   "execution_count": 257,
   "metadata": {},
   "outputs": [],
   "source": [
    "data['4+_glt'] = pd.get_dummies(data[\"policy_clm_glt_n\"])['4+']"
   ]
  },
  {
   "cell_type": "code",
   "execution_count": 258,
   "metadata": {},
   "outputs": [],
   "source": [
    "data = data.drop('policy_clm_glt_n', axis=1)"
   ]
  },
  {
   "cell_type": "code",
   "execution_count": null,
   "metadata": {},
   "outputs": [],
   "source": []
  },
  {
   "cell_type": "code",
   "execution_count": 259,
   "metadata": {},
   "outputs": [
    {
     "data": {
      "text/plain": [
       "array(['N', '0', '1L', '1S', '2', '3', '4+'], dtype=object)"
      ]
     },
     "execution_count": 259,
     "metadata": {},
     "output_type": "execute_result"
    }
   ],
   "source": [
    "data['policy_prv_clm_n'].unique()"
   ]
  },
  {
   "cell_type": "code",
   "execution_count": 260,
   "metadata": {},
   "outputs": [],
   "source": [
    "data['prv_0'] = pd.get_dummies(data[\"policy_prv_clm_n\"])['0']"
   ]
  },
  {
   "cell_type": "code",
   "execution_count": 261,
   "metadata": {},
   "outputs": [],
   "source": [
    "data['prv_1S'] = pd.get_dummies(data[\"policy_prv_clm_n\"])['1S']"
   ]
  },
  {
   "cell_type": "code",
   "execution_count": 262,
   "metadata": {},
   "outputs": [],
   "source": [
    "data['prv_2'] = pd.get_dummies(data[\"policy_prv_clm_n\"])['2']"
   ]
  },
  {
   "cell_type": "code",
   "execution_count": 263,
   "metadata": {},
   "outputs": [],
   "source": [
    "data['prv_1L'] = pd.get_dummies(data[\"policy_prv_clm_n\"])['1L']"
   ]
  },
  {
   "cell_type": "code",
   "execution_count": 264,
   "metadata": {},
   "outputs": [],
   "source": [
    "data['prv_3'] = pd.get_dummies(data[\"policy_prv_clm_n\"])['3']"
   ]
  },
  {
   "cell_type": "code",
   "execution_count": 265,
   "metadata": {},
   "outputs": [],
   "source": [
    "data['prv_4+'] = pd.get_dummies(data[\"policy_prv_clm_n\"])['4+']"
   ]
  },
  {
   "cell_type": "code",
   "execution_count": 266,
   "metadata": {},
   "outputs": [],
   "source": [
    "data = data.drop('policy_prv_clm_n', axis=1)"
   ]
  },
  {
   "cell_type": "code",
   "execution_count": 267,
   "metadata": {},
   "outputs": [
    {
     "data": {
      "text/plain": [
       "array(['N', '0', '1L', '1S', '2', '3', '4+'], dtype=object)"
      ]
     },
     "execution_count": 267,
     "metadata": {},
     "output_type": "execute_result"
    }
   ],
   "source": [
    "data['policy_prv_clm_glt_n'].unique()"
   ]
  },
  {
   "cell_type": "code",
   "execution_count": 268,
   "metadata": {},
   "outputs": [],
   "source": [
    "data['prv_0_glt'] = pd.get_dummies(data[\"policy_prv_clm_glt_n\"])['0']"
   ]
  },
  {
   "cell_type": "code",
   "execution_count": 269,
   "metadata": {},
   "outputs": [],
   "source": [
    "data['prv_1S_glt'] = pd.get_dummies(data[\"policy_prv_clm_glt_n\"])['1S']"
   ]
  },
  {
   "cell_type": "code",
   "execution_count": 270,
   "metadata": {},
   "outputs": [],
   "source": [
    "data['prv_2_glt'] = pd.get_dummies(data[\"policy_prv_clm_glt_n\"])['2']"
   ]
  },
  {
   "cell_type": "code",
   "execution_count": 271,
   "metadata": {},
   "outputs": [],
   "source": [
    "data['prv_1L_glt'] = pd.get_dummies(data[\"policy_prv_clm_glt_n\"])['1L']"
   ]
  },
  {
   "cell_type": "code",
   "execution_count": 272,
   "metadata": {},
   "outputs": [],
   "source": [
    "data['prv_3_glt'] = pd.get_dummies(data[\"policy_prv_clm_glt_n\"])['3']"
   ]
  },
  {
   "cell_type": "code",
   "execution_count": 273,
   "metadata": {},
   "outputs": [],
   "source": [
    "data['prv_4+_glt'] = pd.get_dummies(data[\"policy_prv_clm_glt_n\"])['4+']"
   ]
  },
  {
   "cell_type": "code",
   "execution_count": 274,
   "metadata": {},
   "outputs": [],
   "source": [
    "data = data.drop('policy_prv_clm_glt_n', axis=1)"
   ]
  },
  {
   "cell_type": "code",
   "execution_count": 275,
   "metadata": {},
   "outputs": [
    {
     "data": {
      "text/plain": [
       "array(['0', '4', '1', '6', '3', '2', '7', '5', '10', '8', 'N', '9'],\n",
       "      dtype=object)"
      ]
     },
     "execution_count": 275,
     "metadata": {},
     "output_type": "execute_result"
    }
   ],
   "source": [
    "data['policy_years_renewed_n'].unique()"
   ]
  },
  {
   "cell_type": "code",
   "execution_count": 276,
   "metadata": {},
   "outputs": [],
   "source": [
    "### YOUR CODE HERE ###\n",
    "def string_to_number(years):\n",
    "    if years == 'N':\n",
    "        return 0\n",
    "    else:\n",
    "        return int(years)\n",
    "\n",
    "data[\"int_policy_years_renewed_n\"] = data.apply(lambda x: string_to_number(x['policy_years_renewed_n']),axis=1)"
   ]
  },
  {
   "cell_type": "code",
   "execution_count": 277,
   "metadata": {},
   "outputs": [],
   "source": [
    "data = data.drop('policy_years_renewed_n', axis=1)"
   ]
  },
  {
   "cell_type": "code",
   "execution_count": 278,
   "metadata": {},
   "outputs": [
    {
     "data": {
      "text/html": [
       "<div>\n",
       "<style scoped>\n",
       "    .dataframe tbody tr th:only-of-type {\n",
       "        vertical-align: middle;\n",
       "    }\n",
       "\n",
       "    .dataframe tbody tr th {\n",
       "        vertical-align: top;\n",
       "    }\n",
       "\n",
       "    .dataframe thead th {\n",
       "        text-align: right;\n",
       "    }\n",
       "</style>\n",
       "<table border=\"1\" class=\"dataframe\">\n",
       "  <thead>\n",
       "    <tr style=\"text-align: right;\">\n",
       "      <th></th>\n",
       "      <th>data_type</th>\n",
       "      <th>policy_id</th>\n",
       "      <th>policy_begin_month</th>\n",
       "      <th>policy_end_month</th>\n",
       "      <th>policy_is_renewed</th>\n",
       "      <th>policy_sales_channel</th>\n",
       "      <th>policy_sales_channel_group</th>\n",
       "      <th>policy_min_age</th>\n",
       "      <th>policy_min_driving_experience</th>\n",
       "      <th>vehicle_make</th>\n",
       "      <th>vehicle_model</th>\n",
       "      <th>vehicle_engine_power</th>\n",
       "      <th>vehicle_in_credit</th>\n",
       "      <th>vehicle_sum_insured</th>\n",
       "      <th>policy_intermediary</th>\n",
       "      <th>client_has_dago</th>\n",
       "      <th>client_has_osago</th>\n",
       "      <th>policy_court_sign</th>\n",
       "      <th>claim_avg_acc_st_prd</th>\n",
       "      <th>policy_has_complaints</th>\n",
       "      <th>policy_deduct_value</th>\n",
       "      <th>client_registration_region</th>\n",
       "      <th>policy_price_change</th>\n",
       "      <th>Moskow</th>\n",
       "      <th>Peterburg</th>\n",
       "      <th>F</th>\n",
       "      <th>M</th>\n",
       "      <th>0</th>\n",
       "      <th>1S</th>\n",
       "      <th>2</th>\n",
       "      <th>1L</th>\n",
       "      <th>3</th>\n",
       "      <th>4+</th>\n",
       "      <th>0_glt</th>\n",
       "      <th>1S_glt</th>\n",
       "      <th>2_glt</th>\n",
       "      <th>1L_glt</th>\n",
       "      <th>3_glt</th>\n",
       "      <th>4+_glt</th>\n",
       "      <th>prv_0</th>\n",
       "      <th>prv_1S</th>\n",
       "      <th>prv_2</th>\n",
       "      <th>prv_1L</th>\n",
       "      <th>prv_3</th>\n",
       "      <th>prv_4+</th>\n",
       "      <th>prv_0_glt</th>\n",
       "      <th>prv_1S_glt</th>\n",
       "      <th>prv_2_glt</th>\n",
       "      <th>prv_1L_glt</th>\n",
       "      <th>prv_3_glt</th>\n",
       "      <th>prv_4+_glt</th>\n",
       "      <th>int_policy_years_renewed_n</th>\n",
       "    </tr>\n",
       "  </thead>\n",
       "  <tbody>\n",
       "    <tr>\n",
       "      <th>0</th>\n",
       "      <td>TRAIN</td>\n",
       "      <td>1</td>\n",
       "      <td>1</td>\n",
       "      <td>1</td>\n",
       "      <td>1</td>\n",
       "      <td>39</td>\n",
       "      <td>1</td>\n",
       "      <td>51</td>\n",
       "      <td>12</td>\n",
       "      <td>Land Rover</td>\n",
       "      <td>Discovery</td>\n",
       "      <td>245.0</td>\n",
       "      <td>0</td>\n",
       "      <td>1283202.0</td>\n",
       "      <td>856</td>\n",
       "      <td>1</td>\n",
       "      <td>0</td>\n",
       "      <td>0</td>\n",
       "      <td>0.0</td>\n",
       "      <td>0</td>\n",
       "      <td>0.0</td>\n",
       "      <td>Тульская</td>\n",
       "      <td>-1.00</td>\n",
       "      <td>1</td>\n",
       "      <td>0</td>\n",
       "      <td>1</td>\n",
       "      <td>0</td>\n",
       "      <td>1</td>\n",
       "      <td>0</td>\n",
       "      <td>0</td>\n",
       "      <td>0</td>\n",
       "      <td>0</td>\n",
       "      <td>0</td>\n",
       "      <td>1</td>\n",
       "      <td>0</td>\n",
       "      <td>0</td>\n",
       "      <td>0</td>\n",
       "      <td>0</td>\n",
       "      <td>0</td>\n",
       "      <td>0</td>\n",
       "      <td>0</td>\n",
       "      <td>0</td>\n",
       "      <td>0</td>\n",
       "      <td>0</td>\n",
       "      <td>0</td>\n",
       "      <td>0</td>\n",
       "      <td>0</td>\n",
       "      <td>0</td>\n",
       "      <td>0</td>\n",
       "      <td>0</td>\n",
       "      <td>0</td>\n",
       "      <td>0</td>\n",
       "    </tr>\n",
       "    <tr>\n",
       "      <th>1</th>\n",
       "      <td>TRAIN</td>\n",
       "      <td>2</td>\n",
       "      <td>1</td>\n",
       "      <td>1</td>\n",
       "      <td>1</td>\n",
       "      <td>50</td>\n",
       "      <td>5</td>\n",
       "      <td>35</td>\n",
       "      <td>7</td>\n",
       "      <td>Opel</td>\n",
       "      <td>Zafira</td>\n",
       "      <td>140.0</td>\n",
       "      <td>0</td>\n",
       "      <td>453000.0</td>\n",
       "      <td>N</td>\n",
       "      <td>1</td>\n",
       "      <td>1</td>\n",
       "      <td>0</td>\n",
       "      <td>0.0</td>\n",
       "      <td>0</td>\n",
       "      <td>0.0</td>\n",
       "      <td>Москва</td>\n",
       "      <td>-0.05</td>\n",
       "      <td>1</td>\n",
       "      <td>0</td>\n",
       "      <td>0</td>\n",
       "      <td>1</td>\n",
       "      <td>1</td>\n",
       "      <td>0</td>\n",
       "      <td>0</td>\n",
       "      <td>0</td>\n",
       "      <td>0</td>\n",
       "      <td>0</td>\n",
       "      <td>1</td>\n",
       "      <td>0</td>\n",
       "      <td>0</td>\n",
       "      <td>0</td>\n",
       "      <td>0</td>\n",
       "      <td>0</td>\n",
       "      <td>1</td>\n",
       "      <td>0</td>\n",
       "      <td>0</td>\n",
       "      <td>0</td>\n",
       "      <td>0</td>\n",
       "      <td>0</td>\n",
       "      <td>1</td>\n",
       "      <td>0</td>\n",
       "      <td>0</td>\n",
       "      <td>0</td>\n",
       "      <td>0</td>\n",
       "      <td>0</td>\n",
       "      <td>4</td>\n",
       "    </tr>\n",
       "  </tbody>\n",
       "</table>\n",
       "</div>"
      ],
      "text/plain": [
       "  data_type  policy_id  policy_begin_month  policy_end_month  \\\n",
       "0     TRAIN          1                   1                 1   \n",
       "1     TRAIN          2                   1                 1   \n",
       "\n",
       "   policy_is_renewed  policy_sales_channel  policy_sales_channel_group  \\\n",
       "0                  1                    39                           1   \n",
       "1                  1                    50                           5   \n",
       "\n",
       "   policy_min_age  policy_min_driving_experience vehicle_make vehicle_model  \\\n",
       "0              51                             12   Land Rover     Discovery   \n",
       "1              35                              7         Opel        Zafira   \n",
       "\n",
       "   vehicle_engine_power  vehicle_in_credit  vehicle_sum_insured  \\\n",
       "0                 245.0                  0            1283202.0   \n",
       "1                 140.0                  0             453000.0   \n",
       "\n",
       "  policy_intermediary  client_has_dago  client_has_osago  policy_court_sign  \\\n",
       "0                 856                1                 0                  0   \n",
       "1                   N                1                 1                  0   \n",
       "\n",
       "   claim_avg_acc_st_prd  policy_has_complaints  policy_deduct_value  \\\n",
       "0                   0.0                      0                  0.0   \n",
       "1                   0.0                      0                  0.0   \n",
       "\n",
       "  client_registration_region  policy_price_change  Moskow  Peterburg  F  M  0  \\\n",
       "0                   Тульская                -1.00       1          0  1  0  1   \n",
       "1                     Москва                -0.05       1          0  0  1  1   \n",
       "\n",
       "   1S  2  1L  3  4+  0_glt  1S_glt  2_glt  1L_glt  3_glt  4+_glt  prv_0  \\\n",
       "0   0  0   0  0   0      1       0      0       0      0       0      0   \n",
       "1   0  0   0  0   0      1       0      0       0      0       0      1   \n",
       "\n",
       "   prv_1S  prv_2  prv_1L  prv_3  prv_4+  prv_0_glt  prv_1S_glt  prv_2_glt  \\\n",
       "0       0      0       0      0       0          0           0          0   \n",
       "1       0      0       0      0       0          1           0          0   \n",
       "\n",
       "   prv_1L_glt  prv_3_glt  prv_4+_glt  int_policy_years_renewed_n  \n",
       "0           0          0           0                           0  \n",
       "1           0          0           0                           4  "
      ]
     },
     "execution_count": 278,
     "metadata": {},
     "output_type": "execute_result"
    }
   ],
   "source": [
    "data.head(2)"
   ]
  },
  {
   "cell_type": "code",
   "execution_count": 279,
   "metadata": {},
   "outputs": [
    {
     "data": {
      "text/html": [
       "<div>\n",
       "<style scoped>\n",
       "    .dataframe tbody tr th:only-of-type {\n",
       "        vertical-align: middle;\n",
       "    }\n",
       "\n",
       "    .dataframe tbody tr th {\n",
       "        vertical-align: top;\n",
       "    }\n",
       "\n",
       "    .dataframe thead th {\n",
       "        text-align: right;\n",
       "    }\n",
       "</style>\n",
       "<table border=\"1\" class=\"dataframe\">\n",
       "  <thead>\n",
       "    <tr style=\"text-align: right;\">\n",
       "      <th></th>\n",
       "      <th>vehicle_make</th>\n",
       "      <th>vehicle_make_freq_enc</th>\n",
       "    </tr>\n",
       "  </thead>\n",
       "  <tbody>\n",
       "    <tr>\n",
       "      <th>0</th>\n",
       "      <td>Land Rover</td>\n",
       "      <td>0.017328</td>\n",
       "    </tr>\n",
       "    <tr>\n",
       "      <th>1</th>\n",
       "      <td>Opel</td>\n",
       "      <td>0.018519</td>\n",
       "    </tr>\n",
       "  </tbody>\n",
       "</table>\n",
       "</div>"
      ],
      "text/plain": [
       "  vehicle_make  vehicle_make_freq_enc\n",
       "0   Land Rover               0.017328\n",
       "1         Opel               0.018519"
      ]
     },
     "execution_count": 279,
     "metadata": {},
     "output_type": "execute_result"
    }
   ],
   "source": [
    "#имеет смысл новый параметр частотность марки ТС\n",
    "freq_encoder = data[\"vehicle_make\"].value_counts(normalize=True)\n",
    "data[\"vehicle_make_freq_enc\"] = data[\"vehicle_make\"].map(freq_encoder)\n",
    "data[[\"vehicle_make\", \"vehicle_make_freq_enc\"]].head(2)"
   ]
  },
  {
   "cell_type": "code",
   "execution_count": 280,
   "metadata": {},
   "outputs": [],
   "source": [
    "data[\"vehicle_model\"] = data[\"vehicle_make\"] + ' ' + data[\"vehicle_model\"] "
   ]
  },
  {
   "cell_type": "code",
   "execution_count": 281,
   "metadata": {},
   "outputs": [
    {
     "data": {
      "text/html": [
       "<div>\n",
       "<style scoped>\n",
       "    .dataframe tbody tr th:only-of-type {\n",
       "        vertical-align: middle;\n",
       "    }\n",
       "\n",
       "    .dataframe tbody tr th {\n",
       "        vertical-align: top;\n",
       "    }\n",
       "\n",
       "    .dataframe thead th {\n",
       "        text-align: right;\n",
       "    }\n",
       "</style>\n",
       "<table border=\"1\" class=\"dataframe\">\n",
       "  <thead>\n",
       "    <tr style=\"text-align: right;\">\n",
       "      <th></th>\n",
       "      <th>vehicle_model</th>\n",
       "      <th>vehicle_model_freq_enc</th>\n",
       "    </tr>\n",
       "  </thead>\n",
       "  <tbody>\n",
       "    <tr>\n",
       "      <th>0</th>\n",
       "      <td>Land Rover Discovery</td>\n",
       "      <td>0.002733</td>\n",
       "    </tr>\n",
       "    <tr>\n",
       "      <th>1</th>\n",
       "      <td>Opel Zafira</td>\n",
       "      <td>0.001936</td>\n",
       "    </tr>\n",
       "  </tbody>\n",
       "</table>\n",
       "</div>"
      ],
      "text/plain": [
       "          vehicle_model  vehicle_model_freq_enc\n",
       "0  Land Rover Discovery                0.002733\n",
       "1           Opel Zafira                0.001936"
      ]
     },
     "execution_count": 281,
     "metadata": {},
     "output_type": "execute_result"
    }
   ],
   "source": [
    "#имеет смысл новый параметр частотность модели ТС\n",
    "freq_encoder = data[\"vehicle_model\"].value_counts(normalize=True)\n",
    "data[\"vehicle_model_freq_enc\"] = data[\"vehicle_model\"].map(freq_encoder)\n",
    "data[[\"vehicle_model\", \"vehicle_model_freq_enc\"]].head(2)"
   ]
  },
  {
   "cell_type": "code",
   "execution_count": 282,
   "metadata": {},
   "outputs": [
    {
     "data": {
      "text/html": [
       "<div>\n",
       "<style scoped>\n",
       "    .dataframe tbody tr th:only-of-type {\n",
       "        vertical-align: middle;\n",
       "    }\n",
       "\n",
       "    .dataframe tbody tr th {\n",
       "        vertical-align: top;\n",
       "    }\n",
       "\n",
       "    .dataframe thead th {\n",
       "        text-align: right;\n",
       "    }\n",
       "</style>\n",
       "<table border=\"1\" class=\"dataframe\">\n",
       "  <thead>\n",
       "    <tr style=\"text-align: right;\">\n",
       "      <th></th>\n",
       "      <th>data_type</th>\n",
       "      <th>policy_id</th>\n",
       "      <th>policy_begin_month</th>\n",
       "      <th>policy_end_month</th>\n",
       "      <th>policy_is_renewed</th>\n",
       "      <th>policy_sales_channel</th>\n",
       "      <th>policy_sales_channel_group</th>\n",
       "      <th>policy_min_age</th>\n",
       "      <th>policy_min_driving_experience</th>\n",
       "      <th>vehicle_make</th>\n",
       "      <th>vehicle_model</th>\n",
       "      <th>vehicle_engine_power</th>\n",
       "      <th>vehicle_in_credit</th>\n",
       "      <th>vehicle_sum_insured</th>\n",
       "      <th>policy_intermediary</th>\n",
       "      <th>client_has_dago</th>\n",
       "      <th>client_has_osago</th>\n",
       "      <th>policy_court_sign</th>\n",
       "      <th>claim_avg_acc_st_prd</th>\n",
       "      <th>policy_has_complaints</th>\n",
       "      <th>policy_deduct_value</th>\n",
       "      <th>client_registration_region</th>\n",
       "      <th>policy_price_change</th>\n",
       "      <th>Moskow</th>\n",
       "      <th>Peterburg</th>\n",
       "      <th>F</th>\n",
       "      <th>M</th>\n",
       "      <th>0</th>\n",
       "      <th>1S</th>\n",
       "      <th>2</th>\n",
       "      <th>1L</th>\n",
       "      <th>3</th>\n",
       "      <th>4+</th>\n",
       "      <th>0_glt</th>\n",
       "      <th>1S_glt</th>\n",
       "      <th>2_glt</th>\n",
       "      <th>1L_glt</th>\n",
       "      <th>3_glt</th>\n",
       "      <th>4+_glt</th>\n",
       "      <th>prv_0</th>\n",
       "      <th>prv_1S</th>\n",
       "      <th>prv_2</th>\n",
       "      <th>prv_1L</th>\n",
       "      <th>prv_3</th>\n",
       "      <th>prv_4+</th>\n",
       "      <th>prv_0_glt</th>\n",
       "      <th>prv_1S_glt</th>\n",
       "      <th>prv_2_glt</th>\n",
       "      <th>prv_1L_glt</th>\n",
       "      <th>prv_3_glt</th>\n",
       "      <th>prv_4+_glt</th>\n",
       "      <th>int_policy_years_renewed_n</th>\n",
       "      <th>vehicle_make_freq_enc</th>\n",
       "      <th>vehicle_model_freq_enc</th>\n",
       "    </tr>\n",
       "  </thead>\n",
       "  <tbody>\n",
       "    <tr>\n",
       "      <th>0</th>\n",
       "      <td>TRAIN</td>\n",
       "      <td>1</td>\n",
       "      <td>1</td>\n",
       "      <td>1</td>\n",
       "      <td>1</td>\n",
       "      <td>39</td>\n",
       "      <td>1</td>\n",
       "      <td>51</td>\n",
       "      <td>12</td>\n",
       "      <td>Land Rover</td>\n",
       "      <td>Land Rover Discovery</td>\n",
       "      <td>245.0</td>\n",
       "      <td>0</td>\n",
       "      <td>1283202.0</td>\n",
       "      <td>856</td>\n",
       "      <td>1</td>\n",
       "      <td>0</td>\n",
       "      <td>0</td>\n",
       "      <td>0.0</td>\n",
       "      <td>0</td>\n",
       "      <td>0.0</td>\n",
       "      <td>Тульская</td>\n",
       "      <td>-1.00</td>\n",
       "      <td>1</td>\n",
       "      <td>0</td>\n",
       "      <td>1</td>\n",
       "      <td>0</td>\n",
       "      <td>1</td>\n",
       "      <td>0</td>\n",
       "      <td>0</td>\n",
       "      <td>0</td>\n",
       "      <td>0</td>\n",
       "      <td>0</td>\n",
       "      <td>1</td>\n",
       "      <td>0</td>\n",
       "      <td>0</td>\n",
       "      <td>0</td>\n",
       "      <td>0</td>\n",
       "      <td>0</td>\n",
       "      <td>0</td>\n",
       "      <td>0</td>\n",
       "      <td>0</td>\n",
       "      <td>0</td>\n",
       "      <td>0</td>\n",
       "      <td>0</td>\n",
       "      <td>0</td>\n",
       "      <td>0</td>\n",
       "      <td>0</td>\n",
       "      <td>0</td>\n",
       "      <td>0</td>\n",
       "      <td>0</td>\n",
       "      <td>0</td>\n",
       "      <td>0.017328</td>\n",
       "      <td>0.002733</td>\n",
       "    </tr>\n",
       "    <tr>\n",
       "      <th>1</th>\n",
       "      <td>TRAIN</td>\n",
       "      <td>2</td>\n",
       "      <td>1</td>\n",
       "      <td>1</td>\n",
       "      <td>1</td>\n",
       "      <td>50</td>\n",
       "      <td>5</td>\n",
       "      <td>35</td>\n",
       "      <td>7</td>\n",
       "      <td>Opel</td>\n",
       "      <td>Opel Zafira</td>\n",
       "      <td>140.0</td>\n",
       "      <td>0</td>\n",
       "      <td>453000.0</td>\n",
       "      <td>N</td>\n",
       "      <td>1</td>\n",
       "      <td>1</td>\n",
       "      <td>0</td>\n",
       "      <td>0.0</td>\n",
       "      <td>0</td>\n",
       "      <td>0.0</td>\n",
       "      <td>Москва</td>\n",
       "      <td>-0.05</td>\n",
       "      <td>1</td>\n",
       "      <td>0</td>\n",
       "      <td>0</td>\n",
       "      <td>1</td>\n",
       "      <td>1</td>\n",
       "      <td>0</td>\n",
       "      <td>0</td>\n",
       "      <td>0</td>\n",
       "      <td>0</td>\n",
       "      <td>0</td>\n",
       "      <td>1</td>\n",
       "      <td>0</td>\n",
       "      <td>0</td>\n",
       "      <td>0</td>\n",
       "      <td>0</td>\n",
       "      <td>0</td>\n",
       "      <td>1</td>\n",
       "      <td>0</td>\n",
       "      <td>0</td>\n",
       "      <td>0</td>\n",
       "      <td>0</td>\n",
       "      <td>0</td>\n",
       "      <td>1</td>\n",
       "      <td>0</td>\n",
       "      <td>0</td>\n",
       "      <td>0</td>\n",
       "      <td>0</td>\n",
       "      <td>0</td>\n",
       "      <td>4</td>\n",
       "      <td>0.018519</td>\n",
       "      <td>0.001936</td>\n",
       "    </tr>\n",
       "  </tbody>\n",
       "</table>\n",
       "</div>"
      ],
      "text/plain": [
       "  data_type  policy_id  policy_begin_month  policy_end_month  \\\n",
       "0     TRAIN          1                   1                 1   \n",
       "1     TRAIN          2                   1                 1   \n",
       "\n",
       "   policy_is_renewed  policy_sales_channel  policy_sales_channel_group  \\\n",
       "0                  1                    39                           1   \n",
       "1                  1                    50                           5   \n",
       "\n",
       "   policy_min_age  policy_min_driving_experience vehicle_make  \\\n",
       "0              51                             12   Land Rover   \n",
       "1              35                              7         Opel   \n",
       "\n",
       "          vehicle_model  vehicle_engine_power  vehicle_in_credit  \\\n",
       "0  Land Rover Discovery                 245.0                  0   \n",
       "1           Opel Zafira                 140.0                  0   \n",
       "\n",
       "   vehicle_sum_insured policy_intermediary  client_has_dago  client_has_osago  \\\n",
       "0            1283202.0                 856                1                 0   \n",
       "1             453000.0                   N                1                 1   \n",
       "\n",
       "   policy_court_sign  claim_avg_acc_st_prd  policy_has_complaints  \\\n",
       "0                  0                   0.0                      0   \n",
       "1                  0                   0.0                      0   \n",
       "\n",
       "   policy_deduct_value client_registration_region  policy_price_change  \\\n",
       "0                  0.0                   Тульская                -1.00   \n",
       "1                  0.0                     Москва                -0.05   \n",
       "\n",
       "   Moskow  Peterburg  F  M  0  1S  2  1L  3  4+  0_glt  1S_glt  2_glt  1L_glt  \\\n",
       "0       1          0  1  0  1   0  0   0  0   0      1       0      0       0   \n",
       "1       1          0  0  1  1   0  0   0  0   0      1       0      0       0   \n",
       "\n",
       "   3_glt  4+_glt  prv_0  prv_1S  prv_2  prv_1L  prv_3  prv_4+  prv_0_glt  \\\n",
       "0      0       0      0       0      0       0      0       0          0   \n",
       "1      0       0      1       0      0       0      0       0          1   \n",
       "\n",
       "   prv_1S_glt  prv_2_glt  prv_1L_glt  prv_3_glt  prv_4+_glt  \\\n",
       "0           0          0           0          0           0   \n",
       "1           0          0           0          0           0   \n",
       "\n",
       "   int_policy_years_renewed_n  vehicle_make_freq_enc  vehicle_model_freq_enc  \n",
       "0                           0               0.017328                0.002733  \n",
       "1                           4               0.018519                0.001936  "
      ]
     },
     "execution_count": 282,
     "metadata": {},
     "output_type": "execute_result"
    }
   ],
   "source": [
    "data.head(2)"
   ]
  },
  {
   "cell_type": "markdown",
   "metadata": {},
   "source": [
    "Разбивка данных на train и test"
   ]
  },
  {
   "cell_type": "code",
   "execution_count": 283,
   "metadata": {},
   "outputs": [
    {
     "data": {
      "text/plain": [
       "array(['TRAIN', 'TEST '], dtype=object)"
      ]
     },
     "execution_count": 283,
     "metadata": {},
     "output_type": "execute_result"
    }
   ],
   "source": [
    "data['data_type'].unique()"
   ]
  },
  {
   "cell_type": "code",
   "execution_count": 284,
   "metadata": {},
   "outputs": [
    {
     "name": "stdout",
     "output_type": "stream",
     "text": [
      "count of numeric_features 47\n"
     ]
    }
   ],
   "source": [
    "train, test, target, must_balance, test_id = prepare_data_for_fit(data)\n",
    "\n",
    "numerical_features = train.select_dtypes(include=[np.number])\n",
    "print(f\"count of numeric_features {numerical_features.shape[1]}\")"
   ]
  },
  {
   "cell_type": "markdown",
   "metadata": {},
   "source": [
    "выяснение необходимости балансировки"
   ]
  },
  {
   "cell_type": "code",
   "execution_count": 285,
   "metadata": {},
   "outputs": [
    {
     "name": "stdout",
     "output_type": "stream",
     "text": [
      "False\n"
     ]
    }
   ],
   "source": [
    "print(must_balance)"
   ]
  },
  {
   "cell_type": "code",
   "execution_count": 286,
   "metadata": {},
   "outputs": [
    {
     "name": "stdout",
     "output_type": "stream",
     "text": [
      "x_train.shape = 54184 rows, 47 cols\n",
      "x_valid.shape = 23223 rows, 47 cols\n"
     ]
    }
   ],
   "source": [
    "x_train, x_valid = train_test_split(\n",
    "    train, train_size=0.7, random_state=27\n",
    ")\n",
    "y_train, y_valid = train_test_split(\n",
    "    target, train_size=0.7, random_state=27\n",
    ")\n",
    "\n",
    "\n",
    "print(\"x_train.shape = {} rows, {} cols\".format(*x_train.shape))\n",
    "print(\"x_valid.shape = {} rows, {} cols\".format(*x_valid.shape))"
   ]
  },
  {
   "cell_type": "markdown",
   "metadata": {},
   "source": [
    "Случайный лес (Random Forest)"
   ]
  },
  {
   "cell_type": "code",
   "execution_count": 287,
   "metadata": {},
   "outputs": [
    {
     "name": "stdout",
     "output_type": "stream",
     "text": [
      "max_depth=35\n",
      "0.9997246282474079\n",
      "0.6422277270745904\n",
      "\n",
      "max_depth=34\n",
      "0.9996065964019457\n",
      "0.6412022467491112\n",
      "\n",
      "max_depth=33\n",
      "0.9995278787493924\n",
      "0.6452824260736217\n",
      "\n",
      "max_depth=32\n",
      "0.9994491810971299\n",
      "0.6440380250634591\n",
      "\n",
      "max_depth=31\n",
      "0.9988390161235373\n",
      "0.6436446924708359\n",
      "\n"
     ]
    }
   ],
   "source": [
    "for i in range(35,30,-1):\n",
    "    print(f'max_depth={i}')\n",
    "    clf = RF(max_depth=i, n_estimators=40, max_features=4, random_state=100)\n",
    "    clf.fit(x_train, y_train)\n",
    "    pred = clf.predict(x_train)\n",
    "    print(f1(y_train,pred, average='macro'))\n",
    "    pred_valid = clf.predict(x_valid)\n",
    "    print(f1(y_valid,pred_valid, average='macro'))\n",
    "    print()"
   ]
  },
  {
   "cell_type": "code",
   "execution_count": 288,
   "metadata": {},
   "outputs": [],
   "source": [
    "clf = RF(max_depth=33,n_estimators=40,max_features=4,random_state=100)"
   ]
  },
  {
   "cell_type": "code",
   "execution_count": 289,
   "metadata": {},
   "outputs": [
    {
     "data": {
      "text/plain": [
       "RandomForestClassifier(bootstrap=True, class_weight=None, criterion='gini',\n",
       "            max_depth=33, max_features=4, max_leaf_nodes=None,\n",
       "            min_impurity_decrease=0.0, min_impurity_split=None,\n",
       "            min_samples_leaf=1, min_samples_split=2,\n",
       "            min_weight_fraction_leaf=0.0, n_estimators=40, n_jobs=None,\n",
       "            oob_score=False, random_state=100, verbose=0, warm_start=False)"
      ]
     },
     "execution_count": 289,
     "metadata": {},
     "output_type": "execute_result"
    }
   ],
   "source": [
    "clf.fit(x_train,y_train)"
   ]
  },
  {
   "cell_type": "code",
   "execution_count": 290,
   "metadata": {},
   "outputs": [],
   "source": [
    "pred = clf.predict(x_train)"
   ]
  },
  {
   "cell_type": "code",
   "execution_count": 291,
   "metadata": {},
   "outputs": [
    {
     "data": {
      "text/plain": [
       "0.9995278787493924"
      ]
     },
     "execution_count": 291,
     "metadata": {},
     "output_type": "execute_result"
    }
   ],
   "source": [
    "f1(y_train, pred, average='macro')"
   ]
  },
  {
   "cell_type": "code",
   "execution_count": 292,
   "metadata": {},
   "outputs": [],
   "source": [
    "pred_valid = clf.predict(x_valid)"
   ]
  },
  {
   "cell_type": "code",
   "execution_count": 293,
   "metadata": {},
   "outputs": [
    {
     "data": {
      "text/plain": [
       "0.6452824260736217"
      ]
     },
     "execution_count": 293,
     "metadata": {},
     "output_type": "execute_result"
    }
   ],
   "source": [
    "f1(y_valid,pred_valid, average='macro')"
   ]
  },
  {
   "cell_type": "code",
   "execution_count": 294,
   "metadata": {},
   "outputs": [
    {
     "name": "stdout",
     "output_type": "stream",
     "text": [
      "TRAIN\n",
      "\n",
      "              precision    recall  f1-score   support\n",
      "\n",
      "           0       1.00      1.00      1.00     20368\n",
      "           1       1.00      1.00      1.00     33816\n",
      "\n",
      "   micro avg       1.00      1.00      1.00     54184\n",
      "   macro avg       1.00      1.00      1.00     54184\n",
      "weighted avg       1.00      1.00      1.00     54184\n",
      "\n",
      "TEST\n",
      "\n",
      "              precision    recall  f1-score   support\n",
      "\n",
      "           0       0.64      0.42      0.51      8663\n",
      "           1       0.71      0.86      0.78     14560\n",
      "\n",
      "   micro avg       0.70      0.70      0.70     23223\n",
      "   macro avg       0.68      0.64      0.65     23223\n",
      "weighted avg       0.69      0.70      0.68     23223\n",
      "\n",
      "CONFUSION MATRIX\n",
      "\n",
      "col_0                 0      1\n",
      "policy_is_renewed             \n",
      "0                  3644   5019\n",
      "1                  2006  12554\n"
     ]
    }
   ],
   "source": [
    "get_classification_report(y_train, pred, y_valid, pred_valid)"
   ]
  },
  {
   "cell_type": "code",
   "execution_count": 295,
   "metadata": {},
   "outputs": [
    {
     "data": {
      "text/plain": [
       "0.6414323880263797"
      ]
     },
     "execution_count": 295,
     "metadata": {},
     "output_type": "execute_result"
    }
   ],
   "source": [
    "oof_preds_rf = roc_auc_score(y_valid, pred_valid) \n",
    "oof_preds_rf"
   ]
  },
  {
   "cell_type": "markdown",
   "metadata": {},
   "source": [
    "XGBoost"
   ]
  },
  {
   "cell_type": "code",
   "execution_count": 296,
   "metadata": {},
   "outputs": [
    {
     "name": "stdout",
     "output_type": "stream",
     "text": [
      "Wall time: 3.22 s\n"
     ]
    }
   ],
   "source": [
    "%%time\n",
    "\n",
    "#clf = xgb.XGBClassifier(max_depth=28, objective='multi:softmax', n_estimators=40)\n",
    "\n",
    "clf = xgb.XGBClassifier()\n",
    "\n",
    "clf.fit(x_train, y_train)"
   ]
  },
  {
   "cell_type": "code",
   "execution_count": 297,
   "metadata": {},
   "outputs": [],
   "source": [
    "pred = clf.predict(x_train)"
   ]
  },
  {
   "cell_type": "code",
   "execution_count": 298,
   "metadata": {},
   "outputs": [
    {
     "data": {
      "text/plain": [
       "0.745823894808324"
      ]
     },
     "execution_count": 298,
     "metadata": {},
     "output_type": "execute_result"
    }
   ],
   "source": [
    "f1(y_train, pred, average='macro')"
   ]
  },
  {
   "cell_type": "code",
   "execution_count": 299,
   "metadata": {},
   "outputs": [],
   "source": [
    "pred_valid = clf.predict(x_valid)"
   ]
  },
  {
   "cell_type": "code",
   "execution_count": 300,
   "metadata": {},
   "outputs": [
    {
     "data": {
      "text/plain": [
       "0.6708921609308578"
      ]
     },
     "execution_count": 300,
     "metadata": {},
     "output_type": "execute_result"
    }
   ],
   "source": [
    "f1(y_valid,pred_valid, average='macro')"
   ]
  },
  {
   "cell_type": "code",
   "execution_count": 301,
   "metadata": {},
   "outputs": [
    {
     "name": "stdout",
     "output_type": "stream",
     "text": [
      "TRAIN\n",
      "\n",
      "              precision    recall  f1-score   support\n",
      "\n",
      "           0       0.81      0.54      0.65     20368\n",
      "           1       0.77      0.92      0.84     33816\n",
      "\n",
      "   micro avg       0.78      0.78      0.78     54184\n",
      "   macro avg       0.79      0.73      0.75     54184\n",
      "weighted avg       0.79      0.78      0.77     54184\n",
      "\n",
      "TEST\n",
      "\n",
      "              precision    recall  f1-score   support\n",
      "\n",
      "           0       0.68      0.46      0.55      8663\n",
      "           1       0.73      0.87      0.79     14560\n",
      "\n",
      "   micro avg       0.72      0.72      0.72     23223\n",
      "   macro avg       0.70      0.66      0.67     23223\n",
      "weighted avg       0.71      0.72      0.70     23223\n",
      "\n",
      "CONFUSION MATRIX\n",
      "\n",
      "col_0                 0      1\n",
      "policy_is_renewed             \n",
      "0                  3973   4690\n",
      "1                  1878  12682\n"
     ]
    }
   ],
   "source": [
    "get_classification_report(y_train, pred, y_valid, pred_valid)"
   ]
  },
  {
   "cell_type": "code",
   "execution_count": 302,
   "metadata": {},
   "outputs": [],
   "source": [
    "pred_valid = clf.predict(x_valid)"
   ]
  },
  {
   "cell_type": "code",
   "execution_count": 303,
   "metadata": {},
   "outputs": [
    {
     "data": {
      "text/plain": [
       "0.6648167953770805"
      ]
     },
     "execution_count": 303,
     "metadata": {},
     "output_type": "execute_result"
    }
   ],
   "source": [
    "oof_preds_xgb = roc_auc_score(y_valid, pred_valid)\n",
    "oof_preds_xgb"
   ]
  },
  {
   "cell_type": "code",
   "execution_count": null,
   "metadata": {},
   "outputs": [],
   "source": []
  },
  {
   "cell_type": "code",
   "execution_count": 304,
   "metadata": {},
   "outputs": [
    {
     "name": "stdout",
     "output_type": "stream",
     "text": [
      "[0]\tdtrain-auc:0.70829\tdvalid-auc:0.70906\n",
      "Multiple eval metrics have been passed: 'dvalid-auc' will be used for early stopping.\n",
      "\n",
      "Will train until dvalid-auc hasn't improved in 25 rounds.\n",
      "[10]\tdtrain-auc:0.71279\tdvalid-auc:0.71380\n",
      "[20]\tdtrain-auc:0.71438\tdvalid-auc:0.71509\n",
      "[30]\tdtrain-auc:0.71565\tdvalid-auc:0.71633\n",
      "[40]\tdtrain-auc:0.71639\tdvalid-auc:0.71743\n",
      "[50]\tdtrain-auc:0.71852\tdvalid-auc:0.71897\n",
      "[60]\tdtrain-auc:0.71996\tdvalid-auc:0.71987\n",
      "[70]\tdtrain-auc:0.72267\tdvalid-auc:0.72172\n",
      "[80]\tdtrain-auc:0.72505\tdvalid-auc:0.72349\n",
      "[90]\tdtrain-auc:0.72677\tdvalid-auc:0.72435\n",
      "[100]\tdtrain-auc:0.72862\tdvalid-auc:0.72537\n",
      "[110]\tdtrain-auc:0.73012\tdvalid-auc:0.72636\n",
      "[120]\tdtrain-auc:0.73211\tdvalid-auc:0.72756\n",
      "[130]\tdtrain-auc:0.73405\tdvalid-auc:0.72880\n",
      "[140]\tdtrain-auc:0.73608\tdvalid-auc:0.72997\n",
      "[150]\tdtrain-auc:0.73776\tdvalid-auc:0.73093\n",
      "[160]\tdtrain-auc:0.73926\tdvalid-auc:0.73169\n",
      "[170]\tdtrain-auc:0.74056\tdvalid-auc:0.73237\n",
      "[180]\tdtrain-auc:0.74187\tdvalid-auc:0.73309\n",
      "[190]\tdtrain-auc:0.74306\tdvalid-auc:0.73368\n",
      "[200]\tdtrain-auc:0.74418\tdvalid-auc:0.73417\n",
      "[210]\tdtrain-auc:0.74529\tdvalid-auc:0.73466\n",
      "[220]\tdtrain-auc:0.74641\tdvalid-auc:0.73520\n",
      "[230]\tdtrain-auc:0.74752\tdvalid-auc:0.73575\n",
      "[240]\tdtrain-auc:0.74863\tdvalid-auc:0.73628\n",
      "[250]\tdtrain-auc:0.74966\tdvalid-auc:0.73667\n",
      "[260]\tdtrain-auc:0.75066\tdvalid-auc:0.73695\n",
      "[270]\tdtrain-auc:0.75164\tdvalid-auc:0.73718\n",
      "[280]\tdtrain-auc:0.75263\tdvalid-auc:0.73747\n",
      "[290]\tdtrain-auc:0.75367\tdvalid-auc:0.73776\n",
      "[300]\tdtrain-auc:0.75474\tdvalid-auc:0.73813\n",
      "[310]\tdtrain-auc:0.75574\tdvalid-auc:0.73844\n",
      "[320]\tdtrain-auc:0.75669\tdvalid-auc:0.73868\n",
      "[330]\tdtrain-auc:0.75758\tdvalid-auc:0.73894\n",
      "[340]\tdtrain-auc:0.75836\tdvalid-auc:0.73914\n",
      "[350]\tdtrain-auc:0.75913\tdvalid-auc:0.73936\n",
      "[360]\tdtrain-auc:0.75979\tdvalid-auc:0.73957\n",
      "[370]\tdtrain-auc:0.76051\tdvalid-auc:0.73982\n",
      "[380]\tdtrain-auc:0.76130\tdvalid-auc:0.74013\n",
      "[390]\tdtrain-auc:0.76185\tdvalid-auc:0.74033\n",
      "[400]\tdtrain-auc:0.76250\tdvalid-auc:0.74061\n",
      "[410]\tdtrain-auc:0.76299\tdvalid-auc:0.74078\n",
      "[420]\tdtrain-auc:0.76353\tdvalid-auc:0.74099\n",
      "[430]\tdtrain-auc:0.76404\tdvalid-auc:0.74113\n",
      "[440]\tdtrain-auc:0.76468\tdvalid-auc:0.74140\n",
      "[450]\tdtrain-auc:0.76525\tdvalid-auc:0.74163\n",
      "[460]\tdtrain-auc:0.76574\tdvalid-auc:0.74179\n",
      "[470]\tdtrain-auc:0.76627\tdvalid-auc:0.74200\n",
      "[480]\tdtrain-auc:0.76679\tdvalid-auc:0.74222\n",
      "[490]\tdtrain-auc:0.76739\tdvalid-auc:0.74243\n",
      "[500]\tdtrain-auc:0.76792\tdvalid-auc:0.74259\n",
      "[510]\tdtrain-auc:0.76847\tdvalid-auc:0.74269\n",
      "[520]\tdtrain-auc:0.76892\tdvalid-auc:0.74279\n",
      "[530]\tdtrain-auc:0.76946\tdvalid-auc:0.74295\n",
      "[540]\tdtrain-auc:0.77007\tdvalid-auc:0.74315\n",
      "[550]\tdtrain-auc:0.77057\tdvalid-auc:0.74328\n",
      "[560]\tdtrain-auc:0.77099\tdvalid-auc:0.74336\n",
      "[570]\tdtrain-auc:0.77163\tdvalid-auc:0.74351\n",
      "[580]\tdtrain-auc:0.77204\tdvalid-auc:0.74361\n",
      "[590]\tdtrain-auc:0.77248\tdvalid-auc:0.74368\n",
      "[600]\tdtrain-auc:0.77308\tdvalid-auc:0.74374\n",
      "[610]\tdtrain-auc:0.77356\tdvalid-auc:0.74380\n",
      "[620]\tdtrain-auc:0.77404\tdvalid-auc:0.74389\n",
      "[630]\tdtrain-auc:0.77460\tdvalid-auc:0.74390\n",
      "[640]\tdtrain-auc:0.77506\tdvalid-auc:0.74394\n",
      "[650]\tdtrain-auc:0.77547\tdvalid-auc:0.74402\n",
      "[660]\tdtrain-auc:0.77594\tdvalid-auc:0.74403\n",
      "[670]\tdtrain-auc:0.77636\tdvalid-auc:0.74405\n",
      "[680]\tdtrain-auc:0.77682\tdvalid-auc:0.74408\n",
      "[690]\tdtrain-auc:0.77732\tdvalid-auc:0.74410\n",
      "[700]\tdtrain-auc:0.77779\tdvalid-auc:0.74415\n",
      "[710]\tdtrain-auc:0.77828\tdvalid-auc:0.74422\n",
      "[720]\tdtrain-auc:0.77873\tdvalid-auc:0.74426\n",
      "[730]\tdtrain-auc:0.77919\tdvalid-auc:0.74430\n",
      "[740]\tdtrain-auc:0.77965\tdvalid-auc:0.74437\n",
      "[750]\tdtrain-auc:0.78000\tdvalid-auc:0.74445\n",
      "[760]\tdtrain-auc:0.78045\tdvalid-auc:0.74446\n",
      "[770]\tdtrain-auc:0.78088\tdvalid-auc:0.74455\n",
      "[780]\tdtrain-auc:0.78131\tdvalid-auc:0.74457\n",
      "[790]\tdtrain-auc:0.78176\tdvalid-auc:0.74468\n",
      "[800]\tdtrain-auc:0.78212\tdvalid-auc:0.74470\n",
      "[810]\tdtrain-auc:0.78251\tdvalid-auc:0.74474\n",
      "[820]\tdtrain-auc:0.78280\tdvalid-auc:0.74474\n",
      "[830]\tdtrain-auc:0.78314\tdvalid-auc:0.74471\n",
      "Stopping. Best iteration:\n",
      "[808]\tdtrain-auc:0.78246\tdvalid-auc:0.74476\n",
      "\n",
      "Wall time: 32.7 s\n"
     ]
    }
   ],
   "source": [
    "%%time\n",
    "\n",
    "params = {\n",
    "    \"booster\": \"gbtree\",\n",
    "    \"eval_metric\": \"auc\",\n",
    "    \"objective\": \"binary:logistic\",\n",
    "    \"learning_rate\": 0.01,\n",
    "    \"nthread\": 6,\n",
    "    \"seed\": 27\n",
    "}\n",
    "\n",
    "dtrain = xgb.DMatrix(\n",
    "    x_train, y_train\n",
    ")\n",
    "dvalid = xgb.DMatrix(\n",
    "    x_valid, y_valid\n",
    ")\n",
    "\n",
    "model = xgb.train(\n",
    "    params=params,\n",
    "    dtrain=dtrain,\n",
    "    evals=[(dtrain, \"dtrain\"), (dvalid, \"dvalid\")],\n",
    "    early_stopping_rounds=25,\n",
    "    num_boost_round=1000,\n",
    "    verbose_eval=10,\n",
    "    maximize=True,\n",
    ")"
   ]
  },
  {
   "cell_type": "code",
   "execution_count": 305,
   "metadata": {},
   "outputs": [],
   "source": [
    "pred = model.predict(dtrain)"
   ]
  },
  {
   "cell_type": "code",
   "execution_count": 306,
   "metadata": {},
   "outputs": [],
   "source": [
    "pred_valid = model.predict(dvalid)"
   ]
  },
  {
   "cell_type": "code",
   "execution_count": 307,
   "metadata": {},
   "outputs": [
    {
     "data": {
      "text/plain": [
       "13569    1\n",
       "4669     0\n",
       "47370    0\n",
       "43200    1\n",
       "92762    0\n",
       "        ..\n",
       "14971    1\n",
       "61113    0\n",
       "21953    1\n",
       "48934    1\n",
       "69142    1\n",
       "Name: policy_is_renewed, Length: 23223, dtype: int64"
      ]
     },
     "execution_count": 307,
     "metadata": {},
     "output_type": "execute_result"
    }
   ],
   "source": [
    "y_valid"
   ]
  },
  {
   "cell_type": "code",
   "execution_count": 308,
   "metadata": {},
   "outputs": [
    {
     "data": {
      "text/plain": [
       "array([0.7268616 , 0.5513178 , 0.6443973 , ..., 0.4264992 , 0.68362355,\n",
       "       0.51716423], dtype=float32)"
      ]
     },
     "execution_count": 308,
     "metadata": {},
     "output_type": "execute_result"
    }
   ],
   "source": [
    "pred_valid"
   ]
  },
  {
   "cell_type": "code",
   "execution_count": 309,
   "metadata": {},
   "outputs": [],
   "source": [
    "pred_valid_2 = [] \n",
    "for i in pred_valid:\n",
    "    if i > 0.5:\n",
    "        pred_valid_2.append(1)\n",
    "    else:\n",
    "        pred_valid_2.append(0) \n",
    "pred_valid_2 = np.array(pred_valid_2)\n",
    "\n",
    "        "
   ]
  },
  {
   "cell_type": "code",
   "execution_count": 310,
   "metadata": {},
   "outputs": [
    {
     "data": {
      "text/plain": [
       "0.6688338613287934"
      ]
     },
     "execution_count": 310,
     "metadata": {},
     "output_type": "execute_result"
    }
   ],
   "source": [
    "f1(y_valid,pred_valid_2, average='macro')"
   ]
  },
  {
   "cell_type": "code",
   "execution_count": 311,
   "metadata": {},
   "outputs": [
    {
     "data": {
      "text/plain": [
       "0.7447107297931206"
      ]
     },
     "execution_count": 311,
     "metadata": {},
     "output_type": "execute_result"
    }
   ],
   "source": [
    "oof_preds_xgb = roc_auc_score(y_valid, pred_valid)\n",
    "oof_preds_xgb"
   ]
  },
  {
   "cell_type": "markdown",
   "metadata": {},
   "source": [
    "Оптимизация гиперпараметров"
   ]
  },
  {
   "cell_type": "code",
   "execution_count": 312,
   "metadata": {},
   "outputs": [],
   "source": [
    "def xgboost_optimize_params(max_depth, min_child_weights, colsample_bytree):\n",
    "\n",
    "    params[\"max_depth\"] = int(max_depth)\n",
    "    params[\"min_child_weights\"] = int(min_child_weights)\n",
    "    params[\"colsample_bytree\"] = colsample_bytree\n",
    "\n",
    "    model = xgb.train(\n",
    "        params=params,\n",
    "        dtrain=dtrain,\n",
    "        evals=[(dtrain, \"dtrain\"), (dvalid, \"dvalid\")],\n",
    "        early_stopping_rounds=25,\n",
    "        num_boost_round=1000,\n",
    "        verbose_eval=10,\n",
    "        maximize=True,\n",
    "    )\n",
    "\n",
    "    return roc_auc_score(y_valid, model.predict(dvalid))"
   ]
  },
  {
   "cell_type": "code",
   "execution_count": 313,
   "metadata": {},
   "outputs": [
    {
     "name": "stdout",
     "output_type": "stream",
     "text": [
      "|   iter    |  target   | colsam... | max_depth | min_ch... |\n",
      "-------------------------------------------------------------\n",
      "[01:24:21] WARNING: C:\\Users\\Administrator\\workspace\\xgboost-win64_release_1.2.0\\src\\learner.cc:516: \n",
      "Parameters: { min_child_weights } might not be used.\n",
      "\n",
      "  This may not be accurate due to some parameters are only used in language bindings but\n",
      "  passed down to XGBoost core.  Or some parameters are not used but slip through this\n",
      "  verification. Please open an issue if you find above cases.\n",
      "\n",
      "\n",
      "[0]\tdtrain-auc:0.71003\tdvalid-auc:0.70460\n",
      "Multiple eval metrics have been passed: 'dvalid-auc' will be used for early stopping.\n",
      "\n",
      "Will train until dvalid-auc hasn't improved in 25 rounds.\n",
      "[10]\tdtrain-auc:0.73933\tdvalid-auc:0.72792\n",
      "[20]\tdtrain-auc:0.73945\tdvalid-auc:0.72871\n",
      "[30]\tdtrain-auc:0.74240\tdvalid-auc:0.73010\n",
      "[40]\tdtrain-auc:0.74433\tdvalid-auc:0.73090\n",
      "[50]\tdtrain-auc:0.74576\tdvalid-auc:0.73201\n",
      "[60]\tdtrain-auc:0.74695\tdvalid-auc:0.73288\n",
      "[70]\tdtrain-auc:0.74879\tdvalid-auc:0.73365\n",
      "[80]\tdtrain-auc:0.74972\tdvalid-auc:0.73436\n",
      "[90]\tdtrain-auc:0.75092\tdvalid-auc:0.73468\n",
      "[100]\tdtrain-auc:0.75180\tdvalid-auc:0.73504\n",
      "[110]\tdtrain-auc:0.75269\tdvalid-auc:0.73544\n",
      "[120]\tdtrain-auc:0.75405\tdvalid-auc:0.73548\n",
      "[130]\tdtrain-auc:0.75560\tdvalid-auc:0.73628\n",
      "[140]\tdtrain-auc:0.75712\tdvalid-auc:0.73672\n",
      "[150]\tdtrain-auc:0.75806\tdvalid-auc:0.73754\n",
      "[160]\tdtrain-auc:0.75929\tdvalid-auc:0.73814\n",
      "[170]\tdtrain-auc:0.76051\tdvalid-auc:0.73884\n",
      "[180]\tdtrain-auc:0.76124\tdvalid-auc:0.73941\n",
      "[190]\tdtrain-auc:0.76239\tdvalid-auc:0.73980\n",
      "[200]\tdtrain-auc:0.76333\tdvalid-auc:0.74013\n",
      "[210]\tdtrain-auc:0.76453\tdvalid-auc:0.74065\n",
      "[220]\tdtrain-auc:0.76582\tdvalid-auc:0.74113\n",
      "[230]\tdtrain-auc:0.76702\tdvalid-auc:0.74151\n",
      "[240]\tdtrain-auc:0.76815\tdvalid-auc:0.74187\n",
      "[250]\tdtrain-auc:0.76924\tdvalid-auc:0.74217\n",
      "[260]\tdtrain-auc:0.77019\tdvalid-auc:0.74251\n",
      "[270]\tdtrain-auc:0.77125\tdvalid-auc:0.74289\n",
      "[280]\tdtrain-auc:0.77207\tdvalid-auc:0.74312\n",
      "[290]\tdtrain-auc:0.77294\tdvalid-auc:0.74340\n",
      "[300]\tdtrain-auc:0.77391\tdvalid-auc:0.74378\n",
      "[310]\tdtrain-auc:0.77513\tdvalid-auc:0.74406\n",
      "[320]\tdtrain-auc:0.77591\tdvalid-auc:0.74433\n",
      "[330]\tdtrain-auc:0.77677\tdvalid-auc:0.74466\n",
      "[340]\tdtrain-auc:0.77755\tdvalid-auc:0.74492\n",
      "[350]\tdtrain-auc:0.77843\tdvalid-auc:0.74513\n",
      "[360]\tdtrain-auc:0.77917\tdvalid-auc:0.74540\n",
      "[370]\tdtrain-auc:0.77964\tdvalid-auc:0.74567\n",
      "[380]\tdtrain-auc:0.78022\tdvalid-auc:0.74586\n",
      "[390]\tdtrain-auc:0.78091\tdvalid-auc:0.74596\n",
      "[400]\tdtrain-auc:0.78148\tdvalid-auc:0.74609\n",
      "[410]\tdtrain-auc:0.78210\tdvalid-auc:0.74624\n",
      "[420]\tdtrain-auc:0.78260\tdvalid-auc:0.74641\n",
      "[430]\tdtrain-auc:0.78331\tdvalid-auc:0.74655\n",
      "[440]\tdtrain-auc:0.78370\tdvalid-auc:0.74667\n",
      "[450]\tdtrain-auc:0.78412\tdvalid-auc:0.74674\n",
      "[460]\tdtrain-auc:0.78480\tdvalid-auc:0.74694\n",
      "[470]\tdtrain-auc:0.78532\tdvalid-auc:0.74711\n",
      "[480]\tdtrain-auc:0.78588\tdvalid-auc:0.74718\n",
      "[490]\tdtrain-auc:0.78636\tdvalid-auc:0.74724\n",
      "[500]\tdtrain-auc:0.78672\tdvalid-auc:0.74740\n",
      "[510]\tdtrain-auc:0.78719\tdvalid-auc:0.74750\n",
      "[520]\tdtrain-auc:0.78769\tdvalid-auc:0.74760\n",
      "[530]\tdtrain-auc:0.78829\tdvalid-auc:0.74765\n",
      "[540]\tdtrain-auc:0.78892\tdvalid-auc:0.74775\n",
      "[550]\tdtrain-auc:0.78947\tdvalid-auc:0.74777\n",
      "[560]\tdtrain-auc:0.78999\tdvalid-auc:0.74784\n",
      "[570]\tdtrain-auc:0.79038\tdvalid-auc:0.74786\n",
      "[580]\tdtrain-auc:0.79087\tdvalid-auc:0.74794\n",
      "[590]\tdtrain-auc:0.79137\tdvalid-auc:0.74806\n",
      "[600]\tdtrain-auc:0.79183\tdvalid-auc:0.74811\n",
      "[610]\tdtrain-auc:0.79229\tdvalid-auc:0.74822\n",
      "[620]\tdtrain-auc:0.79310\tdvalid-auc:0.74824\n",
      "[630]\tdtrain-auc:0.79361\tdvalid-auc:0.74825\n",
      "[640]\tdtrain-auc:0.79401\tdvalid-auc:0.74829\n",
      "[650]\tdtrain-auc:0.79445\tdvalid-auc:0.74831\n",
      "[660]\tdtrain-auc:0.79493\tdvalid-auc:0.74832\n",
      "[670]\tdtrain-auc:0.79539\tdvalid-auc:0.74831\n",
      "[680]\tdtrain-auc:0.79580\tdvalid-auc:0.74841\n",
      "[690]\tdtrain-auc:0.79629\tdvalid-auc:0.74839\n",
      "[700]\tdtrain-auc:0.79683\tdvalid-auc:0.74848\n",
      "[710]\tdtrain-auc:0.79718\tdvalid-auc:0.74854\n",
      "[720]\tdtrain-auc:0.79760\tdvalid-auc:0.74859\n",
      "[730]\tdtrain-auc:0.79798\tdvalid-auc:0.74868\n",
      "[740]\tdtrain-auc:0.79837\tdvalid-auc:0.74868\n",
      "[750]\tdtrain-auc:0.79889\tdvalid-auc:0.74871\n",
      "[760]\tdtrain-auc:0.79925\tdvalid-auc:0.74874\n",
      "[770]\tdtrain-auc:0.79961\tdvalid-auc:0.74875\n",
      "[780]\tdtrain-auc:0.80020\tdvalid-auc:0.74877\n",
      "[790]\tdtrain-auc:0.80080\tdvalid-auc:0.74881\n",
      "[800]\tdtrain-auc:0.80137\tdvalid-auc:0.74882\n",
      "[810]\tdtrain-auc:0.80190\tdvalid-auc:0.74887\n",
      "[820]\tdtrain-auc:0.80239\tdvalid-auc:0.74888\n",
      "[830]\tdtrain-auc:0.80289\tdvalid-auc:0.74890\n",
      "[840]\tdtrain-auc:0.80329\tdvalid-auc:0.74895\n",
      "[850]\tdtrain-auc:0.80360\tdvalid-auc:0.74896\n",
      "[860]\tdtrain-auc:0.80395\tdvalid-auc:0.74901\n",
      "[870]\tdtrain-auc:0.80441\tdvalid-auc:0.74903\n",
      "[880]\tdtrain-auc:0.80495\tdvalid-auc:0.74906\n",
      "[890]\tdtrain-auc:0.80530\tdvalid-auc:0.74904\n",
      "[900]\tdtrain-auc:0.80578\tdvalid-auc:0.74906\n",
      "[910]\tdtrain-auc:0.80622\tdvalid-auc:0.74911\n",
      "[920]\tdtrain-auc:0.80667\tdvalid-auc:0.74915\n",
      "[930]\tdtrain-auc:0.80712\tdvalid-auc:0.74913\n",
      "[940]\tdtrain-auc:0.80753\tdvalid-auc:0.74915\n",
      "[950]\tdtrain-auc:0.80804\tdvalid-auc:0.74920\n",
      "[960]\tdtrain-auc:0.80842\tdvalid-auc:0.74923\n",
      "[970]\tdtrain-auc:0.80879\tdvalid-auc:0.74927\n",
      "[980]\tdtrain-auc:0.80925\tdvalid-auc:0.74931\n",
      "[990]\tdtrain-auc:0.80954\tdvalid-auc:0.74929\n",
      "[999]\tdtrain-auc:0.80995\tdvalid-auc:0.74930\n",
      "| \u001b[0m 1       \u001b[0m | \u001b[0m 0.7493  \u001b[0m | \u001b[0m 0.5554  \u001b[0m | \u001b[0m 7.073   \u001b[0m | \u001b[0m 369.0   \u001b[0m |\n",
      "[01:24:55] WARNING: C:\\Users\\Administrator\\workspace\\xgboost-win64_release_1.2.0\\src\\learner.cc:516: \n",
      "Parameters: { min_child_weights } might not be used.\n",
      "\n",
      "  This may not be accurate due to some parameters are only used in language bindings but\n",
      "  passed down to XGBoost core.  Or some parameters are not used but slip through this\n",
      "  verification. Please open an issue if you find above cases.\n",
      "\n",
      "\n",
      "[0]\tdtrain-auc:0.67815\tdvalid-auc:0.68222\n",
      "Multiple eval metrics have been passed: 'dvalid-auc' will be used for early stopping.\n",
      "\n",
      "Will train until dvalid-auc hasn't improved in 25 rounds.\n",
      "[10]\tdtrain-auc:0.69730\tdvalid-auc:0.70105\n",
      "[20]\tdtrain-auc:0.70153\tdvalid-auc:0.70434\n",
      "[30]\tdtrain-auc:0.70381\tdvalid-auc:0.70683\n",
      "[40]\tdtrain-auc:0.70530\tdvalid-auc:0.70839\n",
      "[50]\tdtrain-auc:0.70593\tdvalid-auc:0.70891\n",
      "[60]\tdtrain-auc:0.70594\tdvalid-auc:0.70849\n",
      "[70]\tdtrain-auc:0.70665\tdvalid-auc:0.70888\n",
      "[80]\tdtrain-auc:0.70746\tdvalid-auc:0.70954\n",
      "[90]\tdtrain-auc:0.70803\tdvalid-auc:0.71029\n",
      "[100]\tdtrain-auc:0.70928\tdvalid-auc:0.71141\n",
      "[110]\tdtrain-auc:0.71158\tdvalid-auc:0.71355\n",
      "[120]\tdtrain-auc:0.71309\tdvalid-auc:0.71511\n",
      "[130]\tdtrain-auc:0.71434\tdvalid-auc:0.71628\n",
      "[140]\tdtrain-auc:0.71589\tdvalid-auc:0.71770\n",
      "[150]\tdtrain-auc:0.71718\tdvalid-auc:0.71881\n",
      "[160]\tdtrain-auc:0.71866\tdvalid-auc:0.72018\n",
      "[170]\tdtrain-auc:0.71980\tdvalid-auc:0.72138\n",
      "[180]\tdtrain-auc:0.72092\tdvalid-auc:0.72238\n",
      "[190]\tdtrain-auc:0.72209\tdvalid-auc:0.72322\n",
      "[200]\tdtrain-auc:0.72296\tdvalid-auc:0.72387\n",
      "[210]\tdtrain-auc:0.72389\tdvalid-auc:0.72467\n",
      "[220]\tdtrain-auc:0.72495\tdvalid-auc:0.72552\n",
      "[230]\tdtrain-auc:0.72582\tdvalid-auc:0.72618\n",
      "[240]\tdtrain-auc:0.72680\tdvalid-auc:0.72706\n",
      "[250]\tdtrain-auc:0.72746\tdvalid-auc:0.72758\n",
      "[260]\tdtrain-auc:0.72817\tdvalid-auc:0.72808\n",
      "[270]\tdtrain-auc:0.72878\tdvalid-auc:0.72851\n",
      "[280]\tdtrain-auc:0.72952\tdvalid-auc:0.72902\n",
      "[290]\tdtrain-auc:0.73018\tdvalid-auc:0.72942\n",
      "[300]\tdtrain-auc:0.73087\tdvalid-auc:0.72994\n",
      "[310]\tdtrain-auc:0.73151\tdvalid-auc:0.73036\n",
      "[320]\tdtrain-auc:0.73208\tdvalid-auc:0.73074\n",
      "[330]\tdtrain-auc:0.73269\tdvalid-auc:0.73121\n",
      "[340]\tdtrain-auc:0.73326\tdvalid-auc:0.73163\n",
      "[350]\tdtrain-auc:0.73391\tdvalid-auc:0.73212\n",
      "[360]\tdtrain-auc:0.73436\tdvalid-auc:0.73237\n",
      "[370]\tdtrain-auc:0.73496\tdvalid-auc:0.73285\n",
      "[380]\tdtrain-auc:0.73549\tdvalid-auc:0.73317\n",
      "[390]\tdtrain-auc:0.73588\tdvalid-auc:0.73345\n",
      "[400]\tdtrain-auc:0.73618\tdvalid-auc:0.73360\n",
      "[410]\tdtrain-auc:0.73661\tdvalid-auc:0.73389\n",
      "[420]\tdtrain-auc:0.73702\tdvalid-auc:0.73417\n",
      "[430]\tdtrain-auc:0.73743\tdvalid-auc:0.73442\n",
      "[440]\tdtrain-auc:0.73779\tdvalid-auc:0.73467\n",
      "[450]\tdtrain-auc:0.73807\tdvalid-auc:0.73486\n",
      "[460]\tdtrain-auc:0.73846\tdvalid-auc:0.73512\n",
      "[470]\tdtrain-auc:0.73883\tdvalid-auc:0.73541\n",
      "[480]\tdtrain-auc:0.73913\tdvalid-auc:0.73559\n",
      "[490]\tdtrain-auc:0.73945\tdvalid-auc:0.73575\n",
      "[500]\tdtrain-auc:0.73987\tdvalid-auc:0.73602\n",
      "[510]\tdtrain-auc:0.74026\tdvalid-auc:0.73625\n",
      "[520]\tdtrain-auc:0.74052\tdvalid-auc:0.73637\n",
      "[530]\tdtrain-auc:0.74083\tdvalid-auc:0.73650\n",
      "[540]\tdtrain-auc:0.74114\tdvalid-auc:0.73666\n",
      "[550]\tdtrain-auc:0.74142\tdvalid-auc:0.73676\n",
      "[560]\tdtrain-auc:0.74170\tdvalid-auc:0.73693\n"
     ]
    },
    {
     "name": "stdout",
     "output_type": "stream",
     "text": [
      "[570]\tdtrain-auc:0.74199\tdvalid-auc:0.73707\n",
      "[580]\tdtrain-auc:0.74226\tdvalid-auc:0.73725\n",
      "[590]\tdtrain-auc:0.74261\tdvalid-auc:0.73745\n",
      "[600]\tdtrain-auc:0.74289\tdvalid-auc:0.73762\n",
      "[610]\tdtrain-auc:0.74324\tdvalid-auc:0.73777\n",
      "[620]\tdtrain-auc:0.74355\tdvalid-auc:0.73788\n",
      "[630]\tdtrain-auc:0.74379\tdvalid-auc:0.73804\n",
      "[640]\tdtrain-auc:0.74407\tdvalid-auc:0.73822\n",
      "[650]\tdtrain-auc:0.74433\tdvalid-auc:0.73837\n",
      "[660]\tdtrain-auc:0.74463\tdvalid-auc:0.73854\n",
      "[670]\tdtrain-auc:0.74489\tdvalid-auc:0.73870\n",
      "[680]\tdtrain-auc:0.74518\tdvalid-auc:0.73884\n",
      "[690]\tdtrain-auc:0.74541\tdvalid-auc:0.73896\n",
      "[700]\tdtrain-auc:0.74569\tdvalid-auc:0.73907\n",
      "[710]\tdtrain-auc:0.74592\tdvalid-auc:0.73912\n",
      "[720]\tdtrain-auc:0.74611\tdvalid-auc:0.73923\n",
      "[730]\tdtrain-auc:0.74637\tdvalid-auc:0.73930\n",
      "[740]\tdtrain-auc:0.74658\tdvalid-auc:0.73936\n",
      "[750]\tdtrain-auc:0.74681\tdvalid-auc:0.73945\n",
      "[760]\tdtrain-auc:0.74705\tdvalid-auc:0.73953\n",
      "[770]\tdtrain-auc:0.74730\tdvalid-auc:0.73960\n",
      "[780]\tdtrain-auc:0.74758\tdvalid-auc:0.73970\n",
      "[790]\tdtrain-auc:0.74789\tdvalid-auc:0.73980\n",
      "[800]\tdtrain-auc:0.74813\tdvalid-auc:0.73988\n",
      "[810]\tdtrain-auc:0.74838\tdvalid-auc:0.73997\n",
      "[820]\tdtrain-auc:0.74867\tdvalid-auc:0.74010\n",
      "[830]\tdtrain-auc:0.74891\tdvalid-auc:0.74019\n",
      "[840]\tdtrain-auc:0.74922\tdvalid-auc:0.74028\n",
      "[850]\tdtrain-auc:0.74942\tdvalid-auc:0.74034\n",
      "[860]\tdtrain-auc:0.74965\tdvalid-auc:0.74042\n",
      "[870]\tdtrain-auc:0.74989\tdvalid-auc:0.74045\n",
      "[880]\tdtrain-auc:0.75013\tdvalid-auc:0.74049\n",
      "[890]\tdtrain-auc:0.75039\tdvalid-auc:0.74056\n",
      "[900]\tdtrain-auc:0.75060\tdvalid-auc:0.74060\n",
      "[910]\tdtrain-auc:0.75082\tdvalid-auc:0.74066\n",
      "[920]\tdtrain-auc:0.75101\tdvalid-auc:0.74073\n",
      "[930]\tdtrain-auc:0.75131\tdvalid-auc:0.74081\n",
      "[940]\tdtrain-auc:0.75156\tdvalid-auc:0.74089\n",
      "[950]\tdtrain-auc:0.75175\tdvalid-auc:0.74097\n",
      "[960]\tdtrain-auc:0.75195\tdvalid-auc:0.74107\n",
      "[970]\tdtrain-auc:0.75216\tdvalid-auc:0.74116\n",
      "[980]\tdtrain-auc:0.75240\tdvalid-auc:0.74128\n",
      "[990]\tdtrain-auc:0.75266\tdvalid-auc:0.74141\n",
      "[999]\tdtrain-auc:0.75286\tdvalid-auc:0.74147\n",
      "| \u001b[0m 2       \u001b[0m | \u001b[0m 0.7415  \u001b[0m | \u001b[0m 0.8208  \u001b[0m | \u001b[0m 4.917   \u001b[0m | \u001b[0m 489.8   \u001b[0m |\n",
      "[01:25:21] WARNING: C:\\Users\\Administrator\\workspace\\xgboost-win64_release_1.2.0\\src\\learner.cc:516: \n",
      "Parameters: { min_child_weights } might not be used.\n",
      "\n",
      "  This may not be accurate due to some parameters are only used in language bindings but\n",
      "  passed down to XGBoost core.  Or some parameters are not used but slip through this\n",
      "  verification. Please open an issue if you find above cases.\n",
      "\n",
      "\n",
      "[0]\tdtrain-auc:0.67815\tdvalid-auc:0.68222\n",
      "Multiple eval metrics have been passed: 'dvalid-auc' will be used for early stopping.\n",
      "\n",
      "Will train until dvalid-auc hasn't improved in 25 rounds.\n",
      "[10]\tdtrain-auc:0.69730\tdvalid-auc:0.70105\n",
      "[20]\tdtrain-auc:0.70078\tdvalid-auc:0.70384\n",
      "[30]\tdtrain-auc:0.70310\tdvalid-auc:0.70608\n",
      "[40]\tdtrain-auc:0.70475\tdvalid-auc:0.70770\n",
      "[50]\tdtrain-auc:0.70520\tdvalid-auc:0.70790\n",
      "[60]\tdtrain-auc:0.70516\tdvalid-auc:0.70747\n",
      "[70]\tdtrain-auc:0.70566\tdvalid-auc:0.70782\n",
      "Stopping. Best iteration:\n",
      "[48]\tdtrain-auc:0.70548\tdvalid-auc:0.70827\n",
      "\n",
      "| \u001b[0m 3       \u001b[0m | \u001b[0m 0.7079  \u001b[0m | \u001b[0m 0.8359  \u001b[0m | \u001b[0m 4.049   \u001b[0m | \u001b[0m 372.2   \u001b[0m |\n",
      "[01:25:23] WARNING: C:\\Users\\Administrator\\workspace\\xgboost-win64_release_1.2.0\\src\\learner.cc:516: \n",
      "Parameters: { min_child_weights } might not be used.\n",
      "\n",
      "  This may not be accurate due to some parameters are only used in language bindings but\n",
      "  passed down to XGBoost core.  Or some parameters are not used but slip through this\n",
      "  verification. Please open an issue if you find above cases.\n",
      "\n",
      "\n",
      "[0]\tdtrain-auc:0.62792\tdvalid-auc:0.62117\n",
      "Multiple eval metrics have been passed: 'dvalid-auc' will be used for early stopping.\n",
      "\n",
      "Will train until dvalid-auc hasn't improved in 25 rounds.\n",
      "[10]\tdtrain-auc:0.75070\tdvalid-auc:0.72919\n",
      "[20]\tdtrain-auc:0.74851\tdvalid-auc:0.72471\n",
      "[30]\tdtrain-auc:0.75294\tdvalid-auc:0.72654\n",
      "Stopping. Best iteration:\n",
      "[10]\tdtrain-auc:0.75070\tdvalid-auc:0.72919\n",
      "\n",
      "| \u001b[0m 4       \u001b[0m | \u001b[0m 0.7256  \u001b[0m | \u001b[0m 0.3     \u001b[0m | \u001b[0m 8.0     \u001b[0m | \u001b[0m 200.0   \u001b[0m |\n",
      "[01:25:25] WARNING: C:\\Users\\Administrator\\workspace\\xgboost-win64_release_1.2.0\\src\\learner.cc:516: \n",
      "Parameters: { min_child_weights } might not be used.\n",
      "\n",
      "  This may not be accurate due to some parameters are only used in language bindings but\n",
      "  passed down to XGBoost core.  Or some parameters are not used but slip through this\n",
      "  verification. Please open an issue if you find above cases.\n",
      "\n",
      "\n",
      "[0]\tdtrain-auc:0.62792\tdvalid-auc:0.62117\n",
      "Multiple eval metrics have been passed: 'dvalid-auc' will be used for early stopping.\n",
      "\n",
      "Will train until dvalid-auc hasn't improved in 25 rounds.\n",
      "[10]\tdtrain-auc:0.75070\tdvalid-auc:0.72919\n",
      "[20]\tdtrain-auc:0.74851\tdvalid-auc:0.72471\n",
      "[30]\tdtrain-auc:0.75294\tdvalid-auc:0.72654\n",
      "Stopping. Best iteration:\n",
      "[10]\tdtrain-auc:0.75070\tdvalid-auc:0.72919\n",
      "\n",
      "| \u001b[0m 5       \u001b[0m | \u001b[0m 0.7256  \u001b[0m | \u001b[0m 0.3     \u001b[0m | \u001b[0m 8.0     \u001b[0m | \u001b[0m 5.0     \u001b[0m |\n",
      "[01:25:26] WARNING: C:\\Users\\Administrator\\workspace\\xgboost-win64_release_1.2.0\\src\\learner.cc:516: \n",
      "Parameters: { min_child_weights } might not be used.\n",
      "\n",
      "  This may not be accurate due to some parameters are only used in language bindings but\n",
      "  passed down to XGBoost core.  Or some parameters are not used but slip through this\n",
      "  verification. Please open an issue if you find above cases.\n",
      "\n",
      "\n",
      "[0]\tdtrain-auc:0.62792\tdvalid-auc:0.62117\n",
      "Multiple eval metrics have been passed: 'dvalid-auc' will be used for early stopping.\n",
      "\n",
      "Will train until dvalid-auc hasn't improved in 25 rounds.\n",
      "[10]\tdtrain-auc:0.75070\tdvalid-auc:0.72919\n",
      "[20]\tdtrain-auc:0.74851\tdvalid-auc:0.72471\n",
      "[30]\tdtrain-auc:0.75294\tdvalid-auc:0.72654\n",
      "Stopping. Best iteration:\n",
      "[10]\tdtrain-auc:0.75070\tdvalid-auc:0.72919\n",
      "\n",
      "| \u001b[0m 6       \u001b[0m | \u001b[0m 0.7256  \u001b[0m | \u001b[0m 0.3     \u001b[0m | \u001b[0m 8.0     \u001b[0m | \u001b[0m 293.3   \u001b[0m |\n",
      "[01:25:27] WARNING: C:\\Users\\Administrator\\workspace\\xgboost-win64_release_1.2.0\\src\\learner.cc:516: \n",
      "Parameters: { min_child_weights } might not be used.\n",
      "\n",
      "  This may not be accurate due to some parameters are only used in language bindings but\n",
      "  passed down to XGBoost core.  Or some parameters are not used but slip through this\n",
      "  verification. Please open an issue if you find above cases.\n",
      "\n",
      "\n",
      "[0]\tdtrain-auc:0.62792\tdvalid-auc:0.62117\n",
      "Multiple eval metrics have been passed: 'dvalid-auc' will be used for early stopping.\n",
      "\n",
      "Will train until dvalid-auc hasn't improved in 25 rounds.\n",
      "[10]\tdtrain-auc:0.75070\tdvalid-auc:0.72919\n",
      "[20]\tdtrain-auc:0.74851\tdvalid-auc:0.72471\n",
      "[30]\tdtrain-auc:0.75294\tdvalid-auc:0.72654\n",
      "Stopping. Best iteration:\n",
      "[10]\tdtrain-auc:0.75070\tdvalid-auc:0.72919\n",
      "\n",
      "| \u001b[0m 7       \u001b[0m | \u001b[0m 0.7256  \u001b[0m | \u001b[0m 0.3     \u001b[0m | \u001b[0m 8.0     \u001b[0m | \u001b[0m 97.13   \u001b[0m |\n",
      "[01:25:29] WARNING: C:\\Users\\Administrator\\workspace\\xgboost-win64_release_1.2.0\\src\\learner.cc:516: \n",
      "Parameters: { min_child_weights } might not be used.\n",
      "\n",
      "  This may not be accurate due to some parameters are only used in language bindings but\n",
      "  passed down to XGBoost core.  Or some parameters are not used but slip through this\n",
      "  verification. Please open an issue if you find above cases.\n",
      "\n",
      "\n",
      "[0]\tdtrain-auc:0.71001\tdvalid-auc:0.70451\n",
      "Multiple eval metrics have been passed: 'dvalid-auc' will be used for early stopping.\n",
      "\n",
      "Will train until dvalid-auc hasn't improved in 25 rounds.\n",
      "[10]\tdtrain-auc:0.73871\tdvalid-auc:0.72788\n",
      "[20]\tdtrain-auc:0.73890\tdvalid-auc:0.72861\n",
      "[30]\tdtrain-auc:0.74233\tdvalid-auc:0.73019\n",
      "[40]\tdtrain-auc:0.74399\tdvalid-auc:0.73086\n",
      "[50]\tdtrain-auc:0.74560\tdvalid-auc:0.73144\n",
      "[60]\tdtrain-auc:0.74706\tdvalid-auc:0.73268\n",
      "[70]\tdtrain-auc:0.74885\tdvalid-auc:0.73315\n",
      "[80]\tdtrain-auc:0.75003\tdvalid-auc:0.73436\n",
      "[90]\tdtrain-auc:0.75113\tdvalid-auc:0.73476\n",
      "[100]\tdtrain-auc:0.75202\tdvalid-auc:0.73519\n",
      "[110]\tdtrain-auc:0.75300\tdvalid-auc:0.73557\n",
      "[120]\tdtrain-auc:0.75421\tdvalid-auc:0.73544\n",
      "[130]\tdtrain-auc:0.75575\tdvalid-auc:0.73603\n",
      "[140]\tdtrain-auc:0.75709\tdvalid-auc:0.73638\n",
      "[150]\tdtrain-auc:0.75819\tdvalid-auc:0.73728\n",
      "[160]\tdtrain-auc:0.75936\tdvalid-auc:0.73781\n",
      "[170]\tdtrain-auc:0.76060\tdvalid-auc:0.73818\n",
      "[180]\tdtrain-auc:0.76140\tdvalid-auc:0.73896\n",
      "[190]\tdtrain-auc:0.76259\tdvalid-auc:0.73935\n",
      "[200]\tdtrain-auc:0.76361\tdvalid-auc:0.73971\n",
      "[210]\tdtrain-auc:0.76480\tdvalid-auc:0.74029\n",
      "[220]\tdtrain-auc:0.76602\tdvalid-auc:0.74073\n",
      "[230]\tdtrain-auc:0.76715\tdvalid-auc:0.74112\n"
     ]
    },
    {
     "name": "stdout",
     "output_type": "stream",
     "text": [
      "[240]\tdtrain-auc:0.76828\tdvalid-auc:0.74148\n",
      "[250]\tdtrain-auc:0.76932\tdvalid-auc:0.74182\n",
      "[260]\tdtrain-auc:0.77028\tdvalid-auc:0.74225\n",
      "[270]\tdtrain-auc:0.77141\tdvalid-auc:0.74262\n",
      "[280]\tdtrain-auc:0.77224\tdvalid-auc:0.74291\n",
      "[290]\tdtrain-auc:0.77322\tdvalid-auc:0.74318\n",
      "[300]\tdtrain-auc:0.77424\tdvalid-auc:0.74349\n",
      "[310]\tdtrain-auc:0.77546\tdvalid-auc:0.74370\n",
      "[320]\tdtrain-auc:0.77618\tdvalid-auc:0.74398\n",
      "[330]\tdtrain-auc:0.77698\tdvalid-auc:0.74434\n",
      "[340]\tdtrain-auc:0.77785\tdvalid-auc:0.74457\n",
      "[350]\tdtrain-auc:0.77874\tdvalid-auc:0.74482\n",
      "[360]\tdtrain-auc:0.77947\tdvalid-auc:0.74514\n",
      "[370]\tdtrain-auc:0.78010\tdvalid-auc:0.74543\n",
      "[380]\tdtrain-auc:0.78080\tdvalid-auc:0.74562\n",
      "[390]\tdtrain-auc:0.78154\tdvalid-auc:0.74573\n",
      "[400]\tdtrain-auc:0.78216\tdvalid-auc:0.74590\n",
      "[410]\tdtrain-auc:0.78278\tdvalid-auc:0.74603\n",
      "[420]\tdtrain-auc:0.78348\tdvalid-auc:0.74616\n",
      "[430]\tdtrain-auc:0.78410\tdvalid-auc:0.74630\n",
      "[440]\tdtrain-auc:0.78455\tdvalid-auc:0.74644\n",
      "[450]\tdtrain-auc:0.78511\tdvalid-auc:0.74662\n",
      "[460]\tdtrain-auc:0.78566\tdvalid-auc:0.74679\n",
      "[470]\tdtrain-auc:0.78611\tdvalid-auc:0.74693\n",
      "[480]\tdtrain-auc:0.78673\tdvalid-auc:0.74708\n",
      "[490]\tdtrain-auc:0.78729\tdvalid-auc:0.74713\n",
      "[500]\tdtrain-auc:0.78757\tdvalid-auc:0.74725\n",
      "[510]\tdtrain-auc:0.78795\tdvalid-auc:0.74739\n",
      "[520]\tdtrain-auc:0.78843\tdvalid-auc:0.74746\n",
      "[530]\tdtrain-auc:0.78910\tdvalid-auc:0.74750\n",
      "[540]\tdtrain-auc:0.78968\tdvalid-auc:0.74761\n",
      "[550]\tdtrain-auc:0.79018\tdvalid-auc:0.74766\n",
      "[560]\tdtrain-auc:0.79071\tdvalid-auc:0.74774\n",
      "[570]\tdtrain-auc:0.79109\tdvalid-auc:0.74772\n",
      "[580]\tdtrain-auc:0.79158\tdvalid-auc:0.74784\n",
      "[590]\tdtrain-auc:0.79200\tdvalid-auc:0.74792\n",
      "[600]\tdtrain-auc:0.79244\tdvalid-auc:0.74803\n",
      "[610]\tdtrain-auc:0.79305\tdvalid-auc:0.74811\n",
      "[620]\tdtrain-auc:0.79369\tdvalid-auc:0.74814\n",
      "[630]\tdtrain-auc:0.79412\tdvalid-auc:0.74821\n",
      "[640]\tdtrain-auc:0.79460\tdvalid-auc:0.74826\n",
      "[650]\tdtrain-auc:0.79502\tdvalid-auc:0.74830\n",
      "[660]\tdtrain-auc:0.79554\tdvalid-auc:0.74835\n",
      "[670]\tdtrain-auc:0.79604\tdvalid-auc:0.74842\n",
      "[680]\tdtrain-auc:0.79634\tdvalid-auc:0.74849\n",
      "[690]\tdtrain-auc:0.79683\tdvalid-auc:0.74849\n",
      "[700]\tdtrain-auc:0.79714\tdvalid-auc:0.74852\n",
      "[710]\tdtrain-auc:0.79745\tdvalid-auc:0.74856\n",
      "[720]\tdtrain-auc:0.79787\tdvalid-auc:0.74858\n",
      "[730]\tdtrain-auc:0.79822\tdvalid-auc:0.74861\n",
      "[740]\tdtrain-auc:0.79858\tdvalid-auc:0.74864\n",
      "[750]\tdtrain-auc:0.79890\tdvalid-auc:0.74868\n",
      "[760]\tdtrain-auc:0.79941\tdvalid-auc:0.74875\n",
      "[770]\tdtrain-auc:0.79988\tdvalid-auc:0.74877\n",
      "[780]\tdtrain-auc:0.80028\tdvalid-auc:0.74876\n",
      "[790]\tdtrain-auc:0.80073\tdvalid-auc:0.74878\n",
      "[800]\tdtrain-auc:0.80111\tdvalid-auc:0.74884\n",
      "[810]\tdtrain-auc:0.80146\tdvalid-auc:0.74885\n",
      "[820]\tdtrain-auc:0.80176\tdvalid-auc:0.74883\n",
      "[830]\tdtrain-auc:0.80232\tdvalid-auc:0.74887\n",
      "[840]\tdtrain-auc:0.80279\tdvalid-auc:0.74888\n",
      "[850]\tdtrain-auc:0.80316\tdvalid-auc:0.74889\n",
      "[860]\tdtrain-auc:0.80344\tdvalid-auc:0.74889\n",
      "[870]\tdtrain-auc:0.80404\tdvalid-auc:0.74894\n",
      "[880]\tdtrain-auc:0.80454\tdvalid-auc:0.74893\n",
      "[890]\tdtrain-auc:0.80500\tdvalid-auc:0.74900\n",
      "[900]\tdtrain-auc:0.80541\tdvalid-auc:0.74902\n",
      "[910]\tdtrain-auc:0.80578\tdvalid-auc:0.74900\n",
      "[920]\tdtrain-auc:0.80629\tdvalid-auc:0.74904\n",
      "[930]\tdtrain-auc:0.80675\tdvalid-auc:0.74909\n",
      "[940]\tdtrain-auc:0.80722\tdvalid-auc:0.74911\n",
      "[950]\tdtrain-auc:0.80770\tdvalid-auc:0.74914\n",
      "[960]\tdtrain-auc:0.80821\tdvalid-auc:0.74918\n",
      "[970]\tdtrain-auc:0.80850\tdvalid-auc:0.74917\n",
      "[980]\tdtrain-auc:0.80895\tdvalid-auc:0.74921\n",
      "[990]\tdtrain-auc:0.80926\tdvalid-auc:0.74920\n",
      "[999]\tdtrain-auc:0.80952\tdvalid-auc:0.74919\n",
      "| \u001b[0m 8       \u001b[0m | \u001b[0m 0.7492  \u001b[0m | \u001b[0m 0.5479  \u001b[0m | \u001b[0m 7.928   \u001b[0m | \u001b[0m 499.6   \u001b[0m |\n",
      "=============================================================\n"
     ]
    }
   ],
   "source": [
    "params_search = {\n",
    "    \"max_depth\": (3, 8),\n",
    "    \"min_child_weights\": (5, 500),\n",
    "    \"colsample_bytree\": (0.3, 0.9)\n",
    "}\n",
    "\n",
    "xgb_params_search = BayesianOptimization(\n",
    "    xgboost_optimize_params,\n",
    "    pbounds=params_search,\n",
    "    random_state=27\n",
    ")\n",
    "xgb_params_search.maximize(\n",
    "    init_points=3, n_iter=5, acq='ei'\n",
    ")"
   ]
  },
  {
   "cell_type": "code",
   "execution_count": 314,
   "metadata": {},
   "outputs": [
    {
     "data": {
      "text/plain": [
       "{'target': 0.7492981828427834,\n",
       " 'params': {'colsample_bytree': 0.5554328463113375,\n",
       "  'max_depth': 7.072918702472763,\n",
       "  'min_child_weights': 369.0216586488414}}"
      ]
     },
     "execution_count": 314,
     "metadata": {},
     "output_type": "execute_result"
    }
   ],
   "source": [
    "optimal_xgb_params = xgb_params_search.max\n",
    "optimal_xgb_params"
   ]
  },
  {
   "cell_type": "code",
   "execution_count": 315,
   "metadata": {},
   "outputs": [
    {
     "name": "stdout",
     "output_type": "stream",
     "text": [
      "[0]\tdtrain-auc:0.71018\tdvalid-auc:0.70446\n",
      "Multiple eval metrics have been passed: 'dvalid-auc' will be used for early stopping.\n",
      "\n",
      "Will train until dvalid-auc hasn't improved in 25 rounds.\n",
      "[10]\tdtrain-auc:0.73948\tdvalid-auc:0.72755\n",
      "[20]\tdtrain-auc:0.73982\tdvalid-auc:0.72831\n",
      "[30]\tdtrain-auc:0.74258\tdvalid-auc:0.73027\n",
      "[40]\tdtrain-auc:0.74430\tdvalid-auc:0.73107\n",
      "[50]\tdtrain-auc:0.74546\tdvalid-auc:0.73214\n",
      "[60]\tdtrain-auc:0.74657\tdvalid-auc:0.73282\n",
      "[70]\tdtrain-auc:0.74856\tdvalid-auc:0.73356\n",
      "[80]\tdtrain-auc:0.74936\tdvalid-auc:0.73419\n",
      "[90]\tdtrain-auc:0.75041\tdvalid-auc:0.73450\n",
      "[100]\tdtrain-auc:0.75106\tdvalid-auc:0.73487\n",
      "[110]\tdtrain-auc:0.75216\tdvalid-auc:0.73536\n",
      "[120]\tdtrain-auc:0.75371\tdvalid-auc:0.73557\n",
      "[130]\tdtrain-auc:0.75512\tdvalid-auc:0.73639\n",
      "[140]\tdtrain-auc:0.75658\tdvalid-auc:0.73696\n",
      "[150]\tdtrain-auc:0.75756\tdvalid-auc:0.73755\n",
      "[160]\tdtrain-auc:0.75877\tdvalid-auc:0.73815\n",
      "[170]\tdtrain-auc:0.75984\tdvalid-auc:0.73861\n",
      "[180]\tdtrain-auc:0.76075\tdvalid-auc:0.73937\n",
      "[190]\tdtrain-auc:0.76193\tdvalid-auc:0.73981\n",
      "[200]\tdtrain-auc:0.76308\tdvalid-auc:0.74024\n",
      "[210]\tdtrain-auc:0.76431\tdvalid-auc:0.74077\n",
      "[220]\tdtrain-auc:0.76556\tdvalid-auc:0.74117\n",
      "[230]\tdtrain-auc:0.76693\tdvalid-auc:0.74157\n",
      "[240]\tdtrain-auc:0.76789\tdvalid-auc:0.74192\n",
      "[250]\tdtrain-auc:0.76898\tdvalid-auc:0.74220\n",
      "[260]\tdtrain-auc:0.76988\tdvalid-auc:0.74255\n",
      "[270]\tdtrain-auc:0.77088\tdvalid-auc:0.74293\n",
      "[280]\tdtrain-auc:0.77186\tdvalid-auc:0.74323\n",
      "[290]\tdtrain-auc:0.77281\tdvalid-auc:0.74354\n",
      "[300]\tdtrain-auc:0.77382\tdvalid-auc:0.74386\n",
      "[310]\tdtrain-auc:0.77494\tdvalid-auc:0.74411\n",
      "[320]\tdtrain-auc:0.77573\tdvalid-auc:0.74434\n",
      "[330]\tdtrain-auc:0.77661\tdvalid-auc:0.74459\n",
      "[340]\tdtrain-auc:0.77728\tdvalid-auc:0.74480\n",
      "[350]\tdtrain-auc:0.77805\tdvalid-auc:0.74495\n",
      "[360]\tdtrain-auc:0.77873\tdvalid-auc:0.74520\n",
      "[370]\tdtrain-auc:0.77922\tdvalid-auc:0.74542\n",
      "[380]\tdtrain-auc:0.77987\tdvalid-auc:0.74562\n",
      "[390]\tdtrain-auc:0.78047\tdvalid-auc:0.74578\n",
      "[400]\tdtrain-auc:0.78099\tdvalid-auc:0.74587\n",
      "[410]\tdtrain-auc:0.78139\tdvalid-auc:0.74596\n",
      "[420]\tdtrain-auc:0.78186\tdvalid-auc:0.74607\n",
      "[430]\tdtrain-auc:0.78256\tdvalid-auc:0.74620\n",
      "[440]\tdtrain-auc:0.78306\tdvalid-auc:0.74630\n",
      "[450]\tdtrain-auc:0.78344\tdvalid-auc:0.74634\n",
      "[460]\tdtrain-auc:0.78385\tdvalid-auc:0.74645\n",
      "[470]\tdtrain-auc:0.78436\tdvalid-auc:0.74655\n",
      "[480]\tdtrain-auc:0.78501\tdvalid-auc:0.74667\n",
      "[490]\tdtrain-auc:0.78567\tdvalid-auc:0.74678\n",
      "[500]\tdtrain-auc:0.78621\tdvalid-auc:0.74695\n",
      "[510]\tdtrain-auc:0.78676\tdvalid-auc:0.74707\n",
      "[520]\tdtrain-auc:0.78724\tdvalid-auc:0.74718\n",
      "[530]\tdtrain-auc:0.78780\tdvalid-auc:0.74724\n",
      "[540]\tdtrain-auc:0.78837\tdvalid-auc:0.74737\n",
      "[550]\tdtrain-auc:0.78883\tdvalid-auc:0.74739\n",
      "[560]\tdtrain-auc:0.78943\tdvalid-auc:0.74754\n",
      "[570]\tdtrain-auc:0.78990\tdvalid-auc:0.74761\n",
      "[580]\tdtrain-auc:0.79042\tdvalid-auc:0.74766\n",
      "[590]\tdtrain-auc:0.79116\tdvalid-auc:0.74777\n",
      "[600]\tdtrain-auc:0.79169\tdvalid-auc:0.74784\n",
      "[610]\tdtrain-auc:0.79225\tdvalid-auc:0.74793\n",
      "[620]\tdtrain-auc:0.79282\tdvalid-auc:0.74791\n",
      "[630]\tdtrain-auc:0.79343\tdvalid-auc:0.74793\n",
      "[640]\tdtrain-auc:0.79397\tdvalid-auc:0.74800\n",
      "[650]\tdtrain-auc:0.79446\tdvalid-auc:0.74802\n",
      "[660]\tdtrain-auc:0.79490\tdvalid-auc:0.74804\n",
      "[670]\tdtrain-auc:0.79531\tdvalid-auc:0.74809\n",
      "[680]\tdtrain-auc:0.79590\tdvalid-auc:0.74814\n",
      "[690]\tdtrain-auc:0.79632\tdvalid-auc:0.74817\n",
      "[700]\tdtrain-auc:0.79663\tdvalid-auc:0.74820\n",
      "[710]\tdtrain-auc:0.79699\tdvalid-auc:0.74822\n",
      "[720]\tdtrain-auc:0.79750\tdvalid-auc:0.74829\n",
      "[730]\tdtrain-auc:0.79804\tdvalid-auc:0.74828\n",
      "[740]\tdtrain-auc:0.79849\tdvalid-auc:0.74830\n",
      "[750]\tdtrain-auc:0.79904\tdvalid-auc:0.74837\n",
      "[760]\tdtrain-auc:0.79944\tdvalid-auc:0.74835\n",
      "[770]\tdtrain-auc:0.80014\tdvalid-auc:0.74840\n",
      "[780]\tdtrain-auc:0.80069\tdvalid-auc:0.74844\n",
      "[790]\tdtrain-auc:0.80106\tdvalid-auc:0.74844\n",
      "[800]\tdtrain-auc:0.80156\tdvalid-auc:0.74844\n",
      "[810]\tdtrain-auc:0.80198\tdvalid-auc:0.74851\n",
      "[820]\tdtrain-auc:0.80232\tdvalid-auc:0.74853\n",
      "[830]\tdtrain-auc:0.80281\tdvalid-auc:0.74859\n",
      "[840]\tdtrain-auc:0.80316\tdvalid-auc:0.74863\n",
      "[850]\tdtrain-auc:0.80366\tdvalid-auc:0.74862\n",
      "[860]\tdtrain-auc:0.80394\tdvalid-auc:0.74864\n",
      "[870]\tdtrain-auc:0.80461\tdvalid-auc:0.74872\n",
      "[880]\tdtrain-auc:0.80524\tdvalid-auc:0.74877\n",
      "[890]\tdtrain-auc:0.80563\tdvalid-auc:0.74875\n",
      "[900]\tdtrain-auc:0.80607\tdvalid-auc:0.74874\n",
      "[910]\tdtrain-auc:0.80650\tdvalid-auc:0.74877\n",
      "[920]\tdtrain-auc:0.80698\tdvalid-auc:0.74885\n",
      "[930]\tdtrain-auc:0.80736\tdvalid-auc:0.74890\n",
      "[940]\tdtrain-auc:0.80772\tdvalid-auc:0.74892\n",
      "[950]\tdtrain-auc:0.80817\tdvalid-auc:0.74898\n",
      "[960]\tdtrain-auc:0.80854\tdvalid-auc:0.74901\n",
      "[970]\tdtrain-auc:0.80888\tdvalid-auc:0.74905\n",
      "[980]\tdtrain-auc:0.80933\tdvalid-auc:0.74909\n",
      "[990]\tdtrain-auc:0.80967\tdvalid-auc:0.74907\n",
      "[999]\tdtrain-auc:0.80998\tdvalid-auc:0.74906\n",
      "Wall time: 34.3 s\n"
     ]
    }
   ],
   "source": [
    "%%time\n",
    "\n",
    "params = {\n",
    "    \"booster\": \"gbtree\",\n",
    "    \"eval_metric\": \"auc\",\n",
    "    \"objective\": \"binary:logistic\",\n",
    "    \"learning_rate\": 0.01,\n",
    "    \"nthread\": 6,\n",
    "    \"seed\": 27,\n",
    "    \"colsample_bytree\": 0.6,\n",
    "    'max_depth': 7\n",
    "}\n",
    "\n",
    "dtrain = xgb.DMatrix(\n",
    "    x_train, y_train\n",
    ")\n",
    "dvalid = xgb.DMatrix(\n",
    "    x_valid, y_valid\n",
    ")\n",
    "\n",
    "model_opt = xgb.train(\n",
    "    params=params,\n",
    "    dtrain=dtrain,\n",
    "    evals=[(dtrain, \"dtrain\"), (dvalid, \"dvalid\")],\n",
    "    early_stopping_rounds=25,\n",
    "    num_boost_round=1000,\n",
    "    verbose_eval=10,\n",
    "    maximize=True,\n",
    ")"
   ]
  },
  {
   "cell_type": "code",
   "execution_count": 316,
   "metadata": {},
   "outputs": [],
   "source": [
    "pred_valid = model_opt.predict(dvalid)"
   ]
  },
  {
   "cell_type": "code",
   "execution_count": 317,
   "metadata": {},
   "outputs": [],
   "source": [
    "pred_valid_2 = [] \n",
    "for i in pred_valid:\n",
    "    if i > 0.5:\n",
    "        pred_valid_2.append(1)\n",
    "    else:\n",
    "        pred_valid_2.append(0) \n",
    "pred_valid_2 = np.array(pred_valid_2)\n",
    "        "
   ]
  },
  {
   "cell_type": "code",
   "execution_count": 318,
   "metadata": {},
   "outputs": [
    {
     "data": {
      "text/plain": [
       "0.6707550552926693"
      ]
     },
     "execution_count": 318,
     "metadata": {},
     "output_type": "execute_result"
    }
   ],
   "source": [
    "f1(y_valid,pred_valid_2, average='macro')"
   ]
  },
  {
   "cell_type": "code",
   "execution_count": 319,
   "metadata": {},
   "outputs": [
    {
     "data": {
      "text/plain": [
       "0.749064834435448"
      ]
     },
     "execution_count": 319,
     "metadata": {},
     "output_type": "execute_result"
    }
   ],
   "source": [
    "oof_preds_xgb = roc_auc_score(y_valid, pred_valid)\n",
    "oof_preds_xgb"
   ]
  },
  {
   "cell_type": "code",
   "execution_count": 320,
   "metadata": {},
   "outputs": [],
   "source": [
    "y_pred_xgb = np.zeros(test.shape[0])\n",
    "#test = test.astype(float)\n",
    "dtest = xgb.DMatrix(test)\n",
    "\n",
    "y_pred_xgb += model_opt.predict(dtest)"
   ]
  },
  {
   "cell_type": "code",
   "execution_count": 325,
   "metadata": {
    "scrolled": true
   },
   "outputs": [
    {
     "data": {
      "text/plain": [
       "array([0.8476997 , 0.71479642, 0.59802598, ..., 0.89758897, 0.71679354,\n",
       "       0.8360526 ])"
      ]
     },
     "execution_count": 325,
     "metadata": {},
     "output_type": "execute_result"
    }
   ],
   "source": [
    "y_pred_xgb"
   ]
  },
  {
   "cell_type": "code",
   "execution_count": 328,
   "metadata": {},
   "outputs": [],
   "source": [
    "policy_is_renewed = [] \n",
    "for i in y_pred_xgb:\n",
    "    if i > 0.5:\n",
    "        policy_is_renewed.append(1)\n",
    "    else:\n",
    "        policy_is_renewed.append(0) \n",
    "policy_is_renewed = np.array(policy_is_renewed)"
   ]
  },
  {
   "cell_type": "code",
   "execution_count": 329,
   "metadata": {},
   "outputs": [
    {
     "data": {
      "text/plain": [
       "array([1, 1, 1, ..., 1, 1, 1])"
      ]
     },
     "execution_count": 329,
     "metadata": {},
     "output_type": "execute_result"
    }
   ],
   "source": [
    "policy_is_renewed"
   ]
  },
  {
   "cell_type": "code",
   "execution_count": 330,
   "metadata": {},
   "outputs": [],
   "source": [
    "y_pred = pd.DataFrame({ \n",
    "    \"POLICY_ID\": test_id,\n",
    "    \"POLICY_IS_RENEWED\": policy_is_renewed,\n",
    "    \"POLICY_IS_RENEWED_PROBABILITY\": y_pred_xgb\n",
    "})\n",
    "y_pred.to_csv(\"final_result.csv\",index=False)"
   ]
  },
  {
   "cell_type": "code",
   "execution_count": null,
   "metadata": {},
   "outputs": [],
   "source": []
  }
 ],
 "metadata": {
  "kernelspec": {
   "display_name": "Python 3",
   "language": "python",
   "name": "python3"
  },
  "language_info": {
   "codemirror_mode": {
    "name": "ipython",
    "version": 3
   },
   "file_extension": ".py",
   "mimetype": "text/x-python",
   "name": "python",
   "nbconvert_exporter": "python",
   "pygments_lexer": "ipython3",
   "version": "3.7.1"
  }
 },
 "nbformat": 4,
 "nbformat_minor": 2
}
