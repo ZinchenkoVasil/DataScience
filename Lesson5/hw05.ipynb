{
 "cells": [
  {
   "cell_type": "markdown",
   "metadata": {
    "colab_type": "text",
    "id": "SQJYSrtPbIWr"
   },
   "source": [
    "## Реализация случайного леса"
   ]
  },
  {
   "cell_type": "markdown",
   "metadata": {
    "colab_type": "text",
    "id": "AXXt8ZpAbIWs"
   },
   "source": [
    "Для лучшего понимания алгоритма построения случайного леса реализуем его на Python."
   ]
  },
  {
   "cell_type": "code",
   "execution_count": 83,
   "metadata": {
    "colab": {},
    "colab_type": "code",
    "id": "ZNR-FOeobIWs"
   },
   "outputs": [],
   "source": [
    "import matplotlib.pyplot as plt\n",
    "import random\n",
    "\n",
    "from matplotlib.colors import ListedColormap\n",
    "from sklearn import datasets\n",
    "\n",
    "import numpy as np"
   ]
  },
  {
   "cell_type": "code",
   "execution_count": 84,
   "metadata": {
    "colab": {},
    "colab_type": "code",
    "id": "m4Mb7omZbIWw"
   },
   "outputs": [],
   "source": [
    "# сгенерируем данные, представляющие собой 500 объектов с 5-ю признаками\n",
    "classification_data, classification_labels = datasets.make_classification(n_samples=100,\n",
    "                                                      n_features = 2, n_informative = 2, \n",
    "                                                      n_classes = 2, n_redundant=0, \n",
    "                                                      n_clusters_per_class=1, random_state=23)"
   ]
  },
  {
   "cell_type": "code",
   "execution_count": 85,
   "metadata": {},
   "outputs": [
    {
     "data": {
      "text/plain": [
       "array([1, 0, 0, 0, 1, 0, 0, 0, 0, 0, 0, 0, 0, 1, 1, 0, 1, 1, 1, 0, 0, 0,\n",
       "       1, 1, 0, 1, 1, 1, 1, 1, 0, 1, 1, 1, 0, 0, 1, 0, 1, 0, 0, 0, 1, 1,\n",
       "       0, 0, 0, 0, 1, 0, 0, 0, 0, 1, 1, 0, 1, 0, 1, 0, 0, 0, 0, 1, 1, 1,\n",
       "       1, 1, 0, 0, 1, 1, 1, 1, 0, 0, 0, 1, 0, 1, 1, 0, 0, 0, 1, 1, 0, 1,\n",
       "       1, 0, 1, 1, 1, 1, 1, 1, 0, 0, 1, 1])"
      ]
     },
     "execution_count": 85,
     "metadata": {},
     "output_type": "execute_result"
    }
   ],
   "source": [
    "classification_labels"
   ]
  },
  {
   "cell_type": "code",
   "execution_count": 86,
   "metadata": {
    "colab": {},
    "colab_type": "code",
    "id": "2R53TJClbIWz",
    "outputId": "ff9cd4bc-207b-4b32-8efd-772e9af6868d"
   },
   "outputs": [
    {
     "data": {
      "text/plain": [
       "<matplotlib.collections.PathCollection at 0x4892edec50>"
      ]
     },
     "execution_count": 86,
     "metadata": {},
     "output_type": "execute_result"
    },
    {
     "data": {
      "image/png": "[encoded data removed]",
      "text/plain": [
       "<Figure size 576x576 with 1 Axes>"
      ]
     },
     "metadata": {
      "needs_background": "light"
     },
     "output_type": "display_data"
    }
   ],
   "source": [
    "# визуализируем сгенерированные данные\n",
    "\n",
    "colors = ListedColormap(['red', 'blue'])\n",
    "light_colors = ListedColormap(['lightcoral', 'lightblue'])\n",
    "\n",
    "plt.figure(figsize=(8,8))\n",
    "plt.scatter(list(map(lambda x: x[0], classification_data)), list(map(lambda x: x[1], classification_data)), \n",
    "              c=classification_labels, cmap=colors)"
   ]
  },
  {
   "cell_type": "markdown",
   "metadata": {
    "colab_type": "text",
    "id": "JvjWiryZbIW2"
   },
   "source": [
    "Реализуем генерацию $N$ бутстрап-выборок и подмножества признаков для нахождения разбиения в узле."
   ]
  },
  {
   "cell_type": "code",
   "execution_count": 87,
   "metadata": {
    "colab": {},
    "colab_type": "code",
    "id": "d7if4ogqbIW3"
   },
   "outputs": [],
   "source": [
    "random.seed(42)\n",
    "\n",
    "def get_bootstrap(data, labels, N):\n",
    "    n_samples = data.shape[0]\n",
    "    bootstrap = []\n",
    "    \n",
    "    for i in range(N):\n",
    "        b_data = np.zeros(data.shape)\n",
    "        b_labels = np.zeros(labels.shape)\n",
    "        \n",
    "        for j in range(n_samples):\n",
    "            sample_index = random.randint(0, n_samples-1)\n",
    "            b_data[j] = data[sample_index]\n",
    "            b_labels[j] = labels[sample_index]\n",
    "        bootstrap.append((b_data, b_labels))\n",
    "        \n",
    "    return bootstrap"
   ]
  },
  {
   "cell_type": "code",
   "execution_count": 88,
   "metadata": {
    "colab": {},
    "colab_type": "code",
    "id": "526l0aGNbIW5"
   },
   "outputs": [],
   "source": [
    "def get_subsample(len_sample):\n",
    "    # будем сохранять не сами признаки, а их индексы\n",
    "    sample_indexes = [i for i in range(len_sample)]\n",
    "    \n",
    "    len_subsample = int(np.sqrt(len_sample))\n",
    "    subsample = []\n",
    "    \n",
    "    random.shuffle(sample_indexes)\n",
    "    for _ in range(len_subsample):\n",
    "        subsample.append(sample_indexes.pop())\n",
    "        \n",
    "    return subsample"
   ]
  },
  {
   "cell_type": "markdown",
   "metadata": {
    "colab_type": "text",
    "id": "L9ZdDJGvbIW8"
   },
   "source": [
    "Далее повторим реализацию построения дерева решений из предыдущего урока с некоторыми изменениями"
   ]
  },
  {
   "cell_type": "code",
   "execution_count": 89,
   "metadata": {
    "colab": {},
    "colab_type": "code",
    "id": "AGdBq1lbbIW9"
   },
   "outputs": [],
   "source": [
    "# Реализуем класс узла\n",
    "\n",
    "class Node:    \n",
    "    def __init__(self, data, labels):\n",
    "        self.data = data\n",
    "        self.labels = labels\n",
    "        quality, t, index = find_best_split(data, labels)\n",
    "        self.index = index  # индекс признака, по которому ведется сравнение с порогом в этом узле\n",
    "        self.t = t  # значение порога\n",
    "        self.q = quality\n",
    "        print('q=',quality)\n",
    "        self.true_branch = None  # поддерево, удовлетворяющее условию в узле\n",
    "        self.false_branch = None  # поддерево, не удовлетворяющее условию в узле\n",
    "\n",
    "    def Add(self):\n",
    "        true_data, false_data, true_labels, false_labels = split(self.data, self.labels, self.index, self.t)\n",
    "        node1 = Node(true_data, true_labels)  \n",
    "        if (node1.q == 0):\n",
    "            self.true_branch = Leaf(true_data, true_labels)\n",
    "        else:\n",
    "            self.true_branch = node1\n",
    "        node2 = Node(false_data, false_labels)  \n",
    "        if (node2.q == 0):        \n",
    "            self.false_branch = Leaf(false_data, false_labels)\n",
    "        else:\n",
    "            self.false_branch = node2\n",
    "       \n",
    "        return self.true_branch, self.false_branch\n"
   ]
  },
  {
   "cell_type": "code",
   "execution_count": 90,
   "metadata": {
    "colab": {},
    "colab_type": "code",
    "id": "QGT-Wsx6bIW_"
   },
   "outputs": [],
   "source": [
    "# И класс терминального узла (листа)\n",
    "\n",
    "class Leaf:\n",
    "    \n",
    "    def __init__(self, data, labels):\n",
    "        self.data = data\n",
    "        self.labels = labels\n",
    "        self.prediction = self.predict()\n",
    "        \n",
    "    def predict(self):\n",
    "        # подсчет количества объектов разных классов\n",
    "        classes = {}  # сформируем словарь \"класс: количество объектов\"\n",
    "        for label in self.labels:\n",
    "            if label not in classes:\n",
    "                classes[label] = 0\n",
    "            classes[label] += 1\n",
    "        #  найдем класс, количество объектов которого будет максимальным в этом листе и вернем его    \n",
    "        prediction = max(classes, key=classes.get)\n",
    "        return prediction        "
   ]
  },
  {
   "cell_type": "code",
   "execution_count": 91,
   "metadata": {
    "colab": {},
    "colab_type": "code",
    "id": "DRTe458CbIXE"
   },
   "outputs": [],
   "source": [
    "# Расчет критерия Джини\n",
    "\n",
    "def gini(labels):\n",
    "    #  подсчет количества объектов разных классов\n",
    "    classes = {}\n",
    "    for label in labels:\n",
    "        if label not in classes:\n",
    "            classes[label] = 0\n",
    "        classes[label] += 1\n",
    "    \n",
    "    #  расчет критерия\n",
    "    impurity = 1\n",
    "    for label in classes:\n",
    "        p = classes[label] / len(labels)\n",
    "        impurity -= p ** 2\n",
    "        \n",
    "    return impurity"
   ]
  },
  {
   "cell_type": "code",
   "execution_count": 92,
   "metadata": {
    "colab": {},
    "colab_type": "code",
    "id": "YT7T4h3WbIXH"
   },
   "outputs": [],
   "source": [
    "# Расчет качества\n",
    "\n",
    "def quality(left_labels, right_labels, current_gini):\n",
    "\n",
    "    # доля выбоки, ушедшая в левое поддерево\n",
    "    p = float(left_labels.shape[0]) / (left_labels.shape[0] + right_labels.shape[0])\n",
    "    \n",
    "    return current_gini - p * gini(left_labels) - (1 - p) * gini(right_labels)"
   ]
  },
  {
   "cell_type": "code",
   "execution_count": 93,
   "metadata": {
    "colab": {},
    "colab_type": "code",
    "id": "rqbAx1cXbIXK"
   },
   "outputs": [],
   "source": [
    "# Разбиение датасета в узле\n",
    "\n",
    "def split(data, labels, index, t):\n",
    "    \n",
    "    left = np.where(data[:, index] <= t)\n",
    "    right = np.where(data[:, index] > t)\n",
    "        \n",
    "    true_data = data[left]\n",
    "    false_data = data[right]\n",
    "    true_labels = labels[left]\n",
    "    false_labels = labels[right]\n",
    "        \n",
    "    return true_data, false_data, true_labels, false_labels"
   ]
  },
  {
   "cell_type": "code",
   "execution_count": 94,
   "metadata": {
    "colab": {},
    "colab_type": "code",
    "id": "zP2pg3HUbIXP"
   },
   "outputs": [],
   "source": [
    "# Нахождение наилучшего разбиения\n",
    "\n",
    "def find_best_split(data, labels):\n",
    "    \n",
    "    #  обозначим минимальное количество объектов в узле\n",
    "    min_leaf = 1\n",
    "\n",
    "    current_gini = gini(labels)\n",
    "\n",
    "    best_quality = 0\n",
    "    best_t = None\n",
    "    best_index = None\n",
    "    \n",
    "    n_features = data.shape[1]\n",
    "    \n",
    "    # выбор индекса из подвыборки длиной sqrt(n_features)\n",
    "    subsample = get_subsample(n_features)\n",
    "    \n",
    "    for index in subsample:\n",
    "        t_values = [row[index] for row in data]\n",
    "        \n",
    "        for t in t_values:\n",
    "            true_data, false_data, true_labels, false_labels = split(data, labels, index, t)\n",
    "            #  пропускаем разбиения, в которых в узле остается менее 5 объектов\n",
    "            if len(true_data) < min_leaf or len(false_data) < min_leaf:\n",
    "                continue\n",
    "            \n",
    "            current_quality = quality(true_labels, false_labels, current_gini)\n",
    "            \n",
    "            #  выбираем порог, на котором получается максимальный прирост качества\n",
    "            if current_quality > best_quality:\n",
    "                best_quality, best_t, best_index = current_quality, t, index\n",
    "\n",
    "    return best_quality, best_t, best_index"
   ]
  },
  {
   "cell_type": "markdown",
   "metadata": {
    "colab_type": "text",
    "id": "T_YX8fnmbIXU"
   },
   "source": [
    "Теперь добавим функцию формирования случайного леса."
   ]
  },
  {
   "cell_type": "markdown",
   "metadata": {},
   "source": [
    "1) сделать словарь dist где ключи index-индексы а значения - частота\n",
    "2) найти ключ-индекс с минимальной частотой\n",
    "3) node с таким индексом больше не добавляй а заверши листом"
   ]
  },
  {
   "cell_type": "code",
   "execution_count": 95,
   "metadata": {
    "colab": {},
    "colab_type": "code",
    "id": "PZMieMMrbIXV"
   },
   "outputs": [],
   "source": [
    "def random_forest(data, labels, n_trees):\n",
    "    forest = []\n",
    "    bootstrap = get_bootstrap(data, labels, n_trees)\n",
    "    \n",
    "    for b_data, b_labels in bootstrap:\n",
    "        node = Node(b_data, b_labels)\n",
    "        forest.append(node)\n",
    "    lst1 = forest  \n",
    "    while True:\n",
    "        lst2 = []\n",
    "        for node in lst1:\n",
    "            if isinstance(node,Node):            \n",
    "                node1, node2 = node.Add()\n",
    "                if isinstance(node1,Node):\n",
    "                    lst2.append(node1)\n",
    "                if isinstance(node2,Node):         \n",
    "                    lst2.append(node2)\n",
    "        if lst2 == []:\n",
    "            break\n",
    "        lst1 = lst2    \n",
    "    return forest"
   ]
  },
  {
   "cell_type": "code",
   "execution_count": 96,
   "metadata": {
    "colab": {},
    "colab_type": "code",
    "id": "tWNbZTz4bIXX"
   },
   "outputs": [],
   "source": [
    "# Функция классификации отдельного объекта\n",
    "\n",
    "def classify_object(obj, node):\n",
    "\n",
    "    #  Останавливаем рекурсию, если достигли листа\n",
    "    if isinstance(node, Leaf):\n",
    "        answer = node.prediction\n",
    "        return answer\n",
    "    if obj[node.index] <= node.t:\n",
    "        return classify_object(obj, node.true_branch)\n",
    "    else:\n",
    "        return classify_object(obj, node.false_branch)"
   ]
  },
  {
   "cell_type": "code",
   "execution_count": 97,
   "metadata": {
    "colab": {},
    "colab_type": "code",
    "id": "rWOM8g_YbIXZ"
   },
   "outputs": [],
   "source": [
    "# функция формирования предсказания по выборке на одном дереве\n",
    "\n",
    "def predict(data, tree):\n",
    "    \n",
    "    classes = []\n",
    "    for obj in data:\n",
    "        prediction = classify_object(obj, tree)\n",
    "        classes.append(prediction)\n",
    "    return classes"
   ]
  },
  {
   "cell_type": "code",
   "execution_count": 98,
   "metadata": {
    "colab": {},
    "colab_type": "code",
    "id": "ZtIgR7R-bIXc"
   },
   "outputs": [],
   "source": [
    "# предсказание голосованием деревьев\n",
    "\n",
    "def tree_vote(forest, data):\n",
    "\n",
    "    # добавим предсказания всех деревьев в список\n",
    "    predictions = []\n",
    "    for tree in forest:\n",
    "        predictions.append(predict(data, tree))\n",
    "    \n",
    "    # сформируем список с предсказаниями для каждого объекта\n",
    "    predictions_per_object = list(zip(*predictions))\n",
    "    \n",
    "    # выберем в качестве итогового предсказания для каждого объекта то,\n",
    "    # за которое проголосовало большинство деревьев\n",
    "    voted_predictions = []\n",
    "    for obj in predictions_per_object:\n",
    "        voted_predictions.append(max(set(obj), key=obj.count))\n",
    "        \n",
    "    return voted_predictions"
   ]
  },
  {
   "cell_type": "code",
   "execution_count": 99,
   "metadata": {
    "colab": {},
    "colab_type": "code",
    "id": "Ie9t9IyAbIXh"
   },
   "outputs": [],
   "source": [
    "# Разобьем выборку на обучающую и тестовую\n",
    "\n",
    "from sklearn import model_selection\n",
    "\n",
    "train_data, test_data, train_labels, test_labels = model_selection.train_test_split(classification_data, \n",
    "                                                                                     classification_labels, \n",
    "                                                                                     test_size = 0.3,\n",
    "                                                                                     random_state = 1)"
   ]
  },
  {
   "cell_type": "code",
   "execution_count": 100,
   "metadata": {
    "colab": {},
    "colab_type": "code",
    "id": "z4apOFB9bIXk"
   },
   "outputs": [],
   "source": [
    "# Введем функцию подсчета точности как доли правильных ответов\n",
    "\n",
    "def accuracy_metric(actual, predicted):\n",
    "    correct = 0\n",
    "    for i in range(len(actual)):\n",
    "        if actual[i] == predicted[i]:\n",
    "            correct += 1\n",
    "    return correct / float(len(actual)) * 100.0"
   ]
  },
  {
   "cell_type": "markdown",
   "metadata": {
    "colab_type": "text",
    "id": "x7ZzmLcNbIXn"
   },
   "source": [
    "Теперь построим несколько случайных лесов с разным количеством деревьев в них."
   ]
  },
  {
   "cell_type": "markdown",
   "metadata": {
    "colab_type": "text",
    "id": "Dcd1Jw6HbIXo"
   },
   "source": [
    "Построим лес из одного дерева"
   ]
  },
  {
   "cell_type": "code",
   "execution_count": 101,
   "metadata": {
    "colab": {},
    "colab_type": "code",
    "id": "ie4loVA2bIXp"
   },
   "outputs": [
    {
     "name": "stdout",
     "output_type": "stream",
     "text": [
      "q= 0.10137486573576798\n",
      "q= 0\n",
      "q= 0.19806094182825484\n",
      "q= 0.3333333333333333\n",
      "q= 0\n",
      "q= 0\n",
      "q= 0.15277777777777787\n",
      "q= 0\n",
      "q= 0\n",
      "<__main__.Leaf object at 0x0000004892EE8668>\n",
      "<__main__.Node object at 0x0000004893D26668>\n"
     ]
    }
   ],
   "source": [
    "n_trees = 1\n",
    "my_forest_1 = random_forest(train_data, train_labels, n_trees)\n",
    "for node in my_forest_1:\n",
    "    print(node.true_branch)\n",
    "    print(node.false_branch)"
   ]
  },
  {
   "cell_type": "code",
   "execution_count": 102,
   "metadata": {
    "colab": {},
    "colab_type": "code",
    "id": "jlpOoeyNbIXr"
   },
   "outputs": [],
   "source": [
    "# Получим ответы для обучающей выборки \n",
    "train_answers = tree_vote(my_forest_1, train_data)"
   ]
  },
  {
   "cell_type": "code",
   "execution_count": 103,
   "metadata": {
    "colab": {},
    "colab_type": "code",
    "id": "Dh7KkPTUbIXt"
   },
   "outputs": [],
   "source": [
    "# И получим ответы для тестовой выборки\n",
    "test_answers = tree_vote(my_forest_1, test_data)"
   ]
  },
  {
   "cell_type": "code",
   "execution_count": 104,
   "metadata": {
    "colab": {},
    "colab_type": "code",
    "id": "2AVq8YUqbIXv",
    "outputId": "05c72cf5-663e-472d-c2cf-3a4340a8ccbc"
   },
   "outputs": [
    {
     "name": "stdout",
     "output_type": "stream",
     "text": [
      "Точность случайного леса из 1 деревьев на обучающей выборке: 97.143\n"
     ]
    }
   ],
   "source": [
    "# Точность на обучающей выборке\n",
    "train_accuracy = accuracy_metric(train_labels, train_answers)\n",
    "print(f'Точность случайного леса из {n_trees} деревьев на обучающей выборке: {train_accuracy:.3f}')"
   ]
  },
  {
   "cell_type": "code",
   "execution_count": 105,
   "metadata": {
    "colab": {},
    "colab_type": "code",
    "id": "iBAqB3C_bIXz",
    "outputId": "5d1ae505-59a4-4a4b-8fde-00055e015b63"
   },
   "outputs": [
    {
     "name": "stdout",
     "output_type": "stream",
     "text": [
      "Точность случайного леса из 1 деревьев на тестовой выборке: 76.667\n"
     ]
    }
   ],
   "source": [
    "# Точность на тестовой выборке\n",
    "test_accuracy = accuracy_metric(test_labels, test_answers)\n",
    "print(f'Точность случайного леса из {n_trees} деревьев на тестовой выборке: {test_accuracy:.3f}')"
   ]
  },
  {
   "cell_type": "code",
   "execution_count": 106,
   "metadata": {},
   "outputs": [
    {
     "data": {
      "text/plain": [
       "Text(0.5, 1.0, 'Test accuracy=76.67')"
      ]
     },
     "execution_count": 106,
     "metadata": {},
     "output_type": "execute_result"
    },
    {
     "data": {
      "image/png": "[encoded data removed]",
      "text/plain": [
       "<Figure size 1152x504 with 2 Axes>"
      ]
     },
     "metadata": {
      "needs_background": "light"
     },
     "output_type": "display_data"
    }
   ],
   "source": [
    "# Визуализируем дерево на графике\n",
    "\n",
    "def get_meshgrid(data, step=.05, border=1.2):\n",
    "    x_min, x_max = data[:, 0].min() - border, data[:, 0].max() + border\n",
    "    y_min, y_max = data[:, 1].min() - border, data[:, 1].max() + border\n",
    "    return np.meshgrid(np.arange(x_min, x_max, step), np.arange(y_min, y_max, step))\n",
    "\n",
    "plt.figure(figsize = (16, 7))\n",
    "\n",
    "# график обучающей выборки\n",
    "plt.subplot(1,2,1)\n",
    "xx, yy = get_meshgrid(train_data)\n",
    "mesh_predictions = np.array(tree_vote(my_forest_1,np.c_[xx.ravel(), yy.ravel()])).reshape(xx.shape)\n",
    "plt.pcolormesh(xx, yy, mesh_predictions, cmap = light_colors)\n",
    "plt.scatter(train_data[:, 0], train_data[:, 1], c = train_labels, cmap = colors)\n",
    "plt.title(f'Train accuracy={train_accuracy:.2f}')\n",
    "\n",
    "# график тестовой выборки\n",
    "plt.subplot(1,2,2)\n",
    "plt.pcolormesh(xx, yy, mesh_predictions, cmap = light_colors)\n",
    "plt.scatter(test_data[:, 0], test_data[:, 1], c = test_labels, cmap = colors)\n",
    "plt.title(f'Test accuracy={test_accuracy:.2f}')"
   ]
  },
  {
   "cell_type": "markdown",
   "metadata": {
    "colab_type": "text",
    "id": "HHSLxUfXbIX1"
   },
   "source": [
    "Построим лес из трех деревьев"
   ]
  },
  {
   "cell_type": "code",
   "execution_count": 107,
   "metadata": {
    "colab": {},
    "colab_type": "code",
    "id": "JEfTGC08bIX2"
   },
   "outputs": [
    {
     "name": "stdout",
     "output_type": "stream",
     "text": [
      "q= 0.0675\n",
      "q= 0.35797692990239566\n",
      "q= 0.1274400286430361\n",
      "q= 0.368671875\n",
      "q= 0\n",
      "q= 0\n",
      "q= 0.012602394454946514\n",
      "q= 0.33053047291274446\n",
      "q= 0\n",
      "q= 0\n",
      "q= 0.05120000000000005\n",
      "q= 0.1604444444444444\n",
      "q= 0\n",
      "q= 0.00789115646258507\n",
      "q= 0.044628099173553704\n",
      "q= 0.4444444444444444\n",
      "q= 0\n",
      "q= 0.0040727272727272695\n",
      "q= 0.05333333333333318\n",
      "q= 0\n",
      "q= 0.2777777777777777\n",
      "q= 0.42000000000000004\n",
      "q= 0\n",
      "q= 0\n",
      "q= 0\n",
      "q= 0\n",
      "q= 0.1652892561983472\n",
      "q= 0\n",
      "q= 0.4444444444444444\n",
      "q= 0\n",
      "q= 0\n",
      "q= 0\n",
      "q= 0\n",
      "q= 0\n",
      "q= 0\n",
      "q= 0\n",
      "q= 0\n"
     ]
    }
   ],
   "source": [
    "n_trees = 3\n",
    "my_forest_3 = random_forest(train_data, train_labels, n_trees)"
   ]
  },
  {
   "cell_type": "code",
   "execution_count": 108,
   "metadata": {
    "colab": {},
    "colab_type": "code",
    "id": "S7k6rZW6bIX4"
   },
   "outputs": [],
   "source": [
    "# Получим ответы для обучающей выборки \n",
    "train_answers = tree_vote(my_forest_3, train_data)"
   ]
  },
  {
   "cell_type": "code",
   "execution_count": 109,
   "metadata": {
    "colab": {},
    "colab_type": "code",
    "id": "TvROZSabbIX6"
   },
   "outputs": [],
   "source": [
    "# И получим ответы для тестовой выборки\n",
    "test_answers = tree_vote(my_forest_3, test_data)"
   ]
  },
  {
   "cell_type": "code",
   "execution_count": 110,
   "metadata": {
    "colab": {},
    "colab_type": "code",
    "id": "m3H-p2RhbIX8",
    "outputId": "fbd24464-6ef1-4e05-c360-f25515784130"
   },
   "outputs": [
    {
     "name": "stdout",
     "output_type": "stream",
     "text": [
      "Точность случайного леса из 3 деревьев на обучающей выборке: 98.571\n"
     ]
    }
   ],
   "source": [
    "# Точность на обучающей выборке\n",
    "train_accuracy = accuracy_metric(train_labels, train_answers)\n",
    "print(f'Точность случайного леса из {n_trees} деревьев на обучающей выборке: {train_accuracy:.3f}')"
   ]
  },
  {
   "cell_type": "code",
   "execution_count": 111,
   "metadata": {
    "colab": {},
    "colab_type": "code",
    "id": "OD1moauCbIX-",
    "outputId": "922a2181-22bb-4757-be27-3ec58e07ef3f"
   },
   "outputs": [
    {
     "name": "stdout",
     "output_type": "stream",
     "text": [
      "Точность случайного леса из 3 деревьев на тестовой выборке: 83.333\n"
     ]
    }
   ],
   "source": [
    "# Точность на тестовой выборке\n",
    "test_accuracy = accuracy_metric(test_labels, test_answers)\n",
    "print(f'Точность случайного леса из {n_trees} деревьев на тестовой выборке: {test_accuracy:.3f}')"
   ]
  },
  {
   "cell_type": "code",
   "execution_count": 112,
   "metadata": {},
   "outputs": [
    {
     "data": {
      "text/plain": [
       "Text(0.5, 1.0, 'Test accuracy=83.33')"
      ]
     },
     "execution_count": 112,
     "metadata": {},
     "output_type": "execute_result"
    },
    {
     "data": {
      "image/png": "[encoded data removed]",
      "text/plain": [
       "<Figure size 1152x504 with 2 Axes>"
      ]
     },
     "metadata": {
      "needs_background": "light"
     },
     "output_type": "display_data"
    }
   ],
   "source": [
    "plt.figure(figsize = (16, 7))\n",
    "\n",
    "# график обучающей выборки\n",
    "plt.subplot(1,2,1)\n",
    "xx, yy = get_meshgrid(train_data)\n",
    "mesh_predictions = np.array(tree_vote(my_forest_3,np.c_[xx.ravel(), yy.ravel()])).reshape(xx.shape)\n",
    "plt.pcolormesh(xx, yy, mesh_predictions, cmap = light_colors)\n",
    "plt.scatter(train_data[:, 0], train_data[:, 1], c = train_labels, cmap = colors)\n",
    "plt.title(f'Train accuracy={train_accuracy:.2f}')\n",
    "\n",
    "# график тестовой выборки\n",
    "plt.subplot(1,2,2)\n",
    "plt.pcolormesh(xx, yy, mesh_predictions, cmap = light_colors)\n",
    "plt.scatter(test_data[:, 0], test_data[:, 1], c = test_labels, cmap = colors)\n",
    "plt.title(f'Test accuracy={test_accuracy:.2f}')"
   ]
  },
  {
   "cell_type": "markdown",
   "metadata": {
    "colab_type": "text",
    "id": "CfcvqNmabIYA"
   },
   "source": [
    "Построим лес из десяти деревьев"
   ]
  },
  {
   "cell_type": "code",
   "execution_count": 113,
   "metadata": {
    "colab": {},
    "colab_type": "code",
    "id": "J4W9ZyefbIYB"
   },
   "outputs": [
    {
     "name": "stdout",
     "output_type": "stream",
     "text": [
      "q= 0.06292875044754753\n",
      "q= 0.4454564983888292\n",
      "q= 0.07863945578231296\n",
      "q= 0.10417848495330334\n",
      "q= 0.09196340605207604\n",
      "q= 0.11574541681079203\n",
      "q= 0.07828857858933036\n",
      "q= 0.4686209029066173\n",
      "q= 0.44562358276644\n",
      "q= 0.16074211502782937\n",
      "q= 0.40017743015950596\n",
      "q= 0\n",
      "q= 0\n",
      "q= 0.020775623268698196\n",
      "q= 0\n",
      "q= 0.11333333333333334\n",
      "q= 0\n",
      "q= 0.3781901752370008\n",
      "q= 0\n",
      "q= 0.42663055445457343\n",
      "q= 0\n",
      "q= 0.17834424778242236\n",
      "q= 0\n",
      "q= 0.4659683085511724\n",
      "q= 0\n",
      "q= 0.013314967860422307\n",
      "q= 0\n",
      "q= 0.0049382716049383435\n",
      "q= 0.21215794306703398\n",
      "q= 0\n",
      "q= 0\n",
      "q= 0.022244191794364876\n",
      "q= 0.07500000000000001\n",
      "q= 0\n",
      "q= 0.08408408408408408\n",
      "q= 0\n",
      "q= 0\n",
      "q= 0.0550095238095238\n",
      "q= 0\n",
      "q= 0.02902606310013711\n",
      "q= 0.019684105981482097\n",
      "q= 0\n",
      "q= 0\n",
      "q= 0.014863258026159211\n",
      "q= 0.375\n",
      "q= 0\n",
      "q= 0.08526315789473667\n",
      "q= 0\n",
      "q= 0\n",
      "q= 0.05530864197530869\n",
      "q= 0.20578231292517005\n",
      "q= 0\n",
      "q= 0.48\n",
      "q= 0\n",
      "q= 0.3999846218907386\n",
      "q= 0\n",
      "q= 0.5\n",
      "q= 0.09070294784580506\n",
      "q= 0.5\n",
      "q= 0.0034666666666666457\n",
      "q= 0.32000000000000006\n",
      "q= 0.2603550295857988\n",
      "q= 0.375\n",
      "q= 0\n",
      "q= 0\n",
      "q= 0\n",
      "q= 0.006155740227762496\n",
      "q= 0\n",
      "q= 0\n",
      "q= 0.4444444444444444\n",
      "q= 0.019444444444444597\n",
      "q= 0\n",
      "q= 0\n",
      "q= 0\n",
      "q= 0\n",
      "q= 0.02462296091104954\n",
      "q= 0\n",
      "q= 0\n",
      "q= 0\n",
      "q= 0\n",
      "q= 0\n",
      "q= 0\n",
      "q= 0.04166666666666677\n",
      "q= 0\n",
      "q= 0\n",
      "q= 0.31999999999999984\n",
      "q= 0\n",
      "q= 0\n",
      "q= 0\n",
      "q= 0\n",
      "q= 0.03086419753086425\n",
      "q= 0\n",
      "q= 0\n",
      "q= 0\n",
      "q= 0.31999999999999984\n",
      "q= 0\n",
      "q= 0.15123456790123457\n",
      "q= 0\n",
      "q= 0.4444444444444444\n",
      "q= 0\n",
      "q= 0\n",
      "q= 0\n",
      "q= 0.375\n",
      "q= 0\n",
      "q= 0\n",
      "q= 0\n",
      "q= 0.21875\n",
      "q= 0\n",
      "q= 0\n",
      "q= 0\n",
      "q= 0\n",
      "q= 0\n",
      "q= 0\n",
      "q= 0\n"
     ]
    }
   ],
   "source": [
    "n_trees = 10\n",
    "my_forest_10 = random_forest(train_data, train_labels, n_trees)"
   ]
  },
  {
   "cell_type": "code",
   "execution_count": 114,
   "metadata": {
    "colab": {},
    "colab_type": "code",
    "id": "Z_aF8gd-bIYC"
   },
   "outputs": [],
   "source": [
    "# Получим ответы для обучающей выборки \n",
    "train_answers = tree_vote(my_forest_10, train_data)"
   ]
  },
  {
   "cell_type": "code",
   "execution_count": 115,
   "metadata": {
    "colab": {},
    "colab_type": "code",
    "id": "5D5_gy33bIYG"
   },
   "outputs": [],
   "source": [
    "# И получим ответы для тестовой выборки\n",
    "test_answers = tree_vote(my_forest_10, test_data)"
   ]
  },
  {
   "cell_type": "code",
   "execution_count": 116,
   "metadata": {
    "colab": {},
    "colab_type": "code",
    "id": "7Fsqi2OdbIYI",
    "outputId": "fa2f8920-5937-4e31-835d-a1791391649a"
   },
   "outputs": [
    {
     "name": "stdout",
     "output_type": "stream",
     "text": [
      "Точность случайного леса из 10 деревьев на обучающей выборке: 97.143\n"
     ]
    }
   ],
   "source": [
    "# Точность на обучающей выборке\n",
    "train_accuracy = accuracy_metric(train_labels, train_answers)\n",
    "print(f'Точность случайного леса из {n_trees} деревьев на обучающей выборке: {train_accuracy:.3f}')"
   ]
  },
  {
   "cell_type": "code",
   "execution_count": 117,
   "metadata": {
    "colab": {},
    "colab_type": "code",
    "id": "KHKepYGPbIYK",
    "outputId": "b14b65a0-1b54-42bf-8533-a45f60ce526b"
   },
   "outputs": [
    {
     "name": "stdout",
     "output_type": "stream",
     "text": [
      "Точность случайного леса из 10 деревьев на тестовой выборке: 83.333\n"
     ]
    }
   ],
   "source": [
    "# Точность на тестовой выборке\n",
    "test_accuracy = accuracy_metric(test_labels, test_answers)\n",
    "print(f'Точность случайного леса из {n_trees} деревьев на тестовой выборке: {test_accuracy:.3f}')"
   ]
  },
  {
   "cell_type": "code",
   "execution_count": 118,
   "metadata": {},
   "outputs": [
    {
     "data": {
      "text/plain": [
       "Text(0.5, 1.0, 'Test accuracy=83.33')"
      ]
     },
     "execution_count": 118,
     "metadata": {},
     "output_type": "execute_result"
    },
    {
     "data": {
      "image/png": "[encoded data removed]",
      "text/plain": [
       "<Figure size 1152x504 with 2 Axes>"
      ]
     },
     "metadata": {
      "needs_background": "light"
     },
     "output_type": "display_data"
    }
   ],
   "source": [
    "plt.figure(figsize = (16, 7))\n",
    "\n",
    "# график обучающей выборки\n",
    "plt.subplot(1,2,1)\n",
    "xx, yy = get_meshgrid(train_data)\n",
    "mesh_predictions = np.array(tree_vote(my_forest_10,np.c_[xx.ravel(), yy.ravel()])).reshape(xx.shape)\n",
    "plt.pcolormesh(xx, yy, mesh_predictions, cmap = light_colors)\n",
    "plt.scatter(train_data[:, 0], train_data[:, 1], c = train_labels, cmap = colors)\n",
    "plt.title(f'Train accuracy={train_accuracy:.2f}')\n",
    "\n",
    "# график тестовой выборки\n",
    "plt.subplot(1,2,2)\n",
    "plt.pcolormesh(xx, yy, mesh_predictions, cmap = light_colors)\n",
    "plt.scatter(test_data[:, 0], test_data[:, 1], c = test_labels, cmap = colors)\n",
    "plt.title(f'Test accuracy={test_accuracy:.2f}')"
   ]
  },
  {
   "cell_type": "markdown",
   "metadata": {
    "colab_type": "text",
    "id": "Fa3cUkrLbIYP"
   },
   "source": [
    "Построим лес из пятидесяти деревьев"
   ]
  },
  {
   "cell_type": "code",
   "execution_count": 119,
   "metadata": {
    "colab": {},
    "colab_type": "code",
    "id": "DNvHGqmLbIYQ"
   },
   "outputs": [
    {
     "name": "stdout",
     "output_type": "stream",
     "text": [
      "q= 0.4179591836734694\n",
      "q= 0.41979591836734687\n",
      "q= 0.4656122448979591\n",
      "q= 0.09159585145533627\n",
      "q= 0.493469387755102\n",
      "q= 0.39743589743589747\n",
      "q= 0.06848841231407832\n",
      "q= 0.37008068343616524\n",
      "q= 0.4520930232558139\n",
      "q= 0.0885319289005923\n",
      "q= 0.4397897340754483\n",
      "q= 0.4705477980665951\n",
      "q= 0.07256235827664398\n",
      "q= 0.06965986394557838\n",
      "q= 0.4706362545018007\n",
      "q= 0.4148476491333635\n",
      "q= 0.11574541681079203\n",
      "q= 0.09762139338494014\n",
      "q= 0.4686209029066173\n",
      "q= 0.4420408163265307\n",
      "q= 0.41908163265306125\n",
      "q= 0.44415489272632125\n",
      "q= 0.4179591836734694\n",
      "q= 0.21489795918367344\n",
      "q= 0.07863945578231313\n",
      "q= 0.1069758812615954\n",
      "q= 0.11010396611474765\n",
      "q= 0.08287097890003453\n",
      "q= 0.16559423769507808\n",
      "q= 0.442545018007203\n",
      "q= 0.4153181272509003\n",
      "q= 0.08115411681914131\n",
      "q= 0.08853192890059242\n",
      "q= 0.13675213675213677\n",
      "q= 0.10137486573576798\n",
      "q= 0.14894378804153247\n",
      "q= 0.4420408163265307\n",
      "q= 0.43978973407544836\n",
      "q= 0.103448275862069\n",
      "q= 0.0918367346938776\n",
      "q= 0.08115411681914125\n",
      "q= 0.07600281491907118\n",
      "q= 0.08287097890003453\n",
      "q= 0.34489795918367344\n",
      "q= 0.10944405348346253\n",
      "q= 0.4619213539074166\n",
      "q= 0.4153181272509002\n",
      "q= 0.3526530612244899\n",
      "q= 0.1274400286430361\n",
      "q= 0.08115411681914131\n",
      "q= 0.04917166866746708\n",
      "q= 0\n",
      "q= 0\n",
      "q= 0.019444444444444653\n",
      "q= 0\n",
      "q= 0.015416666666666724\n",
      "q= 0\n",
      "q= 0.08918423688646748\n",
      "q= 0\n",
      "q= 0\n",
      "q= 0.13423186500109566\n",
      "q= 0\n",
      "q= 0.11850043091065776\n",
      "q= 0\n",
      "q= 0\n",
      "q= 0.04563277447268793\n",
      "q= 0\n",
      "q= 0.0012439156300703552\n",
      "q= 0.1295718194781671\n",
      "q= 0\n",
      "q= 0\n",
      "q= 0.011301829483647594\n",
      "q= 0\n",
      "q= 0.016158818097876164\n",
      "q= 0.10078105316200558\n",
      "q= 0\n",
      "q= 0.11377777777777764\n",
      "q= 0\n",
      "q= 0.01787773933102657\n",
      "q= 0\n",
      "q= 0.016557097638178656\n",
      "q= 0.0078053259871440905\n",
      "q= 0.11763860959494399\n",
      "q= 0\n",
      "q= 0.09433214427269138\n",
      "q= 0\n",
      "q= 0\n",
      "q= 0.0042240587695132475\n",
      "q= 0\n",
      "q= 0.0021428571428571963\n",
      "q= 0\n",
      "q= 0.030178571428571353\n",
      "q= 0\n",
      "q= 0.021767329459637275\n",
      "q= 0\n",
      "q= 0.04959183673469396\n",
      "q= 0\n",
      "q= 0.17500000000000004\n",
      "q= 0.42670688788335837\n",
      "q= 0\n",
      "q= 0\n",
      "q= 0.389840220385675\n",
      "q= 0.45932360270558914\n",
      "q= 0\n",
      "q= 0.3277075553002011\n",
      "q= 0\n",
      "q= 0.4567474048442906\n",
      "q= 0\n",
      "q= 0\n",
      "q= 0.004284066567803599\n",
      "q= 0\n",
      "q= 0.025153047644397214\n",
      "q= 0\n",
      "q= 0.3774883970695409\n",
      "q= 0.11131397218806172\n",
      "q= 0\n",
      "q= 0.10493827160493831\n",
      "q= 0.3834319526627219\n",
      "q= 0.09385041551246537\n",
      "q= 0\n",
      "q= 0\n",
      "q= 0.13788858110187768\n",
      "q= 0\n",
      "q= 0.009285714285714286\n",
      "q= 0\n",
      "q= 0.0036730945821853433\n",
      "q= 0\n",
      "q= 0.44555093143083635\n",
      "q= 0.46305744520030223\n",
      "q= 0\n",
      "q= 0.09759948731411278\n",
      "q= 0\n",
      "q= 0.43282090481852675\n",
      "q= 0\n",
      "q= 0.11262280953748932\n",
      "q= 0\n",
      "q= 0\n",
      "q= 0.03431966726084369\n",
      "q= 0\n",
      "q= 0.20100294680246084\n",
      "q= 0\n",
      "q= 0.002062264525084387\n",
      "q= 0\n",
      "q= 0.04521337946943488\n",
      "q= 0\n",
      "q= 0.03459213597462439\n",
      "q= 0\n",
      "q= 0.39172892358487926\n",
      "q= 0\n",
      "q= 0.43341260404280624\n",
      "q= 0.03229527104959626\n",
      "q= 0\n",
      "q= 0\n",
      "q= 0.31999999999999984\n",
      "q= 0.11111111111111116\n",
      "q= 0\n",
      "q= 0.378337384540593\n",
      "q= 0\n",
      "q= 0.009567901234568015\n",
      "q= 0\n",
      "q= 0\n",
      "q= 0.4292763157894736\n",
      "q= 0.1350446428571428\n",
      "q= 0\n",
      "q= 0.00500000000000006\n",
      "q= 0\n",
      "q= 0\n",
      "q= 0.331177738585146\n",
      "q= 0.2603550295857988\n",
      "q= 0\n",
      "q= 0.4444444444444445\n",
      "q= 0\n",
      "q= 0\n",
      "q= 0.34467120181405897\n",
      "q= 0\n",
      "q= 0.46080000000000004\n",
      "q= 0\n",
      "q= 0.4444444444444445\n",
      "q= 0\n",
      "q= 0.4444444444444445\n",
      "q= 0.02430555555555558\n",
      "q= 0\n",
      "q= 0\n",
      "q= 0.375\n",
      "q= 0\n",
      "q= 0.03846153846153844\n",
      "q= 0\n",
      "q= 0.020000000000000018\n",
      "q= 0.06386999244142084\n",
      "q= 0\n",
      "q= 0.21333333333333332\n",
      "q= 0.0024489795918367432\n",
      "q= 0.5\n",
      "q= 0.001917457998538992\n",
      "q= 0.46875\n",
      "q= 0\n",
      "q= 0.017777777777777753\n",
      "q= 0\n",
      "q= 0.05709342560553639\n",
      "q= 0.006656804733727803\n",
      "q= 0.020000000000000052\n",
      "q= 0.05119999999999997\n",
      "q= 0\n",
      "q= 0.0034666666666666457\n",
      "q= 0\n",
      "q= 0.04218749999999999\n",
      "q= 0\n",
      "q= 0\n",
      "q= 0.016491445062873644\n",
      "q= 0\n",
      "q= 0.06656804733727806\n",
      "q= 0\n",
      "q= 0\n",
      "q= 0.031217481789802326\n",
      "q= 0\n",
      "q= 0.3158677685950414\n",
      "q= 0\n",
      "q= 0\n",
      "q= 0\n",
      "q= 0.029999999999999916\n",
      "q= 0\n",
      "q= 0.03152727272727274\n",
      "q= 0.0252631578947366\n",
      "q= 0\n",
      "q= 0.24489795918367355\n",
      "q= 0\n",
      "q= 0\n",
      "q= 0.07870916961826055\n",
      "q= 0\n",
      "q= 0.03819444444444433\n",
      "q= 0\n",
      "q= 0.034293552812071484\n",
      "q= 0.24489795918367355\n",
      "q= 0.04203750794659894\n",
      "q= 0.020000000000000046\n",
      "q= 0.002943485086342207\n",
      "q= 0\n",
      "q= 0.025688888888888817\n",
      "q= 0.4628099173553719\n",
      "q= 0.007785467128027662\n",
      "q= 0.2399302021230187\n",
      "q= 0\n",
      "q= 0.12444444444444439\n",
      "q= 0\n",
      "q= 0.5\n",
      "q= 0.005185185185185216\n",
      "q= 0.4628099173553719\n",
      "q= 0.04328824141519266\n",
      "q= 0\n",
      "q= 0.023875114784205786\n",
      "q= 0\n",
      "q= 0.010487514863258024\n",
      "q= 0\n",
      "q= 0.17777777777777792\n",
      "q= 0\n",
      "q= 0\n",
      "q= 0.5\n",
      "q= 0\n",
      "q= 0\n",
      "q= 0.016608996539792406\n",
      "q= 0\n",
      "q= 0.31999999999999984\n",
      "q= 0\n",
      "q= 0.09972299168975082\n",
      "q= 0.06887755102040821\n",
      "q= 0\n",
      "q= 0.17999999999999994\n",
      "q= 0\n",
      "q= 0\n",
      "q= 0.01836734693877555\n",
      "q= 0\n",
      "q= 0\n",
      "q= 0\n",
      "q= 0\n",
      "q= 0\n",
      "q= 0.03086419753086425\n",
      "q= 0\n",
      "q= 0\n",
      "q= 0\n",
      "q= 0\n",
      "q= 0\n",
      "q= 0\n",
      "q= 0\n",
      "q= 0.345679012345679\n",
      "q= 0\n",
      "q= 0\n",
      "q= 0.05796625027394242\n",
      "q= 0.15277777777777787\n",
      "q= 0.31999999999999984\n",
      "q= 0\n",
      "q= 0.003429355281207247\n",
      "q= 0\n",
      "q= 0.4444444444444445\n",
      "q= 0\n",
      "q= 0.13265306122448978\n",
      "q= 0\n",
      "q= 0\n",
      "q= 0\n",
      "q= 0.010044642857142821\n",
      "q= 0\n",
      "q= 0\n",
      "q= 0\n",
      "q= 0.48\n",
      "q= 0.17999999999999994\n",
      "q= 0\n",
      "q= 0\n",
      "q= 0.03125\n",
      "q= 0\n",
      "q= 0\n",
      "q= 0.4444444444444444\n",
      "q= 0.48\n",
      "q= 0\n",
      "q= 0.15277777777777787\n",
      "q= 0\n",
      "q= 0\n",
      "q= 0.17294117647058826\n",
      "q= 0.17630853994490348\n",
      "q= 0\n",
      "q= 0.46875\n",
      "q= 0\n",
      "q= 0.2596153846153847\n",
      "q= 0\n",
      "q= 0\n",
      "q= 0.04017857142857145\n",
      "q= 0.375\n",
      "q= 0\n",
      "q= 0.05637451065680721\n",
      "q= 0\n",
      "q= 0.06759933890453695\n",
      "q= 0\n",
      "q= 0\n",
      "q= 0\n",
      "q= 0\n",
      "q= 0.007369614512471728\n",
      "q= 0.5\n",
      "q= 0\n",
      "q= 0.5\n",
      "q= 0\n",
      "q= 0\n",
      "q= 0\n",
      "q= 0.42603550295858\n",
      "q= 0.2777777777777777\n",
      "q= 0\n",
      "q= 0.4444444444444445\n",
      "q= 0.0266272189349111\n",
      "q= 0\n",
      "q= 0.021111599082613675\n",
      "q= 0\n",
      "q= 0\n",
      "q= 0\n",
      "q= 0.21875\n",
      "q= 0\n",
      "q= 0\n",
      "q= 0.09861932938856022\n",
      "q= 0\n",
      "q= 0\n",
      "q= 0\n",
      "q= 0\n",
      "q= 0.03086419753086425\n",
      "q= 0\n",
      "q= 0\n",
      "q= 0\n",
      "q= 0.17999999999999994\n",
      "q= 0\n",
      "q= 0.345679012345679\n",
      "q= 0\n",
      "q= 0.375\n",
      "q= 0.03680000000000002\n",
      "q= 0\n",
      "q= 0.31999999999999984\n",
      "q= 0\n",
      "q= 0\n",
      "q= 0.31999999999999984\n",
      "q= 0\n",
      "q= 0\n",
      "q= 0\n",
      "q= 0\n",
      "q= 0\n",
      "q= 0.26041666666666674\n",
      "q= 0\n",
      "q= 0\n",
      "q= 0\n",
      "q= 0.31999999999999984\n",
      "q= 0\n",
      "q= 0.375\n",
      "q= 0\n",
      "q= 0\n",
      "q= 0\n",
      "q= 0.04206491437674248\n",
      "q= 0\n",
      "q= 0\n",
      "q= 0\n",
      "q= 0\n",
      "q= 0\n",
      "q= 0.013888888888889034\n",
      "q= 0\n",
      "q= 0\n",
      "q= 0\n",
      "q= 0\n",
      "q= 0\n",
      "q= 0.24489795918367355\n",
      "q= 0\n",
      "q= 0\n",
      "q= 0\n",
      "q= 0\n",
      "q= 0\n",
      "q= 0.375\n",
      "q= 0\n",
      "q= 0\n",
      "q= 0\n",
      "q= 0\n",
      "q= 0\n",
      "q= 0\n",
      "q= 0\n",
      "q= 0\n",
      "q= 0.04359861591695499\n",
      "q= 0\n",
      "q= 0.1111111111111111\n",
      "q= 0\n",
      "q= 0\n",
      "q= 0\n",
      "q= 0.01893491124260349\n",
      "q= 0.5\n",
      "q= 0.01836734693877555\n",
      "q= 0\n",
      "q= 0\n",
      "q= 0.20480000000000004\n",
      "q= 0.17291474299784546\n",
      "q= 0.11072664359861589\n",
      "q= 0.489795918367347\n",
      "q= 0.21875\n",
      "q= 0\n",
      "q= 0\n",
      "q= 0\n",
      "q= 0\n",
      "q= 0\n",
      "q= 0\n",
      "q= 0.1420118343195265\n",
      "q= 0\n",
      "q= 0\n",
      "q= 0\n",
      "q= 0\n",
      "q= 0.375\n",
      "q= 0\n",
      "q= 0.39669421487603307\n",
      "q= 0.1921494495718894\n",
      "q= 0\n",
      "q= 0\n",
      "q= 0.11111111111111102\n",
      "q= 0\n",
      "q= 0.375\n",
      "q= 0\n",
      "q= 0.375\n",
      "q= 0\n",
      "q= 0\n",
      "q= 0\n",
      "q= 0\n",
      "q= 0\n",
      "q= 0.5\n",
      "q= 0\n",
      "q= 0\n",
      "q= 0\n",
      "q= 0\n",
      "q= 0\n",
      "q= 0.05555555555555547\n",
      "q= 0\n",
      "q= 0\n",
      "q= 0\n",
      "q= 0\n",
      "q= 0\n",
      "q= 0.04650328321791236\n",
      "q= 0\n",
      "q= 0.2777777777777777\n",
      "q= 0\n",
      "q= 0\n",
      "q= 0\n",
      "q= 0\n",
      "q= 0\n",
      "q= 0\n",
      "q= 0.27\n",
      "q= 0.5\n",
      "q= 0\n",
      "q= 0\n",
      "q= 0.11999999999999983\n",
      "q= 0\n",
      "q= 0\n",
      "q= 0.11999999999999983\n",
      "q= 0\n",
      "q= 0\n",
      "q= 0.4444444444444444\n",
      "q= 0.1975308641975309\n",
      "q= 0.42000000000000004\n",
      "q= 0\n",
      "q= 0\n",
      "q= 0\n",
      "q= 0\n",
      "q= 0\n",
      "q= 0\n",
      "q= 0\n",
      "q= 0\n",
      "q= 0\n",
      "q= 0\n",
      "q= 0\n",
      "q= 0\n",
      "q= 0\n",
      "q= 0.09436929852154757\n",
      "q= 0.5\n",
      "q= 0\n",
      "q= 0\n",
      "q= 0\n",
      "q= 0\n",
      "q= 0\n",
      "q= 0\n",
      "q= 0\n",
      "q= 0.4444444444444444\n",
      "q= 0\n",
      "q= 0.47086801426872765\n",
      "q= 0\n",
      "q= 0\n",
      "q= 0\n",
      "q= 0.375\n",
      "q= 0\n",
      "q= 0\n",
      "q= 0\n",
      "q= 0.5\n",
      "q= 0\n",
      "q= 0.5\n",
      "q= 0\n",
      "q= 0\n",
      "q= 0\n",
      "q= 0\n",
      "q= 0\n",
      "q= 0\n",
      "q= 0\n",
      "q= 0\n",
      "q= 0.4958677685950414\n",
      "q= 0\n",
      "q= 0\n",
      "q= 0\n",
      "q= 0\n",
      "q= 0\n",
      "q= 0\n",
      "q= 0\n",
      "q= 0\n",
      "q= 0\n",
      "q= 0\n",
      "q= 0\n",
      "q= 0\n",
      "q= 0\n",
      "q= 0\n"
     ]
    }
   ],
   "source": [
    "n_trees = 50\n",
    "my_forest_50 = random_forest(train_data, train_labels, n_trees)"
   ]
  },
  {
   "cell_type": "code",
   "execution_count": 120,
   "metadata": {
    "colab": {},
    "colab_type": "code",
    "id": "SgvItR0gbIYR"
   },
   "outputs": [],
   "source": [
    "# Получим ответы для обучающей выборки \n",
    "train_answers = tree_vote(my_forest_50, train_data)"
   ]
  },
  {
   "cell_type": "code",
   "execution_count": 121,
   "metadata": {
    "colab": {},
    "colab_type": "code",
    "id": "ZlGAMHlibIYT"
   },
   "outputs": [],
   "source": [
    "# И получим ответы для тестовой выборки\n",
    "test_answers = tree_vote(my_forest_50, test_data)"
   ]
  },
  {
   "cell_type": "code",
   "execution_count": 122,
   "metadata": {
    "colab": {},
    "colab_type": "code",
    "id": "vXbLxcn7bIYV",
    "outputId": "544d9bb0-4c87-4a4f-c9b1-1b1c695b1638"
   },
   "outputs": [
    {
     "name": "stdout",
     "output_type": "stream",
     "text": [
      "Точность случайного леса из 50 деревьев на обучающей выборке: 100.000\n"
     ]
    }
   ],
   "source": [
    "# Точность на обучающей выборке\n",
    "train_accuracy = accuracy_metric(train_labels, train_answers)\n",
    "print(f'Точность случайного леса из {n_trees} деревьев на обучающей выборке: {train_accuracy:.3f}')"
   ]
  },
  {
   "cell_type": "code",
   "execution_count": 123,
   "metadata": {
    "colab": {},
    "colab_type": "code",
    "id": "yz0HSUgsbIYY",
    "outputId": "a22bef71-da34-4e06-d3c3-1448a89166a8"
   },
   "outputs": [
    {
     "name": "stdout",
     "output_type": "stream",
     "text": [
      "Точность случайного леса из 50 деревьев на тестовой выборке: 86.667\n"
     ]
    }
   ],
   "source": [
    "# Точность на тестовой выборке\n",
    "test_accuracy = accuracy_metric(test_labels, test_answers)\n",
    "print(f'Точность случайного леса из {n_trees} деревьев на тестовой выборке: {test_accuracy:.3f}')"
   ]
  },
  {
   "cell_type": "code",
   "execution_count": 124,
   "metadata": {},
   "outputs": [
    {
     "data": {
      "text/plain": [
       "Text(0.5, 1.0, 'Test accuracy=86.67')"
      ]
     },
     "execution_count": 124,
     "metadata": {},
     "output_type": "execute_result"
    },
    {
     "data": {
      "image/png": "[encoded data removed]",
      "text/plain": [
       "<Figure size 1152x504 with 2 Axes>"
      ]
     },
     "metadata": {
      "needs_background": "light"
     },
     "output_type": "display_data"
    }
   ],
   "source": [
    "# Визуализируем дерево на графике\n",
    "\n",
    "plt.figure(figsize = (16, 7))\n",
    "\n",
    "# график обучающей выборки\n",
    "plt.subplot(1,2,1)\n",
    "xx, yy = get_meshgrid(train_data)\n",
    "mesh_predictions = np.array(tree_vote(my_forest_50,np.c_[xx.ravel(), yy.ravel()])).reshape(xx.shape)\n",
    "plt.pcolormesh(xx, yy, mesh_predictions, cmap = light_colors)\n",
    "plt.scatter(train_data[:, 0], train_data[:, 1], c = train_labels, cmap = colors)\n",
    "plt.title(f'Train accuracy={train_accuracy:.2f}')\n",
    "\n",
    "# график тестовой выборки\n",
    "plt.subplot(1,2,2)\n",
    "plt.pcolormesh(xx, yy, mesh_predictions, cmap = light_colors)\n",
    "plt.scatter(test_data[:, 0], test_data[:, 1], c = test_labels, cmap = colors)\n",
    "plt.title(f'Test accuracy={test_accuracy:.2f}')"
   ]
  },
  {
   "cell_type": "markdown",
   "metadata": {
    "colab_type": "text",
    "id": "lRXJHtZRbIYe"
   },
   "source": [
    "## Домашнее задание"
   ]
  },
  {
   "cell_type": "markdown",
   "metadata": {
    "colab_type": "text",
    "id": "_CeF9eYebIYe"
   },
   "source": [
    "1. Сформировать с помощью `sklearn.make_classification` датасет из 100 объектов с двумя признаками, обучить случайный лес из 1, 3, 10 и 50 деревьев и визуализировать их разделяющие гиперплоскости на графиках (по подобию визуализации деревьев из предыдущего урока, необходимо только заменить вызов функции `predict` на `tree_vote`). Сделать выводы о получаемой сложности гиперплоскости и недообучении или переобучении случайного леса в зависимости от количества деревьев в нем.\n",
    "2. (*) Заменить в реализованном алгоритме проверку с помощью отложенной выборки на Out-of-Bag."
   ]
  }
 ],
 "metadata": {
  "colab": {
   "collapsed_sections": [
    "cCkVGRl6bIYc",
    "lRXJHtZRbIYe"
   ],
   "name": "Lesson_5.ipynb",
   "provenance": []
  },
  "kernelspec": {
   "display_name": "Python 3",
   "language": "python",
   "name": "python3"
  },
  "language_info": {
   "codemirror_mode": {
    "name": "ipython",
    "version": 3
   },
   "file_extension": ".py",
   "mimetype": "text/x-python",
   "name": "python",
   "nbconvert_exporter": "python",
   "pygments_lexer": "ipython3",
   "version": "3.7.1"
  }
 },
 "nbformat": 4,
 "nbformat_minor": 1
}
